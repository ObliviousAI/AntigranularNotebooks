{
  "cells": [
    {
      "cell_type": "code",
      "execution_count": 1,
      "metadata": {
        "colab": {
          "base_uri": "https://localhost:8080/"
        },
        "id": "JDjQbhLGpYr9",
        "outputId": "b56d4057-2fe7-4091-842e-d4d4261e068e"
      },
      "outputs": [
        {
          "output_type": "stream",
          "name": "stdout",
          "text": [
            "Collecting antigranular\n",
            "  Downloading antigranular-0.2.18-py3-none-any.whl (18 kB)\n",
            "Requirement already satisfied: ipython<8.0.0,>=7.34.0 in /usr/local/lib/python3.10/dist-packages (from antigranular) (7.34.0)\n",
            "Collecting oblv-client<0.2.0,>=0.1.15 (from antigranular)\n",
            "  Downloading oblv_client-0.1.15-cp310-cp310-manylinux_2_17_x86_64.manylinux2014_x86_64.whl (6.2 MB)\n",
            "\u001b[2K     \u001b[90m━━━━━━━━━━━━━━━━━━━━━━━━━━━━━━━━━━━━━━━━\u001b[0m \u001b[32m6.2/6.2 MB\u001b[0m \u001b[31m3.7 MB/s\u001b[0m eta \u001b[36m0:00:00\u001b[0m\n",
            "\u001b[?25hCollecting onnx<2.0.0,>=1.15.0 (from antigranular)\n",
            "  Downloading onnx-1.15.0-cp310-cp310-manylinux_2_17_x86_64.manylinux2014_x86_64.whl (15.7 MB)\n",
            "\u001b[2K     \u001b[90m━━━━━━━━━━━━━━━━━━━━━━━━━━━━━━━━━━━━━━━━\u001b[0m \u001b[32m15.7/15.7 MB\u001b[0m \u001b[31m38.9 MB/s\u001b[0m eta \u001b[36m0:00:00\u001b[0m\n",
            "\u001b[?25hRequirement already satisfied: pandas<2.0.0,>=1.5.3 in /usr/local/lib/python3.10/dist-packages (from antigranular) (1.5.3)\n",
            "Requirement already satisfied: pydantic<2.0.0,>=1.10.7 in /usr/local/lib/python3.10/dist-packages (from antigranular) (1.10.13)\n",
            "Requirement already satisfied: requests<3.0.0,>=2.31.0 in /usr/local/lib/python3.10/dist-packages (from antigranular) (2.31.0)\n",
            "Requirement already satisfied: setuptools>=18.5 in /usr/local/lib/python3.10/dist-packages (from ipython<8.0.0,>=7.34.0->antigranular) (67.7.2)\n",
            "Collecting jedi>=0.16 (from ipython<8.0.0,>=7.34.0->antigranular)\n",
            "  Downloading jedi-0.19.1-py2.py3-none-any.whl (1.6 MB)\n",
            "\u001b[2K     \u001b[90m━━━━━━━━━━━━━━━━━━━━━━━━━━━━━━━━━━━━━━━━\u001b[0m \u001b[32m1.6/1.6 MB\u001b[0m \u001b[31m40.9 MB/s\u001b[0m eta \u001b[36m0:00:00\u001b[0m\n",
            "\u001b[?25hRequirement already satisfied: decorator in /usr/local/lib/python3.10/dist-packages (from ipython<8.0.0,>=7.34.0->antigranular) (4.4.2)\n",
            "Requirement already satisfied: pickleshare in /usr/local/lib/python3.10/dist-packages (from ipython<8.0.0,>=7.34.0->antigranular) (0.7.5)\n",
            "Requirement already satisfied: traitlets>=4.2 in /usr/local/lib/python3.10/dist-packages (from ipython<8.0.0,>=7.34.0->antigranular) (5.7.1)\n",
            "Requirement already satisfied: prompt-toolkit!=3.0.0,!=3.0.1,<3.1.0,>=2.0.0 in /usr/local/lib/python3.10/dist-packages (from ipython<8.0.0,>=7.34.0->antigranular) (3.0.43)\n",
            "Requirement already satisfied: pygments in /usr/local/lib/python3.10/dist-packages (from ipython<8.0.0,>=7.34.0->antigranular) (2.16.1)\n",
            "Requirement already satisfied: backcall in /usr/local/lib/python3.10/dist-packages (from ipython<8.0.0,>=7.34.0->antigranular) (0.2.0)\n",
            "Requirement already satisfied: matplotlib-inline in /usr/local/lib/python3.10/dist-packages (from ipython<8.0.0,>=7.34.0->antigranular) (0.1.6)\n",
            "Requirement already satisfied: pexpect>4.3 in /usr/local/lib/python3.10/dist-packages (from ipython<8.0.0,>=7.34.0->antigranular) (4.9.0)\n",
            "Requirement already satisfied: urllib3 in /usr/local/lib/python3.10/dist-packages (from oblv-client<0.2.0,>=0.1.15->antigranular) (2.0.7)\n",
            "Requirement already satisfied: numpy in /usr/local/lib/python3.10/dist-packages (from onnx<2.0.0,>=1.15.0->antigranular) (1.23.5)\n",
            "Requirement already satisfied: protobuf>=3.20.2 in /usr/local/lib/python3.10/dist-packages (from onnx<2.0.0,>=1.15.0->antigranular) (3.20.3)\n",
            "Requirement already satisfied: python-dateutil>=2.8.1 in /usr/local/lib/python3.10/dist-packages (from pandas<2.0.0,>=1.5.3->antigranular) (2.8.2)\n",
            "Requirement already satisfied: pytz>=2020.1 in /usr/local/lib/python3.10/dist-packages (from pandas<2.0.0,>=1.5.3->antigranular) (2023.3.post1)\n",
            "Requirement already satisfied: typing-extensions>=4.2.0 in /usr/local/lib/python3.10/dist-packages (from pydantic<2.0.0,>=1.10.7->antigranular) (4.5.0)\n",
            "Requirement already satisfied: charset-normalizer<4,>=2 in /usr/local/lib/python3.10/dist-packages (from requests<3.0.0,>=2.31.0->antigranular) (3.3.2)\n",
            "Requirement already satisfied: idna<4,>=2.5 in /usr/local/lib/python3.10/dist-packages (from requests<3.0.0,>=2.31.0->antigranular) (3.6)\n",
            "Requirement already satisfied: certifi>=2017.4.17 in /usr/local/lib/python3.10/dist-packages (from requests<3.0.0,>=2.31.0->antigranular) (2023.11.17)\n",
            "Requirement already satisfied: parso<0.9.0,>=0.8.3 in /usr/local/lib/python3.10/dist-packages (from jedi>=0.16->ipython<8.0.0,>=7.34.0->antigranular) (0.8.3)\n",
            "Requirement already satisfied: ptyprocess>=0.5 in /usr/local/lib/python3.10/dist-packages (from pexpect>4.3->ipython<8.0.0,>=7.34.0->antigranular) (0.7.0)\n",
            "Requirement already satisfied: wcwidth in /usr/local/lib/python3.10/dist-packages (from prompt-toolkit!=3.0.0,!=3.0.1,<3.1.0,>=2.0.0->ipython<8.0.0,>=7.34.0->antigranular) (0.2.13)\n",
            "Requirement already satisfied: six>=1.5 in /usr/local/lib/python3.10/dist-packages (from python-dateutil>=2.8.1->pandas<2.0.0,>=1.5.3->antigranular) (1.16.0)\n",
            "Installing collected packages: onnx, oblv-client, jedi, antigranular\n",
            "Successfully installed antigranular-0.2.18 jedi-0.19.1 oblv-client-0.1.15 onnx-1.15.0\n"
          ]
        }
      ],
      "source": [
        "!pip3 install antigranular"
      ]
    },
    {
      "cell_type": "code",
      "execution_count": 4,
      "metadata": {
        "colab": {
          "base_uri": "https://localhost:8080/",
          "height": 138
        },
        "id": "3r69ibmtQ2lR",
        "outputId": "cd3f02c2-2c8a-45d4-a34e-5c10ebfb8832"
      },
      "outputs": [
        {
          "output_type": "display_data",
          "data": {
            "text/plain": [
              "<IPython.core.display.HTML object>"
            ],
            "text/html": []
          },
          "metadata": {}
        },
        {
          "output_type": "stream",
          "name": "stdout",
          "text": [
            "Dataset \"Flight Company Dataset\" loaded to the kernel as \u001b[92mflight_company_dataset\u001b[0m\n",
            "\n",
            "Dataset \"Health Organisation Dataset\" loaded to the kernel as \u001b[92mhealth_organisation_dataset\u001b[0m\n",
            "\n",
            "Connected to Antigranular server session id: f3fc53d9-ead4-4119-a2b4-f2c11266d6ea, the session will time out if idle for 25 minutes\n",
            "Cell magic '%%ag' registered successfully, use `%%ag` in a notebook cell to execute your python code on Antigranular private python server\n",
            "🚀 Everything's set up and ready to roll!\n"
          ]
        }
      ],
      "source": [
        "#Setting up the session\n",
        "import antigranular as ag\n",
        "session = ag.login(<client_id>,<client_secret>, competition = \"Harvard OpenDP Hackathon\")"
      ]
    },
    {
      "cell_type": "code",
      "execution_count": null,
      "metadata": {
        "id": "AvVzWnVnrS2E"
      },
      "outputs": [],
      "source": [
        "%%ag\n",
        "from op_pandas import PrivateSeries , PrivateDataFrame\n",
        "import op_recordlinkage as rl\n",
        "import re\n",
        "from ag_utils import ag_print"
      ]
    },
    {
      "cell_type": "code",
      "execution_count": null,
      "metadata": {
        "id": "Z9FDJIcD-mtF"
      },
      "outputs": [],
      "source": [
        "#setting up the dataframes and basic probing\n",
        "%%ag\n",
        "flight = flight_company_dataset\n",
        "health = health_organisation_dataset"
      ]
    },
    {
      "cell_type": "markdown",
      "metadata": {
        "id": "Dg0qubf7RTnU"
      },
      "source": [
        "# ***Preprocessing and cleaning the data***"
      ]
    },
    {
      "cell_type": "code",
      "execution_count": null,
      "metadata": {
        "colab": {
          "base_uri": "https://localhost:8080/"
        },
        "id": "mmYUQg47pG43",
        "outputId": "afb6a5fe-9690-4bc8-cdc4-6f16428864b1"
      },
      "outputs": [
        {
          "output_type": "stream",
          "name": "stdout",
          "text": [
            "dtypes of flight dataset:\n",
            "flight_number              object\n",
            "flight_date                object\n",
            "flight_from                object\n",
            "flight_to                  object\n",
            "passenger_firstname        object\n",
            "passenger_lastname         object\n",
            "passenger_date_of_birth    object\n",
            "passenger_phone_number     object\n",
            "passenger_email_address    object\n",
            "dtype: object\n",
            "\n",
            "dtypes of health dataset:\n",
            "patient_firstname        object\n",
            "patient_lastname         object\n",
            "patient_date_of_birth    object\n",
            "patient_phone_number     object\n",
            "patient_email_address    object\n",
            "covidtest_date           object\n",
            "covidtest_result         object\n",
            "patient_address          object\n",
            "dtype: object\n",
            "\n"
          ]
        }
      ],
      "source": [
        "%%ag\n",
        "#Basic MetaData Analysis\n",
        "ag_print(f'''dtypes of flight dataset:\n",
        "{flight.dtypes}\n",
        "\n",
        "dtypes of health dataset:\n",
        "{health.dtypes}''')"
      ]
    },
    {
      "cell_type": "code",
      "execution_count": null,
      "metadata": {
        "id": "x4VnU3As9gq9"
      },
      "outputs": [],
      "source": [
        "%%ag\n",
        "#Removing all negative covid test results\n",
        "health['covidtest_result'] = health['covidtest_result'].where(health['covidtest_result'] == 'positive')\n",
        "health = health.dropna()"
      ]
    },
    {
      "cell_type": "markdown",
      "metadata": {
        "id": "BXS_etXOBhUW"
      },
      "source": [
        "# Cleaning numbers\n",
        "We use a function which takes in numbers in random format and gives them back in a uniform format\n",
        "\n",
        "-We account for 3 different formats in numbers, if we find none of them, the original string is returned without change\n",
        "\n",
        "-We are only considering the 10 digit number (no country codes)"
      ]
    },
    {
      "cell_type": "code",
      "execution_count": null,
      "metadata": {
        "id": "M3OoBa_I68KL"
      },
      "outputs": [],
      "source": [
        "%%ag\n",
        "def clean_numbers(num : str) -> str:\n",
        "\n",
        "  #Accounting for no divider numbers\n",
        "  if re.search(r'\\d{10}', num[::-1]) != None:\n",
        "    num_parts_reversed = re.search(r'\\d{10}', num[::-1])\n",
        "\n",
        "    return f'{num_parts_reversed.group()[::-1]}'\n",
        "\n",
        "  #Accounting for numbers with dividers (with max of 2 dividers)\n",
        "  num_parts_reversed = re.search(r'(\\d+)\\D(\\d+)\\D(\\d+)', num[::-1])\n",
        "  if num_parts_reversed != None:\n",
        "\n",
        "\n",
        "    num_back = num_parts_reversed.group(1)\n",
        "    num_mid = num_parts_reversed.group(2)\n",
        "\n",
        "    if len(num_back) + len(num_mid) >= 10:\n",
        "      num_mid_length = 10 - len(num_back)\n",
        "      num_mid = num_mid[0:num_mid_length]\n",
        "\n",
        "      return f\"{num_mid[::-1]}{num_back[::-1]}\"\n",
        "\n",
        "    #the case where the 10 numbers are present before the 2nd divider\n",
        "    else:\n",
        "\n",
        "      num_front_len = 10 - len(num_back) - len(num_mid)\n",
        "      num_front = num_parts_reversed.group(3)[0:num_front_len]\n",
        "      return f\"{num_front[::-1]}{num_mid[::-1]}{num_back[::-1]}\"\n",
        "\n",
        "  #Accounting numbers with 1 divider\n",
        "  num_parts_reversed = re.search(r'(\\d+)\\D(\\d+)', num[::-1])\n",
        "  if num_parts_reversed != None:\n",
        "\n",
        "\n",
        "    num_back = num_parts_reversed.group(1)\n",
        "    num_mid = num_parts_reversed.group(2)\n",
        "    if len(num_back) >= 10:\n",
        "      num_length = 10 - len(num_back)\n",
        "      num_back = num_back[0:num_length]\n",
        "      return f\"{num_back[::-1]}\"\n",
        "\n",
        "    #the case where the 10 numbers are present before the 1st divider\n",
        "    else:\n",
        "      num_mid_length = 10 - len(num_back)\n",
        "      num_mid = num_mid[0:num_mid_length]\n",
        "\n",
        "      return f\"{num_mid[::-1]}{num_back[::-1]}\"\n",
        "  else:\n",
        "    return num\n"
      ]
    },
    {
      "cell_type": "code",
      "execution_count": null,
      "metadata": {
        "id": "L_ECevobZPWM"
      },
      "outputs": [],
      "source": []
    },
    {
      "cell_type": "code",
      "execution_count": null,
      "metadata": {
        "colab": {
          "base_uri": "https://localhost:8080/"
        },
        "id": "1XZgaj42VSvk",
        "outputId": "5a4c29b3-869c-4d33-cd32-078f7e9a0f30"
      },
      "outputs": [
        {
          "output_type": "stream",
          "name": "stderr",
          "text": [
            "/code/dependencies/op_pandas/op_pandas/core/private_dataframe.py:512: SettingWithCopyWarning: \n",
            "A value is trying to be set on a copy of a slice from a DataFrame.\n",
            "Try using .loc[row_indexer,col_indexer] = value instead\n",
            "\n",
            "See the caveats in the documentation: https://pandas.pydata.org/pandas-docs/stable/user_guide/indexing.html#returning-a-view-versus-a-copy\n",
            "  self.df[key] = value._series\n",
            "\n"
          ]
        }
      ],
      "source": [
        "%%ag\n",
        "flight['passenger_phone_number'] = flight['passenger_phone_number'].map(clean_numbers)\n",
        "health[\"patient_phone_number\"] = health[\"patient_phone_number\"].map(clean_numbers)"
      ]
    },
    {
      "cell_type": "markdown",
      "metadata": {
        "id": "b1XJwug5M9Hz"
      },
      "source": [
        "# Cleaning Dates\n",
        "the cleaning functions output dates in a unifined format of \"(day) (month_name) (year)\".\n",
        "\n",
        "(day) : a 2 length string, ex: 04, 23\n",
        "\n",
        "(month_name) : the function tries to get as many enteries in their [full name month] format, but there still would be some entries that aren't caught by the function, they are returned as they were.\n",
        "\n",
        "(year) : in 4 length string format, ex: 1978, 2020 etc.\n",
        "\n",
        "the clean_bdates also detects children's bdays which were born after 2000.\n",
        "Assuming that nobody born before 1921 is in our database.\n",
        "\n"
      ]
    },
    {
      "cell_type": "code",
      "execution_count": null,
      "metadata": {
        "id": "y6AJxyjwuCkc"
      },
      "outputs": [],
      "source": [
        "%%ag\n",
        "def clean_bdates(date : str) -> str:\n",
        "  month_name_dict = {(\"jan\", \"jn\", \"janury\"): \"January\", (\"feb\", \"fbury\", \"fb\", \"feberuary\"):\"February\", (\"mar\", \"mrch\"):\"March\",\n",
        "                     (\"ap\", \"apr\", \"aprl\"):\"April\", (\"my\", \"ma\"):\"May\", (\"jun\", \"jn\", \"jne\"):\"June\",\n",
        "                     (\"jul\", \"jly\"):\"July\", (\"aug\", \"agst\", \"augst\"):\"August\", (\"sept\", \"sep\", \"spt\", \"sptber\", \"septber\"):\"September\",\n",
        "                     (\"oct\", \"otber\", \"ocber\"):\"October\", (\"nov\", \"novem\", \"nvmber\"):\"November\", (\"dec\", \"decem\", \"dcber\"):\"December\"}\n",
        "\n",
        "  #getting the day month and year info\n",
        "  date_parts = re.search(r\"([a-zA-Z0-9]+).([a-zA-Z0-9]+).([a-zA-Z0-9]+)\", date)\n",
        "\n",
        "  dd = \"0\"\n",
        "  yyyy = \"0\"\n",
        "  children_dates = [] #to isolate integer dates between 1-20\n",
        "  mm = \"01\"\n",
        "  for i in range(1, 4):\n",
        "    temp = date_parts.group(i)\n",
        "    if temp.isdigit():\n",
        "      num = int(temp)\n",
        "      if num > 31:\n",
        "        yyyy = temp\n",
        "      elif 20 < num < 32:\n",
        "        dd = temp\n",
        "      else:\n",
        "        children_dates.append(temp)\n",
        "    else:\n",
        "      mm = temp\n",
        "\n",
        "  #assigning the values in children_dates list(assuming nobody born before 1921 was travelling)\n",
        "  if len(children_dates) == 1 and yyyy == \"0\":\n",
        "      yyyy = str(2000+ int(children_dates[0]))\n",
        "  elif len(children_dates) == 1 and dd == \"0\":\n",
        "    dd = children_dates[0]\n",
        "  elif len(children_dates) == 2: #if both the year and day are in 1-20, we can't differentiate between them\n",
        "    yyyy = str(2000+ int(children_dates[0]))\n",
        "    dd = children_dates[1]\n",
        "\n",
        "  #getting the terms in the right format\n",
        "  if len(yyyy) < 3:\n",
        "      yyyy = \"19\" + yyyy\n",
        "  if len(dd) < 2:\n",
        "    dd = \"0\" + dd\n",
        "\n",
        "  #checking for month formats\n",
        "  mm = mm.lower()\n",
        "  for ele in month_name_dict.keys():\n",
        "    if mm in ele:\n",
        "      mm  = month_name_dict[ele]\n",
        "  mm = mm.capitalize()\n",
        "\n",
        "  return f\"{dd} {mm} {yyyy}\""
      ]
    },
    {
      "cell_type": "code",
      "execution_count": null,
      "metadata": {
        "id": "iP2xWTeqwBog"
      },
      "outputs": [],
      "source": [
        "%%ag\n",
        "\n",
        "def clean_dates(date : str) -> (str):\n",
        "  month_name_dict = {(\"jan\", \"jn\", \"janury\"): \"January\", (\"feb\", \"fbury\", \"fb\", \"feberuary\"):\"February\", (\"mar\", \"mrch\"):\"March\",\n",
        "                     (\"ap\", \"apr\", \"aprl\"):\"April\", (\"my\", \"ma\"):\"May\", (\"jun\", \"jn\", \"jne\"):\"June\",\n",
        "                     (\"jul\", \"jly\"):\"July\", (\"aug\", \"agst\", \"augst\"):\"August\", (\"sept\", \"sep\", \"spt\", \"sptber\", \"septber\"):\"September\",\n",
        "                     (\"oct\", \"otber\", \"ocber\"):\"October\", (\"nov\", \"novem\", \"nvmber\"):\"November\", (\"dec\", \"decem\", \"dcber\"):\"December\"}\n",
        "\n",
        "  #getting the date month and year info\n",
        "  if ' ' in date:\n",
        "    date_parts = date.split(' ')\n",
        "  elif '-' in date:\n",
        "    date_parts = date.split('-')\n",
        "  elif '.' in date:\n",
        "    date_parts = date.split('.')\n",
        "\n",
        "  dd = '0'\n",
        "  mm = '0'\n",
        "  for i in range(1, 4):\n",
        "    temp = date_parts[i-1]\n",
        "    digit_check = temp.isdigit()\n",
        "    if digit_check:\n",
        "      num = int(temp)\n",
        "      #check if 2020 is given as 20\n",
        "      if num != 20:\n",
        "        if num < 1000:\n",
        "          dd = temp\n",
        "    else:\n",
        "      mm = temp\n",
        "\n",
        "  if dd == '0':\n",
        "    dd = \"20\"\n",
        "\n",
        "  #checking for month format\n",
        "  mm = mm.lower()\n",
        "  for ele in month_name_dict.keys():\n",
        "    if mm in ele:\n",
        "      mm  = month_name_dict[ele]\n",
        "  mm = mm.capitalize()\n",
        "\n",
        "\n",
        "  if len(dd) < 2:\n",
        "    dd = \"0\" + dd\n",
        "\n",
        "  return f\"{dd} {mm} 2020\""
      ]
    },
    {
      "cell_type": "code",
      "execution_count": null,
      "metadata": {
        "id": "HpQuVr-69odH"
      },
      "outputs": [],
      "source": []
    },
    {
      "cell_type": "code",
      "execution_count": null,
      "metadata": {
        "colab": {
          "base_uri": "https://localhost:8080/"
        },
        "id": "cHNSnC2NWyRG",
        "outputId": "86bb5afc-ad86-4773-a21d-07d07d2e1bdf"
      },
      "outputs": [
        {
          "output_type": "stream",
          "name": "stderr",
          "text": [
            "/code/dependencies/op_pandas/op_pandas/core/private_dataframe.py:512: SettingWithCopyWarning: \n",
            "A value is trying to be set on a copy of a slice from a DataFrame.\n",
            "Try using .loc[row_indexer,col_indexer] = value instead\n",
            "\n",
            "See the caveats in the documentation: https://pandas.pydata.org/pandas-docs/stable/user_guide/indexing.html#returning-a-view-versus-a-copy\n",
            "  self.df[key] = value._series\n",
            "\n"
          ]
        }
      ],
      "source": [
        "%%ag\n",
        "flight['passenger_date_of_birth'] = flight['passenger_date_of_birth'].map(clean_bdates)\n",
        "health[\"patient_date_of_birth\"] = health[\"patient_date_of_birth\"].map(clean_bdates)"
      ]
    },
    {
      "cell_type": "code",
      "execution_count": null,
      "metadata": {
        "colab": {
          "base_uri": "https://localhost:8080/"
        },
        "id": "9routHkaiVTY",
        "outputId": "f1f826fb-44a5-4418-be22-bb27ee007ea1"
      },
      "outputs": [
        {
          "output_type": "stream",
          "name": "stderr",
          "text": [
            "/code/dependencies/op_pandas/op_pandas/core/private_dataframe.py:512: SettingWithCopyWarning: \n",
            "A value is trying to be set on a copy of a slice from a DataFrame.\n",
            "Try using .loc[row_indexer,col_indexer] = value instead\n",
            "\n",
            "See the caveats in the documentation: https://pandas.pydata.org/pandas-docs/stable/user_guide/indexing.html#returning-a-view-versus-a-copy\n",
            "  self.df[key] = value._series\n",
            "\n"
          ]
        }
      ],
      "source": [
        "%%ag\n",
        "flight['flight_date'] = flight['flight_date'].map(clean_dates)\n",
        "health[\"covidtest_date\"] = health[\"covidtest_date\"].map(clean_dates)"
      ]
    },
    {
      "cell_type": "markdown",
      "metadata": {
        "id": "V7xX99yZr1g1"
      },
      "source": [
        "Note: We can't leave unfiltered date values because the comparison function defined for these values (flight date/covid test date) later can only take a single date format"
      ]
    },
    {
      "cell_type": "markdown",
      "metadata": {
        "id": "8lHOVtIRWwTk"
      },
      "source": [
        "# Cleaning names\n",
        "\n",
        "phonetic function has only been applied on the lastnames and not the the firstnames as they can include prefix and middle names (which can not always be seperated easily)"
      ]
    },
    {
      "cell_type": "code",
      "execution_count": null,
      "metadata": {
        "id": "1PKW19uEOoHH"
      },
      "outputs": [],
      "source": [
        "%%ag\n",
        "from op_recordlinkage.preprocessing import clean\n",
        "from op_recordlinkage.preprocessing import phonetic"
      ]
    },
    {
      "cell_type": "code",
      "execution_count": null,
      "metadata": {
        "id": "E2SvhGslM66_"
      },
      "outputs": [],
      "source": [
        "%%ag\n",
        "def clean_lastnames(last_names : PrivateSeries) -> PrivateSeries:\n",
        "  last_names =  clean(last_names, lowercase=True , replace_by_none = ' ', strip_accents = 'unicode')\n",
        "  last_names = phonetic(last_names, method= 'soundex')\n",
        "  return last_names\n",
        "\n",
        "def clean_firstnames(first_names : PrivateSeries) -> PrivateSeries:\n",
        "  first_names = clean(first_names, lowercase = True,  strip_accents = 'unicode', replace_by_whitespace = r\"(mr|ms|mrs|mx|dr)\")\n",
        "  return first_names"
      ]
    },
    {
      "cell_type": "code",
      "execution_count": null,
      "metadata": {
        "id": "aHjHYy6wcRMw"
      },
      "outputs": [],
      "source": [
        "%%ag\n",
        "flight['passenger_lastname'] = clean_lastnames(flight['passenger_lastname'])\n",
        "health['patient_lastname'] = clean_lastnames(health['patient_lastname'])"
      ]
    },
    {
      "cell_type": "code",
      "execution_count": null,
      "metadata": {
        "colab": {
          "base_uri": "https://localhost:8080/"
        },
        "id": "ZPjpL6rbMGF1",
        "outputId": "b86a33b2-0631-49ff-dad1-d94efcb0795c"
      },
      "outputs": [
        {
          "output_type": "stream",
          "name": "stderr",
          "text": [
            "/code/dependencies/op_pandas/op_pandas/core/private_dataframe.py:512: SettingWithCopyWarning: \n",
            "A value is trying to be set on a copy of a slice from a DataFrame.\n",
            "Try using .loc[row_indexer,col_indexer] = value instead\n",
            "\n",
            "See the caveats in the documentation: https://pandas.pydata.org/pandas-docs/stable/user_guide/indexing.html#returning-a-view-versus-a-copy\n",
            "  self.df[key] = value._series\n",
            "\n"
          ]
        }
      ],
      "source": [
        "%%ag\n",
        "flight['passenger_firstname'] = clean_firstnames(flight['passenger_firstname'])\n",
        "health['patient_firstname'] = clean_firstnames(health['patient_firstname'])"
      ]
    },
    {
      "cell_type": "markdown",
      "metadata": {
        "id": "gm8tsnsoXpNL"
      },
      "source": [
        "# Cleaning Emails\n",
        "\n",
        "we will be only using the part of the emails of the users which is before the @, so we are not extracting the emailing service"
      ]
    },
    {
      "cell_type": "code",
      "execution_count": null,
      "metadata": {
        "id": "jzGwoQuWT8F4",
        "colab": {
          "base_uri": "https://localhost:8080/"
        },
        "outputId": "c15f2080-4177-417a-c9b7-c129fa97950b"
      },
      "outputs": [
        {
          "output_type": "stream",
          "name": "stderr",
          "text": [
            "/code/dependencies/op_pandas/op_pandas/core/private_dataframe.py:512: SettingWithCopyWarning: \n",
            "A value is trying to be set on a copy of a slice from a DataFrame.\n",
            "Try using .loc[row_indexer,col_indexer] = value instead\n",
            "\n",
            "See the caveats in the documentation: https://pandas.pydata.org/pandas-docs/stable/user_guide/indexing.html#returning-a-view-versus-a-copy\n",
            "  self.df[key] = value._series\n",
            "\n"
          ]
        }
      ],
      "source": [
        "%%ag\n",
        "def clean_emails(mail : str) -> str:\n",
        "  before_at = re.search('(.+)@', mail)\n",
        "  temp = before_at.group(1)\n",
        "  return temp"
      ]
    },
    {
      "cell_type": "code",
      "execution_count": null,
      "metadata": {
        "id": "c1m65mhxm3Qy"
      },
      "outputs": [],
      "source": [
        "%%ag\n",
        "flight['passenger_email_address'] = flight[\"passenger_email_address\"].map(clean_emails)\n",
        "health[\"patient_email_address\"] = health[\"patient_email_address\"].map(clean_emails)"
      ]
    },
    {
      "cell_type": "markdown",
      "metadata": {
        "id": "Y1q8rOTKbDCU"
      },
      "source": [
        "# ***Linking the databases***\n",
        "for this we will be using the op_recordlinkage that we imported earlier"
      ]
    },
    {
      "cell_type": "markdown",
      "metadata": {
        "id": "KhakzQEyYU8C"
      },
      "source": [
        "# Indexing\n",
        "\n",
        "using date of birth, lastnames, phone numbers and email address as they are most likely to be the same across the databases (lastnames were taken out later as they generated too many pairs (so much that the compare function had difficulty going through them all))"
      ]
    },
    {
      "cell_type": "code",
      "execution_count": null,
      "metadata": {
        "id": "xyrUvgmwXnR-",
        "colab": {
          "base_uri": "https://localhost:8080/"
        },
        "outputId": "2236e3df-b941-4ad0-89c4-89d4ab7bbfb0"
      },
      "outputs": [
        {
          "output_type": "stream",
          "name": "stderr",
          "text": [
            "/code/dependencies/op_pandas/op_pandas/core/private_dataframe.py:512: SettingWithCopyWarning: \n",
            "A value is trying to be set on a copy of a slice from a DataFrame.\n",
            "Try using .loc[row_indexer,col_indexer] = value instead\n",
            "\n",
            "See the caveats in the documentation: https://pandas.pydata.org/pandas-docs/stable/user_guide/indexing.html#returning-a-view-versus-a-copy\n",
            "  self.df[key] = value._series\n",
            "\n"
          ]
        }
      ],
      "source": [
        "%%ag\n",
        "indexer = rl.Index()\n",
        "#indexer.block('passenger_lastname', 'patient_lastname')\n",
        "indexer.block('passenger_date_of_birth','patient_date_of_birth')\n",
        "indexer.block('passenger_phone_number','patient_phone_number')\n",
        "indexer.block(\"passenger_email_address\", \"patient_email_address\")\n",
        "links = indexer.index(flight,health)"
      ]
    },
    {
      "cell_type": "markdown",
      "metadata": {
        "id": "Zjkake8VZXHj"
      },
      "source": [
        "# Comparison\n",
        "- Firstname: string Jarowinkler\n",
        "- Lastname:  string Jarowinkler\n",
        "- Phonenumbers: string damerau_levenshtein\n",
        "- Birtdates: damerau_levenshtein\n",
        "- Emails: string damerau_levenshtein\n",
        "- Flight/Covid_test dates: custom date function\n",
        "- Flight-to/patient-address: custom location comparison"
      ]
    },
    {
      "cell_type": "code",
      "execution_count": null,
      "metadata": {
        "id": "DiI86S0Qhm7i"
      },
      "outputs": [],
      "source": [
        "%%ag\n",
        "import datetime\n",
        "def cmp_risk_period(date_str1 : str, date_str2 : str) -> float:\n",
        "    # Convert date strings to datetime objects\n",
        "    mm1 = date_str1[3:6]\n",
        "    mm2 = date_str2[3:6]\n",
        "    date_str1 = date_str1[0:2]\n",
        "    date_str2 = date_str2[0:2]\n",
        "    date1 = datetime.datetime.strptime(date_str1, \"%d\")\n",
        "    date2 = datetime.datetime.strptime(date_str2, \"%d\")\n",
        "\n",
        "    # Calculate the absolute difference in days\n",
        "    days_apart = (date2 - date1).days\n",
        "    # Check if the dates are within two weeks (14 days) apart\n",
        "    if (days_apart <= 14) and (mm1.lower() == mm2.lower()):\n",
        "        return 2.4\n",
        "    else:\n",
        "        return 0\n"
      ]
    },
    {
      "cell_type": "code",
      "execution_count": null,
      "metadata": {
        "id": "fsBpppcnaRSX"
      },
      "outputs": [],
      "source": []
    },
    {
      "cell_type": "code",
      "execution_count": null,
      "metadata": {
        "id": "p8QfrDLyRCIq"
      },
      "outputs": [],
      "source": [
        "%%ag\n",
        "def cmp_place(flight_to : str, patient_address : str) -> float:\n",
        "  if flight_to.lower() in patient_address:\n",
        "    return 0.65\n",
        "  return 0.0"
      ]
    },
    {
      "cell_type": "code",
      "execution_count": null,
      "metadata": {
        "id": "sAZqmSidf8jO"
      },
      "outputs": [],
      "source": [
        "%%ag\n",
        "compare = rl.Compare()\n",
        "compare.string(left_on='passenger_firstname',right_on='patient_firstname',label='firstname',method='jarowinkler')\n",
        "compare.string(left_on='passenger_lastname',right_on='patient_lastname',label='lastname',method='jarowinkler')\n",
        "compare.string(left_on='passenger_phone_number',right_on='patient_phone_number',label='phone_number',method='damerau_levenshtein')\n",
        "compare.string(left_on='passenger_email_address', right_on='patient_email_address', label='emails', method= 'damerau_levenshtein')\n",
        "compare.string(left_on='passenger_date_of_birth', right_on='patient_date_of_birth', label='birthdates', method= \"damerau_levenshtein\")\n",
        "compare.custom(cmp_place, 'flight_to',\"patient_address\", label=\"Location\")\n",
        "compare.custom(cmp_risk_period, left_on='flight_date', right_on='covidtest_date', label='Time-period')\n",
        "\n"
      ]
    },
    {
      "cell_type": "code",
      "execution_count": null,
      "metadata": {
        "id": "GzUvrL0ofLKe"
      },
      "outputs": [],
      "source": [
        "%%ag\n",
        "features = compare.compute(links,flight,health)"
      ]
    },
    {
      "cell_type": "code",
      "execution_count": null,
      "metadata": {
        "id": "IhuXoPZjE9ps"
      },
      "outputs": [],
      "source": [
        "%%ag\n",
        "def modify_weights5(weight : float) -> float :\n",
        "  return weight*1.9\n",
        "\n",
        "def modify_weights3(weight: float) -> float:\n",
        "  return weight*1.7"
      ]
    },
    {
      "cell_type": "code",
      "execution_count": null,
      "metadata": {
        "id": "0mq6PRyCEmHN"
      },
      "outputs": [],
      "source": [
        "%%ag\n",
        "features['phone_number'] = features['phone_number'].map(modify_weights5, output_bounds= (0, 1.9))\n",
        "features['emails'] = features['emails'].map(modify_weights5, output_bounds= (0, 1.9))\n",
        "features['birthdates'] = features['birthdates'].map(modify_weights3, output_bounds= (0, 1.7))"
      ]
    },
    {
      "cell_type": "markdown",
      "metadata": {
        "id": "nszw4xQfaVoG"
      },
      "source": [
        "# Linking\n",
        "comparing the sum of the weights of the feature matrix while monitering the epsilon usage"
      ]
    },
    {
      "cell_type": "code",
      "execution_count": null,
      "metadata": {
        "id": "iLYmc7-FQYhn"
      },
      "outputs": [],
      "source": [
        "#session.privacy_odometer()"
      ]
    },
    {
      "cell_type": "code",
      "execution_count": null,
      "metadata": {
        "colab": {
          "base_uri": "https://localhost:8080/"
        },
        "id": "50ylTZbon05D",
        "outputId": "0d28d490-7487-46a3-cd80-f9de6ef85dd1"
      },
      "outputs": [
        {
          "output_type": "stream",
          "name": "stdout",
          "text": [
            "Average weight : 6.590007391422214\n",
            "\n"
          ]
        }
      ],
      "source": [
        "%%ag\n",
        "ag_print(f\"Average weight : {features.sum(axis=1).mean(eps=0.1)}\")"
      ]
    },
    {
      "cell_type": "code",
      "execution_count": null,
      "metadata": {
        "id": "W4j4bRl-3_UF"
      },
      "outputs": [],
      "source": [
        "#session.privacy_odometer()"
      ]
    },
    {
      "cell_type": "code",
      "execution_count": null,
      "metadata": {
        "id": "mBPyEWuDmTZb"
      },
      "outputs": [],
      "source": [
        "%%ag\n",
        "linked_df = compare.get_match(7.2)"
      ]
    },
    {
      "cell_type": "code",
      "execution_count": null,
      "metadata": {
        "id": "2RbhmqgZ2N2a",
        "colab": {
          "base_uri": "https://localhost:8080/"
        },
        "outputId": "bc54e913-39ee-44a6-c976-e6d40d1613b3"
      },
      "outputs": [
        {
          "output_type": "stream",
          "name": "stdout",
          "text": [
            "score: {'leaderboard': 0.6733297454265867, 'logs': {'LIN_EPS': -0.0034999999999999996, 'MCC': 0.6768297454265867}}\n",
            "\n"
          ]
        }
      ],
      "source": [
        "%%ag\n",
        "res = linked_df[[\"l_flight_number\"]]\n",
        "x = submit_predictions(res)"
      ]
    },
    {
      "cell_type": "code",
      "execution_count": 5,
      "metadata": {
        "colab": {
          "base_uri": "https://localhost:8080/"
        },
        "id": "E4_BtWzspK5Y",
        "outputId": "fb2bfd2d-c041-415f-871c-0b070968121a"
      },
      "outputs": [
        {
          "output_type": "execute_result",
          "data": {
            "text/plain": [
              "{'status': 'ok'}"
            ]
          },
          "metadata": {},
          "execution_count": 5
        }
      ],
      "source": [
        "\n",
        "session.terminate_session()"
      ]
    },
    {
      "cell_type": "code",
      "execution_count": null,
      "metadata": {
        "id": "lpG_O6Mx5Os6"
      },
      "outputs": [],
      "source": []
    }
  ],
  "metadata": {
    "colab": {
      "provenance": []
    },
    "kernelspec": {
      "display_name": "Python 3",
      "name": "python3"
    },
    "language_info": {
      "name": "python"
    }
  },
  "nbformat": 4,
  "nbformat_minor": 0
}