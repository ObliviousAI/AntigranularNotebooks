{
 "cells": [
  {
   "cell_type": "code",
   "execution_count": null,
   "outputs": [],
   "source": [
    "!pip install antigranular"
   ],
   "metadata": {
    "collapsed": false
   }
  },
  {
   "cell_type": "code",
   "execution_count": 21,
   "outputs": [
    {
     "data": {
      "text/plain": "<IPython.core.display.HTML object>",
      "text/html": ""
     },
     "metadata": {},
     "output_type": "display_data"
    },
    {
     "name": "stdout",
     "output_type": "stream",
     "text": [
      "tls_cert_name: ip-100-100-16-101.eu-west-1.compute.internal_a9c02632-efbf-4a5b-a4c2-4a5afccd23e3\n",
      "cert_thumbprint: c45d530b540599da856d61bcafd2de5c3ca49e8ae9d20980f5dfb64eae43f4f9e1580e1cc09aeffb0599ccb6d5994c5b44839b9f94782eaa84b4538a364f67e9\n",
      "local_host_port: a9c02632-efbf-4a5b-a4c2-4a5afccd23e3\n",
      "server_hostname: ip-100-100-16-101.eu-west-1.compute.internal\n",
      "Loading dataset \"Flight Company Dataset for Sandbox\" to the kernel...\n",
      "Dataset \"Flight Company Dataset for Sandbox\" loaded to the kernel as flight_company_dataset_for_sandbox\n",
      "Loading dataset \"Health Organisation Dataset for Sandbox\" to the kernel...\n",
      "Dataset \"Health Organisation Dataset for Sandbox\" loaded to the kernel as health_organisation_dataset_for_sandbox\n",
      "Connected to Antigranular server session id: 156100ca-b505-43f2-b4bb-3430333c5385, the session will time out if idle for 60 minutes\n",
      "Cell magic '%%ag' registered successfully, use `%%ag` in a notebook cell to execute your python code on Antigranular private python server\n",
      "🚀 Everything's set up and ready to roll!\n"
     ]
    }
   ],
   "source": [
    "import antigranular as ag\n",
    "session = ag.login(<client_id>,<client_secret>, competition = \"Sandbox for Harvard OpenDP Hackathon\")"
   ],
   "metadata": {
    "collapsed": false,
    "ExecuteTime": {
     "end_time": "2023-10-01T13:31:08.294237Z",
     "start_time": "2023-10-01T13:30:44.762806Z"
    }
   }
  },
  {
   "cell_type": "code",
   "execution_count": 22,
   "outputs": [],
   "source": [
    "%%ag\n",
    "health = health_organisation_dataset_for_sandbox\n",
    "flight = flight_company_dataset_for_sandbox"
   ],
   "metadata": {
    "collapsed": false,
    "ExecuteTime": {
     "end_time": "2023-10-01T13:31:18.400945Z",
     "start_time": "2023-10-01T13:31:14.354979Z"
    }
   }
  },
  {
   "cell_type": "markdown",
   "source": [
    "## Basic metadata analysis\n",
    "Estimate the size of the datasets , the column names and their metadatas."
   ],
   "metadata": {
    "collapsed": false
   }
  },
  {
   "cell_type": "code",
   "execution_count": 23,
   "outputs": [
    {
     "name": "stdout",
     "output_type": "stream",
     "text": [
      "Flight Dataset \n",
      " Index(['flight_number', 'flight_date', 'flight_from', 'flight_to',\n",
      "       'passenger_firstname', 'passenger_lastname', 'passenger_date_of_birth'],\n",
      "      dtype='object') \n",
      "\n",
      "Health Datset \n",
      " Index(['patient_firstname', 'patient_lastname', 'patient_date_of_birth',\n",
      "       'covidtest_date', 'covidtest_result', 'patient_address'],\n",
      "      dtype='object')\n",
      "\n"
     ]
    }
   ],
   "source": [
    "%%ag\n",
    "# Printing the column names using ag_print\n",
    "ag_print(f\"Flight Dataset \\n {flight.columns} \\n\")\n",
    "ag_print(f\"Health Datset \\n {health.columns}\")"
   ],
   "metadata": {
    "collapsed": false,
    "ExecuteTime": {
     "end_time": "2023-10-01T13:31:24.501412Z",
     "start_time": "2023-10-01T13:31:22.436112Z"
    }
   }
  },
  {
   "cell_type": "code",
   "execution_count": 24,
   "outputs": [
    {
     "name": "stdout",
     "output_type": "stream",
     "text": [
      "Total health records : 59230\n",
      "\n",
      "Total flight records :  39025\n",
      "\n"
     ]
    }
   ],
   "source": [
    "%%ag\n",
    "# Getting the differentially private count\n",
    "ag_print(f\"Total health records : {health['patient_firstname'].count(eps=0.1)}\")\n",
    "ag_print(f\"Total flight records :  {flight['passenger_firstname'].count(eps=0.1)}\")"
   ],
   "metadata": {
    "collapsed": false,
    "ExecuteTime": {
     "end_time": "2023-10-01T13:31:26.856852Z",
     "start_time": "2023-10-01T13:31:26.852168Z"
    }
   }
  },
  {
   "cell_type": "markdown",
   "source": [
    "To filter out those flights which may contain passenger which was reported covid 19 recently , we will need to link both datasets in an efficient way. One way to do it is by using the `recordlinkage` library."
   ],
   "metadata": {
    "collapsed": false
   }
  },
  {
   "cell_type": "code",
   "execution_count": 25,
   "outputs": [],
   "source": [
    "%%ag\n",
    "# Lets remove those passenger records who tested negative.\n",
    "health['covidtest_result'] = health['covidtest_result'].where(health['covidtest_result'] == 'positive')\n",
    "health = health.dropna()"
   ],
   "metadata": {
    "collapsed": false,
    "ExecuteTime": {
     "end_time": "2023-10-01T13:31:31.203675Z",
     "start_time": "2023-10-01T13:31:29.002083Z"
    }
   }
  },
  {
   "cell_type": "markdown",
   "source": [
    "Sample visualization of how the filtered health data looks\n",
    "![](https://content.antigranular.com/image/notebook_content/health_dataset_rlsand.png)"
   ],
   "metadata": {
    "collapsed": false
   }
  },
  {
   "cell_type": "code",
   "execution_count": 26,
   "outputs": [
    {
     "name": "stdout",
     "output_type": "stream",
     "text": [
      "Total covid positive health records : 1291\n",
      "\n"
     ]
    }
   ],
   "source": [
    "%%ag\n",
    "ag_print(f\"Total covid positive health records : {health['patient_firstname'].count(eps=0.1)}\")"
   ],
   "metadata": {
    "collapsed": false,
    "ExecuteTime": {
     "end_time": "2023-10-01T13:31:33.013670Z",
     "start_time": "2023-10-01T13:31:31.203118Z"
    }
   }
  },
  {
   "cell_type": "markdown",
   "source": [
    "### Setting Indexing Rules\n",
    "\n",
    "When using the `recordlinkage` library , make sure you index both datasets against a column which you will might be the most similar in nature. If you do not index both datasets on a similar column , then the unique MultiIndexes generated can be of very high order."
   ],
   "metadata": {
    "collapsed": false
   }
  },
  {
   "cell_type": "code",
   "execution_count": 27,
   "outputs": [
    {
     "name": "stdout",
     "output_type": "stream",
     "text": [
      "WARNING:recordlinkage:indexing - performance warning - A full index can result in large number of record pairs.\n",
      "\n"
     ]
    }
   ],
   "source": [
    "%%ag\n",
    "import op_recordlinkage as rl\n",
    "# A full indexing is a complete cartesian product\n",
    "indexer  = rl.Index()\n",
    "indexer.full()"
   ],
   "metadata": {
    "collapsed": false,
    "ExecuteTime": {
     "end_time": "2023-10-01T13:31:37.319672Z",
     "start_time": "2023-10-01T13:31:35.340050Z"
    }
   }
  },
  {
   "cell_type": "markdown",
   "source": [
    "Lets index both datasets based on the date of birth. However , you must take care of the format of the dates so that they both are in similar fashion before you index both datasets against them.\n",
    "\n",
    "**click [here](https://recordlinkage.readthedocs.io/en/latest/ref-index.html) to learn about more indexing algorithms.**\n",
    "\n",
    "We currently support:\n",
    "- Full\n",
    "- Block\n",
    "- SortedNeighbor\n",
    "- Random\n"
   ],
   "metadata": {
    "collapsed": false
   }
  },
  {
   "cell_type": "code",
   "execution_count": 28,
   "outputs": [],
   "source": [
    "%%ag\n",
    "import op_recordlinkage as rl\n",
    "indexer = rl.Index()\n",
    "indexer.block('passenger_date_of_birth','patient_date_of_birth')\n",
    "candidate_links = indexer.index(flight,health)"
   ],
   "metadata": {
    "collapsed": false,
    "ExecuteTime": {
     "end_time": "2023-10-01T13:31:39.447513Z",
     "start_time": "2023-10-01T13:31:39.444387Z"
    }
   }
  },
  {
   "cell_type": "code",
   "execution_count": 29,
   "outputs": [
    {
     "name": "stdout",
     "output_type": "stream",
     "text": [
      "6097\n",
      "\n"
     ]
    }
   ],
   "source": [
    "%%ag\n",
    "# total number of links based on this indexing choice.\n",
    "ag_print(candidate_links.count(eps=0.1))"
   ],
   "metadata": {
    "collapsed": false,
    "ExecuteTime": {
     "end_time": "2023-10-01T13:31:43.643595Z",
     "start_time": "2023-10-01T13:31:41.455015Z"
    }
   }
  },
  {
   "cell_type": "markdown",
   "source": [
    "### Setting Comparison Rules\n",
    "\n",
    "Once the candidate links are formed , we can set compare rules against them to refine our linking process. In these rules , we can set a weight for each compare rule that we define.\n",
    "  - Lets fuzzy match the firstnames and lastnames(thresholded) of the passenger. ( using default value of either 1 or 0 )\n",
    "  - Allow links on the positive covid result happening atleast 14 before flight departure. ( with weight = 2 )\n",
    " \n",
    "**click [here](https://recordlinkage.readthedocs.io/en/latest/ref-compare.html#recordlinkage.Compare) to learn about more compare rules.**\n",
    "\n",
    "We currently support:\n",
    "- String\n",
    "- Numeric\n",
    "- Exact\n",
    "- Geo\n",
    "- Date\n",
    "- Custom Compares\n",
    "    "
   ],
   "metadata": {
    "collapsed": false
   }
  },
  {
   "cell_type": "code",
   "execution_count": 30,
   "outputs": [],
   "source": [
    "%%ag\n",
    "compare = rl.Compare()\n",
    "\n",
    "# Using inbuilt string linking via fuzzy match. ( keeping threshold for last_name to get stronger links )\n",
    "compare.string(\"passenger_firstname\" , \"patient_firstname\" ,method='jarowinkler', label=\"firstname\")\n",
    "compare.string(\"passenger_lastname\",\"patient_lastname\" ,method='jarowinkler', threshold=0.9, label=\"lastname\")\n",
    "\n",
    "\n",
    "# Using a custom compare rule.\n",
    "# custom functions are executed in isolated environment.\n",
    "import datetime\n",
    "def cmp(date_str1:str , date_str2:str)->int: # datetime and regex are pre-imported in isolated environment.\n",
    "    # Convert date strings to datetime objects\n",
    "    date1 = datetime.datetime.strptime(date_str1, \"%Y-%m-%d\")\n",
    "    date2 = datetime.datetime.strptime(date_str2, \"%Y-%m-%d\")\n",
    "    \n",
    "    # Calculate the absolute difference in days\n",
    "    days_apart = (date2 - date1).days\n",
    "    # Check if the dates are within two weeks (14 days) apart\n",
    "    if days_apart <= 14:\n",
    "        return 2\n",
    "    else:\n",
    "        return 0\n",
    "\n",
    "compare.custom(cmp,\"flight_date\",\"covidtest_date\",label=\"date_cmp\")\n"
   ],
   "metadata": {
    "collapsed": false,
    "ExecuteTime": {
     "end_time": "2023-10-01T13:31:45.812932Z",
     "start_time": "2023-10-01T13:31:45.810168Z"
    }
   }
  },
  {
   "cell_type": "code",
   "execution_count": 31,
   "outputs": [],
   "source": [
    "%%ag\n",
    "features = compare.compute(candidate_links,flight,health)"
   ],
   "metadata": {
    "collapsed": false,
    "ExecuteTime": {
     "end_time": "2023-10-01T13:32:01.780945Z",
     "start_time": "2023-10-01T13:31:54.584084Z"
    }
   }
  },
  {
   "cell_type": "markdown",
   "source": [
    "Sample visualization of features matrix ( PrivateDataFrame )\n",
    "![](https://content.antigranular.com/image/notebook_content/feat_mat_rlsand.png)"
   ],
   "metadata": {
    "collapsed": false
   }
  },
  {
   "cell_type": "code",
   "execution_count": 32,
   "outputs": [
    {
     "name": "stdout",
     "output_type": "stream",
     "text": [
      "Average weight : 2.384529685884475\n",
      "\n"
     ]
    }
   ],
   "source": [
    "%%ag\n",
    "# Lets find out the average matching weights obtained based on the compare rules we set.\n",
    "ag_print(f\"Average weight : {features.sum(axis=1).mean(eps=0.1)}\")"
   ],
   "metadata": {
    "collapsed": false,
    "ExecuteTime": {
     "end_time": "2023-10-01T13:32:03.769560Z",
     "start_time": "2023-10-01T13:32:01.781580Z"
    }
   }
  },
  {
   "cell_type": "markdown",
   "source": [
    "### Linking the datasets\n",
    "\n",
    "Choosing a value = 3 for linking based on the obtained average. Our purpose of giving the custom_compare\n",
    "a weight=2 was to prioritize it over the matching of first_names/last_names. Moreover choosing a value=3 as threshold\n",
    "for matching will give us strong links based on the compare rules we have set."
   ],
   "metadata": {
    "collapsed": false
   }
  },
  {
   "cell_type": "code",
   "execution_count": 33,
   "outputs": [],
   "source": [
    "%%ag\n",
    "linked_df = compare.get_match(3)"
   ],
   "metadata": {
    "collapsed": false,
    "ExecuteTime": {
     "end_time": "2023-10-01T13:32:07.999566Z",
     "start_time": "2023-10-01T13:32:06.061223Z"
    }
   }
  },
  {
   "cell_type": "markdown",
   "source": [
    "Sample Visualization of the linked PrivateDataFrame\n",
    "![](https://content.antigranular.com/image/notebook_content/rl_linked_rlsand.png)"
   ],
   "metadata": {
    "collapsed": false
   }
  },
  {
   "cell_type": "code",
   "execution_count": 35,
   "outputs": [
    {
     "name": "stdout",
     "output_type": "stream",
     "text": [
      "score: {'leaderboard': 0.9318478284190648, 'logs': {'LIN_EPS': -0.002, 'MCC': 0.9338478284190648}}\n",
      "\n"
     ]
    }
   ],
   "source": [
    "%%ag\n",
    "# Submitting the column containing the filtered set of airlines we should report regarding a covid passenger.\n",
    "res = linked_df[[\"l_flight_number\"]]\n",
    "x = submit_predictions(res)"
   ],
   "metadata": {
    "collapsed": false,
    "ExecuteTime": {
     "end_time": "2023-10-01T13:38:45.962038Z",
     "start_time": "2023-10-01T13:38:45.958365Z"
    }
   }
  },
  {
   "cell_type": "markdown",
   "source": [],
   "metadata": {
    "collapsed": false
   }
  },
  {
   "cell_type": "code",
   "execution_count": null,
   "outputs": [],
   "source": [],
   "metadata": {
    "collapsed": false
   }
  }
 ],
 "metadata": {
  "kernelspec": {
   "display_name": "Python 3",
   "language": "python",
   "name": "python3"
  },
  "language_info": {
   "codemirror_mode": {
    "name": "ipython",
    "version": 2
   },
   "file_extension": ".py",
   "mimetype": "text/x-python",
   "name": "python",
   "nbconvert_exporter": "python",
   "pygments_lexer": "ipython2",
   "version": "2.7.6"
  }
 },
 "nbformat": 4,
 "nbformat_minor": 0
}
