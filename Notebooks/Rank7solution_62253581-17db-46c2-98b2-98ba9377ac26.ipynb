{
  "nbformat": 4,
  "nbformat_minor": 0,
  "metadata": {
    "colab": {
      "provenance": []
    },
    "kernelspec": {
      "name": "python3",
      "display_name": "Python 3"
    },
    "language_info": {
      "name": "python"
    }
  },
  "cells": [
    {
      "cell_type": "markdown",
      "source": [
        "#  **Antigranular** Heart Disease Prediction Contest (ft. **Harvard/OpenDP** and **TPDP**)\n",
        "\n",
        "\n",
        "First of all, I would like to thank **Antigranular** for organizing this competition. It was fun participating in it, and it was my first time joining a competition of this type. I have worked on a very similar project involving the use of GANs to generate synthetic data that preserves the features of the original data. This synthetic data can be used to train deep learning models while maintaining a balance between data characteristics and privacy.\n",
        "\n",
        "I didn't try many different approaches since my solution is straightforward. The key is to understand the `eps` and `target_delta` parameters. The idea is to use the largest values for these parameters while ensuring that the model produces good results in the first 3-5 runs. This approach is quite risky, so the model was designed to **overfit** the training data by using a significant number of hidden layers and other techniques. To minimize overfitting, I applied regularization techniques such as a high `dropout rate (40%)` and `batch normalization` layers, `batch_size=128`. Additionally, I used a small learning rate and trained the model for a large number of epochs to achieve the best results.\n",
        "\n",
        "\n"
      ],
      "metadata": {
        "id": "5az73vDZvCWg"
      }
    },
    {
      "cell_type": "markdown",
      "source": [
        "### 📦 Install Antigranular\n",
        "\n",
        "This command installs the [Antigranular PyPI Package](https://pypi.org/project/antigranular/) on the local enviroment.\n"
      ],
      "metadata": {
        "id": "6_ISjJv_eppS"
      }
    },
    {
      "cell_type": "code",
      "execution_count": null,
      "metadata": {
        "id": "5uFCyt-Puq4K"
      },
      "outputs": [],
      "source": [
        "# Install the Antigranular package\n",
        "!pip install antigranular &> /dev/null"
      ]
    },
    {
      "cell_type": "markdown",
      "source": [
        "### ✍ Login to the Enclave\n",
        "\n",
        "Head over to [Competitions](https://www.antigranular.com/competitions) to find your `<user_id>`, `<user_secret>` and the competition's name and copy that command here.\n",
        "\n",
        "![img](https://docs.antigranular.com/shots/comp_cell.png)"
      ],
      "metadata": {
        "id": "v7jLQa6Uehks"
      }
    },
    {
      "cell_type": "code",
      "source": [
        "import antigranular as ag\n",
        "session = ag.login(<client_id>,<client_secret>, competition = \"Heart Disease Prediction Hackathon\")"
      ],
      "metadata": {
        "colab": {
          "base_uri": "https://localhost:8080/",
          "height": 191
        },
        "id": "w_JcMMSMv_Ze",
        "outputId": "d1e08513-c4a0-4b28-d739-d2b387e3502c"
      },
      "execution_count": null,
      "outputs": [
        {
          "output_type": "display_data",
          "data": {
            "text/plain": [
              "<IPython.core.display.HTML object>"
            ],
            "text/html": []
          },
          "metadata": {}
        },
        {
          "output_type": "stream",
          "name": "stdout",
          "text": [
            "Dataset \"Heart Disease Prediction Hackathon Dataset\" loaded to the kernel as \u001b[92mheart_disease_prediction_hackathon_dataset\u001b[0m\n",
            "Key Name                       Value Type     \n",
            "---------------------------------------------\n",
            "train_y                        PrivateDataFrame\n",
            "train_x                        PrivateDataFrame\n",
            "test_x                         DataFrame      \n",
            "\n",
            "Connected to Antigranular server session id: 62253581-17db-46c2-98b2-98ba9377ac26, the session will time out if idle for 25 minutes\n",
            "Cell magic '%%ag' registered successfully, use `%%ag` in a notebook cell to execute your python code on Antigranular private python server\n",
            "🚀 Everything's set up and ready to roll!\n"
          ]
        }
      ]
    },
    {
      "cell_type": "markdown",
      "source": [
        "### 🤖 Using AG\n",
        "\n",
        "You can now simply use ``%%ag`` to run code on an enclave! You can always head over to our [Docs](https://docs.antigranular.com/) to learn more about AG, but for now, we can define train and test variables as follows."
      ],
      "metadata": {
        "id": "Jeg6W7fPNHhS"
      }
    },
    {
      "cell_type": "code",
      "source": [
        "%%ag\n",
        "x_train = heart_disease_prediction_hackathon_dataset[\"train_x\"]\n",
        "y_train = heart_disease_prediction_hackathon_dataset[\"train_y\"]\n",
        "x_test = heart_disease_prediction_hackathon_dataset[\"test_x\"]"
      ],
      "metadata": {
        "id": "8IHVwjFKk2Ys"
      },
      "execution_count": null,
      "outputs": []
    },
    {
      "cell_type": "markdown",
      "source": [
        "### Model\n",
        "\n",
        "### Model Architecture\n",
        "\n",
        "The model defined is a sequential neural network designed for binary classification. It is composed of the following layers:\n",
        "\n",
        "1. **Input Layer**:\n",
        "   - **Dense Layer**: 256 units, ReLU activation, input shape of 6 (which matches the number of input features).\n",
        "   - **Dropout Layer**: 40% dropout rate to prevent overfitting.\n",
        "\n",
        "2. **Hidden Layers**:\n",
        "   - **Dense Layer**: 128 units, ReLU activation.\n",
        "   - **Dropout Layer**: 40% dropout rate.\n",
        "   - **Dense Layer**: 128 units, ReLU activation.\n",
        "   - **Dropout Layer**: 40% dropout rate.\n",
        "   - **Dense Layer**: 64 units, ReLU activation.\n",
        "   - **Dropout Layer**: 40% dropout rate.\n",
        "   - **Dense Layer**: 32 units, ReLU activation.\n",
        "   - **Dropout Layer**: 40% dropout rate.\n",
        "   - **Dense Layer**: 16 units, ReLU activation.\n",
        "   - **Dropout Layer**: 40% dropout rate.\n",
        "\n",
        "3. **Output Layer**:\n",
        "   - **Dense Layer**: 1 unit, Sigmoid activation for binary classification output.\n",
        "\n",
        "### Parameters and Additional Configurations\n",
        "\n",
        "1. **Differential Privacy**:\n",
        "   - **PrivateKerasModel**: The model is wrapped in a `PrivateKerasModel` to provide differential privacy guarantees.\n",
        "   - **l2_norm_clip**: Set to 1, which controls the clipping of gradients during training.\n",
        "   - **noise_multiplier**: Set to 1, which scales the noise added to the gradients to ensure privacy.\n",
        "\n",
        "2. **Optimizer**:\n",
        "   - **Adam Optimizer**: Used for training with a learning rate of 0.001.\n",
        "\n",
        "3. **Loss Function and Metrics**:\n",
        "   - **Loss Function**: Binary Cross-Entropy, suitable for binary classification tasks.\n",
        "   - **Metrics**: Accuracy, to monitor the performance of the model during training and evaluation.\n",
        "\n",
        "This model leverages dropout layers extensively to mitigate overfitting, while the dense layers with ReLU activation function provide the non-linear transformations needed to capture complex patterns in the data."
      ],
      "metadata": {
        "id": "KARrFlm5pOB6"
      }
    },
    {
      "cell_type": "code",
      "source": [
        "%%ag\n",
        "import tensorflow as tf\n",
        "from op_pandas import standard_scaler, PrivateDataFrame\n",
        "from tensorflow.keras.models import Sequential\n",
        "from tensorflow.keras.layers import Dense, Dropout, BatchNormalization\n",
        "from op_tensorflow import PrivateKerasModel, PrivateDataLoader\n",
        "\n",
        "\n",
        "seqM = Sequential([\n",
        "    Dense(256, activation='relu', input_shape=(6,)),\n",
        "    Dropout(0.4),\n",
        "    Dense(128, activation='relu'),\n",
        "    Dropout(0.4),\n",
        "    Dense(128, activation='relu'),\n",
        "    Dropout(0.4),\n",
        "    Dense(64, activation='relu'),\n",
        "    Dropout(0.4),\n",
        "    Dense(32, activation='relu'),\n",
        "    Dropout(0.4),\n",
        "    Dense(16, activation='relu'),\n",
        "    Dropout(0.4),\n",
        "    Dense(1, activation='sigmoid')\n",
        "])\n",
        "\n",
        "# Create DP keras model\n",
        "dp_model = PrivateKerasModel(model=seqM, l2_norm_clip=1, noise_multiplier=1)\n",
        "\n",
        "# Use a standard (non-DP) optimizer directly from keras.\n",
        "optimizer = tf.keras.optimizers.Adam(learning_rate=0.001)\n",
        "\n",
        "# PrivateKerasModel uses similar API as standard Keras\n",
        "dp_model.compile(\n",
        "\toptimizer = optimizer,\n",
        "\tloss = 'binary_crossentropy',\n",
        "\tmetrics = [\"accuracy\"]\n",
        ")"
      ],
      "metadata": {
        "id": "QVMog5sFunqk",
        "colab": {
          "base_uri": "https://localhost:8080/"
        },
        "outputId": "bb45ddfb-e331-449b-d0e8-2c5d418af873"
      },
      "execution_count": null,
      "outputs": [
        {
          "output_type": "stream",
          "name": "stderr",
          "text": [
            "/usr/local/lib/python3.10/site-packages/tensorflow_probability/python/__init__.py:57: DeprecationWarning: distutils Version classes are deprecated. Use packaging.version instead.\n",
            "  if (distutils.version.LooseVersion(tf.__version__) <\n",
            "/usr/local/lib/python3.10/site-packages/tensorflow_probability/python/__init__.py:58: DeprecationWarning: distutils Version classes are deprecated. Use packaging.version instead.\n",
            "  distutils.version.LooseVersion(required_tensorflow_version)):\n",
            "\n"
          ]
        }
      ]
    },
    {
      "cell_type": "markdown",
      "source": [
        "### I applied stander scaler with `eps=0.9` ."
      ],
      "metadata": {
        "id": "T_Yr0EmMzpM8"
      }
    },
    {
      "cell_type": "code",
      "source": [
        "%%ag\n",
        "x_train_scaled = standard_scaler(x_train, eps=.9)\n",
        "x_train_scaled.info()"
      ],
      "metadata": {
        "colab": {
          "base_uri": "https://localhost:8080/"
        },
        "id": "CtZnkEIGu4Oy",
        "outputId": "ef56edb3-2efe-4ffb-e819-8d214f80159e"
      },
      "execution_count": null,
      "outputs": [
        {
          "output_type": "stream",
          "name": "stdout",
          "text": [
            "+----+----------+-------------+---------------+---------+------------------------------------------+\n",
            "|    | Column   | numerical   | categorical   | dtype   | bounds                                   |\n",
            "|----+----------+-------------+---------------+---------+------------------------------------------|\n",
            "|  0 | age      | True        | False         | float64 | (-3.4603125701650077, 3.192940281529251) |\n",
            "|  1 | sex      | True        | False         | float64 | (-1.4680622112406603,                    |\n",
            "|    |          |             |               |         | 0.7104900522995734)                      |\n",
            "|  2 | bp       | True        | False         | float64 | (-3.250938543691753, 5.340360673477323)  |\n",
            "|  3 | ch       | True        | False         | float64 | (-2.685157094365248, 6.491414183378572)  |\n",
            "|  4 | bs       | True        | False         | float64 | (-2.0090091779602903,                    |\n",
            "|    |          |             |               |         | 2.9715776116526684)                      |\n",
            "|  5 | phr      | True        | False         | float64 | (-2.988287779664291, 2.5647886493870256) |\n",
            "+----+----------+-------------+---------------+---------+------------------------------------------+\n",
            "\n"
          ]
        }
      ]
    },
    {
      "cell_type": "markdown",
      "source": [
        "### I used a `batch_size=128` for better generalization"
      ],
      "metadata": {
        "id": "zQXPk12qyjU1"
      }
    },
    {
      "cell_type": "code",
      "source": [
        "%%ag\n",
        "data_loader = PrivateDataLoader(feature_df=x_train_scaled , label_df=y_train, batch_size=128)"
      ],
      "metadata": {
        "id": "-IRE6nbYvcw7"
      },
      "execution_count": null,
      "outputs": []
    },
    {
      "cell_type": "markdown",
      "source": [
        "### I trained the model for 50 epochs with `target_delta=1e-2`"
      ],
      "metadata": {
        "id": "-t7Cw7UYyxQZ"
      }
    },
    {
      "cell_type": "code",
      "source": [
        "%%ag\n",
        "dp_model.fit(x=data_loader, epochs=50, target_delta=1e-2)"
      ],
      "metadata": {
        "colab": {
          "base_uri": "https://localhost:8080/"
        },
        "id": "BkYeXE1nv0EL",
        "outputId": "2c2fc644-b0bb-4ce0-a1a6-e9bc551292f6"
      },
      "execution_count": null,
      "outputs": [
        {
          "output_type": "stream",
          "name": "stdout",
          "text": [
            "Epoch 1/50\n",
            "\n",
            "63/63 - 9s - loss: 0.6750 - accuracy: 0.5663 - 9s/epoch - 138ms/step\n",
            "\n",
            "Epoch 2/50\n",
            "\n",
            "63/63 - 2s - loss: 0.6007 - accuracy: 0.6860 - 2s/epoch - 37ms/step\n",
            "\n",
            "Epoch 3/50\n",
            "\n",
            "63/63 - 2s - loss: 0.5638 - accuracy: 0.7161 - 2s/epoch - 33ms/step\n",
            "\n",
            "Epoch 4/50\n",
            "\n",
            "63/63 - 2s - loss: 0.5430 - accuracy: 0.7302 - 2s/epoch - 36ms/step\n",
            "\n",
            "Epoch 5/50\n",
            "\n",
            "63/63 - 2s - loss: 0.5165 - accuracy: 0.7449 - 2s/epoch - 35ms/step\n",
            "\n",
            "Epoch 6/50\n",
            "\n",
            "63/63 - 2s - loss: 0.4986 - accuracy: 0.7558 - 2s/epoch - 33ms/step\n",
            "\n",
            "Epoch 7/50\n",
            "\n",
            "63/63 - 2s - loss: 0.4760 - accuracy: 0.7683 - 2s/epoch - 33ms/step\n",
            "\n",
            "Epoch 8/50\n",
            "\n",
            "63/63 - 2s - loss: 0.4548 - accuracy: 0.7877 - 2s/epoch - 33ms/step\n",
            "\n",
            "Epoch 9/50\n",
            "\n",
            "63/63 - 2s - loss: 0.4456 - accuracy: 0.7886 - 2s/epoch - 35ms/step\n",
            "\n",
            "Epoch 10/50\n",
            "\n",
            "63/63 - 2s - loss: 0.4274 - accuracy: 0.8000 - 2s/epoch - 32ms/step\n",
            "\n",
            "Epoch 11/50\n",
            "\n",
            "63/63 - 2s - loss: 0.4067 - accuracy: 0.8051 - 2s/epoch - 32ms/step\n",
            "\n",
            "Epoch 12/50\n",
            "\n",
            "63/63 - 2s - loss: 0.3927 - accuracy: 0.8163 - 2s/epoch - 32ms/step\n",
            "\n",
            "Epoch 13/50\n",
            "\n",
            "63/63 - 2s - loss: 0.3849 - accuracy: 0.8255 - 2s/epoch - 33ms/step\n",
            "\n",
            "Epoch 14/50\n",
            "\n",
            "63/63 - 2s - loss: 0.3805 - accuracy: 0.8204 - 2s/epoch - 33ms/step\n",
            "\n",
            "Epoch 15/50\n",
            "\n",
            "63/63 - 2s - loss: 0.3599 - accuracy: 0.8337 - 2s/epoch - 33ms/step\n",
            "\n",
            "Epoch 16/50\n",
            "\n",
            "63/63 - 2s - loss: 0.3606 - accuracy: 0.8366 - 2s/epoch - 33ms/step\n",
            "\n",
            "Epoch 17/50\n",
            "\n",
            "63/63 - 2s - loss: 0.3507 - accuracy: 0.8436 - 2s/epoch - 32ms/step\n",
            "\n",
            "Epoch 18/50\n",
            "\n",
            "63/63 - 2s - loss: 0.3316 - accuracy: 0.8546 - 2s/epoch - 35ms/step\n",
            "\n",
            "Epoch 19/50\n",
            "\n",
            "63/63 - 2s - loss: 0.3195 - accuracy: 0.8575 - 2s/epoch - 33ms/step\n",
            "\n",
            "Epoch 20/50\n",
            "\n",
            "63/63 - 2s - loss: 0.3291 - accuracy: 0.8523 - 2s/epoch - 33ms/step\n",
            "\n",
            "Epoch 21/50\n",
            "\n",
            "63/63 - 2s - loss: 0.2976 - accuracy: 0.8725 - 2s/epoch - 33ms/step\n",
            "\n",
            "Epoch 22/50\n",
            "\n",
            "63/63 - 2s - loss: 0.3084 - accuracy: 0.8681 - 2s/epoch - 33ms/step\n",
            "\n",
            "Epoch 23/50\n",
            "\n",
            "63/63 - 2s - loss: 0.2886 - accuracy: 0.8753 - 2s/epoch - 35ms/step\n",
            "\n",
            "Epoch 24/50\n",
            "\n",
            "63/63 - 2s - loss: 0.2907 - accuracy: 0.8759 - 2s/epoch - 36ms/step\n",
            "\n",
            "Epoch 25/50\n",
            "\n",
            "63/63 - 2s - loss: 0.3025 - accuracy: 0.8678 - 2s/epoch - 35ms/step\n",
            "\n",
            "Epoch 26/50\n",
            "\n",
            "63/63 - 2s - loss: 0.2722 - accuracy: 0.8868 - 2s/epoch - 36ms/step\n",
            "\n",
            "Epoch 27/50\n",
            "\n",
            "63/63 - 2s - loss: 0.2805 - accuracy: 0.8834 - 2s/epoch - 36ms/step\n",
            "\n",
            "Epoch 28/50\n",
            "\n",
            "63/63 - 2s - loss: 0.2672 - accuracy: 0.8849 - 2s/epoch - 35ms/step\n",
            "\n",
            "Epoch 29/50\n",
            "\n",
            "63/63 - 2s - loss: 0.2796 - accuracy: 0.8827 - 2s/epoch - 33ms/step\n",
            "\n",
            "Epoch 30/50\n",
            "\n",
            "63/63 - 2s - loss: 0.2608 - accuracy: 0.8886 - 2s/epoch - 32ms/step\n",
            "\n",
            "Epoch 31/50\n",
            "\n",
            "63/63 - 2s - loss: 0.2504 - accuracy: 0.8925 - 2s/epoch - 35ms/step\n",
            "\n",
            "Epoch 32/50\n",
            "\n",
            "63/63 - 2s - loss: 0.2360 - accuracy: 0.9035 - 2s/epoch - 33ms/step\n",
            "\n",
            "Epoch 33/50\n",
            "\n",
            "63/63 - 2s - loss: 0.2379 - accuracy: 0.9004 - 2s/epoch - 33ms/step\n",
            "\n",
            "Epoch 34/50\n",
            "\n",
            "63/63 - 2s - loss: 0.2455 - accuracy: 0.8998 - 2s/epoch - 32ms/step\n",
            "\n",
            "Epoch 35/50\n",
            "\n",
            "63/63 - 2s - loss: 0.2455 - accuracy: 0.9021 - 2s/epoch - 33ms/step\n",
            "\n",
            "Epoch 36/50\n",
            "\n",
            "63/63 - 2s - loss: 0.2282 - accuracy: 0.9067 - 2s/epoch - 33ms/step\n",
            "\n",
            "Epoch 37/50\n",
            "\n",
            "63/63 - 2s - loss: 0.2230 - accuracy: 0.9083 - 2s/epoch - 32ms/step\n",
            "\n",
            "Epoch 38/50\n",
            "\n",
            "63/63 - 2s - loss: 0.2311 - accuracy: 0.9046 - 2s/epoch - 33ms/step\n",
            "\n",
            "Epoch 39/50\n",
            "\n",
            "63/63 - 2s - loss: 0.2123 - accuracy: 0.9131 - 2s/epoch - 32ms/step\n",
            "\n",
            "Epoch 40/50\n",
            "\n",
            "63/63 - 2s - loss: 0.2107 - accuracy: 0.9128 - 2s/epoch - 33ms/step\n",
            "\n",
            "Epoch 41/50\n",
            "\n",
            "63/63 - 2s - loss: 0.2146 - accuracy: 0.9124 - 2s/epoch - 33ms/step\n",
            "\n",
            "Epoch 42/50\n",
            "\n",
            "63/63 - 2s - loss: 0.2019 - accuracy: 0.9161 - 2s/epoch - 33ms/step\n",
            "\n",
            "Epoch 43/50\n",
            "\n",
            "63/63 - 2s - loss: 0.2089 - accuracy: 0.9134 - 2s/epoch - 32ms/step\n",
            "\n",
            "Epoch 44/50\n",
            "\n",
            "63/63 - 2s - loss: 0.1954 - accuracy: 0.9242 - 2s/epoch - 34ms/step\n",
            "\n",
            "Epoch 45/50\n",
            "\n",
            "63/63 - 2s - loss: 0.2001 - accuracy: 0.9224 - 2s/epoch - 32ms/step\n",
            "\n",
            "Epoch 46/50\n",
            "\n",
            "63/63 - 2s - loss: 0.1930 - accuracy: 0.9205 - 2s/epoch - 32ms/step\n",
            "\n",
            "Epoch 47/50\n",
            "\n",
            "63/63 - 2s - loss: 0.1952 - accuracy: 0.9234 - 2s/epoch - 33ms/step\n",
            "\n",
            "Epoch 48/50\n",
            "\n",
            "63/63 - 2s - loss: 0.1915 - accuracy: 0.9250 - 2s/epoch - 33ms/step\n",
            "\n",
            "Epoch 49/50\n",
            "\n",
            "63/63 - 2s - loss: 0.1991 - accuracy: 0.9217 - 2s/epoch - 35ms/step\n",
            "\n",
            "Epoch 50/50\n",
            "\n",
            "63/63 - 2s - loss: 0.1849 - accuracy: 0.9271 - 2s/epoch - 33ms/step\n",
            "\n",
            "message: Error ID is - a98ac56f-abd4-4d84-b486-794020522e47 - Error from upstream service: Client error '400 Bad Request' for url 'http://supervisor-prod-private.antigranular.com/privacyRequest'\n",
            "For more information check: https://httpstatuses.com/400. Response text: {\"detail\":\"Maximum delta or epsilon exceeded per query. Per query limits are eps : 1 and delta : 1\"}\n",
            "\n",
            "message: Error ID is - 8b2a742e-05a5-465f-838b-b8fc6456da33 - Error from upstream service: Client error '400 Bad Request' for url 'http://supervisor-prod-private.antigranular.com/privacyRequest'\n",
            "For more information check: https://httpstatuses.com/400. Response text: {\"detail\":\"Maximum delta or epsilon exceeded per query. Per query limits are eps : 1 and delta : 1\"}\n",
            "\n",
            "\u001b[0;31mValueError\u001b[0m: Request Limit Exceeded!\n"
          ]
        }
      ]
    },
    {
      "cell_type": "markdown",
      "source": [
        "### I applied standard scaler with `eps=0.9` .  "
      ],
      "metadata": {
        "id": "PNj4LgjdzLDF"
      }
    },
    {
      "cell_type": "code",
      "source": [
        "%%ag\n",
        "x_test_scaler = standard_scaler(PrivateDataFrame(x_test), eps=.9)\n",
        "y_pred = dp_model.predict(x_test_scaler, label_columns=[\"output\"])"
      ],
      "metadata": {
        "colab": {
          "base_uri": "https://localhost:8080/"
        },
        "id": "dt_0vemmvq17",
        "outputId": "3b22de44-bc4e-450c-ccf3-a358365844a5"
      },
      "execution_count": null,
      "outputs": [
        {
          "output_type": "stream",
          "name": "stdout",
          "text": [
            "\r 1/63 [..............................] - ETA: 24s\n",
            "\b\b\b\b\b\b\b\b\b\b\b\b\b\b\b\b\b\b\b\b\b\b\b\b\b\b\b\b\b\b\b\b\b\b\b\b\b\b\b\b\b\b\b\b\b\b\b\b\b\r 2/63 [..............................] - ETA: 4s \n",
            "\b\b\b\b\b\b\b\b\b\b\b\b\b\b\b\b\b\b\b\b\b\b\b\b\b\b\b\b\b\b\b\b\b\b\b\b\b\b\b\b\b\b\b\b\b\b\b\b\r15/63 [======>.......................] - ETA: 0s\n",
            "\b\b\b\b\b\b\b\b\b\b\b\b\b\b\b\b\b\b\b\b\b\b\b\b\b\b\b\b\b\b\b\b\b\b\b\b\b\b\b\b\b\b\b\b\b\b\b\b\r28/63 [============>.................] - ETA: 0s\n",
            "\b\b\b\b\b\b\b\b\b\b\b\b\b\b\b\b\b\b\b\b\b\b\b\b\b\b\b\b\b\b\b\b\b\b\b\b\b\b\b\b\b\b\b\b\b\b\b\b\r43/63 [===================>..........] - ETA: 0s\n",
            "\b\b\b\b\b\b\b\b\b\b\b\b\b\b\b\b\b\b\b\b\b\b\b\b\b\b\b\b\b\b\b\b\b\b\b\b\b\b\b\b\b\b\b\b\b\b\b\b\r57/63 [==========================>...] - ETA: 0s\n",
            "\b\b\b\b\b\b\b\b\b\b\b\b\b\b\b\b\b\b\b\b\b\b\b\b\b\b\b\b\b\b\b\b\b\b\b\b\b\b\b\b\b\b\b\b\b\b\b\b\r63/63 [==============================] - 1s 8ms/step\n",
            "\n"
          ]
        }
      ]
    },
    {
      "cell_type": "markdown",
      "source": [
        "### Converting the output to 0 or 1"
      ],
      "metadata": {
        "id": "idHV1sZzzao6"
      }
    },
    {
      "cell_type": "code",
      "source": [
        "%%ag\n",
        "# Note that the predictions are a float scalar\n",
        "# so we scale it\n",
        "def f(x: float) -> float:\n",
        "  if x > 0.5:\n",
        "    return 1\n",
        "  else:\n",
        "    return 0\n",
        "\n",
        "y_pred[\"output\"] = y_pred[\"output\"].map(f, output_bounds=(0, 1))"
      ],
      "metadata": {
        "id": "mJMoynKBAwMB"
      },
      "execution_count": null,
      "outputs": []
    },
    {
      "cell_type": "markdown",
      "source": [
        "###  Make your submission"
      ],
      "metadata": {
        "id": "8K19wo42GvcM"
      }
    },
    {
      "cell_type": "code",
      "source": [
        "%%ag\n",
        "result = submit_predictions(y_pred)"
      ],
      "metadata": {
        "colab": {
          "base_uri": "https://localhost:8080/"
        },
        "id": "ikoa-r-Ky79A",
        "outputId": "435dcf70-73b8-4d63-891e-41be736137d4"
      },
      "execution_count": null,
      "outputs": [
        {
          "output_type": "stream",
          "name": "stdout",
          "text": [
            "score: {'leaderboard': 0.8967691064769541, 'logs': {'BIN_ACC': 0.9197691064769541, 'LIN_EPS': -0.022999999999999975}}\n",
            "\n"
          ]
        }
      ]
    }
  ]
}