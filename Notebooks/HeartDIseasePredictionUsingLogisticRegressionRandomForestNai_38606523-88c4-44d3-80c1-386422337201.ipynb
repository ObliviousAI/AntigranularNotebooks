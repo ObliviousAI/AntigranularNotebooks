{
  "cells": [
    {
      "cell_type": "markdown",
      "metadata": {
        "id": "ntAr1tjWX-LI"
      },
      "source": []
    },
    {
      "cell_type": "code",
      "execution_count": null,
      "metadata": {
        "id": "uLT32OQQtkwo"
      },
      "outputs": [],
      "source": [
        "# Install the Antigranular package\n",
        "!pip install antigranular &> /dev/null"
      ]
    },
    {
      "cell_type": "code",
      "execution_count": null,
      "metadata": {
        "colab": {
          "base_uri": "https://localhost:8080/",
          "height": 196
        },
        "id": "9HDWHfcBtvdc",
        "outputId": "f625884e-1ff6-4e77-ea17-668f59ae7511"
      },
      "outputs": [
        {
          "data": {
            "text/html": [],
            "text/plain": [
              "<IPython.core.display.HTML object>"
            ]
          },
          "metadata": {},
          "output_type": "display_data"
        },
        {
          "name": "stdout",
          "output_type": "stream",
          "text": [
            "Dataset \"Heart Disease Prediction Hackathon Dataset\" loaded to the kernel as \u001b[92mheart_disease_prediction_hackathon_dataset\u001b[0m\n",
            "Key Name                       Value Type     \n",
            "---------------------------------------------\n",
            "train_y                        PrivateDataFrame\n",
            "train_x                        PrivateDataFrame\n",
            "test_x                         DataFrame      \n",
            "\n",
            "Connected to Antigranular server session id: 38606523-88c4-44d3-80c1-386422337201, the session will time out if idle for 25 minutes\n",
            "Cell magic '%%ag' registered successfully, use `%%ag` in a notebook cell to execute your python code on Antigranular private python server\n",
            "🚀 Everything's set up and ready to roll!\n"
          ]
        }
      ],
      "source": [
        "import antigranular as ag\n",
        "session = ag.login(<client_id>,<client_secret>, competition = \"Heart Disease Prediction Hackathon\")"
      ]
    },
    {
      "cell_type": "code",
      "execution_count": null,
      "metadata": {
        "id": "Qv6RR1KTt75-"
      },
      "outputs": [],
      "source": [
        "%%ag\n",
        "x_train = heart_disease_prediction_hackathon_dataset[\"train_x\"]\n",
        "y_train = heart_disease_prediction_hackathon_dataset[\"train_y\"]\n",
        "x_test = heart_disease_prediction_hackathon_dataset[\"test_x\"]"
      ]
    },
    {
      "cell_type": "code",
      "execution_count": null,
      "metadata": {
        "colab": {
          "base_uri": "https://localhost:8080/"
        },
        "id": "N9YK9wsW4oE_",
        "outputId": "d9734229-0de0-43bb-a552-a47691aed11f"
      },
      "outputs": [
        {
          "name": "stdout",
          "output_type": "stream",
          "text": [
            "['age', 'sex', 'bp', 'ch', 'bs', 'phr']\n",
            "Index(['age', 'sex', 'bp', 'ch', 'bs', 'phr'], dtype='object')\n",
            "\n"
          ]
        }
      ],
      "source": [
        "%%ag\n",
        "ag_print(x_train.columns)\n",
        "ag_print(x_test.columns)"
      ]
    },
    {
      "cell_type": "markdown",
      "source": [],
      "metadata": {
        "id": "9R0Tnpi969jZ"
      }
    },
    {
      "cell_type": "code",
      "execution_count": null,
      "metadata": {
        "colab": {
          "base_uri": "https://localhost:8080/"
        },
        "id": "Hp0-TfxfNl5T",
        "outputId": "5212afac-3340-476f-9e4a-ec003978cc6c"
      },
      "outputs": [
        {
          "name": "stdout",
          "output_type": "stream",
          "text": [
            "      age  sex   bp   ch   bs  phr\n",
            "0      71    1  128  326   95  117\n",
            "1      61    1  153  270   98  123\n",
            "2      59    1  113  236  106  181\n",
            "3      69    0  109  151  109  108\n",
            "4      55    0  137  235  101  150\n",
            "...   ...  ...  ...  ...  ...  ...\n",
            "1995   60    1  128  261  112  143\n",
            "1996   50    1  143  216   94  100\n",
            "1997   64    1  120  172   87  142\n",
            "1998   56    1  158  294   82  144\n",
            "1999   69    0  117  559  112  157\n",
            "\n",
            "[2000 rows x 6 columns]\n",
            "\n"
          ]
        }
      ],
      "source": [
        "%%ag\n",
        "ag_print(x_test)"
      ]
    },
    {
      "cell_type": "markdown",
      "source": [
        "# Differential Privacy using different diffprivlib models\n",
        "\n",
        "In this notebook, I implement and evaluate various machine learning models with differential privacy . The workflow involves standardizing the data using both custom and library-based scalers, and then training models like Logistic Regression, Random Forest, and Gaussian Naive Bayes. Each model is trained with a specified privacy budget (epsilon) to ensure privacy-preserving predictions. The predictions are then exported and submitted to a leaderboard for evaluation.\n"
      ],
      "metadata": {
        "id": "E4qdLUTJANif"
      }
    },
    {
      "cell_type": "markdown",
      "source": [
        "### Standard Scaler Manual Function\n",
        "This cell first defines a custom function `standard_scaler_manual` to standardize data. It calculates the mean and standard deviation for each column and then scales the data by subtracting the mean and dividing by the standard deviation.\n",
        "\n",
        "Next, it selects columns from `x_test` to scale and applies the `standard_scaler_manual` function.\n"
      ],
      "metadata": {
        "id": "Mz9FAGaA7BMf"
      }
    },
    {
      "cell_type": "code",
      "execution_count": null,
      "metadata": {
        "colab": {
          "base_uri": "https://localhost:8080/"
        },
        "id": "5c66nyIDVgIJ",
        "outputId": "e9ba2640-c6f5-4843-8408-cff33ff809e4"
      },
      "outputs": [
        {
          "name": "stdout",
          "output_type": "stream",
          "text": [
            "Index(['age', 'sex', 'bp', 'ch', 'bs', 'phr'], dtype='object')\n",
            "\n"
          ]
        }
      ],
      "source": [
        "%%ag\n",
        "def standard_scaler_manual(data):\n",
        "    # Calculate mean and standard deviation for each column\n",
        "    means = data.mean()\n",
        "    std_devs = data.std()\n",
        "\n",
        "    # Standardize each column\n",
        "    scaled_data = (data - means) / std_devs\n",
        "\n",
        "    return scaled_data\n",
        "\n",
        "# Assuming 'x_test' is your DataFrame and 'sex' is the column you want to exclude\n",
        "columns_to_scale = [col for col in x_test.columns]\n",
        "\n",
        "# Apply standard scaling to selected columns manually\n",
        "x_test_scaled = standard_scaler_manual(x_test[columns_to_scale])\n",
        "\n",
        "# x_test_scaled=x_test_scaled.tolist()\n",
        "\n",
        "# Print the column names of the scaled DataFrame\n",
        "ag_print(x_test_scaled.columns)\n"
      ]
    },
    {
      "cell_type": "markdown",
      "source": [],
      "metadata": {
        "id": "2RAptenG6_wZ"
      }
    },
    {
      "cell_type": "code",
      "execution_count": null,
      "metadata": {
        "colab": {
          "base_uri": "https://localhost:8080/"
        },
        "id": "7Jahao3EVyqu",
        "outputId": "db8b09a1-8f6d-4d36-b4f2-586704028211"
      },
      "outputs": [
        {
          "name": "stdout",
          "output_type": "stream",
          "text": [
            "           age       sex        bp        ch        bs       phr\n",
            "0     1.766038  0.672463 -0.171234  1.557830 -0.477453 -1.528098\n",
            "1     0.720952  0.672463  1.196887  0.471132 -0.294463 -1.244706\n",
            "2     0.511935  0.672463 -0.992106 -0.188649  0.193513  1.494752\n",
            "3     1.557021 -1.486327 -1.211006 -1.838101  0.376503 -1.953187\n",
            "4     0.093901 -1.486327  0.321289 -0.208054 -0.111472  0.030559\n",
            "...        ...       ...       ...       ...       ...       ...\n",
            "1995  0.616444  0.672463 -0.171234  0.296484  0.559494 -0.300065\n",
            "1996 -0.428642  0.672463  0.649638 -0.576755 -0.538450 -2.331043\n",
            "1997  1.034478  0.672463 -0.609033 -1.430589 -0.965429 -0.347297\n",
            "1998  0.198410  0.672463  1.470511  0.936860 -1.270413 -0.252833\n",
            "1999  1.557021 -1.486327 -0.773207  6.079269  0.559494  0.361183\n",
            "\n",
            "[2000 rows x 6 columns]\n",
            "\n"
          ]
        }
      ],
      "source": [
        "%%ag\n",
        "ag_print(x_test_scaled)"
      ]
    },
    {
      "cell_type": "markdown",
      "source": [
        "The `standard_scaler` function is used to apply standard scaling to the training data (`x_train`)."
      ],
      "metadata": {
        "id": "lKCjjZwyElGe"
      }
    },
    {
      "cell_type": "code",
      "execution_count": null,
      "metadata": {
        "id": "pzNElmT3WB3I"
      },
      "outputs": [],
      "source": [
        "%%ag\n",
        "#  Importing necessary libraries\n",
        "from op_pandas import standard_scaler,PrivateDataFrame\n",
        "\n",
        "# Assuming 'x_train' is your DataFrame and 'sex' is the column you want to exclude\n",
        "columns_to_scale = [col for col in x_train.columns]\n",
        "\n",
        "# Apply standard scaling to selected columns\n",
        "x_train_scaled = standard_scaler(x_train[columns_to_scale], eps=0.1)\n"
      ]
    },
    {
      "cell_type": "code",
      "execution_count": null,
      "metadata": {
        "colab": {
          "base_uri": "https://localhost:8080/"
        },
        "id": "XKyRfER3WUmW",
        "outputId": "a1e30838-6593-463d-8e9b-2055d55e974e"
      },
      "outputs": [
        {
          "name": "stdout",
          "output_type": "stream",
          "text": [
            "{'age': (-1.9185128845458763, 1.8131036161185545), 'sex': (-1.3525680442501236, 0.7306177851446554), 'bp': (-3.6132463724066013, 5.709982575715551), 'ch': (-1.4514821495197625, 3.6555611098762197), 'bs': (-4.771411457573128, 8.393270517145876), 'phr': (-3.2271728472610643, 2.653948474164446)}\n",
            "\n"
          ]
        }
      ],
      "source": [
        "%%ag\n",
        "ag_print(x_train_scaled.metadata)"
      ]
    },
    {
      "cell_type": "markdown",
      "source": [
        "# Logistic Regression\n"
      ],
      "metadata": {
        "id": "lQfsGYqh9nqP"
      }
    },
    {
      "cell_type": "markdown",
      "source": [
        "### L2 Norm Calculation\n",
        "This cell calculates the L2 norm for the scaled `x_train` DataFrame. It squares each element, sums these squares along the columns, takes the square root, and then finds the maximum L2 norm. The result is printed.\n"
      ],
      "metadata": {
        "id": "p-9LP4Ds8lsr"
      }
    },
    {
      "cell_type": "code",
      "execution_count": null,
      "metadata": {
        "colab": {
          "base_uri": "https://localhost:8080/"
        },
        "id": "-9uWjx2pwBbP",
        "outputId": "467e83ae-2d69-43ea-812a-1a492044f9e3"
      },
      "outputs": [
        {
          "name": "stderr",
          "output_type": "stream",
          "text": [
            "/usr/local/lib/python3.10/site-packages/diffprivlib/tools/utils.py:276: PrivacyLeakWarning: Bounds have not been specified and will be calculated on the data provided. This will result in additional privacy leakage. To ensure differential privacy and no additional privacy leakage, specify bounds for each dimension.\n",
            "  warnings.warn(\"Bounds have not been specified and will be calculated on the data provided. This will \"\n",
            "\n"
          ]
        },
        {
          "name": "stdout",
          "output_type": "stream",
          "text": [
            "Max L2 norm (data_norm): 3.4535451599767155\n",
            "\n"
          ]
        }
      ],
      "source": [
        "%%ag\n",
        "x_train_norm = x_train_scaled ** 2\n",
        "\n",
        "# Sum the squared values along the columns (axis=1)\n",
        "l_2_norm = x_train_norm.sum(axis=1) ** 0.5\n",
        "\n",
        "# Get the maximum L2 norm\n",
        "data_norm = l_2_norm.max(eps=0.01)\n",
        "\n",
        "ag_print(\"Max L2 norm (data_norm):\", data_norm)"
      ]
    },
    {
      "cell_type": "markdown",
      "source": [
        "### Logistic Regression Model Training\n",
        "This cell initializes a logistic regression model with a privacy budget (`epsilon`) of 0.1 and a specified data norm. It then fits the model to the scaled `x_train` and `y_train` data and predicts the labels for the scaled `x_test` data.\n"
      ],
      "metadata": {
        "id": "zEV2LC7y8skb"
      }
    },
    {
      "cell_type": "code",
      "execution_count": null,
      "metadata": {
        "colab": {
          "base_uri": "https://localhost:8080/"
        },
        "id": "0rbzk-PpxEBN",
        "outputId": "15c64c92-2bab-4f7d-ff40-e4b6bbf47bd7"
      },
      "outputs": [
        {
          "name": "stderr",
          "output_type": "stream",
          "text": [
            "/usr/local/lib/python3.10/site-packages/sklearn/utils/validation.py:1310: DataConversionWarning: A column-vector y was passed when a 1d array was expected. Please change the shape of y to (n_samples, ), for example using ravel().\n",
            "  y = column_or_1d(y, warn=True)\n",
            "\n"
          ]
        }
      ],
      "source": [
        "%%ag\n",
        "from op_diffprivlib.models import LogisticRegression\n",
        "\n",
        "epsilon = 0.1\n",
        "\n",
        "clf = LogisticRegression(epsilon=epsilon, data_norm=3.4535451599767155)\n",
        "clf.fit(x_train_scaled, y_train)\n",
        "y_pred = clf.predict(x_test_scaled)\n"
      ]
    },
    {
      "cell_type": "code",
      "execution_count": null,
      "metadata": {
        "colab": {
          "base_uri": "https://localhost:8080/"
        },
        "id": "lLqyC2ewxlik",
        "outputId": "e10e12b8-7086-4647-d242-5206a8ae41d2"
      },
      "outputs": [
        {
          "name": "stdout",
          "output_type": "stream",
          "text": [
            "[0 1 0 ... 1 1 0]\n",
            "\n"
          ]
        }
      ],
      "source": [
        "%%ag\n",
        "ag_print(y_pred)"
      ]
    },
    {
      "cell_type": "markdown",
      "source": [
        "### Export Predictions\n",
        "This cell converts the predictions into a `DataFrame`, exports it to the local environment, and submits the predictions to a leaderboard.\n"
      ],
      "metadata": {
        "id": "XhYl1xcu8w1c"
      }
    },
    {
      "cell_type": "code",
      "execution_count": null,
      "metadata": {
        "colab": {
          "base_uri": "https://localhost:8080/"
        },
        "id": "AyvhG1VoxkdC",
        "outputId": "0b578dba-4d3c-48e9-8c90-675fba32868b"
      },
      "outputs": [
        {
          "name": "stdout",
          "output_type": "stream",
          "text": [
            "Setting up exported variable in local environment: my_predictions\n",
            "\u001b[0;31mNameError\u001b[0m: name 'session' is not defined\n"
          ]
        }
      ],
      "source": [
        "%%ag\n",
        "# Prepare to export it by converting it into a DataFrame\n",
        "from pandas import DataFrame\n",
        "my_predictions = DataFrame(y_pred)\n",
        "# Export to local enviroment\n",
        "export(y_pred, \"my_predictions\")"
      ]
    },
    {
      "cell_type": "code",
      "execution_count": null,
      "metadata": {
        "colab": {
          "base_uri": "https://localhost:8080/"
        },
        "id": "5GlbLk6ex4xK",
        "outputId": "5c61e337-4785-429a-d320-05d2630b5d23"
      },
      "outputs": [
        {
          "data": {
            "text/plain": [
              "{'score': {'leaderboard': 0.6022827834374976,\n",
              "  'logs': {'BIN_ACC': 0.6154791234887222, 'LIN_EPS': -0.01319634005122459}}}"
            ]
          },
          "execution_count": 153,
          "metadata": {},
          "output_type": "execute_result"
        }
      ],
      "source": [
        "from pandas import DataFrame\n",
        "# Send predictions to the leaderboard\n",
        "session.submit_predictions(DataFrame(my_predictions))"
      ]
    },
    {
      "cell_type": "markdown",
      "source": [
        "# Random Forest"
      ],
      "metadata": {
        "id": "EvLMQtHS-0Qy"
      }
    },
    {
      "cell_type": "markdown",
      "metadata": {
        "id": "aWBB_OILQxmX"
      },
      "source": [
        "### Calculate Low and High Bounds\n",
        "This cell calculates the low and high bounds for each column in the `x_train_scaled` DataFrame using metadata. It stores these bounds in `low_bound` and `high_bound` lists.\n"
      ]
    },
    {
      "cell_type": "code",
      "execution_count": null,
      "metadata": {
        "id": "EQZnE_FHYvB5"
      },
      "outputs": [],
      "source": [
        "%%ag\n",
        "# Calculate low and high bounds\n",
        "low_bound, high_bound = [], []\n",
        "for col in x_train_scaled.columns:\n",
        "    low, high = x_train_scaled.metadata[col]\n",
        "    low_bound.append(low)\n",
        "    high_bound.append(high)\n",
        "\n",
        "x_bounds_scaled_train = (low_bound, high_bound)"
      ]
    },
    {
      "cell_type": "markdown",
      "source": [
        "### Initialize and Train Random Forest Classifier\n",
        "This cell initializes a `RandomForestClassifier` with 500 estimators, an epsilon of 0.1, specified bounds, classes, and other parameters. It then fits the classifier to the `x_train_scaled` and `y_train` data.\n"
      ],
      "metadata": {
        "id": "UYwCzbkW-bi5"
      }
    },
    {
      "cell_type": "code",
      "execution_count": null,
      "metadata": {
        "id": "7Q6-TPVaD1fG"
      },
      "outputs": [],
      "source": [
        "%%ag\n",
        "from op_diffprivlib.models import RandomForestClassifier\n",
        "ran_model=RandomForestClassifier(n_estimators=500,epsilon=0.1, bounds=x_bounds_scaled_train, classes=[0,1],n_jobs=1,max_depth=5)"
      ]
    },
    {
      "cell_type": "code",
      "execution_count": null,
      "metadata": {
        "colab": {
          "base_uri": "https://localhost:8080/"
        },
        "id": "qaX68DVxEsMJ",
        "outputId": "ce8cd0c0-342f-455c-f42a-25c5664529c8"
      },
      "outputs": [
        {
          "name": "stderr",
          "output_type": "stream",
          "text": [
            "/usr/local/lib/python3.10/site-packages/sklearn/utils/validation.py:1310: DataConversionWarning: A column-vector y was passed when a 1d array was expected. Please change the shape of y to (n_samples, ), for example using ravel().\n",
            "  y = column_or_1d(y, warn=True)\n",
            "\n"
          ]
        }
      ],
      "source": [
        "%%ag\n",
        "ran_model.fit(x_train_scaled, y_train)"
      ]
    },
    {
      "cell_type": "markdown",
      "source": [
        "### Predict Using Random Forest Classifier\n",
        "This cell uses the trained `RandomForestClassifier` to predict the labels for the `x_test_scaled` data and stores the predictions in `y_pred`.\n"
      ],
      "metadata": {
        "id": "dGMbBah0-kTp"
      }
    },
    {
      "cell_type": "code",
      "execution_count": null,
      "metadata": {
        "id": "RjB2v3UbE2_E"
      },
      "outputs": [],
      "source": [
        "%%ag\n",
        "y_pred = ran_model.predict(x_test_scaled)"
      ]
    },
    {
      "cell_type": "code",
      "execution_count": null,
      "metadata": {
        "colab": {
          "base_uri": "https://localhost:8080/"
        },
        "id": "DcKYiq9jE9UB",
        "outputId": "5e0be46c-c28b-4f33-c794-c20e46c3ad94"
      },
      "outputs": [
        {
          "name": "stdout",
          "output_type": "stream",
          "text": [
            "[0 0 1 ... 1 0 1]\n",
            "\n"
          ]
        }
      ],
      "source": [
        "%%ag\n",
        "ag_print(y_pred)"
      ]
    },
    {
      "cell_type": "markdown",
      "source": [
        "### Export Predictions\n",
        "This cell converts the predictions into a `DataFrame`, exports it to the local environment, and submits the predictions to a leaderboard.\n"
      ],
      "metadata": {
        "id": "jRvHafnn-oji"
      }
    },
    {
      "cell_type": "code",
      "execution_count": null,
      "metadata": {
        "id": "cXChfd7NFU5e"
      },
      "outputs": [],
      "source": [
        "%%ag\n",
        "# Prepare to export it by converting it into a DataFrame\n",
        "from pandas import DataFrame\n",
        "my_predictions = DataFrame(y_pred)"
      ]
    },
    {
      "cell_type": "code",
      "execution_count": null,
      "metadata": {
        "colab": {
          "base_uri": "https://localhost:8080/"
        },
        "id": "_gZ9Qqn1FYUw",
        "outputId": "114a68df-cce8-4679-ad65-b2e3ddc44e01"
      },
      "outputs": [
        {
          "name": "stdout",
          "output_type": "stream",
          "text": [
            "Setting up exported variable in local environment: my_predictions\n"
          ]
        }
      ],
      "source": [
        "%%ag\n",
        "# Export to local enviroment\n",
        "export(y_pred, \"my_predictions\")"
      ]
    },
    {
      "cell_type": "code",
      "execution_count": null,
      "metadata": {
        "colab": {
          "base_uri": "https://localhost:8080/"
        },
        "id": "b4HQ-X0KFcZk",
        "outputId": "f7bd52af-c5ac-42c3-e704-b029bc0d6597"
      },
      "outputs": [
        {
          "data": {
            "text/plain": [
              "{'score': {'leaderboard': 0.6081428667932699,\n",
              "  'logs': {'BIN_ACC': 0.6204892068444945, 'LIN_EPS': -0.012346340051224593}}}"
            ]
          },
          "execution_count": 117,
          "metadata": {},
          "output_type": "execute_result"
        }
      ],
      "source": [
        "from pandas import DataFrame\n",
        "# Send predictions to the leaderboard\n",
        "session.submit_predictions(DataFrame(my_predictions))"
      ]
    },
    {
      "cell_type": "markdown",
      "source": [
        "#Gaussian Naive Bayes"
      ],
      "metadata": {
        "id": "Z_0u9IiE-8-S"
      }
    },
    {
      "cell_type": "markdown",
      "source": [
        "### Train Gaussian Naive Bayes Classifier\n",
        "This cell imports the `GaussianNB` model from `op_diffprivlib.models`, sets a seed for repeatability, and initializes a Gaussian Naive Bayes classifier with a specified privacy budget (`epsilon`). It then fits the classifier to the `x_train_scaled` and `y_train` data.\n"
      ],
      "metadata": {
        "id": "AHCSRZ2G_L09"
      }
    },
    {
      "cell_type": "code",
      "execution_count": null,
      "metadata": {
        "colab": {
          "base_uri": "https://localhost:8080/"
        },
        "id": "GhNnHPioui94",
        "outputId": "6bc2fca5-f638-4ddc-fb21-db74621e77e1"
      },
      "outputs": [
        {
          "name": "stderr",
          "output_type": "stream",
          "text": [
            "/usr/local/lib/python3.10/site-packages/sklearn/utils/validation.py:1300: DataConversionWarning: A column-vector y was passed when a 1d array was expected. Please change the shape of y to (n_samples, ), for example using ravel().\n",
            "  y = column_or_1d(y, warn=True)\n",
            "\n"
          ]
        }
      ],
      "source": [
        "%%ag\n",
        "from op_diffprivlib.models import GaussianNB\n",
        "\n",
        "seed = 1 # to have a repeatable result for debugging\n",
        "epsilon = 0.1\n",
        "\n",
        "clf = GaussianNB(epsilon=epsilon,bounds=X_bounds)\n",
        "clf.fit(x_train_scaled, y_train)\n",
        "\n"
      ]
    },
    {
      "cell_type": "markdown",
      "source": [
        "### Scale Test Data and Predict Using Gaussian Naive Bayes\n",
        "This cell scales the `x_test` data using a standard scaler with a privacy budget (`eps`) and then uses the trained Gaussian Naive Bayes classifier to predict the labels for the scaled `x_test` data. The predictions are stored in `y_pred`."
      ],
      "metadata": {
        "id": "Zy0BztsQ_Zbz"
      }
    },
    {
      "cell_type": "code",
      "execution_count": null,
      "metadata": {
        "id": "9FmYXAjC-jnI"
      },
      "outputs": [],
      "source": [
        "%%ag\n",
        "x_test_scaler = standard_scaler(PrivateDataFrame(x_test), eps=.1)\n",
        "y_pred = clf.predict(x_test_scaler)"
      ]
    },
    {
      "cell_type": "code",
      "execution_count": null,
      "metadata": {
        "colab": {
          "base_uri": "https://localhost:8080/"
        },
        "id": "75JLM0Eu62Hd",
        "outputId": "0c9f32b8-371c-4b29-ba3c-30499d14e82e"
      },
      "outputs": [
        {
          "name": "stdout",
          "output_type": "stream",
          "text": [
            "[0 0 1 ... 0 1 0]\n",
            "\n"
          ]
        }
      ],
      "source": [
        "%%ag\n",
        "ag_print(y_pred)"
      ]
    },
    {
      "cell_type": "markdown",
      "source": [
        "### Export Predictions\n",
        "This cell converts the predictions into a `DataFrame`, exports it to the local environment, and submits the predictions to a leaderboard.\n"
      ],
      "metadata": {
        "id": "S66TvMgW_eej"
      }
    },
    {
      "cell_type": "code",
      "execution_count": null,
      "metadata": {
        "id": "KkGUF87jwg51"
      },
      "outputs": [],
      "source": [
        "%%ag\n",
        "# Prepare to export it by converting it into a DataFrame\n",
        "from pandas import DataFrame\n",
        "my_predictions = DataFrame(y_pred)\n",
        "# Export to local enviroment\n",
        "export(y_pred, \"my_predictions\")\n",
        "from pandas import DataFrame\n",
        "# Send predictions to the leaderboard\n",
        "session.submit_predictions(DataFrame(my_predictions))"
      ]
    },
    {
      "cell_type": "code",
      "execution_count": null,
      "metadata": {
        "colab": {
          "base_uri": "https://localhost:8080/"
        },
        "id": "XAHM3-GY9fjm",
        "outputId": "c7ef2815-e709-4fba-e7eb-27e5e9b15f4b"
      },
      "outputs": [
        {
          "name": "stdout",
          "output_type": "stream",
          "text": [
            "Setting up exported variable in local environment: my_predictions\n"
          ]
        }
      ],
      "source": [
        "%%ag\n",
        "# Export to local enviroment\n",
        "export(y_pred, \"my_predictions\")"
      ]
    },
    {
      "cell_type": "code",
      "execution_count": null,
      "metadata": {
        "colab": {
          "base_uri": "https://localhost:8080/"
        },
        "id": "O2he2N_W6q9B",
        "outputId": "6e1e20b5-c176-4e95-fa0d-d661d215e5ba"
      },
      "outputs": [
        {
          "data": {
            "text/plain": [
              "{'score': {'leaderboard': 0.6296271060426313,\n",
              "  'logs': {'BIN_ACC': 0.6296271060426313}}}"
            ]
          },
          "execution_count": 75,
          "metadata": {},
          "output_type": "execute_result"
        }
      ],
      "source": [
        "from pandas import DataFrame\n",
        "# Send predictions to the leaderboard\n",
        "session.submit_predictions(DataFrame(my_predictions))"
      ]
    }
  ],
  "metadata": {
    "colab": {
      "provenance": []
    },
    "kernelspec": {
      "display_name": "Python 3",
      "name": "python3"
    },
    "language_info": {
      "name": "python"
    }
  },
  "nbformat": 4,
  "nbformat_minor": 0
}