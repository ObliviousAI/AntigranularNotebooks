{
  "cells": [
    {
      "cell_type": "code",
      "execution_count": 1,
      "metadata": {
        "id": "IuIGLYkl_jCM"
      },
      "outputs": [],
      "source": [
        "!pip install antigranular &> /dev/null"
      ]
    },
    {
      "cell_type": "code",
      "execution_count": 2,
      "metadata": {
        "colab": {
          "base_uri": "https://localhost:8080/",
          "height": 191
        },
        "id": "BD3ti7Cp_jCO",
        "outputId": "b06aaaaf-d44e-4cea-f76c-1dd87c232227"
      },
      "outputs": [
        {
          "data": {
            "text/html": [],
            "text/plain": [
              "<IPython.core.display.HTML object>"
            ]
          },
          "metadata": {},
          "output_type": "display_data"
        },
        {
          "name": "stdout",
          "output_type": "stream",
          "text": [
            "Dataset \"Statistical Performance Indicators\" loaded to the kernel as \u001b[92mstatistical_performance_indicators\u001b[0m\n",
            "Key Name                       Value Type     \n",
            "---------------------------------------------\n",
            "train_x                        PrivateDataFrame\n",
            "train_y                        PrivateDataFrame\n",
            "test_x                         DataFrame      \n",
            "\n",
            "Connected to Antigranular server session id: 50cca839-4690-4c67-beb0-c40a0fd71a2e, the session will time out if idle for 25 minutes\n",
            "Cell magic '%%ag' registered successfully, use `%%ag` in a notebook cell to execute your python code on Antigranular private python server\n",
            "🚀 Everything's set up and ready to roll!\n"
          ]
        }
      ],
      "source": [
        "import antigranular as ag\n",
        "session = ag.login(<client_id>,<client_secret>, competition = \"Global Economic Forecast Hackathon with Texas A&M Aggie Data Science\")"
      ]
    },
    {
      "cell_type": "code",
      "execution_count": 3,
      "metadata": {
        "id": "cii4DQGY_jCP"
      },
      "outputs": [],
      "source": [
        "%%ag\n",
        "x_train = statistical_performance_indicators[\"train_x\"]\n",
        "y_train = statistical_performance_indicators[\"train_y\"]\n",
        "x_test = statistical_performance_indicators[\"test_x\"]"
      ]
    },
    {
      "cell_type": "code",
      "execution_count": 4,
      "metadata": {
        "colab": {
          "base_uri": "https://localhost:8080/"
        },
        "id": "heNuJZmD_jCQ",
        "outputId": "34a17a82-8a01-4470-832e-7ba8ab7ec873"
      },
      "outputs": [
        {
          "name": "stderr",
          "output_type": "stream",
          "text": [
            "/usr/local/lib/python3.10/site-packages/tensorflow/__init__.py:30: DeprecationWarning: The distutils package is deprecated and slated for removal in Python 3.12. Use setuptools or check PEP 632 for potential alternatives\n",
            "  import distutils as _distutils\n",
            "\n",
            "2024-12-21 11:50:31.024924: I tensorflow/core/util/port.cc:113] oneDNN custom operations are on. You may see slightly different numerical results due to floating-point round-off errors from different computation orders. To turn them off, set the environment variable `TF_ENABLE_ONEDNN_OPTS=0`.\n",
            "2024-12-21 11:50:31.028061: I external/local_tsl/tsl/cuda/cudart_stub.cc:31] Could not find cuda drivers on your machine, GPU will not be used.\n",
            "2024-12-21 11:50:31.139662: E external/local_xla/xla/stream_executor/cuda/cuda_dnn.cc:9261] Unable to register cuDNN factory: Attempting to register factory for plugin cuDNN when one has already been registered\n",
            "2024-12-21 11:50:31.139689: E external/local_xla/xla/stream_executor/cuda/cuda_fft.cc:607] Unable to register cuFFT factory: Attempting to register factory for plugin cuFFT when one has already been registered\n",
            "2024-12-21 11:50:31.140696: E external/local_xla/xla/stream_executor/cuda/cuda_blas.cc:1515] Unable to register cuBLAS factory: Attempting to register factory for plugin cuBLAS when one has already been registered\n",
            "2024-12-21 11:50:31.223090: I external/local_tsl/tsl/cuda/cudart_stub.cc:31] Could not find cuda drivers on your machine, GPU will not be used.\n",
            "2024-12-21 11:50:31.223810: I tensorflow/core/platform/cpu_feature_guard.cc:182] This TensorFlow binary is optimized to use available CPU instructions in performance-critical operations.\n",
            "To enable the following instructions: AVX2 AVX512F AVX512_VNNI FMA, in other operations, rebuild TensorFlow with the appropriate compiler flags.\n",
            "\n",
            "2024-12-21 11:50:34.727963: W tensorflow/compiler/tf2tensorrt/utils/py_utils.cc:38] TF-TRT Warning: Could not find TensorRT\n",
            "\n"
          ]
        }
      ],
      "source": [
        "%%ag\n",
        "import tensorflow as tf\n",
        "from op_pandas import standard_scaler, PrivateDataFrame\n",
        "from tensorflow.keras.models import Sequential\n",
        "from tensorflow.keras.layers import Dense, Dropout\n",
        "from op_tensorflow import PrivateKerasModel, PrivateDataLoader\n",
        "from tensorflow.keras.models import Sequential\n",
        "from tensorflow.keras.layers import Dense, Conv1D, MaxPooling1D, Flatten,BatchNormalization\n",
        "\n",
        "model = Sequential([\n",
        "    Conv1D(256, 5, activation='relu', input_shape=(24, 1)),\n",
        "    BatchNormalization(),\n",
        "    Dropout(0.2),\n",
        "    Conv1D(128, 5, activation='relu'),\n",
        "    BatchNormalization(),\n",
        "    Dropout(0.2),\n",
        "    Conv1D(128, 5, activation='relu'),\n",
        "    BatchNormalization(),\n",
        "    Dropout(0.2),\n",
        "    Flatten(),\n",
        "    Dense(256, activation='relu'),\n",
        "    Dropout(0.2),\n",
        "    Dense(128, activation='relu'),\n",
        "    Dropout(0.2),\n",
        "    Dense(128, activation='relu'),\n",
        "    Dropout(0.2),\n",
        "    Dense(128, activation='relu'),\n",
        "    Dropout(0.2),\n",
        "    Dense(128, activation='relu'),\n",
        "    Dropout(0.2),\n",
        "    Dense(64, activation='relu'),\n",
        "    Dropout(0.2),\n",
        "    Dense(64, activation='relu'),\n",
        "    Dense(1, activation='sigmoid')\n",
        "])\n",
        "\n",
        "\n",
        "dp_model = PrivateKerasModel(model=model, l2_norm_clip=1, noise_multiplier=0.25)"
      ]
    },
    {
      "cell_type": "code",
      "execution_count": 5,
      "metadata": {
        "id": "gU8SQAlM_jCR"
      },
      "outputs": [],
      "source": [
        "%%ag\n",
        "optimizer = tf.keras.optimizers.Adam(learning_rate=0.001)\n",
        "\n",
        "dp_model.compile(\n",
        "\toptimizer = optimizer,\n",
        "\tloss = 'binary_crossentropy',\n",
        "\tmetrics = [\"accuracy\"]\n",
        ")"
      ]
    },
    {
      "cell_type": "code",
      "execution_count": 6,
      "metadata": {
        "id": "UuEOn4bC_jCS"
      },
      "outputs": [],
      "source": [
        "%%ag\n",
        "data_loader = PrivateDataLoader(feature_df=x_train , label_df=y_train, batch_size=8)"
      ]
    },
    {
      "cell_type": "code",
      "execution_count": 7,
      "metadata": {
        "id": "0jgYb-i__jCS"
      },
      "outputs": [],
      "source": [
        "%%ag\n",
        "def f(x: float) -> float:\n",
        "    return 1 if x > 0.5 else 0\n",
        "x_test=PrivateDataFrame(x_test)\n"
      ]
    },
    {
      "cell_type": "code",
      "execution_count": null,
      "metadata": {
        "id": "RFMbjo52_jCT"
      },
      "outputs": [],
      "source": [
        "%%ag\n",
        "optimizer = tf.keras.optimizers.Adam(learning_rate=0.0001)\n",
        "\n",
        "dp_model.compile(\n",
        "\toptimizer = optimizer,\n",
        "\tloss = 'binary_crossentropy',\n",
        "\tmetrics = [\"accuracy\"]\n",
        ")"
      ]
    },
    {
      "cell_type": "code",
      "execution_count": null,
      "metadata": {
        "id": "-TGm56oV_jCT",
        "outputId": "db131049-13d7-4d17-9ba2-8e40632f2819"
      },
      "outputs": [
        {
          "name": "stdout",
          "output_type": "stream",
          "text": [
            "Epoch 1/5\n",
            "\n",
            "115/115 - 27s - loss: 0.1474 - accuracy: 0.9451 - 27s/epoch - 235ms/step\n",
            "\n",
            "Epoch 2/5\n",
            "\n",
            "115/115 - 27s - loss: 0.1728 - accuracy: 0.9265 - 27s/epoch - 231ms/step\n",
            "\n",
            "Epoch 3/5\n",
            "\n",
            "115/115 - 27s - loss: 0.1496 - accuracy: 0.9376 - 27s/epoch - 236ms/step\n",
            "\n",
            "Epoch 4/5\n",
            "\n",
            "115/115 - 27s - loss: 0.1520 - accuracy: 0.9411 - 27s/epoch - 235ms/step\n",
            "\n",
            "Epoch 5/5\n",
            "\n",
            "115/115 - 27s - loss: 0.1415 - accuracy: 0.9473 - 27s/epoch - 236ms/step\n"
          ]
        }
      ],
      "source": [
        "%%ag\n",
        "dp_model.fit(x=data_loader, epochs=5, target_delta=1)"
      ]
    },
    {
      "cell_type": "code",
      "execution_count": null,
      "metadata": {
        "id": "ZjZbehXE_jCU",
        "outputId": "6087e142-2694-4858-e048-f422c6f014fa"
      },
      "outputs": [
        {
          "name": "stdout",
          "output_type": "stream",
          "text": [
            " 1/13 [=>............................] - ETA: 2s\n",
            " 4/13 [========>.....................] - ETA: 0s\n",
            " 6/13 [============>.................] - ETA: 0s\n",
            " 8/13 [=================>............] - ETA: 0s\n",
            "11/13 [========================>.....] - ETA: 0s\n",
            "13/13 [==============================] - ETA: 0s\n",
            "13/13 [==============================] - 1s 42ms/step\n",
            "\n",
            "score: {'leaderboard': 0.9653884053828252, 'logs': {'BIN_ACC': 0.9654976555455466, 'LIN_EPS': -0.0001092501627213056}}\n",
            "\n"
          ]
        }
      ],
      "source": [
        "%%ag\n",
        "y_pred = dp_model.predict(x_test, label_columns=[\"output\"])\n",
        "y_pred[\"output\"] = y_pred[\"output\"].map(f, output_bounds=(0, 1))\n",
        "result = submit_predictions(y_pred)"
      ]
    }
  ],
  "metadata": {
    "colab": {
      "provenance": []
    },
    "kernelspec": {
      "display_name": ".venv",
      "language": "python",
      "name": "python3"
    },
    "language_info": {
      "codemirror_mode": {
        "name": "ipython",
        "version": 3
      },
      "file_extension": ".py",
      "mimetype": "text/x-python",
      "name": "python",
      "nbconvert_exporter": "python",
      "pygments_lexer": "ipython3",
      "version": "3.11.6"
    }
  },
  "nbformat": 4,
  "nbformat_minor": 0
}
