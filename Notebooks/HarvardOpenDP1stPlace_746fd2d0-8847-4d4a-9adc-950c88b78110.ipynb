{
  "cells": [
    {
      "cell_type": "code",
      "execution_count": null,
      "outputs": [
        {
          "output_type": "stream",
          "name": "stdout",
          "text": [
            "Collecting antigranular\n",
            "  Downloading antigranular-0.2.16-py3-none-any.whl (18 kB)\n",
            "Collecting diffprivlib<0.7.0,>=0.6.2 (from antigranular)\n",
            "  Downloading diffprivlib-0.6.3-py3-none-any.whl (176 kB)\n",
            "\u001b[2K     \u001b[90m━━━━━━━━━━━━━━━━━━━━━━━━━━━━━━━━━━━━━━━━\u001b[0m \u001b[32m176.0/176.0 kB\u001b[0m \u001b[31m2.2 MB/s\u001b[0m eta \u001b[36m0:00:00\u001b[0m\n",
            "\u001b[?25hRequirement already satisfied: ipython<8.0.0,>=7.34.0 in /usr/local/lib/python3.10/dist-packages (from antigranular) (7.34.0)\n",
            "Collecting oblv-client<0.2.0,>=0.1.15 (from antigranular)\n",
            "  Downloading oblv_client-0.1.15-cp310-cp310-manylinux_2_17_x86_64.manylinux2014_x86_64.whl (6.2 MB)\n",
            "\u001b[2K     \u001b[90m━━━━━━━━━━━━━━━━━━━━━━━━━━━━━━━━━━━━━━━━\u001b[0m \u001b[32m6.2/6.2 MB\u001b[0m \u001b[31m14.5 MB/s\u001b[0m eta \u001b[36m0:00:00\u001b[0m\n",
            "\u001b[?25hCollecting onnx<2.0.0,>=1.14.0 (from antigranular)\n",
            "  Downloading onnx-1.15.0-cp310-cp310-manylinux_2_17_x86_64.manylinux2014_x86_64.whl (15.7 MB)\n",
            "\u001b[2K     \u001b[90m━━━━━━━━━━━━━━━━━━━━━━━━━━━━━━━━━━━━━━━━\u001b[0m \u001b[32m15.7/15.7 MB\u001b[0m \u001b[31m19.1 MB/s\u001b[0m eta \u001b[36m0:00:00\u001b[0m\n",
            "\u001b[?25hRequirement already satisfied: pandas<2.0.0,>=1.5.3 in /usr/local/lib/python3.10/dist-packages (from antigranular) (1.5.3)\n",
            "Requirement already satisfied: pydantic<2.0.0,>=1.10.7 in /usr/local/lib/python3.10/dist-packages (from antigranular) (1.10.13)\n",
            "Requirement already satisfied: requests<3.0.0,>=2.31.0 in /usr/local/lib/python3.10/dist-packages (from antigranular) (2.31.0)\n",
            "Requirement already satisfied: numpy>=1.21.6 in /usr/local/lib/python3.10/dist-packages (from diffprivlib<0.7.0,>=0.6.2->antigranular) (1.23.5)\n",
            "Requirement already satisfied: scikit-learn>=0.24.2 in /usr/local/lib/python3.10/dist-packages (from diffprivlib<0.7.0,>=0.6.2->antigranular) (1.2.2)\n",
            "Requirement already satisfied: scipy>=1.7.3 in /usr/local/lib/python3.10/dist-packages (from diffprivlib<0.7.0,>=0.6.2->antigranular) (1.11.4)\n",
            "Requirement already satisfied: joblib>=0.16.0 in /usr/local/lib/python3.10/dist-packages (from diffprivlib<0.7.0,>=0.6.2->antigranular) (1.3.2)\n",
            "Requirement already satisfied: setuptools>=49.0.0 in /usr/local/lib/python3.10/dist-packages (from diffprivlib<0.7.0,>=0.6.2->antigranular) (67.7.2)\n",
            "Collecting jedi>=0.16 (from ipython<8.0.0,>=7.34.0->antigranular)\n",
            "  Downloading jedi-0.19.1-py2.py3-none-any.whl (1.6 MB)\n",
            "\u001b[2K     \u001b[90m━━━━━━━━━━━━━━━━━━━━━━━━━━━━━━━━━━━━━━━━\u001b[0m \u001b[32m1.6/1.6 MB\u001b[0m \u001b[31m18.6 MB/s\u001b[0m eta \u001b[36m0:00:00\u001b[0m\n",
            "\u001b[?25hRequirement already satisfied: decorator in /usr/local/lib/python3.10/dist-packages (from ipython<8.0.0,>=7.34.0->antigranular) (4.4.2)\n",
            "Requirement already satisfied: pickleshare in /usr/local/lib/python3.10/dist-packages (from ipython<8.0.0,>=7.34.0->antigranular) (0.7.5)\n",
            "Requirement already satisfied: traitlets>=4.2 in /usr/local/lib/python3.10/dist-packages (from ipython<8.0.0,>=7.34.0->antigranular) (5.7.1)\n",
            "Requirement already satisfied: prompt-toolkit!=3.0.0,!=3.0.1,<3.1.0,>=2.0.0 in /usr/local/lib/python3.10/dist-packages (from ipython<8.0.0,>=7.34.0->antigranular) (3.0.43)\n",
            "Requirement already satisfied: pygments in /usr/local/lib/python3.10/dist-packages (from ipython<8.0.0,>=7.34.0->antigranular) (2.16.1)\n",
            "Requirement already satisfied: backcall in /usr/local/lib/python3.10/dist-packages (from ipython<8.0.0,>=7.34.0->antigranular) (0.2.0)\n",
            "Requirement already satisfied: matplotlib-inline in /usr/local/lib/python3.10/dist-packages (from ipython<8.0.0,>=7.34.0->antigranular) (0.1.6)\n",
            "Requirement already satisfied: pexpect>4.3 in /usr/local/lib/python3.10/dist-packages (from ipython<8.0.0,>=7.34.0->antigranular) (4.9.0)\n",
            "Requirement already satisfied: urllib3 in /usr/local/lib/python3.10/dist-packages (from oblv-client<0.2.0,>=0.1.15->antigranular) (2.0.7)\n",
            "Requirement already satisfied: protobuf>=3.20.2 in /usr/local/lib/python3.10/dist-packages (from onnx<2.0.0,>=1.14.0->antigranular) (3.20.3)\n",
            "Requirement already satisfied: python-dateutil>=2.8.1 in /usr/local/lib/python3.10/dist-packages (from pandas<2.0.0,>=1.5.3->antigranular) (2.8.2)\n",
            "Requirement already satisfied: pytz>=2020.1 in /usr/local/lib/python3.10/dist-packages (from pandas<2.0.0,>=1.5.3->antigranular) (2023.3.post1)\n",
            "Requirement already satisfied: typing-extensions>=4.2.0 in /usr/local/lib/python3.10/dist-packages (from pydantic<2.0.0,>=1.10.7->antigranular) (4.5.0)\n",
            "Requirement already satisfied: charset-normalizer<4,>=2 in /usr/local/lib/python3.10/dist-packages (from requests<3.0.0,>=2.31.0->antigranular) (3.3.2)\n",
            "Requirement already satisfied: idna<4,>=2.5 in /usr/local/lib/python3.10/dist-packages (from requests<3.0.0,>=2.31.0->antigranular) (3.6)\n",
            "Requirement already satisfied: certifi>=2017.4.17 in /usr/local/lib/python3.10/dist-packages (from requests<3.0.0,>=2.31.0->antigranular) (2023.11.17)\n",
            "Requirement already satisfied: parso<0.9.0,>=0.8.3 in /usr/local/lib/python3.10/dist-packages (from jedi>=0.16->ipython<8.0.0,>=7.34.0->antigranular) (0.8.3)\n",
            "Requirement already satisfied: ptyprocess>=0.5 in /usr/local/lib/python3.10/dist-packages (from pexpect>4.3->ipython<8.0.0,>=7.34.0->antigranular) (0.7.0)\n",
            "Requirement already satisfied: wcwidth in /usr/local/lib/python3.10/dist-packages (from prompt-toolkit!=3.0.0,!=3.0.1,<3.1.0,>=2.0.0->ipython<8.0.0,>=7.34.0->antigranular) (0.2.12)\n",
            "Requirement already satisfied: six>=1.5 in /usr/local/lib/python3.10/dist-packages (from python-dateutil>=2.8.1->pandas<2.0.0,>=1.5.3->antigranular) (1.16.0)\n",
            "Requirement already satisfied: threadpoolctl>=2.0.0 in /usr/local/lib/python3.10/dist-packages (from scikit-learn>=0.24.2->diffprivlib<0.7.0,>=0.6.2->antigranular) (3.2.0)\n",
            "Installing collected packages: onnx, oblv-client, jedi, diffprivlib, antigranular\n",
            "Successfully installed antigranular-0.2.16 diffprivlib-0.6.3 jedi-0.19.1 oblv-client-0.1.15 onnx-1.15.0\n"
          ]
        }
      ],
      "source": [
        "!pip install antigranular"
      ],
      "metadata": {
        "id": "lRjeuxomkGR8",
        "colab": {
          "base_uri": "https://localhost:8080/"
        },
        "outputId": "b64f330f-9d6d-40e6-ac7e-e5cd2f395fd0"
      }
    },
    {
      "cell_type": "code",
      "execution_count": null,
      "outputs": [
        {
          "output_type": "display_data",
          "data": {
            "text/plain": [
              "<IPython.core.display.HTML object>"
            ],
            "text/html": []
          },
          "metadata": {}
        },
        {
          "output_type": "stream",
          "name": "stdout",
          "text": [
            "Dataset \"Flight Company Dataset\" loaded to the kernel as \u001b[92mflight_company_dataset\u001b[0m\n",
            "\n",
            "Dataset \"Health Organisation Dataset\" loaded to the kernel as \u001b[92mhealth_organisation_dataset\u001b[0m\n",
            "\n",
            "Connected to Antigranular server session id: 746fd2d0-8847-4d4a-9adc-950c88b78110, the session will time out if idle for 25 minutes\n",
            "Cell magic '%%ag' registered successfully, use `%%ag` in a notebook cell to execute your python code on Antigranular private python server\n",
            "🚀 Everything's set up and ready to roll!\n"
          ]
        }
      ],
      "source": [
        "import antigranular as ag\n",
        "session = ag.login(\"***\", \"***\", competition = \"Harvard OpenDP Hackathon\")"
      ],
      "metadata": {
        "ExecuteTime": {
          "end_time": "2023-10-01T13:31:08.294237Z",
          "start_time": "2023-10-01T13:30:44.762806Z"
        },
        "id": "z1x9aPFnkGR_",
        "outputId": "0dbac25d-390c-4add-90f5-9d7160698069",
        "colab": {
          "base_uri": "https://localhost:8080/",
          "height": 138
        }
      }
    },
    {
      "cell_type": "code",
      "execution_count": null,
      "outputs": [],
      "source": [
        "%%ag\n",
        "health = health_organisation_dataset\n",
        "flight = flight_company_dataset"
      ],
      "metadata": {
        "ExecuteTime": {
          "end_time": "2023-10-01T13:31:18.400945Z",
          "start_time": "2023-10-01T13:31:14.354979Z"
        },
        "id": "468fSSGskGSA"
      }
    },
    {
      "cell_type": "code",
      "execution_count": null,
      "outputs": [],
      "source": [
        "%%ag\n",
        "# Lets remove those passenger records who tested negative.\n",
        "health['covidtest_result'] = health['covidtest_result'].where(health['covidtest_result'] == 'positive')\n",
        "health = health.dropna()"
      ],
      "metadata": {
        "ExecuteTime": {
          "end_time": "2023-10-01T13:31:31.203675Z",
          "start_time": "2023-10-01T13:31:29.002083Z"
        },
        "id": "CjyilgFAkGSE"
      }
    },
    {
      "cell_type": "markdown",
      "source": [
        "In this notebook, I'll share the methods I've tried. For the ones who wants a short explanation, the key takeaway: dates played a crucial role in the process.\n",
        "\n",
        "Let's begin with how I handled dates. The essential step was to accurately extract the day, month, and year for the linking. Extracting the day and month was straightforward; however, extracting the year presented challenges. For instance, differentiating between '1910-2010' and '10' was not simple. My solution was to consistently extract the last two digits of any year, treating them as '10' in all cases. This approach significantly improved my linking accuracy.\n",
        "\n",
        "I also created a full date feature by combining them all but for some reason it didn't work and I was too lazy to fix it."
      ],
      "metadata": {
        "id": "SHah5nvl9VJS"
      }
    },
    {
      "cell_type": "code",
      "source": [
        "%%ag\n",
        "\n",
        "import re\n",
        "import pandas as pd\n",
        "\n",
        "def find_day_in_date(input_date: str) -> str:\n",
        "    day_match = re.search(r'\\b(0?[1-9]|[12][0-9]|3[01])\\b', input_date)\n",
        "    return day_match.group(0).zfill(2) if day_match else input_date\n",
        "\n",
        "def find_month_in_date(input_date: str) -> str:\n",
        "    # Dictionary mapping month names and abbreviations to their numerical equivalents\n",
        "    months_dict = {\n",
        "        \"jan\": \"01\", \"feb\": \"02\", \"mar\": \"03\", \"apr\": \"04\",\n",
        "        \"may\": \"05\", \"jun\": \"06\", \"jul\": \"07\", \"aug\": \"08\",\n",
        "        \"sep\": \"09\", \"oct\": \"10\", \"nov\": \"11\", \"dec\": \"12\"\n",
        "    }\n",
        "    months_dict.update({month.capitalize(): num for month, num in months_dict.items()})\n",
        "    months_dict.update({month.upper(): num for month, num in months_dict.items()})\n",
        "\n",
        "    # Regular expression pattern to match month names or abbreviations\n",
        "    month_pattern = '|'.join(months_dict.keys())\n",
        "    match = re.search(month_pattern, input_date)\n",
        "\n",
        "    if match:\n",
        "        # Get the matched month text and find its numerical representation\n",
        "        month_text = match.group(0)\n",
        "        return months_dict.get(month_text)\n",
        "\n",
        "    # If no month name is found, try to extract numeric month format\n",
        "    numeric_month_match = re.search(r'\\b(0[1-9]|1[0-2])\\b', input_date)\n",
        "    if numeric_month_match:\n",
        "        return numeric_month_match.group()\n",
        "\n",
        "    return input_date\n",
        "\n",
        "def find_year_in_date(input_date: str) -> str:\n",
        "    # Search for the year component at the end of the string\n",
        "    year_match = re.search(r'([0-9]{2,4})$', input_date)\n",
        "    if year_match:\n",
        "        year = year_match.group(0)\n",
        "        # Return the last two digits of the year\n",
        "        return year[-2:]\n",
        "    return input_date\n",
        "\n",
        "def find_full_date(input_date: str) -> str:\n",
        "    day = find_day_in_date(input_date)\n",
        "    month = find_month_in_date(input_date)\n",
        "    year = find_year_in_date(input_date)\n",
        "    if day and month and year:\n",
        "        return f\"{year}-{month}-{day}\"\n",
        "    return input_date"
      ],
      "metadata": {
        "id": "XhIuhqeJc0O5"
      },
      "execution_count": null,
      "outputs": []
    },
    {
      "cell_type": "code",
      "source": [
        "%%ag\n",
        "flight['passenger_day'] = flight['passenger_date_of_birth'].map(find_day_in_date)\n",
        "health['patient_day'] = health['patient_date_of_birth'].map(find_day_in_date)\n",
        "\n",
        "flight['passenger_month'] = flight['passenger_date_of_birth'].map(find_month_in_date)\n",
        "health['patient_month'] = health['patient_date_of_birth'].map(find_month_in_date)\n",
        "\n",
        "flight['passenger_year'] = flight['passenger_date_of_birth'].map(find_year_in_date)\n",
        "health['patient_year'] = health['patient_date_of_birth'].map(find_year_in_date)\n",
        "\n",
        "flight['passenger_full_date'] = flight['passenger_date_of_birth'].map(find_full_date)\n",
        "health['patient_full_date'] = health['patient_date_of_birth'].map(find_full_date)"
      ],
      "metadata": {
        "id": "iPYCkZ51m7mg",
        "colab": {
          "base_uri": "https://localhost:8080/"
        },
        "outputId": "28b95a84-1294-4e52-d81f-8192cd0f19c6"
      },
      "execution_count": null,
      "outputs": [
        {
          "output_type": "stream",
          "name": "stderr",
          "text": [
            "/code/dependencies/op_pandas/op_pandas/core/private_dataframe.py:512: SettingWithCopyWarning: \n",
            "A value is trying to be set on a copy of a slice from a DataFrame.\n",
            "Try using .loc[row_indexer,col_indexer] = value instead\n",
            "\n",
            "See the caveats in the documentation: https://pandas.pydata.org/pandas-docs/stable/user_guide/indexing.html#returning-a-view-versus-a-copy\n",
            "  self.df[key] = value._series\n",
            "\n",
            "/code/dependencies/op_pandas/op_pandas/core/private_dataframe.py:512: SettingWithCopyWarning: \n",
            "A value is trying to be set on a copy of a slice from a DataFrame.\n",
            "Try using .loc[row_indexer,col_indexer] = value instead\n",
            "\n",
            "See the caveats in the documentation: https://pandas.pydata.org/pandas-docs/stable/user_guide/indexing.html#returning-a-view-versus-a-copy\n",
            "  self.df[key] = value._series\n",
            "\n",
            "/code/dependencies/op_pandas/op_pandas/core/private_dataframe.py:512: SettingWithCopyWarning: \n",
            "A value is trying to be set on a copy of a slice from a DataFrame.\n",
            "Try using .loc[row_indexer,col_indexer] = value instead\n",
            "\n",
            "See the caveats in the documentation: https://pandas.pydata.org/pandas-docs/stable/user_guide/indexing.html#returning-a-view-versus-a-copy\n",
            "  self.df[key] = value._series\n",
            "\n",
            "/code/dependencies/op_pandas/op_pandas/core/private_dataframe.py:512: SettingWithCopyWarning: \n",
            "A value is trying to be set on a copy of a slice from a DataFrame.\n",
            "Try using .loc[row_indexer,col_indexer] = value instead\n",
            "\n",
            "See the caveats in the documentation: https://pandas.pydata.org/pandas-docs/stable/user_guide/indexing.html#returning-a-view-versus-a-copy\n",
            "  self.df[key] = value._series\n",
            "\n"
          ]
        }
      ]
    },
    {
      "cell_type": "markdown",
      "source": [
        "In names, when a second uppercase letter comes up, I drop all the remaining elements and convert everything to lowercase.\n",
        "This allows Nok, NokVanu and Nok Vanu to be returned as nok.\n",
        "This didn't improve the score at all and that was surprising to me tbh."
      ],
      "metadata": {
        "id": "a0dyOhWvDNMn"
      }
    },
    {
      "cell_type": "code",
      "source": [
        "%%ag\n",
        "import re\n",
        "import pandas as pd\n",
        "\n",
        "def reduce_to_first_name(name: str) -> str:\n",
        "    # Using regex to extract the first name before a space or a second uppercase letter\n",
        "    first_name_match = re.match(r\"([A-Za-z]+)(?=\\s|[A-Z])\", name)\n",
        "    if first_name_match:\n",
        "        return first_name_match.group(0).lower()\n",
        "    else:\n",
        "        # If no space or second uppercase letter is found, return the name as is but lowercase\n",
        "        return name.lower()\n",
        "\n",
        "flight['passenger_firstname'] = flight['passenger_firstname'].map(reduce_to_first_name)\n",
        "health['patient_firstname'] = health['patient_firstname'].map(reduce_to_first_name)"
      ],
      "metadata": {
        "id": "r2L9sjvJJedY",
        "colab": {
          "base_uri": "https://localhost:8080/"
        },
        "outputId": "62510af0-1024-458d-e9f2-e72c77e12135"
      },
      "execution_count": null,
      "outputs": [
        {
          "output_type": "stream",
          "name": "stderr",
          "text": [
            "/code/dependencies/op_pandas/op_pandas/core/private_dataframe.py:512: SettingWithCopyWarning: \n",
            "A value is trying to be set on a copy of a slice from a DataFrame.\n",
            "Try using .loc[row_indexer,col_indexer] = value instead\n",
            "\n",
            "See the caveats in the documentation: https://pandas.pydata.org/pandas-docs/stable/user_guide/indexing.html#returning-a-view-versus-a-copy\n",
            "  self.df[key] = value._series\n",
            "\n"
          ]
        }
      ]
    },
    {
      "cell_type": "markdown",
      "source": [
        "Same goes for surnames as well. Which makes sense. Names had way more potential."
      ],
      "metadata": {
        "id": "s0OyjPsoEd56"
      }
    },
    {
      "cell_type": "code",
      "source": [
        "# %%ag\n",
        "# def format_surname(surname: str) -> str:\n",
        "#     # If the first letter is uppercase, remove everything after the second uppercase letter\n",
        "#     if surname[0].isupper():\n",
        "#         formatted_surname = re.match(r\"[A-Z][a-z]+\", surname)\n",
        "#     else:\n",
        "#         # If the first letter is not uppercase, remove everything after the first uppercase letter\n",
        "#         formatted_surname = re.match(r\"[a-z]+\", surname)\n",
        "\n",
        "#     return formatted_surname.group(0).lower() if formatted_surname else surname.lower()\n",
        "\n",
        "# flight['passenger_lastname'] = flight['passenger_lastname'].map(format_surname)\n",
        "# health['patient_lastname'] = health['patient_lastname'].map(format_surname)"
      ],
      "metadata": {
        "id": "YhoKYq1JpE-n"
      },
      "execution_count": null,
      "outputs": []
    },
    {
      "cell_type": "markdown",
      "source": [
        "In emails, I remove the elements after @ and turn all characters that are numbers or not numbers into _. Then I make them all lowercase letters.\n",
        "\n",
        "This didn't work either. Probably caused oversimplification and didn't create proper links"
      ],
      "metadata": {
        "id": "zJ-OUxJdErF9"
      }
    },
    {
      "cell_type": "code",
      "source": [
        "%%ag\n",
        "\n",
        "def normalize_email(email: str) -> str:\n",
        "    # Remove everything after '@'\n",
        "    email_without_domain = email.split('@')[0]\n",
        "\n",
        "    # Replace non-alphanumeric characters with '_'\n",
        "    normalized_email = re.sub(r'[^a-zA-Z0-9]', '_', email_without_domain)\n",
        "\n",
        "    # Convert to lowercase\n",
        "    return normalized_email.lower()\n",
        "\n",
        "flight['normalized_passenger_email'] = flight['passenger_email_address'].map(normalize_email)\n",
        "health['normalized_patient_email'] = health['patient_email_address'].map(normalize_email)"
      ],
      "metadata": {
        "id": "sU9nWO5cvQda",
        "colab": {
          "base_uri": "https://localhost:8080/"
        },
        "outputId": "2b3c15ab-8f2a-4af4-b504-a2a95a8d2e57"
      },
      "execution_count": null,
      "outputs": [
        {
          "output_type": "stream",
          "name": "stderr",
          "text": [
            "/code/dependencies/op_pandas/op_pandas/core/private_dataframe.py:512: SettingWithCopyWarning: \n",
            "A value is trying to be set on a copy of a slice from a DataFrame.\n",
            "Try using .loc[row_indexer,col_indexer] = value instead\n",
            "\n",
            "See the caveats in the documentation: https://pandas.pydata.org/pandas-docs/stable/user_guide/indexing.html#returning-a-view-versus-a-copy\n",
            "  self.df[key] = value._series\n",
            "\n"
          ]
        }
      ]
    },
    {
      "cell_type": "markdown",
      "source": [
        "For phones, I removed all non-number values ​​and then changed the observations that started with +, but while I was preparing the notebook, I realized that the second part will not work because I removed the + character in the first part.\n",
        "\n",
        "This format didn't work anyway. The reason is clear lol."
      ],
      "metadata": {
        "id": "Z28wkSUCFO8W"
      }
    },
    {
      "cell_type": "code",
      "source": [
        "%%ag\n",
        "def format_phone_number(phone_number: str) -> str:\n",
        "    # Remove non-numeric characters except leading '+'\n",
        "    cleaned_number = re.sub(r'(?<!^\\+)[^0-9]', '', phone_number)\n",
        "\n",
        "    # If number starts with '+', replace it with '00'\n",
        "    if cleaned_number.startswith('+'):\n",
        "        cleaned_number = '00' + cleaned_number[1:]\n",
        "\n",
        "    return cleaned_number\n",
        "\n",
        "# Apply the function to the DataFramepatient_phone_number\n",
        "flight['passenger_phone_number'] = flight['passenger_phone_number'].map(format_phone_number)\n",
        "health['patient_phone_number'] = health['patient_phone_number'].map(format_phone_number)"
      ],
      "metadata": {
        "id": "2m0yicBHjBmj",
        "colab": {
          "base_uri": "https://localhost:8080/"
        },
        "outputId": "5d6256e2-3db9-493b-c41b-6b56dfa6256f"
      },
      "execution_count": null,
      "outputs": [
        {
          "output_type": "stream",
          "name": "stderr",
          "text": [
            "/code/dependencies/op_pandas/op_pandas/core/private_dataframe.py:512: SettingWithCopyWarning: \n",
            "A value is trying to be set on a copy of a slice from a DataFrame.\n",
            "Try using .loc[row_indexer,col_indexer] = value instead\n",
            "\n",
            "See the caveats in the documentation: https://pandas.pydata.org/pandas-docs/stable/user_guide/indexing.html#returning-a-view-versus-a-copy\n",
            "  self.df[key] = value._series\n",
            "\n"
          ]
        }
      ]
    },
    {
      "cell_type": "code",
      "source": [
        "%%ag\n",
        "# Printing the column names using ag_print\n",
        "ag_print(f\"Flight Dataset \\n {flight.columns} \\n\")\n",
        "ag_print(f\"Health Dataset \\n {health.columns}\")"
      ],
      "metadata": {
        "id": "fHNLaSxhlNP9",
        "outputId": "866211ba-ee09-4cd1-ca2f-65ecea0943ce",
        "colab": {
          "base_uri": "https://localhost:8080/"
        }
      },
      "execution_count": null,
      "outputs": [
        {
          "output_type": "stream",
          "name": "stdout",
          "text": [
            "Flight Dataset \n",
            " ['flight_number', 'flight_date', 'flight_from', 'flight_to', 'passenger_firstname', 'passenger_lastname', 'passenger_date_of_birth', 'passenger_phone_number', 'passenger_email_address', 'passenger_day', 'passenger_month', 'passenger_year', 'passenger_full_date', 'normalized_passenger_email'] \n",
            "\n",
            "Health Dataset \n",
            " ['patient_firstname', 'patient_lastname', 'patient_date_of_birth', 'patient_phone_number', 'patient_email_address', 'covidtest_date', 'covidtest_result', 'patient_address', 'patient_day', 'patient_month', 'patient_year', 'patient_full_date', 'normalized_patient_email']\n",
            "\n"
          ]
        }
      ]
    },
    {
      "cell_type": "markdown",
      "source": [
        "There's not much to tell here. I tried many different blocks. These were the ones that worked best."
      ],
      "metadata": {
        "id": "5QbHjJXPHo89"
      }
    },
    {
      "cell_type": "code",
      "execution_count": null,
      "outputs": [],
      "source": [
        "%%ag\n",
        "import op_recordlinkage as rl\n",
        "indexer = rl.Index()\n",
        "\n",
        "indexer.block(['passenger_day','passenger_month', 'passenger_year'],['patient_day','patient_month', 'patient_year'])\n",
        "indexer.block(['passenger_firstname','passenger_lastname'],['patient_firstname','patient_lastname'])\n",
        "# indexer.block('patient_date_full','passenger_date_full')\n",
        "# indexer.block(['passenger_day','passenger_month'],['patient_day','patient_month'])\n",
        "# indexer.block('passenger_phone_number','patient_phone_number')\n",
        "# indexer.block('passenger_email_address','patient_email_address')\n",
        "# indexer.block('normalized_passenger_email','normalized_patient_email')\n",
        "# indexer.block('passenger_firstname2','patient_firstname2')\n",
        "\n",
        "candidate_links = indexer.index(flight,health)"
      ],
      "metadata": {
        "ExecuteTime": {
          "end_time": "2023-10-01T13:31:39.447513Z",
          "start_time": "2023-10-01T13:31:39.444387Z"
        },
        "id": "eq4oHlbnkGSH"
      }
    },
    {
      "cell_type": "markdown",
      "source": [
        "Likewise here, day, month and year should definitely be included in the compares. Names work well with date, but phone and email might be better instead. Since I was satisfied with my score, I did not try to improve it further.\n",
        "\n",
        "Also cmp increases the score slightly. Not including the 14th day also increased the score slightly."
      ],
      "metadata": {
        "id": "-6GDYNSNH5fV"
      }
    },
    {
      "cell_type": "code",
      "execution_count": null,
      "outputs": [],
      "source": [
        "%%ag\n",
        "compare = rl.Compare()\n",
        "\n",
        "# Using inbuilt string linking via fuzzy match. ( keeping threshold for last_name to get stronger links )\n",
        "compare.string(\"passenger_firstname\" , \"patient_firstname\", method='jarowinkler', threshold=0.7, label=\"firstname\")\n",
        "compare.string(\"passenger_lastname\",\"patient_lastname\", method='jarowinkler', threshold=0.7, label=\"lastname\")\n",
        "# compare.string(\"passenger_email_address\",\"patient_email_address\" ,method='jarowinkler', threshold=0.6, label=\"mailaddress\")\n",
        "# compare.string(\"passenger_phone_number\",\"patient_phone_number\" ,method='jarowinkler', threshold=0.4, label=\"phone\")\n",
        "compare.exact(\"passenger_day\",\"patient_day\", label=\"day\")\n",
        "compare.exact(\"passenger_month\",\"patient_month\", label=\"month\")\n",
        "compare.exact(\"passenger_year\",\"patient_year\", label=\"year\")\n",
        "# compare.string(\"passenger_year\",\"patient_year\",method='jarowinkler', threshold=0.5, label=\"year\")\n",
        "# compare.string(\"patient_date_full\",\"passenger_date_full\" ,method='jarowinkler', threshold=0.75, label=\"year\")\n",
        "# compare.string(\"passenger_date_of_birth\",\"patient_date_of_birth\" ,method='jarowinkler', threshold=0.6, label=\"dob\")\n",
        "\n",
        "# Using a custom compare rule.\n",
        "# custom functions are executed in isolated environment.\n",
        "import datetime\n",
        "def cmp(date_str1:str , date_str2:str)->int: # datetime and regex are pre-imported in isolated environment.\n",
        "    # Convert date strings to datetime objects\n",
        "    date1 = datetime.datetime.strptime(date_str1, \"%Y-%m-%d\")\n",
        "    date2 = datetime.datetime.strptime(date_str2, \"%Y-%m-%d\")\n",
        "\n",
        "    # Calculate the absolute difference in days\n",
        "    days_apart = (date2 - date1).days\n",
        "    # Check if the dates are within two weeks (13 days) apart\n",
        "    if -13 <= days_apart <= 13:\n",
        "        return 1\n",
        "    else:\n",
        "        return 0\n",
        "\n",
        "compare.custom(cmp,\"flight_date\",\"covidtest_date\",label=\"date_cmp\")"
      ],
      "metadata": {
        "ExecuteTime": {
          "end_time": "2023-10-01T13:31:45.812932Z",
          "start_time": "2023-10-01T13:31:45.810168Z"
        },
        "id": "CgBQOIpdkGSI"
      }
    },
    {
      "cell_type": "code",
      "execution_count": null,
      "outputs": [],
      "source": [
        "%%ag\n",
        "features = compare.compute(candidate_links,flight,health)"
      ],
      "metadata": {
        "ExecuteTime": {
          "end_time": "2023-10-01T13:32:01.780945Z",
          "start_time": "2023-10-01T13:31:54.584084Z"
        },
        "id": "UdtcNloNkGSI"
      }
    },
    {
      "cell_type": "markdown",
      "source": [
        "It's worth talking about get_match(). If you look at the compare matches above, you will see that I wrote 6 different conditions.\n",
        "I want all of these to be matched for the link to be established. That's why I enter a value above 5 in get_match"
      ],
      "metadata": {
        "id": "GNGBySN3InQ8"
      }
    },
    {
      "cell_type": "code",
      "execution_count": null,
      "outputs": [],
      "source": [
        "%%ag\n",
        "linked_df = compare.get_match(5.5)"
      ],
      "metadata": {
        "ExecuteTime": {
          "end_time": "2023-10-01T13:32:07.999566Z",
          "start_time": "2023-10-01T13:32:06.061223Z"
        },
        "id": "-RFcPrrAkGSI"
      }
    },
    {
      "cell_type": "code",
      "execution_count": null,
      "outputs": [
        {
          "output_type": "stream",
          "name": "stdout",
          "text": [
            "score: {'leaderboard': 0.9496866036671211, 'logs': {'LIN_EPS': -0.0055000000000000005, 'MCC': 0.955186603667121}}\n",
            "\n"
          ]
        }
      ],
      "source": [
        "%%ag\n",
        "# Submitting the column containing the filtered set of airlines we should report regarding a covid passenger.\n",
        "res = linked_df[[\"l_flight_number\"]]\n",
        "x = submit_predictions(res)"
      ],
      "metadata": {
        "ExecuteTime": {
          "end_time": "2023-10-01T13:38:45.962038Z",
          "start_time": "2023-10-01T13:38:45.958365Z"
        },
        "id": "GO9TZER7kGSJ",
        "colab": {
          "base_uri": "https://localhost:8080/"
        },
        "outputId": "cbdfd005-67fd-49d4-ccc1-39464b8991b4"
      }
    },
    {
      "cell_type": "code",
      "source": [
        "# session.terminate_session()"
      ],
      "metadata": {
        "id": "L_eVXFQ0pZHI",
        "colab": {
          "base_uri": "https://localhost:8080/"
        },
        "outputId": "20f4009d-9a3e-464b-f209-fec5a937e8ec"
      },
      "execution_count": null,
      "outputs": [
        {
          "output_type": "execute_result",
          "data": {
            "text/plain": [
              "{'status': 'ok'}"
            ]
          },
          "metadata": {},
          "execution_count": 18
        }
      ]
    },
    {
      "cell_type": "code",
      "source": [],
      "metadata": {
        "id": "BEZgGbUAsTa1"
      },
      "execution_count": null,
      "outputs": []
    }
  ],
  "metadata": {
    "kernelspec": {
      "display_name": "Python 3",
      "name": "python3"
    },
    "language_info": {
      "codemirror_mode": {
        "name": "ipython",
        "version": 2
      },
      "file_extension": ".py",
      "mimetype": "text/x-python",
      "name": "python",
      "nbconvert_exporter": "python",
      "pygments_lexer": "ipython2",
      "version": "2.7.6"
    },
    "colab": {
      "provenance": []
    }
  },
  "nbformat": 4,
  "nbformat_minor": 0
}