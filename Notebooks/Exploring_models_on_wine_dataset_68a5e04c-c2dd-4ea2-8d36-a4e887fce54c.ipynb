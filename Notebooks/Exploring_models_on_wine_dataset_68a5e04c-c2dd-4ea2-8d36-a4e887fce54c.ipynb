{
  "nbformat": 4,
  "nbformat_minor": 0,
  "metadata": {
    "colab": {
      "provenance": []
    },
    "kernelspec": {
      "name": "python3",
      "display_name": "Python 3"
    },
    "language_info": {
      "name": "python"
    }
  },
  "cells": [
    {
      "cell_type": "code",
      "execution_count": 1,
      "metadata": {
        "colab": {
          "base_uri": "https://localhost:8080/"
        },
        "id": "gIfIuQjShceM",
        "outputId": "952a5806-b882-4c35-bf86-5dcd358b427a"
      },
      "outputs": [
        {
          "output_type": "stream",
          "name": "stdout",
          "text": [
            "Collecting antigranular\n",
            "  Downloading antigranular-0.2.19-py3-none-any.whl (18 kB)\n",
            "Requirement already satisfied: ipython<8.0.0,>=7.34.0 in /usr/local/lib/python3.10/dist-packages (from antigranular) (7.34.0)\n",
            "Requirement already satisfied: numpy<2.0.0,>=1.19.0 in /usr/local/lib/python3.10/dist-packages (from antigranular) (1.25.2)\n",
            "Collecting oblv-client<0.2.0,>=0.1.15 (from antigranular)\n",
            "  Downloading oblv_client-0.1.15-cp310-cp310-manylinux_2_17_x86_64.manylinux2014_x86_64.whl (6.2 MB)\n",
            "\u001b[2K     \u001b[90m━━━━━━━━━━━━━━━━━━━━━━━━━━━━━━━━━━━━━━━━\u001b[0m \u001b[32m6.2/6.2 MB\u001b[0m \u001b[31m44.5 MB/s\u001b[0m eta \u001b[36m0:00:00\u001b[0m\n",
            "\u001b[?25hCollecting onnx<2.0.0,>=1.15.0 (from antigranular)\n",
            "  Downloading onnx-1.16.0-cp310-cp310-manylinux_2_17_x86_64.manylinux2014_x86_64.whl (15.9 MB)\n",
            "\u001b[2K     \u001b[90m━━━━━━━━━━━━━━━━━━━━━━━━━━━━━━━━━━━━━━━━\u001b[0m \u001b[32m15.9/15.9 MB\u001b[0m \u001b[31m68.8 MB/s\u001b[0m eta \u001b[36m0:00:00\u001b[0m\n",
            "\u001b[?25hCollecting pandas<2.0.0,>=1.5.3 (from antigranular)\n",
            "  Downloading pandas-1.5.3-cp310-cp310-manylinux_2_17_x86_64.manylinux2014_x86_64.whl (12.1 MB)\n",
            "\u001b[2K     \u001b[90m━━━━━━━━━━━━━━━━━━━━━━━━━━━━━━━━━━━━━━━━\u001b[0m \u001b[32m12.1/12.1 MB\u001b[0m \u001b[31m92.5 MB/s\u001b[0m eta \u001b[36m0:00:00\u001b[0m\n",
            "\u001b[?25hCollecting pydantic<2.0.0,>=1.10.7 (from antigranular)\n",
            "  Downloading pydantic-1.10.15-cp310-cp310-manylinux_2_17_x86_64.manylinux2014_x86_64.whl (3.1 MB)\n",
            "\u001b[2K     \u001b[90m━━━━━━━━━━━━━━━━━━━━━━━━━━━━━━━━━━━━━━━━\u001b[0m \u001b[32m3.1/3.1 MB\u001b[0m \u001b[31m96.8 MB/s\u001b[0m eta \u001b[36m0:00:00\u001b[0m\n",
            "\u001b[?25hRequirement already satisfied: requests<3.0.0,>=2.31.0 in /usr/local/lib/python3.10/dist-packages (from antigranular) (2.31.0)\n",
            "Requirement already satisfied: setuptools>=18.5 in /usr/local/lib/python3.10/dist-packages (from ipython<8.0.0,>=7.34.0->antigranular) (67.7.2)\n",
            "Collecting jedi>=0.16 (from ipython<8.0.0,>=7.34.0->antigranular)\n",
            "  Downloading jedi-0.19.1-py2.py3-none-any.whl (1.6 MB)\n",
            "\u001b[2K     \u001b[90m━━━━━━━━━━━━━━━━━━━━━━━━━━━━━━━━━━━━━━━━\u001b[0m \u001b[32m1.6/1.6 MB\u001b[0m \u001b[31m64.8 MB/s\u001b[0m eta \u001b[36m0:00:00\u001b[0m\n",
            "\u001b[?25hRequirement already satisfied: decorator in /usr/local/lib/python3.10/dist-packages (from ipython<8.0.0,>=7.34.0->antigranular) (4.4.2)\n",
            "Requirement already satisfied: pickleshare in /usr/local/lib/python3.10/dist-packages (from ipython<8.0.0,>=7.34.0->antigranular) (0.7.5)\n",
            "Requirement already satisfied: traitlets>=4.2 in /usr/local/lib/python3.10/dist-packages (from ipython<8.0.0,>=7.34.0->antigranular) (5.7.1)\n",
            "Requirement already satisfied: prompt-toolkit!=3.0.0,!=3.0.1,<3.1.0,>=2.0.0 in /usr/local/lib/python3.10/dist-packages (from ipython<8.0.0,>=7.34.0->antigranular) (3.0.43)\n",
            "Requirement already satisfied: pygments in /usr/local/lib/python3.10/dist-packages (from ipython<8.0.0,>=7.34.0->antigranular) (2.16.1)\n",
            "Requirement already satisfied: backcall in /usr/local/lib/python3.10/dist-packages (from ipython<8.0.0,>=7.34.0->antigranular) (0.2.0)\n",
            "Requirement already satisfied: matplotlib-inline in /usr/local/lib/python3.10/dist-packages (from ipython<8.0.0,>=7.34.0->antigranular) (0.1.7)\n",
            "Requirement already satisfied: pexpect>4.3 in /usr/local/lib/python3.10/dist-packages (from ipython<8.0.0,>=7.34.0->antigranular) (4.9.0)\n",
            "Requirement already satisfied: urllib3 in /usr/local/lib/python3.10/dist-packages (from oblv-client<0.2.0,>=0.1.15->antigranular) (2.0.7)\n",
            "Requirement already satisfied: protobuf>=3.20.2 in /usr/local/lib/python3.10/dist-packages (from onnx<2.0.0,>=1.15.0->antigranular) (3.20.3)\n",
            "Requirement already satisfied: python-dateutil>=2.8.1 in /usr/local/lib/python3.10/dist-packages (from pandas<2.0.0,>=1.5.3->antigranular) (2.8.2)\n",
            "Requirement already satisfied: pytz>=2020.1 in /usr/local/lib/python3.10/dist-packages (from pandas<2.0.0,>=1.5.3->antigranular) (2023.4)\n",
            "Requirement already satisfied: typing-extensions>=4.2.0 in /usr/local/lib/python3.10/dist-packages (from pydantic<2.0.0,>=1.10.7->antigranular) (4.11.0)\n",
            "Requirement already satisfied: charset-normalizer<4,>=2 in /usr/local/lib/python3.10/dist-packages (from requests<3.0.0,>=2.31.0->antigranular) (3.3.2)\n",
            "Requirement already satisfied: idna<4,>=2.5 in /usr/local/lib/python3.10/dist-packages (from requests<3.0.0,>=2.31.0->antigranular) (3.7)\n",
            "Requirement already satisfied: certifi>=2017.4.17 in /usr/local/lib/python3.10/dist-packages (from requests<3.0.0,>=2.31.0->antigranular) (2024.2.2)\n",
            "Requirement already satisfied: parso<0.9.0,>=0.8.3 in /usr/local/lib/python3.10/dist-packages (from jedi>=0.16->ipython<8.0.0,>=7.34.0->antigranular) (0.8.4)\n",
            "Requirement already satisfied: ptyprocess>=0.5 in /usr/local/lib/python3.10/dist-packages (from pexpect>4.3->ipython<8.0.0,>=7.34.0->antigranular) (0.7.0)\n",
            "Requirement already satisfied: wcwidth in /usr/local/lib/python3.10/dist-packages (from prompt-toolkit!=3.0.0,!=3.0.1,<3.1.0,>=2.0.0->ipython<8.0.0,>=7.34.0->antigranular) (0.2.13)\n",
            "Requirement already satisfied: six>=1.5 in /usr/local/lib/python3.10/dist-packages (from python-dateutil>=2.8.1->pandas<2.0.0,>=1.5.3->antigranular) (1.16.0)\n",
            "Installing collected packages: pydantic, onnx, oblv-client, jedi, pandas, antigranular\n",
            "  Attempting uninstall: pydantic\n",
            "    Found existing installation: pydantic 2.7.1\n",
            "    Uninstalling pydantic-2.7.1:\n",
            "      Successfully uninstalled pydantic-2.7.1\n",
            "  Attempting uninstall: pandas\n",
            "    Found existing installation: pandas 2.0.3\n",
            "    Uninstalling pandas-2.0.3:\n",
            "      Successfully uninstalled pandas-2.0.3\n",
            "\u001b[31mERROR: pip's dependency resolver does not currently take into account all the packages that are installed. This behaviour is the source of the following dependency conflicts.\n",
            "google-colab 1.0.0 requires pandas==2.0.3, but you have pandas 1.5.3 which is incompatible.\u001b[0m\u001b[31m\n",
            "\u001b[0mSuccessfully installed antigranular-0.2.19 jedi-0.19.1 oblv-client-0.1.15 onnx-1.16.0 pandas-1.5.3 pydantic-1.10.15\n"
          ]
        }
      ],
      "source": [
        "!pip install antigranular"
      ]
    },
    {
      "cell_type": "code",
      "source": [
        "# import antigranular as ag\n",
        "# ag_client  = ag.login(<client_id>,<client_secret>, \"comp_dataset_id\", \"temp_username\", \"temp_password\")\n",
        "import antigranular as ag\n",
        "session = ag.login(<client_id>,<client_secret>, dataset = \"The Wine Dataset\")"
      ],
      "metadata": {
        "colab": {
          "base_uri": "https://localhost:8080/",
          "height": 191
        },
        "id": "MAUyhR_Vicy2",
        "outputId": "e1cb2381-03d2-4867-8944-97771a323707"
      },
      "execution_count": 2,
      "outputs": [
        {
          "output_type": "display_data",
          "data": {
            "text/plain": [
              "<IPython.core.display.HTML object>"
            ],
            "text/html": []
          },
          "metadata": {}
        },
        {
          "output_type": "stream",
          "name": "stdout",
          "text": [
            "Dataset \"The Wine Dataset\" loaded to the kernel as \u001b[92mthe_wine_dataset\u001b[0m\n",
            "Key Name                       Value Type     \n",
            "---------------------------------------------\n",
            "train_x                        PrivateDataFrame\n",
            "train_y                        PrivateDataFrame\n",
            "test_x                         DataFrame      \n",
            "\n",
            "Connected to Antigranular server session id: 68a5e04c-c2dd-4ea2-8d36-a4e887fce54c, the session will time out if idle for 25 minutes\n",
            "Cell magic '%%ag' registered successfully, use `%%ag` in a notebook cell to execute your python code on Antigranular private python server\n",
            "🚀 Everything's set up and ready to roll!\n"
          ]
        }
      ]
    },
    {
      "cell_type": "code",
      "source": [
        "%%ag\n",
        "from op_pandas import PrivateDataFrame , PrivateSeries\n",
        "from ag_utils import load_dataset, export\n",
        "\n",
        "response=load_dataset('The Wine Dataset')\n",
        "train_x= response ['train_x']\n",
        "train_y= response['train_y']\n",
        "test_x=response ['test_x']\n",
        "# test_y=response['test_y']"
      ],
      "metadata": {
        "id": "M23nvTcii-Jn",
        "colab": {
          "base_uri": "https://localhost:8080/"
        },
        "outputId": "bbee1c44-4637-477f-e131-f8e0e39e8ac1"
      },
      "execution_count": 3,
      "outputs": [
        {
          "output_type": "stream",
          "name": "stdout",
          "text": [
            "Dataset \"The Wine Dataset\" loaded to the kernel as \u001b[92mthe_wine_dataset\u001b[0m\n",
            "Key Name                       Value Type     \n",
            "---------------------------------------------\n",
            "train_x                        PrivateDataFrame\n",
            "train_y                        PrivateDataFrame\n",
            "test_x                         DataFrame      \n",
            "\n"
          ]
        }
      ]
    },
    {
      "cell_type": "code",
      "source": [
        "%%ag\n",
        "avg=train_x['alcohol'].mean(eps=0.1)\n",
        "export(avg,'avg')"
      ],
      "metadata": {
        "id": "hYYEFBK-sy3o",
        "colab": {
          "base_uri": "https://localhost:8080/"
        },
        "outputId": "f418985b-15d1-4361-f4e8-91d23c1f3d77"
      },
      "execution_count": 4,
      "outputs": [
        {
          "output_type": "stream",
          "name": "stdout",
          "text": [
            "Setting up exported variable in local environment: avg\n"
          ]
        }
      ]
    },
    {
      "cell_type": "code",
      "source": [
        "print(avg)"
      ],
      "metadata": {
        "colab": {
          "base_uri": "https://localhost:8080/"
        },
        "id": "rNdLDTQltNEc",
        "outputId": "59e625e4-c1b5-46fb-cfde-01d3d58349ca"
      },
      "execution_count": 5,
      "outputs": [
        {
          "output_type": "stream",
          "name": "stdout",
          "text": [
            "13.483259276236081\n"
          ]
        }
      ]
    },
    {
      "cell_type": "code",
      "source": [
        "%%ag\n",
        "priv_describe = train_x.describe(eps=1)\n",
        "export(priv_describe , 'df_info')"
      ],
      "metadata": {
        "colab": {
          "base_uri": "https://localhost:8080/"
        },
        "id": "K0Kka6oTurBg",
        "outputId": "6b5aec61-3b2a-415f-d764-2cce935917a5"
      },
      "execution_count": 10,
      "outputs": [
        {
          "output_type": "stream",
          "name": "stdout",
          "text": [
            "Setting up exported variable in local environment: df_info\n"
          ]
        }
      ]
    },
    {
      "cell_type": "code",
      "source": [
        "print(df_info)"
      ],
      "metadata": {
        "colab": {
          "base_uri": "https://localhost:8080/"
        },
        "id": "gK7PJWfct_OK",
        "outputId": "1ee209f8-04e1-46dd-9790-2c534a62305d"
      },
      "execution_count": 11,
      "outputs": [
        {
          "output_type": "stream",
          "name": "stdout",
          "text": [
            "          alcohol  malic_acid         ash  alcalinity_of_ash   magnesium  \\\n",
            "count  200.000000  256.000000  155.000000         136.000000  513.000000   \n",
            "mean    14.008630    0.740000    3.230000          30.000000   70.000000   \n",
            "std      0.371837    2.308889    0.718799           8.319431   35.981572   \n",
            "min     11.030000    0.740000    1.360000          10.600000   70.000000   \n",
            "25%     11.042886    1.450850    2.463097          14.578449  112.817448   \n",
            "50%     13.211256    5.091904    3.112246          16.711656  129.424410   \n",
            "75%     12.529072    5.523704    1.906676          26.988424  107.782573   \n",
            "max     13.158721    2.633033    3.059585          25.970621  160.211761   \n",
            "\n",
            "       total_phenols  flavanoids  nonflavanoid_phenols  proanthocyanins  \\\n",
            "count     287.000000   69.000000            155.000000         0.000000   \n",
            "mean        1.668197    5.080000              0.130000         0.410000   \n",
            "std         0.826124    0.966190              0.225096         0.698588   \n",
            "min         0.980000    0.340000              0.130000         0.410000   \n",
            "25%         2.210392    0.703803              0.595628         3.578633   \n",
            "50%         3.845123    2.797625              0.507363         1.459013   \n",
            "75%         3.528589    0.709477              0.469941         3.279125   \n",
            "max         3.489379    0.721757              0.579065         0.666269   \n",
            "\n",
            "       color_intensity       hue  0D280_0D315_of_diluted_wines      proline  \n",
            "count       242.000000  0.000000                    194.000000   330.000000  \n",
            "mean         13.000000  0.480000                      1.270000  1073.246828  \n",
            "std           3.670691  0.331657                      1.092823   461.107378  \n",
            "min           1.280000  0.480000                      1.270000   960.939658  \n",
            "25%          12.912009  1.285976                      2.887066   481.678589  \n",
            "50%           3.374093  1.693246                      3.172032   283.506515  \n",
            "75%           8.330806  1.675199                      3.818507  1263.240583  \n",
            "max           5.975848  1.206336                      2.365478  1643.696313  \n"
          ]
        }
      ]
    },
    {
      "cell_type": "code",
      "source": [
        "%%ag\n",
        "train_data = train_x.join(train_y , how=\"left\")\n",
        "export(train_data.describe(eps=1) , 'result')"
      ],
      "metadata": {
        "colab": {
          "base_uri": "https://localhost:8080/"
        },
        "id": "iHeSMOYLAsFv",
        "outputId": "22fa69cd-818a-4506-a4d0-b45258b1e209"
      },
      "execution_count": 14,
      "outputs": [
        {
          "output_type": "stream",
          "name": "stdout",
          "text": [
            "Setting up exported variable in local environment: result\n"
          ]
        }
      ]
    },
    {
      "cell_type": "code",
      "source": [
        "print(result)"
      ],
      "metadata": {
        "colab": {
          "base_uri": "https://localhost:8080/"
        },
        "id": "8dccN_DaA2Eh",
        "outputId": "030267a8-7d21-450d-9a1a-3946a72cb971"
      },
      "execution_count": 15,
      "outputs": [
        {
          "output_type": "stream",
          "name": "stdout",
          "text": [
            "          alcohol  malic_acid       ash  alcalinity_of_ash   magnesium  \\\n",
            "count  184.000000    0.000000  0.000000         258.000000    0.000000   \n",
            "mean    11.972435    0.740000  2.446173          25.486075  162.000000   \n",
            "std      1.531860    0.825587  0.394117           8.749614   28.435620   \n",
            "min     11.030000    0.740000  1.360000          10.600000   70.000000   \n",
            "25%     11.738033    1.147257  1.360572          23.703183   84.597524   \n",
            "50%     14.404578    5.552095  1.648922          15.953424   89.458014   \n",
            "75%     11.421789    0.952048  1.500110          14.584359  125.303691   \n",
            "max     14.490835    4.083038  3.227413          25.654075  107.993587   \n",
            "\n",
            "       total_phenols  flavanoids  nonflavanoid_phenols  proanthocyanins  \\\n",
            "count     230.000000  153.000000             62.000000       178.000000   \n",
            "mean        3.880000    3.771573              0.660000         0.410000   \n",
            "std         1.091974    1.752512              0.074207         0.560217   \n",
            "min         0.980000    0.340000              0.130000         0.410000   \n",
            "25%         0.980413    1.528699              0.221221         1.943783   \n",
            "50%         2.583791    2.398141              0.253696         1.722836   \n",
            "75%         1.216424    2.975647              0.167066         1.839351   \n",
            "max         0.980811    4.452913              0.500622         3.578574   \n",
            "\n",
            "       color_intensity       hue  0D280_0D315_of_diluted_wines      proline  \\\n",
            "count       235.000000  0.000000                    169.000000   622.000000   \n",
            "mean          4.497829  1.013238                      1.270000   967.722106   \n",
            "std           3.177082  0.519058                      1.330009   580.210932   \n",
            "min           1.280000  0.480000                      1.270000  1161.093713   \n",
            "25%           3.973937  0.492840                      2.215198  1174.280890   \n",
            "50%           2.162171  0.685447                      3.477271  1249.762135   \n",
            "75%           9.881245  0.620309                      3.839286  1564.392398   \n",
            "max           3.763898  1.672208                      3.595943  1580.848569   \n",
            "\n",
            "        cultivars  \n",
            "count  329.000000  \n",
            "mean     2.880674  \n",
            "std      0.647387  \n",
            "min      1.000000  \n",
            "25%      2.534999  \n",
            "50%      2.944757  \n",
            "75%      2.716047  \n",
            "max      2.055004  \n"
          ]
        }
      ]
    },
    {
      "cell_type": "code",
      "source": [
        "%%ag\n",
        "export(train_data.dropna(axis=0).describe(eps=1), 'result')"
      ],
      "metadata": {
        "colab": {
          "base_uri": "https://localhost:8080/"
        },
        "id": "gWdzS6TIvbp5",
        "outputId": "58db98fe-dcbb-46bd-e190-bd6d24ceb849"
      },
      "execution_count": 16,
      "outputs": [
        {
          "output_type": "stream",
          "name": "stdout",
          "text": [
            "Setting up exported variable in local environment: result\n"
          ]
        }
      ]
    },
    {
      "cell_type": "code",
      "source": [
        "print(result)"
      ],
      "metadata": {
        "colab": {
          "base_uri": "https://localhost:8080/"
        },
        "id": "uU_imd37wMqk",
        "outputId": "cd1d3e95-ea2a-46ec-efd5-9d5d6e566fd2"
      },
      "execution_count": 17,
      "outputs": [
        {
          "output_type": "stream",
          "name": "stdout",
          "text": [
            "         alcohol  malic_acid        ash  alcalinity_of_ash   magnesium  \\\n",
            "count   0.000000   51.000000  62.000000         116.000000   73.000000   \n",
            "mean   11.030000    0.740000   1.677899          18.496692  122.234490   \n",
            "std     1.797543    0.710619   0.922945           4.445848   41.418244   \n",
            "min    11.030000    0.740000   1.360000          10.600000   70.000000   \n",
            "25%    12.177833    1.213801   3.186034          11.874204   80.316328   \n",
            "50%    14.827405    4.478286   2.539092          15.004847   86.269616   \n",
            "75%    13.340403    4.118045   1.457962          23.541534  153.423761   \n",
            "max    13.666232    5.465356   1.648855          24.346260  147.738517   \n",
            "\n",
            "       total_phenols  flavanoids  nonflavanoid_phenols  proanthocyanins  \\\n",
            "count     130.000000  163.000000            245.000000         0.000000   \n",
            "mean        2.048868    0.340000              0.617653         0.460427   \n",
            "std         1.141665    1.894287              0.228160         1.514740   \n",
            "min         0.980000    0.340000              0.130000         0.410000   \n",
            "25%         3.486447    0.404501              0.341092         0.650240   \n",
            "50%         3.542822    3.554187              0.157166         1.922509   \n",
            "75%         3.865653    2.769002              0.278859         0.421013   \n",
            "max         3.879132    3.954993              0.579538         0.434349   \n",
            "\n",
            "       color_intensity         hue  0D280_0D315_of_diluted_wines      proline  \\\n",
            "count         0.000000  125.000000                    295.000000     0.000000   \n",
            "mean          4.453151    0.480000                      4.000000  1260.827290   \n",
            "std           5.247607    0.410037                      1.076199   441.472537   \n",
            "min           1.280000    0.480000                      1.270000  1160.893263   \n",
            "25%           3.586987    0.990025                      2.287478  1243.514294   \n",
            "50%           1.771137    1.664147                      2.513943   712.598521   \n",
            "75%           7.996974    1.458376                      3.811192  1405.874855   \n",
            "max          10.534682    0.891488                      3.362359   839.750533   \n",
            "\n",
            "       cultivars  \n",
            "count  97.000000  \n",
            "mean    2.527798  \n",
            "std     0.640641  \n",
            "min     1.000000  \n",
            "25%     1.001681  \n",
            "50%     2.153786  \n",
            "75%     1.058667  \n",
            "max     1.009661  \n"
          ]
        }
      ]
    },
    {
      "cell_type": "code",
      "source": [
        "%%ag\n",
        "export(train_data.columns, \"columns\")"
      ],
      "metadata": {
        "colab": {
          "base_uri": "https://localhost:8080/"
        },
        "id": "28olg6P6FfmA",
        "outputId": "3c900ee6-d431-4a74-83d3-53e92468a6f0"
      },
      "execution_count": 18,
      "outputs": [
        {
          "output_type": "stream",
          "name": "stdout",
          "text": [
            "Setting up exported variable in local environment: columns\n"
          ]
        }
      ]
    },
    {
      "cell_type": "code",
      "source": [
        "print(columns)"
      ],
      "metadata": {
        "colab": {
          "base_uri": "https://localhost:8080/"
        },
        "id": "-QX1h_LbKGzE",
        "outputId": "abb7fe7a-e02e-43b4-b06a-b1388a2f9106"
      },
      "execution_count": 19,
      "outputs": [
        {
          "output_type": "stream",
          "name": "stdout",
          "text": [
            "['alcohol', 'malic_acid', 'ash', 'alcalinity_of_ash', 'magnesium', 'total_phenols', 'flavanoids', 'nonflavanoid_phenols', 'proanthocyanins', 'color_intensity', 'hue', '0D280_0D315_of_diluted_wines', 'proline', 'cultivars']\n"
          ]
        }
      ]
    },
    {
      "cell_type": "code",
      "source": [
        "%%ag\n",
        "columns=list(train_data.columns)\n",
        "ranges=[(11.03 , 14.83),(0.74 , 5.8),(1.36 , 3.23),(10.6 , 30),(70 ,162),(0.98 , 3.88), (0.34 , 5.08),(0.13 , 0.66),(0.41, 3.58),(1.28 ,13),(0.48 , 1.71),(1.27 ,4),(278 ,1680),(1 , 3)]\n",
        "ranges=list(ranges)\n",
        "assert len(columns) == len(ranges)"
      ],
      "metadata": {
        "id": "HjV3o-AxFgz0"
      },
      "execution_count": 21,
      "outputs": []
    },
    {
      "cell_type": "code",
      "source": [
        "%%ag\n",
        "priv_corr = train_x.corr(eps=5)\n",
        "export(priv_corr , 'priv_corr')"
      ],
      "metadata": {
        "colab": {
          "base_uri": "https://localhost:8080/"
        },
        "id": "rLQdyNGPSyxu",
        "outputId": "800bc1d9-a742-4c39-ca7b-9085d3bdc4e8"
      },
      "execution_count": 22,
      "outputs": [
        {
          "output_type": "stream",
          "name": "stderr",
          "text": [
            "/code/dependencies/op_pandas/op_pandas/utils/stat_utils.py:240: RuntimeWarning: invalid value encountered in sqrt\n",
            "  ) / np.sqrt(\n",
            "\n"
          ]
        },
        {
          "output_type": "stream",
          "name": "stdout",
          "text": [
            "Setting up exported variable in local environment: priv_corr\n"
          ]
        }
      ]
    },
    {
      "cell_type": "code",
      "source": [
        "import pandas as pd\n",
        "import seaborn as sns\n",
        "result = priv_corr.apply(pd.to_numeric, errors='coerce').astype(float)\n",
        "sns.heatmap(result , annot = True)"
      ],
      "metadata": {
        "colab": {
          "base_uri": "https://localhost:8080/",
          "height": 654
        },
        "id": "E0HsWx0nS3OM",
        "outputId": "4fdf588c-8d5b-48dc-bf1d-273dcc3f926b"
      },
      "execution_count": 24,
      "outputs": [
        {
          "output_type": "execute_result",
          "data": {
            "text/plain": [
              "<Axes: >"
            ]
          },
          "metadata": {},
          "execution_count": 24
        },
        {
          "output_type": "display_data",
          "data": {
            "text/plain": [
              "<Figure size 640x480 with 2 Axes>"
            ],
            "image/png": "[encoded data removed]"
          },
          "metadata": {}
        }
      ]
    },
    {
      "cell_type": "markdown",
      "source": [
        "# GaussianNB"
      ],
      "metadata": {
        "id": "UyGBnhzTQJft"
      }
    },
    {
      "cell_type": "code",
      "source": [
        "%%ag\n",
        "import op_diffprivlib\n",
        "from op_diffprivlib.models import  LogisticRegression, GaussianNB\n",
        "bounds = ([11.03,0.74, 1.36, 10.6, 70,0.98,0.34,0.13,0.41,1.28,0.48,1.27,278], [14.83, 5.8, 3.23, 30, 162,3.88,5.08,0.66,3.58,13,1.71,4,1680])\n",
        "dp_clf2 = GaussianNB(epsilon=10, bounds=bounds, random_state=0)\n",
        "dp_clf2.fit(train_x, train_y)"
      ],
      "metadata": {
        "id": "o5IeAgwlwSm3",
        "colab": {
          "base_uri": "https://localhost:8080/"
        },
        "outputId": "e08b6fa1-3421-4871-be90-e4e347a23827"
      },
      "execution_count": 25,
      "outputs": [
        {
          "output_type": "stream",
          "name": "stderr",
          "text": [
            "/usr/local/lib/python3.10/site-packages/sklearn/utils/validation.py:1183: DataConversionWarning: A column-vector y was passed when a 1d array was expected. Please change the shape of y to (n_samples, ), for example using ravel().\n",
            "  y = column_or_1d(y, warn=True)\n",
            "\n"
          ]
        }
      ]
    },
    {
      "cell_type": "code",
      "source": [
        "%%ag\n",
        "out=dp_clf2.predict(test_x)\n",
        "export(out,'out')"
      ],
      "metadata": {
        "colab": {
          "base_uri": "https://localhost:8080/"
        },
        "id": "k4weaiarPqh9",
        "outputId": "4877962f-3103-48e7-e8ab-751c4b75289a"
      },
      "execution_count": 26,
      "outputs": [
        {
          "output_type": "stream",
          "name": "stdout",
          "text": [
            "Setting up exported variable in local environment: out\n"
          ]
        }
      ]
    },
    {
      "cell_type": "code",
      "source": [
        "print(out)"
      ],
      "metadata": {
        "colab": {
          "base_uri": "https://localhost:8080/"
        },
        "id": "dYbRSdDHQAIU",
        "outputId": "c52d19d0-5cc7-466b-aafd-aa7dfa7e2642"
      },
      "execution_count": 27,
      "outputs": [
        {
          "output_type": "stream",
          "name": "stdout",
          "text": [
            "[1 2 3 2 2 1 2 3 2 3 2 3 2 2 2 2 2 2 1 2 1 2 3 3 3 3 2 2 2 2 1 2 3 1 1 1]\n"
          ]
        }
      ]
    },
    {
      "cell_type": "markdown",
      "source": [
        "# LogisticRegression"
      ],
      "metadata": {
        "id": "iHhBUKLfQOYU"
      }
    },
    {
      "cell_type": "code",
      "source": [
        "%%ag\n",
        "from op_diffprivlib.models import  LogisticRegression\n",
        "clf = LogisticRegression(data_norm=12, epsilon=10).fit(train_x, train_y)\n",
        "prediction=clf.predict(test_x)\n",
        "export(prediction,'predicted_value')"
      ],
      "metadata": {
        "colab": {
          "base_uri": "https://localhost:8080/"
        },
        "id": "pwEb3Sul0Z7U",
        "outputId": "c0b46ba9-a4ca-49e4-cd09-dd3a9d582bfe"
      },
      "execution_count": 28,
      "outputs": [
        {
          "output_type": "stream",
          "name": "stderr",
          "text": [
            "/usr/local/lib/python3.10/site-packages/sklearn/utils/validation.py:1183: DataConversionWarning: A column-vector y was passed when a 1d array was expected. Please change the shape of y to (n_samples, ), for example using ravel().\n",
            "  y = column_or_1d(y, warn=True)\n",
            "\n"
          ]
        },
        {
          "output_type": "stream",
          "name": "stdout",
          "text": [
            "Setting up exported variable in local environment: predicted_value\n"
          ]
        }
      ]
    },
    {
      "cell_type": "code",
      "source": [
        "print(predicted_value)"
      ],
      "metadata": {
        "id": "6P6hUgBd2qvQ",
        "colab": {
          "base_uri": "https://localhost:8080/"
        },
        "outputId": "1d260bf2-6f51-477f-9004-ea9b479c997a"
      },
      "execution_count": 29,
      "outputs": [
        {
          "output_type": "stream",
          "name": "stdout",
          "text": [
            "[1 1 1 1 1 1 1 1 1 1 1 2 1 2 1 2 2 1 1 2 1 1 1 2 2 1 2 1 2 1 1 2 1 1 1 1]\n"
          ]
        }
      ]
    },
    {
      "cell_type": "markdown",
      "source": [
        "# RandomForest"
      ],
      "metadata": {
        "id": "VJFrNhj7Qdyh"
      }
    },
    {
      "cell_type": "code",
      "source": [
        "%%ag\n",
        "from op_diffprivlib.models import RandomForestClassifier\n",
        "model = RandomForestClassifier(n_estimators=100, epsilon = 10 , random_state=0 , bounds=bounds , classes=list(train_x.columns))\n"
      ],
      "metadata": {
        "id": "LBuIwhUV2tHt"
      },
      "execution_count": 30,
      "outputs": []
    },
    {
      "cell_type": "code",
      "source": [
        "%%ag\n",
        "model.fit(train_x,train_y)"
      ],
      "metadata": {
        "colab": {
          "base_uri": "https://localhost:8080/"
        },
        "id": "KIGzKpphRGFU",
        "outputId": "b42c7474-2671-4ed1-d7c2-291430987767"
      },
      "execution_count": 31,
      "outputs": [
        {
          "output_type": "stream",
          "name": "stderr",
          "text": [
            "/usr/local/lib/python3.10/site-packages/sklearn/utils/validation.py:1183: DataConversionWarning: A column-vector y was passed when a 1d array was expected. Please change the shape of y to (n_samples, ), for example using ravel().\n",
            "  y = column_or_1d(y, warn=True)\n",
            "\n"
          ]
        }
      ]
    },
    {
      "cell_type": "code",
      "source": [
        "%%ag\n",
        "out = model.predict(test_x)\n",
        "export(out , \"out\")"
      ],
      "metadata": {
        "colab": {
          "base_uri": "https://localhost:8080/"
        },
        "id": "8_JqtG-7Qwkk",
        "outputId": "8e5ac98f-896e-4284-f906-d116443bab30"
      },
      "execution_count": 32,
      "outputs": [
        {
          "output_type": "stream",
          "name": "stdout",
          "text": [
            "Setting up exported variable in local environment: out\n"
          ]
        }
      ]
    },
    {
      "cell_type": "code",
      "source": [
        "print(out)"
      ],
      "metadata": {
        "colab": {
          "base_uri": "https://localhost:8080/"
        },
        "id": "XK0x6hSiQ1Zp",
        "outputId": "abb53428-39db-4b24-d3ca-2ec6c3bd7e03"
      },
      "execution_count": 33,
      "outputs": [
        {
          "output_type": "stream",
          "name": "stdout",
          "text": [
            "['malic_acid' 'malic_acid' 'nonflavanoid_phenols' 'alcalinity_of_ash'\n",
            " 'malic_acid' 'alcohol' 'flavanoids' 'ash' 'nonflavanoid_phenols' 'ash'\n",
            " 'malic_acid' '0D280_0D315_of_diluted_wines' 'total_phenols' 'ash'\n",
            " '0D280_0D315_of_diluted_wines' 'total_phenols' 'flavanoids'\n",
            " 'nonflavanoid_phenols' 'nonflavanoid_phenols' 'hue' 'ash' 'malic_acid'\n",
            " 'flavanoids' '0D280_0D315_of_diluted_wines' 'ash' 'ash' 'malic_acid'\n",
            " 'nonflavanoid_phenols' 'total_phenols' 'nonflavanoid_phenols'\n",
            " 'malic_acid' 'malic_acid' 'ash' 'nonflavanoid_phenols' 'malic_acid'\n",
            " 'proline']\n"
          ]
        }
      ]
    }
  ]
}