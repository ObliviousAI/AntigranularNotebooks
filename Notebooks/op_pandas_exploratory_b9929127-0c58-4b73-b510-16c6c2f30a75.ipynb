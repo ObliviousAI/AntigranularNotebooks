{
  "cells": [
    {
      "cell_type": "markdown",
      "metadata": {
        "id": "cxLH2_NOtg7Z"
      },
      "source": [
        "#**Exploration of op_pandas functionality using custom dataset**"
      ]
    },
    {
      "cell_type": "markdown",
      "metadata": {
        "id": "4PskEirWtz1g"
      },
      "source": [
        "**Instaling antigranular**"
      ]
    },
    {
      "cell_type": "code",
      "execution_count": 33,
      "metadata": {
        "colab": {
          "base_uri": "https://localhost:8080/"
        },
        "id": "UAiEnbKt8Vzz",
        "outputId": "d984a472-4b78-4dce-818b-1803db9c1c6b"
      },
      "outputs": [
        {
          "name": "stdout",
          "output_type": "stream",
          "text": [
            "Requirement already satisfied: antigranular in c:\\users\\kshub\\onedrive\\documents\\oblivious\\env\\lib\\site-packages (0.2.18)\n",
            "Requirement already satisfied: oblv-client<0.2.0,>=0.1.15 in c:\\users\\kshub\\onedrive\\documents\\oblivious\\env\\lib\\site-packages (from antigranular) (0.1.15)\n",
            "Requirement already satisfied: pandas<2.0.0,>=1.5.3 in c:\\users\\kshub\\onedrive\\documents\\oblivious\\env\\lib\\site-packages (from antigranular) (1.5.3)\n",
            "Requirement already satisfied: pydantic<2.0.0,>=1.10.7 in c:\\users\\kshub\\onedrive\\documents\\oblivious\\env\\lib\\site-packages (from antigranular) (1.10.14)\n",
            "Requirement already satisfied: requests<3.0.0,>=2.31.0 in c:\\users\\kshub\\onedrive\\documents\\oblivious\\env\\lib\\site-packages (from antigranular) (2.31.0)\n",
            "Requirement already satisfied: onnx<2.0.0,>=1.15.0 in c:\\users\\kshub\\onedrive\\documents\\oblivious\\env\\lib\\site-packages (from antigranular) (1.15.0)\n",
            "Requirement already satisfied: ipython<8.0.0,>=7.34.0 in c:\\users\\kshub\\onedrive\\documents\\oblivious\\env\\lib\\site-packages (from antigranular) (7.34.0)\n",
            "Requirement already satisfied: pickleshare in c:\\users\\kshub\\onedrive\\documents\\oblivious\\env\\lib\\site-packages (from ipython<8.0.0,>=7.34.0->antigranular) (0.7.5)\n",
            "Requirement already satisfied: jedi>=0.16 in c:\\users\\kshub\\onedrive\\documents\\oblivious\\env\\lib\\site-packages (from ipython<8.0.0,>=7.34.0->antigranular) (0.19.1)\n",
            "Requirement already satisfied: backcall in c:\\users\\kshub\\onedrive\\documents\\oblivious\\env\\lib\\site-packages (from ipython<8.0.0,>=7.34.0->antigranular) (0.2.0)\n",
            "Requirement already satisfied: traitlets>=4.2 in c:\\users\\kshub\\onedrive\\documents\\oblivious\\env\\lib\\site-packages (from ipython<8.0.0,>=7.34.0->antigranular) (5.14.1)\n",
            "Requirement already satisfied: colorama in c:\\users\\kshub\\onedrive\\documents\\oblivious\\env\\lib\\site-packages (from ipython<8.0.0,>=7.34.0->antigranular) (0.4.6)\n",
            "Requirement already satisfied: prompt-toolkit!=3.0.0,!=3.0.1,<3.1.0,>=2.0.0 in c:\\users\\kshub\\onedrive\\documents\\oblivious\\env\\lib\\site-packages (from ipython<8.0.0,>=7.34.0->antigranular) (3.0.43)\n",
            "Requirement already satisfied: decorator in c:\\users\\kshub\\onedrive\\documents\\oblivious\\env\\lib\\site-packages (from ipython<8.0.0,>=7.34.0->antigranular) (5.1.1)\n",
            "Requirement already satisfied: matplotlib-inline in c:\\users\\kshub\\onedrive\\documents\\oblivious\\env\\lib\\site-packages (from ipython<8.0.0,>=7.34.0->antigranular) (0.1.6)\n",
            "Requirement already satisfied: setuptools>=18.5 in c:\\users\\kshub\\onedrive\\documents\\oblivious\\env\\lib\\site-packages (from ipython<8.0.0,>=7.34.0->antigranular) (58.1.0)\n",
            "Requirement already satisfied: pygments in c:\\users\\kshub\\onedrive\\documents\\oblivious\\env\\lib\\site-packages (from ipython<8.0.0,>=7.34.0->antigranular) (2.17.2)\n",
            "Requirement already satisfied: urllib3 in c:\\users\\kshub\\onedrive\\documents\\oblivious\\env\\lib\\site-packages (from oblv-client<0.2.0,>=0.1.15->antigranular) (2.1.0)\n",
            "Requirement already satisfied: protobuf>=3.20.2 in c:\\users\\kshub\\onedrive\\documents\\oblivious\\env\\lib\\site-packages (from onnx<2.0.0,>=1.15.0->antigranular) (4.25.2)\n",
            "Requirement already satisfied: numpy in c:\\users\\kshub\\onedrive\\documents\\oblivious\\env\\lib\\site-packages (from onnx<2.0.0,>=1.15.0->antigranular) (1.26.3)\n",
            "Requirement already satisfied: python-dateutil>=2.8.1 in c:\\users\\kshub\\onedrive\\documents\\oblivious\\env\\lib\\site-packages (from pandas<2.0.0,>=1.5.3->antigranular) (2.8.2)\n",
            "Requirement already satisfied: pytz>=2020.1 in c:\\users\\kshub\\onedrive\\documents\\oblivious\\env\\lib\\site-packages (from pandas<2.0.0,>=1.5.3->antigranular) (2023.3.post1)\n",
            "Requirement already satisfied: typing-extensions>=4.2.0 in c:\\users\\kshub\\onedrive\\documents\\oblivious\\env\\lib\\site-packages (from pydantic<2.0.0,>=1.10.7->antigranular) (4.9.0)\n",
            "Requirement already satisfied: idna<4,>=2.5 in c:\\users\\kshub\\onedrive\\documents\\oblivious\\env\\lib\\site-packages (from requests<3.0.0,>=2.31.0->antigranular) (3.6)\n",
            "Requirement already satisfied: charset-normalizer<4,>=2 in c:\\users\\kshub\\onedrive\\documents\\oblivious\\env\\lib\\site-packages (from requests<3.0.0,>=2.31.0->antigranular) (3.3.2)\n",
            "Requirement already satisfied: certifi>=2017.4.17 in c:\\users\\kshub\\onedrive\\documents\\oblivious\\env\\lib\\site-packages (from requests<3.0.0,>=2.31.0->antigranular) (2023.11.17)\n",
            "Requirement already satisfied: parso<0.9.0,>=0.8.3 in c:\\users\\kshub\\onedrive\\documents\\oblivious\\env\\lib\\site-packages (from jedi>=0.16->ipython<8.0.0,>=7.34.0->antigranular) (0.8.3)\n",
            "Requirement already satisfied: wcwidth in c:\\users\\kshub\\onedrive\\documents\\oblivious\\env\\lib\\site-packages (from prompt-toolkit!=3.0.0,!=3.0.1,<3.1.0,>=2.0.0->ipython<8.0.0,>=7.34.0->antigranular) (0.2.13)\n",
            "Requirement already satisfied: six>=1.5 in c:\\users\\kshub\\onedrive\\documents\\oblivious\\env\\lib\\site-packages (from python-dateutil>=2.8.1->pandas<2.0.0,>=1.5.3->antigranular) (1.16.0)\n"
          ]
        },
        {
          "name": "stderr",
          "output_type": "stream",
          "text": [
            "WARNING: You are using pip version 22.0.4; however, version 23.3.2 is available.\n",
            "You should consider upgrading via the 'C:\\Users\\kshub\\OneDrive\\Documents\\Oblivious\\env\\Scripts\\python.exe -m pip install --upgrade pip' command.\n"
          ]
        }
      ],
      "source": [
        "!pip install antigranular"
      ]
    },
    {
      "cell_type": "markdown",
      "metadata": {
        "id": "kz6jTlNGt_WS"
      },
      "source": [
        "**Connecting to ag server**"
      ]
    },
    {
      "cell_type": "code",
      "execution_count": 36,
      "metadata": {},
      "outputs": [
        {
          "data": {
            "text/html": [
              "Fetching Platform Configuration Register (PCRs)... /"
            ],
            "text/plain": [
              "<IPython.core.display.HTML object>"
            ]
          },
          "metadata": {},
          "output_type": "display_data"
        },
        {
          "name": "stdout",
          "output_type": "stream",
          "text": [
            "Dataset \"The Wine Dataset\" loaded to the kernel as \u001b[92mthe_wine_dataset\u001b[0m\n",
            "Key Name                       Value Type     \n",
            "---------------------------------------------\n",
            "train_x                        PrivateDataFrame\n",
            "train_y                        PrivateDataFrame\n",
            "test_x                         DataFrame      \n",
            "\n",
            "Connected to Antigranular server session id: b9929127-0c58-4b73-b510-16c6c2f30a75, the session will time out if idle for 25 minutes\n",
            "Cell magic '%%ag' registered successfully, use `%%ag` in a notebook cell to execute your python code on Antigranular private python server\n",
            "🚀 Everything's set up and ready to roll!\n"
          ]
        }
      ],
      "source": [
        "import antigranular as ag\n",
        "ag_client  = ag.login(<client_id>,<client_secret>, \"comp_dataset_id\", \"temp_username\", \"temp_password\")"
      ]
    },
    {
      "cell_type": "markdown",
      "metadata": {
        "id": "WTWaApK8uG5y"
      },
      "source": [
        "**Importing necessary libraries or tools**"
      ]
    },
    {
      "cell_type": "code",
      "execution_count": 39,
      "metadata": {
        "id": "R2y0JM_u8mC0"
      },
      "outputs": [],
      "source": [
        "%%ag\n",
        "from ag_utils import export\n",
        "from op_pandas import PrivateDataFrame , PrivateSeries\n",
        "import pandas as pd\n",
        "import numpy as np"
      ]
    },
    {
      "cell_type": "markdown",
      "metadata": {
        "id": "kJCyot0pVKH6"
      },
      "source": [
        "# Analysis of self-made dataframe of random numbers\n"
      ]
    },
    {
      "cell_type": "code",
      "execution_count": 40,
      "metadata": {
        "id": "C8IFwZ1ZBzLi"
      },
      "outputs": [],
      "source": [
        "%%ag\n",
        "#creating dataframe of random numbers for analysis\n",
        "data=np.random.randint(1,10000, size=(10000,4))\n",
        "col_name=['col_1','col_2','col_3','col_4']\n",
        "df=pd.DataFrame(data, columns=col_name)\n",
        "df_new=PrivateDataFrame(df,metadata={'col_1': (1,10000),'col_2': (1,10000),'col_3': (1,10000),'col_4':(1,10000)})"
      ]
    },
    {
      "cell_type": "code",
      "execution_count": null,
      "metadata": {
        "colab": {
          "base_uri": "https://localhost:8080/"
        },
        "id": "8nxDohyZGCUW",
        "outputId": "dba143dc-b04d-497f-c1b6-1f04175f19e9"
      },
      "outputs": [
        {
          "name": "stdout",
          "output_type": "stream",
          "text": [
            "Setting up exported variable in local environment: avg\n"
          ]
        }
      ],
      "source": [
        "%%ag\n",
        "#Calculating the mean of \"col_1\" in df_new\n",
        "avg=df_new['col_1'].mean(eps=0.1)\n",
        "## Export information from remote ag kernel to local jupyter server.\n",
        "export(avg,'avg')"
      ]
    },
    {
      "cell_type": "code",
      "execution_count": null,
      "metadata": {
        "id": "bKbflTET-yuT"
      },
      "outputs": [
        {
          "name": "stdout",
          "output_type": "stream",
          "text": [
            "4959.7938641219225\n"
          ]
        }
      ],
      "source": [
        "#printing the average value of \"col_1\"\n",
        "print(avg)"
      ]
    },
    {
      "cell_type": "code",
      "execution_count": null,
      "metadata": {
        "colab": {
          "base_uri": "https://localhost:8080/"
        },
        "id": "pBwq0siRHZIp",
        "outputId": "08e3da78-3a64-4b55-9e76-d001e936a0b2"
      },
      "outputs": [
        {
          "name": "stdout",
          "output_type": "stream",
          "text": [
            "Setting up exported variable in local environment: df_info\n"
          ]
        }
      ],
      "source": [
        "%%ag\n",
        "#calling of describe method on the dataframe\n",
        "priv_describe = df_new.describe(eps=0.1)\n",
        "# Export information from remote ag kernel to local jupyter server.\n",
        "export(priv_describe , 'df_info')"
      ]
    },
    {
      "cell_type": "code",
      "execution_count": null,
      "metadata": {
        "colab": {
          "base_uri": "https://localhost:8080/"
        },
        "id": "chA62jhQU_D2",
        "outputId": "40f5f099-aaa9-4bfc-e78b-41631917beee"
      },
      "outputs": [
        {
          "name": "stdout",
          "output_type": "stream",
          "text": [
            "             col_1         col_2        col_3         col_4\n",
            "count  9773.000000  11098.000000  9998.000000  10862.000000\n",
            "mean   4944.519157   4591.769872  4853.113061   4918.978972\n",
            "std    3781.490191   4012.343209  1470.613200   2640.487992\n",
            "min     320.271139    491.272941   441.722393     67.116392\n",
            "25%    2734.726818   1648.930599  2422.797703   2627.728794\n",
            "50%    5011.479213   5933.211970  6072.820970   5593.099499\n",
            "75%    7735.744405   7658.765891  7005.933480   7311.305429\n",
            "max    9552.230449   9676.524829  9981.277032   9775.662081\n"
          ]
        }
      ],
      "source": [
        "#printing the describe method output\n",
        "print(df_info)"
      ]
    },
    {
      "cell_type": "code",
      "execution_count": null,
      "metadata": {
        "colab": {
          "base_uri": "https://localhost:8080/"
        },
        "id": "9iMUPg8FVEDD",
        "outputId": "93b1e39e-afc1-4e77-f440-c710adb324e8"
      },
      "outputs": [
        {
          "name": "stdout",
          "output_type": "stream",
          "text": [
            "Setting up exported variable in local environment: result\n"
          ]
        }
      ],
      "source": [
        "%%ag\n",
        "#calling dropna method over the dataframe to drop nan values\n",
        "export(df_new.dropna(axis=0).describe(eps=0.1), 'result')"
      ]
    },
    {
      "cell_type": "code",
      "execution_count": null,
      "metadata": {
        "colab": {
          "base_uri": "https://localhost:8080/"
        },
        "id": "Tq9J62qGVxC7",
        "outputId": "a76df8d2-4eda-4637-c18a-04ee6839be4b"
      },
      "outputs": [
        {
          "name": "stdout",
          "output_type": "stream",
          "text": [
            "              col_1         col_2        col_3         col_4\n",
            "count  10313.000000  10157.000000  9833.000000  10193.000000\n",
            "mean    5262.074600   5828.014994  4875.008130   5087.891643\n",
            "std     3347.240687   2428.189350  3362.279678   1035.885479\n",
            "min      480.199089    118.050690   297.508042   1290.531173\n",
            "25%     2450.484237   1110.004475  1282.470214   2700.612360\n",
            "50%     3929.110358   4965.089699  5645.459482   4389.911281\n",
            "75%     7081.321683   7625.224220  9289.374930   7767.923807\n",
            "max     9724.046880   9520.078676  8872.527810   9555.130147\n"
          ]
        }
      ],
      "source": [
        "#printing the resultant dataframe\n",
        "print(result)"
      ]
    },
    {
      "cell_type": "code",
      "execution_count": 41,
      "metadata": {
        "id": "lufKjDUuVykN"
      },
      "outputs": [],
      "source": [
        "%%ag\n",
        "#making a new copy of the dataframe\n",
        "df_new_copied= df_new.copy()"
      ]
    },
    {
      "cell_type": "code",
      "execution_count": 42,
      "metadata": {},
      "outputs": [
        {
          "name": "stdout",
          "output_type": "stream",
          "text": [
            "Setting up exported variable in local environment: des\n"
          ]
        }
      ],
      "source": [
        "%%ag\n",
        "des=df_new_copied.describe(eps=0.1 )\n",
        "export(des,'des')"
      ]
    },
    {
      "cell_type": "code",
      "execution_count": 43,
      "metadata": {},
      "outputs": [
        {
          "name": "stdout",
          "output_type": "stream",
          "text": [
            "             col_1         col_2        col_3        col_4\n",
            "count  9958.000000  10191.000000  9851.000000  9688.000000\n",
            "mean   4854.134084   5161.745173  4855.590109  5012.216698\n",
            "std    3194.972089   3404.024317  3336.633348  2862.554092\n",
            "min     292.281858    857.099882   761.092067   108.012014\n",
            "25%    2220.625682   2588.135349  2108.465572   937.999412\n",
            "50%    4700.337713   5154.710960  5094.042464  5133.129865\n",
            "75%    7882.546332   7907.736447  8140.918892  7702.720645\n",
            "max    9905.583715   9660.812300  9751.358246  9571.679421\n"
          ]
        }
      ],
      "source": [
        "print(des)"
      ]
    },
    {
      "cell_type": "code",
      "execution_count": null,
      "metadata": {
        "colab": {
          "base_uri": "https://localhost:8080/"
        },
        "id": "AvG-BvmTWxyS",
        "outputId": "aa16d797-9d61-46e3-85f4-b940c7b5cd9c"
      },
      "outputs": [
        {
          "name": "stdout",
          "output_type": "stream",
          "text": [
            "Setting up exported variable in local environment: sum\n"
          ]
        }
      ],
      "source": [
        "%%ag\n",
        "#calculating sum over each column\n",
        "sum=df_new.sum(eps = 0.1, axis=0, skipna=True, min_count=0)\n",
        "export(sum,'sum')"
      ]
    },
    {
      "cell_type": "code",
      "execution_count": null,
      "metadata": {
        "colab": {
          "base_uri": "https://localhost:8080/"
        },
        "id": "oImr5ztzXIkl",
        "outputId": "d08ae8a5-8aa7-4980-e0af-d59c817c8615"
      },
      "outputs": [
        {
          "name": "stdout",
          "output_type": "stream",
          "text": [
            "col_1    4.976448e+07\n",
            "col_2    4.958078e+07\n",
            "col_3    4.999435e+07\n",
            "col_4    5.000862e+07\n",
            "dtype: float64\n"
          ]
        }
      ],
      "source": [
        "#printing the sum of each column\n",
        "print(sum)"
      ]
    },
    {
      "cell_type": "code",
      "execution_count": null,
      "metadata": {
        "colab": {
          "base_uri": "https://localhost:8080/"
        },
        "id": "Mv6VqdstX5MN",
        "outputId": "8cff0d21-6a65-402a-908e-8bf67469381f"
      },
      "outputs": [
        {
          "name": "stdout",
          "output_type": "stream",
          "text": [
            "Setting up exported variable in local environment: var\n"
          ]
        }
      ],
      "source": [
        "%%ag\n",
        "#calculating variance over each column\n",
        "var=df_new.var(eps = 0.1, axis=0, skipna=True, ddof=1)\n",
        "export(var,'var')"
      ]
    },
    {
      "cell_type": "code",
      "execution_count": null,
      "metadata": {
        "colab": {
          "base_uri": "https://localhost:8080/"
        },
        "id": "K_nHPxXZa4mf",
        "outputId": "13c7b786-6dc1-49e0-b378-9cdb668f5c01"
      },
      "outputs": [
        {
          "name": "stdout",
          "output_type": "stream",
          "text": [
            "col_1    8.296305e+06\n",
            "col_2    6.912732e+06\n",
            "col_3    8.398227e+06\n",
            "col_4    8.263877e+06\n",
            "dtype: float64\n"
          ]
        }
      ],
      "source": [
        "#printing the variance of each column\n",
        "print(var)"
      ]
    },
    {
      "cell_type": "code",
      "execution_count": null,
      "metadata": {
        "colab": {
          "base_uri": "https://localhost:8080/"
        },
        "id": "AAFoqrTEa6jX",
        "outputId": "861f35f6-c8cf-4225-94f7-5be6872cc22a"
      },
      "outputs": [
        {
          "name": "stdout",
          "output_type": "stream",
          "text": [
            "Setting up exported variable in local environment: count\n"
          ]
        }
      ],
      "source": [
        "%%ag\n",
        "#calling count over each column\n",
        "count=df_new.count(eps = 0.1, axis=0, numeric_only=False)\n",
        "export(count,'count')\n"
      ]
    },
    {
      "cell_type": "code",
      "execution_count": null,
      "metadata": {
        "colab": {
          "base_uri": "https://localhost:8080/"
        },
        "id": "1x0c5vrecAfn",
        "outputId": "5e5d22a3-18ae-43bb-996a-cd531ee1278b"
      },
      "outputs": [
        {
          "name": "stdout",
          "output_type": "stream",
          "text": [
            "col_1     9989\n",
            "col_2    10062\n",
            "col_3    10000\n",
            "col_4    10000\n",
            "dtype: int64\n"
          ]
        }
      ],
      "source": [
        "#printing the count of each column\n",
        "print(count)"
      ]
    },
    {
      "cell_type": "code",
      "execution_count": null,
      "metadata": {
        "colab": {
          "base_uri": "https://localhost:8080/"
        },
        "id": "s0kdK6Q6cFlV",
        "outputId": "6e950326-1086-410d-eced-d9714954a829"
      },
      "outputs": [
        {
          "name": "stdout",
          "output_type": "stream",
          "text": [
            "Setting up exported variable in local environment: hist\n"
          ]
        }
      ],
      "source": [
        "%%ag\n",
        "hist=df_new.hist('col_1', eps=0.1, bins = 10)\n",
        "export(hist,'hist')\n"
      ]
    },
    {
      "cell_type": "code",
      "execution_count": null,
      "metadata": {
        "colab": {
          "base_uri": "https://localhost:8080/",
          "height": 542
        },
        "id": "ZTn3L5Y-cjIy",
        "outputId": "6e8db73d-8932-400e-f91c-1c44cd418d67"
      },
      "outputs": [],
      "source": [
        "#plotting histograme over the columns of dataframe\n",
        "import plotly.graph_objects as go\n",
        "dp_hist, dp_bins = hist\n",
        "fig = go.Figure(data=[go.Bar(x=dp_bins[:-1], y=dp_hist)])\n",
        "fig.show()"
      ]
    },
    {
      "cell_type": "code",
      "execution_count": null,
      "metadata": {
        "colab": {
          "base_uri": "https://localhost:8080/"
        },
        "id": "z1Xyapgdc8cu",
        "outputId": "0adfe7fa-9c80-4d67-96ba-1254f47ac84f"
      },
      "outputs": [
        {
          "name": "stdout",
          "output_type": "stream",
          "text": [
            "Setting up exported variable in local environment: hist2\n"
          ]
        }
      ],
      "source": [
        "%%ag\n",
        "hist2=df_new.hist2d(eps=0.1, x='col_1', y='col_2', bins = 10)\n",
        "export(hist2,'hist2')\n"
      ]
    },
    {
      "cell_type": "code",
      "execution_count": null,
      "metadata": {
        "colab": {
          "base_uri": "https://localhost:8080/",
          "height": 472
        },
        "id": "7D0ZhwTT7vp5",
        "outputId": "a32bb132-a362-4352-ed76-37b2de73d039"
      },
      "outputs": [
        {
          "data": {
            "image/png": "[encoded data removed]",
            "text/plain": [
              "<Figure size 1200x500 with 1 Axes>"
            ]
          },
          "metadata": {},
          "output_type": "display_data"
        }
      ],
      "source": [
        "#Creating a 2d histogram among two of the columns of the PrivateDataFrame.\n",
        "import matplotlib.pyplot as plt\n",
        "fig, ax = plt.subplots(figsize=(12,5))\n",
        "h, xbins , ybins= hist2\n",
        "ax.matshow(h, extent=[xbins[0], xbins[-1], ybins[0], ybins[-1]], aspect='auto', origin='lower')\n",
        "ax.set_title('matshow with explicit extent, equal aspect and lower origin')\n",
        "plt.show()"
      ]
    },
    {
      "cell_type": "code",
      "execution_count": null,
      "metadata": {
        "colab": {
          "base_uri": "https://localhost:8080/"
        },
        "id": "3POcVI8F5Hng",
        "outputId": "f357363e-c5a8-49d6-b7c0-f3bab182da51"
      },
      "outputs": [
        {
          "name": "stdout",
          "output_type": "stream",
          "text": [
            "(array([[ 95.,  84., 104.,  97., 103., 102.,  95., 115.,  93., 105.],\n",
            "       [121.,  74., 138.,  92., 119.,  95.,  86.,  97.,  83., 101.],\n",
            "       [ 87., 102., 103.,  89.,  93.,  93., 117., 105., 103.,  92.],\n",
            "       [108., 101.,  79., 132., 118.,  81., 107.,  80.,  85.,  92.],\n",
            "       [ 80., 116., 102., 109., 114., 113., 100., 107., 121.,  86.],\n",
            "       [ 90.,  91.,  65., 105.,  86., 109., 120., 125., 106.,  54.],\n",
            "       [ 97., 101., 102., 113., 104., 117., 111., 120.,  87., 122.],\n",
            "       [127., 102.,  73.,  93., 107.,  89.,  79., 114., 111.,  81.],\n",
            "       [140.,  89.,  79., 111., 138., 119.,  85.,  85., 108.,  92.],\n",
            "       [ 77., 108., 104.,  98., 112., 102., 124., 114.,  91.,  98.]]), array([1.0000e+00, 1.0009e+03, 2.0008e+03, 3.0007e+03, 4.0006e+03,\n",
            "       5.0005e+03, 6.0004e+03, 7.0003e+03, 8.0002e+03, 9.0001e+03,\n",
            "       1.0000e+04]), array([1.0000e+00, 1.0009e+03, 2.0008e+03, 3.0007e+03, 4.0006e+03,\n",
            "       5.0005e+03, 6.0004e+03, 7.0003e+03, 8.0002e+03, 9.0001e+03,\n",
            "       1.0000e+04]))\n"
          ]
        }
      ],
      "source": [
        "print(hist2)"
      ]
    },
    {
      "cell_type": "code",
      "execution_count": null,
      "metadata": {
        "colab": {
          "base_uri": "https://localhost:8080/"
        },
        "id": "yPXCseGZfKJc",
        "outputId": "23783e74-5a8e-4a86-e7ac-fe06e9924691"
      },
      "outputs": [
        {
          "name": "stdout",
          "output_type": "stream",
          "text": [
            "Setting up exported variable in local environment: quant\n"
          ]
        }
      ],
      "source": [
        "%%ag\n",
        "#calculating quantile over each column with q=0.5\n",
        "quant=df_new.quantile(eps=0.1, q = 0.5)\n",
        "export(quant,'quant')"
      ]
    },
    {
      "cell_type": "code",
      "execution_count": null,
      "metadata": {
        "colab": {
          "base_uri": "https://localhost:8080/"
        },
        "id": "4-jXpsOBfhR5",
        "outputId": "4ea23632-b562-4167-f500-431a9d97fb7a"
      },
      "outputs": [
        {
          "name": "stdout",
          "output_type": "stream",
          "text": [
            "col_1    4897.884609\n",
            "col_2    4935.474070\n",
            "col_3    4999.982130\n",
            "col_4    5036.810357\n",
            "dtype: float64\n"
          ]
        }
      ],
      "source": [
        "print(quant)"
      ]
    },
    {
      "cell_type": "code",
      "execution_count": null,
      "metadata": {
        "colab": {
          "base_uri": "https://localhost:8080/"
        },
        "id": "qOnhj2Mufi73",
        "outputId": "31741b57-ddc3-48b7-841d-99ccc9151a2f"
      },
      "outputs": [
        {
          "name": "stdout",
          "output_type": "stream",
          "text": [
            "Setting up exported variable in local environment: median\n"
          ]
        }
      ],
      "source": [
        "%%ag\n",
        "#calculating medium over each column\n",
        "median=df_new.median(eps=0.1)\n",
        "export(median,'median')"
      ]
    },
    {
      "cell_type": "code",
      "execution_count": null,
      "metadata": {
        "colab": {
          "base_uri": "https://localhost:8080/"
        },
        "id": "wkcqN291vi7Y",
        "outputId": "ee9747a0-d6dd-49ae-887f-7ab628e712c7"
      },
      "outputs": [
        {
          "name": "stdout",
          "output_type": "stream",
          "text": [
            "col_1    4894.685748\n",
            "col_2    4923.683466\n",
            "col_3    5000.100590\n",
            "col_4    5037.502416\n",
            "dtype: float64\n"
          ]
        }
      ],
      "source": [
        "print(median)"
      ]
    },
    {
      "cell_type": "code",
      "execution_count": null,
      "metadata": {
        "colab": {
          "base_uri": "https://localhost:8080/"
        },
        "id": "XApDWHNdv7xK",
        "outputId": "d5376de1-4f6f-4ff1-9674-beeb3be307c1"
      },
      "outputs": [
        {
          "name": "stdout",
          "output_type": "stream",
          "text": [
            "Setting up exported variable in local environment: percent\n"
          ]
        }
      ],
      "source": [
        "%%ag\n",
        "#calculating percentile over each column\n",
        "percent=df_new.percentile(0.1, 1)\n",
        "export(percent,'percent')\n"
      ]
    },
    {
      "cell_type": "code",
      "execution_count": null,
      "metadata": {
        "colab": {
          "base_uri": "https://localhost:8080/"
        },
        "id": "HKpdcImCwUBM",
        "outputId": "ff84def6-0d89-4ed0-c798-445bf07f13b3"
      },
      "outputs": [
        {
          "name": "stdout",
          "output_type": "stream",
          "text": [
            "col_1     80.581633\n",
            "col_2    114.153564\n",
            "col_3     93.226417\n",
            "col_4    140.562941\n",
            "dtype: float64\n"
          ]
        }
      ],
      "source": [
        "print(percent)"
      ]
    },
    {
      "cell_type": "code",
      "execution_count": null,
      "metadata": {
        "colab": {
          "base_uri": "https://localhost:8080/"
        },
        "id": "nrJaXTnSwkJ-",
        "outputId": "ad8c23a3-f2eb-4b9d-b46c-4670f92748f8"
      },
      "outputs": [
        {
          "name": "stdout",
          "output_type": "stream",
          "text": [
            "Setting up exported variable in local environment: cov\n"
          ]
        }
      ],
      "source": [
        "%%ag\n",
        "#calculating covariance between two columns\n",
        "cov=df_new.cov(0.1, ddof = 1, numeric_only = True)\n",
        "export(cov,'cov')"
      ]
    },
    {
      "cell_type": "code",
      "execution_count": null,
      "metadata": {
        "colab": {
          "base_uri": "https://localhost:8080/"
        },
        "id": "OI3U9GtMw868",
        "outputId": "e2be8256-a8e3-4526-b720-839d002b0170"
      },
      "outputs": [
        {
          "name": "stdout",
          "output_type": "stream",
          "text": [
            "                col_1           col_2            col_3           col_4\n",
            "col_1  8325228.002492 -1603703.667536   -438755.703632  2578833.750208\n",
            "col_2 -1603703.667536  7914317.891357  -1060268.597716  1583160.160166\n",
            "col_3  -438755.703632 -1060268.597716  11379806.477133  -747084.469104\n",
            "col_4  2578833.750208  1583160.160166   -747084.469104  8126808.302662\n"
          ]
        }
      ],
      "source": [
        "print(cov)"
      ]
    },
    {
      "cell_type": "code",
      "execution_count": null,
      "metadata": {
        "colab": {
          "base_uri": "https://localhost:8080/"
        },
        "id": "LFEO4FeqxaH1",
        "outputId": "981e9cb4-ac3c-42b2-cb9a-7b3d3e63778d"
      },
      "outputs": [
        {
          "name": "stdout",
          "output_type": "stream",
          "text": [
            "Setting up exported variable in local environment: sk\n"
          ]
        }
      ],
      "source": [
        "%%ag\n",
        "#calculating skew values of columns\n",
        "sk=df_new.skew(eps=0.1, axis = 0, skipna = True, numeric_only = True)\n",
        "export(sk,'sk')"
      ]
    },
    {
      "cell_type": "code",
      "execution_count": null,
      "metadata": {
        "colab": {
          "base_uri": "https://localhost:8080/"
        },
        "id": "ccTgNdQSxotD",
        "outputId": "50c41c23-f51a-4551-9ca6-18c1b6209760"
      },
      "outputs": [
        {
          "name": "stdout",
          "output_type": "stream",
          "text": [
            "col_1    0.234456\n",
            "col_2    0.230089\n",
            "col_3   -0.044036\n",
            "col_4   -0.320443\n",
            "dtype: float64\n"
          ]
        }
      ],
      "source": [
        "print(sk)"
      ]
    },
    {
      "cell_type": "code",
      "execution_count": null,
      "metadata": {
        "colab": {
          "base_uri": "https://localhost:8080/"
        },
        "id": "0R0gmh9hxptt",
        "outputId": "3ead34dd-8d71-4264-98ac-a8c679fe263f"
      },
      "outputs": [
        {
          "name": "stdout",
          "output_type": "stream",
          "text": [
            "Setting up exported variable in local environment: cor\n"
          ]
        }
      ],
      "source": [
        "%%ag\n",
        "#calculating covariance between  columns\n",
        "cor=df_new.cov(eps=0.1, method=\"pearson\", numeric_only = True)\n",
        "export(cor,'cor')"
      ]
    },
    {
      "cell_type": "code",
      "execution_count": null,
      "metadata": {
        "colab": {
          "base_uri": "https://localhost:8080/"
        },
        "id": "gJSDU2o9yQCu",
        "outputId": "6e7fef9c-8e82-45a8-adb9-b7e74e4a584f"
      },
      "outputs": [
        {
          "name": "stdout",
          "output_type": "stream",
          "text": [
            "                col_1           col_2           col_3           col_4\n",
            "col_1  9692863.062363  1039479.592037 -1205488.515126  3837137.955826\n",
            "col_2  1039479.592037  8100866.277185   -45953.965513 -2979430.913883\n",
            "col_3 -1205488.515126   -45953.965513  9277662.717398    323086.20231\n",
            "col_4  3837137.955826 -2979430.913883    323086.20231  8252030.969724\n"
          ]
        }
      ],
      "source": [
        "print(cor)"
      ]
    },
    {
      "cell_type": "code",
      "execution_count": 59,
      "metadata": {
        "id": "ZU_TBfpByeCo"
      },
      "outputs": [
        {
          "name": "stdout",
          "output_type": "stream",
          "text": [
            "Setting up exported variable in local environment: describe\n"
          ]
        }
      ],
      "source": [
        "%%ag\n",
        "#applying a function over the dataframe\n",
        "def func (a : int)->int:\n",
        "  return a+2\n",
        "map_val=df_new.applymap(func, eps = 1)\n",
        "describe=map_val.describe(eps=0.1)\n",
        "export(describe,'describe')\n"
      ]
    },
    {
      "cell_type": "code",
      "execution_count": 60,
      "metadata": {},
      "outputs": [
        {
          "name": "stdout",
          "output_type": "stream",
          "text": [
            "              col_1         col_2         col_3         col_4\n",
            "count  10044.000000   9898.000000  10318.000000  10164.000000\n",
            "mean    5110.100568   5180.909981   5693.171449   6493.427743\n",
            "std     3514.812723   3774.337599   6386.355735   2544.065945\n",
            "min      461.150279    364.043254    222.324349   1319.835983\n",
            "25%     1467.591134   3247.898213   1570.278822   2643.279796\n",
            "50%     4403.612178   7010.176731   4303.229293   5356.835829\n",
            "75%     7292.262005   7335.293888   7402.110407   7676.780626\n",
            "max    10629.722138  15493.571732  10412.233683  11710.134489\n"
          ]
        }
      ],
      "source": [
        "print(describe)"
      ]
    },
    {
      "cell_type": "code",
      "execution_count": null,
      "metadata": {
        "colab": {
          "base_uri": "https://localhost:8080/"
        },
        "id": "4R-jVK7UzSUu",
        "outputId": "5f536502-2e68-4def-a711-5d2eebca1e86"
      },
      "outputs": [
        {
          "name": "stdout",
          "output_type": "stream",
          "text": [
            "Total epsilon spent = 0.1000\n",
            "\n",
            "Setting up exported variable in local environment: desc\n"
          ]
        }
      ],
      "source": [
        "%%ag\n",
        "#adding a new column to the dataframe\n",
        "df_joined=df_new.join(df_new['col_1'],how = \"left\",lsuffix = \"\",rsuffix = \"\",sort = False)\n",
        "desc=df_joined.describe(eps=0.1)\n",
        "export(desc,'desc')\n"
      ]
    },
    {
      "cell_type": "code",
      "execution_count": null,
      "metadata": {
        "colab": {
          "base_uri": "https://localhost:8080/"
        },
        "id": "mNv4La9u0Fzr",
        "outputId": "83fd55f3-9563-4885-cf72-5a9e4d02ba8f"
      },
      "outputs": [
        {
          "name": "stdout",
          "output_type": "stream",
          "text": [
            "              col_1         col_2         col_3         col_4        series\n",
            "count  10000.000000  10000.000000  10000.000000  10000.000000  10000.000000\n",
            "mean    5320.635249   4818.179615   5142.608259   5117.827064   5083.407300\n",
            "std     4235.639519   3125.000710   4214.390681   1055.190944   2906.100796\n",
            "min       72.496585    639.688658    635.722056    792.085549      2.000000\n",
            "25%     2985.777157   2963.828368   1715.304362   2028.287092   2561.000000\n",
            "50%     2660.354684   4717.157504   3703.289932   5381.011787   5150.500000\n",
            "75%     5440.265957   7073.382880   7205.139338   7160.785130   7571.250000\n",
            "max     9693.360734   9265.648474   8025.847270   9334.908813   9998.000000\n"
          ]
        }
      ],
      "source": [
        "print(desc)"
      ]
    },
    {
      "cell_type": "code",
      "execution_count": null,
      "metadata": {
        "colab": {
          "base_uri": "https://localhost:8080/"
        },
        "id": "ymNl242k0YYF",
        "outputId": "f277c008-9a31-473d-b4c1-d3b547fbf1de"
      },
      "outputs": [
        {
          "name": "stdout",
          "output_type": "stream",
          "text": [
            "Total epsilon spent = 0.1000\n",
            "\n",
            "Setting up exported variable in local environment: desc2\n"
          ]
        }
      ],
      "source": [
        "%%ag\n",
        "#calling where method over the dataframe\n",
        "con=df_new.where(df_new>5000,inplace = False)\n",
        "desc2=con.describe(eps=0.1)\n",
        "export(desc2,'desc2')"
      ]
    },
    {
      "cell_type": "code",
      "execution_count": null,
      "metadata": {
        "colab": {
          "base_uri": "https://localhost:8080/"
        },
        "id": "5bRqUli20u_y",
        "outputId": "96361877-d40a-455a-985d-65394e121cdd"
      },
      "outputs": [
        {
          "name": "stdout",
          "output_type": "stream",
          "text": [
            "              col_1         col_2         col_3         col_4\n",
            "count  10000.000000  10000.000000  10000.000000  10000.000000\n",
            "mean    7425.183782   7410.662576   7561.199153   7094.393938\n",
            "std     3476.783611   4614.602658   2122.695267    613.687115\n",
            "min      172.543248    124.978178   1329.723195   4091.694289\n",
            "25%     7172.824082   5513.030047   6679.904657   6465.030901\n",
            "50%     7409.017864   8206.913510   6993.049825   7370.865080\n",
            "75%     9322.606917   8655.377896   8021.089352   7648.228530\n",
            "max     8636.033127   9783.086339   9786.707764   9458.924434\n"
          ]
        }
      ],
      "source": [
        "print(desc2)"
      ]
    },
    {
      "cell_type": "code",
      "execution_count": null,
      "metadata": {
        "id": "lunaLdZf1Gw8"
      },
      "outputs": [],
      "source": []
    }
  ],
  "metadata": {
    "colab": {
      "provenance": []
    },
    "kernelspec": {
      "display_name": "Python 3",
      "name": "python3"
    },
    "language_info": {
      "codemirror_mode": {
        "name": "ipython",
        "version": 3
      },
      "file_extension": ".py",
      "mimetype": "text/x-python",
      "name": "python",
      "nbconvert_exporter": "python",
      "pygments_lexer": "ipython3",
      "version": "3.9.13"
    }
  },
  "nbformat": 4,
  "nbformat_minor": 0
}
