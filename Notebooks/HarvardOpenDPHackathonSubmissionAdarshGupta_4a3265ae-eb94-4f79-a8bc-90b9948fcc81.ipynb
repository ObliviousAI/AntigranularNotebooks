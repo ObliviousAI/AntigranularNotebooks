{
  "cells": [
    {
      "cell_type": "markdown",
      "source": [
        "# Antigranular Harvard OpenDP Hackathon\n",
        "\n",
        "Submission by:\n",
        "```\n",
        "  Adarsh Gupta\n",
        "```"
      ],
      "metadata": {
        "id": "l1GoDG7NBiDw"
      },
      "id": "l1GoDG7NBiDw"
    },
    {
      "cell_type": "markdown",
      "source": [
        "## Table Of Contents:\n",
        "* [Getting Started](#getting_started)\n",
        "* [Data Preprocessing](#preprocessing)\n",
        "* [Setting Indexing Rule](#indexing)\n",
        "* [Comparing the Records](#comparing)\n",
        "* [Linking Datasets](#linking)\n",
        "* [Submission](#sub)"
      ],
      "metadata": {
        "id": "qTYFBVS1BiAP"
      },
      "id": "qTYFBVS1BiAP"
    },
    {
      "cell_type": "markdown",
      "source": [
        "NOTE: This notebook contains what I did to get my best submission, there are (a lot) of other things I tried which did not lead to good results."
      ],
      "metadata": {
        "id": "Fdkh6bB3d_XW"
      },
      "id": "Fdkh6bB3d_XW"
    },
    {
      "cell_type": "markdown",
      "source": [
        "## 0. Getting Started: Installation, Imports & Connect to Antigranular <a class=\"anchor\" id=\"getting_started\"></a>\n"
      ],
      "metadata": {
        "id": "ZeW78eZPAZh-"
      },
      "id": "ZeW78eZPAZh-"
    },
    {
      "cell_type": "code",
      "source": [
        "#Installing Antigranular in quiet mode (-q)\n",
        "!pip install antigranular -q"
      ],
      "metadata": {
        "id": "UesyDOkH_B3n"
      },
      "id": "UesyDOkH_B3n",
      "execution_count": null,
      "outputs": []
    },
    {
      "cell_type": "code",
      "execution_count": null,
      "id": "initial_id",
      "metadata": {
        "ExecuteTime": {
          "end_time": "2023-12-27T21:14:25.099741Z",
          "start_time": "2023-12-27T21:14:05.644260Z"
        },
        "id": "initial_id",
        "outputId": "c087f291-60e1-4e5b-f29f-d5eaa719ae16",
        "colab": {
          "base_uri": "https://localhost:8080/",
          "height": 139
        }
      },
      "outputs": [
        {
          "output_type": "display_data",
          "data": {
            "text/plain": [
              "<IPython.core.display.HTML object>"
            ],
            "text/html": []
          },
          "metadata": {}
        },
        {
          "output_type": "stream",
          "name": "stdout",
          "text": [
            "Dataset \"Flight Company Dataset\" loaded to the kernel as \u001b[92mflight_company_dataset\u001b[0m\n",
            "\n",
            "Dataset \"Health Organisation Dataset\" loaded to the kernel as \u001b[92mhealth_organisation_dataset\u001b[0m\n",
            "\n",
            "Connected to Antigranular server session id: 4a3265ae-eb94-4f79-a8bc-90b9948fcc81, the session will time out if idle for 25 minutes\n",
            "Cell magic '%%ag' registered successfully, use `%%ag` in a notebook cell to execute your python code on Antigranular private python server\n",
            "🚀 Everything's set up and ready to roll!\n"
          ]
        }
      ],
      "source": [
        "#Logging into Antigranular\n",
        "import antigranular as ag\n",
        "from google.colab import userdata #To get secrets\n",
        "session = ag.login(<client_id>, <client_secret>, competition = \"Harvard OpenDP Hackathon\")"
      ]
    },
    {
      "cell_type": "code",
      "source": [
        "%%ag\n",
        "#Useful for creating candidate link\n",
        "import op_recordlinkage as rl"
      ],
      "metadata": {
        "id": "YbRZzEJZM4Cp"
      },
      "id": "YbRZzEJZM4Cp",
      "execution_count": null,
      "outputs": []
    },
    {
      "cell_type": "code",
      "execution_count": null,
      "outputs": [],
      "source": [
        "%%ag\n",
        "#Setting up aliases for easier access\n",
        "health = health_organisation_dataset\n",
        "flight = flight_company_dataset"
      ],
      "metadata": {
        "ExecuteTime": {
          "end_time": "2023-12-27T21:14:29.289428Z",
          "start_time": "2023-12-27T21:14:27.733334Z"
        },
        "id": "20e2d4f40cd6aacc"
      },
      "id": "20e2d4f40cd6aacc"
    },
    {
      "cell_type": "markdown",
      "source": [
        "## 1. Data Preprocessing <a class=\"anchor\" id=\"preprocessing\"></a>"
      ],
      "metadata": {
        "collapsed": false,
        "id": "79e785d5fa8cb3de"
      },
      "id": "79e785d5fa8cb3de"
    },
    {
      "cell_type": "markdown",
      "source": [
        " **The first step before we begin indexing and setting up compare rules is to clean up both the datasets as much as we can, given the nuances that we are aware of.**"
      ],
      "metadata": {
        "id": "NpKULLoIDGGS"
      },
      "id": "NpKULLoIDGGS"
    },
    {
      "cell_type": "markdown",
      "source": [
        "### 1.1. Removing Negative Covid Results & Missing Values"
      ],
      "metadata": {
        "id": "5efXvPJKDh6U"
      },
      "id": "5efXvPJKDh6U"
    },
    {
      "cell_type": "markdown",
      "source": [
        "We will only consider the passenger records who tested positive for covid-19."
      ],
      "metadata": {
        "collapsed": false,
        "id": "2a85be18b3e6f83"
      },
      "id": "2a85be18b3e6f83"
    },
    {
      "cell_type": "code",
      "execution_count": null,
      "outputs": [],
      "source": [
        "%%ag\n",
        "# To remove passengers who tested negative, since we know there are only two prognosis categories we can check where the covidtest_result column is positive\n",
        "# and only keep those columns\n",
        "health['covidtest_result'] = health['covidtest_result'].where(health['covidtest_result'] == 'positive')"
      ],
      "metadata": {
        "ExecuteTime": {
          "end_time": "2023-12-27T21:14:34.384851Z",
          "start_time": "2023-12-27T21:14:32.873273Z"
        },
        "id": "62eec0b8b7a9496e"
      },
      "id": "62eec0b8b7a9496e"
    },
    {
      "cell_type": "code",
      "source": [
        "%%ag\n",
        "# Also removing all rows which have na or unknown values\n",
        "health = health.dropna()"
      ],
      "metadata": {
        "id": "wScGJXDsD7cl"
      },
      "id": "wScGJXDsD7cl",
      "execution_count": null,
      "outputs": []
    },
    {
      "cell_type": "markdown",
      "source": [
        "### 1.2. First and middle name"
      ],
      "metadata": {
        "collapsed": false,
        "id": "c99f01fcf9cd2e3a"
      },
      "id": "c99f01fcf9cd2e3a"
    },
    {
      "cell_type": "markdown",
      "source": [
        "From the information given about the datasets it is evident that first names have various formats and sometimes the first and middle name are jointly recorded.\n",
        "\n",
        "We will clear such cases by only considering the first names"
      ],
      "metadata": {
        "id": "pXfnsErfEH1m"
      },
      "id": "pXfnsErfEH1m"
    },
    {
      "cell_type": "code",
      "execution_count": null,
      "outputs": [],
      "source": [
        "%%ag\n",
        "# Defining function to seperate the first and middle name\n",
        "def seperate_first_middle_name(name: str) -> str:\n",
        "    \"\"\"\n",
        "    Extracts the first name from a given full name.\n",
        "\n",
        "    Parameters\n",
        "    ----------\n",
        "    name : str\n",
        "        A string representing a full name.\n",
        "\n",
        "    Returns\n",
        "    -------\n",
        "    str\n",
        "        The extracted first name.\n",
        "\n",
        "    Notes\n",
        "    -----\n",
        "    This function assumes that the first word in the provided name represents the first name. In cases where the name\n",
        "    is comprised of multiple words or a continuous string of characters, the function identifies the first name\n",
        "    by detecting capital letters. If the first word contains more than one capital letter, the first name is considered to\n",
        "    conclude before the second capital letter.\n",
        "\n",
        "    Examples\n",
        "    --------\n",
        "    >>> separate_first_middle_name(\"Nok Vanu\")\n",
        "    'Nok'\n",
        "\n",
        "    >>> separate_first_middle_name(\"NokVanu\")\n",
        "    'Nok'\n",
        "\n",
        "    >>> separate_first_middle_name(\"Nok\")\n",
        "    'Nok'\n",
        "    \"\"\"\n",
        "\n",
        "    # Finding Capital Letters\n",
        "    capital_letters = [i for i, c in enumerate(name) if c.isupper()]\n",
        "\n",
        "    # If more than one capital letter is present, assume first name ends before the second capital letter\n",
        "    if len(capital_letters) > 1:\n",
        "        second_cap_index = capital_letters[1]\n",
        "        return name[:second_cap_index]\n",
        "\n",
        "    # If only one capital letter, assume the entire word is the first name\n",
        "    else:\n",
        "        return name.split()[0]"
      ],
      "metadata": {
        "ExecuteTime": {
          "end_time": "2023-12-27T21:14:37.283449Z",
          "start_time": "2023-12-27T21:14:36.670732Z"
        },
        "id": "de679a38680a758e"
      },
      "id": "de679a38680a758e"
    },
    {
      "cell_type": "code",
      "execution_count": null,
      "outputs": [
        {
          "output_type": "stream",
          "name": "stderr",
          "text": [
            "/code/dependencies/op_pandas/op_pandas/core/private_dataframe.py:494: SettingWithCopyWarning: \n",
            "A value is trying to be set on a copy of a slice from a DataFrame.\n",
            "Try using .loc[row_indexer,col_indexer] = value instead\n",
            "\n",
            "See the caveats in the documentation: https://pandas.pydata.org/pandas-docs/stable/user_guide/indexing.html#returning-a-view-versus-a-copy\n",
            "  self.df[key] = value._df\n",
            "\n"
          ]
        }
      ],
      "source": [
        "%%ag\n",
        "# Applying the first and middle name cleaning function to the first name column of both dataframes\n",
        "health[\"patient_firstname\"] = health[[\"patient_firstname\"]].applymap(seperate_first_middle_name, eps=0)\n",
        "flight[\"passenger_firstname\"] = flight[[\"passenger_firstname\"]].applymap(seperate_first_middle_name, eps=0)"
      ],
      "metadata": {
        "ExecuteTime": {
          "end_time": "2023-12-27T21:14:59.396443Z",
          "start_time": "2023-12-27T21:14:40.697423Z"
        },
        "id": "1a35f860eeecdab1",
        "colab": {
          "base_uri": "https://localhost:8080/"
        },
        "outputId": "9b68c29f-61e8-4d95-e2d6-baa95e4bdaf6"
      },
      "id": "1a35f860eeecdab1"
    },
    {
      "cell_type": "markdown",
      "source": [
        "### 1.3 Phone Number"
      ],
      "metadata": {
        "id": "LFbw_X9c1dde"
      },
      "id": "LFbw_X9c1dde"
    },
    {
      "cell_type": "markdown",
      "source": [
        "We will keep the last 6 digits of all phone numbers and remove all dashes and spaces"
      ],
      "metadata": {
        "id": "ZcOC3OwO1gy4"
      },
      "id": "ZcOC3OwO1gy4"
    },
    {
      "cell_type": "code",
      "source": [
        "%%ag\n",
        "import re\n",
        "\n",
        "def clean_phone_num(phone_num: str) -> str:\n",
        "    \"\"\"\n",
        "    Cleans and extracts the last 6 digits from a phone number string using regular expressions.\n",
        "\n",
        "    Parameters\n",
        "    ----------\n",
        "    phone_num : str\n",
        "        A string representing a phone number.\n",
        "\n",
        "    Returns\n",
        "    -------\n",
        "    last_six_digits: str\n",
        "        The last six digits of the cleaned phone number.\n",
        "\n",
        "    Examples\n",
        "    --------\n",
        "    >>> clean_phone_num(\" +1-343-343-9900\")\n",
        "    '439900'\n",
        "\n",
        "    >>> clean_phone_num(\" 0091 992 992 9900\")\n",
        "    '929900'\n",
        "    \"\"\"\n",
        "\n",
        "    # Use regular expression to find all digits in the input string\n",
        "    digits = re.findall(r'\\d', phone_num)\n",
        "\n",
        "    # Extract and return the last 6 digits\n",
        "    last_six_digits = ''.join(digits[-6:])\n",
        "\n",
        "    return last_six_digits"
      ],
      "metadata": {
        "id": "FSZOKTGB1n3t"
      },
      "id": "FSZOKTGB1n3t",
      "execution_count": null,
      "outputs": []
    },
    {
      "cell_type": "code",
      "source": [
        "%%ag\n",
        "# Apply the map for cleaning the phone num to the appropriate columns\n",
        "health[\"patient_phone_number\"] = health[[\"patient_phone_number\"]].applymap(clean_phone_num, eps=0)\n",
        "flight[\"passenger_phone_number\"] = flight[[\"passenger_phone_number\"]].applymap(clean_phone_num, eps=0)"
      ],
      "metadata": {
        "colab": {
          "base_uri": "https://localhost:8080/"
        },
        "id": "MzTI2dce2FAq",
        "outputId": "27822910-08b3-40af-9512-724aeb24f2ed"
      },
      "id": "MzTI2dce2FAq",
      "execution_count": null,
      "outputs": [
        {
          "output_type": "stream",
          "name": "stderr",
          "text": [
            "/code/dependencies/op_pandas/op_pandas/core/private_dataframe.py:494: SettingWithCopyWarning: \n",
            "A value is trying to be set on a copy of a slice from a DataFrame.\n",
            "Try using .loc[row_indexer,col_indexer] = value instead\n",
            "\n",
            "See the caveats in the documentation: https://pandas.pydata.org/pandas-docs/stable/user_guide/indexing.html#returning-a-view-versus-a-copy\n",
            "  self.df[key] = value._df\n",
            "\n"
          ]
        }
      ]
    },
    {
      "cell_type": "markdown",
      "source": [
        "### 1.4. Last name"
      ],
      "metadata": {
        "collapsed": false,
        "id": "65c56c2501b41949"
      },
      "id": "65c56c2501b41949"
    },
    {
      "cell_type": "markdown",
      "source": [
        "Standardizing the last name for fuzzy blocking by Capitalizing it as standard english."
      ],
      "metadata": {
        "collapsed": false,
        "id": "32cc1bf26a622ff0"
      },
      "id": "32cc1bf26a622ff0"
    },
    {
      "cell_type": "code",
      "execution_count": null,
      "outputs": [],
      "source": [
        "%%ag\n",
        "def capitilise_last_name(name: str) -> str:\n",
        "    \"\"\"\n",
        "    Standardizes the last name by capitalizing the first letter and lowercasing the rest.\n",
        "\n",
        "    Parameters\n",
        "    ----------\n",
        "    name : str\n",
        "        A string representing a last name.\n",
        "\n",
        "    Returns\n",
        "    -------\n",
        "    str\n",
        "        The standardized last name.\n",
        "\n",
        "    Examples\n",
        "    --------\n",
        "    >>> clean_last_name(\"VANU\")\n",
        "    'Vanu'\n",
        "    \"\"\"\n",
        "    return name.capitalize()"
      ],
      "metadata": {
        "ExecuteTime": {
          "end_time": "2023-12-27T21:15:17.402267Z",
          "start_time": "2023-12-27T21:15:17.394238Z"
        },
        "id": "2b412ffc0f015fb8"
      },
      "id": "2b412ffc0f015fb8"
    },
    {
      "cell_type": "code",
      "execution_count": null,
      "outputs": [
        {
          "output_type": "stream",
          "name": "stderr",
          "text": [
            "/code/dependencies/op_pandas/op_pandas/core/private_dataframe.py:494: SettingWithCopyWarning: \n",
            "A value is trying to be set on a copy of a slice from a DataFrame.\n",
            "Try using .loc[row_indexer,col_indexer] = value instead\n",
            "\n",
            "See the caveats in the documentation: https://pandas.pydata.org/pandas-docs/stable/user_guide/indexing.html#returning-a-view-versus-a-copy\n",
            "  self.df[key] = value._df\n",
            "\n"
          ]
        }
      ],
      "source": [
        "%%ag\n",
        "# Applying the map that cleans the last name on the appropriate column\n",
        "health[\"patient_lastname\"] = health[[\"patient_lastname\"]].applymap(capitilise_last_name, eps=0)\n",
        "flight[\"passenger_lastname\"] = flight[[\"passenger_lastname\"]].applymap(capitilise_last_name, eps=0)"
      ],
      "metadata": {
        "ExecuteTime": {
          "end_time": "2023-12-27T21:15:32.226925Z",
          "start_time": "2023-12-27T21:15:19.212173Z"
        },
        "id": "3d99024bfef5f437",
        "colab": {
          "base_uri": "https://localhost:8080/"
        },
        "outputId": "0ef6cfa2-cd8c-4788-c0c1-9f0e84d9e7a3"
      },
      "id": "3d99024bfef5f437"
    },
    {
      "cell_type": "markdown",
      "source": [
        "### 1.5. Email ID"
      ],
      "metadata": {
        "id": "2hpbFsbO4-6V"
      },
      "id": "2hpbFsbO4-6V"
    },
    {
      "cell_type": "markdown",
      "source": [
        "Just like phone number we will just take the first five letters of the email id and lowercase it to account for entry errors.\n",
        "\n",
        "Email ID will be used for fuzzy matching later on."
      ],
      "metadata": {
        "id": "Wf72jQYV5BQ8"
      },
      "id": "Wf72jQYV5BQ8"
    },
    {
      "cell_type": "code",
      "source": [
        "%%ag\n",
        "def email_id_standard(email_id: str) -> str:\n",
        "    \"\"\"\n",
        "    Standardizes an email ID by extracting the first 6 characters in lowercase, if the total length is greater than or equal to 6.\n",
        "\n",
        "    Parameters\n",
        "    ----------\n",
        "    email_id : str\n",
        "        A string representing an email ID.\n",
        "\n",
        "    Returns\n",
        "    -------\n",
        "    str\n",
        "        The standardized email ID, consisting of the first 6 characters in lowercase if the total length is sufficient; otherwise, returns the original email ID.\n",
        "\n",
        "    Examples\n",
        "    --------\n",
        "    >>> email_id_standard(\"blue_daisy_345@htmail.co.uk\")\n",
        "    'blue_d'\n",
        "\n",
        "    >>> email_id_standard(\"nok_jam_nok@gamil.com\")\n",
        "    'nok_ja'\n",
        "    \"\"\"\n",
        "\n",
        "    # Check if the length of the email ID is greater than or equal to 6\n",
        "    if len(email_id) >= 6:\n",
        "        # Extract the first 6 characters and convert to lowercase and return them\n",
        "        result = email_id[:6].lower()\n",
        "        return result\n",
        "\n",
        "    # If the length is less than 6, return the original email ID by lowercasing\n",
        "    return email_id.lower()"
      ],
      "metadata": {
        "id": "29aBTD1y5HJf"
      },
      "id": "29aBTD1y5HJf",
      "execution_count": null,
      "outputs": []
    },
    {
      "cell_type": "code",
      "source": [
        "%%ag\n",
        "# Applying the process of standardizing email id to the appropriate columns\n",
        "health[\"patient_email_address\"] = health[[\"patient_email_address\"]].applymap(email_id_standard, eps=0)\n",
        "flight[\"passenger_email_address\"] = flight[[\"passenger_email_address\"]].applymap(email_id_standard, eps=0)"
      ],
      "metadata": {
        "colab": {
          "base_uri": "https://localhost:8080/"
        },
        "id": "9mop88995HNu",
        "outputId": "f001b232-24f0-4a1c-f84b-440e837ab929"
      },
      "id": "9mop88995HNu",
      "execution_count": null,
      "outputs": [
        {
          "output_type": "stream",
          "name": "stderr",
          "text": [
            "/code/dependencies/op_pandas/op_pandas/core/private_dataframe.py:494: SettingWithCopyWarning: \n",
            "A value is trying to be set on a copy of a slice from a DataFrame.\n",
            "Try using .loc[row_indexer,col_indexer] = value instead\n",
            "\n",
            "See the caveats in the documentation: https://pandas.pydata.org/pandas-docs/stable/user_guide/indexing.html#returning-a-view-versus-a-copy\n",
            "  self.df[key] = value._df\n",
            "\n"
          ]
        }
      ]
    },
    {
      "cell_type": "markdown",
      "source": [
        "### 1.6. Date of birth"
      ],
      "metadata": {
        "collapsed": false,
        "id": "fe1c234c076df137"
      },
      "id": "fe1c234c076df137"
    },
    {
      "cell_type": "markdown",
      "source": [
        "As mentioned in the dataset description there are many formats of the date of birth such as 01.Sep.1990 1 September 90 1-Sept-1990\n",
        "\n",
        "We will try to standardize them as much as possible.\n",
        "\n",
        "Standardizing for matching later"
      ],
      "metadata": {
        "collapsed": false,
        "id": "25a9358b60b4e043"
      },
      "id": "25a9358b60b4e043"
    },
    {
      "cell_type": "code",
      "execution_count": null,
      "outputs": [],
      "source": [
        "%%ag\n",
        "import datetime\n",
        "\n",
        "def standardize_date(date_str: str) -> str:\n",
        "    \"\"\"\n",
        "    Converts dates from various formats to a standardized 'YYYY-MM-DD' format.\n",
        "\n",
        "    Supported formats:\n",
        "    - 'DD.MMM.YYYY'\n",
        "    - 'DD MMMM YY'\n",
        "    - 'DD-MMMM-YYYY'\n",
        "\n",
        "    Parameters\n",
        "    ----------\n",
        "    date_str : str\n",
        "        A string representing a date.\n",
        "\n",
        "    Returns\n",
        "    -------\n",
        "    str\n",
        "        The date in 'YYYY-MM-DD' format.\n",
        "\n",
        "    Examples\n",
        "    --------\n",
        "    >>> standardize_date('01.Sep.1990')\n",
        "    '1990-09-01'\n",
        "\n",
        "    >>> standardize_date('1 September 90')\n",
        "    '1990-09-01'\n",
        "\n",
        "    >>> standardize_date('1-Sept-1990')\n",
        "    '1990-09-01'\n",
        "    \"\"\"\n",
        "\n",
        "    # Replace various separators with a standard one (space) which can be removed later on\n",
        "    for separator in ['.', '/', '-']:\n",
        "        date_str = date_str.replace(separator, ' ')\n",
        "\n",
        "    # Splitting the date into parts and storing individual parts\n",
        "    day, month_str, year = date_str.split()\n",
        "\n",
        "    # Correct two-digit year if necessary\n",
        "    if len(year) == 2:\n",
        "      year = '20' + year if int(year) <= 23 else '19' + year\n",
        "\n",
        "    # Transform month into a number\n",
        "    month_str = month_str[:3]\n",
        "    month = datetime.datetime.strptime(month_str, \"%b\").month\n",
        "    month_formatted = f\"{month:02d}\"  # Ensuring two-digit format\n",
        "\n",
        "    # Adjust day if necessary\n",
        "    day_formatted = f\"{int(day):02d}\"  # Ensuring two-digit format\n",
        "\n",
        "    # Reconstruct the date string in the identified format\n",
        "    output_str = f\"{year}-{month:02d}-{day_formatted}\"\n",
        "    return output_str"
      ],
      "metadata": {
        "ExecuteTime": {
          "end_time": "2023-12-27T21:15:35.150995Z",
          "start_time": "2023-12-27T21:15:32.932181Z"
        },
        "id": "96b444840001df68"
      },
      "id": "96b444840001df68"
    },
    {
      "cell_type": "code",
      "execution_count": null,
      "outputs": [
        {
          "output_type": "stream",
          "name": "stderr",
          "text": [
            "/code/dependencies/op_pandas/op_pandas/core/private_dataframe.py:494: SettingWithCopyWarning: \n",
            "A value is trying to be set on a copy of a slice from a DataFrame.\n",
            "Try using .loc[row_indexer,col_indexer] = value instead\n",
            "\n",
            "See the caveats in the documentation: https://pandas.pydata.org/pandas-docs/stable/user_guide/indexing.html#returning-a-view-versus-a-copy\n",
            "  self.df[key] = value._df\n",
            "\n"
          ]
        }
      ],
      "source": [
        "%%ag\n",
        "# Applying standardize date function to the appropriate date columns which require the transformation\n",
        "health[\"patient_date_of_birth\"] = health[[\"patient_date_of_birth\"]].applymap(standardize_date, eps=0)\n",
        "flight[\"passenger_date_of_birth\"] = flight[[\"passenger_date_of_birth\"]].applymap(standardize_date, eps=0)"
      ],
      "metadata": {
        "ExecuteTime": {
          "end_time": "2023-12-27T21:16:00.719174Z",
          "start_time": "2023-12-27T21:15:44.553957Z"
        },
        "id": "22016d853da91fcc",
        "colab": {
          "base_uri": "https://localhost:8080/"
        },
        "outputId": "cc3f7f26-13a4-4d05-bfe6-a222750feacc"
      },
      "id": "22016d853da91fcc"
    },
    {
      "cell_type": "markdown",
      "source": [
        "**Now that we are done preprocessing as much as we can, we will start with setting up indexing rules to create candidate links followed by finally creating the individual links using Fuzzy matching and date matching**"
      ],
      "metadata": {
        "id": "1bgwFimrMmRv"
      },
      "id": "1bgwFimrMmRv"
    },
    {
      "cell_type": "markdown",
      "source": [
        "## 2. Setting Indexing Rule <a class=\"anchor\" id=\"indexing\"></a>"
      ],
      "metadata": {
        "collapsed": false,
        "id": "5ddc5390301c6334"
      },
      "id": "5ddc5390301c6334"
    },
    {
      "cell_type": "code",
      "execution_count": null,
      "outputs": [
        {
          "output_type": "stream",
          "name": "stdout",
          "text": [
            "Number of candidate links 3310\n",
            "\n"
          ]
        }
      ],
      "source": [
        "%%ag\n",
        "#Creating an indexer that creates candidate links.\n",
        "indexer = rl.Index()\n",
        "\n",
        "#Blocking on lastname and phone number to create candidate links.\n",
        "indexer.block([\"passenger_lastname\", \"passenger_phone_number\"],\n",
        "              [\"patient_lastname\", \"patient_phone_number\"])\n",
        "\n",
        "#Creating the candidate links based on the blocks.\n",
        "candidate_links = indexer.index(flight, health)\n",
        "\n",
        "#Total number of links based for this indexing choice.\n",
        "ag_print(\"Number of candidate links\", candidate_links.count(eps=0.1))"
      ],
      "metadata": {
        "ExecuteTime": {
          "end_time": "2023-12-27T21:22:55.960203Z",
          "start_time": "2023-12-27T21:22:55.955180Z"
        },
        "id": "4139defe05bd3972",
        "outputId": "a0adbbf5-2914-4c1d-c707-48a25c8a7306",
        "colab": {
          "base_uri": "https://localhost:8080/"
        }
      },
      "id": "4139defe05bd3972"
    },
    {
      "cell_type": "markdown",
      "source": [
        "**Considering the size of the datasets this is an appropriate number of candidate links to procedd with linking the datasets**"
      ],
      "metadata": {
        "id": "eZvf7sopNZ8m"
      },
      "id": "eZvf7sopNZ8m"
    },
    {
      "cell_type": "markdown",
      "source": [
        "## 3. Comparing records <a class=\"anchor\" id=\"comparing\"></a>"
      ],
      "metadata": {
        "collapsed": false,
        "id": "887f1055981667a1"
      },
      "id": "887f1055981667a1"
    },
    {
      "cell_type": "markdown",
      "source": [
        "After making the candidate links, we need to set compare rules to create the final links.\n",
        "\n",
        "We will use the following matching rules\n",
        "  - Fuzzy Match the First Name with default weights\n",
        "  - Fuzzy Match the Email ID with default weights\n",
        "  - Fuzzy Match the DOB with default weights\n",
        "  - Link date of flight and date of test result with a custom compare function\n",
        "\n",
        "The fuzzy matching method used for each case is what suits the datatypes."
      ],
      "metadata": {
        "collapsed": false,
        "id": "dba9d587562d0a90"
      },
      "id": "dba9d587562d0a90"
    },
    {
      "cell_type": "code",
      "execution_count": null,
      "outputs": [],
      "source": [
        "%%ag\n",
        "import datetime\n",
        "\n",
        "#Creating a comparer to refine linkings\n",
        "comparer = rl.Compare()\n",
        "\n",
        "# Adding inbuilt fuzzy string matching functions to the comparer\n",
        "comparer.string(\"passenger_firstname\" , \"patient_firstname\" ,method='jarowinkler', label=\"firstname\")\n",
        "comparer.string(\"passenger_email_address\" , \"patient_email_address\" ,method='damerau_levenshtein', label=\"email_id\")\n",
        "comparer.string(\"passenger_date_of_birth\" , \"patient_date_of_birth\" ,method='lcs', label=\"dob\")\n",
        "\n",
        "# Using a custom compare rule.\n",
        "def cmp(date_str1: str , date_str2: str ) -> int:\n",
        "    # Converting standardized date strings to datetime objects\n",
        "    date1 = datetime.datetime.strptime(date_str1, \"%Y-%m-%d\")\n",
        "    date2 = datetime.datetime.strptime(date_str2, \"%Y-%m-%d\")\n",
        "\n",
        "    # Calculating the absolute difference in days\n",
        "    days_apart = (date2 - date1).days\n",
        "\n",
        "    # and checking if the dates are within two weeks of each other\n",
        "    if -14 <= days_apart <= 14:\n",
        "      #Giving a weight of 2 to date\n",
        "        return 2\n",
        "    else:\n",
        "        return 0\n",
        "\n",
        "# Adding the custom compare function we made\n",
        "comparer.custom(cmp, \"flight_date\", \"covidtest_date\", label=\"date_cmp\")"
      ],
      "metadata": {
        "ExecuteTime": {
          "end_time": "2023-12-27T21:29:32.966967Z",
          "start_time": "2023-12-27T21:29:29.906876Z"
        },
        "id": "45e370d52402ce65"
      },
      "id": "45e370d52402ce65"
    },
    {
      "cell_type": "code",
      "execution_count": null,
      "outputs": [
        {
          "output_type": "stream",
          "name": "stdout",
          "text": [
            "Average weight : 2.971358562761492\n",
            "\n"
          ]
        }
      ],
      "source": [
        "%%ag\n",
        "# Calculating the feature matrix based on the candidate links and compare rules\n",
        "features = comparer.compute(candidate_links,flight,health)\n",
        "\n",
        "# Finding the average matching weights obtained based on the compare rules we set.\n",
        "ag_print(f\"Average weight : {features.sum(axis=1).mean(eps=0.5)}\")"
      ],
      "metadata": {
        "ExecuteTime": {
          "end_time": "2023-12-27T21:30:33.966559Z",
          "start_time": "2023-12-27T21:30:24.680922Z"
        },
        "id": "6052fa67451f2cd8",
        "outputId": "c58a4f60-70f9-48b8-ae19-f8d023dc95c8",
        "colab": {
          "base_uri": "https://localhost:8080/"
        }
      },
      "id": "6052fa67451f2cd8"
    },
    {
      "cell_type": "markdown",
      "source": [
        "## 4. Linking datasets <a class=\"anchor\" id=\"linking\"></a>"
      ],
      "metadata": {
        "collapsed": false,
        "id": "9edcbb0ab1fc1599"
      },
      "id": "9edcbb0ab1fc1599"
    },
    {
      "cell_type": "markdown",
      "source": [
        "Finally it's time to link the two datasets together using the comparer!"
      ],
      "metadata": {
        "id": "IOUGiw0lc1FT"
      },
      "id": "IOUGiw0lc1FT"
    },
    {
      "cell_type": "code",
      "execution_count": null,
      "outputs": [],
      "source": [
        "%%ag\n",
        "# Using a weight of 3 to link the two datasets\n",
        "linked_df = comparer.get_match(3)"
      ],
      "metadata": {
        "ExecuteTime": {
          "end_time": "2023-12-27T21:31:31.138925Z",
          "start_time": "2023-12-27T21:31:27.322466Z"
        },
        "id": "3b3d9b66351b4bbd"
      },
      "id": "3b3d9b66351b4bbd"
    },
    {
      "cell_type": "markdown",
      "source": [
        "## 5. Submission <a class=\"anchor\" id=\"sub\"></a>"
      ],
      "metadata": {
        "collapsed": false,
        "id": "23a0f5ac480ce984"
      },
      "id": "23a0f5ac480ce984"
    },
    {
      "cell_type": "code",
      "execution_count": null,
      "outputs": [
        {
          "output_type": "stream",
          "name": "stdout",
          "text": [
            "score: {'leaderboard': 0.8175404324091969, 'logs': {'LIN_EPS': -0.0055000000000000005, 'MCC': 0.8230404324091969}}\n",
            "\n"
          ]
        }
      ],
      "source": [
        "%%ag\n",
        "# Submitting the column containing the filtered set of airlines we should report regarding a covid passenger.\n",
        "res = linked_df[[\"l_flight_number\"]]\n",
        "x = submit_predictions(res)"
      ],
      "metadata": {
        "ExecuteTime": {
          "end_time": "2023-12-27T21:32:02.395924Z",
          "start_time": "2023-12-27T21:31:59.275562Z"
        },
        "id": "6d65ed76f94f1fce",
        "outputId": "c82befbd-be07-4975-e653-142bf7fefc64",
        "colab": {
          "base_uri": "https://localhost:8080/"
        }
      },
      "id": "6d65ed76f94f1fce"
    }
  ],
  "metadata": {
    "kernelspec": {
      "display_name": "Python 3",
      "language": "python",
      "name": "python3"
    },
    "language_info": {
      "codemirror_mode": {
        "name": "ipython",
        "version": 2
      },
      "file_extension": ".py",
      "mimetype": "text/x-python",
      "name": "python",
      "nbconvert_exporter": "python",
      "pygments_lexer": "ipython2",
      "version": "2.7.6"
    },
    "colab": {
      "provenance": []
    }
  },
  "nbformat": 4,
  "nbformat_minor": 5
}