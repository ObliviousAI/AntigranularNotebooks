{
  "cells": [
    {
      "cell_type": "code",
      "execution_count": 159,
      "metadata": {
        "id": "IuIGLYkl_jCM"
      },
      "outputs": [],
      "source": [
        "!pip install antigranular &> /dev/null"
      ]
    },
    {
      "cell_type": "code",
      "execution_count": 160,
      "metadata": {
        "colab": {
          "base_uri": "https://localhost:8080/",
          "height": 191
        },
        "id": "BD3ti7Cp_jCO",
        "outputId": "bd61e9a1-928b-4583-e141-cc7a15e775f7"
      },
      "outputs": [
        {
          "data": {
            "text/html": [],
            "text/plain": [
              "<IPython.core.display.HTML object>"
            ]
          },
          "metadata": {},
          "output_type": "display_data"
        },
        {
          "name": "stdout",
          "output_type": "stream",
          "text": [
            "Dataset \"Transaction Fraud Hackathon Dataset\" loaded to the kernel as \u001b[92mtransaction_fraud_hackathon_dataset\u001b[0m\n",
            "Key Name                       Value Type     \n",
            "---------------------------------------------\n",
            "test_x                         DataFrame      \n",
            "train_x                        PrivateDataFrame\n",
            "train_y                        PrivateDataFrame\n",
            "\n",
            "Connected to Antigranular server session id: 279ef104-a0ec-4f75-bfad-42b40e719861, the session will time out if idle for 25 minutes\n",
            "Cell magic '%%ag' registered successfully, use `%%ag` in a notebook cell to execute your python code on Antigranular private python server\n",
            "🚀 Everything's set up and ready to roll!\n"
          ]
        }
      ],
      "source": [
        "import antigranular as ag\n",
        "session = ag.login(<client_id>,<client_secret>, competition = \"Fraud Detection Hackathon with Privacy Village #DPD25FEST\")"
      ]
    },
    {
      "cell_type": "code",
      "execution_count": 161,
      "metadata": {
        "colab": {
          "base_uri": "https://localhost:8080/"
        },
        "id": "9jaSEgc1qSCp",
        "outputId": "730dc8c0-8a1d-4768-8090-d3612e18b0e3"
      },
      "outputs": [
        {
          "data": {
            "text/plain": [
              "{'total_epsilon_used': 0.0,\n",
              " 'total_delta_used': 0.0,\n",
              " 'library_costs': {},\n",
              " 'dataset_costs': {}}"
            ]
          },
          "execution_count": 161,
          "metadata": {},
          "output_type": "execute_result"
        }
      ],
      "source": [
        "session.privacy_odometer()"
      ]
    },
    {
      "cell_type": "code",
      "execution_count": 162,
      "metadata": {
        "id": "o93Ge1AXqkaN"
      },
      "outputs": [],
      "source": [
        "%%ag\n",
        "x_train = transaction_fraud_hackathon_dataset[\"train_x\"]\n",
        "y_train = transaction_fraud_hackathon_dataset[\"train_y\"]\n",
        "x_test = transaction_fraud_hackathon_dataset[\"test_x\"]"
      ]
    },
    {
      "cell_type": "code",
      "execution_count": 163,
      "metadata": {
        "colab": {
          "base_uri": "https://localhost:8080/"
        },
        "id": "heNuJZmD_jCQ",
        "outputId": "60e41efd-38db-46ea-942c-e923da59d1ce"
      },
      "outputs": [
        {
          "name": "stderr",
          "output_type": "stream",
          "text": [
            "/usr/local/lib/python3.10/site-packages/tensorflow/__init__.py:30: DeprecationWarning: The distutils package is deprecated and slated for removal in Python 3.12. Use setuptools or check PEP 632 for potential alternatives\n",
            "  import distutils as _distutils\n",
            "2025-02-11 16:50:00.884429: I tensorflow/core/util/port.cc:113] oneDNN custom operations are on. You may see slightly different numerical results due to floating-point round-off errors from different computation orders. To turn them off, set the environment variable `TF_ENABLE_ONEDNN_OPTS=0`.\n",
            "\n",
            "2025-02-11 16:50:00.960010: I external/local_tsl/tsl/cuda/cudart_stub.cc:31] Could not find cuda drivers on your machine, GPU will not be used.\n",
            "2025-02-11 16:50:01.070185: E external/local_xla/xla/stream_executor/cuda/cuda_dnn.cc:9261] Unable to register cuDNN factory: Attempting to register factory for plugin cuDNN when one has already been registered\n",
            "2025-02-11 16:50:01.070219: E external/local_xla/xla/stream_executor/cuda/cuda_fft.cc:607] Unable to register cuFFT factory: Attempting to register factory for plugin cuFFT when one has already been registered\n",
            "2025-02-11 16:50:01.071187: E external/local_xla/xla/stream_executor/cuda/cuda_blas.cc:1515] Unable to register cuBLAS factory: Attempting to register factory for plugin cuBLAS when one has already been registered\n",
            "2025-02-11 16:50:01.076666: I external/local_tsl/tsl/cuda/cudart_stub.cc:31] Could not find cuda drivers on your machine, GPU will not be used.\n",
            "2025-02-11 16:50:01.078896: I tensorflow/core/platform/cpu_feature_guard.cc:182] This TensorFlow binary is optimized to use available CPU instructions in performance-critical operations.\n",
            "To enable the following instructions: AVX2 AVX512F AVX512_VNNI FMA, in other operations, rebuild TensorFlow with the appropriate compiler flags.\n",
            "\n",
            "2025-02-11 16:50:04.765431: W tensorflow/compiler/tf2tensorrt/utils/py_utils.cc:38] TF-TRT Warning: Could not find TensorRT\n",
            "\n"
          ]
        }
      ],
      "source": [
        "%%ag\n",
        "import tensorflow as tf\n",
        "from op_pandas import standard_scaler, PrivateDataFrame\n",
        "from tensorflow.keras.models import Sequential\n",
        "from tensorflow.keras.layers import Dense, Dropout, BatchNormalization\n",
        "from tensorflow.keras.callbacks import EarlyStopping, ReduceLROnPlateau\n",
        "from op_tensorflow import PrivateKerasModel, PrivateDataLoader\n",
        "\n",
        "# Efficient Sequential model with privacy constraints in mind\n",
        "seqM = Sequential([\n",
        "    # Input block\n",
        "    Dense(256 , input_shape=(9,)),\n",
        "    BatchNormalization(),\n",
        "    tf.keras.layers.ReLU(),\n",
        "    Dropout(0.3),\n",
        "\n",
        "    # First dense block\n",
        "    Dense(256),\n",
        "    BatchNormalization(),\n",
        "    tf.keras.layers.ReLU(),\n",
        "    Dropout(0.3),\n",
        "\n",
        "    # Second dense block\n",
        "    Dense(128),\n",
        "    BatchNormalization(),\n",
        "    tf.keras.layers.ReLU(),\n",
        "    Dropout(0.3),\n",
        "\n",
        "    # Final refinement layer\n",
        "    Dense(64),\n",
        "    BatchNormalization(),\n",
        "    tf.keras.layers.ReLU(),\n",
        "    Dropout(0.3),\n",
        "\n",
        "    # Output layer\n",
        "    Dense(1, activation='sigmoid')\n",
        "])\n",
        "\n",
        "# Create DP keras model with strict privacy parameters\n",
        "dp_model = PrivateKerasModel(\n",
        "    model=seqM,\n",
        "    l2_norm_clip=0.8,  # Reduced for privacy budget\n",
        "    noise_multiplier=0.7  # Increased for stronger privacy guarantees\n",
        ")\n",
        "\n",
        "# Optimizer with conservative learning rate\n",
        "optimizer = tf.keras.optimizers.Adam(\n",
        "    learning_rate=0.0005,  # Reduced learning rate\n",
        "    beta_1=0.9,\n",
        "    beta_2=0.999,\n",
        "    epsilon=1e-07\n",
        ")\n",
        "\n",
        "# Compile model\n",
        "dp_model.compile(\n",
        "    optimizer=optimizer,\n",
        "    loss='binary_crossentropy',\n",
        "    metrics=['accuracy']\n",
        ")"
      ]
    },
    {
      "cell_type": "code",
      "execution_count": 164,
      "metadata": {
        "id": "-TGm56oV_jCT"
      },
      "outputs": [],
      "source": [
        "%%ag\n",
        "data_loader = PrivateDataLoader(feature_df=x_train , label_df=y_train, batch_size=128)"
      ]
    },
    {
      "cell_type": "code",
      "execution_count": 165,
      "metadata": {
        "colab": {
          "base_uri": "https://localhost:8080/"
        },
        "id": "UWCbDJaJiMNl",
        "outputId": "bc4e3479-252b-4999-8a9a-05e4718f63dc"
      },
      "outputs": [
        {
          "name": "stdout",
          "output_type": "stream",
          "text": [
            "Epoch 1/40\n",
            "\n",
            "274/274 - 21s - loss: 0.6299 - accuracy: 0.6491 - 21s/epoch - 78ms/step\n",
            "\n",
            "Epoch 2/40\n",
            "\n",
            "274/274 - 13s - loss: 0.6066 - accuracy: 0.6732 - 13s/epoch - 49ms/step\n",
            "\n",
            "Epoch 3/40\n",
            "\n",
            "274/274 - 14s - loss: 0.6013 - accuracy: 0.6768 - 14s/epoch - 50ms/step\n",
            "\n",
            "Epoch 4/40\n",
            "\n",
            "274/274 - 14s - loss: 0.5941 - accuracy: 0.6817 - 14s/epoch - 50ms/step\n",
            "\n",
            "Epoch 5/40\n",
            "\n",
            "274/274 - 13s - loss: 0.5892 - accuracy: 0.6890 - 13s/epoch - 49ms/step\n",
            "\n",
            "Epoch 6/40\n",
            "\n",
            "274/274 - 14s - loss: 0.5891 - accuracy: 0.6889 - 14s/epoch - 49ms/step\n",
            "\n",
            "Epoch 7/40\n",
            "\n",
            "274/274 - 14s - loss: 0.5899 - accuracy: 0.6864 - 14s/epoch - 50ms/step\n",
            "\n",
            "Epoch 8/40\n",
            "\n",
            "274/274 - 14s - loss: 0.5866 - accuracy: 0.6870 - 14s/epoch - 51ms/step\n",
            "\n",
            "Epoch 9/40\n",
            "\n",
            "274/274 - 14s - loss: 0.5880 - accuracy: 0.6857 - 14s/epoch - 51ms/step\n",
            "\n",
            "Epoch 10/40\n",
            "\n",
            "274/274 - 13s - loss: 0.5842 - accuracy: 0.6923 - 13s/epoch - 49ms/step\n",
            "\n",
            "Epoch 11/40\n",
            "\n",
            "274/274 - 14s - loss: 0.5830 - accuracy: 0.6926 - 14s/epoch - 50ms/step\n",
            "\n",
            "Epoch 12/40\n",
            "\n",
            "274/274 - 14s - loss: 0.5799 - accuracy: 0.6977 - 14s/epoch - 50ms/step\n",
            "\n",
            "Epoch 13/40\n",
            "\n",
            "274/274 - 14s - loss: 0.5796 - accuracy: 0.6960 - 14s/epoch - 50ms/step\n",
            "\n",
            "Epoch 14/40\n",
            "\n",
            "274/274 - 14s - loss: 0.5755 - accuracy: 0.6998 - 14s/epoch - 50ms/step\n",
            "\n",
            "Epoch 15/40\n",
            "\n",
            "274/274 - 14s - loss: 0.5743 - accuracy: 0.6985 - 14s/epoch - 50ms/step\n",
            "\n",
            "Epoch 16/40\n",
            "\n",
            "274/274 - 14s - loss: 0.5749 - accuracy: 0.7002 - 14s/epoch - 49ms/step\n",
            "\n",
            "Epoch 17/40\n",
            "\n",
            "274/274 - 14s - loss: 0.5761 - accuracy: 0.6966 - 14s/epoch - 51ms/step\n",
            "\n",
            "Epoch 18/40\n",
            "\n",
            "274/274 - 14s - loss: 0.5750 - accuracy: 0.6989 - 14s/epoch - 50ms/step\n",
            "\n",
            "Epoch 19/40\n",
            "\n",
            "274/274 - 14s - loss: 0.5737 - accuracy: 0.7008 - 14s/epoch - 51ms/step\n",
            "\n",
            "Epoch 20/40\n",
            "\n",
            "274/274 - 14s - loss: 0.5702 - accuracy: 0.6999 - 14s/epoch - 52ms/step\n",
            "\n",
            "Epoch 21/40\n",
            "\n",
            "274/274 - 14s - loss: 0.5684 - accuracy: 0.7042 - 14s/epoch - 51ms/step\n",
            "\n",
            "Epoch 22/40\n",
            "\n",
            "274/274 - 14s - loss: 0.5717 - accuracy: 0.6997 - 14s/epoch - 53ms/step\n",
            "\n",
            "Epoch 23/40\n",
            "\n",
            "274/274 - 14s - loss: 0.5742 - accuracy: 0.6990 - 14s/epoch - 51ms/step\n",
            "\n",
            "Epoch 24/40\n",
            "\n",
            "274/274 - 15s - loss: 0.5649 - accuracy: 0.7081 - 15s/epoch - 53ms/step\n",
            "\n",
            "Epoch 25/40\n",
            "\n",
            "274/274 - 14s - loss: 0.5683 - accuracy: 0.7033 - 14s/epoch - 53ms/step\n",
            "\n",
            "Epoch 26/40\n",
            "\n",
            "274/274 - 14s - loss: 0.5656 - accuracy: 0.7068 - 14s/epoch - 49ms/step\n",
            "\n",
            "Epoch 27/40\n",
            "\n",
            "274/274 - 14s - loss: 0.5683 - accuracy: 0.7027 - 14s/epoch - 50ms/step\n",
            "\n",
            "Epoch 28/40\n",
            "\n",
            "274/274 - 14s - loss: 0.5658 - accuracy: 0.7067 - 14s/epoch - 50ms/step\n",
            "\n",
            "Epoch 29/40\n",
            "\n",
            "274/274 - 14s - loss: 0.5650 - accuracy: 0.7060 - 14s/epoch - 50ms/step\n",
            "\n",
            "Epoch 30/40\n",
            "\n",
            "274/274 - 14s - loss: 0.5640 - accuracy: 0.7063 - 14s/epoch - 50ms/step\n",
            "\n",
            "Epoch 31/40\n",
            "\n",
            "274/274 - 14s - loss: 0.5593 - accuracy: 0.7099 - 14s/epoch - 51ms/step\n",
            "\n",
            "Epoch 32/40\n",
            "\n",
            "274/274 - 14s - loss: 0.5658 - accuracy: 0.7051 - 14s/epoch - 50ms/step\n",
            "\n",
            "Epoch 33/40\n",
            "\n",
            "274/274 - 15s - loss: 0.5638 - accuracy: 0.7064 - 15s/epoch - 53ms/step\n",
            "\n",
            "Epoch 34/40\n",
            "\n",
            "274/274 - 15s - loss: 0.5598 - accuracy: 0.7098 - 15s/epoch - 55ms/step\n",
            "\n",
            "Epoch 35/40\n",
            "\n",
            "274/274 - 15s - loss: 0.5589 - accuracy: 0.7122 - 15s/epoch - 54ms/step\n",
            "\n",
            "Epoch 36/40\n",
            "\n",
            "274/274 - 15s - loss: 0.5580 - accuracy: 0.7128 - 15s/epoch - 55ms/step\n",
            "\n",
            "Epoch 37/40\n",
            "\n",
            "274/274 - 14s - loss: 0.5608 - accuracy: 0.7101 - 14s/epoch - 53ms/step\n",
            "\n",
            "Epoch 38/40\n",
            "\n",
            "274/274 - 15s - loss: 0.5619 - accuracy: 0.7064 - 15s/epoch - 54ms/step\n",
            "\n",
            "Epoch 39/40\n",
            "\n",
            "274/274 - 15s - loss: 0.5541 - accuracy: 0.7169 - 15s/epoch - 54ms/step\n",
            "\n",
            "Epoch 40/40\n",
            "\n",
            "message: Error ID is - cb7af51f-b58c-4bc7-abbf-1159ab9bf60b - Error from upstream service: Client error '400 Bad Request' for url 'http://supervisor-prod-private.antigranular.com/privacyRequest'\n",
            "For more information check: https://httpstatuses.com/400. Response text: {\"detail\":\"Per Query epsilon / delta exceeded. Per query epsilon spend is capped at: 1 and delta is capped at: 0.0001\"}\n",
            "\n",
            "\u001b[0;31mValueError\u001b[0m: Request Limit Exceeded!\n"
          ]
        }
      ],
      "source": [
        "%%ag\n",
        "dp_model.fit(x=data_loader, epochs=40, target_delta=1e-05)"
      ]
    },
    {
      "cell_type": "code",
      "execution_count": 166,
      "metadata": {
        "colab": {
          "base_uri": "https://localhost:8080/"
        },
        "id": "ZjZbehXE_jCU",
        "outputId": "da1559e8-2b96-48a6-8847-f894b3ce73dc"
      },
      "outputs": [
        {
          "name": "stdout",
          "output_type": "stream",
          "text": [
            "\r  1/469 [..............................] - ETA: 4:37\n",
            "\b\b\b\b\b\b\b\b\b\b\b\b\b\b\b\b\b\b\b\b\b\b\b\b\b\b\b\b\b\b\b\b\b\b\b\b\b\b\b\b\b\b\b\b\b\b\b\b\b\b\b\b\r  4/469 [..............................] - ETA: 13s \n",
            "\b\b\b\b\b\b\b\b\b\b\b\b\b\b\b\b\b\b\b\b\b\b\b\b\b\b\b\b\b\b\b\b\b\b\b\b\b\b\b\b\b\b\b\b\b\b\b\b\b\b\b\r 16/469 [>.............................] - ETA: 5s \n",
            "\b\b\b\b\b\b\b\b\b\b\b\b\b\b\b\b\b\b\b\b\b\b\b\b\b\b\b\b\b\b\b\b\b\b\b\b\b\b\b\b\b\b\b\b\b\b\b\b\b\b\r 29/469 [>.............................] - ETA: 4s\n",
            "\b\b\b\b\b\b\b\b\b\b\b\b\b\b\b\b\b\b\b\b\b\b\b\b\b\b\b\b\b\b\b\b\b\b\b\b\b\b\b\b\b\b\b\b\b\b\b\b\b\b\r 41/469 [=>............................] - ETA: 4s\n",
            "\b\b\b\b\b\b\b\b\b\b\b\b\b\b\b\b\b\b\b\b\b\b\b\b\b\b\b\b\b\b\b\b\b\b\b\b\b\b\b\b\b\b\b\b\b\b\b\b\b\b\r 53/469 [==>...........................] - ETA: 3s\n",
            "\b\b\b\b\b\b\b\b\b\b\b\b\b\b\b\b\b\b\b\b\b\b\b\b\b\b\b\b\b\b\b\b\b\b\b\b\b\b\b\b\b\b\b\b\b\b\b\b\b\b\r 65/469 [===>..........................] - ETA: 3s\n",
            "\b\b\b\b\b\b\b\b\b\b\b\b\b\b\b\b\b\b\b\b\b\b\b\b\b\b\b\b\b\b\b\b\b\b\b\b\b\b\b\b\b\b\b\b\b\b\b\b\b\b\r 77/469 [===>..........................] - ETA: 3s\n",
            "\b\b\b\b\b\b\b\b\b\b\b\b\b\b\b\b\b\b\b\b\b\b\b\b\b\b\b\b\b\b\b\b\b\b\b\b\b\b\b\b\b\b\b\b\b\b\b\b\b\b\r 90/469 [====>.........................] - ETA: 3s\n",
            "\b\b\b\b\b\b\b\b\b\b\b\b\b\b\b\b\b\b\b\b\b\b\b\b\b\b\b\b\b\b\b\b\b\b\b\b\b\b\b\b\b\b\b\b\b\b\b\b\b\b\r104/469 [=====>........................] - ETA: 3s\n",
            "\b\b\b\b\b\b\b\b\b\b\b\b\b\b\b\b\b\b\b\b\b\b\b\b\b\b\b\b\b\b\b\b\b\b\b\b\b\b\b\b\b\b\b\b\b\b\b\b\b\b\r117/469 [======>.......................] - ETA: 3s\n",
            "\b\b\b\b\b\b\b\b\b\b\b\b\b\b\b\b\b\b\b\b\b\b\b\b\b\b\b\b\b\b\b\b\b\b\b\b\b\b\b\b\b\b\b\b\b\b\b\b\b\b\r131/469 [=======>......................] - ETA: 2s\n",
            "145/469 [========>.....................] - ETA: 2s\n",
            "159/469 [=========>....................] - ETA: 2s\n",
            "173/469 [==========>...................] - ETA: 2s\n",
            "185/469 [==========>...................] - ETA: 2s\n",
            "200/469 [===========>..................] - ETA: 2s\n",
            "213/469 [============>.................] - ETA: 2s\n",
            "225/469 [=============>................] - ETA: 1s\n",
            "239/469 [==============>...............] - ETA: 1s\n",
            "253/469 [===============>..............] - ETA: 1s\n",
            "271/469 [================>.............] - ETA: 1s\n",
            "285/469 [=================>............] - ETA: 1s\n",
            "300/469 [==================>...........] - ETA: 1s\n",
            "314/469 [===================>..........] - ETA: 1s\n",
            "327/469 [===================>..........] - ETA: 1s\n",
            "341/469 [====================>.........] - ETA: 0s\n",
            "355/469 [=====================>........] - ETA: 0s\n",
            "372/469 [======================>.......] - ETA: 0s\n",
            "383/469 [=======================>......] - ETA: 0s\n",
            "396/469 [========================>.....] - ETA: 0s\n",
            "410/469 [=========================>....] - ETA: 0s\n",
            "423/469 [==========================>...] - ETA: 0s\n",
            "437/469 [==========================>...] - ETA: 0s\n",
            "450/469 [===========================>..] - ETA: 0s\n",
            "466/469 [============================>.] - ETA: 0s\n",
            "469/469 [==============================] - 4s 7ms/step\n",
            "\n"
          ]
        }
      ],
      "source": [
        "%%ag\n",
        "test=PrivateDataFrame(x_test).copy()\n",
        "y_pred = dp_model.predict(test, label_columns=[\"output\"])"
      ]
    },
    {
      "cell_type": "code",
      "execution_count": 167,
      "metadata": {
        "id": "cAqHlwnKrJGT"
      },
      "outputs": [],
      "source": [
        "%%ag\n",
        "# Note that the predictions are a float scalar, so we scale it!\n",
        "def f(x: float) -> float:\n",
        "    return 1 if x > 0.5 else 0\n",
        "\n",
        "y_pred[\"output\"] = y_pred[\"output\"].map(f, output_bounds=(0, 1))"
      ]
    },
    {
      "cell_type": "code",
      "execution_count": 168,
      "metadata": {
        "colab": {
          "base_uri": "https://localhost:8080/"
        },
        "id": "Z1oLyAaKrMb_",
        "outputId": "e3635cd2-7b92-40b2-8c91-5401fe06eb1e"
      },
      "outputs": [
        {
          "name": "stdout",
          "output_type": "stream",
          "text": [
            "score: {'leaderboard': 0.7008597475841333, 'logs': {'BIN_ACC': 0.7008597475841333, 'LIN_EPS': -0.0}}\n",
            "\n"
          ]
        }
      ],
      "source": [
        "%%ag\n",
        "result = submit_predictions(y_pred)"
      ]
    }
  ],
  "metadata": {
    "colab": {
      "provenance": []
    },
    "kernelspec": {
      "display_name": ".venv",
      "language": "python",
      "name": "python3"
    },
    "language_info": {
      "codemirror_mode": {
        "name": "ipython",
        "version": 3
      },
      "file_extension": ".py",
      "mimetype": "text/x-python",
      "name": "python",
      "nbconvert_exporter": "python",
      "pygments_lexer": "ipython3",
      "version": "3.11.6"
    }
  },
  "nbformat": 4,
  "nbformat_minor": 0
}
