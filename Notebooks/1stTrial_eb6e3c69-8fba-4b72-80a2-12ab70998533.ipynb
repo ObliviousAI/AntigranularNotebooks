{
  "nbformat": 4,
  "nbformat_minor": 0,
  "metadata": {
    "colab": {
      "provenance": [],
      "gpuType": "T4"
    },
    "kernelspec": {
      "name": "python3",
      "display_name": "Python 3"
    },
    "language_info": {
      "name": "python"
    },
    "accelerator": "GPU"
  },
  "cells": [
    {
      "cell_type": "markdown",
      "source": [
        "# 📊 **Antigranular** Heart Disease Prediction Contest (ft. **Harvard/OpenDP** and **TPDP**)\n",
        "\n",
        "🎉 Welcome to a new [Antigranular](https://antigranular.com) contest in collaboration with the [TPDP Workshop](https://tpdp.journalprivacyconfidentiality.org/2024/) and [Harvard's OpenDP Community Meeting](https://opendp.org/)!\n",
        "\n",
        "🩺 This time, we are focusing on [heart condition detection](https://en.wikipedia.org/wiki/Cardiovascular_disease) using our new [TensorFlow Privacy](https://github.com/tensorflow/privacy) and [Opacus (PyTorch)](https://opacus.ai/) models!\n",
        "\n",
        "🦜 Any questions? Head over to our [Discord](https://discord.com/invite/KJwApgXs4s)!\n",
        "\n"
      ],
      "metadata": {
        "id": "5az73vDZvCWg"
      }
    },
    {
      "cell_type": "markdown",
      "source": [
        "## 🏃‍♂️ Getting Started\n",
        "\n",
        "In this section we will download the antigranular package and login\n",
        "\n",
        "\n"
      ],
      "metadata": {
        "id": "BZ1S_Qc0v5hL"
      }
    },
    {
      "cell_type": "markdown",
      "source": [
        "### 📦 Install Antigranular\n",
        "\n",
        "This command installs the [Antigranular PyPI Package](https://pypi.org/project/antigranular/) on the local enviroment.\n"
      ],
      "metadata": {
        "id": "6_ISjJv_eppS"
      }
    },
    {
      "cell_type": "code",
      "source": [
        "!pip install antigranular"
      ],
      "metadata": {
        "id": "MN-L31Eh78lB"
      },
      "execution_count": null,
      "outputs": []
    },
    {
      "cell_type": "code",
      "execution_count": 1,
      "metadata": {
        "id": "5uFCyt-Puq4K"
      },
      "outputs": [],
      "source": [
        "# Install the Antigranular package\n",
        "!pip install antigranular &> /dev/null"
      ]
    },
    {
      "cell_type": "markdown",
      "source": [
        "### ✍ Login to the Enclave\n",
        "\n",
        "Head over to [Competitions](https://www.antigranular.com/competitions) to find your `<user_id>`, `<user_secret>` and the competition's name and copy that command here.\n",
        "\n",
        "![img](https://docs.antigranular.com/shots/comp_cell.png)"
      ],
      "metadata": {
        "id": "v7jLQa6Uehks"
      }
    },
    {
      "cell_type": "code",
      "source": [
        "import antigranular as ag\n",
        "session = ag.login(<client_id>,<client_secret>, competition = \"Heart Disease Prediction Hackathon\")"
      ],
      "metadata": {
        "colab": {
          "base_uri": "https://localhost:8080/",
          "height": 211
        },
        "id": "j-_6OLUw7sFD",
        "outputId": "46c00807-fd88-46bb-8913-4c7e6ca3098b"
      },
      "execution_count": 4,
      "outputs": [
        {
          "output_type": "display_data",
          "data": {
            "text/plain": [
              "<IPython.core.display.HTML object>"
            ],
            "text/html": []
          },
          "metadata": {}
        },
        {
          "output_type": "stream",
          "name": "stdout",
          "text": [
            "Dataset \"Heart Disease Prediction Hackathon Dataset\" loaded to the kernel as \u001b[92mheart_disease_prediction_hackathon_dataset\u001b[0m\n",
            "Key Name                       Value Type     \n",
            "---------------------------------------------\n",
            "train_y                        PrivateDataFrame\n",
            "train_x                        PrivateDataFrame\n",
            "test_x                         DataFrame      \n",
            "\n",
            "Connected to Antigranular server session id: eb6e3c69-8fba-4b72-80a2-12ab70998533, the session will time out if idle for 25 minutes\n",
            "Cell magic '%%ag' registered successfully, use `%%ag` in a notebook cell to execute your python code on Antigranular private python server\n",
            "🚀 Everything's set up and ready to roll!\n"
          ]
        }
      ]
    },
    {
      "cell_type": "code",
      "source": [
        "# import antigranular as ag\n",
        "# session = ag.login(<client_id>,<client_secret>, competition = \"Heart Disease Prediction Hackathon\")"
      ],
      "metadata": {
        "id": "w_JcMMSMv_Ze"
      },
      "execution_count": 5,
      "outputs": []
    },
    {
      "cell_type": "markdown",
      "source": [
        "### 🤖 Using AG\n",
        "\n",
        "You can now simply use ``%%ag`` to run code on an enclave! You can always head over to our [Docs](https://docs.antigranular.com/) to learn more about AG, but for now, we can define train and test variables as follows."
      ],
      "metadata": {
        "id": "Jeg6W7fPNHhS"
      }
    },
    {
      "cell_type": "code",
      "source": [
        "%%ag\n",
        "x_train = heart_disease_prediction_hackathon_dataset[\"train_x\"]\n",
        "y_train = heart_disease_prediction_hackathon_dataset[\"train_y\"]\n",
        "x_test = heart_disease_prediction_hackathon_dataset[\"test_x\"]"
      ],
      "metadata": {
        "id": "8IHVwjFKk2Ys"
      },
      "execution_count": 6,
      "outputs": []
    },
    {
      "cell_type": "markdown",
      "source": [
        "### 🕵️‍♂️ Exploring data\n",
        "\n",
        "Exploring data in Antigranular involves spending your epsilon budget, be mindful of your usage but remember that the less epsilon you use, the less accurate your results will get!"
      ],
      "metadata": {
        "id": "4oMW3Eh8RDl4"
      }
    },
    {
      "cell_type": "code",
      "source": [
        "%%ag\n",
        "x_train.info()"
      ],
      "metadata": {
        "colab": {
          "base_uri": "https://localhost:8080/"
        },
        "id": "PMiVe3n_t4um",
        "outputId": "4a619186-2e50-410e-bef3-60ae6b9dd4b1"
      },
      "execution_count": 7,
      "outputs": [
        {
          "output_type": "stream",
          "name": "stdout",
          "text": [
            "+----+----------+-------------+---------------+---------+------------+\n",
            "|    | Column   | numerical   | categorical   | dtype   | bounds     |\n",
            "|----+----------+-------------+---------------+---------+------------|\n",
            "|  0 | age      | True        | False         | int64   | (21, 86)   |\n",
            "|  1 | sex      | True        | False         | int64   | (0, 1)     |\n",
            "|  2 | bp       | True        | False         | int64   | (80, 215)  |\n",
            "|  3 | ch       | True        | False         | int64   | (102, 597) |\n",
            "|  4 | bs       | True        | False         | int64   | (67, 157)  |\n",
            "|  5 | phr      | True        | False         | int64   | (62, 222)  |\n",
            "+----+----------+-------------+---------------+---------+------------+\n",
            "\n"
          ]
        }
      ]
    },
    {
      "cell_type": "code",
      "source": [
        "%%ag\n",
        "y_train.info()"
      ],
      "metadata": {
        "colab": {
          "base_uri": "https://localhost:8080/"
        },
        "id": "iG3HnW1Ut8X2",
        "outputId": "1f887d0e-1ebe-4286-c73f-2d2c888d7dc9"
      },
      "execution_count": 8,
      "outputs": [
        {
          "output_type": "stream",
          "name": "stdout",
          "text": [
            "+----+-----------+-------------+---------------+---------+----------+\n",
            "|    | Column    | numerical   | categorical   | dtype   | bounds   |\n",
            "|----+-----------+-------------+---------------+---------+----------|\n",
            "|  0 | condition | True        | False         | int64   | (0, 1)   |\n",
            "+----+-----------+-------------+---------------+---------+----------+\n",
            "\n"
          ]
        }
      ]
    },
    {
      "cell_type": "code",
      "source": [
        "%%ag\n",
        "# We can start by exploring the data, carefully using our epsilon\n",
        "describe = x_train.describe(eps=0.1)\n",
        "ag_print(describe)"
      ],
      "metadata": {
        "colab": {
          "base_uri": "https://localhost:8080/"
        },
        "id": "4QNyLhdXmYs5",
        "outputId": "4cae8d8a-f1f7-4b6a-9b79-3c054d0705dc"
      },
      "execution_count": 9,
      "outputs": [
        {
          "output_type": "stream",
          "name": "stdout",
          "text": [
            "               age          sex  ...           bs          phr\n",
            "count  7564.000000  7705.000000  ...  8700.000000  7621.000000\n",
            "mean     56.853259     0.776229  ...   105.300801   163.436795\n",
            "std      30.986535     0.236091  ...    16.361005     5.463358\n",
            "min      21.000000     0.000000  ...    67.000000    62.000000\n",
            "25%      30.895317     0.727723  ...    88.152472   132.018005\n",
            "50%      68.439417     0.976560  ...    95.553524   155.329707\n",
            "75%      60.054029     0.921835  ...   139.292442   156.349119\n",
            "max      72.978647     0.965575  ...   132.452177   159.961542\n",
            "\n",
            "[8 rows x 6 columns]\n",
            "\n"
          ]
        }
      ]
    },
    {
      "cell_type": "code",
      "source": [
        "%%ag\n",
        "# We can start by exploring the data, carefully using our epsilon\n",
        "describe = y_train.describe(eps=0.1)\n",
        "ag_print(describe)"
      ],
      "metadata": {
        "colab": {
          "base_uri": "https://localhost:8080/"
        },
        "id": "GJ4MX9Ghs2z6",
        "outputId": "cd41b21f-2dc8-49c5-aad3-aa6f6fcc63fe"
      },
      "execution_count": 10,
      "outputs": [
        {
          "output_type": "stream",
          "name": "stdout",
          "text": [
            "         condition\n",
            "count  7862.000000\n",
            "mean      0.545760\n",
            "std       0.495742\n",
            "min       0.000000\n",
            "25%       0.009797\n",
            "50%       0.995590\n",
            "75%       0.959023\n",
            "max       0.997530\n",
            "\n"
          ]
        }
      ]
    },
    {
      "cell_type": "code",
      "source": [
        "%%ag\n",
        "# x_test is a public test set, so we can print it without using epsilon\n",
        "ag_print(x_test)"
      ],
      "metadata": {
        "colab": {
          "base_uri": "https://localhost:8080/"
        },
        "id": "OymOmMhqmzpK",
        "outputId": "4b722a62-be08-4817-f427-c7ca3caf7744"
      },
      "execution_count": 11,
      "outputs": [
        {
          "output_type": "stream",
          "name": "stdout",
          "text": [
            "      age  sex   bp   ch   bs  phr\n",
            "0      71    1  128  326   95  117\n",
            "1      61    1  153  270   98  123\n",
            "2      59    1  113  236  106  181\n",
            "3      69    0  109  151  109  108\n",
            "4      55    0  137  235  101  150\n",
            "...   ...  ...  ...  ...  ...  ...\n",
            "1995   60    1  128  261  112  143\n",
            "1996   50    1  143  216   94  100\n",
            "1997   64    1  120  172   87  142\n",
            "1998   56    1  158  294   82  144\n",
            "1999   69    0  117  559  112  157\n",
            "\n",
            "[2000 rows x 6 columns]\n",
            "\n"
          ]
        }
      ]
    },
    {
      "cell_type": "markdown",
      "source": [
        "### 🎈 A quick solution\n",
        "\n",
        "In this section we evaluate an editorial solution in AG using TensorFlow!"
      ],
      "metadata": {
        "id": "KARrFlm5pOB6"
      }
    },
    {
      "cell_type": "code",
      "source": [
        "%%ag\n",
        "import tensorflow as tf\n",
        "from op_pandas import standard_scaler, PrivateDataFrame\n",
        "from tensorflow.keras.models import Sequential\n",
        "from tensorflow.keras.layers import Dense, Dropout\n",
        "from op_tensorflow import PrivateKerasModel, PrivateDataLoader\n",
        "\n",
        "\n",
        "# Normal keras model\n",
        "seqM = Sequential([\n",
        "    Dense(32, activation='relu', input_shape=(6,)),\n",
        "    Dropout(0.3),\n",
        "    Dense(16, activation='relu'),\n",
        "    Dropout(0.3),\n",
        "    Dense(1, activation='sigmoid')  # Binary classification\n",
        "])\n",
        "\n",
        "# Create DP keras model\n",
        "dp_model = PrivateKerasModel(model=seqM, l2_norm_clip=1, noise_multiplier=1)\n",
        "\n",
        "# Use a standard (non-DP) optimizer directly from keras.\n",
        "optimizer = tf.keras.optimizers.Adam(learning_rate=0.01)\n",
        "\n",
        "# PrivateKerasModel uses similar API as standard Keras\n",
        "dp_model.compile(\n",
        "\toptimizer = optimizer,\n",
        "\tloss = 'binary_crossentropy',\n",
        "\tmetrics = [\"accuracy\"]\n",
        ")"
      ],
      "metadata": {
        "id": "QVMog5sFunqk",
        "colab": {
          "base_uri": "https://localhost:8080/"
        },
        "outputId": "1ce9a681-ba26-4248-9f1d-315232eb34d4"
      },
      "execution_count": 12,
      "outputs": [
        {
          "output_type": "stream",
          "name": "stderr",
          "text": [
            "/usr/local/lib/python3.10/site-packages/tensorflow_probability/python/__init__.py:57: DeprecationWarning: distutils Version classes are deprecated. Use packaging.version instead.\n",
            "  if (distutils.version.LooseVersion(tf.__version__) <\n",
            "/usr/local/lib/python3.10/site-packages/tensorflow_probability/python/__init__.py:58: DeprecationWarning: distutils Version classes are deprecated. Use packaging.version instead.\n",
            "  distutils.version.LooseVersion(required_tensorflow_version)):\n",
            "\n"
          ]
        }
      ]
    },
    {
      "cell_type": "code",
      "source": [
        "%%ag\n",
        "x_train_scaled = standard_scaler(x_train, eps=.1)\n",
        "x_train_scaled.info()"
      ],
      "metadata": {
        "colab": {
          "base_uri": "https://localhost:8080/"
        },
        "id": "CtZnkEIGu4Oy",
        "outputId": "10896138-3e3c-41ae-ff99-199f3ebb7007"
      },
      "execution_count": 13,
      "outputs": [
        {
          "output_type": "stream",
          "name": "stdout",
          "text": [
            "+----+----------+-------------+---------------+---------+------------------------------------------+\n",
            "|    | Column   | numerical   | categorical   | dtype   | bounds                                   |\n",
            "|----+----------+-------------+---------------+---------+------------------------------------------|\n",
            "|  0 | age      | True        | False         | float64 | (-2.2905770842862943,                    |\n",
            "|    |          |             |               |         | 2.1693172000394583)                      |\n",
            "|  1 | sex      | True        | False         | float64 | (-1.3855107798413333,                    |\n",
            "|    |          |             |               |         | 0.7037450772810906)                      |\n",
            "|  2 | bp       | True        | False         | float64 | (-1.515011284824466, 2.154386949465972)  |\n",
            "|  3 | ch       | True        | False         | float64 | (-1.4903275647373548, 3.490343423285833) |\n",
            "|  4 | bs       | True        | False         | float64 | (-1.8229505640415027,                    |\n",
            "|    |          |             |               |         | 2.6316536251818694)                      |\n",
            "|  5 | phr      | True        | False         | float64 | (-4.657329216731515, 4.055792818335596)  |\n",
            "+----+----------+-------------+---------------+---------+------------------------------------------+\n",
            "\n"
          ]
        }
      ]
    },
    {
      "cell_type": "code",
      "source": [
        "%%ag\n",
        "data_loader = PrivateDataLoader(feature_df=x_train_scaled , label_df=y_train, batch_size=4)"
      ],
      "metadata": {
        "id": "-IRE6nbYvcw7"
      },
      "execution_count": 14,
      "outputs": []
    },
    {
      "cell_type": "code",
      "source": [
        "%%ag\n",
        "dp_model.fit(x=data_loader, epochs=5, target_delta=1e-5)"
      ],
      "metadata": {
        "colab": {
          "base_uri": "https://localhost:8080/"
        },
        "id": "BkYeXE1nv0EL",
        "outputId": "4e65a4ed-626d-474c-e2e8-7af3a9abb286"
      },
      "execution_count": 15,
      "outputs": [
        {
          "output_type": "stream",
          "name": "stdout",
          "text": [
            "Epoch 1/5\n",
            "\n",
            "2000/2000 - 32s - loss: 0.5595 - accuracy: 0.7123 - 32s/epoch - 16ms/step\n",
            "\n",
            "Epoch 2/5\n",
            "\n",
            "2000/2000 - 28s - loss: 0.5298 - accuracy: 0.7297 - 28s/epoch - 14ms/step\n",
            "\n",
            "Epoch 3/5\n",
            "\n",
            "2000/2000 - 29s - loss: 0.5157 - accuracy: 0.7309 - 29s/epoch - 14ms/step\n",
            "\n",
            "Epoch 4/5\n",
            "\n",
            "2000/2000 - 29s - loss: 0.5004 - accuracy: 0.7390 - 29s/epoch - 14ms/step\n",
            "\n",
            "Epoch 5/5\n",
            "\n",
            "2000/2000 - 29s - loss: 0.4935 - accuracy: 0.7419 - 29s/epoch - 14ms/step\n",
            "\n"
          ]
        }
      ]
    },
    {
      "cell_type": "code",
      "source": [
        "%%ag\n",
        "x_test_scaler = standard_scaler(PrivateDataFrame(x_test), eps=.1)\n",
        "y_pred = dp_model.predict(x_test_scaler, label_columns=[\"output\"])"
      ],
      "metadata": {
        "colab": {
          "base_uri": "https://localhost:8080/"
        },
        "id": "dt_0vemmvq17",
        "outputId": "4bbb26a5-4449-4ff3-9109-d49fefc571c5"
      },
      "execution_count": 17,
      "outputs": [
        {
          "output_type": "stream",
          "name": "stdout",
          "text": [
            "\r 1/63 [..............................] - ETA: 23s\n",
            "\b\b\b\b\b\b\b\b\b\b\b\b\b\b\b\b\b\b\b\b\b\b\b\b\b\b\b\b\b\b\b\b\b\b\b\b\b\b\b\b\b\b\b\b\b\b\b\b\b\r10/63 [===>..........................] - ETA: 0s \n",
            "\b\b\b\b\b\b\b\b\b\b\b\b\b\b\b\b\b\b\b\b\b\b\b\b\b\b\b\b\b\b\b\b\b\b\b\b\b\b\b\b\b\b\b\b\b\b\b\b\r25/63 [==========>...................] - ETA: 0s\n",
            "\b\b\b\b\b\b\b\b\b\b\b\b\b\b\b\b\b\b\b\b\b\b\b\b\b\b\b\b\b\b\b\b\b\b\b\b\b\b\b\b\b\b\b\b\b\b\b\b\r40/63 [==================>...........] - ETA: 0s\n",
            "\b\b\b\b\b\b\b\b\b\b\b\b\b\b\b\b\b\b\b\b\b\b\b\b\b\b\b\b\b\b\b\b\b\b\b\b\b\b\b\b\b\b\b\b\b\b\b\b\r56/63 [=========================>....] - ETA: 0s\n",
            "\b\b\b\b\b\b\b\b\b\b\b\b\b\b\b\b\b\b\b\b\b\b\b\b\b\b\b\b\b\b\b\b\b\b\b\b\b\b\b\b\b\b\b\b\b\b\b\b\r63/63 [==============================] - 1s 7ms/step\n",
            "\n"
          ]
        }
      ]
    },
    {
      "cell_type": "code",
      "source": [
        "%%ag\n",
        "# Note that the predictions are a float scalar\n",
        "# so we scale it\n",
        "def f(x: float) -> float:\n",
        "  if x > 0.5:\n",
        "    return 1\n",
        "  else:\n",
        "    return 0\n",
        "\n",
        "y_pred[\"output\"] = y_pred[\"output\"].map(f, output_bounds=(0, 1))"
      ],
      "metadata": {
        "id": "mJMoynKBAwMB"
      },
      "execution_count": 18,
      "outputs": []
    },
    {
      "cell_type": "markdown",
      "source": [
        "### 📝 Make your submission (Through AG)\n",
        "\n",
        "Submit a prediction by simply typing `submit_predictions(your_prediction)` to find out how you rank on the leaderboard.\n",
        "\n",
        "![img](https://www.antigranular.com/static/media/Step%209.8091828f3cff4324fe6d.png)\n"
      ],
      "metadata": {
        "id": "8K19wo42GvcM"
      }
    },
    {
      "cell_type": "code",
      "source": [
        "%%ag\n",
        "result = submit_predictions(y_pred)"
      ],
      "metadata": {
        "colab": {
          "base_uri": "https://localhost:8080/"
        },
        "id": "ikoa-r-Ky79A",
        "outputId": "169248a9-6ea3-48aa-eb81-aec37a7bfac5"
      },
      "execution_count": 19,
      "outputs": [
        {
          "output_type": "stream",
          "name": "stdout",
          "text": [
            "score: {'leaderboard': 0.706327796951987, 'logs': {'BIN_ACC': 0.7110239870032116, 'LIN_EPS': -0.004696190051224615}}\n",
            "\n"
          ]
        }
      ]
    },
    {
      "cell_type": "markdown",
      "source": [
        "### 🎈 Another quick solution\n",
        "\n",
        "In this section we evaluate an editorial solution in AG using Diffprivlib!"
      ],
      "metadata": {
        "id": "hzIEcXX6unAN"
      }
    },
    {
      "cell_type": "code",
      "source": [
        "# %%ag\n",
        "# # We can follow by importing the OP (\"Oblivious Private\") version of diffprivlib\n",
        "# from op_diffprivlib.models import LinearRegression"
      ],
      "metadata": {
        "id": "G4ek0zLhmqNm"
      },
      "execution_count": 23,
      "outputs": []
    },
    {
      "cell_type": "code",
      "source": [
        "# %%ag\n",
        "# # We can generate a quick regression using epsilon\n",
        "# reg = LogisticRegression(epsilon=0.1, data_norm=3)\n",
        "\n",
        "# # Fit it with 3 of the SNP predictors\n",
        "# reg.fit(x_train[[\"age\", \"sex\", \"bp\", \"ch\", \"bs\", \"phr\"]], y_train)"
      ],
      "metadata": {
        "id": "p3ECSjJzSX3l"
      },
      "execution_count": null,
      "outputs": []
    },
    {
      "cell_type": "code",
      "source": [
        "# %%ag\n",
        "# # Predict with the same features\n",
        "# y_pred = reg.predict(x_test[[\"age\", \"sex\", \"bp\", \"ch\", \"bs\", \"phr\"]])\n",
        "\n",
        "# # Print the result\n",
        "# ag_print(y_pred)"
      ],
      "metadata": {
        "id": "cMn0AhQpnI5f"
      },
      "execution_count": null,
      "outputs": []
    },
    {
      "cell_type": "markdown",
      "source": [
        "### 📩 Export your prediction\n",
        "\n",
        "We take the prediciton out of AG to later send it to the leaderboards."
      ],
      "metadata": {
        "id": "0r7em_XGnsyD"
      }
    },
    {
      "cell_type": "code",
      "source": [
        "# %%ag\n",
        "# # Submit prediction\n",
        "# result = submit_predictions(DataFrame(y_pred))"
      ],
      "metadata": {
        "id": "O7uUnjkhnz61"
      },
      "execution_count": null,
      "outputs": []
    },
    {
      "cell_type": "markdown",
      "source": [
        "### 🎉 That's it!\n",
        "\n",
        "Congrats! You made your first submission to the competition! Now it's time to keep exploring the data and to try to achieve a better score! Here are the next steps:\n",
        "\n",
        "\n",
        "1.  🏫 Head over to our [Docs](https://docs.antigranular.com/) and discover Opacus (PyTorch), TensorFlow Privacy and other libraries available in Antigranular!\n",
        "2. 🦜 Any questions? Head over to our [Discord](https://discord.com/invite/KJwApgXs4s)!\n",
        "\n",
        "We hope you have fun and enjoy the competition!\n",
        "\n",
        "Best of luck,\n",
        "\n",
        "Antigranular Team"
      ],
      "metadata": {
        "id": "-fzPowmzpTf_"
      }
    }
  ]
}