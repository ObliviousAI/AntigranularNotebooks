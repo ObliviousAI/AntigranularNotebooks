{
 "cells": [
  {
   "cell_type": "code",
   "execution_count": 1,
   "id": "initial_id",
   "metadata": {
    "collapsed": true,
    "ExecuteTime": {
     "end_time": "2023-12-27T21:14:25.099741Z",
     "start_time": "2023-12-27T21:14:05.644260Z"
    }
   },
   "outputs": [
    {
     "data": {
      "text/plain": "<IPython.core.display.HTML object>",
      "text/html": ""
     },
     "metadata": {},
     "output_type": "display_data"
    },
    {
     "name": "stdout",
     "output_type": "stream",
     "text": [
      "server_hostname: ip-100-100-18-120.eu-west-1.compute.internal\n",
      "tls_cert_name: ip-100-100-18-120.eu-west-1.compute.internal_d2abb397-de0a-4d0f-8749-121ccf7e20f4\n",
      "local_host_port: d2abb397-de0a-4d0f-8749-121ccf7e20f4\n",
      "Loading dataset \"Flight Company Dataset\" to the kernel...\n",
      "Output: Dataset \"Flight Company Dataset\" loaded to the kernel as \u001B[92mflight_company_dataset\u001B[0m\n",
      "\n",
      "Dataset \"Flight Company Dataset\" loaded to the kernel as flight_company_dataset\n",
      "Loading dataset \"Health Organisation Dataset\" to the kernel...\n",
      "Output: Dataset \"Health Organisation Dataset\" loaded to the kernel as \u001B[92mhealth_organisation_dataset\u001B[0m\n",
      "\n",
      "Dataset \"Health Organisation Dataset\" loaded to the kernel as health_organisation_dataset\n",
      "Connected to Antigranular server session id: 81d9f47e-fc04-4a05-83be-77ac838445f3, the session will time out if idle for 25 minutes\n",
      "Cell magic '%%ag' registered successfully, use `%%ag` in a notebook cell to execute your python code on Antigranular private python server\n",
      "🚀 Everything's set up and ready to roll!\n"
     ]
    }
   ],
   "source": [
    "import antigranular as ag\n",
    "# session = ag.login(<client_id>,<client_secret>, competition = \"Harvard OpenDP Hackathon\")\n",
    "session = ag.login(\"#############\", \"############\", competition = \"Harvard OpenDP Hackathon\")"
   ]
  },
  {
   "cell_type": "code",
   "execution_count": 2,
   "outputs": [],
   "source": [
    "%%ag\n",
    "health = health_organisation_dataset\n",
    "flight = flight_company_dataset"
   ],
   "metadata": {
    "collapsed": false,
    "ExecuteTime": {
     "end_time": "2023-12-27T21:14:29.289428Z",
     "start_time": "2023-12-27T21:14:27.733334Z"
    }
   },
   "id": "20e2d4f40cd6aacc"
  },
  {
   "cell_type": "markdown",
   "source": [
    "# 1. Data Cleaning"
   ],
   "metadata": {
    "collapsed": false
   },
   "id": "79e785d5fa8cb3de"
  },
  {
   "cell_type": "markdown",
   "source": [
    "Remove the passenger records who tested negative for covid-19. We will only consider the passenger records who tested positive for covid-19."
   ],
   "metadata": {
    "collapsed": false
   },
   "id": "2a85be18b3e6f83"
  },
  {
   "cell_type": "code",
   "execution_count": 3,
   "outputs": [],
   "source": [
    "%%ag\n",
    "# Lets remove those passenger records who tested negative.\n",
    "health['covidtest_result'] = health['covidtest_result'].where(health['covidtest_result'] == 'positive')\n",
    "health = health.dropna()"
   ],
   "metadata": {
    "collapsed": false,
    "ExecuteTime": {
     "end_time": "2023-12-27T21:14:34.384851Z",
     "start_time": "2023-12-27T21:14:32.873273Z"
    }
   },
   "id": "62eec0b8b7a9496e"
  },
  {
   "cell_type": "markdown",
   "source": [
    "## 1.1. First name and middle name"
   ],
   "metadata": {
    "collapsed": false
   },
   "id": "c99f01fcf9cd2e3a"
  },
  {
   "cell_type": "markdown",
   "source": [
    "first name and sometimes the middle name of the patient are jointly recorder, sometimes the first and middle name are recorded without any space between them. To handle this we will consider only the first name, so we eliminate the middle name information"
   ],
   "metadata": {
    "collapsed": false
   },
   "id": "9fadfeaa95bab5df"
  },
  {
   "cell_type": "code",
   "execution_count": 4,
   "outputs": [],
   "source": [
    "%%ag\n",
    "def clean_first_name(name: str) -> str:\n",
    "    \"\"\"\n",
    "    Extracts the first name from a given string.\n",
    "    Assumes that the first word is the first name, and if there are multiple capital letters in the first word,\n",
    "    the first name ends before the second capital letter.\n",
    "    e.g. \"John Smith\" -> \"John\"\n",
    "    e.g. \"JohnSmith\" -> \"John\"\n",
    "    e.g. \"JohnSmithJunior\" -> \"John\"\n",
    "\n",
    "    :param name: A string representing a full name.\n",
    "    :return: The extracted first name.\n",
    "    \"\"\"\n",
    "    # Split the name into words based on spaces\n",
    "    words = name.split()\n",
    "\n",
    "    # Check the first word for capital letters\n",
    "    first_word = words[0]\n",
    "    capital_letters = [char for char in first_word if char.isupper()]\n",
    "\n",
    "    # If more than one capital letter is present, assume first name ends before the second capital letter\n",
    "    if len(capital_letters) > 1:\n",
    "        second_capital_index = first_word.find(capital_letters[1])\n",
    "        return first_word[:second_capital_index]\n",
    "\n",
    "    # If only one capital letter, assume the entire word is the first name\n",
    "    else:\n",
    "        return first_word"
   ],
   "metadata": {
    "collapsed": false,
    "ExecuteTime": {
     "end_time": "2023-12-27T21:14:37.283449Z",
     "start_time": "2023-12-27T21:14:36.670732Z"
    }
   },
   "id": "de679a38680a758e"
  },
  {
   "cell_type": "code",
   "execution_count": 5,
   "outputs": [],
   "source": [
    "%%ag\n",
    "health[\"patient_firstname\"] = health[[\"patient_firstname\"]].applymap(clean_first_name, eps=0)\n",
    "flight[\"passenger_firstname\"] = flight[[\"passenger_firstname\"]].applymap(clean_first_name, eps=0)"
   ],
   "metadata": {
    "collapsed": false,
    "ExecuteTime": {
     "end_time": "2023-12-27T21:14:59.396443Z",
     "start_time": "2023-12-27T21:14:40.697423Z"
    }
   },
   "id": "1a35f860eeecdab1"
  },
  {
   "cell_type": "markdown",
   "source": [
    "## 1.2. Last name"
   ],
   "metadata": {
    "collapsed": false
   },
   "id": "65c56c2501b41949"
  },
  {
   "cell_type": "markdown",
   "source": [
    "We standardize the last name by capitalizing the first letter and lowercasing the rest of the letters."
   ],
   "metadata": {
    "collapsed": false
   },
   "id": "32cc1bf26a622ff0"
  },
  {
   "cell_type": "code",
   "execution_count": 6,
   "outputs": [],
   "source": [
    "%%ag\n",
    "def clean_last_name(name: str) -> str:\n",
    "    \"\"\"\n",
    "    Standardizes the last name by capitalizing the first letter and lowercasing the rest of the letters.\n",
    "    e.g. \"SMITH\" -> \"Smith\"\n",
    "\n",
    "    :param name: A string representing a last name.\n",
    "    :return: The standardized last name.\n",
    "    \"\"\"\n",
    "    return name.capitalize()"
   ],
   "metadata": {
    "collapsed": false,
    "ExecuteTime": {
     "end_time": "2023-12-27T21:15:17.402267Z",
     "start_time": "2023-12-27T21:15:17.394238Z"
    }
   },
   "id": "2b412ffc0f015fb8"
  },
  {
   "cell_type": "code",
   "execution_count": 7,
   "outputs": [],
   "source": [
    "%%ag\n",
    "health[\"patient_lastname\"] = health[[\"patient_lastname\"]].applymap(clean_first_name, eps=0)\n",
    "flight[\"passenger_lastname\"] = flight[[\"passenger_lastname\"]].applymap(clean_first_name, eps=0)"
   ],
   "metadata": {
    "collapsed": false,
    "ExecuteTime": {
     "end_time": "2023-12-27T21:15:32.226925Z",
     "start_time": "2023-12-27T21:15:19.212173Z"
    }
   },
   "id": "3d99024bfef5f437"
  },
  {
   "cell_type": "markdown",
   "source": [
    "## 1.3. Date of birth"
   ],
   "metadata": {
    "collapsed": false
   },
   "id": "fe1c234c076df137"
  },
  {
   "cell_type": "markdown",
   "source": [
    "Date of birth have different formats, we will convert them to the same format. The type of format are the following: \n",
    "    01.Sep.1990\n",
    "    1 September 90\n",
    "    1-Sept-1990\n",
    "We will convert them to the following format: YYYY-MM-DD"
   ],
   "metadata": {
    "collapsed": false
   },
   "id": "25a9358b60b4e043"
  },
  {
   "cell_type": "code",
   "execution_count": 8,
   "outputs": [],
   "source": [
    "%%ag\n",
    "import datetime \n",
    "def standardize_date(date_str: str) -> str:\n",
    "    \"\"\"\n",
    "    Converts dates from various formats to a standardized 'YYYY-MM-DD' format.\n",
    "\n",
    "    Supported formats:\n",
    "    - '01.Sep.1990'\n",
    "    - '1 September 90'\n",
    "    - '1-Sept-1990'\n",
    "\n",
    "    :param date_str: A string representing a date.\n",
    "    :return: The date in 'YYYY-MM-DD' format\n",
    "    \"\"\"\n",
    "    # Replace various separators with a standard one (space)\n",
    "    for separator in ['.', '/', '-']:\n",
    "        date_str = date_str.replace(separator, ' ')\n",
    "    date_parts = date_str.split()  # Splitting the date into parts\n",
    "    day = date_parts[0]   # day is always first\n",
    "    month_str = date_parts[1] # month is always second\n",
    "    year = date_parts[2]  # year is always third\n",
    "    \n",
    "    # Correct two-digit year if necessary\n",
    "    if len(year) == 2:\n",
    "        year = '20' + year if int(year) <= 23 else '19' + year\n",
    "    \n",
    "    # Transform month into a number\n",
    "    month_str = month_str[:3]\n",
    "    month = datetime.datetime.strptime(month_str, \"%b\").month\n",
    "    month_formatted = f\"{month:02d}\"  # Ensuring two-digit format\n",
    "    \n",
    "    # Adjust day if necessary\n",
    "    day_formatted = f\"{int(day):02d}\"  # Ensuring two-digit format\n",
    "        \n",
    "    # Reconstruct the date string in the identified format\n",
    "    output_str = f\"{year}-{month_formatted}-{day_formatted}\"\n",
    "    return output_str"
   ],
   "metadata": {
    "collapsed": false,
    "ExecuteTime": {
     "end_time": "2023-12-27T21:15:35.150995Z",
     "start_time": "2023-12-27T21:15:32.932181Z"
    }
   },
   "id": "96b444840001df68"
  },
  {
   "cell_type": "code",
   "execution_count": 9,
   "outputs": [],
   "source": [
    "%%ag\n",
    "health[\"patient_date_of_birth\"] = health[[\"patient_date_of_birth\"]].applymap(clean_first_name, eps=0)\n",
    "flight[\"passenger_date_of_birth\"] = flight[[\"passenger_date_of_birth\"]].applymap(clean_first_name, eps=0)"
   ],
   "metadata": {
    "collapsed": false,
    "ExecuteTime": {
     "end_time": "2023-12-27T21:16:00.719174Z",
     "start_time": "2023-12-27T21:15:44.553957Z"
    }
   },
   "id": "22016d853da91fcc"
  },
  {
   "cell_type": "markdown",
   "source": [
    "## Total positive cases"
   ],
   "metadata": {
    "collapsed": false
   },
   "id": "3fb102ea4945fbbd"
  },
  {
   "cell_type": "code",
   "execution_count": 10,
   "outputs": [
    {
     "name": "stdout",
     "output_type": "stream",
     "text": [
      "Total covid positive health records : 3248\n"
     ]
    }
   ],
   "source": [
    "%%ag\n",
    "ag_print(f\"Total covid positive health records : {health['patient_firstname'].count(eps=0.1)}\")"
   ],
   "metadata": {
    "collapsed": false,
    "ExecuteTime": {
     "end_time": "2023-12-27T21:18:18.540628Z",
     "start_time": "2023-12-27T21:18:16.866337Z"
    }
   },
   "id": "6048282a49996003"
  },
  {
   "cell_type": "markdown",
   "source": [
    "# 2. Setting Indexing Rule"
   ],
   "metadata": {
    "collapsed": false
   },
   "id": "5ddc5390301c6334"
  },
  {
   "cell_type": "code",
   "execution_count": 13,
   "outputs": [
    {
     "name": "stdout",
     "output_type": "stream",
     "text": [
      "Number of candidate links 589671\n"
     ]
    }
   ],
   "source": [
    "%%ag\n",
    "import op_recordlinkage as rl\n",
    "# Create an indexer and block on the date of birth\n",
    "indexer = rl.Index()\n",
    "indexer.block('passenger_date_of_birth','patient_date_of_birth')\n",
    "candidate_links = indexer.index(flight, health)\n",
    "# total number of links based on this indexing choice.\n",
    "ag_print(\"Number of candidate links\", candidate_links.count(eps=0.1))"
   ],
   "metadata": {
    "collapsed": false,
    "ExecuteTime": {
     "end_time": "2023-12-27T21:19:26.258077Z",
     "start_time": "2023-12-27T21:19:21.000155Z"
    }
   },
   "id": "c211b5730c8a1f99"
  },
  {
   "cell_type": "markdown",
   "source": [
    "The number of candidate is too high, we will reduce the number of candidate links by blocking on and last name as well."
   ],
   "metadata": {
    "collapsed": false
   },
   "id": "5f0530f3737cea7d"
  },
  {
   "cell_type": "code",
   "execution_count": 14,
   "outputs": [
    {
     "name": "stdout",
     "output_type": "stream",
     "text": [
      "Number of candidate links 11747\n"
     ]
    }
   ],
   "source": [
    "%%ag\n",
    "import op_recordlinkage as rl\n",
    "# Create an indexer and block on the date of birth\n",
    "indexer = rl.Index()\n",
    "indexer.block(['passenger_date_of_birth', \"passenger_lastname\"], \n",
    "              ['patient_date_of_birth', \"patient_lastname\"])\n",
    "candidate_links = indexer.index(flight, health)\n",
    "# total number of links based on this indexing choice.\n",
    "ag_print(\"Number of candidate links\", candidate_links.count(eps=0.1))"
   ],
   "metadata": {
    "collapsed": false,
    "ExecuteTime": {
     "end_time": "2023-12-27T21:22:55.960203Z",
     "start_time": "2023-12-27T21:22:55.955180Z"
    }
   },
   "id": "4139defe05bd3972"
  },
  {
   "cell_type": "markdown",
   "source": [
    "The number of candidate links is reduced by a factor of 10, this is sufficient to continue"
   ],
   "metadata": {
    "collapsed": false
   },
   "id": "1f9bcd6229b89c8b"
  },
  {
   "cell_type": "markdown",
   "source": [
    "# 3. Comparing the records"
   ],
   "metadata": {
    "collapsed": false
   },
   "id": "887f1055981667a1"
  },
  {
   "cell_type": "markdown",
   "source": [
    "Once the candidate links are formed , we can set compare rules against them to refine our linking process. In these rules , we can set a weight for each compare rule that we define.\n",
    "  - Lets fuzzy match the firstnames ( using default value of either 1 or 0 )\n",
    "  - Allow links on the positive covid result happening within two weeks (14 days before the flight or 14 days after the flight) ( with weight = 2 )"
   ],
   "metadata": {
    "collapsed": false
   },
   "id": "dba9d587562d0a90"
  },
  {
   "cell_type": "code",
   "execution_count": 15,
   "outputs": [],
   "source": [
    "%%ag\n",
    "import datetime \n",
    "\n",
    "comparer = rl.Compare()\n",
    "\n",
    "# Using inbuilt string linking via fuzzy match. ( keeping threshold for last_name to get stronger links )\n",
    "comparer.string(\"passenger_firstname\" , \"patient_firstname\" ,method='jarowinkler', label=\"firstname\")\n",
    "\n",
    "# Using a custom compare rule.\n",
    "\n",
    "def cmp(date_str1: str , date_str2: str ) -> int:\n",
    "    # Convert date strings to datetime objects\n",
    "    date1 = datetime.datetime.strptime(date_str1, \"%Y-%m-%d\")\n",
    "    date2 = datetime.datetime.strptime(date_str2, \"%Y-%m-%d\")\n",
    "    \n",
    "    # Calculate the absolute difference in days\n",
    "    days_apart = (date2 - date1).days\n",
    "    # Check if the dates are within two weeks (14 days) apart\n",
    "    if -14 <= days_apart <= 14:\n",
    "        return 2\n",
    "    else:\n",
    "        return 0\n",
    "\n",
    "comparer.custom(cmp, \"flight_date\", \"covidtest_date\", label=\"date_cmp\")"
   ],
   "metadata": {
    "collapsed": false,
    "ExecuteTime": {
     "end_time": "2023-12-27T21:29:32.966967Z",
     "start_time": "2023-12-27T21:29:29.906876Z"
    }
   },
   "id": "45e370d52402ce65"
  },
  {
   "cell_type": "code",
   "execution_count": 16,
   "outputs": [
    {
     "name": "stdout",
     "output_type": "stream",
     "text": [
      "Average weight : 1.7149788448174417\n"
     ]
    }
   ],
   "source": [
    "%%ag\n",
    "features = comparer.compute(candidate_links,flight,health)\n",
    "# Lets find out the average matching weights obtained based on the compare rules we set.\n",
    "ag_print(f\"Average weight : {features.sum(axis=1).mean(eps=0.79)}\")"
   ],
   "metadata": {
    "collapsed": false,
    "ExecuteTime": {
     "end_time": "2023-12-27T21:30:33.966559Z",
     "start_time": "2023-12-27T21:30:24.680922Z"
    }
   },
   "id": "6052fa67451f2cd8"
  },
  {
   "cell_type": "markdown",
   "source": [
    "# 4. Linking the datasets"
   ],
   "metadata": {
    "collapsed": false
   },
   "id": "9edcbb0ab1fc1599"
  },
  {
   "cell_type": "code",
   "execution_count": 17,
   "outputs": [],
   "source": [
    "%%ag\n",
    "linked_df = comparer.get_match(1.72)"
   ],
   "metadata": {
    "collapsed": false,
    "ExecuteTime": {
     "end_time": "2023-12-27T21:31:31.138925Z",
     "start_time": "2023-12-27T21:31:27.322466Z"
    }
   },
   "id": "3b3d9b66351b4bbd"
  },
  {
   "cell_type": "markdown",
   "source": [
    "# 5. Submission"
   ],
   "metadata": {
    "collapsed": false
   },
   "id": "23a0f5ac480ce984"
  },
  {
   "cell_type": "code",
   "execution_count": 18,
   "outputs": [
    {
     "name": "stdout",
     "output_type": "stream",
     "text": [
      "score: {'leaderboard': 0.584383717161067, 'logs': {'LIN_EPS': -0.0005, 'MCC': 0.5848837171610669}}\n"
     ]
    }
   ],
   "source": [
    "%%ag\n",
    "# Submitting the column containing the filtered set of airlines we should report regarding a covid passenger.\n",
    "res = linked_df[[\"l_flight_number\"]]\n",
    "x = submit_predictions(res)"
   ],
   "metadata": {
    "collapsed": false,
    "ExecuteTime": {
     "end_time": "2023-12-27T21:32:02.395924Z",
     "start_time": "2023-12-27T21:31:59.275562Z"
    }
   },
   "id": "6d65ed76f94f1fce"
  },
  {
   "cell_type": "code",
   "execution_count": null,
   "outputs": [],
   "source": [],
   "metadata": {
    "collapsed": false
   },
   "id": "49c31b842d1da047"
  }
 ],
 "metadata": {
  "kernelspec": {
   "display_name": "Python 3",
   "language": "python",
   "name": "python3"
  },
  "language_info": {
   "codemirror_mode": {
    "name": "ipython",
    "version": 2
   },
   "file_extension": ".py",
   "mimetype": "text/x-python",
   "name": "python",
   "nbconvert_exporter": "python",
   "pygments_lexer": "ipython2",
   "version": "2.7.6"
  }
 },
 "nbformat": 4,
 "nbformat_minor": 5
}
