{
  "nbformat": 4,
  "nbformat_minor": 0,
  "metadata": {
    "colab": {
      "provenance": []
    },
    "kernelspec": {
      "name": "python3",
      "display_name": "Python 3"
    },
    "language_info": {
      "name": "python"
    }
  },
  "cells": [
    {
      "cell_type": "code",
      "source": [
        "!pip install ag_utils"
      ],
      "metadata": {
        "colab": {
          "base_uri": "https://localhost:8080/"
        },
        "id": "anKVo9sKTqrb",
        "outputId": "b7466765-5ce2-4e17-b921-5332027946cf"
      },
      "execution_count": 4,
      "outputs": [
        {
          "output_type": "stream",
          "name": "stdout",
          "text": [
            "\u001b[31mERROR: Could not find a version that satisfies the requirement ag_utils (from versions: none)\u001b[0m\u001b[31m\n",
            "\u001b[0m\u001b[31mERROR: No matching distribution found for ag_utils\u001b[0m\u001b[31m\n",
            "\u001b[0m"
          ]
        }
      ]
    },
    {
      "cell_type": "code",
      "execution_count": 6,
      "metadata": {
        "colab": {
          "base_uri": "https://localhost:8080/"
        },
        "id": "_LYW4fy7Tlk0",
        "outputId": "e134ea9b-da2d-4931-8d7b-f0836353aa7f"
      },
      "outputs": [
        {
          "output_type": "stream",
          "name": "stdout",
          "text": [
            "Connected to Antigranular server session id: f6b436d8-27e3-4699-94b8-ee738d05ea96, the session will time out if idle for 60 minutes\n",
            "Cell magic '%%ag' registered successfully, use `%%ag` in a notebook cell to execute your python code on Antigranular private python server\n"
          ]
        }
      ],
      "source": [
        "import antigranular as ag\n",
        "session = ag.login(<client_id>,<client_secret>, competition = \"AG Hack July 2023\")"
      ]
    },
    {
      "cell_type": "code",
      "source": [
        "import pandas as pd\n",
        "from sklearn.model_selection import train_test_split\n",
        "from sklearn.preprocessing import StandardScaler\n",
        "from sklearn.ensemble import RandomForestClassifier\n",
        "from sklearn.metrics import accuracy_score, classification_report\n"
      ],
      "metadata": {
        "id": "q9sj7TNtWAai"
      },
      "execution_count": 7,
      "outputs": []
    },
    {
      "cell_type": "code",
      "source": [
        "%%ag\n",
        "from ag_utils import load_dataset\n",
        "response = load_dataset(\"Cancer Dataset\")\n",
        "train_x = response[\"train_x\"]\n",
        "train_y = response[\"train_y\"]\n",
        "test_x = response[\"test_x\"]"
      ],
      "metadata": {
        "id": "brxYRzFyWA1V"
      },
      "execution_count": 8,
      "outputs": []
    },
    {
      "cell_type": "code",
      "source": [
        "# Combine the training features and labels for further processing\n",
        "train_df = pd.concat([train_x, train_y], axis=1)\n",
        "\n",
        "# Drop the 'Name' and 'user_id' columns as they won't contribute to the model\n",
        "train_df = train_df.drop(columns=[\"Name\", \"user_id\"])\n",
        "\n",
        "# Convert categorical variables (gender and gym_membership) into numerical values\n",
        "train_df[\"user_gender\"] = train_df[\"user_gender\"].map({\"FEMALE\": 0, \"MALE\": 1})\n",
        "train_df[\"gym_membership\"] = train_df[\"gym_membership\"].map({False: 0, True: 1})\n",
        "\n",
        "# Split the data into features (X) and the target variable (y)\n",
        "X = train_df.drop(columns=[\"Cancer\"])\n",
        "y = train_df[\"Cancer\"]\n",
        "\n",
        "# Perform feature scaling to normalize the numerical features\n",
        "scaler = StandardScaler()\n",
        "X_scaled = scaler.fit_transform(X)\n"
      ],
      "metadata": {
        "colab": {
          "base_uri": "https://localhost:8080/",
          "height": 235
        },
        "id": "gNPDyf2ZWJpE",
        "outputId": "8e997020-7269-49b6-c2d7-82b8d18a8f9c"
      },
      "execution_count": 9,
      "outputs": [
        {
          "output_type": "error",
          "ename": "NameError",
          "evalue": "ignored",
          "traceback": [
            "\u001b[0;31m---------------------------------------------------------------------------\u001b[0m",
            "\u001b[0;31mNameError\u001b[0m                                 Traceback (most recent call last)",
            "\u001b[0;32m<ipython-input-9-fb583ed0769d>\u001b[0m in \u001b[0;36m<cell line: 2>\u001b[0;34m()\u001b[0m\n\u001b[1;32m      1\u001b[0m \u001b[0;31m# Combine the training features and labels for further processing\u001b[0m\u001b[0;34m\u001b[0m\u001b[0;34m\u001b[0m\u001b[0m\n\u001b[0;32m----> 2\u001b[0;31m \u001b[0mtrain_df\u001b[0m \u001b[0;34m=\u001b[0m \u001b[0mpd\u001b[0m\u001b[0;34m.\u001b[0m\u001b[0mconcat\u001b[0m\u001b[0;34m(\u001b[0m\u001b[0;34m[\u001b[0m\u001b[0mtrain_x\u001b[0m\u001b[0;34m,\u001b[0m \u001b[0mtrain_y\u001b[0m\u001b[0;34m]\u001b[0m\u001b[0;34m,\u001b[0m \u001b[0maxis\u001b[0m\u001b[0;34m=\u001b[0m\u001b[0;36m1\u001b[0m\u001b[0;34m)\u001b[0m\u001b[0;34m\u001b[0m\u001b[0;34m\u001b[0m\u001b[0m\n\u001b[0m\u001b[1;32m      3\u001b[0m \u001b[0;34m\u001b[0m\u001b[0m\n\u001b[1;32m      4\u001b[0m \u001b[0;31m# Drop the 'Name' and 'user_id' columns as they won't contribute to the model\u001b[0m\u001b[0;34m\u001b[0m\u001b[0;34m\u001b[0m\u001b[0m\n\u001b[1;32m      5\u001b[0m \u001b[0mtrain_df\u001b[0m \u001b[0;34m=\u001b[0m \u001b[0mtrain_df\u001b[0m\u001b[0;34m.\u001b[0m\u001b[0mdrop\u001b[0m\u001b[0;34m(\u001b[0m\u001b[0mcolumns\u001b[0m\u001b[0;34m=\u001b[0m\u001b[0;34m[\u001b[0m\u001b[0;34m\"Name\"\u001b[0m\u001b[0;34m,\u001b[0m \u001b[0;34m\"user_id\"\u001b[0m\u001b[0;34m]\u001b[0m\u001b[0;34m)\u001b[0m\u001b[0;34m\u001b[0m\u001b[0;34m\u001b[0m\u001b[0m\n",
            "\u001b[0;31mNameError\u001b[0m: name 'train_x' is not defined"
          ]
        }
      ]
    },
    {
      "cell_type": "code",
      "source": [
        "# Split the dataset into training and validation sets\n",
        "X_train, X_val, y_train, y_val = train_test_split(X_scaled, y, test_size=0.2, random_state=42)\n",
        "\n",
        "# Initialize the RandomForestClassifier\n",
        "clf = RandomForestClassifier(random_state=42)\n",
        "\n",
        "# Train the model on the training data\n",
        "clf.fit(X_train, y_train)\n"
      ],
      "metadata": {
        "id": "n70-aKBbWLYF"
      },
      "execution_count": null,
      "outputs": []
    },
    {
      "cell_type": "code",
      "source": [
        "# Assuming you have already loaded the test set 'test_x'\n",
        "test_df = test_x.drop(columns=[\"Name\", \"user_id\"])\n",
        "test_df[\"user_gender\"] = test_df[\"user_gender\"].map({\"FEMALE\": 0, \"MALE\": 1})\n",
        "test_df[\"gym_membership\"] = test_df[\"gym_membership\"].map({False: 0, True: 1})\n",
        "test_scaled = scaler.transform(test_df)\n",
        "\n",
        "# Make predictions on the test set\n",
        "predictions = clf.predict(test_scaled)\n",
        "\n",
        "# Convert the predictions to a DataFrame\n",
        "df_pred = pd.DataFrame({\"user_id\": test_x[\"user_id\"], \"Cancer\": predictions})\n"
      ],
      "metadata": {
        "id": "LjJ6KuKdWNis"
      },
      "execution_count": null,
      "outputs": []
    },
    {
      "cell_type": "code",
      "source": [
        "# Assuming you have already submitted the predictions using the provided code\n",
        "result = session.submit_predictions(df_pred)\n",
        "print(result)\n"
      ],
      "metadata": {
        "id": "Du3Agt2nWQWc"
      },
      "execution_count": null,
      "outputs": []
    }
  ]
}