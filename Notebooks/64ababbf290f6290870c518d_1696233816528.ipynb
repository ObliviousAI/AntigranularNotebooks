{
 "cells": [
  {
   "cell_type": "code",
   "execution_count": 4,
   "metadata": {
    "ExecuteTime": {
     "end_time": "2023-10-01T13:31:08.294237Z",
     "start_time": "2023-10-01T13:30:44.762806Z"
    },
    "collapsed": false
   },
   "outputs": [
    {
     "name": "stdout",
     "output_type": "stream",
     "text": [
      "Dataset \"Flight Company Dataset for Sandbox\" loaded to the kernel as flight_company_dataset_for_sandbox\n",
      "Dataset \"Health Organisation Dataset for Sandbox\" loaded to the kernel as health_organisation_dataset_for_sandbox\n",
      "Connected to Antigranular server session id: 70af9603-1b85-4987-a0ec-dbd654fd4db2, the session will time out if idle for 60 minutes\n",
      "Cell magic '%%ag' registered successfully, use `%%ag` in a notebook cell to execute your python code on Antigranular private python server\n"
     ]
    }
   ],
   "source": [
    "import antigranular as ag\n",
    "session = ag.login(<client_id>,<client_secret>, competition = \"Sandbox for Harvard Open DP Hackathon\")"
   ]
  },
  {
   "cell_type": "code",
   "execution_count": 22,
   "metadata": {
    "ExecuteTime": {
     "end_time": "2023-10-01T13:31:18.400945Z",
     "start_time": "2023-10-01T13:31:14.354979Z"
    },
    "collapsed": false
   },
   "outputs": [],
   "source": [
    "%%ag\n",
    "health = health_organisation_dataset_for_sandbox\n",
    "flight = flight_company_dataset_for_sandbox"
   ]
  },
  {
   "cell_type": "code",
   "execution_count": 2,
   "metadata": {},
   "outputs": [
    {
     "data": {
      "text/plain": [
       "'0.2.9'"
      ]
     },
     "execution_count": 2,
     "metadata": {},
     "output_type": "execute_result"
    }
   ],
   "source": [
    "ag.__version__"
   ]
  },
  {
   "cell_type": "markdown",
   "metadata": {
    "collapsed": false
   },
   "source": [
    "## Basic metadata analysis\n",
    "Estimate the size of the datasets , the column names and their metadatas."
   ]
  },
  {
   "cell_type": "code",
   "execution_count": 23,
   "metadata": {
    "ExecuteTime": {
     "end_time": "2023-10-01T13:31:24.501412Z",
     "start_time": "2023-10-01T13:31:22.436112Z"
    },
    "collapsed": false
   },
   "outputs": [
    {
     "name": "stdout",
     "output_type": "stream",
     "text": [
      "Flight Dataset \n",
      " Index(['flight_number', 'flight_date', 'flight_from', 'flight_to',\n",
      "       'passenger_firstname', 'passenger_lastname', 'passenger_date_of_birth'],\n",
      "      dtype='object') \n",
      "\n",
      "Health Datset \n",
      " Index(['patient_firstname', 'patient_lastname', 'patient_date_of_birth',\n",
      "       'covidtest_date', 'covidtest_result', 'patient_address'],\n",
      "      dtype='object')\n",
      "\n"
     ]
    }
   ],
   "source": [
    "%%ag\n",
    "# Printing the column names using ag_print\n",
    "ag_print(f\"Flight Dataset \\n {flight.columns} \\n\")\n",
    "ag_print(f\"Health Datset \\n {health.columns}\")"
   ]
  },
  {
   "cell_type": "code",
   "execution_count": 24,
   "metadata": {
    "ExecuteTime": {
     "end_time": "2023-10-01T13:31:26.856852Z",
     "start_time": "2023-10-01T13:31:26.852168Z"
    },
    "collapsed": false
   },
   "outputs": [
    {
     "name": "stdout",
     "output_type": "stream",
     "text": [
      "Total health records : 59230\n",
      "\n",
      "Total flight records :  39025\n",
      "\n"
     ]
    }
   ],
   "source": [
    "%%ag\n",
    "# Getting the differentially private count\n",
    "ag_print(f\"Total health records : {health['patient_firstname'].count(eps=0.1)}\")\n",
    "ag_print(f\"Total flight records :  {flight['passenger_firstname'].count(eps=0.1)}\")"
   ]
  },
  {
   "cell_type": "markdown",
   "metadata": {
    "collapsed": false
   },
   "source": [
    "To filter out those flights which may contain passenger which was reported covid 19 recently , we will need to link both datasets in an efficient way. One way to do it is by using the `recordlinkage` library."
   ]
  },
  {
   "cell_type": "code",
   "execution_count": 25,
   "metadata": {
    "ExecuteTime": {
     "end_time": "2023-10-01T13:31:31.203675Z",
     "start_time": "2023-10-01T13:31:29.002083Z"
    },
    "collapsed": false
   },
   "outputs": [],
   "source": [
    "%%ag\n",
    "# Lets remove those passenger records who tested negative.\n",
    "health['covidtest_result'] = health['covidtest_result'].where(health['covidtest_result'] == 'positive')\n",
    "health = health.dropna()"
   ]
  },
  {
   "cell_type": "code",
   "execution_count": 112,
   "metadata": {
    "ExecuteTime": {
     "end_time": "2023-09-28T18:34:32.210047Z",
     "start_time": "2023-09-28T18:34:32.195065Z"
    },
    "collapsed": false
   },
   "outputs": [
    {
     "data": {
      "text/html": [
       "<div>\n",
       "<style scoped>\n",
       "    .dataframe tbody tr th:only-of-type {\n",
       "        vertical-align: middle;\n",
       "    }\n",
       "\n",
       "    .dataframe tbody tr th {\n",
       "        vertical-align: top;\n",
       "    }\n",
       "\n",
       "    .dataframe thead th {\n",
       "        text-align: right;\n",
       "    }\n",
       "</style>\n",
       "<table border=\"1\" class=\"dataframe\">\n",
       "  <thead>\n",
       "    <tr style=\"text-align: right;\">\n",
       "      <th></th>\n",
       "      <th>patient_firstname</th>\n",
       "      <th>patient_lastname</th>\n",
       "      <th>patient_date_of_birth</th>\n",
       "      <th>covidtest_date</th>\n",
       "      <th>covidtest_result</th>\n",
       "      <th>patient_address</th>\n",
       "    </tr>\n",
       "  </thead>\n",
       "  <tbody>\n",
       "    <tr>\n",
       "      <th>163</th>\n",
       "      <td>Jola</td>\n",
       "      <td>Fano</td>\n",
       "      <td>1987-02-16</td>\n",
       "      <td>2020-01-18</td>\n",
       "      <td>positive</td>\n",
       "      <td>Apartment 211, Beach Complex, Rome</td>\n",
       "    </tr>\n",
       "    <tr>\n",
       "      <th>164</th>\n",
       "      <td>Jola</td>\n",
       "      <td>Fano</td>\n",
       "      <td>1987-02-16</td>\n",
       "      <td>2020-02-05</td>\n",
       "      <td>positive</td>\n",
       "      <td>Building 433, Hill Alley, Tokyo</td>\n",
       "    </tr>\n",
       "    <tr>\n",
       "      <th>194</th>\n",
       "      <td>Zor Fano</td>\n",
       "      <td>Juhn</td>\n",
       "      <td>2000-11-17</td>\n",
       "      <td>2020-01-03</td>\n",
       "      <td>positive</td>\n",
       "      <td>House 203, Green Street, Tokyo</td>\n",
       "    </tr>\n",
       "    <tr>\n",
       "      <th>195</th>\n",
       "      <td>Zor Fano</td>\n",
       "      <td>Juhn</td>\n",
       "      <td>2000-11-17</td>\n",
       "      <td>2020-01-13</td>\n",
       "      <td>positive</td>\n",
       "      <td>House 447, Bond Road, Pretoria</td>\n",
       "    </tr>\n",
       "    <tr>\n",
       "      <th>196</th>\n",
       "      <td>Zor Fano</td>\n",
       "      <td>Juhn</td>\n",
       "      <td>2000-11-17</td>\n",
       "      <td>2020-01-27</td>\n",
       "      <td>positive</td>\n",
       "      <td>Apartment 72, Eagle Close, London</td>\n",
       "    </tr>\n",
       "    <tr>\n",
       "      <th>...</th>\n",
       "      <td>...</td>\n",
       "      <td>...</td>\n",
       "      <td>...</td>\n",
       "      <td>...</td>\n",
       "      <td>...</td>\n",
       "      <td>...</td>\n",
       "    </tr>\n",
       "    <tr>\n",
       "      <th>59080</th>\n",
       "      <td>Gos</td>\n",
       "      <td>Immu</td>\n",
       "      <td>1967-07-01</td>\n",
       "      <td>2020-01-01</td>\n",
       "      <td>positive</td>\n",
       "      <td>Office 193, Station Close, Tokyo</td>\n",
       "    </tr>\n",
       "    <tr>\n",
       "      <th>59081</th>\n",
       "      <td>Gos</td>\n",
       "      <td>Immu</td>\n",
       "      <td>1967-07-01</td>\n",
       "      <td>2020-01-14</td>\n",
       "      <td>positive</td>\n",
       "      <td>Apartment 158, Bond Street, London</td>\n",
       "    </tr>\n",
       "    <tr>\n",
       "      <th>59139</th>\n",
       "      <td>Wolm Dapi</td>\n",
       "      <td>Simo</td>\n",
       "      <td>1990-11-06</td>\n",
       "      <td>2020-01-08</td>\n",
       "      <td>positive</td>\n",
       "      <td>House 301, Bond Corner, Brasilia</td>\n",
       "    </tr>\n",
       "    <tr>\n",
       "      <th>59140</th>\n",
       "      <td>Wolm Dapi</td>\n",
       "      <td>Simo</td>\n",
       "      <td>1990-11-06</td>\n",
       "      <td>2020-01-26</td>\n",
       "      <td>positive</td>\n",
       "      <td>Building 186, President Road, Tokyo</td>\n",
       "    </tr>\n",
       "    <tr>\n",
       "      <th>59207</th>\n",
       "      <td>Xaim Evi</td>\n",
       "      <td>Fink</td>\n",
       "      <td>1979-05-10</td>\n",
       "      <td>2020-01-26</td>\n",
       "      <td>positive</td>\n",
       "      <td>House 70, Queen Alley, Brasilia</td>\n",
       "    </tr>\n",
       "  </tbody>\n",
       "</table>\n",
       "<p>1291 rows × 6 columns</p>\n",
       "</div>"
      ],
      "text/plain": [
       "      patient_firstname patient_lastname patient_date_of_birth covidtest_date  \\\n",
       "163                Jola             Fano            1987-02-16     2020-01-18   \n",
       "164                Jola             Fano            1987-02-16     2020-02-05   \n",
       "194            Zor Fano             Juhn            2000-11-17     2020-01-03   \n",
       "195            Zor Fano             Juhn            2000-11-17     2020-01-13   \n",
       "196            Zor Fano             Juhn            2000-11-17     2020-01-27   \n",
       "...                 ...              ...                   ...            ...   \n",
       "59080               Gos             Immu            1967-07-01     2020-01-01   \n",
       "59081               Gos             Immu            1967-07-01     2020-01-14   \n",
       "59139         Wolm Dapi             Simo            1990-11-06     2020-01-08   \n",
       "59140         Wolm Dapi             Simo            1990-11-06     2020-01-26   \n",
       "59207          Xaim Evi             Fink            1979-05-10     2020-01-26   \n",
       "\n",
       "      covidtest_result                      patient_address  \n",
       "163           positive   Apartment 211, Beach Complex, Rome  \n",
       "164           positive      Building 433, Hill Alley, Tokyo  \n",
       "194           positive       House 203, Green Street, Tokyo  \n",
       "195           positive       House 447, Bond Road, Pretoria  \n",
       "196           positive    Apartment 72, Eagle Close, London  \n",
       "...                ...                                  ...  \n",
       "59080         positive     Office 193, Station Close, Tokyo  \n",
       "59081         positive   Apartment 158, Bond Street, London  \n",
       "59139         positive     House 301, Bond Corner, Brasilia  \n",
       "59140         positive  Building 186, President Road, Tokyo  \n",
       "59207         positive      House 70, Queen Alley, Brasilia  \n",
       "\n",
       "[1291 rows x 6 columns]"
      ]
     },
     "execution_count": 112,
     "metadata": {},
     "output_type": "execute_result"
    }
   ],
   "source": [
    "health._df"
   ]
  },
  {
   "cell_type": "code",
   "execution_count": 26,
   "metadata": {
    "ExecuteTime": {
     "end_time": "2023-10-01T13:31:33.013670Z",
     "start_time": "2023-10-01T13:31:31.203118Z"
    },
    "collapsed": false
   },
   "outputs": [
    {
     "name": "stdout",
     "output_type": "stream",
     "text": [
      "Total covid positive health records : 1291\n",
      "\n"
     ]
    }
   ],
   "source": [
    "%%ag\n",
    "ag_print(f\"Total covid positive health records : {health['patient_firstname'].count(eps=0.1)}\")"
   ]
  },
  {
   "cell_type": "markdown",
   "metadata": {
    "collapsed": false
   },
   "source": [
    "When using the `recordlinkage` library , make sure you index both datasets against a column which you will might be the most similar in nature. If you do not index both datasets on a similar column , then the unique MultiIndexes generated can be of very high order."
   ]
  },
  {
   "cell_type": "code",
   "execution_count": 27,
   "metadata": {
    "ExecuteTime": {
     "end_time": "2023-10-01T13:31:37.319672Z",
     "start_time": "2023-10-01T13:31:35.340050Z"
    },
    "collapsed": false
   },
   "outputs": [
    {
     "name": "stdout",
     "output_type": "stream",
     "text": [
      "WARNING:recordlinkage:indexing - performance warning - A full index can result in large number of record pairs.\n",
      "\n"
     ]
    }
   ],
   "source": [
    "%%ag\n",
    "import op_recordlinkage as rl\n",
    "# A full indexing is a complete cartesian product\n",
    "indexer  = rl.Index()\n",
    "indexer.full()"
   ]
  },
  {
   "cell_type": "markdown",
   "metadata": {
    "collapsed": false
   },
   "source": [
    "Lets index both datasets based on the date of birth. However , you must take care of the format of the dates so that they both are in similar fashion before you index both datasets against them.\n",
    "\n",
    "**click [here](https://recordlinkage.readthedocs.io/en/latest/ref-index.html) to learn about more indexing algorithms.**\n",
    "\n",
    "We currently support:\n",
    "- Full\n",
    "- Block\n",
    "- SortedNeighbor\n",
    "- Random\n"
   ]
  },
  {
   "cell_type": "code",
   "execution_count": 28,
   "metadata": {
    "ExecuteTime": {
     "end_time": "2023-10-01T13:31:39.447513Z",
     "start_time": "2023-10-01T13:31:39.444387Z"
    },
    "collapsed": false
   },
   "outputs": [],
   "source": [
    "%%ag\n",
    "import op_recordlinkage as rl\n",
    "indexer = rl.Index()\n",
    "indexer.block('passenger_date_of_birth','patient_date_of_birth')\n",
    "candidate_links = indexer.index(flight,health)"
   ]
  },
  {
   "cell_type": "code",
   "execution_count": 29,
   "metadata": {
    "ExecuteTime": {
     "end_time": "2023-10-01T13:31:43.643595Z",
     "start_time": "2023-10-01T13:31:41.455015Z"
    },
    "collapsed": false
   },
   "outputs": [
    {
     "name": "stdout",
     "output_type": "stream",
     "text": [
      "6097\n",
      "\n"
     ]
    }
   ],
   "source": [
    "%%ag\n",
    "# total number of links based on this indexing choice.\n",
    "ag_print(candidate_links.count(eps=0.1))"
   ]
  },
  {
   "cell_type": "markdown",
   "metadata": {
    "collapsed": false
   },
   "source": [
    "Once the links are formed , we can set compare rules against them to refine our linking process. In these rules , we can set a weight for each compare rule that we define.\n",
    "  - Lets fuzzy match the firstnames and lastnames(thresholded) of the passenger. ( using default value of either 1 or 0 )\n",
    "  - Allow links on the positive covid result happening atleast 14 before flight departure. ( with weight = 2 )\n",
    " \n",
    "**click [here](https://recordlinkage.readthedocs.io/en/latest/ref-compare.html#recordlinkage.Compare) to learn about more compare rules.**\n",
    "\n",
    "We currently support:\n",
    "- String\n",
    "- Numeric\n",
    "- Exact\n",
    "- Geo\n",
    "- Date\n",
    "- Custom Compares\n",
    "    "
   ]
  },
  {
   "cell_type": "code",
   "execution_count": 30,
   "metadata": {
    "ExecuteTime": {
     "end_time": "2023-10-01T13:31:45.812932Z",
     "start_time": "2023-10-01T13:31:45.810168Z"
    },
    "collapsed": false
   },
   "outputs": [],
   "source": [
    "%%ag\n",
    "compare = rl.Compare()\n",
    "\n",
    "# Using inbuilt string linking via fuzzy match. ( keeping threshold for last_name to get stronger links )\n",
    "compare.string(\"passenger_firstname\" , \"patient_firstname\" ,method='jarowinkler', label=\"firstname\")\n",
    "compare.string(\"passenger_lastname\",\"patient_lastname\" ,method='jarowinkler', threshold=0.9, label=\"lastname\")\n",
    "\n",
    "\n",
    "# Using a custom compare rule.\n",
    "from datetime import datetime\n",
    "def cmp(date_str1 , date_str2):\n",
    "    # Convert date strings to datetime objects\n",
    "    date1 = datetime.strptime(date_str1, \"%Y-%m-%d\")\n",
    "    date2 = datetime.strptime(date_str2, \"%Y-%m-%d\")\n",
    "    \n",
    "    # Calculate the absolute difference in days\n",
    "    days_apart = (date2 - date1).days\n",
    "    # Check if the dates are within two weeks (14 days) apart\n",
    "    if days_apart <= 14:\n",
    "        return 2\n",
    "    else:\n",
    "        return 0\n",
    "\n",
    "compare.custom(cmp,\"flight_date\",\"covidtest_date\",label=\"date_cmp\")\n"
   ]
  },
  {
   "cell_type": "code",
   "execution_count": 31,
   "metadata": {
    "ExecuteTime": {
     "end_time": "2023-10-01T13:32:01.780945Z",
     "start_time": "2023-10-01T13:31:54.584084Z"
    },
    "collapsed": false
   },
   "outputs": [],
   "source": [
    "%%ag\n",
    "features = compare.compute(candidate_links,flight,health)"
   ]
  },
  {
   "cell_type": "code",
   "execution_count": 148,
   "metadata": {
    "ExecuteTime": {
     "end_time": "2023-09-28T19:19:47.293531Z",
     "start_time": "2023-09-28T19:19:47.290308Z"
    },
    "collapsed": false
   },
   "outputs": [
    {
     "data": {
      "text/html": [
       "<div>\n",
       "<style scoped>\n",
       "    .dataframe tbody tr th:only-of-type {\n",
       "        vertical-align: middle;\n",
       "    }\n",
       "\n",
       "    .dataframe tbody tr th {\n",
       "        vertical-align: top;\n",
       "    }\n",
       "\n",
       "    .dataframe thead th {\n",
       "        text-align: right;\n",
       "    }\n",
       "</style>\n",
       "<table border=\"1\" class=\"dataframe\">\n",
       "  <thead>\n",
       "    <tr style=\"text-align: right;\">\n",
       "      <th></th>\n",
       "      <th></th>\n",
       "      <th>firstname</th>\n",
       "      <th>lastname</th>\n",
       "      <th>date_cmp</th>\n",
       "    </tr>\n",
       "  </thead>\n",
       "  <tbody>\n",
       "    <tr>\n",
       "      <th>9</th>\n",
       "      <th>48703</th>\n",
       "      <td>0.000000</td>\n",
       "      <td>1.0</td>\n",
       "      <td>2</td>\n",
       "    </tr>\n",
       "    <tr>\n",
       "      <th>28227</th>\n",
       "      <th>48703</th>\n",
       "      <td>0.412037</td>\n",
       "      <td>0.0</td>\n",
       "      <td>2</td>\n",
       "    </tr>\n",
       "    <tr>\n",
       "      <th>32066</th>\n",
       "      <th>48703</th>\n",
       "      <td>0.888889</td>\n",
       "      <td>1.0</td>\n",
       "      <td>0</td>\n",
       "    </tr>\n",
       "    <tr>\n",
       "      <th>32067</th>\n",
       "      <th>48703</th>\n",
       "      <td>0.888889</td>\n",
       "      <td>1.0</td>\n",
       "      <td>2</td>\n",
       "    </tr>\n",
       "    <tr>\n",
       "      <th>32068</th>\n",
       "      <th>48703</th>\n",
       "      <td>0.888889</td>\n",
       "      <td>1.0</td>\n",
       "      <td>2</td>\n",
       "    </tr>\n",
       "    <tr>\n",
       "      <th>...</th>\n",
       "      <th>...</th>\n",
       "      <td>...</td>\n",
       "      <td>...</td>\n",
       "      <td>...</td>\n",
       "    </tr>\n",
       "    <tr>\n",
       "      <th>38654</th>\n",
       "      <th>58656</th>\n",
       "      <td>1.000000</td>\n",
       "      <td>1.0</td>\n",
       "      <td>2</td>\n",
       "    </tr>\n",
       "    <tr>\n",
       "      <th rowspan=\"2\" valign=\"top\">38970</th>\n",
       "      <th>59139</th>\n",
       "      <td>0.977778</td>\n",
       "      <td>1.0</td>\n",
       "      <td>2</td>\n",
       "    </tr>\n",
       "    <tr>\n",
       "      <th>59140</th>\n",
       "      <td>0.977778</td>\n",
       "      <td>1.0</td>\n",
       "      <td>2</td>\n",
       "    </tr>\n",
       "    <tr>\n",
       "      <th>39011</th>\n",
       "      <th>59207</th>\n",
       "      <td>0.975000</td>\n",
       "      <td>1.0</td>\n",
       "      <td>2</td>\n",
       "    </tr>\n",
       "    <tr>\n",
       "      <th>39012</th>\n",
       "      <th>59207</th>\n",
       "      <td>0.975000</td>\n",
       "      <td>1.0</td>\n",
       "      <td>2</td>\n",
       "    </tr>\n",
       "  </tbody>\n",
       "</table>\n",
       "<p>6097 rows × 3 columns</p>\n",
       "</div>"
      ],
      "text/plain": [
       "             firstname  lastname date_cmp\n",
       "9     48703   0.000000       1.0        2\n",
       "28227 48703   0.412037       0.0        2\n",
       "32066 48703   0.888889       1.0        0\n",
       "32067 48703   0.888889       1.0        2\n",
       "32068 48703   0.888889       1.0        2\n",
       "...                ...       ...      ...\n",
       "38654 58656   1.000000       1.0        2\n",
       "38970 59139   0.977778       1.0        2\n",
       "      59140   0.977778       1.0        2\n",
       "39011 59207   0.975000       1.0        2\n",
       "39012 59207   0.975000       1.0        2\n",
       "\n",
       "[6097 rows x 3 columns]"
      ]
     },
     "execution_count": 148,
     "metadata": {},
     "output_type": "execute_result"
    }
   ],
   "source": [
    "# Sample demonstration of how a features matrix looks.\n",
    "# Since its a PrivateDataFrame , you need to apply DP mechanisms to retrieve useful infos."
   ]
  },
  {
   "cell_type": "code",
   "execution_count": 32,
   "metadata": {
    "ExecuteTime": {
     "end_time": "2023-10-01T13:32:03.769560Z",
     "start_time": "2023-10-01T13:32:01.781580Z"
    },
    "collapsed": false
   },
   "outputs": [
    {
     "name": "stdout",
     "output_type": "stream",
     "text": [
      "Average weight : 2.384529685884475\n",
      "\n"
     ]
    }
   ],
   "source": [
    "%%ag\n",
    "# Lets find out the average matching weights obtained based on the compare rules we set.\n",
    "ag_print(f\"Average weight : {features.sum(axis=1).mean(eps=0.1)}\")"
   ]
  },
  {
   "cell_type": "markdown",
   "metadata": {
    "collapsed": false
   },
   "source": [
    "Choosing a value = 3 for linking based on the obtained average. Our purpose of giving the custom_compare\n",
    "a weight=2 was to prioritize it over the matching of first_names/last_names. Moreover choosing a value=3 as threshold\n",
    "for matching will give us strong links based on the compare rules we have set."
   ]
  },
  {
   "cell_type": "code",
   "execution_count": 33,
   "metadata": {
    "ExecuteTime": {
     "end_time": "2023-10-01T13:32:07.999566Z",
     "start_time": "2023-10-01T13:32:06.061223Z"
    },
    "collapsed": false
   },
   "outputs": [],
   "source": [
    "%%ag\n",
    "linked_df = compare.get_match(3)"
   ]
  },
  {
   "cell_type": "code",
   "execution_count": 153,
   "metadata": {
    "ExecuteTime": {
     "end_time": "2023-09-28T19:34:44.573475Z",
     "start_time": "2023-09-28T19:34:44.557015Z"
    },
    "collapsed": false
   },
   "outputs": [
    {
     "data": {
      "text/html": [
       "<div>\n",
       "<style scoped>\n",
       "    .dataframe tbody tr th:only-of-type {\n",
       "        vertical-align: middle;\n",
       "    }\n",
       "\n",
       "    .dataframe tbody tr th {\n",
       "        vertical-align: top;\n",
       "    }\n",
       "\n",
       "    .dataframe thead th {\n",
       "        text-align: right;\n",
       "    }\n",
       "</style>\n",
       "<table border=\"1\" class=\"dataframe\">\n",
       "  <thead>\n",
       "    <tr style=\"text-align: right;\">\n",
       "      <th></th>\n",
       "      <th>l_flight_number</th>\n",
       "      <th>l_flight_date</th>\n",
       "      <th>l_flight_from</th>\n",
       "      <th>l_flight_to</th>\n",
       "      <th>l_passenger_firstname</th>\n",
       "      <th>l_passenger_lastname</th>\n",
       "      <th>l_passenger_date_of_birth</th>\n",
       "      <th>r_patient_firstname</th>\n",
       "      <th>r_patient_lastname</th>\n",
       "      <th>r_patient_date_of_birth</th>\n",
       "      <th>r_covidtest_date</th>\n",
       "      <th>r_covidtest_result</th>\n",
       "      <th>r_patient_address</th>\n",
       "    </tr>\n",
       "  </thead>\n",
       "  <tbody>\n",
       "    <tr>\n",
       "      <th>0</th>\n",
       "      <td>CHI-ROM-0019</td>\n",
       "      <td>2020-01-19</td>\n",
       "      <td>Chicago</td>\n",
       "      <td>Rome</td>\n",
       "      <td>Nymo</td>\n",
       "      <td>Thum</td>\n",
       "      <td>1978-03-30</td>\n",
       "      <td>Dina Anin</td>\n",
       "      <td>Thum</td>\n",
       "      <td>1978-03-30</td>\n",
       "      <td>2020-01-27</td>\n",
       "      <td>positive</td>\n",
       "      <td>House 401, Eagle Alley, London</td>\n",
       "    </tr>\n",
       "    <tr>\n",
       "      <th>1</th>\n",
       "      <td>CHI-TOK-0018</td>\n",
       "      <td>2020-01-18</td>\n",
       "      <td>Chicago</td>\n",
       "      <td>Tokyo</td>\n",
       "      <td>Dina</td>\n",
       "      <td>Thum</td>\n",
       "      <td>1978-03-30</td>\n",
       "      <td>Dina Anin</td>\n",
       "      <td>Thum</td>\n",
       "      <td>1978-03-30</td>\n",
       "      <td>2020-01-27</td>\n",
       "      <td>positive</td>\n",
       "      <td>House 401, Eagle Alley, London</td>\n",
       "    </tr>\n",
       "    <tr>\n",
       "      <th>2</th>\n",
       "      <td>TOK-LON-0024</td>\n",
       "      <td>2020-01-24</td>\n",
       "      <td>Tokyo</td>\n",
       "      <td>London</td>\n",
       "      <td>Dina</td>\n",
       "      <td>Thum</td>\n",
       "      <td>1978-03-30</td>\n",
       "      <td>Dina Anin</td>\n",
       "      <td>Thum</td>\n",
       "      <td>1978-03-30</td>\n",
       "      <td>2020-01-27</td>\n",
       "      <td>positive</td>\n",
       "      <td>House 401, Eagle Alley, London</td>\n",
       "    </tr>\n",
       "    <tr>\n",
       "      <th>3</th>\n",
       "      <td>PRE-ROM-0013</td>\n",
       "      <td>2020-01-13</td>\n",
       "      <td>Pretoria</td>\n",
       "      <td>Rome</td>\n",
       "      <td>WolmUlna</td>\n",
       "      <td>Fano</td>\n",
       "      <td>1996-12-13</td>\n",
       "      <td>Wolm</td>\n",
       "      <td>Fano</td>\n",
       "      <td>1996-12-13</td>\n",
       "      <td>2020-01-22</td>\n",
       "      <td>positive</td>\n",
       "      <td>House 255, Newton Corner, Pretoria</td>\n",
       "    </tr>\n",
       "    <tr>\n",
       "      <th>4</th>\n",
       "      <td>ROM-PRE-0020</td>\n",
       "      <td>2020-01-20</td>\n",
       "      <td>Rome</td>\n",
       "      <td>Pretoria</td>\n",
       "      <td>WolmUlna</td>\n",
       "      <td>Fano</td>\n",
       "      <td>1996-12-13</td>\n",
       "      <td>Wolm</td>\n",
       "      <td>Fano</td>\n",
       "      <td>1996-12-13</td>\n",
       "      <td>2020-01-22</td>\n",
       "      <td>positive</td>\n",
       "      <td>House 255, Newton Corner, Pretoria</td>\n",
       "    </tr>\n",
       "    <tr>\n",
       "      <th>...</th>\n",
       "      <td>...</td>\n",
       "      <td>...</td>\n",
       "      <td>...</td>\n",
       "      <td>...</td>\n",
       "      <td>...</td>\n",
       "      <td>...</td>\n",
       "      <td>...</td>\n",
       "      <td>...</td>\n",
       "      <td>...</td>\n",
       "      <td>...</td>\n",
       "      <td>...</td>\n",
       "      <td>...</td>\n",
       "      <td>...</td>\n",
       "    </tr>\n",
       "    <tr>\n",
       "      <th>1289</th>\n",
       "      <td>LON-SYD-0011</td>\n",
       "      <td>2020-01-11</td>\n",
       "      <td>London</td>\n",
       "      <td>Sydney</td>\n",
       "      <td>Nymo Linka</td>\n",
       "      <td>Kun</td>\n",
       "      <td>2005-06-15</td>\n",
       "      <td>Nymo Linka</td>\n",
       "      <td>Kun</td>\n",
       "      <td>2005-06-15</td>\n",
       "      <td>2020-01-07</td>\n",
       "      <td>positive</td>\n",
       "      <td>Flat 346, Moon Road, London</td>\n",
       "    </tr>\n",
       "    <tr>\n",
       "      <th>1290</th>\n",
       "      <td>SYD-ROM-0014</td>\n",
       "      <td>2020-01-14</td>\n",
       "      <td>Sydney</td>\n",
       "      <td>Rome</td>\n",
       "      <td>Nymo Linka</td>\n",
       "      <td>Kun</td>\n",
       "      <td>2005-06-15</td>\n",
       "      <td>Nymo Linka</td>\n",
       "      <td>Kun</td>\n",
       "      <td>2005-06-15</td>\n",
       "      <td>2020-01-07</td>\n",
       "      <td>positive</td>\n",
       "      <td>Flat 346, Moon Road, London</td>\n",
       "    </tr>\n",
       "    <tr>\n",
       "      <th>1291</th>\n",
       "      <td>BRA-TOK-0019</td>\n",
       "      <td>2020-01-19</td>\n",
       "      <td>Brasilia</td>\n",
       "      <td>Tokyo</td>\n",
       "      <td>WolmDapi</td>\n",
       "      <td>Simo</td>\n",
       "      <td>1990-11-06</td>\n",
       "      <td>Wolm Dapi</td>\n",
       "      <td>Simo</td>\n",
       "      <td>1990-11-06</td>\n",
       "      <td>2020-01-26</td>\n",
       "      <td>positive</td>\n",
       "      <td>Building 186, President Road, Tokyo</td>\n",
       "    </tr>\n",
       "    <tr>\n",
       "      <th>1292</th>\n",
       "      <td>BRA-LON-0014</td>\n",
       "      <td>2020-01-14</td>\n",
       "      <td>Brasilia</td>\n",
       "      <td>London</td>\n",
       "      <td>XaimEvi</td>\n",
       "      <td>Fink</td>\n",
       "      <td>1979-05-10</td>\n",
       "      <td>Xaim Evi</td>\n",
       "      <td>Fink</td>\n",
       "      <td>1979-05-10</td>\n",
       "      <td>2020-01-26</td>\n",
       "      <td>positive</td>\n",
       "      <td>House 70, Queen Alley, Brasilia</td>\n",
       "    </tr>\n",
       "    <tr>\n",
       "      <th>1293</th>\n",
       "      <td>LON-BRA-0017</td>\n",
       "      <td>2020-01-17</td>\n",
       "      <td>London</td>\n",
       "      <td>Brasilia</td>\n",
       "      <td>XaimEvi</td>\n",
       "      <td>Fink</td>\n",
       "      <td>1979-05-10</td>\n",
       "      <td>Xaim Evi</td>\n",
       "      <td>Fink</td>\n",
       "      <td>1979-05-10</td>\n",
       "      <td>2020-01-26</td>\n",
       "      <td>positive</td>\n",
       "      <td>House 70, Queen Alley, Brasilia</td>\n",
       "    </tr>\n",
       "  </tbody>\n",
       "</table>\n",
       "<p>1294 rows × 13 columns</p>\n",
       "</div>"
      ],
      "text/plain": [
       "     l_flight_number l_flight_date l_flight_from l_flight_to  \\\n",
       "0       CHI-ROM-0019    2020-01-19       Chicago        Rome   \n",
       "1       CHI-TOK-0018    2020-01-18       Chicago       Tokyo   \n",
       "2       TOK-LON-0024    2020-01-24         Tokyo      London   \n",
       "3       PRE-ROM-0013    2020-01-13      Pretoria        Rome   \n",
       "4       ROM-PRE-0020    2020-01-20          Rome    Pretoria   \n",
       "...              ...           ...           ...         ...   \n",
       "1289    LON-SYD-0011    2020-01-11        London      Sydney   \n",
       "1290    SYD-ROM-0014    2020-01-14        Sydney        Rome   \n",
       "1291    BRA-TOK-0019    2020-01-19      Brasilia       Tokyo   \n",
       "1292    BRA-LON-0014    2020-01-14      Brasilia      London   \n",
       "1293    LON-BRA-0017    2020-01-17        London    Brasilia   \n",
       "\n",
       "     l_passenger_firstname l_passenger_lastname l_passenger_date_of_birth  \\\n",
       "0                     Nymo                 Thum                1978-03-30   \n",
       "1                     Dina                 Thum                1978-03-30   \n",
       "2                     Dina                 Thum                1978-03-30   \n",
       "3                 WolmUlna                 Fano                1996-12-13   \n",
       "4                 WolmUlna                 Fano                1996-12-13   \n",
       "...                    ...                  ...                       ...   \n",
       "1289            Nymo Linka                  Kun                2005-06-15   \n",
       "1290            Nymo Linka                  Kun                2005-06-15   \n",
       "1291              WolmDapi                 Simo                1990-11-06   \n",
       "1292               XaimEvi                 Fink                1979-05-10   \n",
       "1293               XaimEvi                 Fink                1979-05-10   \n",
       "\n",
       "     r_patient_firstname r_patient_lastname r_patient_date_of_birth  \\\n",
       "0              Dina Anin               Thum              1978-03-30   \n",
       "1              Dina Anin               Thum              1978-03-30   \n",
       "2              Dina Anin               Thum              1978-03-30   \n",
       "3                   Wolm               Fano              1996-12-13   \n",
       "4                   Wolm               Fano              1996-12-13   \n",
       "...                  ...                ...                     ...   \n",
       "1289          Nymo Linka                Kun              2005-06-15   \n",
       "1290          Nymo Linka                Kun              2005-06-15   \n",
       "1291           Wolm Dapi               Simo              1990-11-06   \n",
       "1292            Xaim Evi               Fink              1979-05-10   \n",
       "1293            Xaim Evi               Fink              1979-05-10   \n",
       "\n",
       "     r_covidtest_date r_covidtest_result                    r_patient_address  \n",
       "0          2020-01-27           positive       House 401, Eagle Alley, London  \n",
       "1          2020-01-27           positive       House 401, Eagle Alley, London  \n",
       "2          2020-01-27           positive       House 401, Eagle Alley, London  \n",
       "3          2020-01-22           positive   House 255, Newton Corner, Pretoria  \n",
       "4          2020-01-22           positive   House 255, Newton Corner, Pretoria  \n",
       "...               ...                ...                                  ...  \n",
       "1289       2020-01-07           positive          Flat 346, Moon Road, London  \n",
       "1290       2020-01-07           positive          Flat 346, Moon Road, London  \n",
       "1291       2020-01-26           positive  Building 186, President Road, Tokyo  \n",
       "1292       2020-01-26           positive      House 70, Queen Alley, Brasilia  \n",
       "1293       2020-01-26           positive      House 70, Queen Alley, Brasilia  \n",
       "\n",
       "[1294 rows x 13 columns]"
      ]
     },
     "execution_count": 153,
     "metadata": {},
     "output_type": "execute_result"
    }
   ],
   "source": [
    "# Sample visualization of how the linked_dataframe internally looks."
   ]
  },
  {
   "cell_type": "code",
   "execution_count": 35,
   "metadata": {
    "ExecuteTime": {
     "end_time": "2023-10-01T13:38:45.962038Z",
     "start_time": "2023-10-01T13:38:45.958365Z"
    },
    "collapsed": false
   },
   "outputs": [
    {
     "name": "stdout",
     "output_type": "stream",
     "text": [
      "score: {'leaderboard': 0.9318478284190648, 'logs': {'LIN_EPS': -0.002, 'MCC': 0.9338478284190648}}\n",
      "\n"
     ]
    }
   ],
   "source": [
    "%%ag\n",
    "# Submitting the column containing the filtered set of airlines we should report regarding a covid passenger.\n",
    "res = linked_df[[\"l_flight_number\"]]\n",
    "x = submit_predictions(res)"
   ]
  },
  {
   "cell_type": "code",
   "execution_count": null,
   "metadata": {
    "collapsed": false
   },
   "outputs": [],
   "source": []
  }
 ],
 "metadata": {
  "kernelspec": {
   "display_name": "Python 3",
   "language": "python",
   "name": "python3"
  },
  "language_info": {
   "codemirror_mode": {
    "name": "ipython",
    "version": 3
   },
   "file_extension": ".py",
   "mimetype": "text/x-python",
   "name": "python",
   "nbconvert_exporter": "python",
   "pygments_lexer": "ipython3",
   "version": "3.9.7"
  }
 },
 "nbformat": 4,
 "nbformat_minor": 0
}
