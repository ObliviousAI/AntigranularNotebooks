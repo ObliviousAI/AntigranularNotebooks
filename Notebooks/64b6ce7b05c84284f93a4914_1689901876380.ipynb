{
  "nbformat": 4,
  "nbformat_minor": 0,
  "metadata": {
    "colab": {
      "provenance": []
    },
    "kernelspec": {
      "name": "python3",
      "display_name": "Python 3"
    },
    "language_info": {
      "name": "python"
    }
  },
  "cells": [
    {
      "cell_type": "code",
      "execution_count": 1,
      "metadata": {
        "colab": {
          "base_uri": "https://localhost:8080/"
        },
        "id": "UTqrt-SknDOO",
        "outputId": "833148ce-813b-4999-8e0c-aa608e7021ad"
      },
      "outputs": [
        {
          "output_type": "stream",
          "name": "stdout",
          "text": [
            "Requirement already satisfied: antigranular in /usr/local/lib/python3.10/dist-packages (0.2.4)\n",
            "Requirement already satisfied: diffprivlib<0.7.0,>=0.6.2 in /usr/local/lib/python3.10/dist-packages (from antigranular) (0.6.3)\n",
            "Requirement already satisfied: ipython<8.0.0,>=7.34.0 in /usr/local/lib/python3.10/dist-packages (from antigranular) (7.34.0)\n",
            "Requirement already satisfied: oblv-client<0.2.0,>=0.1.15 in /usr/local/lib/python3.10/dist-packages (from antigranular) (0.1.15)\n",
            "Requirement already satisfied: pandas<2.0.0,>=1.5.3 in /usr/local/lib/python3.10/dist-packages (from antigranular) (1.5.3)\n",
            "Requirement already satisfied: pydantic<2.0.0,>=1.10.7 in /usr/local/lib/python3.10/dist-packages (from antigranular) (1.10.11)\n",
            "Requirement already satisfied: requests==2.27.1 in /usr/local/lib/python3.10/dist-packages (from antigranular) (2.27.1)\n",
            "Requirement already satisfied: urllib3<1.27,>=1.21.1 in /usr/local/lib/python3.10/dist-packages (from requests==2.27.1->antigranular) (1.26.16)\n",
            "Requirement already satisfied: certifi>=2017.4.17 in /usr/local/lib/python3.10/dist-packages (from requests==2.27.1->antigranular) (2023.5.7)\n",
            "Requirement already satisfied: charset-normalizer~=2.0.0 in /usr/local/lib/python3.10/dist-packages (from requests==2.27.1->antigranular) (2.0.12)\n",
            "Requirement already satisfied: idna<4,>=2.5 in /usr/local/lib/python3.10/dist-packages (from requests==2.27.1->antigranular) (3.4)\n",
            "Requirement already satisfied: numpy>=1.21.6 in /usr/local/lib/python3.10/dist-packages (from diffprivlib<0.7.0,>=0.6.2->antigranular) (1.22.4)\n",
            "Requirement already satisfied: scikit-learn>=0.24.2 in /usr/local/lib/python3.10/dist-packages (from diffprivlib<0.7.0,>=0.6.2->antigranular) (1.2.2)\n",
            "Requirement already satisfied: scipy>=1.7.3 in /usr/local/lib/python3.10/dist-packages (from diffprivlib<0.7.0,>=0.6.2->antigranular) (1.10.1)\n",
            "Requirement already satisfied: joblib>=0.16.0 in /usr/local/lib/python3.10/dist-packages (from diffprivlib<0.7.0,>=0.6.2->antigranular) (1.3.1)\n",
            "Requirement already satisfied: setuptools>=49.0.0 in /usr/local/lib/python3.10/dist-packages (from diffprivlib<0.7.0,>=0.6.2->antigranular) (67.7.2)\n",
            "Requirement already satisfied: jedi>=0.16 in /usr/local/lib/python3.10/dist-packages (from ipython<8.0.0,>=7.34.0->antigranular) (0.18.2)\n",
            "Requirement already satisfied: decorator in /usr/local/lib/python3.10/dist-packages (from ipython<8.0.0,>=7.34.0->antigranular) (4.4.2)\n",
            "Requirement already satisfied: pickleshare in /usr/local/lib/python3.10/dist-packages (from ipython<8.0.0,>=7.34.0->antigranular) (0.7.5)\n",
            "Requirement already satisfied: traitlets>=4.2 in /usr/local/lib/python3.10/dist-packages (from ipython<8.0.0,>=7.34.0->antigranular) (5.7.1)\n",
            "Requirement already satisfied: prompt-toolkit!=3.0.0,!=3.0.1,<3.1.0,>=2.0.0 in /usr/local/lib/python3.10/dist-packages (from ipython<8.0.0,>=7.34.0->antigranular) (3.0.39)\n",
            "Requirement already satisfied: pygments in /usr/local/lib/python3.10/dist-packages (from ipython<8.0.0,>=7.34.0->antigranular) (2.14.0)\n",
            "Requirement already satisfied: backcall in /usr/local/lib/python3.10/dist-packages (from ipython<8.0.0,>=7.34.0->antigranular) (0.2.0)\n",
            "Requirement already satisfied: matplotlib-inline in /usr/local/lib/python3.10/dist-packages (from ipython<8.0.0,>=7.34.0->antigranular) (0.1.6)\n",
            "Requirement already satisfied: pexpect>4.3 in /usr/local/lib/python3.10/dist-packages (from ipython<8.0.0,>=7.34.0->antigranular) (4.8.0)\n",
            "Requirement already satisfied: python-dateutil>=2.8.1 in /usr/local/lib/python3.10/dist-packages (from pandas<2.0.0,>=1.5.3->antigranular) (2.8.2)\n",
            "Requirement already satisfied: pytz>=2020.1 in /usr/local/lib/python3.10/dist-packages (from pandas<2.0.0,>=1.5.3->antigranular) (2022.7.1)\n",
            "Requirement already satisfied: typing-extensions>=4.2.0 in /usr/local/lib/python3.10/dist-packages (from pydantic<2.0.0,>=1.10.7->antigranular) (4.7.1)\n",
            "Requirement already satisfied: parso<0.9.0,>=0.8.0 in /usr/local/lib/python3.10/dist-packages (from jedi>=0.16->ipython<8.0.0,>=7.34.0->antigranular) (0.8.3)\n",
            "Requirement already satisfied: ptyprocess>=0.5 in /usr/local/lib/python3.10/dist-packages (from pexpect>4.3->ipython<8.0.0,>=7.34.0->antigranular) (0.7.0)\n",
            "Requirement already satisfied: wcwidth in /usr/local/lib/python3.10/dist-packages (from prompt-toolkit!=3.0.0,!=3.0.1,<3.1.0,>=2.0.0->ipython<8.0.0,>=7.34.0->antigranular) (0.2.6)\n",
            "Requirement already satisfied: six>=1.5 in /usr/local/lib/python3.10/dist-packages (from python-dateutil>=2.8.1->pandas<2.0.0,>=1.5.3->antigranular) (1.16.0)\n",
            "Requirement already satisfied: threadpoolctl>=2.0.0 in /usr/local/lib/python3.10/dist-packages (from scikit-learn>=0.24.2->diffprivlib<0.7.0,>=0.6.2->antigranular) (3.1.0)\n"
          ]
        }
      ],
      "source": [
        "!pip install antigranular"
      ]
    },
    {
      "cell_type": "code",
      "source": [
        "import antigranular as ag\n",
        "session = ag.login(<client_id>,<client_secret>, dataset = \"Car Evaluation\")"
      ],
      "metadata": {
        "colab": {
          "base_uri": "https://localhost:8080/"
        },
        "id": "Wm-CEIH3nQMJ",
        "outputId": "350b849c-08ae-4795-e4bf-89c7cf232a26"
      },
      "execution_count": 2,
      "outputs": [
        {
          "output_type": "stream",
          "name": "stdout",
          "text": [
            "Connected to Antigranular server session id: 14b3b0e1-a3a5-4d8b-bd2d-a3548d4db90f\n",
            "Cell magic '%%ag' registered successfully, use `%%ag` in a notebook cell to execute your python code on Antigranular private python server\n"
          ]
        }
      ]
    },
    {
      "cell_type": "markdown",
      "source": [
        "### Loading the dataset"
      ],
      "metadata": {
        "id": "ZCVWiXiR7JcR"
      }
    },
    {
      "cell_type": "code",
      "source": [
        "%%ag\n",
        "\n",
        "from op_pandas import PrivateDataFrame , PrivateSeries\n",
        "from ag_utils import load_dataset\n",
        "\n",
        "# Obtaining the dictionary containing private objects\n",
        "response = load_dataset(\"Car Evaluation\")\n",
        "\n",
        "# Unpacking the response dictionary\n",
        "train_x = response[\"train_x\"]\n",
        "train_y = response[\"train_y\"]\n",
        "test_x = response[\"test_x\"]"
      ],
      "metadata": {
        "id": "uHN0830fnZ7s"
      },
      "execution_count": 3,
      "outputs": []
    },
    {
      "cell_type": "markdown",
      "source": [
        "### Encoding the categories"
      ],
      "metadata": {
        "id": "ka40dAvst8Zh"
      }
    },
    {
      "cell_type": "code",
      "source": [
        "%%ag\n",
        "def fun(x):\n",
        "  arr = ['vhigh','high','med','low']\n",
        "  for i in range(len(arr)):\n",
        "    if arr[i] == x:\n",
        "      return i\n",
        "\n",
        "train_x['buying'] = train_x['buying'].map(fun, output_bounds = (0,3))\n",
        "train_x['maint'] = train_x['maint'].map(fun, output_bounds = (0,3))\n",
        "\n",
        "test_x['buying'] = test_x['buying'].map(fun)\n",
        "test_x['maint'] = test_x['maint'].map(fun)"
      ],
      "metadata": {
        "id": "QFROl5LMney6"
      },
      "execution_count": 4,
      "outputs": []
    },
    {
      "cell_type": "code",
      "source": [
        "%%ag\n",
        "def fun(x):\n",
        "  arr = ['2','3','4','5more']\n",
        "  for i in range(len(arr)):\n",
        "    if arr[i] == x:\n",
        "      return i\n",
        "\n",
        "train_x['doors'] = train_x['doors'].map(fun, output_bounds = (0,3))\n",
        "\n",
        "test_x['doors'] = test_x['doors'].map(fun)"
      ],
      "metadata": {
        "id": "Tlg9pi1NqtbK"
      },
      "execution_count": 5,
      "outputs": []
    },
    {
      "cell_type": "code",
      "source": [
        "%%ag\n",
        "def fun(x):\n",
        "  arr = ['2','4','more']\n",
        "  for i in range(len(arr)):\n",
        "    if arr[i] == x:\n",
        "      return i\n",
        "\n",
        "train_x['persons'] = train_x['persons'].map(fun, output_bounds = (0,2))\n",
        "\n",
        "test_x['persons'] = test_x['persons'].map(fun)"
      ],
      "metadata": {
        "id": "IrHSLHNoyRQH"
      },
      "execution_count": 6,
      "outputs": []
    },
    {
      "cell_type": "code",
      "source": [
        "%%ag\n",
        "def fun(x):\n",
        "  arr = ['small','med','big']\n",
        "  for i in range(len(arr)):\n",
        "    if arr[i] == x:\n",
        "      return i\n",
        "\n",
        "train_x['lug_boot'] = train_x['lug_boot'].map(fun, output_bounds = (0,2))\n",
        "\n",
        "test_x['lug_boot'] = test_x['lug_boot'].map(fun)"
      ],
      "metadata": {
        "id": "ZNXsgBEHyjdh"
      },
      "execution_count": 7,
      "outputs": []
    },
    {
      "cell_type": "code",
      "source": [
        "%%ag\n",
        "def fun(x):\n",
        "  arr = ['low','med','high']\n",
        "  for i in range(len(arr)):\n",
        "    if arr[i] == x:\n",
        "      return i\n",
        "\n",
        "train_x['safety'] = train_x['safety'].map(fun, output_bounds = (0,2))\n",
        "\n",
        "test_x['safety'] = test_x['safety'].map(fun)"
      ],
      "metadata": {
        "id": "k9BUjQjAzZCg"
      },
      "execution_count": 8,
      "outputs": []
    },
    {
      "cell_type": "markdown",
      "source": [
        "### Describe"
      ],
      "metadata": {
        "id": "w99CNyu37NLJ"
      }
    },
    {
      "cell_type": "code",
      "source": [
        "%%ag\n",
        "from ag_utils import export\n",
        "export(train_x.describe(eps=1), 'describe')"
      ],
      "metadata": {
        "colab": {
          "base_uri": "https://localhost:8080/"
        },
        "id": "CSyCEiigvG1m",
        "outputId": "03a63a81-bec2-4230-f667-ccc8f83a0dd8"
      },
      "execution_count": 9,
      "outputs": [
        {
          "output_type": "stream",
          "name": "stdout",
          "text": [
            "Total epsilon spent = 1.0000\n",
            "\n",
            "Setting up exported variable in local environment: describe\n"
          ]
        }
      ]
    },
    {
      "cell_type": "code",
      "source": [
        "describe"
      ],
      "metadata": {
        "colab": {
          "base_uri": "https://localhost:8080/",
          "height": 300
        },
        "id": "9TeLHogbyOjY",
        "outputId": "58a98deb-de41-4fbc-e751-21eca464f101"
      },
      "execution_count": 10,
      "outputs": [
        {
          "output_type": "execute_result",
          "data": {
            "text/plain": [
              "            buying        maint        doors      persons     lug_boot  \\\n",
              "count  1345.000000  1345.000000  1345.000000  1345.000000  1345.000000   \n",
              "mean      1.523040     1.538574     1.562430     1.181534     0.871113   \n",
              "std       1.364976     1.393181     0.362956     0.262635     0.701924   \n",
              "min       0.232517     0.467182     0.443814     0.383916     0.488454   \n",
              "25%       0.140545     0.651546     0.905304     0.188176     0.723930   \n",
              "50%       1.941969     1.909901     1.134066     1.942191     0.023650   \n",
              "75%       2.286090     2.745749     2.632030     1.932848     1.995699   \n",
              "max       2.839239     2.269671     2.590038     1.021235     1.238869   \n",
              "\n",
              "            safety  \n",
              "count  1345.000000  \n",
              "mean      0.929916  \n",
              "std       0.908569  \n",
              "min       0.387402  \n",
              "25%       0.880495  \n",
              "50%       0.209483  \n",
              "75%       1.383640  \n",
              "max       1.259505  "
            ],
            "text/html": [
              "\n",
              "\n",
              "  <div id=\"df-134fa498-79db-479a-8d47-5a46d5f7ee1f\">\n",
              "    <div class=\"colab-df-container\">\n",
              "      <div>\n",
              "<style scoped>\n",
              "    .dataframe tbody tr th:only-of-type {\n",
              "        vertical-align: middle;\n",
              "    }\n",
              "\n",
              "    .dataframe tbody tr th {\n",
              "        vertical-align: top;\n",
              "    }\n",
              "\n",
              "    .dataframe thead th {\n",
              "        text-align: right;\n",
              "    }\n",
              "</style>\n",
              "<table border=\"1\" class=\"dataframe\">\n",
              "  <thead>\n",
              "    <tr style=\"text-align: right;\">\n",
              "      <th></th>\n",
              "      <th>buying</th>\n",
              "      <th>maint</th>\n",
              "      <th>doors</th>\n",
              "      <th>persons</th>\n",
              "      <th>lug_boot</th>\n",
              "      <th>safety</th>\n",
              "    </tr>\n",
              "  </thead>\n",
              "  <tbody>\n",
              "    <tr>\n",
              "      <th>count</th>\n",
              "      <td>1345.000000</td>\n",
              "      <td>1345.000000</td>\n",
              "      <td>1345.000000</td>\n",
              "      <td>1345.000000</td>\n",
              "      <td>1345.000000</td>\n",
              "      <td>1345.000000</td>\n",
              "    </tr>\n",
              "    <tr>\n",
              "      <th>mean</th>\n",
              "      <td>1.523040</td>\n",
              "      <td>1.538574</td>\n",
              "      <td>1.562430</td>\n",
              "      <td>1.181534</td>\n",
              "      <td>0.871113</td>\n",
              "      <td>0.929916</td>\n",
              "    </tr>\n",
              "    <tr>\n",
              "      <th>std</th>\n",
              "      <td>1.364976</td>\n",
              "      <td>1.393181</td>\n",
              "      <td>0.362956</td>\n",
              "      <td>0.262635</td>\n",
              "      <td>0.701924</td>\n",
              "      <td>0.908569</td>\n",
              "    </tr>\n",
              "    <tr>\n",
              "      <th>min</th>\n",
              "      <td>0.232517</td>\n",
              "      <td>0.467182</td>\n",
              "      <td>0.443814</td>\n",
              "      <td>0.383916</td>\n",
              "      <td>0.488454</td>\n",
              "      <td>0.387402</td>\n",
              "    </tr>\n",
              "    <tr>\n",
              "      <th>25%</th>\n",
              "      <td>0.140545</td>\n",
              "      <td>0.651546</td>\n",
              "      <td>0.905304</td>\n",
              "      <td>0.188176</td>\n",
              "      <td>0.723930</td>\n",
              "      <td>0.880495</td>\n",
              "    </tr>\n",
              "    <tr>\n",
              "      <th>50%</th>\n",
              "      <td>1.941969</td>\n",
              "      <td>1.909901</td>\n",
              "      <td>1.134066</td>\n",
              "      <td>1.942191</td>\n",
              "      <td>0.023650</td>\n",
              "      <td>0.209483</td>\n",
              "    </tr>\n",
              "    <tr>\n",
              "      <th>75%</th>\n",
              "      <td>2.286090</td>\n",
              "      <td>2.745749</td>\n",
              "      <td>2.632030</td>\n",
              "      <td>1.932848</td>\n",
              "      <td>1.995699</td>\n",
              "      <td>1.383640</td>\n",
              "    </tr>\n",
              "    <tr>\n",
              "      <th>max</th>\n",
              "      <td>2.839239</td>\n",
              "      <td>2.269671</td>\n",
              "      <td>2.590038</td>\n",
              "      <td>1.021235</td>\n",
              "      <td>1.238869</td>\n",
              "      <td>1.259505</td>\n",
              "    </tr>\n",
              "  </tbody>\n",
              "</table>\n",
              "</div>\n",
              "      <button class=\"colab-df-convert\" onclick=\"convertToInteractive('df-134fa498-79db-479a-8d47-5a46d5f7ee1f')\"\n",
              "              title=\"Convert this dataframe to an interactive table.\"\n",
              "              style=\"display:none;\">\n",
              "\n",
              "  <svg xmlns=\"http://www.w3.org/2000/svg\" height=\"24px\"viewBox=\"0 0 24 24\"\n",
              "       width=\"24px\">\n",
              "    <path d=\"M0 0h24v24H0V0z\" fill=\"none\"/>\n",
              "    <path d=\"M18.56 5.44l.94 2.06.94-2.06 2.06-.94-2.06-.94-.94-2.06-.94 2.06-2.06.94zm-11 1L8.5 8.5l.94-2.06 2.06-.94-2.06-.94L8.5 2.5l-.94 2.06-2.06.94zm10 10l.94 2.06.94-2.06 2.06-.94-2.06-.94-.94-2.06-.94 2.06-2.06.94z\"/><path d=\"M17.41 7.96l-1.37-1.37c-.4-.4-.92-.59-1.43-.59-.52 0-1.04.2-1.43.59L10.3 9.45l-7.72 7.72c-.78.78-.78 2.05 0 2.83L4 21.41c.39.39.9.59 1.41.59.51 0 1.02-.2 1.41-.59l7.78-7.78 2.81-2.81c.8-.78.8-2.07 0-2.86zM5.41 20L4 18.59l7.72-7.72 1.47 1.35L5.41 20z\"/>\n",
              "  </svg>\n",
              "      </button>\n",
              "\n",
              "\n",
              "\n",
              "    <div id=\"df-5fa6045e-9106-4123-b51f-72e8253b314c\">\n",
              "      <button class=\"colab-df-quickchart\" onclick=\"quickchart('df-5fa6045e-9106-4123-b51f-72e8253b314c')\"\n",
              "              title=\"Suggest charts.\"\n",
              "              style=\"display:none;\">\n",
              "\n",
              "<svg xmlns=\"http://www.w3.org/2000/svg\" height=\"24px\"viewBox=\"0 0 24 24\"\n",
              "     width=\"24px\">\n",
              "    <g>\n",
              "        <path d=\"M19 3H5c-1.1 0-2 .9-2 2v14c0 1.1.9 2 2 2h14c1.1 0 2-.9 2-2V5c0-1.1-.9-2-2-2zM9 17H7v-7h2v7zm4 0h-2V7h2v10zm4 0h-2v-4h2v4z\"/>\n",
              "    </g>\n",
              "</svg>\n",
              "      </button>\n",
              "    </div>\n",
              "\n",
              "<style>\n",
              "  .colab-df-quickchart {\n",
              "    background-color: #E8F0FE;\n",
              "    border: none;\n",
              "    border-radius: 50%;\n",
              "    cursor: pointer;\n",
              "    display: none;\n",
              "    fill: #1967D2;\n",
              "    height: 32px;\n",
              "    padding: 0 0 0 0;\n",
              "    width: 32px;\n",
              "  }\n",
              "\n",
              "  .colab-df-quickchart:hover {\n",
              "    background-color: #E2EBFA;\n",
              "    box-shadow: 0px 1px 2px rgba(60, 64, 67, 0.3), 0px 1px 3px 1px rgba(60, 64, 67, 0.15);\n",
              "    fill: #174EA6;\n",
              "  }\n",
              "\n",
              "  [theme=dark] .colab-df-quickchart {\n",
              "    background-color: #3B4455;\n",
              "    fill: #D2E3FC;\n",
              "  }\n",
              "\n",
              "  [theme=dark] .colab-df-quickchart:hover {\n",
              "    background-color: #434B5C;\n",
              "    box-shadow: 0px 1px 3px 1px rgba(0, 0, 0, 0.15);\n",
              "    filter: drop-shadow(0px 1px 2px rgba(0, 0, 0, 0.3));\n",
              "    fill: #FFFFFF;\n",
              "  }\n",
              "</style>\n",
              "\n",
              "    <script>\n",
              "      async function quickchart(key) {\n",
              "        const containerElement = document.querySelector('#' + key);\n",
              "        const charts = await google.colab.kernel.invokeFunction(\n",
              "            'suggestCharts', [key], {});\n",
              "      }\n",
              "    </script>\n",
              "\n",
              "      <script>\n",
              "\n",
              "function displayQuickchartButton(domScope) {\n",
              "  let quickchartButtonEl =\n",
              "    domScope.querySelector('#df-5fa6045e-9106-4123-b51f-72e8253b314c button.colab-df-quickchart');\n",
              "  quickchartButtonEl.style.display =\n",
              "    google.colab.kernel.accessAllowed ? 'block' : 'none';\n",
              "}\n",
              "\n",
              "        displayQuickchartButton(document);\n",
              "      </script>\n",
              "      <style>\n",
              "    .colab-df-container {\n",
              "      display:flex;\n",
              "      flex-wrap:wrap;\n",
              "      gap: 12px;\n",
              "    }\n",
              "\n",
              "    .colab-df-convert {\n",
              "      background-color: #E8F0FE;\n",
              "      border: none;\n",
              "      border-radius: 50%;\n",
              "      cursor: pointer;\n",
              "      display: none;\n",
              "      fill: #1967D2;\n",
              "      height: 32px;\n",
              "      padding: 0 0 0 0;\n",
              "      width: 32px;\n",
              "    }\n",
              "\n",
              "    .colab-df-convert:hover {\n",
              "      background-color: #E2EBFA;\n",
              "      box-shadow: 0px 1px 2px rgba(60, 64, 67, 0.3), 0px 1px 3px 1px rgba(60, 64, 67, 0.15);\n",
              "      fill: #174EA6;\n",
              "    }\n",
              "\n",
              "    [theme=dark] .colab-df-convert {\n",
              "      background-color: #3B4455;\n",
              "      fill: #D2E3FC;\n",
              "    }\n",
              "\n",
              "    [theme=dark] .colab-df-convert:hover {\n",
              "      background-color: #434B5C;\n",
              "      box-shadow: 0px 1px 3px 1px rgba(0, 0, 0, 0.15);\n",
              "      filter: drop-shadow(0px 1px 2px rgba(0, 0, 0, 0.3));\n",
              "      fill: #FFFFFF;\n",
              "    }\n",
              "  </style>\n",
              "\n",
              "      <script>\n",
              "        const buttonEl =\n",
              "          document.querySelector('#df-134fa498-79db-479a-8d47-5a46d5f7ee1f button.colab-df-convert');\n",
              "        buttonEl.style.display =\n",
              "          google.colab.kernel.accessAllowed ? 'block' : 'none';\n",
              "\n",
              "        async function convertToInteractive(key) {\n",
              "          const element = document.querySelector('#df-134fa498-79db-479a-8d47-5a46d5f7ee1f');\n",
              "          const dataTable =\n",
              "            await google.colab.kernel.invokeFunction('convertToInteractive',\n",
              "                                                     [key], {});\n",
              "          if (!dataTable) return;\n",
              "\n",
              "          const docLinkHtml = 'Like what you see? Visit the ' +\n",
              "            '<a target=\"_blank\" href=https://colab.research.google.com/notebooks/data_table.ipynb>data table notebook</a>'\n",
              "            + ' to learn more about interactive tables.';\n",
              "          element.innerHTML = '';\n",
              "          dataTable['output_type'] = 'display_data';\n",
              "          await google.colab.output.renderOutput(dataTable, element);\n",
              "          const docLink = document.createElement('div');\n",
              "          docLink.innerHTML = docLinkHtml;\n",
              "          element.appendChild(docLink);\n",
              "        }\n",
              "      </script>\n",
              "    </div>\n",
              "  </div>\n"
            ]
          },
          "metadata": {},
          "execution_count": 10
        }
      ]
    },
    {
      "cell_type": "code",
      "source": [
        "%%ag\n",
        "meta = train_x.metadata\n",
        "export(meta, \"metadata\")"
      ],
      "metadata": {
        "colab": {
          "base_uri": "https://localhost:8080/"
        },
        "id": "BJxgROml1Y7x",
        "outputId": "eebd5dc4-47e9-4782-86dd-fefc03d683dd"
      },
      "execution_count": 11,
      "outputs": [
        {
          "output_type": "stream",
          "name": "stdout",
          "text": [
            "Setting up exported variable in local environment: metadata\n"
          ]
        }
      ]
    },
    {
      "cell_type": "code",
      "source": [
        "metadata"
      ],
      "metadata": {
        "colab": {
          "base_uri": "https://localhost:8080/"
        },
        "id": "ELaNJ0KB2scL",
        "outputId": "ba05c0a7-5ba2-4139-c175-acfa44d88848"
      },
      "execution_count": 12,
      "outputs": [
        {
          "output_type": "execute_result",
          "data": {
            "text/plain": [
              "{'buying': (0, 3),\n",
              " 'maint': (0, 3),\n",
              " 'doors': (0, 3),\n",
              " 'persons': (0, 2),\n",
              " 'lug_boot': (0, 2),\n",
              " 'safety': (0, 2)}"
            ]
          },
          "metadata": {},
          "execution_count": 12
        }
      ]
    },
    {
      "cell_type": "markdown",
      "source": [
        "### Random Forest Classifier"
      ],
      "metadata": {
        "id": "e4T0TynR7ZmW"
      }
    },
    {
      "cell_type": "code",
      "source": [
        "%%ag\n",
        "from op_diffprivlib.models import RandomForestClassifier\n",
        "\n",
        "# creating the bounds for the RandomForest\n",
        "l_meta, r_meta = [], []\n",
        "for l,r in meta.values():\n",
        "  l_meta.append(l)\n",
        "  r_meta.append(r)"
      ],
      "metadata": {
        "id": "gKrrXQy52tD1"
      },
      "execution_count": 13,
      "outputs": []
    },
    {
      "cell_type": "code",
      "source": [
        "%%ag\n",
        "# fitting the classifier\n",
        "random_forest = RandomForestClassifier(n_estimators = 100, epsilon = 6, bounds = (l_meta, r_meta), classes = ['unacc','acc','good','vgood'])\n",
        "random_forest.fit(train_x, train_y)"
      ],
      "metadata": {
        "colab": {
          "base_uri": "https://localhost:8080/"
        },
        "id": "UBxUVXON34R2",
        "outputId": "1baa8a85-1260-4adf-f392-6d79b55df923"
      },
      "execution_count": 14,
      "outputs": [
        {
          "output_type": "stream",
          "name": "stderr",
          "text": [
            "/usr/local/lib/python3.10/site-packages/sklearn/utils/validation.py:1184: DataConversionWarning: A column-vector y was passed when a 1d array was expected. Please change the shape of y to (n_samples, ), for example using ravel().\n",
            "  y = column_or_1d(y, warn=True)\n",
            "\n"
          ]
        }
      ]
    },
    {
      "cell_type": "code",
      "source": [
        "%%ag\n",
        "# prediction\n",
        "pred = random_forest.predict(test_x)\n",
        "export(pred, \"pred\")"
      ],
      "metadata": {
        "colab": {
          "base_uri": "https://localhost:8080/"
        },
        "id": "J8hvRkeN5AeD",
        "outputId": "f1b36cd0-3f17-4195-e81a-2d32d632bda4"
      },
      "execution_count": 15,
      "outputs": [
        {
          "output_type": "stream",
          "name": "stdout",
          "text": [
            "Setting up exported variable in local environment: pred\n"
          ]
        }
      ]
    },
    {
      "cell_type": "code",
      "source": [
        "import pandas as pd\n",
        "# checking the metrics\n",
        "y_df = pd.DataFrame(pred)\n",
        "result = session.submit_predictions(y_df)\n",
        "print(result)"
      ],
      "metadata": {
        "colab": {
          "base_uri": "https://localhost:8080/"
        },
        "id": "2ukfLvYB52Ol",
        "outputId": "a3a2c3e3-a181-45e9-fc24-bde492336a54"
      },
      "execution_count": 16,
      "outputs": [
        {
          "output_type": "stream",
          "name": "stdout",
          "text": [
            "{'score': {'leaderboard': 0.23099661905938396, 'logs': {'BIN_ACC': 0.23099661905938396}}}\n"
          ]
        }
      ]
    },
    {
      "cell_type": "code",
      "source": [
        "# Privacy budget spent\n",
        "session.privacy_odometer()"
      ],
      "metadata": {
        "colab": {
          "base_uri": "https://localhost:8080/"
        },
        "id": "KhE1HKDJ7xWJ",
        "outputId": "dd27ac6a-01e5-406e-b07f-d637af1071bc"
      },
      "execution_count": 17,
      "outputs": [
        {
          "output_type": "execute_result",
          "data": {
            "text/plain": [
              "{'total_epsilon_used': 7.000000000000001, 'total_delta_used': 0.0}"
            ]
          },
          "metadata": {},
          "execution_count": 17
        }
      ]
    },
    {
      "cell_type": "code",
      "source": [],
      "metadata": {
        "id": "3T1K_qZh_Ea9"
      },
      "execution_count": 17,
      "outputs": []
    }
  ]
}