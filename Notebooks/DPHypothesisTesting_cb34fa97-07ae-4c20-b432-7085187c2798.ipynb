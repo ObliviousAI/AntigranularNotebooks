{
 "cells": [
  {
   "cell_type": "markdown",
   "metadata": {
    "id": "NCS3kQa1XmCm"
   },
   "source": [
    "# Hypothesis Testing with Antigranular: How to Unveil the Unknown Without Seeing the Data 🕵️‍♀️\n",
    "\n",
    "This notebook aims to demonstrate effective ways in which you can explore unseen data within the Antigranular platform with hypothesis testing. 🧠\n",
    "\n",
    "### What's in a Hypothesis? 🤔\n",
    "When analysing data in a privacy-preserving way, it can feel like exploring a dark room with a flashlight. Antigranular represents your flashlight, a critical tool that allows you to make educated guesses or hypotheses with the information you have, without seeing the full picture.\n",
    "\n",
    "Hypothesis testing is a systematic way of asking questions about our data to get the bigger picture. But instead of diving deep into specifics, which might be risky in terms of privacy, we ask broad questions relevant to the dataset, such as: \"Do cars with higher maintenance costs generally have better safety ratings?\", or \"Is there a significant number of luxury cars with low valuations?\".\n",
    "\n",
    "With hypothesis testing, we're not pinpointing exact locations or exact numbers. Instead, we're gauging the general landscape, understanding broad patterns, and making informed decisions.\n",
    "\n",
    "### Why Is This Essential for Data We Can't See? 👀\n",
    "When working with private datasets using Antigranular, direct visibility is restricted. But that doesn't mean we are completely blind. Instead of seeing every intricate detail, we're getting a \"broad strokes\" view. It tells us about the major structures, patterns, and anomalies in our data without violating its sanctity and privacy.\n",
    "\n",
    "## A Simple Approach with Differential Privacy 🚀\n",
    "In this notebook, we will construct some sample private datasets and then create some tests to learn about their structure. These are mock datasets which you will create locally and can examine in plaintext to build up your intuition. This way, we'll showcase the power of hypothesis testing without compromising on data privacy.\n",
    "\n",
    "## Getting Started: Install, Import & Connect to Antigranular\n",
    "\n",
    "\n",
    "\n",
    "\n"
   ]
  },
  {
   "cell_type": "code",
   "execution_count": null,
   "metadata": {},
   "outputs": [],
   "source": [
    "!pip install antigranular"
   ]
  },
  {
   "cell_type": "code",
   "execution_count": 1,
   "metadata": {
    "colab": {
     "base_uri": "https://localhost:8080/",
     "height": 106
    },
    "execution": {
     "iopub.execute_input": "2023-11-29T14:52:07.836426Z",
     "iopub.status.busy": "2023-11-29T14:52:07.836426Z",
     "iopub.status.idle": "2023-11-29T14:52:28.407201Z",
     "shell.execute_reply": "2023-11-29T14:52:28.407201Z"
    },
    "id": "jxxR8FCeVDiE",
    "outputId": "ff39d475-3331-4807-b6be-2d8f1845c86b"
   },
   "outputs": [
    {
     "data": {
      "text/html": [],
      "text/plain": [
       "<IPython.core.display.HTML object>"
      ]
     },
     "metadata": {},
     "output_type": "display_data"
    },
    {
     "name": "stdout",
     "output_type": "stream",
     "text": [
      "Dataset \"The Wine Dataset\" loaded to the kernel as \u001b[92mthe_wine_dataset\u001b[0m\n",
      "Key Name                       Value Type     \n",
      "---------------------------------------------\n",
      "train_x                        PrivateDataFrame\n",
      "train_y                        PrivateDataFrame\n",
      "test_x                         DataFrame      \n",
      "\n",
      "Connected to Antigranular server session id: cb34fa97-07ae-4c20-b432-7085187c2798, the session will time out if idle for 25 minutes\n",
      "Cell magic '%%ag' registered successfully, use `%%ag` in a notebook cell to execute your python code on Antigranular private python server\n",
      "🚀 Everything's set up and ready to roll!\n"
     ]
    }
   ],
   "source": [
    "import antigranular as ag\n",
    "session = ag.login(<client_id>,<client_secret>, dataset = \"The Wine Dataset\")"
   ]
  },
  {
   "cell_type": "markdown",
   "metadata": {
    "id": "xcFPLEyOZ1xh"
   },
   "source": [
    "OK. Let's create some examples:\n",
    "\n",
    "## 📅 Example 1: Decoding the Dating Dilemma\n",
    "\n",
    "In the first example, I just want to show that dates are often fuzzy items to handle. They can be entered in many different formats, including but not limited to:\n",
    "\n",
    "- {day as a number}-{month as a number}-{month as a number}\n",
    "- {day as a number}-{month as a 3 char str}-{month as a number}\n",
    "- {day as a number} {month as a 3 char str} {month as a number}\n",
    "- {day as a number}/{month as a 3 char str}/{month as a number}\n",
    "- {month as a number} {day as a number} {month as a number}\n",
    "\n",
    "American's often put the month first, while Europeans tend to place the day of the month first. Beyond that, slashes, dashes, spaces, or nothing are used to split up the parts of the datetime. All this confusion makes handling dates messy work.\n",
    "\n",
    "So if you don't actually know how clean the dates are in your dataset, getting it right is important.\n",
    "\n",
    "Let's generate some dummy data to illustate this:"
   ]
  },
  {
   "cell_type": "code",
   "execution_count": 12,
   "metadata": {
    "colab": {
     "base_uri": "https://localhost:8080/"
    },
    "execution": {
     "iopub.execute_input": "2023-11-29T14:52:28.407201Z",
     "iopub.status.busy": "2023-11-29T14:52:28.407201Z",
     "iopub.status.idle": "2023-11-29T14:52:28.485852Z",
     "shell.execute_reply": "2023-11-29T14:52:28.485852Z"
    },
    "id": "61UG41dbVHQR",
    "outputId": "1b54e5e9-ca84-4b85-a98f-aa6d8d85708b"
   },
   "outputs": [
    {
     "name": "stdout",
     "output_type": "stream",
     "text": [
      "        Dates\n",
      "0  11/29/2023\n",
      "1  28-11-2023\n",
      "2  27-11-2023\n",
      "3  26-11-2023\n",
      "4  25-11-2023\n"
     ]
    }
   ],
   "source": [
    "import pandas as pd\n",
    "import numpy as np\n",
    "from datetime import datetime, timedelta\n",
    "\n",
    "# Number of dates\n",
    "n = 5000\n",
    "\n",
    "# Generate n random dates\n",
    "base = datetime.today()\n",
    "date_list = [base - timedelta(days=x) for x in range(n)]\n",
    "\n",
    "# Define a list of date formats\n",
    "formats = [\n",
    "    '%d-%m-%Y',   # day-month-year\n",
    "    '%d%m%Y',     # ddmmyyyy\n",
    "    '%B %d, %Y',  # month_str day year\n",
    "    '%m/%d/%Y'    # month/day/year\n",
    "]\n",
    "\n",
    "# Convert date_list to a DataFrame with strings of random formats\n",
    "df = pd.DataFrame({'Dates': [date.strftime(np.random.choice(formats)) for date in date_list]})\n",
    "\n",
    "print(df.head())  # print first 5 rows for verification"
   ]
  },
  {
   "cell_type": "markdown",
   "metadata": {
    "id": "cDBwXSRBfXFk"
   },
   "source": [
    "OK. Next, let's upload it into Antigranular and make it into a private Series so we can simulate working with messy data:"
   ]
  },
  {
   "cell_type": "code",
   "execution_count": 13,
   "metadata": {
    "colab": {
     "base_uri": "https://localhost:8080/"
    },
    "execution": {
     "iopub.execute_input": "2023-11-29T14:52:28.485852Z",
     "iopub.status.busy": "2023-11-29T14:52:28.485852Z",
     "iopub.status.idle": "2023-11-29T14:52:32.698350Z",
     "shell.execute_reply": "2023-11-29T14:52:32.698350Z"
    },
    "id": "kBD4vy_ZfVPr",
    "outputId": "23fcc723-6e17-4b45-c504-dafc04aa5d3a"
   },
   "outputs": [
    {
     "name": "stdout",
     "output_type": "stream",
     "text": [
      "dataframe cached to server, loading to kernel...\n",
      "Output: Dataframe loaded successfully to the kernel\n",
      "\n"
     ]
    }
   ],
   "source": [
    "session.private_import(data=df, name='df')"
   ]
  },
  {
   "cell_type": "markdown",
   "metadata": {
    "id": "jG7wvRtKfz1H"
   },
   "source": [
    "Pow! Now, we got df in the %%ag environment. Next, let's make it a privateDataframe so it simulates something sensitive we would be working with:"
   ]
  },
  {
   "cell_type": "code",
   "execution_count": 14,
   "metadata": {
    "execution": {
     "iopub.execute_input": "2023-11-29T14:52:32.698350Z",
     "iopub.status.busy": "2023-11-29T14:52:32.698350Z",
     "iopub.status.idle": "2023-11-29T14:52:37.021787Z",
     "shell.execute_reply": "2023-11-29T14:52:37.020957Z"
    },
    "id": "7t5QTI51fypw"
   },
   "outputs": [],
   "source": [
    "%%ag\n",
    "from op_pandas import PrivateDataFrame\n",
    "pdf = PrivateDataFrame(df)"
   ]
  },
  {
   "cell_type": "markdown",
   "metadata": {
    "id": "ufdhqT5ehLGo"
   },
   "source": [
    "Ta da — we are all set!\n",
    "\n",
    "Now we have this private dataframe, let's pretend we know it includes \"Dates\" as a column of type str, but we don't know the format. Let's start asking questions until we have a good grasp of what's inside:"
   ]
  },
  {
   "cell_type": "code",
   "execution_count": 15,
   "metadata": {
    "colab": {
     "base_uri": "https://localhost:8080/"
    },
    "execution": {
     "iopub.execute_input": "2023-11-29T14:52:37.024793Z",
     "iopub.status.busy": "2023-11-29T14:52:37.024793Z",
     "iopub.status.idle": "2023-11-29T14:52:43.462634Z",
     "shell.execute_reply": "2023-11-29T14:52:43.462634Z"
    },
    "id": "yr-402IqhE95",
    "outputId": "da8163f2-8218-4efa-cd4f-e25d746f68f6"
   },
   "outputs": [],
   "source": [
    "%%ag\n",
    "import pandas as pd\n",
    "\n",
    "def is_dd_mm_yyyy_format(s: str) -> int:\n",
    "    # I want to check if the format is '%d-%m-%Y', writing a value by value test\n",
    "    # which checks the format and returns 1 if its a match and 0 if it is not. This\n",
    "    # map costs us no eps/delta because it is a transformation of the data with known\n",
    "    # output bounds :)\n",
    "    parts = s.split('-')\n",
    "\n",
    "    # Check if there are exactly three components\n",
    "    if len(parts) != 3:\n",
    "        return 0\n",
    "\n",
    "    day, month, year = parts\n",
    "\n",
    "    # Check if day and month have two digits and year has four digits\n",
    "    if len(day) == 2 and len(month) == 2 and len(year) == 4 and day.isdigit() and month.isdigit() and year.isdigit():\n",
    "        return 1\n",
    "    return 0\n",
    "\n",
    "# Apply the function\n",
    "is_dd_mm_yyyy_pdf = pdf.applymap(is_dd_mm_yyyy_format, output_bounds = {\"Dates\": (0, 1)})"
   ]
  },
  {
   "cell_type": "markdown",
   "metadata": {
    "id": "YZlSCf67kbE9"
   },
   "source": [
    "Now, we can see approximately what proportion of the dates we correctly capture in the above check while spending only a little bit of eps:"
   ]
  },
  {
   "cell_type": "code",
   "execution_count": 16,
   "metadata": {
    "colab": {
     "base_uri": "https://localhost:8080/"
    },
    "execution": {
     "iopub.execute_input": "2023-11-29T14:52:43.462634Z",
     "iopub.status.busy": "2023-11-29T14:52:43.462634Z",
     "iopub.status.idle": "2023-11-29T14:52:45.715721Z",
     "shell.execute_reply": "2023-11-29T14:52:45.715721Z"
    },
    "id": "Wiwn9oKBjfgI",
    "outputId": "3e94cd9a-c918-4b06-88a4-637e5106b77d"
   },
   "outputs": [
    {
     "name": "stdout",
     "output_type": "stream",
     "text": [
      "0.24582212199729062\n",
      "\n"
     ]
    }
   ],
   "source": [
    "%%ag\n",
    "from ag_utils import ag_print\n",
    "\n",
    "ag_print(is_dd_mm_yyyy_pdf[\"Dates\"].mean(eps=0.05))"
   ]
  },
  {
   "cell_type": "markdown",
   "metadata": {
    "id": "OjI9N8EQk8t-"
   },
   "source": [
    "Oh nice — so somewhere in the range of a quarter/a fifth are captured. We learned something neat and spent very little in the process.\n",
    "\n",
    "Of course, we can extend this to check some other date formats:"
   ]
  },
  {
   "cell_type": "code",
   "execution_count": 17,
   "metadata": {
    "execution": {
     "iopub.execute_input": "2023-11-29T14:52:45.715721Z",
     "iopub.status.busy": "2023-11-29T14:52:45.715721Z",
     "iopub.status.idle": "2023-11-29T14:52:52.318272Z",
     "shell.execute_reply": "2023-11-29T14:52:52.317195Z"
    },
    "id": "pvKQE8Tfk6B7"
   },
   "outputs": [],
   "source": [
    "%%ag\n",
    "\n",
    "# Check if the format is '%d-%m-%Y'\n",
    "def is_day_month_year_format(s: str) -> int:\n",
    "    parts = s.split('-')\n",
    "    if len(parts) != 3:\n",
    "        return 0\n",
    "    day, month, year = parts\n",
    "    if len(day) == 2 and len(month) == 2 and len(year) == 4 and day.isdigit() and month.isdigit() and year.isdigit():\n",
    "        return 1\n",
    "    return 0\n",
    "\n",
    "# Check if the format is '%d%m%Y'\n",
    "def is_ddmmyyyy_format(s: str) -> int:\n",
    "    if len(s) != 8:\n",
    "        return 0\n",
    "    day, month, year = s[:2], s[2:4], s[4:]\n",
    "    if day.isdigit() and month.isdigit() and year.isdigit():\n",
    "        return 1\n",
    "    return 0\n",
    "\n",
    "# Check if the format is '%B %d, %Y'\n",
    "def is_month_str_day_year_format(s: str) -> int:\n",
    "    if \", \" not in s:\n",
    "        return 0\n",
    "    parts = s.split(\", \")\n",
    "    if len(parts) != 2:\n",
    "        return 0\n",
    "    month_day, year = parts\n",
    "    if len(year) != 4 or not year.isdigit():\n",
    "        return 0\n",
    "    month_parts = month_day.split(\" \")\n",
    "    if len(month_parts) != 2:\n",
    "        return 0\n",
    "    month, day = month_parts\n",
    "    if month in ['January', 'February', 'March', 'April', 'May', 'June', 'July', 'August', 'September', 'October', 'November', 'December'] and day.isdigit() and len(day) <= 2:\n",
    "        return 1\n",
    "    return 0\n",
    "\n",
    "def combine_known_dates(s: str) -> int:\n",
    "    return is_day_month_year_format(s) + is_ddmmyyyy_format(s) + is_month_str_day_year_format(s)\n",
    "\n",
    "known_date = pdf.applymap(combine_known_dates, output_bounds = {\"Dates\": (0, 1)})"
   ]
  },
  {
   "cell_type": "markdown",
   "metadata": {
    "id": "tukOg99qq5Fa"
   },
   "source": [
    "Notice we didn't cover all the dates types we originally created, just 4/5 of them. Let's see what our hypothesis test gives us now:"
   ]
  },
  {
   "cell_type": "code",
   "execution_count": 18,
   "metadata": {
    "colab": {
     "base_uri": "https://localhost:8080/"
    },
    "execution": {
     "iopub.execute_input": "2023-11-29T14:52:52.321282Z",
     "iopub.status.busy": "2023-11-29T14:52:52.321282Z",
     "iopub.status.idle": "2023-11-29T14:52:54.538185Z",
     "shell.execute_reply": "2023-11-29T14:52:54.537262Z"
    },
    "id": "SkLTYOpcpkwG",
    "outputId": "8e76a9be-611c-46ef-dc68-a746867d7917"
   },
   "outputs": [
    {
     "name": "stdout",
     "output_type": "stream",
     "text": [
      "0.7468025435242667\n",
      "\n"
     ]
    }
   ],
   "source": [
    "%%ag\n",
    "ag_print(known_date[\"Dates\"].mean(eps=0.05))"
   ]
  },
  {
   "cell_type": "markdown",
   "metadata": {
    "id": "FahwtLqVrIBU"
   },
   "source": [
    "Well, that looks about right! Out of curiousity, let's compare these to the true percentages using the original (non-private) dataframe:"
   ]
  },
  {
   "cell_type": "code",
   "execution_count": 19,
   "metadata": {
    "colab": {
     "base_uri": "https://localhost:8080/"
    },
    "execution": {
     "iopub.execute_input": "2023-11-29T14:52:54.539181Z",
     "iopub.status.busy": "2023-11-29T14:52:54.539181Z",
     "iopub.status.idle": "2023-11-29T14:52:58.969468Z",
     "shell.execute_reply": "2023-11-29T14:52:58.969468Z"
    },
    "id": "HMrRPKk8rGRI",
    "outputId": "94ac2d96-c9b2-402d-9d4e-52a63578657b"
   },
   "outputs": [
    {
     "name": "stdout",
     "output_type": "stream",
     "text": [
      "0.7476\n",
      "\n"
     ]
    }
   ],
   "source": [
    "%%ag\n",
    "known_date_real = df.applymap(combine_known_dates)\n",
    "ag_print(known_date_real[\"Dates\"].mean())"
   ]
  },
  {
   "cell_type": "markdown",
   "metadata": {
    "id": "BnPsRFFIrhrB"
   },
   "source": [
    "I mean, that is certainly close enough! Now we have a really solid feedback loop, which is ultimately what we wanted."
   ]
  },
  {
   "cell_type": "markdown",
   "metadata": {
    "id": "GNuDMqB8ruS6"
   },
   "source": [
    "## 🖥️ Example 2: Let's Write an Algorithm!\n",
    "\n",
    "Now we've got the basics, we're ready to use it to write some sort of algorithm to identify the max value in a set of integers.\n",
    "\n",
    "There're obviously multiple ways we could do this, but I'll opt for a simple approach. I will use binary search to seach a linespace and perform `k` checks. The objective is to get as close as reasonably possible to the (differentially private) max value:"
   ]
  },
  {
   "cell_type": "code",
   "execution_count": 22,
   "metadata": {
    "colab": {
     "base_uri": "https://localhost:8080/"
    },
    "execution": {
     "iopub.execute_input": "2023-11-29T14:52:58.969468Z",
     "iopub.status.busy": "2023-11-29T14:52:58.969468Z",
     "iopub.status.idle": "2023-11-29T14:52:59.264885Z",
     "shell.execute_reply": "2023-11-29T14:52:59.263888Z"
    },
    "id": "_cRTVn2YrfgP",
    "outputId": "a67d495f-48ae-404f-9779-5ac44001e5f3"
   },
   "outputs": [
    {
     "name": "stdout",
     "output_type": "stream",
     "text": [
      "       Values\n",
      "0  1910638023\n",
      "1  1935918642\n",
      "2  1916878272\n",
      "3  1931957943\n",
      "4  1935746712\n"
     ]
    }
   ],
   "source": [
    "import pandas as pd\n",
    "import numpy as np\n",
    "\n",
    "# Constants\n",
    "LOWER_BOUND = -2**31\n",
    "UPPER_BOUND = 2**31 - 1\n",
    "\n",
    "# Randomly determine the sample space bounds\n",
    "sample_lower_bound = np.random.randint(LOWER_BOUND, UPPER_BOUND)\n",
    "sample_upper_bound = np.random.randint(sample_lower_bound, UPPER_BOUND)\n",
    "\n",
    "# Sample uniformly random numbers in the defined space\n",
    "n_samples = 1000  # Example sample size\n",
    "df = pd.DataFrame({\n",
    "    'Values': np.random.randint(sample_lower_bound, sample_upper_bound, n_samples)\n",
    "})\n",
    "\n",
    "print(df.head())"
   ]
  },
  {
   "cell_type": "code",
   "execution_count": 23,
   "metadata": {
    "colab": {
     "base_uri": "https://localhost:8080/"
    },
    "execution": {
     "iopub.execute_input": "2023-11-29T14:52:59.266649Z",
     "iopub.status.busy": "2023-11-29T14:52:59.266649Z",
     "iopub.status.idle": "2023-11-29T14:53:04.384697Z",
     "shell.execute_reply": "2023-11-29T14:53:04.382675Z"
    },
    "id": "SCvKBaqjt3zA",
    "outputId": "d63e5266-10b6-4cdf-9075-a1efefa1ccc4"
   },
   "outputs": [
    {
     "name": "stdout",
     "output_type": "stream",
     "text": [
      "dataframe cached to server, loading to kernel...\n",
      "Output: Dataframe loaded successfully to the kernel\n",
      "\n"
     ]
    }
   ],
   "source": [
    "session.private_import(data=df, name='df')"
   ]
  },
  {
   "cell_type": "code",
   "execution_count": 24,
   "metadata": {
    "execution": {
     "iopub.execute_input": "2023-11-29T14:53:04.388615Z",
     "iopub.status.busy": "2023-11-29T14:53:04.387610Z",
     "iopub.status.idle": "2023-11-29T14:53:13.292594Z",
     "shell.execute_reply": "2023-11-29T14:53:13.292594Z"
    },
    "id": "23RPZO20t8Kh"
   },
   "outputs": [],
   "source": [
    "%%ag\n",
    "pdf = PrivateDataFrame(df.astype(int), metadata={'Values': (-2**31, 2**31 - 1)})"
   ]
  },
  {
   "cell_type": "markdown",
   "metadata": {
    "id": "F_cQiPENuWyW"
   },
   "source": [
    "So, we have this mysterious top secret dataset of ints with unknown bounds. I want to tree search the log space to estimate the max:"
   ]
  },
  {
   "cell_type": "code",
   "execution_count": 25,
   "metadata": {
    "execution": {
     "iopub.execute_input": "2023-11-29T14:53:13.292594Z",
     "iopub.status.busy": "2023-11-29T14:53:13.292594Z",
     "iopub.status.idle": "2023-11-29T14:53:19.970075Z",
     "shell.execute_reply": "2023-11-29T14:53:19.970075Z"
    },
    "id": "7Qjnfe-juJqg"
   },
   "outputs": [],
   "source": [
    "%%ag\n",
    "\n",
    "# Constants\n",
    "LOWER_BOUND = -2**31\n",
    "UPPER_BOUND = 2**31 - 1\n",
    "\n",
    "current_value = 0\n",
    "step_size = (UPPER_BOUND - LOWER_BOUND) / 4.0\n",
    "\n",
    "# k steps\n",
    "k = 64\n",
    "\n",
    "# k times this will be used (1 per step)\n",
    "eps = 0.02\n",
    "\n",
    "# threshold to avoid noise effect (pick something low-ish)\n",
    "t = 0.02\n",
    "\n",
    "for i in range(k):\n",
    "  # is pdf values greater than the current estimated max?\n",
    "  test = pdf > current_value\n",
    "  # closer to 1 more values are greater than estimated max\n",
    "  result = test.mean(eps)\n",
    "\n",
    "  if result[0] > t:\n",
    "    current_value = current_value + step_size\n",
    "  else:\n",
    "    current_value = current_value - step_size\n",
    "\n",
    "  step_size = step_size/2."
   ]
  },
  {
   "cell_type": "code",
   "execution_count": 26,
   "metadata": {
    "colab": {
     "base_uri": "https://localhost:8080/"
    },
    "execution": {
     "iopub.execute_input": "2023-11-29T14:53:19.970075Z",
     "iopub.status.busy": "2023-11-29T14:53:19.970075Z",
     "iopub.status.idle": "2023-11-29T14:53:22.118428Z",
     "shell.execute_reply": "2023-11-29T14:53:22.118428Z"
    },
    "id": "t2T0SJ9Hwglr",
    "outputId": "51bcb5a8-b580-4c0a-85e1-c5418ef2c412"
   },
   "outputs": [
    {
     "name": "stdout",
     "output_type": "stream",
     "text": [
      "max value estimated as: 1941962751.9921875\n",
      "\n"
     ]
    }
   ],
   "source": [
    "%%ag\n",
    "ag_print(\"max value estimated as: \" + str(current_value))"
   ]
  },
  {
   "cell_type": "markdown",
   "metadata": {
    "id": "jETn9c2HHYF7"
   },
   "source": [
    "Let's check out what the true max actually was:"
   ]
  },
  {
   "cell_type": "code",
   "execution_count": 27,
   "metadata": {
    "colab": {
     "base_uri": "https://localhost:8080/"
    },
    "execution": {
     "iopub.execute_input": "2023-11-29T14:53:22.118428Z",
     "iopub.status.busy": "2023-11-29T14:53:22.118428Z",
     "iopub.status.idle": "2023-11-29T14:53:22.133990Z",
     "shell.execute_reply": "2023-11-29T14:53:22.133990Z"
    },
    "id": "ktVitDEvxpC0",
    "outputId": "e79d6955-c7b7-4152-c48a-bfdc2eb4b758"
   },
   "outputs": [
    {
     "data": {
      "text/plain": [
       "Values    1945968931\n",
       "dtype: int32"
      ]
     },
     "execution_count": 27,
     "metadata": {},
     "output_type": "execute_result"
    }
   ],
   "source": [
    "df.max()"
   ]
  },
  {
   "cell_type": "markdown",
   "metadata": {
    "id": "aqkqj0MIHhCi"
   },
   "source": [
    "That's pretty close, right?\n",
    "\n",
    "## 🎁 The Wrap Up\n",
    "\n",
    "**Summary:**\n",
    "\n",
    "The notebook emphasises the importance of hypothesis testing for private datasets since direct data visibility is often restricted. It also introduces Differential Privacy as a method to ensure data privacy.\n",
    "\n",
    "The notebook provides two examples to guide readers through the process:\n",
    "\n",
    "1. **Exploring Date Formats**: The first example dealt with the complexities of different date formats (especially between American and European styles) and the challenges in standardising them. The notebook walked through the steps to generate dummy date data, import it to Antigranular, and conduct hypothesis tests to identify the proportion of data in specific date formats.\n",
    "\n",
    "2. **Algorithm to Identify Max Value**: The second example showcased the use of binary functions and differential privacy to estimate the maximum value in a dataset of integers. A tree search method in the logarithmic space was employed to estimate this max value.\n",
    "\n",
    "**Conclusion:**\n",
    "\n",
    "Hypothesis testing provides a systematic and privacy-preserving way to gather insights from data. The Antigranular tool and the approach of differential privacy help to strike a balance between data exploration and ensuring data confidentiality. The examples provided above serve as practical demonstrations of how one can employ hypothesis testing techniques in real-world scenarios, highlighting its potential applications in diverse fields."
   ]
  },
  {
   "cell_type": "code",
   "execution_count": 28,
   "metadata": {
    "execution": {
     "iopub.execute_input": "2023-11-29T14:53:22.133990Z",
     "iopub.status.busy": "2023-11-29T14:53:22.133990Z",
     "iopub.status.idle": "2023-11-29T14:53:25.894557Z",
     "shell.execute_reply": "2023-11-29T14:53:25.894557Z"
    },
    "id": "W8df1PUWJ-vr"
   },
   "outputs": [
    {
     "data": {
      "text/plain": [
       "{'status': 'ok'}"
      ]
     },
     "execution_count": 28,
     "metadata": {},
     "output_type": "execute_result"
    }
   ],
   "source": [
    "session.terminate_session()"
   ]
  },
  {
   "cell_type": "code",
   "execution_count": null,
   "metadata": {
    "id": "93fkZwoNHFLB"
   },
   "outputs": [],
   "source": []
  }
 ],
 "metadata": {
  "colab": {
   "provenance": []
  },
  "kernelspec": {
   "display_name": "Python 3",
   "name": "python3"
  },
  "language_info": {
   "codemirror_mode": {
    "name": "ipython",
    "version": 3
   },
   "file_extension": ".py",
   "mimetype": "text/x-python",
   "name": "python",
   "nbconvert_exporter": "python",
   "pygments_lexer": "ipython3",
   "version": "3.11.6"
  }
 },
 "nbformat": 4,
 "nbformat_minor": 0
}
