{
  "nbformat": 4,
  "nbformat_minor": 0,
  "metadata": {
    "colab": {
      "provenance": []
    },
    "kernelspec": {
      "name": "python3",
      "display_name": "Python 3"
    },
    "language_info": {
      "name": "python"
    }
  },
  "cells": [
    {
      "cell_type": "markdown",
      "source": [
        "# Tutorial Notebook for UN Datathon Participants 🌐 🔐\n"
      ],
      "metadata": {
        "id": "GMqttQJfhEKp"
      }
    },
    {
      "cell_type": "markdown",
      "source": [
        "This notebook is designed to acquaint participants of the UN datathon with antigranular, which is your private data exploration toolkit, and showcase its main functions!\n",
        "\n",
        "## What is Antigranular?\n",
        "\n",
        "With Antigranular, you can use Python to securely explore and gain insights from your data without ever seeing sensitive information. 🕵️‍♂️🔐\n",
        "\n",
        "Antigranular leverages AWS enclaves, which are isolated and protected environments that run on the cloud. AWS enclaves ensure that your data and code are safe from unauthorised access, even from AWS itself. 🛡️☁️\n",
        "\n",
        "Antigranular also integrates with powerful differential privacy libraries, such as OpenDP, SmartNoise, and DiffPrivLib. Differential privacy is a technique that adds controlled noise to your data analysis, preserving the privacy of individual records while still allowing you to draw meaningful conclusions. 📊🔇\n",
        "\n",
        "With Antigranular, you can work with private sensitive datasets conveniently, knowing that your data analysis remains confidential and insightful! 😊👍"
      ],
      "metadata": {
        "id": "-DupuT9khO2U"
      }
    },
    {
      "cell_type": "markdown",
      "source": [
        "## How to Use antigranular?\n"
      ],
      "metadata": {
        "id": "b71hIT3bklaF"
      }
    },
    {
      "cell_type": "markdown",
      "source": [
        "### Install the Package 📦\n",
        "\n",
        "First, we need to add antigranular to our local jupyter kernel. You can do this by installing it directly from PyPI, which is like an app store but for python packages!\n",
        "\n",
        "####Installing Antigranular"
      ],
      "metadata": {
        "id": "hW6Y2fM9krFT"
      }
    },
    {
      "cell_type": "code",
      "source": [
        "!pip install antigranular"
      ],
      "metadata": {
        "colab": {
          "base_uri": "https://localhost:8080/"
        },
        "id": "QGGSakHuSUVi",
        "outputId": "2726cadf-b168-42b7-9804-632358e767b9"
      },
      "execution_count": 1,
      "outputs": [
        {
          "output_type": "stream",
          "name": "stdout",
          "text": [
            "Requirement already satisfied: antigranular in /usr/local/lib/python3.10/dist-packages (0.2.12)\n",
            "Requirement already satisfied: diffprivlib<0.7.0,>=0.6.2 in /usr/local/lib/python3.10/dist-packages (from antigranular) (0.6.3)\n",
            "Requirement already satisfied: ipython<8.0.0,>=7.34.0 in /usr/local/lib/python3.10/dist-packages (from antigranular) (7.34.0)\n",
            "Requirement already satisfied: oblv-client<0.2.0,>=0.1.15 in /usr/local/lib/python3.10/dist-packages (from antigranular) (0.1.15)\n",
            "Requirement already satisfied: onnx<2.0.0,>=1.14.0 in /usr/local/lib/python3.10/dist-packages (from antigranular) (1.15.0)\n",
            "Requirement already satisfied: pandas<2.0.0,>=1.5.3 in /usr/local/lib/python3.10/dist-packages (from antigranular) (1.5.3)\n",
            "Requirement already satisfied: pydantic<2.0.0,>=1.10.7 in /usr/local/lib/python3.10/dist-packages (from antigranular) (1.10.13)\n",
            "Requirement already satisfied: requests<3.0.0,>=2.31.0 in /usr/local/lib/python3.10/dist-packages (from antigranular) (2.31.0)\n",
            "Requirement already satisfied: numpy>=1.21.6 in /usr/local/lib/python3.10/dist-packages (from diffprivlib<0.7.0,>=0.6.2->antigranular) (1.23.5)\n",
            "Requirement already satisfied: scikit-learn>=0.24.2 in /usr/local/lib/python3.10/dist-packages (from diffprivlib<0.7.0,>=0.6.2->antigranular) (1.2.2)\n",
            "Requirement already satisfied: scipy>=1.7.3 in /usr/local/lib/python3.10/dist-packages (from diffprivlib<0.7.0,>=0.6.2->antigranular) (1.11.3)\n",
            "Requirement already satisfied: joblib>=0.16.0 in /usr/local/lib/python3.10/dist-packages (from diffprivlib<0.7.0,>=0.6.2->antigranular) (1.3.2)\n",
            "Requirement already satisfied: setuptools>=49.0.0 in /usr/local/lib/python3.10/dist-packages (from diffprivlib<0.7.0,>=0.6.2->antigranular) (67.7.2)\n",
            "Requirement already satisfied: jedi>=0.16 in /usr/local/lib/python3.10/dist-packages (from ipython<8.0.0,>=7.34.0->antigranular) (0.19.1)\n",
            "Requirement already satisfied: decorator in /usr/local/lib/python3.10/dist-packages (from ipython<8.0.0,>=7.34.0->antigranular) (4.4.2)\n",
            "Requirement already satisfied: pickleshare in /usr/local/lib/python3.10/dist-packages (from ipython<8.0.0,>=7.34.0->antigranular) (0.7.5)\n",
            "Requirement already satisfied: traitlets>=4.2 in /usr/local/lib/python3.10/dist-packages (from ipython<8.0.0,>=7.34.0->antigranular) (5.7.1)\n",
            "Requirement already satisfied: prompt-toolkit!=3.0.0,!=3.0.1,<3.1.0,>=2.0.0 in /usr/local/lib/python3.10/dist-packages (from ipython<8.0.0,>=7.34.0->antigranular) (3.0.39)\n",
            "Requirement already satisfied: pygments in /usr/local/lib/python3.10/dist-packages (from ipython<8.0.0,>=7.34.0->antigranular) (2.16.1)\n",
            "Requirement already satisfied: backcall in /usr/local/lib/python3.10/dist-packages (from ipython<8.0.0,>=7.34.0->antigranular) (0.2.0)\n",
            "Requirement already satisfied: matplotlib-inline in /usr/local/lib/python3.10/dist-packages (from ipython<8.0.0,>=7.34.0->antigranular) (0.1.6)\n",
            "Requirement already satisfied: pexpect>4.3 in /usr/local/lib/python3.10/dist-packages (from ipython<8.0.0,>=7.34.0->antigranular) (4.8.0)\n",
            "Requirement already satisfied: urllib3 in /usr/local/lib/python3.10/dist-packages (from oblv-client<0.2.0,>=0.1.15->antigranular) (2.0.7)\n",
            "Requirement already satisfied: protobuf>=3.20.2 in /usr/local/lib/python3.10/dist-packages (from onnx<2.0.0,>=1.14.0->antigranular) (3.20.3)\n",
            "Requirement already satisfied: python-dateutil>=2.8.1 in /usr/local/lib/python3.10/dist-packages (from pandas<2.0.0,>=1.5.3->antigranular) (2.8.2)\n",
            "Requirement already satisfied: pytz>=2020.1 in /usr/local/lib/python3.10/dist-packages (from pandas<2.0.0,>=1.5.3->antigranular) (2023.3.post1)\n",
            "Requirement already satisfied: typing-extensions>=4.2.0 in /usr/local/lib/python3.10/dist-packages (from pydantic<2.0.0,>=1.10.7->antigranular) (4.5.0)\n",
            "Requirement already satisfied: charset-normalizer<4,>=2 in /usr/local/lib/python3.10/dist-packages (from requests<3.0.0,>=2.31.0->antigranular) (3.3.1)\n",
            "Requirement already satisfied: idna<4,>=2.5 in /usr/local/lib/python3.10/dist-packages (from requests<3.0.0,>=2.31.0->antigranular) (3.4)\n",
            "Requirement already satisfied: certifi>=2017.4.17 in /usr/local/lib/python3.10/dist-packages (from requests<3.0.0,>=2.31.0->antigranular) (2023.7.22)\n",
            "Requirement already satisfied: parso<0.9.0,>=0.8.3 in /usr/local/lib/python3.10/dist-packages (from jedi>=0.16->ipython<8.0.0,>=7.34.0->antigranular) (0.8.3)\n",
            "Requirement already satisfied: ptyprocess>=0.5 in /usr/local/lib/python3.10/dist-packages (from pexpect>4.3->ipython<8.0.0,>=7.34.0->antigranular) (0.7.0)\n",
            "Requirement already satisfied: wcwidth in /usr/local/lib/python3.10/dist-packages (from prompt-toolkit!=3.0.0,!=3.0.1,<3.1.0,>=2.0.0->ipython<8.0.0,>=7.34.0->antigranular) (0.2.8)\n",
            "Requirement already satisfied: six>=1.5 in /usr/local/lib/python3.10/dist-packages (from python-dateutil>=2.8.1->pandas<2.0.0,>=1.5.3->antigranular) (1.16.0)\n",
            "Requirement already satisfied: threadpoolctl>=2.0.0 in /usr/local/lib/python3.10/dist-packages (from scikit-learn>=0.24.2->diffprivlib<0.7.0,>=0.6.2->antigranular) (3.2.0)\n"
          ]
        }
      ]
    },
    {
      "cell_type": "markdown",
      "source": [
        "### Using Antigranular for Secure Computations 🔐\n",
        "\n",
        "Now that you're connected, your ag.login initiates a secure session with Antigranular where we can work with our data confidentially.\n",
        "\n",
        "See the the %%ag at the beginning of a cell? It indicates that the code within this cell will be executed securely on the Antigranular platform, ensuring the confidentiality of our computations. Like magic! 😍"
      ],
      "metadata": {
        "id": "mbrRvP3CkwgB"
      }
    },
    {
      "cell_type": "code",
      "execution_count": 2,
      "metadata": {
        "colab": {
          "base_uri": "https://localhost:8080/",
          "height": 71
        },
        "id": "KC-Nkg3YR96J",
        "outputId": "48ea3692-2b38-4fed-ff90-75bd11f4bb73"
      },
      "outputs": [
        {
          "output_type": "display_data",
          "data": {
            "text/plain": [
              "<IPython.core.display.HTML object>"
            ],
            "text/html": []
          },
          "metadata": {}
        },
        {
          "output_type": "stream",
          "name": "stdout",
          "text": [
            "Connected to Antigranular server session id: 444cf1bf-c535-483d-b0bb-a7c83fc16c0f, the session will time out if idle for 60 minutes\n",
            "Cell magic '%%ag' registered successfully, use `%%ag` in a notebook cell to execute your python code on Antigranular private python server\n",
            "🚀 Everything's set up and ready to roll!\n"
          ]
        }
      ],
      "source": [
        "import antigranular as ag\n",
        "session = ag.login(<client_id>,<client_secret>, competition = \"UN Datathon PETs Track\")"
      ]
    },
    {
      "cell_type": "markdown",
      "source": [
        "🔑 Note: Replace `<client_id>`, `<client_secret>`, with actual values that you will get from antigranular.com to get connected.\n",
        "\n",
        "🔐 Ensure to substitute `<client_id>` and `<client_secret>` with your respective Antigranular credentials."
      ],
      "metadata": {
        "id": "cHD3_C7Ek-3t"
      }
    },
    {
      "cell_type": "markdown",
      "source": [
        "## Loading the Data 🚀"
      ],
      "metadata": {
        "id": "neszBDs5lJuM"
      }
    },
    {
      "cell_type": "markdown",
      "source": [
        "For this datathon, we possess an extensive private dataset, which we have divided into 19 separate smaller datasets. This division allows for each dataset to be loaded individually, promoting swifter execution times, so there's nothing holding you back. 💥\n",
        "\n",
        "The [op_pandas](https://docs.antigranular.com/private-python/packages/pandas) library includes functionality for merging and joining two datasets, enabling the combination of multiple datasets.\n",
        "\n",
        "You can load two datasets by using `load_dataset` functionality, which returns an `op_pandas.PrivateDataFrame` object."
      ],
      "metadata": {
        "id": "z3rTabRZlMzo"
      }
    },
    {
      "cell_type": "code",
      "source": [
        "%%ag\n",
        "undata_ls = load_dataset(\"undata_ls\")\n",
        "undata_ls_dif = load_dataset(\"undata_ls_dif\")"
      ],
      "metadata": {
        "id": "2RX9xg8lSWaO"
      },
      "execution_count": 3,
      "outputs": []
    },
    {
      "cell_type": "markdown",
      "source": [
        "## Checking the Privacy Budget 🤑\n",
        "\n",
        "Privacy-preserving algorithms used by libraries often consume a \"privacy budget\" to ensure that data privacy is maintained. Here's how you can check your spending:"
      ],
      "metadata": {
        "id": "zhPdhNxDmQqQ"
      }
    },
    {
      "cell_type": "code",
      "source": [
        "session.privacy_odometer()"
      ],
      "metadata": {
        "colab": {
          "base_uri": "https://localhost:8080/"
        },
        "id": "6jg76sb4dxcA",
        "outputId": "b420eb46-c8c1-4d80-d76c-0da8584d33aa"
      },
      "execution_count": 4,
      "outputs": [
        {
          "output_type": "execute_result",
          "data": {
            "text/plain": [
              "{'total_epsilon_used': 4.999999999999993,\n",
              " 'total_delta_used': 0.0,\n",
              " 'library_costs': {'op_pandas': {'total_delta': 0,\n",
              "   'total_epsilon': 4.999999999999993,\n",
              "   'total_requests': 7}},\n",
              " 'dataset_costs': {'undata_ls': {'delta': 0, 'eps': 2.999999999999995},\n",
              "  'undata_ls_dif': {'delta': 0, 'eps': 1.9999999999999976}}}"
            ]
          },
          "metadata": {},
          "execution_count": 4
        }
      ]
    },
    {
      "cell_type": "markdown",
      "source": [
        "## Viewing Data 🔍\n",
        "\n",
        "To protect privacy, records in PrivateDataFrame and PrivateSeries cannot be viewed directly. But that doesn't mean you can't see anything! 👀 You can still analyse and obtain statistical information about the data using methods that offer differential privacy guarantees."
      ],
      "metadata": {
        "id": "Z3TNW3XsmQlX"
      }
    },
    {
      "cell_type": "markdown",
      "source": [
        "\n",
        "### Viewing Details About the Data\n",
        "\n",
        "`ag_print` is a function packaged within Antigranular which can be used to print objects from the ag environment.\n",
        "\n",
        "Here's how you can print the details about the data, like `columns` and `metadata`:"
      ],
      "metadata": {
        "id": "asv3mcU0nIuT"
      }
    },
    {
      "cell_type": "code",
      "source": [
        "%%ag\n",
        "\n",
        "ag_print(\"undata_ls Details: \\n\")\n",
        "ag_print(\"Columns: \\n\", undata_ls.columns)\n",
        "ag_print(\"Metadata: \\n\", undata_ls.metadata)\n",
        "ag_print(\"Dtypes: \\n\", undata_ls.dtypes)"
      ],
      "metadata": {
        "colab": {
          "base_uri": "https://localhost:8080/"
        },
        "id": "BcbiE3DjmUXo",
        "outputId": "e881540f-8146-4093-f3ad-f9700e0a6983"
      },
      "execution_count": 5,
      "outputs": [
        {
          "output_type": "stream",
          "name": "stdout",
          "text": [
            "undata_ls Details: \n",
            "\n",
            "Columns: \n",
            " Index(['objectid', 'ls_main', 'ls_num_lastyr', 'ls_num_now', 'ls_num_diff',\n",
            "       'ls_num_increased', 'ls_num_decreased', 'ls_num_no_change',\n",
            "       'ls_num_inc_less_sales', 'ls_num_inc_more_birth',\n",
            "       'ls_num_inc_more_acquired', 'ls_num_inc_received_free',\n",
            "       'ls_num_dec_poor_health', 'ls_num_dec_death',\n",
            "       'ls_num_dec_sales_good_price', 'ls_num_dec_sales_distress',\n",
            "       'ls_num_dec_escape_stolen', 'ls_num_dec_consumed',\n",
            "       'ls_num_inc_dec_other', 'ls_num_inc_dec_dk', 'ls_num_inc_dec_ref',\n",
            "       'ls_feed_open_pasture', 'ls_feed_common_pasture',\n",
            "       'ls_feed_self_produced', 'ls_feed_purchased', 'ls_feed_free_dist',\n",
            "       'ls_feed_other', 'ls_feed_dk', 'ls_feed_ref'],\n",
            "      dtype='object')\n",
            "Metadata: \n",
            " {'objectid': (3496, 239871), 'ls_main': (1.0, 999.0), 'ls_num_lastyr': (0.0, 200000.0), 'ls_num_now': (0.0, 200000.0), 'ls_num_diff': (-99955.0, 18000.0), 'ls_num_increased': (0.0, 1.0), 'ls_num_decreased': (0.0, 1.0), 'ls_num_no_change': (0.0, 1.0), 'ls_num_inc_less_sales': (0.0, 1.0), 'ls_num_inc_more_birth': (0.0, 1.0), 'ls_num_inc_more_acquired': (0.0, 1.0), 'ls_num_inc_received_free': (0.0, 1.0), 'ls_num_dec_poor_health': (0.0, 1.0), 'ls_num_dec_death': (0.0, 1.0), 'ls_num_dec_sales_good_price': (0.0, 1.0), 'ls_num_dec_sales_distress': (0.0, 1.0), 'ls_num_dec_escape_stolen': (0.0, 1.0), 'ls_num_dec_consumed': (0.0, 1.0), 'ls_num_inc_dec_other': (0.0, 1.0), 'ls_num_inc_dec_dk': (0.0, 1.0), 'ls_num_inc_dec_ref': (0.0, 1.0), 'ls_feed_open_pasture': (0.0, 1.0), 'ls_feed_common_pasture': (0.0, 1.0), 'ls_feed_self_produced': (0.0, 1.0), 'ls_feed_purchased': (0.0, 1.0), 'ls_feed_free_dist': (0.0, 1.0), 'ls_feed_other': (0.0, 1.0), 'ls_feed_dk': (0.0, 1.0), 'ls_feed_ref': (0.0, 1.0)}\n",
            "Dtypes: \n",
            " objectid                         int64\n",
            "ls_main                        float64\n",
            "ls_num_lastyr                  float64\n",
            "ls_num_now                     float64\n",
            "ls_num_diff                    float64\n",
            "ls_num_increased               float64\n",
            "ls_num_decreased               float64\n",
            "ls_num_no_change               float64\n",
            "ls_num_inc_less_sales          float64\n",
            "ls_num_inc_more_birth          float64\n",
            "ls_num_inc_more_acquired       float64\n",
            "ls_num_inc_received_free       float64\n",
            "ls_num_dec_poor_health         float64\n",
            "ls_num_dec_death               float64\n",
            "ls_num_dec_sales_good_price    float64\n",
            "ls_num_dec_sales_distress      float64\n",
            "ls_num_dec_escape_stolen       float64\n",
            "ls_num_dec_consumed            float64\n",
            "ls_num_inc_dec_other           float64\n",
            "ls_num_inc_dec_dk              float64\n",
            "ls_num_inc_dec_ref             float64\n",
            "ls_feed_open_pasture           float64\n",
            "ls_feed_common_pasture         float64\n",
            "ls_feed_self_produced          float64\n",
            "ls_feed_purchased              float64\n",
            "ls_feed_free_dist              float64\n",
            "ls_feed_other                  float64\n",
            "ls_feed_dk                     float64\n",
            "ls_feed_ref                    float64\n",
            "dtype: object\n",
            "\n"
          ]
        }
      ]
    },
    {
      "cell_type": "code",
      "source": [
        "%%ag\n",
        "\n",
        "ag_print(\"undata_ls_dif Details: \\n\")\n",
        "ag_print(\"Columns: \\n\", undata_ls_dif.columns)\n",
        "ag_print(\"Metadata: \\n\", undata_ls_dif.metadata)\n",
        "ag_print(\"Dtypes: \\n\", undata_ls_dif.dtypes)"
      ],
      "metadata": {
        "colab": {
          "base_uri": "https://localhost:8080/"
        },
        "id": "KMC6QWfDnVYN",
        "outputId": "911d9c82-1841-498f-82c8-fb9479aedb73"
      },
      "execution_count": 6,
      "outputs": [
        {
          "output_type": "stream",
          "name": "stdout",
          "text": [
            "undata_ls_dif Details: \n",
            "\n",
            "Columns: \n",
            " Index(['objectid', 'ls_proddif', 'ls_proddif_feed_purchase',\n",
            "       'ls_proddif_access_pasture', 'ls_proddif_access_water',\n",
            "       'ls_proddif_vet_serv', 'ls_proddif_vet_input', 'ls_proddif_diseases',\n",
            "       'ls_proddif_theft', 'ls_proddif_access_market',\n",
            "       'ls_proddif_access_credit', 'ls_proddif_access_labour',\n",
            "       'ls_proddif_other', 'ls_proddif_dk', 'ls_proddif_ref', 'ls_salesmain',\n",
            "       'ls_salesdif', 'ls_salesdif_marketing_cost',\n",
            "       'ls_salesdif_damage_losses', 'ls_salesdif_low_demand',\n",
            "       'ls_salesdif_pay_delay', 'ls_salesdif_low_price',\n",
            "       'ls_salesdif_slaughterhouse', 'ls_salesdif_processing',\n",
            "       'ls_salesdif_competition', 'ls_salesdif_other', 'ls_salesdif_dk',\n",
            "       'ls_salesdif_ref', 'ls_salesprice'],\n",
            "      dtype='object')\n",
            "Metadata: \n",
            " {'objectid': (3496, 239871), 'ls_proddif': (0.0, 999.0), 'ls_proddif_feed_purchase': (0.0, 1.0), 'ls_proddif_access_pasture': (0.0, 1.0), 'ls_proddif_access_water': (0.0, 1.0), 'ls_proddif_vet_serv': (0.0, 1.0), 'ls_proddif_vet_input': (0.0, 1.0), 'ls_proddif_diseases': (0.0, 1.0), 'ls_proddif_theft': (0.0, 1.0), 'ls_proddif_access_market': (0.0, 1.0), 'ls_proddif_access_credit': (0.0, 1.0), 'ls_proddif_access_labour': (0.0, 1.0), 'ls_proddif_other': (0.0, 1.0), 'ls_proddif_dk': (0.0, 1.0), 'ls_proddif_ref': (0.0, 1.0), 'ls_salesmain': (1.0, 999.0), 'ls_salesdif': (0.0, 999.0), 'ls_salesdif_marketing_cost': (0.0, 1.0), 'ls_salesdif_damage_losses': (0.0, 1.0), 'ls_salesdif_low_demand': (0.0, 1.0), 'ls_salesdif_pay_delay': (0.0, 1.0), 'ls_salesdif_low_price': (0.0, 1.0), 'ls_salesdif_slaughterhouse': (0.0, 1.0), 'ls_salesdif_processing': (0.0, 1.0), 'ls_salesdif_competition': (0.0, 1.0), 'ls_salesdif_other': (0.0, 1.0), 'ls_salesdif_dk': (0.0, 1.0), 'ls_salesdif_ref': (0.0, 1.0), 'ls_salesprice': (1.0, 999.0)}\n",
            "Dtypes: \n",
            " objectid                        int64\n",
            "ls_proddif                    float64\n",
            "ls_proddif_feed_purchase      float64\n",
            "ls_proddif_access_pasture     float64\n",
            "ls_proddif_access_water       float64\n",
            "ls_proddif_vet_serv           float64\n",
            "ls_proddif_vet_input          float64\n",
            "ls_proddif_diseases           float64\n",
            "ls_proddif_theft              float64\n",
            "ls_proddif_access_market      float64\n",
            "ls_proddif_access_credit      float64\n",
            "ls_proddif_access_labour      float64\n",
            "ls_proddif_other              float64\n",
            "ls_proddif_dk                 float64\n",
            "ls_proddif_ref                float64\n",
            "ls_salesmain                  float64\n",
            "ls_salesdif                   float64\n",
            "ls_salesdif_marketing_cost    float64\n",
            "ls_salesdif_damage_losses     float64\n",
            "ls_salesdif_low_demand        float64\n",
            "ls_salesdif_pay_delay         float64\n",
            "ls_salesdif_low_price         float64\n",
            "ls_salesdif_slaughterhouse    float64\n",
            "ls_salesdif_processing        float64\n",
            "ls_salesdif_competition       float64\n",
            "ls_salesdif_other             float64\n",
            "ls_salesdif_dk                float64\n",
            "ls_salesdif_ref               float64\n",
            "ls_salesprice                 float64\n",
            "dtype: object\n",
            "\n"
          ]
        }
      ]
    },
    {
      "cell_type": "markdown",
      "source": [
        "`metadata` denotes the bounds of numerical data."
      ],
      "metadata": {
        "id": "IvvMos37pELE"
      }
    },
    {
      "cell_type": "markdown",
      "source": [
        "### Quick Statistics 📊\n",
        "\n",
        "One way to obtain the quick-statistic is by using the `describe()` method. You can spend some epsilon and obtain a rough meta-data about the dataset to give you a quick overview.\n",
        "\n"
      ],
      "metadata": {
        "id": "cFOSbDfUpM1z"
      }
    },
    {
      "cell_type": "code",
      "source": [
        "%%ag\n",
        "\n",
        "undata_ls_describe = undata_ls.describe(eps=1)\n",
        "ag_print(\"undata_ls Describe:\\n\", undata_ls_describe)\n",
        "\n",
        "undata_ls_dif_describe = undata_ls_dif.describe(eps=1)\n",
        "ag_print(\"undata_ls Describe:\\n\", undata_ls_describe)"
      ],
      "metadata": {
        "colab": {
          "base_uri": "https://localhost:8080/"
        },
        "id": "zmOjEmoGosIU",
        "outputId": "e2d86038-1388-4d06-ef0f-b1b8db1ba059"
      },
      "execution_count": 7,
      "outputs": [
        {
          "output_type": "stream",
          "name": "stdout",
          "text": [
            "undata_ls Describe:\n",
            "             objectid        ls_main  ...     ls_feed_dk    ls_feed_ref\n",
            "count  106193.000000  106193.000000  ...  106193.000000  106193.000000\n",
            "mean    92227.262821       9.501422  ...       0.000000       0.001603\n",
            "std     73578.981087      77.611551  ...       0.057438       0.045856\n",
            "min      3849.073600       1.216553  ...       0.000000       0.000000\n",
            "25%     31932.798061       1.228886  ...       0.000479       0.000578\n",
            "50%     63092.628568       2.304709  ...       0.000228       0.006400\n",
            "75%    148721.901942       6.916343  ...       0.006221       0.006253\n",
            "max    239218.985253     933.050173  ...       0.859875       0.399871\n",
            "\n",
            "[8 rows x 29 columns]\n",
            "\n",
            "undata_ls Describe:\n",
            "             objectid        ls_main  ...     ls_feed_dk    ls_feed_ref\n",
            "count  106193.000000  106193.000000  ...  106193.000000  106193.000000\n",
            "mean    92227.262821       9.501422  ...       0.000000       0.001603\n",
            "std     73578.981087      77.611551  ...       0.057438       0.045856\n",
            "min      3849.073600       1.216553  ...       0.000000       0.000000\n",
            "25%     31932.798061       1.228886  ...       0.000479       0.000578\n",
            "50%     63092.628568       2.304709  ...       0.000228       0.006400\n",
            "75%    148721.901942       6.916343  ...       0.006221       0.006253\n",
            "max    239218.985253     933.050173  ...       0.859875       0.399871\n",
            "\n",
            "[8 rows x 29 columns]\n",
            "\n"
          ]
        }
      ]
    },
    {
      "cell_type": "markdown",
      "source": [
        "You can view the statistics by exporting the non-private result to the local Jupyter server using the `export` method:"
      ],
      "metadata": {
        "id": "kOO0C2-LqXF0"
      }
    },
    {
      "cell_type": "code",
      "source": [
        "%%ag\n",
        "\n",
        "export(undata_ls_describe, name='undata_ls_describe')"
      ],
      "metadata": {
        "colab": {
          "base_uri": "https://localhost:8080/"
        },
        "id": "TXKengzTpYu-",
        "outputId": "65c6c433-06b8-4def-8c46-8c23dcfc4c14"
      },
      "execution_count": 8,
      "outputs": [
        {
          "output_type": "stream",
          "name": "stdout",
          "text": [
            "Setting up exported variable in local environment: undata_ls_describe\n"
          ]
        }
      ]
    },
    {
      "cell_type": "markdown",
      "source": [
        "Now, we can access undata_ls_describe in our local jupyter environment."
      ],
      "metadata": {
        "id": "CU6MJ1TQqi4M"
      }
    },
    {
      "cell_type": "code",
      "source": [
        "undata_ls_describe"
      ],
      "metadata": {
        "colab": {
          "base_uri": "https://localhost:8080/",
          "height": 350
        },
        "id": "k8EJcq-uqfpJ",
        "outputId": "eefb34c7-2180-4ec3-e34c-2d1c9cb260cb"
      },
      "execution_count": 9,
      "outputs": [
        {
          "output_type": "execute_result",
          "data": {
            "text/plain": [
              "            objectid        ls_main  ls_num_lastyr     ls_num_now  \\\n",
              "count  106193.000000  106193.000000  106193.000000  106193.000000   \n",
              "mean    92227.262821       9.501422       0.000000    2394.844254   \n",
              "std     73578.981087      77.611551    6631.473486   35155.668324   \n",
              "min      3849.073600       1.216553       0.875247       0.319290   \n",
              "25%     31932.798061       1.228886       3.629055       2.335665   \n",
              "50%     63092.628568       2.304709       8.113424       5.079792   \n",
              "75%    148721.901942       6.916343      20.914903      13.295288   \n",
              "max    239218.985253     933.050173  149617.920230   68266.338045   \n",
              "\n",
              "         ls_num_diff  ls_num_increased  ls_num_decreased  ls_num_no_change  \\\n",
              "count  106193.000000     106193.000000     106193.000000     106193.000000   \n",
              "mean     -140.307544          0.254460          0.606956          0.138506   \n",
              "std      6506.479588          0.447073          0.483209          0.340367   \n",
              "min    -44173.014370          0.000000          0.000000          0.000000   \n",
              "25%        -8.859395          0.002980          0.000294          0.005638   \n",
              "50%        -1.558456          0.009942          0.969139          0.021323   \n",
              "75%         0.843116          0.782992          0.999977          0.021275   \n",
              "max     15769.360441          0.993362          0.970454          0.991092   \n",
              "\n",
              "       ls_num_inc_less_sales  ls_num_inc_more_birth  ...  ls_num_inc_dec_dk  \\\n",
              "count          106193.000000          106193.000000  ...      106193.000000   \n",
              "mean                0.054788               0.213822  ...           0.000000   \n",
              "std                 0.247414               0.412234  ...           0.065301   \n",
              "min                 0.000000               0.000000  ...           0.000000   \n",
              "25%                 0.006323               0.000730  ...           0.034747   \n",
              "50%                 0.008001               0.003518  ...           0.004047   \n",
              "75%                 0.004844               0.203501  ...           0.002599   \n",
              "max                 0.993086               0.999756  ...           0.792870   \n",
              "\n",
              "       ls_num_inc_dec_ref  ls_feed_open_pasture  ls_feed_common_pasture  \\\n",
              "count       106193.000000         106193.000000           106193.000000   \n",
              "mean             0.001186              0.572027                0.146485   \n",
              "std              0.050791              0.491773                0.373616   \n",
              "min              0.000000              0.000000                0.000000   \n",
              "25%              0.021168              0.024102                0.010437   \n",
              "50%              0.004695              0.940237                0.015741   \n",
              "75%              0.076524              0.999311                0.118947   \n",
              "max              0.776746              0.998816                0.983962   \n",
              "\n",
              "       ls_feed_self_produced  ls_feed_purchased  ls_feed_free_dist  \\\n",
              "count          106193.000000      106193.000000      106193.000000   \n",
              "mean                0.240413           0.457689           0.019090   \n",
              "std                 0.425942           0.498414           0.124016   \n",
              "min                 0.000000           0.000000           0.000000   \n",
              "25%                 0.006385           0.048042           0.001503   \n",
              "50%                 0.000030           0.009499           0.022420   \n",
              "75%                 0.679436           0.998096           0.005327   \n",
              "max                 0.987537           0.998874           0.887524   \n",
              "\n",
              "       ls_feed_other     ls_feed_dk    ls_feed_ref  \n",
              "count  106193.000000  106193.000000  106193.000000  \n",
              "mean        0.024110       0.000000       0.001603  \n",
              "std         0.152211       0.057438       0.045856  \n",
              "min         0.000000       0.000000       0.000000  \n",
              "25%         0.004094       0.000479       0.000578  \n",
              "50%         0.021282       0.000228       0.006400  \n",
              "75%         0.014507       0.006221       0.006253  \n",
              "max         0.784800       0.859875       0.399871  \n",
              "\n",
              "[8 rows x 29 columns]"
            ],
            "text/html": [
              "\n",
              "  <div id=\"df-e84b2a45-6911-41b6-8739-6bbb276db590\" class=\"colab-df-container\">\n",
              "    <div>\n",
              "<style scoped>\n",
              "    .dataframe tbody tr th:only-of-type {\n",
              "        vertical-align: middle;\n",
              "    }\n",
              "\n",
              "    .dataframe tbody tr th {\n",
              "        vertical-align: top;\n",
              "    }\n",
              "\n",
              "    .dataframe thead th {\n",
              "        text-align: right;\n",
              "    }\n",
              "</style>\n",
              "<table border=\"1\" class=\"dataframe\">\n",
              "  <thead>\n",
              "    <tr style=\"text-align: right;\">\n",
              "      <th></th>\n",
              "      <th>objectid</th>\n",
              "      <th>ls_main</th>\n",
              "      <th>ls_num_lastyr</th>\n",
              "      <th>ls_num_now</th>\n",
              "      <th>ls_num_diff</th>\n",
              "      <th>ls_num_increased</th>\n",
              "      <th>ls_num_decreased</th>\n",
              "      <th>ls_num_no_change</th>\n",
              "      <th>ls_num_inc_less_sales</th>\n",
              "      <th>ls_num_inc_more_birth</th>\n",
              "      <th>...</th>\n",
              "      <th>ls_num_inc_dec_dk</th>\n",
              "      <th>ls_num_inc_dec_ref</th>\n",
              "      <th>ls_feed_open_pasture</th>\n",
              "      <th>ls_feed_common_pasture</th>\n",
              "      <th>ls_feed_self_produced</th>\n",
              "      <th>ls_feed_purchased</th>\n",
              "      <th>ls_feed_free_dist</th>\n",
              "      <th>ls_feed_other</th>\n",
              "      <th>ls_feed_dk</th>\n",
              "      <th>ls_feed_ref</th>\n",
              "    </tr>\n",
              "  </thead>\n",
              "  <tbody>\n",
              "    <tr>\n",
              "      <th>count</th>\n",
              "      <td>106193.000000</td>\n",
              "      <td>106193.000000</td>\n",
              "      <td>106193.000000</td>\n",
              "      <td>106193.000000</td>\n",
              "      <td>106193.000000</td>\n",
              "      <td>106193.000000</td>\n",
              "      <td>106193.000000</td>\n",
              "      <td>106193.000000</td>\n",
              "      <td>106193.000000</td>\n",
              "      <td>106193.000000</td>\n",
              "      <td>...</td>\n",
              "      <td>106193.000000</td>\n",
              "      <td>106193.000000</td>\n",
              "      <td>106193.000000</td>\n",
              "      <td>106193.000000</td>\n",
              "      <td>106193.000000</td>\n",
              "      <td>106193.000000</td>\n",
              "      <td>106193.000000</td>\n",
              "      <td>106193.000000</td>\n",
              "      <td>106193.000000</td>\n",
              "      <td>106193.000000</td>\n",
              "    </tr>\n",
              "    <tr>\n",
              "      <th>mean</th>\n",
              "      <td>92227.262821</td>\n",
              "      <td>9.501422</td>\n",
              "      <td>0.000000</td>\n",
              "      <td>2394.844254</td>\n",
              "      <td>-140.307544</td>\n",
              "      <td>0.254460</td>\n",
              "      <td>0.606956</td>\n",
              "      <td>0.138506</td>\n",
              "      <td>0.054788</td>\n",
              "      <td>0.213822</td>\n",
              "      <td>...</td>\n",
              "      <td>0.000000</td>\n",
              "      <td>0.001186</td>\n",
              "      <td>0.572027</td>\n",
              "      <td>0.146485</td>\n",
              "      <td>0.240413</td>\n",
              "      <td>0.457689</td>\n",
              "      <td>0.019090</td>\n",
              "      <td>0.024110</td>\n",
              "      <td>0.000000</td>\n",
              "      <td>0.001603</td>\n",
              "    </tr>\n",
              "    <tr>\n",
              "      <th>std</th>\n",
              "      <td>73578.981087</td>\n",
              "      <td>77.611551</td>\n",
              "      <td>6631.473486</td>\n",
              "      <td>35155.668324</td>\n",
              "      <td>6506.479588</td>\n",
              "      <td>0.447073</td>\n",
              "      <td>0.483209</td>\n",
              "      <td>0.340367</td>\n",
              "      <td>0.247414</td>\n",
              "      <td>0.412234</td>\n",
              "      <td>...</td>\n",
              "      <td>0.065301</td>\n",
              "      <td>0.050791</td>\n",
              "      <td>0.491773</td>\n",
              "      <td>0.373616</td>\n",
              "      <td>0.425942</td>\n",
              "      <td>0.498414</td>\n",
              "      <td>0.124016</td>\n",
              "      <td>0.152211</td>\n",
              "      <td>0.057438</td>\n",
              "      <td>0.045856</td>\n",
              "    </tr>\n",
              "    <tr>\n",
              "      <th>min</th>\n",
              "      <td>3849.073600</td>\n",
              "      <td>1.216553</td>\n",
              "      <td>0.875247</td>\n",
              "      <td>0.319290</td>\n",
              "      <td>-44173.014370</td>\n",
              "      <td>0.000000</td>\n",
              "      <td>0.000000</td>\n",
              "      <td>0.000000</td>\n",
              "      <td>0.000000</td>\n",
              "      <td>0.000000</td>\n",
              "      <td>...</td>\n",
              "      <td>0.000000</td>\n",
              "      <td>0.000000</td>\n",
              "      <td>0.000000</td>\n",
              "      <td>0.000000</td>\n",
              "      <td>0.000000</td>\n",
              "      <td>0.000000</td>\n",
              "      <td>0.000000</td>\n",
              "      <td>0.000000</td>\n",
              "      <td>0.000000</td>\n",
              "      <td>0.000000</td>\n",
              "    </tr>\n",
              "    <tr>\n",
              "      <th>25%</th>\n",
              "      <td>31932.798061</td>\n",
              "      <td>1.228886</td>\n",
              "      <td>3.629055</td>\n",
              "      <td>2.335665</td>\n",
              "      <td>-8.859395</td>\n",
              "      <td>0.002980</td>\n",
              "      <td>0.000294</td>\n",
              "      <td>0.005638</td>\n",
              "      <td>0.006323</td>\n",
              "      <td>0.000730</td>\n",
              "      <td>...</td>\n",
              "      <td>0.034747</td>\n",
              "      <td>0.021168</td>\n",
              "      <td>0.024102</td>\n",
              "      <td>0.010437</td>\n",
              "      <td>0.006385</td>\n",
              "      <td>0.048042</td>\n",
              "      <td>0.001503</td>\n",
              "      <td>0.004094</td>\n",
              "      <td>0.000479</td>\n",
              "      <td>0.000578</td>\n",
              "    </tr>\n",
              "    <tr>\n",
              "      <th>50%</th>\n",
              "      <td>63092.628568</td>\n",
              "      <td>2.304709</td>\n",
              "      <td>8.113424</td>\n",
              "      <td>5.079792</td>\n",
              "      <td>-1.558456</td>\n",
              "      <td>0.009942</td>\n",
              "      <td>0.969139</td>\n",
              "      <td>0.021323</td>\n",
              "      <td>0.008001</td>\n",
              "      <td>0.003518</td>\n",
              "      <td>...</td>\n",
              "      <td>0.004047</td>\n",
              "      <td>0.004695</td>\n",
              "      <td>0.940237</td>\n",
              "      <td>0.015741</td>\n",
              "      <td>0.000030</td>\n",
              "      <td>0.009499</td>\n",
              "      <td>0.022420</td>\n",
              "      <td>0.021282</td>\n",
              "      <td>0.000228</td>\n",
              "      <td>0.006400</td>\n",
              "    </tr>\n",
              "    <tr>\n",
              "      <th>75%</th>\n",
              "      <td>148721.901942</td>\n",
              "      <td>6.916343</td>\n",
              "      <td>20.914903</td>\n",
              "      <td>13.295288</td>\n",
              "      <td>0.843116</td>\n",
              "      <td>0.782992</td>\n",
              "      <td>0.999977</td>\n",
              "      <td>0.021275</td>\n",
              "      <td>0.004844</td>\n",
              "      <td>0.203501</td>\n",
              "      <td>...</td>\n",
              "      <td>0.002599</td>\n",
              "      <td>0.076524</td>\n",
              "      <td>0.999311</td>\n",
              "      <td>0.118947</td>\n",
              "      <td>0.679436</td>\n",
              "      <td>0.998096</td>\n",
              "      <td>0.005327</td>\n",
              "      <td>0.014507</td>\n",
              "      <td>0.006221</td>\n",
              "      <td>0.006253</td>\n",
              "    </tr>\n",
              "    <tr>\n",
              "      <th>max</th>\n",
              "      <td>239218.985253</td>\n",
              "      <td>933.050173</td>\n",
              "      <td>149617.920230</td>\n",
              "      <td>68266.338045</td>\n",
              "      <td>15769.360441</td>\n",
              "      <td>0.993362</td>\n",
              "      <td>0.970454</td>\n",
              "      <td>0.991092</td>\n",
              "      <td>0.993086</td>\n",
              "      <td>0.999756</td>\n",
              "      <td>...</td>\n",
              "      <td>0.792870</td>\n",
              "      <td>0.776746</td>\n",
              "      <td>0.998816</td>\n",
              "      <td>0.983962</td>\n",
              "      <td>0.987537</td>\n",
              "      <td>0.998874</td>\n",
              "      <td>0.887524</td>\n",
              "      <td>0.784800</td>\n",
              "      <td>0.859875</td>\n",
              "      <td>0.399871</td>\n",
              "    </tr>\n",
              "  </tbody>\n",
              "</table>\n",
              "<p>8 rows × 29 columns</p>\n",
              "</div>\n",
              "    <div class=\"colab-df-buttons\">\n",
              "\n",
              "  <div class=\"colab-df-container\">\n",
              "    <button class=\"colab-df-convert\" onclick=\"convertToInteractive('df-e84b2a45-6911-41b6-8739-6bbb276db590')\"\n",
              "            title=\"Convert this dataframe to an interactive table.\"\n",
              "            style=\"display:none;\">\n",
              "\n",
              "  <svg xmlns=\"http://www.w3.org/2000/svg\" height=\"24px\" viewBox=\"0 -960 960 960\">\n",
              "    <path d=\"M120-120v-720h720v720H120Zm60-500h600v-160H180v160Zm220 220h160v-160H400v160Zm0 220h160v-160H400v160ZM180-400h160v-160H180v160Zm440 0h160v-160H620v160ZM180-180h160v-160H180v160Zm440 0h160v-160H620v160Z\"/>\n",
              "  </svg>\n",
              "    </button>\n",
              "\n",
              "  <style>\n",
              "    .colab-df-container {\n",
              "      display:flex;\n",
              "      gap: 12px;\n",
              "    }\n",
              "\n",
              "    .colab-df-convert {\n",
              "      background-color: #E8F0FE;\n",
              "      border: none;\n",
              "      border-radius: 50%;\n",
              "      cursor: pointer;\n",
              "      display: none;\n",
              "      fill: #1967D2;\n",
              "      height: 32px;\n",
              "      padding: 0 0 0 0;\n",
              "      width: 32px;\n",
              "    }\n",
              "\n",
              "    .colab-df-convert:hover {\n",
              "      background-color: #E2EBFA;\n",
              "      box-shadow: 0px 1px 2px rgba(60, 64, 67, 0.3), 0px 1px 3px 1px rgba(60, 64, 67, 0.15);\n",
              "      fill: #174EA6;\n",
              "    }\n",
              "\n",
              "    .colab-df-buttons div {\n",
              "      margin-bottom: 4px;\n",
              "    }\n",
              "\n",
              "    [theme=dark] .colab-df-convert {\n",
              "      background-color: #3B4455;\n",
              "      fill: #D2E3FC;\n",
              "    }\n",
              "\n",
              "    [theme=dark] .colab-df-convert:hover {\n",
              "      background-color: #434B5C;\n",
              "      box-shadow: 0px 1px 3px 1px rgba(0, 0, 0, 0.15);\n",
              "      filter: drop-shadow(0px 1px 2px rgba(0, 0, 0, 0.3));\n",
              "      fill: #FFFFFF;\n",
              "    }\n",
              "  </style>\n",
              "\n",
              "    <script>\n",
              "      const buttonEl =\n",
              "        document.querySelector('#df-e84b2a45-6911-41b6-8739-6bbb276db590 button.colab-df-convert');\n",
              "      buttonEl.style.display =\n",
              "        google.colab.kernel.accessAllowed ? 'block' : 'none';\n",
              "\n",
              "      async function convertToInteractive(key) {\n",
              "        const element = document.querySelector('#df-e84b2a45-6911-41b6-8739-6bbb276db590');\n",
              "        const dataTable =\n",
              "          await google.colab.kernel.invokeFunction('convertToInteractive',\n",
              "                                                    [key], {});\n",
              "        if (!dataTable) return;\n",
              "\n",
              "        const docLinkHtml = 'Like what you see? Visit the ' +\n",
              "          '<a target=\"_blank\" href=https://colab.research.google.com/notebooks/data_table.ipynb>data table notebook</a>'\n",
              "          + ' to learn more about interactive tables.';\n",
              "        element.innerHTML = '';\n",
              "        dataTable['output_type'] = 'display_data';\n",
              "        await google.colab.output.renderOutput(dataTable, element);\n",
              "        const docLink = document.createElement('div');\n",
              "        docLink.innerHTML = docLinkHtml;\n",
              "        element.appendChild(docLink);\n",
              "      }\n",
              "    </script>\n",
              "  </div>\n",
              "\n",
              "\n",
              "<div id=\"df-1f018b30-09b2-4cf5-9b2f-3e29d81a58f0\">\n",
              "  <button class=\"colab-df-quickchart\" onclick=\"quickchart('df-1f018b30-09b2-4cf5-9b2f-3e29d81a58f0')\"\n",
              "            title=\"Suggest charts.\"\n",
              "            style=\"display:none;\">\n",
              "\n",
              "<svg xmlns=\"http://www.w3.org/2000/svg\" height=\"24px\"viewBox=\"0 0 24 24\"\n",
              "     width=\"24px\">\n",
              "    <g>\n",
              "        <path d=\"M19 3H5c-1.1 0-2 .9-2 2v14c0 1.1.9 2 2 2h14c1.1 0 2-.9 2-2V5c0-1.1-.9-2-2-2zM9 17H7v-7h2v7zm4 0h-2V7h2v10zm4 0h-2v-4h2v4z\"/>\n",
              "    </g>\n",
              "</svg>\n",
              "  </button>\n",
              "\n",
              "<style>\n",
              "  .colab-df-quickchart {\n",
              "      --bg-color: #E8F0FE;\n",
              "      --fill-color: #1967D2;\n",
              "      --hover-bg-color: #E2EBFA;\n",
              "      --hover-fill-color: #174EA6;\n",
              "      --disabled-fill-color: #AAA;\n",
              "      --disabled-bg-color: #DDD;\n",
              "  }\n",
              "\n",
              "  [theme=dark] .colab-df-quickchart {\n",
              "      --bg-color: #3B4455;\n",
              "      --fill-color: #D2E3FC;\n",
              "      --hover-bg-color: #434B5C;\n",
              "      --hover-fill-color: #FFFFFF;\n",
              "      --disabled-bg-color: #3B4455;\n",
              "      --disabled-fill-color: #666;\n",
              "  }\n",
              "\n",
              "  .colab-df-quickchart {\n",
              "    background-color: var(--bg-color);\n",
              "    border: none;\n",
              "    border-radius: 50%;\n",
              "    cursor: pointer;\n",
              "    display: none;\n",
              "    fill: var(--fill-color);\n",
              "    height: 32px;\n",
              "    padding: 0;\n",
              "    width: 32px;\n",
              "  }\n",
              "\n",
              "  .colab-df-quickchart:hover {\n",
              "    background-color: var(--hover-bg-color);\n",
              "    box-shadow: 0 1px 2px rgba(60, 64, 67, 0.3), 0 1px 3px 1px rgba(60, 64, 67, 0.15);\n",
              "    fill: var(--button-hover-fill-color);\n",
              "  }\n",
              "\n",
              "  .colab-df-quickchart-complete:disabled,\n",
              "  .colab-df-quickchart-complete:disabled:hover {\n",
              "    background-color: var(--disabled-bg-color);\n",
              "    fill: var(--disabled-fill-color);\n",
              "    box-shadow: none;\n",
              "  }\n",
              "\n",
              "  .colab-df-spinner {\n",
              "    border: 2px solid var(--fill-color);\n",
              "    border-color: transparent;\n",
              "    border-bottom-color: var(--fill-color);\n",
              "    animation:\n",
              "      spin 1s steps(1) infinite;\n",
              "  }\n",
              "\n",
              "  @keyframes spin {\n",
              "    0% {\n",
              "      border-color: transparent;\n",
              "      border-bottom-color: var(--fill-color);\n",
              "      border-left-color: var(--fill-color);\n",
              "    }\n",
              "    20% {\n",
              "      border-color: transparent;\n",
              "      border-left-color: var(--fill-color);\n",
              "      border-top-color: var(--fill-color);\n",
              "    }\n",
              "    30% {\n",
              "      border-color: transparent;\n",
              "      border-left-color: var(--fill-color);\n",
              "      border-top-color: var(--fill-color);\n",
              "      border-right-color: var(--fill-color);\n",
              "    }\n",
              "    40% {\n",
              "      border-color: transparent;\n",
              "      border-right-color: var(--fill-color);\n",
              "      border-top-color: var(--fill-color);\n",
              "    }\n",
              "    60% {\n",
              "      border-color: transparent;\n",
              "      border-right-color: var(--fill-color);\n",
              "    }\n",
              "    80% {\n",
              "      border-color: transparent;\n",
              "      border-right-color: var(--fill-color);\n",
              "      border-bottom-color: var(--fill-color);\n",
              "    }\n",
              "    90% {\n",
              "      border-color: transparent;\n",
              "      border-bottom-color: var(--fill-color);\n",
              "    }\n",
              "  }\n",
              "</style>\n",
              "\n",
              "  <script>\n",
              "    async function quickchart(key) {\n",
              "      const quickchartButtonEl =\n",
              "        document.querySelector('#' + key + ' button');\n",
              "      quickchartButtonEl.disabled = true;  // To prevent multiple clicks.\n",
              "      quickchartButtonEl.classList.add('colab-df-spinner');\n",
              "      try {\n",
              "        const charts = await google.colab.kernel.invokeFunction(\n",
              "            'suggestCharts', [key], {});\n",
              "      } catch (error) {\n",
              "        console.error('Error during call to suggestCharts:', error);\n",
              "      }\n",
              "      quickchartButtonEl.classList.remove('colab-df-spinner');\n",
              "      quickchartButtonEl.classList.add('colab-df-quickchart-complete');\n",
              "    }\n",
              "    (() => {\n",
              "      let quickchartButtonEl =\n",
              "        document.querySelector('#df-1f018b30-09b2-4cf5-9b2f-3e29d81a58f0 button');\n",
              "      quickchartButtonEl.style.display =\n",
              "        google.colab.kernel.accessAllowed ? 'block' : 'none';\n",
              "    })();\n",
              "  </script>\n",
              "</div>\n",
              "    </div>\n",
              "  </div>\n"
            ]
          },
          "metadata": {},
          "execution_count": 9
        }
      ]
    },
    {
      "cell_type": "markdown",
      "source": [
        "## Data Preprocessing 🌐"
      ],
      "metadata": {
        "id": "8gLBizoP0mP6"
      }
    },
    {
      "cell_type": "markdown",
      "source": [
        "### Importing External Data\n",
        "\n",
        "Guess what? You can also import any external data, merge it with the data provided to get some inferences.\n",
        "\n",
        "Here is an example on how to do that:"
      ],
      "metadata": {
        "id": "aMHgNXSb0cv4"
      }
    },
    {
      "cell_type": "code",
      "source": [
        "'''\n",
        "Creating mock data\n",
        "\n",
        "Mock data will just be 100 rows of age and salary information\n",
        "'''\n",
        "\n",
        "import pandas as pd\n",
        "import numpy as np\n",
        "\n",
        "n_num = 100\n",
        "df = pd.DataFrame({'age': np.random.randint(0, 80, n_num), 'salary': np.random.randint(100, 100000, n_num)})\n",
        "session.private_import(data = df, name= 'imported_df')"
      ],
      "metadata": {
        "colab": {
          "base_uri": "https://localhost:8080/"
        },
        "id": "gu-dHZ7i00Wn",
        "outputId": "95aa5636-94ab-48dd-fe0e-f449cb9f5ca4"
      },
      "execution_count": 10,
      "outputs": [
        {
          "output_type": "stream",
          "name": "stdout",
          "text": [
            "dataframe cached to server, loading to kernel...\n",
            "Output: Dataframe loaded successfully to the kernel\n",
            "\n"
          ]
        }
      ]
    },
    {
      "cell_type": "code",
      "source": [
        "%%ag\n",
        "# Creating a PrivateDataFrame out of the DataFrame imported.\n",
        "import op_pandas\n",
        "\n",
        "metadata = {\n",
        "    'age': (0, 80),\n",
        "    'salary': (1, 200000)\n",
        "}\n",
        "\n",
        "priv_df = op_pandas.PrivateDataFrame(imported_df ,metadata = metadata)"
      ],
      "metadata": {
        "id": "7igAIzHR2e6K"
      },
      "execution_count": 11,
      "outputs": []
    },
    {
      "cell_type": "code",
      "source": [
        "%%ag\n",
        "\n",
        "ag_print(\"Private DataFrame Describe:\\n\", priv_df.describe(eps=1))"
      ],
      "metadata": {
        "colab": {
          "base_uri": "https://localhost:8080/"
        },
        "id": "ZIZuXyTb2uNY",
        "outputId": "226bf442-2996-4e9c-8015-86b564f3159d"
      },
      "execution_count": 12,
      "outputs": [
        {
          "output_type": "stream",
          "name": "stdout",
          "text": [
            "Private DataFrame Describe:\n",
            "               age         salary\n",
            "count  120.000000     120.000000\n",
            "mean    56.803482       1.000000\n",
            "std     24.842094   43532.227591\n",
            "min      0.000000    1088.455546\n",
            "25%     10.058633   66269.154215\n",
            "50%     37.239998   27113.635297\n",
            "75%     39.126436   46095.590793\n",
            "max     77.630131  177584.857815\n",
            "\n"
          ]
        }
      ]
    },
    {
      "cell_type": "markdown",
      "source": [
        "Now that `priv_df` is within the ag environment, you can do any operation with the original data and extract inferences."
      ],
      "metadata": {
        "id": "DMT3VosT3BLx"
      }
    },
    {
      "cell_type": "markdown",
      "source": [
        "### Combining Datasets: `undata_ls` and `undata_ls_dif`\n",
        "\n",
        "To facilitate certain analyses and visualisations, it might be useful to combine our two datasets (`undata_ls` and `undata_ls_dif`) into a single dataset.\n",
        "\n",
        "This can allow us to explore relationships between features more efficiently. 🤝🏼"
      ],
      "metadata": {
        "id": "VD_0DvZRtb6n"
      }
    },
    {
      "cell_type": "code",
      "source": [
        "%%ag\n",
        "\n",
        "import op_pandas\n",
        "\n",
        "joined_data = op_pandas.merge(undata_ls, undata_ls_dif, on=\"objectid\")\n",
        "\n",
        "ag_print(\"Joined Data Columns: \\n\", joined_data.columns)"
      ],
      "metadata": {
        "colab": {
          "base_uri": "https://localhost:8080/"
        },
        "id": "UbghmwQ6sMkb",
        "outputId": "6cba6077-73f6-474e-e903-7955aad2008d"
      },
      "execution_count": 13,
      "outputs": [
        {
          "output_type": "stream",
          "name": "stdout",
          "text": [
            "Joined Data Columns: \n",
            " Index(['objectid', 'ls_main', 'ls_num_lastyr', 'ls_num_now', 'ls_num_diff',\n",
            "       'ls_num_increased', 'ls_num_decreased', 'ls_num_no_change',\n",
            "       'ls_num_inc_less_sales', 'ls_num_inc_more_birth',\n",
            "       'ls_num_inc_more_acquired', 'ls_num_inc_received_free',\n",
            "       'ls_num_dec_poor_health', 'ls_num_dec_death',\n",
            "       'ls_num_dec_sales_good_price', 'ls_num_dec_sales_distress',\n",
            "       'ls_num_dec_escape_stolen', 'ls_num_dec_consumed',\n",
            "       'ls_num_inc_dec_other', 'ls_num_inc_dec_dk', 'ls_num_inc_dec_ref',\n",
            "       'ls_feed_open_pasture', 'ls_feed_common_pasture',\n",
            "       'ls_feed_self_produced', 'ls_feed_purchased', 'ls_feed_free_dist',\n",
            "       'ls_feed_other', 'ls_feed_dk', 'ls_feed_ref', 'ls_proddif',\n",
            "       'ls_proddif_feed_purchase', 'ls_proddif_access_pasture',\n",
            "       'ls_proddif_access_water', 'ls_proddif_vet_serv',\n",
            "       'ls_proddif_vet_input', 'ls_proddif_diseases', 'ls_proddif_theft',\n",
            "       'ls_proddif_access_market', 'ls_proddif_access_credit',\n",
            "       'ls_proddif_access_labour', 'ls_proddif_other', 'ls_proddif_dk',\n",
            "       'ls_proddif_ref', 'ls_salesmain', 'ls_salesdif',\n",
            "       'ls_salesdif_marketing_cost', 'ls_salesdif_damage_losses',\n",
            "       'ls_salesdif_low_demand', 'ls_salesdif_pay_delay',\n",
            "       'ls_salesdif_low_price', 'ls_salesdif_slaughterhouse',\n",
            "       'ls_salesdif_processing', 'ls_salesdif_competition',\n",
            "       'ls_salesdif_other', 'ls_salesdif_dk', 'ls_salesdif_ref',\n",
            "       'ls_salesprice'],\n",
            "      dtype='object')\n",
            "\n"
          ]
        }
      ]
    },
    {
      "cell_type": "markdown",
      "source": [
        "Using `merge` method, we merge the two PrivateDataFrames."
      ],
      "metadata": {
        "id": "q3t3tK8RwUxz"
      }
    },
    {
      "cell_type": "markdown",
      "source": [
        "## Data Visualisation 🤩\n",
        "\n",
        "The next function in your arsenal is data visualisation. This is a pivotal step in exploratory data analysis. By visualising our data, we can observe patterns, anomalies, and relationships between variables that might not be apparent from the raw data alone.\n"
      ],
      "metadata": {
        "id": "sFMkh13ptYkm"
      }
    },
    {
      "cell_type": "markdown",
      "source": [
        "### Exploring the Data Using `histograms`"
      ],
      "metadata": {
        "id": "WH9aOQEfzvgw"
      }
    },
    {
      "cell_type": "markdown",
      "source": [
        "We can visualise different columns using differentially private `histograms`."
      ],
      "metadata": {
        "id": "9uJOxHtFzz0e"
      }
    },
    {
      "cell_type": "code",
      "source": [
        "%%ag\n",
        "\n",
        "hist_data = joined_data.hist(column='ls_salesprice',eps=1)\n",
        "export(hist_data , 'hist_data')"
      ],
      "metadata": {
        "colab": {
          "base_uri": "https://localhost:8080/"
        },
        "id": "CssP7oOvzzUq",
        "outputId": "3b0c6dc7-0628-4108-b452-a30705441ef1"
      },
      "execution_count": 14,
      "outputs": [
        {
          "output_type": "stream",
          "name": "stdout",
          "text": [
            "Setting up exported variable in local environment: hist_data\n"
          ]
        }
      ]
    },
    {
      "cell_type": "markdown",
      "source": [
        "To visualise the histogram locally, you can use matplotlib or any other plotting library of your choice."
      ],
      "metadata": {
        "id": "W7QA6iTT3uk_"
      }
    },
    {
      "cell_type": "code",
      "source": [
        "import plotly.graph_objects as go\n",
        "dp_hist, dp_bins = hist_data\n",
        "fig = go.Figure(data=[go.Bar(x=dp_bins[:-1], y=dp_hist)])\n",
        "fig.show()"
      ],
      "metadata": {
        "colab": {
          "base_uri": "https://localhost:8080/",
          "height": 542
        },
        "id": "OcJFiyeC3s0s",
        "outputId": "8421ada7-4396-4f9b-95a0-817a1bc980d1"
      },
      "execution_count": 15,
      "outputs": [
        {
          "output_type": "display_data",
          "data": {
            "text/html": [
              "<html>\n",
              "<head><meta charset=\"utf-8\" /></head>\n",
              "<body>\n",
              "    <div>            <script src=\"https://cdnjs.cloudflare.com/ajax/libs/mathjax/2.7.5/MathJax.js?config=TeX-AMS-MML_SVG\"></script><script type=\"text/javascript\">if (window.MathJax && window.MathJax.Hub && window.MathJax.Hub.Config) {window.MathJax.Hub.Config({SVG: {font: \"STIX-Web\"}});}</script>                <script type=\"text/javascript\">window.PlotlyConfig = {MathJaxConfig: 'local'};</script>\n",
              "        <script charset=\"utf-8\" src=\"https://cdn.plot.ly/plotly-2.24.1.min.js\"></script>                <div id=\"789981a9-0af1-4679-bb2d-c022e6f6ba5e\" class=\"plotly-graph-div\" style=\"height:525px; width:100%;\"></div>            <script type=\"text/javascript\">                                    window.PLOTLYENV=window.PLOTLYENV || {};                                    if (document.getElementById(\"789981a9-0af1-4679-bb2d-c022e6f6ba5e\")) {                    Plotly.newPlot(                        \"789981a9-0af1-4679-bb2d-c022e6f6ba5e\",                        [{\"x\":[1.0,100.8,200.6,300.4,400.2,500.0,599.8,699.6,799.4,899.1999999999999],\"y\":[14245,1,0,0,1,0,0,0,26,17],\"type\":\"bar\"}],                        {\"template\":{\"data\":{\"histogram2dcontour\":[{\"type\":\"histogram2dcontour\",\"colorbar\":{\"outlinewidth\":0,\"ticks\":\"\"},\"colorscale\":[[0.0,\"#0d0887\"],[0.1111111111111111,\"#46039f\"],[0.2222222222222222,\"#7201a8\"],[0.3333333333333333,\"#9c179e\"],[0.4444444444444444,\"#bd3786\"],[0.5555555555555556,\"#d8576b\"],[0.6666666666666666,\"#ed7953\"],[0.7777777777777778,\"#fb9f3a\"],[0.8888888888888888,\"#fdca26\"],[1.0,\"#f0f921\"]]}],\"choropleth\":[{\"type\":\"choropleth\",\"colorbar\":{\"outlinewidth\":0,\"ticks\":\"\"}}],\"histogram2d\":[{\"type\":\"histogram2d\",\"colorbar\":{\"outlinewidth\":0,\"ticks\":\"\"},\"colorscale\":[[0.0,\"#0d0887\"],[0.1111111111111111,\"#46039f\"],[0.2222222222222222,\"#7201a8\"],[0.3333333333333333,\"#9c179e\"],[0.4444444444444444,\"#bd3786\"],[0.5555555555555556,\"#d8576b\"],[0.6666666666666666,\"#ed7953\"],[0.7777777777777778,\"#fb9f3a\"],[0.8888888888888888,\"#fdca26\"],[1.0,\"#f0f921\"]]}],\"heatmap\":[{\"type\":\"heatmap\",\"colorbar\":{\"outlinewidth\":0,\"ticks\":\"\"},\"colorscale\":[[0.0,\"#0d0887\"],[0.1111111111111111,\"#46039f\"],[0.2222222222222222,\"#7201a8\"],[0.3333333333333333,\"#9c179e\"],[0.4444444444444444,\"#bd3786\"],[0.5555555555555556,\"#d8576b\"],[0.6666666666666666,\"#ed7953\"],[0.7777777777777778,\"#fb9f3a\"],[0.8888888888888888,\"#fdca26\"],[1.0,\"#f0f921\"]]}],\"heatmapgl\":[{\"type\":\"heatmapgl\",\"colorbar\":{\"outlinewidth\":0,\"ticks\":\"\"},\"colorscale\":[[0.0,\"#0d0887\"],[0.1111111111111111,\"#46039f\"],[0.2222222222222222,\"#7201a8\"],[0.3333333333333333,\"#9c179e\"],[0.4444444444444444,\"#bd3786\"],[0.5555555555555556,\"#d8576b\"],[0.6666666666666666,\"#ed7953\"],[0.7777777777777778,\"#fb9f3a\"],[0.8888888888888888,\"#fdca26\"],[1.0,\"#f0f921\"]]}],\"contourcarpet\":[{\"type\":\"contourcarpet\",\"colorbar\":{\"outlinewidth\":0,\"ticks\":\"\"}}],\"contour\":[{\"type\":\"contour\",\"colorbar\":{\"outlinewidth\":0,\"ticks\":\"\"},\"colorscale\":[[0.0,\"#0d0887\"],[0.1111111111111111,\"#46039f\"],[0.2222222222222222,\"#7201a8\"],[0.3333333333333333,\"#9c179e\"],[0.4444444444444444,\"#bd3786\"],[0.5555555555555556,\"#d8576b\"],[0.6666666666666666,\"#ed7953\"],[0.7777777777777778,\"#fb9f3a\"],[0.8888888888888888,\"#fdca26\"],[1.0,\"#f0f921\"]]}],\"surface\":[{\"type\":\"surface\",\"colorbar\":{\"outlinewidth\":0,\"ticks\":\"\"},\"colorscale\":[[0.0,\"#0d0887\"],[0.1111111111111111,\"#46039f\"],[0.2222222222222222,\"#7201a8\"],[0.3333333333333333,\"#9c179e\"],[0.4444444444444444,\"#bd3786\"],[0.5555555555555556,\"#d8576b\"],[0.6666666666666666,\"#ed7953\"],[0.7777777777777778,\"#fb9f3a\"],[0.8888888888888888,\"#fdca26\"],[1.0,\"#f0f921\"]]}],\"mesh3d\":[{\"type\":\"mesh3d\",\"colorbar\":{\"outlinewidth\":0,\"ticks\":\"\"}}],\"scatter\":[{\"fillpattern\":{\"fillmode\":\"overlay\",\"size\":10,\"solidity\":0.2},\"type\":\"scatter\"}],\"parcoords\":[{\"type\":\"parcoords\",\"line\":{\"colorbar\":{\"outlinewidth\":0,\"ticks\":\"\"}}}],\"scatterpolargl\":[{\"type\":\"scatterpolargl\",\"marker\":{\"colorbar\":{\"outlinewidth\":0,\"ticks\":\"\"}}}],\"bar\":[{\"error_x\":{\"color\":\"#2a3f5f\"},\"error_y\":{\"color\":\"#2a3f5f\"},\"marker\":{\"line\":{\"color\":\"#E5ECF6\",\"width\":0.5},\"pattern\":{\"fillmode\":\"overlay\",\"size\":10,\"solidity\":0.2}},\"type\":\"bar\"}],\"scattergeo\":[{\"type\":\"scattergeo\",\"marker\":{\"colorbar\":{\"outlinewidth\":0,\"ticks\":\"\"}}}],\"scatterpolar\":[{\"type\":\"scatterpolar\",\"marker\":{\"colorbar\":{\"outlinewidth\":0,\"ticks\":\"\"}}}],\"histogram\":[{\"marker\":{\"pattern\":{\"fillmode\":\"overlay\",\"size\":10,\"solidity\":0.2}},\"type\":\"histogram\"}],\"scattergl\":[{\"type\":\"scattergl\",\"marker\":{\"colorbar\":{\"outlinewidth\":0,\"ticks\":\"\"}}}],\"scatter3d\":[{\"type\":\"scatter3d\",\"line\":{\"colorbar\":{\"outlinewidth\":0,\"ticks\":\"\"}},\"marker\":{\"colorbar\":{\"outlinewidth\":0,\"ticks\":\"\"}}}],\"scattermapbox\":[{\"type\":\"scattermapbox\",\"marker\":{\"colorbar\":{\"outlinewidth\":0,\"ticks\":\"\"}}}],\"scatterternary\":[{\"type\":\"scatterternary\",\"marker\":{\"colorbar\":{\"outlinewidth\":0,\"ticks\":\"\"}}}],\"scattercarpet\":[{\"type\":\"scattercarpet\",\"marker\":{\"colorbar\":{\"outlinewidth\":0,\"ticks\":\"\"}}}],\"carpet\":[{\"aaxis\":{\"endlinecolor\":\"#2a3f5f\",\"gridcolor\":\"white\",\"linecolor\":\"white\",\"minorgridcolor\":\"white\",\"startlinecolor\":\"#2a3f5f\"},\"baxis\":{\"endlinecolor\":\"#2a3f5f\",\"gridcolor\":\"white\",\"linecolor\":\"white\",\"minorgridcolor\":\"white\",\"startlinecolor\":\"#2a3f5f\"},\"type\":\"carpet\"}],\"table\":[{\"cells\":{\"fill\":{\"color\":\"#EBF0F8\"},\"line\":{\"color\":\"white\"}},\"header\":{\"fill\":{\"color\":\"#C8D4E3\"},\"line\":{\"color\":\"white\"}},\"type\":\"table\"}],\"barpolar\":[{\"marker\":{\"line\":{\"color\":\"#E5ECF6\",\"width\":0.5},\"pattern\":{\"fillmode\":\"overlay\",\"size\":10,\"solidity\":0.2}},\"type\":\"barpolar\"}],\"pie\":[{\"automargin\":true,\"type\":\"pie\"}]},\"layout\":{\"autotypenumbers\":\"strict\",\"colorway\":[\"#636efa\",\"#EF553B\",\"#00cc96\",\"#ab63fa\",\"#FFA15A\",\"#19d3f3\",\"#FF6692\",\"#B6E880\",\"#FF97FF\",\"#FECB52\"],\"font\":{\"color\":\"#2a3f5f\"},\"hovermode\":\"closest\",\"hoverlabel\":{\"align\":\"left\"},\"paper_bgcolor\":\"white\",\"plot_bgcolor\":\"#E5ECF6\",\"polar\":{\"bgcolor\":\"#E5ECF6\",\"angularaxis\":{\"gridcolor\":\"white\",\"linecolor\":\"white\",\"ticks\":\"\"},\"radialaxis\":{\"gridcolor\":\"white\",\"linecolor\":\"white\",\"ticks\":\"\"}},\"ternary\":{\"bgcolor\":\"#E5ECF6\",\"aaxis\":{\"gridcolor\":\"white\",\"linecolor\":\"white\",\"ticks\":\"\"},\"baxis\":{\"gridcolor\":\"white\",\"linecolor\":\"white\",\"ticks\":\"\"},\"caxis\":{\"gridcolor\":\"white\",\"linecolor\":\"white\",\"ticks\":\"\"}},\"coloraxis\":{\"colorbar\":{\"outlinewidth\":0,\"ticks\":\"\"}},\"colorscale\":{\"sequential\":[[0.0,\"#0d0887\"],[0.1111111111111111,\"#46039f\"],[0.2222222222222222,\"#7201a8\"],[0.3333333333333333,\"#9c179e\"],[0.4444444444444444,\"#bd3786\"],[0.5555555555555556,\"#d8576b\"],[0.6666666666666666,\"#ed7953\"],[0.7777777777777778,\"#fb9f3a\"],[0.8888888888888888,\"#fdca26\"],[1.0,\"#f0f921\"]],\"sequentialminus\":[[0.0,\"#0d0887\"],[0.1111111111111111,\"#46039f\"],[0.2222222222222222,\"#7201a8\"],[0.3333333333333333,\"#9c179e\"],[0.4444444444444444,\"#bd3786\"],[0.5555555555555556,\"#d8576b\"],[0.6666666666666666,\"#ed7953\"],[0.7777777777777778,\"#fb9f3a\"],[0.8888888888888888,\"#fdca26\"],[1.0,\"#f0f921\"]],\"diverging\":[[0,\"#8e0152\"],[0.1,\"#c51b7d\"],[0.2,\"#de77ae\"],[0.3,\"#f1b6da\"],[0.4,\"#fde0ef\"],[0.5,\"#f7f7f7\"],[0.6,\"#e6f5d0\"],[0.7,\"#b8e186\"],[0.8,\"#7fbc41\"],[0.9,\"#4d9221\"],[1,\"#276419\"]]},\"xaxis\":{\"gridcolor\":\"white\",\"linecolor\":\"white\",\"ticks\":\"\",\"title\":{\"standoff\":15},\"zerolinecolor\":\"white\",\"automargin\":true,\"zerolinewidth\":2},\"yaxis\":{\"gridcolor\":\"white\",\"linecolor\":\"white\",\"ticks\":\"\",\"title\":{\"standoff\":15},\"zerolinecolor\":\"white\",\"automargin\":true,\"zerolinewidth\":2},\"scene\":{\"xaxis\":{\"backgroundcolor\":\"#E5ECF6\",\"gridcolor\":\"white\",\"linecolor\":\"white\",\"showbackground\":true,\"ticks\":\"\",\"zerolinecolor\":\"white\",\"gridwidth\":2},\"yaxis\":{\"backgroundcolor\":\"#E5ECF6\",\"gridcolor\":\"white\",\"linecolor\":\"white\",\"showbackground\":true,\"ticks\":\"\",\"zerolinecolor\":\"white\",\"gridwidth\":2},\"zaxis\":{\"backgroundcolor\":\"#E5ECF6\",\"gridcolor\":\"white\",\"linecolor\":\"white\",\"showbackground\":true,\"ticks\":\"\",\"zerolinecolor\":\"white\",\"gridwidth\":2}},\"shapedefaults\":{\"line\":{\"color\":\"#2a3f5f\"}},\"annotationdefaults\":{\"arrowcolor\":\"#2a3f5f\",\"arrowhead\":0,\"arrowwidth\":1},\"geo\":{\"bgcolor\":\"white\",\"landcolor\":\"#E5ECF6\",\"subunitcolor\":\"white\",\"showland\":true,\"showlakes\":true,\"lakecolor\":\"white\"},\"title\":{\"x\":0.05},\"mapbox\":{\"style\":\"light\"}}}},                        {\"responsive\": true}                    ).then(function(){\n",
              "                            \n",
              "var gd = document.getElementById('789981a9-0af1-4679-bb2d-c022e6f6ba5e');\n",
              "var x = new MutationObserver(function (mutations, observer) {{\n",
              "        var display = window.getComputedStyle(gd).display;\n",
              "        if (!display || display === 'none') {{\n",
              "            console.log([gd, 'removed!']);\n",
              "            Plotly.purge(gd);\n",
              "            observer.disconnect();\n",
              "        }}\n",
              "}});\n",
              "\n",
              "// Listen for the removal of the full notebook cells\n",
              "var notebookContainer = gd.closest('#notebook-container');\n",
              "if (notebookContainer) {{\n",
              "    x.observe(notebookContainer, {childList: true});\n",
              "}}\n",
              "\n",
              "// Listen for the clearing of the current output cell\n",
              "var outputEl = gd.closest('.output');\n",
              "if (outputEl) {{\n",
              "    x.observe(outputEl, {childList: true});\n",
              "}}\n",
              "\n",
              "                        })                };                            </script>        </div>\n",
              "</body>\n",
              "</html>"
            ]
          },
          "metadata": {}
        }
      ]
    },
    {
      "cell_type": "markdown",
      "source": [
        "### Splitting the Data"
      ],
      "metadata": {
        "id": "kWcw1EtU5gxq"
      }
    },
    {
      "cell_type": "markdown",
      "source": [
        "You can use `op_pandas.train_test_split` to split the data into `training` and `testing` parts randomly to train any of the models provided in `op_diffprivlib`.\n",
        "\n",
        "Here is an example on how to remove some columns from the data, and split the rest into `training` and `testing` parts."
      ],
      "metadata": {
        "id": "jS5oSDIM5kPx"
      }
    },
    {
      "cell_type": "code",
      "source": [
        "%%ag\n",
        "# removing 'ls_num_dec_poor_health' and 'ls_num_dec_death' from the joined dataset.\n",
        "\n",
        "joined_data.drop(['ls_num_dec_poor_health', 'ls_num_dec_death'])\n",
        "\n",
        "train_data, test_data = op_pandas.train_test_split(joined_data)\n",
        "\n",
        "ag_print(\"Train Data Description: \\n\", train_data.describe(eps = 1))\n",
        "ag_print(\"Test Data Description: \\n\", test_data.describe(eps = 1))"
      ],
      "metadata": {
        "colab": {
          "base_uri": "https://localhost:8080/"
        },
        "id": "2ISgTHnt5juU",
        "outputId": "45783ac5-72d5-4934-eb3b-bf34eaecada7"
      },
      "execution_count": 16,
      "outputs": [
        {
          "output_type": "stream",
          "name": "stdout",
          "text": [
            "Train Data Description: \n",
            "             objectid       ls_main  ...  ls_salesdif_ref  ls_salesprice\n",
            "count   70738.000000  70738.000000  ...     70738.000000   70738.000000\n",
            "mean    88029.619385      7.969086  ...         0.005477       6.477655\n",
            "std     78438.574474    131.884916  ...         0.029346      81.499228\n",
            "min      3872.451635      1.379914  ...         0.000000       1.913906\n",
            "25%     29558.126524      1.006835  ...         0.432466       1.260141\n",
            "50%     54798.710199      2.526993  ...         0.251303     489.258578\n",
            "75%    136594.747193      4.100764  ...         0.036115     141.882881\n",
            "max    238731.879559    903.617874  ...         0.217863      48.687546\n",
            "\n",
            "[8 rows x 55 columns]\n",
            "\n",
            "Test Data Description: \n",
            "             objectid       ls_main  ...  ls_salesdif_ref  ls_salesprice\n",
            "count   23369.000000  23369.000000  ...     23369.000000   23369.000000\n",
            "mean    94509.234734      1.000000  ...         0.017743      12.962512\n",
            "std     83074.722158    159.088466  ...         0.253966     175.672061\n",
            "min      3966.120213      1.497544  ...         0.000000     246.286717\n",
            "25%     28492.684542      1.644759  ...         0.147743     944.022202\n",
            "50%     66797.198753    234.723088  ...         0.128794     742.367997\n",
            "75%    182663.569504    558.811056  ...         0.037505     215.877093\n",
            "max    238565.544795    233.543355  ...         0.965636     178.246101\n",
            "\n",
            "[8 rows x 55 columns]\n",
            "\n"
          ]
        }
      ]
    },
    {
      "cell_type": "markdown",
      "source": [
        "Now you can train any model from `op_diffprivlib`."
      ],
      "metadata": {
        "id": "vEfy_8HW6xED"
      }
    },
    {
      "cell_type": "markdown",
      "source": [
        "Now that we are all done, we can terminate the session. Happy coding! 😎"
      ],
      "metadata": {
        "id": "rE3cXOqe62_9"
      }
    },
    {
      "cell_type": "code",
      "source": [
        "session.terminate_session()"
      ],
      "metadata": {
        "colab": {
          "base_uri": "https://localhost:8080/"
        },
        "id": "8XcTIopC62OK",
        "outputId": "23c48232-fa5b-4645-c8e4-f9f8fe785af4"
      },
      "execution_count": 17,
      "outputs": [
        {
          "output_type": "execute_result",
          "data": {
            "text/plain": [
              "{'status': 'ok'}"
            ]
          },
          "metadata": {},
          "execution_count": 17
        }
      ]
    }
  ]
}