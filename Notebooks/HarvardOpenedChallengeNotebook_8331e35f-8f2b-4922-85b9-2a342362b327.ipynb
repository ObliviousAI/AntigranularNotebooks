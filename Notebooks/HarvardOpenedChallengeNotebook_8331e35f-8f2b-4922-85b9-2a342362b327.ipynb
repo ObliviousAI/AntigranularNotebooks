{
  "cells": [
    {
      "cell_type": "code",
      "execution_count": null,
      "outputs": [
        {
          "output_type": "stream",
          "name": "stdout",
          "text": [
            "Collecting antigranular\n",
            "  Downloading antigranular-0.2.16-py3-none-any.whl (18 kB)\n",
            "Collecting diffprivlib<0.7.0,>=0.6.2 (from antigranular)\n",
            "  Downloading diffprivlib-0.6.3-py3-none-any.whl (176 kB)\n",
            "\u001b[2K     \u001b[90m━━━━━━━━━━━━━━━━━━━━━━━━━━━━━━━━━━━━━━━━\u001b[0m \u001b[32m176.0/176.0 kB\u001b[0m \u001b[31m3.4 MB/s\u001b[0m eta \u001b[36m0:00:00\u001b[0m\n",
            "\u001b[?25hRequirement already satisfied: ipython<8.0.0,>=7.34.0 in /usr/local/lib/python3.10/dist-packages (from antigranular) (7.34.0)\n",
            "Collecting oblv-client<0.2.0,>=0.1.15 (from antigranular)\n",
            "  Downloading oblv_client-0.1.15-cp310-cp310-manylinux_2_17_x86_64.manylinux2014_x86_64.whl (6.2 MB)\n",
            "\u001b[2K     \u001b[90m━━━━━━━━━━━━━━━━━━━━━━━━━━━━━━━━━━━━━━━━\u001b[0m \u001b[32m6.2/6.2 MB\u001b[0m \u001b[31m16.7 MB/s\u001b[0m eta \u001b[36m0:00:00\u001b[0m\n",
            "\u001b[?25hCollecting onnx<2.0.0,>=1.14.0 (from antigranular)\n",
            "  Downloading onnx-1.15.0-cp310-cp310-manylinux_2_17_x86_64.manylinux2014_x86_64.whl (15.7 MB)\n",
            "\u001b[2K     \u001b[90m━━━━━━━━━━━━━━━━━━━━━━━━━━━━━━━━━━━━━━━━\u001b[0m \u001b[32m15.7/15.7 MB\u001b[0m \u001b[31m51.0 MB/s\u001b[0m eta \u001b[36m0:00:00\u001b[0m\n",
            "\u001b[?25hRequirement already satisfied: pandas<2.0.0,>=1.5.3 in /usr/local/lib/python3.10/dist-packages (from antigranular) (1.5.3)\n",
            "Requirement already satisfied: pydantic<2.0.0,>=1.10.7 in /usr/local/lib/python3.10/dist-packages (from antigranular) (1.10.13)\n",
            "Requirement already satisfied: requests<3.0.0,>=2.31.0 in /usr/local/lib/python3.10/dist-packages (from antigranular) (2.31.0)\n",
            "Requirement already satisfied: numpy>=1.21.6 in /usr/local/lib/python3.10/dist-packages (from diffprivlib<0.7.0,>=0.6.2->antigranular) (1.23.5)\n",
            "Requirement already satisfied: scikit-learn>=0.24.2 in /usr/local/lib/python3.10/dist-packages (from diffprivlib<0.7.0,>=0.6.2->antigranular) (1.2.2)\n",
            "Requirement already satisfied: scipy>=1.7.3 in /usr/local/lib/python3.10/dist-packages (from diffprivlib<0.7.0,>=0.6.2->antigranular) (1.11.4)\n",
            "Requirement already satisfied: joblib>=0.16.0 in /usr/local/lib/python3.10/dist-packages (from diffprivlib<0.7.0,>=0.6.2->antigranular) (1.3.2)\n",
            "Requirement already satisfied: setuptools>=49.0.0 in /usr/local/lib/python3.10/dist-packages (from diffprivlib<0.7.0,>=0.6.2->antigranular) (67.7.2)\n",
            "Collecting jedi>=0.16 (from ipython<8.0.0,>=7.34.0->antigranular)\n",
            "  Downloading jedi-0.19.1-py2.py3-none-any.whl (1.6 MB)\n",
            "\u001b[2K     \u001b[90m━━━━━━━━━━━━━━━━━━━━━━━━━━━━━━━━━━━━━━━━\u001b[0m \u001b[32m1.6/1.6 MB\u001b[0m \u001b[31m42.6 MB/s\u001b[0m eta \u001b[36m0:00:00\u001b[0m\n",
            "\u001b[?25hRequirement already satisfied: decorator in /usr/local/lib/python3.10/dist-packages (from ipython<8.0.0,>=7.34.0->antigranular) (4.4.2)\n",
            "Requirement already satisfied: pickleshare in /usr/local/lib/python3.10/dist-packages (from ipython<8.0.0,>=7.34.0->antigranular) (0.7.5)\n",
            "Requirement already satisfied: traitlets>=4.2 in /usr/local/lib/python3.10/dist-packages (from ipython<8.0.0,>=7.34.0->antigranular) (5.7.1)\n",
            "Requirement already satisfied: prompt-toolkit!=3.0.0,!=3.0.1,<3.1.0,>=2.0.0 in /usr/local/lib/python3.10/dist-packages (from ipython<8.0.0,>=7.34.0->antigranular) (3.0.43)\n",
            "Requirement already satisfied: pygments in /usr/local/lib/python3.10/dist-packages (from ipython<8.0.0,>=7.34.0->antigranular) (2.16.1)\n",
            "Requirement already satisfied: backcall in /usr/local/lib/python3.10/dist-packages (from ipython<8.0.0,>=7.34.0->antigranular) (0.2.0)\n",
            "Requirement already satisfied: matplotlib-inline in /usr/local/lib/python3.10/dist-packages (from ipython<8.0.0,>=7.34.0->antigranular) (0.1.6)\n",
            "Requirement already satisfied: pexpect>4.3 in /usr/local/lib/python3.10/dist-packages (from ipython<8.0.0,>=7.34.0->antigranular) (4.9.0)\n",
            "Requirement already satisfied: urllib3 in /usr/local/lib/python3.10/dist-packages (from oblv-client<0.2.0,>=0.1.15->antigranular) (2.0.7)\n",
            "Requirement already satisfied: protobuf>=3.20.2 in /usr/local/lib/python3.10/dist-packages (from onnx<2.0.0,>=1.14.0->antigranular) (3.20.3)\n",
            "Requirement already satisfied: python-dateutil>=2.8.1 in /usr/local/lib/python3.10/dist-packages (from pandas<2.0.0,>=1.5.3->antigranular) (2.8.2)\n",
            "Requirement already satisfied: pytz>=2020.1 in /usr/local/lib/python3.10/dist-packages (from pandas<2.0.0,>=1.5.3->antigranular) (2023.3.post1)\n",
            "Requirement already satisfied: typing-extensions>=4.2.0 in /usr/local/lib/python3.10/dist-packages (from pydantic<2.0.0,>=1.10.7->antigranular) (4.5.0)\n",
            "Requirement already satisfied: charset-normalizer<4,>=2 in /usr/local/lib/python3.10/dist-packages (from requests<3.0.0,>=2.31.0->antigranular) (3.3.2)\n",
            "Requirement already satisfied: idna<4,>=2.5 in /usr/local/lib/python3.10/dist-packages (from requests<3.0.0,>=2.31.0->antigranular) (3.6)\n",
            "Requirement already satisfied: certifi>=2017.4.17 in /usr/local/lib/python3.10/dist-packages (from requests<3.0.0,>=2.31.0->antigranular) (2023.11.17)\n",
            "Requirement already satisfied: parso<0.9.0,>=0.8.3 in /usr/local/lib/python3.10/dist-packages (from jedi>=0.16->ipython<8.0.0,>=7.34.0->antigranular) (0.8.3)\n",
            "Requirement already satisfied: ptyprocess>=0.5 in /usr/local/lib/python3.10/dist-packages (from pexpect>4.3->ipython<8.0.0,>=7.34.0->antigranular) (0.7.0)\n",
            "Requirement already satisfied: wcwidth in /usr/local/lib/python3.10/dist-packages (from prompt-toolkit!=3.0.0,!=3.0.1,<3.1.0,>=2.0.0->ipython<8.0.0,>=7.34.0->antigranular) (0.2.12)\n",
            "Requirement already satisfied: six>=1.5 in /usr/local/lib/python3.10/dist-packages (from python-dateutil>=2.8.1->pandas<2.0.0,>=1.5.3->antigranular) (1.16.0)\n",
            "Requirement already satisfied: threadpoolctl>=2.0.0 in /usr/local/lib/python3.10/dist-packages (from scikit-learn>=0.24.2->diffprivlib<0.7.0,>=0.6.2->antigranular) (3.2.0)\n",
            "Installing collected packages: onnx, oblv-client, jedi, diffprivlib, antigranular\n",
            "Successfully installed antigranular-0.2.16 diffprivlib-0.6.3 jedi-0.19.1 oblv-client-0.1.15 onnx-1.15.0\n",
            "Collecting recordlinkage\n",
            "  Downloading recordlinkage-0.16-py3-none-any.whl (926 kB)\n",
            "\u001b[2K     \u001b[90m━━━━━━━━━━━━━━━━━━━━━━━━━━━━━━━━━━━━━━━━\u001b[0m \u001b[32m926.9/926.9 kB\u001b[0m \u001b[31m2.3 MB/s\u001b[0m eta \u001b[36m0:00:00\u001b[0m\n",
            "\u001b[?25hCollecting jellyfish>=1 (from recordlinkage)\n",
            "  Downloading jellyfish-1.0.3-cp310-cp310-manylinux_2_17_x86_64.manylinux2014_x86_64.whl (1.2 MB)\n",
            "\u001b[2K     \u001b[90m━━━━━━━━━━━━━━━━━━━━━━━━━━━━━━━━━━━━━━━━\u001b[0m \u001b[32m1.2/1.2 MB\u001b[0m \u001b[31m10.4 MB/s\u001b[0m eta \u001b[36m0:00:00\u001b[0m\n",
            "\u001b[?25hRequirement already satisfied: numpy>=1.13 in /usr/local/lib/python3.10/dist-packages (from recordlinkage) (1.23.5)\n",
            "Requirement already satisfied: pandas<3,>=1 in /usr/local/lib/python3.10/dist-packages (from recordlinkage) (1.5.3)\n",
            "Requirement already satisfied: scipy>=1 in /usr/local/lib/python3.10/dist-packages (from recordlinkage) (1.11.4)\n",
            "Requirement already satisfied: scikit-learn>=1 in /usr/local/lib/python3.10/dist-packages (from recordlinkage) (1.2.2)\n",
            "Requirement already satisfied: joblib in /usr/local/lib/python3.10/dist-packages (from recordlinkage) (1.3.2)\n",
            "Requirement already satisfied: python-dateutil>=2.8.1 in /usr/local/lib/python3.10/dist-packages (from pandas<3,>=1->recordlinkage) (2.8.2)\n",
            "Requirement already satisfied: pytz>=2020.1 in /usr/local/lib/python3.10/dist-packages (from pandas<3,>=1->recordlinkage) (2023.3.post1)\n",
            "Requirement already satisfied: threadpoolctl>=2.0.0 in /usr/local/lib/python3.10/dist-packages (from scikit-learn>=1->recordlinkage) (3.2.0)\n",
            "Requirement already satisfied: six>=1.5 in /usr/local/lib/python3.10/dist-packages (from python-dateutil>=2.8.1->pandas<3,>=1->recordlinkage) (1.16.0)\n",
            "Installing collected packages: jellyfish, recordlinkage\n",
            "Successfully installed jellyfish-1.0.3 recordlinkage-0.16\n"
          ]
        }
      ],
      "source": [
        "# Downloading the required libraries\n",
        "!pip install antigranular\n",
        "!pip install recordlinkage"
      ],
      "metadata": {
        "id": "CP6_oNlNlAb2",
        "colab": {
          "base_uri": "https://localhost:8080/"
        },
        "outputId": "aefdc1e1-38c4-44d3-e9ba-d99b1576032e"
      }
    },
    {
      "cell_type": "code",
      "source": [
        "import antigranular as ag\n",
        "session = ag.login("<client_id>,<client_secret>, competition = \"Harvard OpenDP Hackathon\")"
      ],
      "metadata": {
        "colab": {
          "base_uri": "https://localhost:8080/",
          "height": 136
        },
        "id": "Q0VsnE8GuKBw",
        "outputId": "7eae254f-10d4-4380-a406-da2cb1120b25"
      },
      "execution_count": null,
      "outputs": [
        {
          "output_type": "display_data",
          "data": {
            "text/plain": [
              "<IPython.core.display.HTML object>"
            ],
            "text/html": []
          },
          "metadata": {}
        },
        {
          "output_type": "stream",
          "name": "stdout",
          "text": [
            "Dataset \"Flight Company Dataset\" loaded to the kernel as \u001b[92mflight_company_dataset\u001b[0m\n",
            "\n",
            "Dataset \"Health Organisation Dataset\" loaded to the kernel as \u001b[92mhealth_organisation_dataset\u001b[0m\n",
            "\n",
            "Connected to Antigranular server session id: 8331e35f-8f2b-4922-85b9-2a342362b327, the session will time out if idle for 25 minutes\n",
            "Cell magic '%%ag' registered successfully, use `%%ag` in a notebook cell to execute your python code on Antigranular private python server\n",
            "🚀 Everything's set up and ready to roll!\n"
          ]
        }
      ]
    },
    {
      "cell_type": "code",
      "execution_count": null,
      "outputs": [],
      "source": [
        "%%ag\n",
        "health = health_organisation_dataset\n",
        "flight = flight_company_dataset"
      ],
      "metadata": {
        "ExecuteTime": {
          "end_time": "2023-10-01T13:31:18.400945Z",
          "start_time": "2023-10-01T13:31:14.354979Z"
        },
        "id": "4BNk3raTlAb8"
      }
    },
    {
      "cell_type": "markdown",
      "source": [
        "## Basic metadata analysis\n",
        "Finding out the column names of the datasets."
      ],
      "metadata": {
        "collapsed": false,
        "id": "HYEcVH4LlAb8"
      }
    },
    {
      "cell_type": "code",
      "execution_count": null,
      "outputs": [
        {
          "output_type": "stream",
          "name": "stdout",
          "text": [
            "Flight Dataset \n",
            " ['flight_number', 'flight_date', 'flight_from', 'flight_to', 'passenger_firstname', 'passenger_lastname', 'passenger_date_of_birth', 'passenger_phone_number', 'passenger_email_address'] \n",
            "\n",
            "Health Datset \n",
            " ['patient_firstname', 'patient_lastname', 'patient_date_of_birth', 'patient_phone_number', 'patient_email_address', 'covidtest_date', 'covidtest_result', 'patient_address']\n",
            "\n"
          ]
        }
      ],
      "source": [
        "%%ag\n",
        "# Printing the column names using ag_print\n",
        "ag_print(f\"Flight Dataset \\n {flight.columns} \\n\")\n",
        "ag_print(f\"Health Datset \\n {health.columns}\")"
      ],
      "metadata": {
        "ExecuteTime": {
          "end_time": "2023-10-01T13:31:24.501412Z",
          "start_time": "2023-10-01T13:31:22.436112Z"
        },
        "id": "A-vCmT-1lAb-",
        "outputId": "4fdf3c35-df76-4cf9-fff2-51ebe54ce4c5",
        "colab": {
          "base_uri": "https://localhost:8080/"
        }
      }
    },
    {
      "cell_type": "markdown",
      "source": [
        "To filter out those flights which may contain passenger which was reported covid 19 recently , we will need to link both datasets in an efficient way. But before doing that let's filter out the negative tested patients"
      ],
      "metadata": {
        "collapsed": false,
        "id": "Ve29XRDglAcA"
      }
    },
    {
      "cell_type": "code",
      "execution_count": null,
      "outputs": [],
      "source": [
        "%%ag\n",
        "# Lets remove those patients records who tested negative.\n",
        "health['covidtest_result'] = health['covidtest_result'].where(health['covidtest_result'] == 'positive')\n",
        "health = health.dropna()"
      ],
      "metadata": {
        "ExecuteTime": {
          "end_time": "2023-10-01T13:31:31.203675Z",
          "start_time": "2023-10-01T13:31:29.002083Z"
        },
        "id": "E0MLjhI0lAcA"
      }
    },
    {
      "cell_type": "code",
      "source": [
        "health['full_name'] = health['patient_firstname']+health['patient_lastname']"
      ],
      "metadata": {
        "id": "J_ta6wEfoGr0"
      },
      "execution_count": null,
      "outputs": []
    },
    {
      "cell_type": "code",
      "source": [
        "%%ag\n",
        "# Printing the column names using ag_print\n",
        "ag_print(f\"Flight Dataset \\n {flight.columns} \\n\")\n",
        "ag_print(f\"Health Datset \\n {health.columns}\")"
      ],
      "metadata": {
        "colab": {
          "base_uri": "https://localhost:8080/"
        },
        "id": "tcCFXScSoA3x",
        "outputId": "4659a8f6-d8a0-4dd0-cd91-35614d88bb66"
      },
      "execution_count": null,
      "outputs": [
        {
          "output_type": "stream",
          "name": "stdout",
          "text": [
            "Flight Dataset \n",
            " ['flight_number', 'flight_date', 'flight_from', 'flight_to', 'passenger_firstname', 'passenger_lastname', 'passenger_date_of_birth', 'passenger_phone_number', 'passenger_email_address'] \n",
            "\n",
            "Health Datset \n",
            " ['patient_firstname', 'patient_lastname', 'patient_date_of_birth', 'patient_phone_number', 'patient_email_address', 'covidtest_date', 'covidtest_result', 'patient_address', 'full_name']\n",
            "\n"
          ]
        }
      ]
    },
    {
      "cell_type": "markdown",
      "source": [
        "### Setting Indexing Rules\n",
        "\n",
        "We use the `recordlinkage` library, and try to make sure that the indexer is created to a small number small enough to give good results. To do this we add the date of birth from both the flight and health datasets respectively"
      ],
      "metadata": {
        "collapsed": false,
        "id": "jPDZVoCtlAcB"
      }
    },
    {
      "cell_type": "code",
      "source": [
        "%%ag\n",
        "import op_recordlinkage as rl\n",
        "# Creating an indexer and blocking the date of birth\n",
        "indexer = rl.Index()\n",
        "indexer.block('passenger_date_of_birth','patient_date_of_birth')\n",
        "candidate_links = indexer.index(flight, health)\n",
        "# total number of links based on this indexing choice.\n",
        "ag_print(\"Total number of  links\", candidate_links.count(eps=0.1))"
      ],
      "metadata": {
        "id": "D3Roav-0rEk9",
        "colab": {
          "base_uri": "https://localhost:8080/"
        },
        "outputId": "0ff63135-ed43-45f4-86ca-9ec8f33d97c9"
      },
      "execution_count": null,
      "outputs": [
        {
          "output_type": "stream",
          "name": "stdout",
          "text": [
            "Total number of  links 568\n",
            "\n"
          ]
        }
      ]
    },
    {
      "cell_type": "markdown",
      "source": [
        "571 links seems to be a huge number let's try to jot the number down by adding another block on"
      ],
      "metadata": {
        "id": "la-hRrs5wXNN"
      }
    },
    {
      "cell_type": "code",
      "source": [
        "%%ag\n",
        "import op_recordlinkage as rl\n",
        "# Creating another indexer and additionally blocking the last names\n",
        "indexer = rl.Index()\n",
        "indexer.block(['passenger_date_of_birth', \"passenger_lastname\"],\n",
        "              ['patient_date_of_birth', \"patient_lastname\"])\n",
        "candidate_links = indexer.index(flight, health)\n",
        "# total number of links based on this indexing choice.\n",
        "ag_print(\"Total number of links\", candidate_links.count(eps=0.1))"
      ],
      "metadata": {
        "id": "zglYToNerFWJ",
        "colab": {
          "base_uri": "https://localhost:8080/"
        },
        "outputId": "08b83c96-13c1-403c-a331-4e1238372ab9"
      },
      "execution_count": null,
      "outputs": [
        {
          "output_type": "stream",
          "name": "stdout",
          "text": [
            "Total number of links 235\n",
            "\n"
          ]
        }
      ]
    },
    {
      "cell_type": "markdown",
      "source": [
        "228 links seems to be a huge number let's try to jot the number down by adding another block on"
      ],
      "metadata": {
        "id": "gWlTH-oUwduc"
      }
    },
    {
      "cell_type": "code",
      "source": [
        "%%ag\n",
        "import op_recordlinkage as rl\n",
        "# Creating another indexer and additioanlly blocking the first names\n",
        "indexer = rl.Index()\n",
        "indexer.block(['passenger_date_of_birth', \"passenger_lastname\", \"passenger_firstname\"],\n",
        "              ['patient_date_of_birth', \"patient_lastname\", \"patient_firstname\"])\n",
        "candidate_links = indexer.index(flight, health)\n",
        "# total number of links based on this indexing choice.\n",
        "ag_print(\"Total number of links\", candidate_links.count(eps=0.1))"
      ],
      "metadata": {
        "colab": {
          "base_uri": "https://localhost:8080/"
        },
        "id": "uvLfvbCNwEQy",
        "outputId": "032344ce-7aac-4abb-9611-d5d6b99bd407"
      },
      "execution_count": null,
      "outputs": [
        {
          "output_type": "stream",
          "name": "stdout",
          "text": [
            "Total number of links 93\n",
            "\n"
          ]
        }
      ]
    },
    {
      "cell_type": "markdown",
      "source": [
        "76 seems to be a reasonably smaller number so let's try to go ahead with these candidate links"
      ],
      "metadata": {
        "id": "Dfv7N9sFwfSe"
      }
    },
    {
      "cell_type": "code",
      "execution_count": null,
      "outputs": [],
      "source": [
        "%%ag\n",
        "compare = rl.Compare()\n",
        "# Using jarowinkler to account for the spelling errors and typos with a threshold of 0.8]\n",
        "compare.string(\"passenger_firstname\" , \"patient_firstname\" ,method='jarowinkler', label=\"firstname\")\n",
        "compare.string(\"passenger_lastname\",\"patient_lastname\" ,method='jarowinkler', threshold=0.8, label=\"lastname\")\n",
        "\n",
        "# custom functions are executed in isolated environment.\n",
        "import datetime\n",
        "def cmp(date_str1:str , date_str2:str)->int: # datetime and regex are pre-imported in isolated environment.\n",
        "    # Convert date strings to datetime objects\n",
        "    date1 = datetime.datetime.strptime(date_str1, \"%Y-%m-%d\")\n",
        "    date2 = datetime.datetime.strptime(date_str2, \"%Y-%m-%d\")\n",
        "    # Calculate the absolute difference in days\n",
        "    days_apart = (date2 - date1).days\n",
        "    # Check if the dates are within two weeks (14 days) apart\n",
        "    if days_apart <= 14:\n",
        "        return 2\n",
        "    else:\n",
        "        return 0\n",
        "\n",
        "compare.custom(cmp,\"flight_date\",\"covidtest_date\",label=\"date_cmp\")"
      ],
      "metadata": {
        "ExecuteTime": {
          "end_time": "2023-10-01T13:31:45.812932Z",
          "start_time": "2023-10-01T13:31:45.810168Z"
        },
        "id": "imbAzWMmlAcE"
      }
    },
    {
      "cell_type": "code",
      "execution_count": null,
      "outputs": [],
      "source": [
        "%%ag\n",
        "features = compare.compute(candidate_links,flight,health)"
      ],
      "metadata": {
        "ExecuteTime": {
          "end_time": "2023-10-01T13:32:01.780945Z",
          "start_time": "2023-10-01T13:31:54.584084Z"
        },
        "id": "Nx1vou2ClAcF"
      }
    },
    {
      "cell_type": "code",
      "execution_count": null,
      "outputs": [
        {
          "output_type": "stream",
          "name": "stdout",
          "text": [
            "Average weight : 1.9374957066083205\n",
            "\n"
          ]
        }
      ],
      "source": [
        "%%ag\n",
        "# Lets find out the average matching weights obtained based on the compare rules we set.\n",
        "ag_print(f\"Average weight : {features.sum(axis=1).mean(eps=0.1)}\")"
      ],
      "metadata": {
        "ExecuteTime": {
          "end_time": "2023-10-01T13:32:03.769560Z",
          "start_time": "2023-10-01T13:32:01.781580Z"
        },
        "id": "Eols2GFPlAcG",
        "outputId": "2a3f447f-36e2-42de-e00c-a85690c17733",
        "colab": {
          "base_uri": "https://localhost:8080/"
        }
      }
    },
    {
      "cell_type": "markdown",
      "source": [
        "### Linking the datasets\n",
        "\n",
        "Choosing a value = 3 for linking based on the obtained average. Our purpose of giving the custom_compare\n",
        "a weight=2 was to prioritize it over the matching of first_names/last_names. Moreover choosing a value=3 as threshold\n",
        "for matching will give us strong links based on the compare rules we have set."
      ],
      "metadata": {
        "collapsed": false,
        "id": "HtRq3veAlAcG"
      }
    },
    {
      "cell_type": "code",
      "execution_count": null,
      "outputs": [],
      "source": [
        "%%ag\n",
        "linked_df = compare.get_match(3)"
      ],
      "metadata": {
        "ExecuteTime": {
          "end_time": "2023-10-01T13:32:07.999566Z",
          "start_time": "2023-10-01T13:32:06.061223Z"
        },
        "id": "4H-dKX34lAcG"
      }
    },
    {
      "cell_type": "code",
      "execution_count": null,
      "outputs": [
        {
          "output_type": "stream",
          "name": "stdout",
          "text": [
            "score: {'leaderboard': 0.49684, 'logs': {'LIN_EPS': -0.00316, 'MCC': 0.5}}\n",
            "\n"
          ]
        }
      ],
      "source": [
        "%%ag\n",
        "# Submitting the column containing the filtered set of airlines we should report regarding a covid passenger.\n",
        "res = linked_df[[\"l_flight_number\"]]\n",
        "x = submit_predictions(res)"
      ],
      "metadata": {
        "ExecuteTime": {
          "end_time": "2023-10-01T13:38:45.962038Z",
          "start_time": "2023-10-01T13:38:45.958365Z"
        },
        "id": "xNkb1UnalAcH",
        "outputId": "ac2c6e3a-0ae6-4e0a-8e04-e930b22234ae",
        "colab": {
          "base_uri": "https://localhost:8080/"
        }
      }
    }
  ],
  "metadata": {
    "kernelspec": {
      "display_name": "Python 3",
      "language": "python",
      "name": "python3"
    },
    "language_info": {
      "codemirror_mode": {
        "name": "ipython",
        "version": 2
      },
      "file_extension": ".py",
      "mimetype": "text/x-python",
      "name": "python",
      "nbconvert_exporter": "python",
      "pygments_lexer": "ipython2",
      "version": "2.7.6"
    },
    "colab": {
      "provenance": [],
      "toc_visible": true
    }
  },
  "nbformat": 4,
  "nbformat_minor": 0
}