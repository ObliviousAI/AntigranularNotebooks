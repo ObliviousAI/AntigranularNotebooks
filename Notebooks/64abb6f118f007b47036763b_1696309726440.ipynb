{
  "cells": [
    {
      "cell_type": "code",
      "source": [
        "!pip install antigranular"
      ],
      "metadata": {
        "colab": {
          "base_uri": "https://localhost:8080/"
        },
        "id": "QqIEc6iftWP8",
        "outputId": "4ee032ae-bcf5-41b9-c421-a8479066561a"
      },
      "execution_count": 1,
      "outputs": [
        {
          "output_type": "stream",
          "name": "stdout",
          "text": [
            "Collecting antigranular\n",
            "  Downloading antigranular-0.2.10-py3-none-any.whl (18 kB)\n",
            "Collecting diffprivlib<0.7.0,>=0.6.2 (from antigranular)\n",
            "  Downloading diffprivlib-0.6.3-py3-none-any.whl (176 kB)\n",
            "\u001b[2K     \u001b[90m━━━━━━━━━━━━━━━━━━━━━━━━━━━━━━━━━━━━━━━\u001b[0m \u001b[32m176.0/176.0 kB\u001b[0m \u001b[31m5.9 MB/s\u001b[0m eta \u001b[36m0:00:00\u001b[0m\n",
            "\u001b[?25hRequirement already satisfied: ipython<8.0.0,>=7.34.0 in /usr/local/lib/python3.10/dist-packages (from antigranular) (7.34.0)\n",
            "Collecting oblv-client<0.2.0,>=0.1.15 (from antigranular)\n",
            "  Downloading oblv_client-0.1.15-cp310-cp310-manylinux_2_17_x86_64.manylinux2014_x86_64.whl (6.2 MB)\n",
            "\u001b[2K     \u001b[90m━━━━━━━━━━━━━━━━━━━━━━━━━━━━━━━━━━━━━━━━\u001b[0m \u001b[32m6.2/6.2 MB\u001b[0m \u001b[31m10.8 MB/s\u001b[0m eta \u001b[36m0:00:00\u001b[0m\n",
            "\u001b[?25hCollecting onnx<2.0.0,>=1.14.0 (from antigranular)\n",
            "  Downloading onnx-1.14.1-cp310-cp310-manylinux_2_17_x86_64.manylinux2014_x86_64.whl (14.6 MB)\n",
            "\u001b[2K     \u001b[90m━━━━━━━━━━━━━━━━━━━━━━━━━━━━━━━━━━━━━━━━\u001b[0m \u001b[32m14.6/14.6 MB\u001b[0m \u001b[31m61.4 MB/s\u001b[0m eta \u001b[36m0:00:00\u001b[0m\n",
            "\u001b[?25hRequirement already satisfied: pandas<2.0.0,>=1.5.3 in /usr/local/lib/python3.10/dist-packages (from antigranular) (1.5.3)\n",
            "Requirement already satisfied: pydantic<2.0.0,>=1.10.7 in /usr/local/lib/python3.10/dist-packages (from antigranular) (1.10.12)\n",
            "Requirement already satisfied: requests<3.0.0,>=2.31.0 in /usr/local/lib/python3.10/dist-packages (from antigranular) (2.31.0)\n",
            "Requirement already satisfied: numpy>=1.21.6 in /usr/local/lib/python3.10/dist-packages (from diffprivlib<0.7.0,>=0.6.2->antigranular) (1.23.5)\n",
            "Requirement already satisfied: scikit-learn>=0.24.2 in /usr/local/lib/python3.10/dist-packages (from diffprivlib<0.7.0,>=0.6.2->antigranular) (1.2.2)\n",
            "Requirement already satisfied: scipy>=1.7.3 in /usr/local/lib/python3.10/dist-packages (from diffprivlib<0.7.0,>=0.6.2->antigranular) (1.11.2)\n",
            "Requirement already satisfied: joblib>=0.16.0 in /usr/local/lib/python3.10/dist-packages (from diffprivlib<0.7.0,>=0.6.2->antigranular) (1.3.2)\n",
            "Requirement already satisfied: setuptools>=49.0.0 in /usr/local/lib/python3.10/dist-packages (from diffprivlib<0.7.0,>=0.6.2->antigranular) (67.7.2)\n",
            "Collecting jedi>=0.16 (from ipython<8.0.0,>=7.34.0->antigranular)\n",
            "  Downloading jedi-0.19.1-py2.py3-none-any.whl (1.6 MB)\n",
            "\u001b[2K     \u001b[90m━━━━━━━━━━━━━━━━━━━━━━━━━━━━━━━━━━━━━━━━\u001b[0m \u001b[32m1.6/1.6 MB\u001b[0m \u001b[31m53.8 MB/s\u001b[0m eta \u001b[36m0:00:00\u001b[0m\n",
            "\u001b[?25hRequirement already satisfied: decorator in /usr/local/lib/python3.10/dist-packages (from ipython<8.0.0,>=7.34.0->antigranular) (4.4.2)\n",
            "Requirement already satisfied: pickleshare in /usr/local/lib/python3.10/dist-packages (from ipython<8.0.0,>=7.34.0->antigranular) (0.7.5)\n",
            "Requirement already satisfied: traitlets>=4.2 in /usr/local/lib/python3.10/dist-packages (from ipython<8.0.0,>=7.34.0->antigranular) (5.7.1)\n",
            "Requirement already satisfied: prompt-toolkit!=3.0.0,!=3.0.1,<3.1.0,>=2.0.0 in /usr/local/lib/python3.10/dist-packages (from ipython<8.0.0,>=7.34.0->antigranular) (3.0.39)\n",
            "Requirement already satisfied: pygments in /usr/local/lib/python3.10/dist-packages (from ipython<8.0.0,>=7.34.0->antigranular) (2.16.1)\n",
            "Requirement already satisfied: backcall in /usr/local/lib/python3.10/dist-packages (from ipython<8.0.0,>=7.34.0->antigranular) (0.2.0)\n",
            "Requirement already satisfied: matplotlib-inline in /usr/local/lib/python3.10/dist-packages (from ipython<8.0.0,>=7.34.0->antigranular) (0.1.6)\n",
            "Requirement already satisfied: pexpect>4.3 in /usr/local/lib/python3.10/dist-packages (from ipython<8.0.0,>=7.34.0->antigranular) (4.8.0)\n",
            "Requirement already satisfied: urllib3 in /usr/local/lib/python3.10/dist-packages (from oblv-client<0.2.0,>=0.1.15->antigranular) (2.0.4)\n",
            "Requirement already satisfied: protobuf>=3.20.2 in /usr/local/lib/python3.10/dist-packages (from onnx<2.0.0,>=1.14.0->antigranular) (3.20.3)\n",
            "Requirement already satisfied: typing-extensions>=3.6.2.1 in /usr/local/lib/python3.10/dist-packages (from onnx<2.0.0,>=1.14.0->antigranular) (4.5.0)\n",
            "Requirement already satisfied: python-dateutil>=2.8.1 in /usr/local/lib/python3.10/dist-packages (from pandas<2.0.0,>=1.5.3->antigranular) (2.8.2)\n",
            "Requirement already satisfied: pytz>=2020.1 in /usr/local/lib/python3.10/dist-packages (from pandas<2.0.0,>=1.5.3->antigranular) (2023.3.post1)\n",
            "Requirement already satisfied: charset-normalizer<4,>=2 in /usr/local/lib/python3.10/dist-packages (from requests<3.0.0,>=2.31.0->antigranular) (3.2.0)\n",
            "Requirement already satisfied: idna<4,>=2.5 in /usr/local/lib/python3.10/dist-packages (from requests<3.0.0,>=2.31.0->antigranular) (3.4)\n",
            "Requirement already satisfied: certifi>=2017.4.17 in /usr/local/lib/python3.10/dist-packages (from requests<3.0.0,>=2.31.0->antigranular) (2023.7.22)\n",
            "Requirement already satisfied: parso<0.9.0,>=0.8.3 in /usr/local/lib/python3.10/dist-packages (from jedi>=0.16->ipython<8.0.0,>=7.34.0->antigranular) (0.8.3)\n",
            "Requirement already satisfied: ptyprocess>=0.5 in /usr/local/lib/python3.10/dist-packages (from pexpect>4.3->ipython<8.0.0,>=7.34.0->antigranular) (0.7.0)\n",
            "Requirement already satisfied: wcwidth in /usr/local/lib/python3.10/dist-packages (from prompt-toolkit!=3.0.0,!=3.0.1,<3.1.0,>=2.0.0->ipython<8.0.0,>=7.34.0->antigranular) (0.2.6)\n",
            "Requirement already satisfied: six>=1.5 in /usr/local/lib/python3.10/dist-packages (from python-dateutil>=2.8.1->pandas<2.0.0,>=1.5.3->antigranular) (1.16.0)\n",
            "Requirement already satisfied: threadpoolctl>=2.0.0 in /usr/local/lib/python3.10/dist-packages (from scikit-learn>=0.24.2->diffprivlib<0.7.0,>=0.6.2->antigranular) (3.2.0)\n",
            "Installing collected packages: onnx, oblv-client, jedi, diffprivlib, antigranular\n",
            "Successfully installed antigranular-0.2.10 diffprivlib-0.6.3 jedi-0.19.1 oblv-client-0.1.15 onnx-1.14.1\n"
          ]
        }
      ]
    },
    {
      "cell_type": "code",
      "execution_count": 2,
      "metadata": {
        "id": "znyHTSXMIELU"
      },
      "outputs": [],
      "source": [
        "import pandas as pd"
      ]
    },
    {
      "cell_type": "code",
      "execution_count": 3,
      "metadata": {
        "id": "rfbgIz0ltNr0"
      },
      "outputs": [],
      "source": [
        "import matplotlib.pyplot as plt\n",
        "import numpy as np\n"
      ]
    },
    {
      "cell_type": "code",
      "execution_count": 4,
      "metadata": {
        "colab": {
          "base_uri": "https://localhost:8080/",
          "height": 104
        },
        "id": "dX5rjWB2tNr1",
        "outputId": "f0dce0b7-38db-41cb-a644-1f4d01a201e5"
      },
      "outputs": [
        {
          "output_type": "display_data",
          "data": {
            "text/plain": [
              "<IPython.core.display.HTML object>"
            ],
            "text/html": []
          },
          "metadata": {}
        },
        {
          "output_type": "stream",
          "name": "stdout",
          "text": [
            "Loading dataset \"Car Evaluation\" to the kernel...\n",
            "Dataset \"Car Evaluation\" loaded to the kernel as car_evaluation\n",
            "Connected to Antigranular server session id: 9e29a726-f539-4ba0-9327-f0b8050bd451, the session will time out if idle for 60 minutes\n",
            "Cell magic '%%ag' registered successfully, use `%%ag` in a notebook cell to execute your python code on Antigranular private python server\n",
            "🚀 Everything's set up and ready to roll!\n"
          ]
        }
      ],
      "source": [
        "import antigranular as ag\n",
        "session = ag.login(\"tM3bEZVPTilWwiqTJFkvtNmA4cqFUOBb\", \"19d4LdAnAZx9uAmceTX2AUOwVdFxkrG/zRWiKGtsPfd8DEWAI7VGGw4gQsFY96Lh\", dataset = \"Car Evaluation\")"
      ]
    },
    {
      "cell_type": "code",
      "execution_count": 5,
      "metadata": {
        "id": "gX3vF5rMJE3s"
      },
      "outputs": [],
      "source": [
        "%%ag\n",
        "import pandas as pd"
      ]
    },
    {
      "cell_type": "code",
      "execution_count": 6,
      "metadata": {
        "colab": {
          "base_uri": "https://localhost:8080/"
        },
        "id": "9IWy8sUeh_Bq",
        "outputId": "fce295b6-5992-4327-afca-0ddbcdf8dd30"
      },
      "outputs": [
        {
          "output_type": "stream",
          "name": "stdout",
          "text": [
            "Index(['buying', 'maint', 'doors', 'persons', 'lug_boot', 'safety'], dtype='object')\n",
            "Index(['class'], dtype='object')\n",
            "\n"
          ]
        }
      ],
      "source": [
        "%%ag\n",
        "train_x = car_evaluation[\"train_x\"]\n",
        "train_y = car_evaluation[\"train_y\"]\n",
        "test_x = car_evaluation[\"test_x\"]\n",
        "\n",
        "ag_print(train_x.columns)\n",
        "ag_print(train_y.columns)"
      ]
    },
    {
      "cell_type": "code",
      "execution_count": 7,
      "metadata": {
        "colab": {
          "base_uri": "https://localhost:8080/"
        },
        "id": "fZHHx9jQyDxk",
        "outputId": "c8666567-e07b-4edd-94ba-367973068d02"
      },
      "outputs": [
        {
          "output_type": "execute_result",
          "data": {
            "text/plain": [
              "{'total_epsilon_used': 0.0,\n",
              " 'total_delta_used': 0.0,\n",
              " 'library_costs': None,\n",
              " 'dataset_costs': None}"
            ]
          },
          "metadata": {},
          "execution_count": 7
        }
      ],
      "source": [
        "session.privacy_odometer()"
      ]
    },
    {
      "cell_type": "markdown",
      "source": [
        "## Data Preprocessing"
      ],
      "metadata": {
        "id": "fNCialfj4QuK"
      }
    },
    {
      "cell_type": "code",
      "execution_count": 8,
      "metadata": {
        "colab": {
          "base_uri": "https://localhost:8080/"
        },
        "id": "7vJcEi9stNr2",
        "outputId": "d2d84d29-cf91-4eae-f7f8-442aa25f4091"
      },
      "outputs": [
        {
          "output_type": "stream",
          "name": "stdout",
          "text": [
            "{'buying': ['high', 'med', 'low', 'vhigh'], 'maint': ['high', 'low', 'vhigh', 'med'], 'doors': ['4', '2', '5more', '3'], 'persons': ['2', '4', 'more'], 'lug_boot': ['med', 'big', 'small'], 'safety': ['high', 'med', 'low']}\n",
            "\n"
          ]
        }
      ],
      "source": [
        "%%ag\n",
        "unique_categories = {}\n",
        "for column in test_x.columns:\n",
        "    unique_categories.update({column: test_x[column].unique().tolist()})\n",
        "ag_print(unique_categories)\n"
      ]
    },
    {
      "cell_type": "code",
      "execution_count": 9,
      "metadata": {
        "colab": {
          "base_uri": "https://localhost:8080/"
        },
        "id": "VsrKEKXrGOou",
        "outputId": "6c897a4f-362d-488d-ae26-1d335fff77d0"
      },
      "outputs": [
        {
          "output_type": "stream",
          "name": "stdout",
          "text": [
            "{'buying': {'high': 0, 'med': 1, 'low': 2, 'vhigh': 3}, 'maint': {'high': 0, 'low': 1, 'vhigh': 2, 'med': 3}, 'doors': {'4': 0, '2': 1, '5more': 2, '3': 3}, 'persons': {'2': 0, '4': 1, 'more': 2}, 'lug_boot': {'med': 0, 'big': 1, 'small': 2}, 'safety': {'high': 0, 'med': 1, 'low': 2}}\n",
            "\n"
          ]
        }
      ],
      "source": [
        "%%ag\n",
        "encoding_scheme_train_x_gen = {}\n",
        "\n",
        "for column, values in unique_categories.items():\n",
        "    encoding_scheme_train_x_gen[column] = {value: idx for idx, value in zip(range(len(values)), values)}\n",
        "\n",
        "ag_print(encoding_scheme_train_x_gen)"
      ]
    },
    {
      "cell_type": "code",
      "execution_count": 10,
      "metadata": {
        "id": "FJq8FYzttNr3"
      },
      "outputs": [],
      "source": [
        "%%ag\n",
        "encoding_scheme_train_x = {'buying': {'high': 2, 'med': 1, 'low': 0, 'vhigh': 3}, 'maint': {'high': 2, 'low': 0, 'vhigh': 3, 'med': 1}, 'doors': {'4': 2, '2': 0, '5more': 2, '3': 1}, 'persons': {'2': 0, '4': 1, 'more': 2}, 'lug_boot': {'med': 1, 'big': 2, 'small': 0}, 'safety': {'high': 2, 'med': 1, 'low': 0}}\n"
      ]
    },
    {
      "cell_type": "code",
      "execution_count": 11,
      "metadata": {
        "colab": {
          "base_uri": "https://localhost:8080/"
        },
        "id": "Afa95TzBtNr3",
        "outputId": "3c74c5cd-dcd7-4e5a-d77b-14298399478f"
      },
      "outputs": [
        {
          "output_type": "stream",
          "name": "stdout",
          "text": [
            "{'buying': {'high': 2, 'med': 1, 'low': 0, 'vhigh': 3}, 'maint': {'high': 2, 'low': 0, 'vhigh': 3, 'med': 1}, 'doors': {'4': 2, '2': 0, '5more': 2, '3': 1}, 'persons': {'2': 0, '4': 1, 'more': 2}, 'lug_boot': {'med': 1, 'big': 2, 'small': 0}, 'safety': {'high': 2, 'med': 1, 'low': 0}}\n",
            "\n"
          ]
        }
      ],
      "source": [
        "%%ag\n",
        "ag_print(encoding_scheme_train_x)"
      ]
    },
    {
      "cell_type": "markdown",
      "metadata": {
        "id": "JhMHa0RZLnTX"
      },
      "source": [
        "Apply Encoding for train_x"
      ]
    },
    {
      "cell_type": "code",
      "execution_count": 12,
      "metadata": {
        "id": "V8z-flWwtNr5"
      },
      "outputs": [],
      "source": [
        "%%ag\n",
        "for col, value in encoding_scheme_train_x.items():\n",
        "    train_x[col] = train_x[col].map(value, eps=1)"
      ]
    },
    {
      "cell_type": "code",
      "execution_count": 13,
      "metadata": {
        "colab": {
          "base_uri": "https://localhost:8080/"
        },
        "id": "XkXXFcSVtNr5",
        "outputId": "76a212f4-064f-43c6-e9cf-1ab7682c0625"
      },
      "outputs": [
        {
          "output_type": "stream",
          "name": "stdout",
          "text": [
            "            buying        maint        doors      persons     lug_boot  \\\n",
            "count  1382.000000  1382.000000  1382.000000  1382.000000  1382.000000   \n",
            "mean      1.366382     1.485452     1.665530     0.837791     1.023093   \n",
            "std       1.008443     1.172972     0.855880     0.288037     1.301756   \n",
            "min       0.470603     0.053699     0.693234     0.874821     0.675890   \n",
            "25%       0.584586     0.950585     0.793073     0.257125     0.367878   \n",
            "50%       1.863104     1.373869     1.553277     0.630065     1.319157   \n",
            "75%       2.933000     2.407733     3.988414     1.248970     1.609969   \n",
            "max       3.263079     3.901059     2.847286     2.781931     2.675592   \n",
            "\n",
            "            safety  \n",
            "count  1382.000000  \n",
            "mean      1.069170  \n",
            "std       1.691422  \n",
            "min       0.148687  \n",
            "25%       0.713775  \n",
            "50%       1.608843  \n",
            "75%       1.767241  \n",
            "max       2.524687  \n",
            "\n"
          ]
        }
      ],
      "source": [
        "%%ag\n",
        "ag_print(train_x.describe(eps=1))"
      ]
    },
    {
      "cell_type": "markdown",
      "metadata": {
        "id": "JaPgn8r0tNr5"
      },
      "source": [
        "Apply encoding train_y"
      ]
    },
    {
      "cell_type": "code",
      "execution_count": 14,
      "metadata": {
        "id": "z0xck3sWtNr5"
      },
      "outputs": [],
      "source": [
        "%%ag\n",
        "train_y_schema = {\n",
        "    'unacc': 0,\n",
        "    'acc': 1,\n",
        "    'good': 2,\n",
        "    'vgood': 3\n",
        "}\n",
        "\n",
        "train_y[train_y.columns[0]] = train_y[train_y.columns[0]].map(train_y_schema, eps=1)"
      ]
    },
    {
      "cell_type": "code",
      "execution_count": 15,
      "metadata": {
        "colab": {
          "base_uri": "https://localhost:8080/"
        },
        "id": "MlijRxbttNr5",
        "outputId": "21fe15a1-c827-4e85-b802-bf5eb719e980"
      },
      "outputs": [
        {
          "output_type": "stream",
          "name": "stdout",
          "text": [
            "             class\n",
            "count  1382.000000\n",
            "mean      0.000000\n",
            "std       1.145669\n",
            "min       3.454373\n",
            "25%       1.975789\n",
            "50%       0.054343\n",
            "75%       0.292086\n",
            "max       1.662485\n",
            "\n"
          ]
        }
      ],
      "source": [
        "%%ag\n",
        "ag_print(train_y.describe(eps=.1))"
      ]
    },
    {
      "cell_type": "markdown",
      "metadata": {
        "id": "8TuU7Vp8tNr5"
      },
      "source": [
        "## Corelation matrix"
      ]
    },
    {
      "cell_type": "code",
      "execution_count": 16,
      "metadata": {
        "colab": {
          "base_uri": "https://localhost:8080/"
        },
        "id": "47sb5mAhtNr5",
        "outputId": "25097ae8-72a8-4684-ea60-db1136cc712b"
      },
      "outputs": [
        {
          "output_type": "stream",
          "name": "stdout",
          "text": [
            "Setting up exported variable in local environment: priv_corr\n"
          ]
        }
      ],
      "source": [
        "%%ag\n",
        "priv_corr = train_x.corr(eps=10)\n",
        "export(priv_corr , 'priv_corr')"
      ]
    },
    {
      "cell_type": "code",
      "execution_count": 17,
      "metadata": {
        "id": "v976hVk4tNr6"
      },
      "outputs": [],
      "source": [
        "import matplotlib.pyplot as plt\n",
        "import seaborn as sns"
      ]
    },
    {
      "cell_type": "code",
      "execution_count": 18,
      "metadata": {
        "colab": {
          "base_uri": "https://localhost:8080/",
          "height": 238
        },
        "id": "Qewczo1ltNr6",
        "outputId": "b05fd153-6bcb-425a-ddd5-0f9e5597a1f6"
      },
      "outputs": [
        {
          "output_type": "execute_result",
          "data": {
            "text/plain": [
              "            buying     maint     doors   persons  lug_boot    safety\n",
              "buying         1.0  0.018299  0.019169  0.022244  0.060106  0.057864\n",
              "maint     0.018299       1.0 -0.077371 -0.094215 -0.105571  0.152625\n",
              "doors     0.019169 -0.077371       1.0 -0.057591 -0.008076 -0.022265\n",
              "persons   0.022244 -0.094215 -0.057591       1.0  0.017801   0.16034\n",
              "lug_boot  0.060106 -0.105571 -0.008076  0.017801       1.0  -0.05582\n",
              "safety    0.057864  0.152625 -0.022265   0.16034  -0.05582       1.0"
            ],
            "text/html": [
              "\n",
              "  <div id=\"df-a70ee405-1b7b-43a0-97a2-e80d6d8bc129\" class=\"colab-df-container\">\n",
              "    <div>\n",
              "<style scoped>\n",
              "    .dataframe tbody tr th:only-of-type {\n",
              "        vertical-align: middle;\n",
              "    }\n",
              "\n",
              "    .dataframe tbody tr th {\n",
              "        vertical-align: top;\n",
              "    }\n",
              "\n",
              "    .dataframe thead th {\n",
              "        text-align: right;\n",
              "    }\n",
              "</style>\n",
              "<table border=\"1\" class=\"dataframe\">\n",
              "  <thead>\n",
              "    <tr style=\"text-align: right;\">\n",
              "      <th></th>\n",
              "      <th>buying</th>\n",
              "      <th>maint</th>\n",
              "      <th>doors</th>\n",
              "      <th>persons</th>\n",
              "      <th>lug_boot</th>\n",
              "      <th>safety</th>\n",
              "    </tr>\n",
              "  </thead>\n",
              "  <tbody>\n",
              "    <tr>\n",
              "      <th>buying</th>\n",
              "      <td>1.0</td>\n",
              "      <td>0.018299</td>\n",
              "      <td>0.019169</td>\n",
              "      <td>0.022244</td>\n",
              "      <td>0.060106</td>\n",
              "      <td>0.057864</td>\n",
              "    </tr>\n",
              "    <tr>\n",
              "      <th>maint</th>\n",
              "      <td>0.018299</td>\n",
              "      <td>1.0</td>\n",
              "      <td>-0.077371</td>\n",
              "      <td>-0.094215</td>\n",
              "      <td>-0.105571</td>\n",
              "      <td>0.152625</td>\n",
              "    </tr>\n",
              "    <tr>\n",
              "      <th>doors</th>\n",
              "      <td>0.019169</td>\n",
              "      <td>-0.077371</td>\n",
              "      <td>1.0</td>\n",
              "      <td>-0.057591</td>\n",
              "      <td>-0.008076</td>\n",
              "      <td>-0.022265</td>\n",
              "    </tr>\n",
              "    <tr>\n",
              "      <th>persons</th>\n",
              "      <td>0.022244</td>\n",
              "      <td>-0.094215</td>\n",
              "      <td>-0.057591</td>\n",
              "      <td>1.0</td>\n",
              "      <td>0.017801</td>\n",
              "      <td>0.16034</td>\n",
              "    </tr>\n",
              "    <tr>\n",
              "      <th>lug_boot</th>\n",
              "      <td>0.060106</td>\n",
              "      <td>-0.105571</td>\n",
              "      <td>-0.008076</td>\n",
              "      <td>0.017801</td>\n",
              "      <td>1.0</td>\n",
              "      <td>-0.05582</td>\n",
              "    </tr>\n",
              "    <tr>\n",
              "      <th>safety</th>\n",
              "      <td>0.057864</td>\n",
              "      <td>0.152625</td>\n",
              "      <td>-0.022265</td>\n",
              "      <td>0.16034</td>\n",
              "      <td>-0.05582</td>\n",
              "      <td>1.0</td>\n",
              "    </tr>\n",
              "  </tbody>\n",
              "</table>\n",
              "</div>\n",
              "    <div class=\"colab-df-buttons\">\n",
              "\n",
              "  <div class=\"colab-df-container\">\n",
              "    <button class=\"colab-df-convert\" onclick=\"convertToInteractive('df-a70ee405-1b7b-43a0-97a2-e80d6d8bc129')\"\n",
              "            title=\"Convert this dataframe to an interactive table.\"\n",
              "            style=\"display:none;\">\n",
              "\n",
              "  <svg xmlns=\"http://www.w3.org/2000/svg\" height=\"24px\" viewBox=\"0 -960 960 960\">\n",
              "    <path d=\"M120-120v-720h720v720H120Zm60-500h600v-160H180v160Zm220 220h160v-160H400v160Zm0 220h160v-160H400v160ZM180-400h160v-160H180v160Zm440 0h160v-160H620v160ZM180-180h160v-160H180v160Zm440 0h160v-160H620v160Z\"/>\n",
              "  </svg>\n",
              "    </button>\n",
              "\n",
              "  <style>\n",
              "    .colab-df-container {\n",
              "      display:flex;\n",
              "      gap: 12px;\n",
              "    }\n",
              "\n",
              "    .colab-df-convert {\n",
              "      background-color: #E8F0FE;\n",
              "      border: none;\n",
              "      border-radius: 50%;\n",
              "      cursor: pointer;\n",
              "      display: none;\n",
              "      fill: #1967D2;\n",
              "      height: 32px;\n",
              "      padding: 0 0 0 0;\n",
              "      width: 32px;\n",
              "    }\n",
              "\n",
              "    .colab-df-convert:hover {\n",
              "      background-color: #E2EBFA;\n",
              "      box-shadow: 0px 1px 2px rgba(60, 64, 67, 0.3), 0px 1px 3px 1px rgba(60, 64, 67, 0.15);\n",
              "      fill: #174EA6;\n",
              "    }\n",
              "\n",
              "    .colab-df-buttons div {\n",
              "      margin-bottom: 4px;\n",
              "    }\n",
              "\n",
              "    [theme=dark] .colab-df-convert {\n",
              "      background-color: #3B4455;\n",
              "      fill: #D2E3FC;\n",
              "    }\n",
              "\n",
              "    [theme=dark] .colab-df-convert:hover {\n",
              "      background-color: #434B5C;\n",
              "      box-shadow: 0px 1px 3px 1px rgba(0, 0, 0, 0.15);\n",
              "      filter: drop-shadow(0px 1px 2px rgba(0, 0, 0, 0.3));\n",
              "      fill: #FFFFFF;\n",
              "    }\n",
              "  </style>\n",
              "\n",
              "    <script>\n",
              "      const buttonEl =\n",
              "        document.querySelector('#df-a70ee405-1b7b-43a0-97a2-e80d6d8bc129 button.colab-df-convert');\n",
              "      buttonEl.style.display =\n",
              "        google.colab.kernel.accessAllowed ? 'block' : 'none';\n",
              "\n",
              "      async function convertToInteractive(key) {\n",
              "        const element = document.querySelector('#df-a70ee405-1b7b-43a0-97a2-e80d6d8bc129');\n",
              "        const dataTable =\n",
              "          await google.colab.kernel.invokeFunction('convertToInteractive',\n",
              "                                                    [key], {});\n",
              "        if (!dataTable) return;\n",
              "\n",
              "        const docLinkHtml = 'Like what you see? Visit the ' +\n",
              "          '<a target=\"_blank\" href=https://colab.research.google.com/notebooks/data_table.ipynb>data table notebook</a>'\n",
              "          + ' to learn more about interactive tables.';\n",
              "        element.innerHTML = '';\n",
              "        dataTable['output_type'] = 'display_data';\n",
              "        await google.colab.output.renderOutput(dataTable, element);\n",
              "        const docLink = document.createElement('div');\n",
              "        docLink.innerHTML = docLinkHtml;\n",
              "        element.appendChild(docLink);\n",
              "      }\n",
              "    </script>\n",
              "  </div>\n",
              "\n",
              "\n",
              "<div id=\"df-7c1881f3-a8c2-4935-af8b-b6d851f90a77\">\n",
              "  <button class=\"colab-df-quickchart\" onclick=\"quickchart('df-7c1881f3-a8c2-4935-af8b-b6d851f90a77')\"\n",
              "            title=\"Suggest charts.\"\n",
              "            style=\"display:none;\">\n",
              "\n",
              "<svg xmlns=\"http://www.w3.org/2000/svg\" height=\"24px\"viewBox=\"0 0 24 24\"\n",
              "     width=\"24px\">\n",
              "    <g>\n",
              "        <path d=\"M19 3H5c-1.1 0-2 .9-2 2v14c0 1.1.9 2 2 2h14c1.1 0 2-.9 2-2V5c0-1.1-.9-2-2-2zM9 17H7v-7h2v7zm4 0h-2V7h2v10zm4 0h-2v-4h2v4z\"/>\n",
              "    </g>\n",
              "</svg>\n",
              "  </button>\n",
              "\n",
              "<style>\n",
              "  .colab-df-quickchart {\n",
              "      --bg-color: #E8F0FE;\n",
              "      --fill-color: #1967D2;\n",
              "      --hover-bg-color: #E2EBFA;\n",
              "      --hover-fill-color: #174EA6;\n",
              "      --disabled-fill-color: #AAA;\n",
              "      --disabled-bg-color: #DDD;\n",
              "  }\n",
              "\n",
              "  [theme=dark] .colab-df-quickchart {\n",
              "      --bg-color: #3B4455;\n",
              "      --fill-color: #D2E3FC;\n",
              "      --hover-bg-color: #434B5C;\n",
              "      --hover-fill-color: #FFFFFF;\n",
              "      --disabled-bg-color: #3B4455;\n",
              "      --disabled-fill-color: #666;\n",
              "  }\n",
              "\n",
              "  .colab-df-quickchart {\n",
              "    background-color: var(--bg-color);\n",
              "    border: none;\n",
              "    border-radius: 50%;\n",
              "    cursor: pointer;\n",
              "    display: none;\n",
              "    fill: var(--fill-color);\n",
              "    height: 32px;\n",
              "    padding: 0;\n",
              "    width: 32px;\n",
              "  }\n",
              "\n",
              "  .colab-df-quickchart:hover {\n",
              "    background-color: var(--hover-bg-color);\n",
              "    box-shadow: 0 1px 2px rgba(60, 64, 67, 0.3), 0 1px 3px 1px rgba(60, 64, 67, 0.15);\n",
              "    fill: var(--button-hover-fill-color);\n",
              "  }\n",
              "\n",
              "  .colab-df-quickchart-complete:disabled,\n",
              "  .colab-df-quickchart-complete:disabled:hover {\n",
              "    background-color: var(--disabled-bg-color);\n",
              "    fill: var(--disabled-fill-color);\n",
              "    box-shadow: none;\n",
              "  }\n",
              "\n",
              "  .colab-df-spinner {\n",
              "    border: 2px solid var(--fill-color);\n",
              "    border-color: transparent;\n",
              "    border-bottom-color: var(--fill-color);\n",
              "    animation:\n",
              "      spin 1s steps(1) infinite;\n",
              "  }\n",
              "\n",
              "  @keyframes spin {\n",
              "    0% {\n",
              "      border-color: transparent;\n",
              "      border-bottom-color: var(--fill-color);\n",
              "      border-left-color: var(--fill-color);\n",
              "    }\n",
              "    20% {\n",
              "      border-color: transparent;\n",
              "      border-left-color: var(--fill-color);\n",
              "      border-top-color: var(--fill-color);\n",
              "    }\n",
              "    30% {\n",
              "      border-color: transparent;\n",
              "      border-left-color: var(--fill-color);\n",
              "      border-top-color: var(--fill-color);\n",
              "      border-right-color: var(--fill-color);\n",
              "    }\n",
              "    40% {\n",
              "      border-color: transparent;\n",
              "      border-right-color: var(--fill-color);\n",
              "      border-top-color: var(--fill-color);\n",
              "    }\n",
              "    60% {\n",
              "      border-color: transparent;\n",
              "      border-right-color: var(--fill-color);\n",
              "    }\n",
              "    80% {\n",
              "      border-color: transparent;\n",
              "      border-right-color: var(--fill-color);\n",
              "      border-bottom-color: var(--fill-color);\n",
              "    }\n",
              "    90% {\n",
              "      border-color: transparent;\n",
              "      border-bottom-color: var(--fill-color);\n",
              "    }\n",
              "  }\n",
              "</style>\n",
              "\n",
              "  <script>\n",
              "    async function quickchart(key) {\n",
              "      const quickchartButtonEl =\n",
              "        document.querySelector('#' + key + ' button');\n",
              "      quickchartButtonEl.disabled = true;  // To prevent multiple clicks.\n",
              "      quickchartButtonEl.classList.add('colab-df-spinner');\n",
              "      try {\n",
              "        const charts = await google.colab.kernel.invokeFunction(\n",
              "            'suggestCharts', [key], {});\n",
              "      } catch (error) {\n",
              "        console.error('Error during call to suggestCharts:', error);\n",
              "      }\n",
              "      quickchartButtonEl.classList.remove('colab-df-spinner');\n",
              "      quickchartButtonEl.classList.add('colab-df-quickchart-complete');\n",
              "    }\n",
              "    (() => {\n",
              "      let quickchartButtonEl =\n",
              "        document.querySelector('#df-7c1881f3-a8c2-4935-af8b-b6d851f90a77 button');\n",
              "      quickchartButtonEl.style.display =\n",
              "        google.colab.kernel.accessAllowed ? 'block' : 'none';\n",
              "    })();\n",
              "  </script>\n",
              "</div>\n",
              "    </div>\n",
              "  </div>\n"
            ]
          },
          "metadata": {},
          "execution_count": 18
        }
      ],
      "source": [
        "priv_corr"
      ]
    },
    {
      "cell_type": "code",
      "execution_count": 19,
      "metadata": {
        "colab": {
          "base_uri": "https://localhost:8080/",
          "height": 452
        },
        "id": "fBflzZsQtNr6",
        "outputId": "12736fb6-d05d-4deb-ed4a-8fcb5719a417"
      },
      "outputs": [
        {
          "output_type": "execute_result",
          "data": {
            "text/plain": [
              "<Axes: >"
            ]
          },
          "metadata": {},
          "execution_count": 19
        },
        {
          "output_type": "display_data",
          "data": {
            "text/plain": [
              "<Figure size 640x480 with 2 Axes>"
            ],
            "image/png": "[encoded data removed]"
          },
          "metadata": {}
        }
      ],
      "source": [
        "sns.heatmap(priv_corr.apply(pd.to_numeric, errors='coerce').astype(float), annot=True, cmap='coolwarm', linewidths=.5, fmt=\".2f\")"
      ]
    },
    {
      "cell_type": "markdown",
      "source": [
        "Correlation coefficients measure the linear relationship between two variables, ranging from -1 (perfect negative linear relationship) to +1 (perfect positive linear relationship), with 0 indicating no linear relationship.\n",
        "### Insights from the Heatmap:\n",
        "\n",
        "1. **Weak Correlations**:\n",
        "   - No pair of variables exhibits a particularly strong correlation (near -1 or 1). Most of the correlations are close to zero, suggesting a lack of a strong linear relationship between most pairs of variables.\n",
        "   \n",
        "2. **Positive Correlations**:\n",
        "   - The most notable positive correlation is between \"safety\" and \"maint\" (0.15), though it is still quite weak."
      ],
      "metadata": {
        "id": "2mH1435p3WNv"
      }
    },
    {
      "cell_type": "markdown",
      "source": [
        "Join two dataset train_x and train_y"
      ],
      "metadata": {
        "id": "ld7cUv4q308d"
      }
    },
    {
      "cell_type": "code",
      "execution_count": 20,
      "metadata": {
        "id": "zAe77I2cKtm6"
      },
      "outputs": [],
      "source": [
        "%%ag\n",
        "train_data = train_x.join(train_y, how=\"inner\")"
      ]
    },
    {
      "cell_type": "code",
      "execution_count": 21,
      "metadata": {
        "id": "ALOMbwXQtNr6"
      },
      "outputs": [],
      "source": [
        "%%ag\n",
        "hist_buying = train_data.hist2d(eps=1, x='buying', y='class')"
      ]
    },
    {
      "cell_type": "code",
      "execution_count": 22,
      "metadata": {
        "colab": {
          "base_uri": "https://localhost:8080/"
        },
        "id": "EGLW7qSstNr6",
        "outputId": "ec6c5300-fdcc-4a40-bb21-40edc0d7f798"
      },
      "outputs": [
        {
          "output_type": "stream",
          "name": "stdout",
          "text": [
            "Setting up exported variable in local environment: hist_buying\n"
          ]
        }
      ],
      "source": [
        "%%ag\n",
        "export(hist_buying, 'hist_buying')"
      ]
    },
    {
      "cell_type": "code",
      "source": [
        "hist_buying"
      ],
      "metadata": {
        "colab": {
          "base_uri": "https://localhost:8080/"
        },
        "id": "DyNaJRzR1QRC",
        "outputId": "764a9398-68ee-48d7-fe0e-25134b37eb88"
      },
      "execution_count": 23,
      "outputs": [
        {
          "output_type": "execute_result",
          "data": {
            "text/plain": [
              "(array([[214.,   0.,  69.,   0.,   0.,  39.,   0.,  32.,   0.,   5.],\n",
              "        [  0.,   0.,   0.,   0.,   0.,   1.,   1.,   1.,   0.,   0.],\n",
              "        [226.,   0.,  88.,   0.,   0.,  23.,   3.,  20.,   0.,   0.],\n",
              "        [  0.,   2.,   0.,   2.,   0.,   0.,   0.,   0.,   0.,   3.],\n",
              "        [  0.,   0.,   0.,   0.,   0.,   0.,   0.,   1.,   0.,   1.],\n",
              "        [251.,   0.,  88.,   0.,   1.,   1.,   4.,   4.,   0.,   2.],\n",
              "        [  1.,   0.,   1.,   0.,   0.,   0.,   0.,   0.,   0.,   0.],\n",
              "        [281.,   0.,  57.,   1.,   0.,   0.,   2.,   1.,   3.,   0.],\n",
              "        [  0.,   0.,   0.,   0.,   0.,   0.,   0.,   3.,   0.,   1.],\n",
              "        [  0.,   1.,   2.,   0.,   0.,   0.,   0.,   0.,   3.,   0.]]),\n",
              " array([0. , 0.4, 0.8, 1.2, 1.6, 2. , 2.4, 2.8, 3.2, 3.6, 4. ]),\n",
              " array([0. , 0.4, 0.8, 1.2, 1.6, 2. , 2.4, 2.8, 3.2, 3.6, 4. ]))"
            ]
          },
          "metadata": {},
          "execution_count": 23
        }
      ]
    },
    {
      "cell_type": "code",
      "execution_count": 24,
      "metadata": {
        "colab": {
          "base_uri": "https://localhost:8080/",
          "height": 472
        },
        "id": "cPNYWl9ptNr6",
        "outputId": "bcb373c6-75ae-43e2-d682-635f522101eb"
      },
      "outputs": [
        {
          "output_type": "display_data",
          "data": {
            "text/plain": [
              "<Figure size 640x480 with 2 Axes>"
            ],
            "image/png": "[encoded data removed]"
          },
          "metadata": {}
        }
      ],
      "source": [
        "hist, x_edges, y_edges = hist_buying\n",
        "\n",
        "# Plot the histogram\n",
        "plt.imshow(hist.T, extent=(x_edges[0], x_edges[-1], y_edges[0], y_edges[-1]), origin='lower', cmap='viridis')\n",
        "plt.colorbar(label='Count')\n",
        "plt.xlabel('buying')\n",
        "plt.ylabel('class')\n",
        "plt.title('Buying Class Histogram')\n",
        "plt.show()"
      ]
    },
    {
      "cell_type": "markdown",
      "source": [
        "This shows class 0 that is \"unacc\" is buying highest compared with other class"
      ],
      "metadata": {
        "id": "PVg-Yawt2laf"
      }
    },
    {
      "cell_type": "code",
      "execution_count": 25,
      "metadata": {
        "colab": {
          "base_uri": "https://localhost:8080/"
        },
        "id": "4sdGlnIkSGyt",
        "outputId": "0edb1270-4f0b-4a23-f0a0-f897989372b6"
      },
      "outputs": [
        {
          "output_type": "stream",
          "name": "stdout",
          "text": [
            "Index(['buying', 'maint', 'doors', 'persons', 'lug_boot', 'safety'], dtype='object')\n",
            "\n"
          ]
        }
      ],
      "source": [
        "%%ag\n",
        "ag_print(train_x.columns)"
      ]
    },
    {
      "cell_type": "code",
      "execution_count": 26,
      "metadata": {
        "id": "6swXlzxawPei",
        "colab": {
          "base_uri": "https://localhost:8080/"
        },
        "outputId": "e6f3a23f-d3ef-4dc1-b906-9195a72bec3b"
      },
      "outputs": [
        {
          "output_type": "stream",
          "name": "stdout",
          "text": [
            "buying      1.611552\n",
            "maint       1.644805\n",
            "doors       1.204504\n",
            "persons     0.806753\n",
            "lug_boot    0.929333\n",
            "safety      0.741820\n",
            "class       0.000044\n",
            "dtype: float64\n",
            "\n"
          ]
        }
      ],
      "source": [
        "%%ag\n",
        "ag_print(train_data.where(train_data['class'] == 0).mean(eps=10))"
      ]
    },
    {
      "cell_type": "code",
      "execution_count": 27,
      "metadata": {
        "colab": {
          "base_uri": "https://localhost:8080/"
        },
        "id": "K0AVTStFtNr_",
        "outputId": "d012492f-b8d7-4a37-9692-edb3617dc8fc"
      },
      "outputs": [
        {
          "output_type": "stream",
          "name": "stdout",
          "text": [
            "Setting up exported variable in local environment: mean_class_0\n",
            "buying      1.612167\n",
            "maint       1.644922\n",
            "doors       1.204050\n",
            "persons     0.808450\n",
            "lug_boot    0.929739\n",
            "safety      0.741008\n",
            "class       0.000211\n",
            "dtype: float64\n",
            "\n"
          ]
        }
      ],
      "source": [
        "%%ag\n",
        "mean_class_0 = train_data.where(train_data['class'] == 0).mean(eps=10)\n",
        "ag_print(mean_class_0)\n",
        "export(mean_class_0, 'mean_class_0')"
      ]
    },
    {
      "cell_type": "code",
      "execution_count": 28,
      "metadata": {
        "colab": {
          "base_uri": "https://localhost:8080/"
        },
        "id": "pQqO9SxqtNr_",
        "outputId": "84ab7076-8847-4465-e0de-7e522e0a1b50"
      },
      "outputs": [
        {
          "output_type": "stream",
          "name": "stdout",
          "text": [
            "Setting up exported variable in local environment: mean_class_1\n",
            "Setting up exported variable in local environment: mean_class_2\n",
            "Setting up exported variable in local environment: mean_class_3\n"
          ]
        }
      ],
      "source": [
        "%%ag\n",
        "mean_class_1 = train_data.where(train_data['class'] == 1).mean(eps=10)\n",
        "mean_class_2 = train_data.where(train_data['class'] == 2).mean(eps=10)\n",
        "mean_class_3 = train_data.where(train_data['class'] == 3).mean(eps=10)\n",
        "export (mean_class_1, 'mean_class_1')\n",
        "export (mean_class_2, 'mean_class_2')\n",
        "export (mean_class_3, 'mean_class_3')\n"
      ]
    },
    {
      "cell_type": "code",
      "execution_count": 29,
      "metadata": {
        "id": "fzSD7XgptNr_"
      },
      "outputs": [],
      "source": [
        "# to pandas dataframe\n",
        "df = pd.DataFrame([mean_class_0, mean_class_1, mean_class_2, mean_class_3])"
      ]
    },
    {
      "cell_type": "code",
      "execution_count": 30,
      "metadata": {
        "id": "iJYA_hM5tNr_"
      },
      "outputs": [],
      "source": [
        "df.drop(columns=['class'], inplace=True)"
      ]
    },
    {
      "cell_type": "code",
      "execution_count": 31,
      "metadata": {
        "colab": {
          "base_uri": "https://localhost:8080/",
          "height": 447
        },
        "id": "AP3XpGlDtNr_",
        "outputId": "179faa7b-7896-4063-e490-74c39db109fb"
      },
      "outputs": [
        {
          "output_type": "execute_result",
          "data": {
            "text/plain": [
              "<Axes: >"
            ]
          },
          "metadata": {},
          "execution_count": 31
        },
        {
          "output_type": "display_data",
          "data": {
            "text/plain": [
              "<Figure size 640x480 with 1 Axes>"
            ],
            "image/png": "[encoded data removed]"
          },
          "metadata": {}
        }
      ],
      "source": [
        "# sns barplot\n",
        "sns.barplot(data=df, palette=\"Blues_d\")"
      ]
    },
    {
      "cell_type": "markdown",
      "metadata": {
        "id": "7NGG1ZEMtNr_"
      },
      "source": [
        "Observations:\n",
        "\n",
        "- **buying**: There are noticeable differences in the mean buying price among different classes.\n",
        "- **maint**: Similar to buying, maintenance cost also shows some variation.\n",
        "- **safety**: Safety shows clear variations, and looks like most important.\n",
        "  \n",
        "The remaining features (**doors**, **persons**, **lug_boot**) exhibit less variation among classes."
      ]
    },
    {
      "cell_type": "code",
      "execution_count": 32,
      "metadata": {
        "colab": {
          "base_uri": "https://localhost:8080/",
          "height": 564
        },
        "id": "Z4XzwOxJtNsA",
        "outputId": "063ab712-fc21-4a6a-bb5e-a85d9b9307f7"
      },
      "outputs": [
        {
          "output_type": "display_data",
          "data": {
            "text/plain": [
              "<Figure size 1200x600 with 1 Axes>"
            ],
            "image/png": "[encoded data removed]"
          },
          "metadata": {}
        }
      ],
      "source": [
        "ax = df.plot(kind='bar', figsize=(12, 6), colormap='viridis')\n",
        "plt.title('Mean Values of Features per Class')\n",
        "plt.xlabel('Class')\n",
        "plt.ylabel('Mean Value')\n",
        "plt.xticks(ticks=[0, 1, 2, 3], labels=['unacc', 'acc', 'good', 'vgood'], rotation=0)\n",
        "plt.legend(title='Features')\n",
        "plt.grid(axis='y')"
      ]
    },
    {
      "cell_type": "markdown",
      "metadata": {
        "id": "1w3eg-crtNsA"
      },
      "source": [
        "## Observations:\n",
        "1. **Safety Considerations:**\n",
        "   - 'vgood' cars tend to have the highest mean safety rating, suggesting that safety is a crucial factor in determining the highest class of cars.\n",
        "   - 'unacc' (unacceptable) cars have the lowest mean safety rating, highlighting that lower safety ratings are a significant factor for classifying cars into this undesirable category.\n",
        "\n",
        "2. **Economic Aspects (Buying & Maintenance):**\n",
        "   - 'unacc' cars tend to have higher mean buying and maintenance costs, indicating that more expensive and high-maintenance cars are often deemed less acceptable.\n",
        "   - 'good' cars have the lowest mean buying and maintenance costs, hinting that more economically friendly cars are often classified in this category.\n",
        "\n",
        "3. **Luggage Boot Size:**\n",
        "   - 'vgood' cars have the highest mean luggage boot size, showing a potential preference for larger boot sizes in this class.\n",
        "   - The other classes do not show significant variations in the luggage boot size.\n",
        "\n",
        "4. **Capacity (Persons & Doors):**\n",
        "   - 'unacc' cars have a lower mean value for persons, suggesting that cars with lower seating capacity tend to be categorized as unacceptable.\n",
        "   - There isn't a clear pattern for the number of doors across classes, implying that this feature might not be as impactful in classifying cars.\n",
        "\n",
        "### Summary:\n",
        "\n",
        "- Safety is a pivotal factor across all classes, with higher safety ratings generally correlating with more favorable classes.\n",
        "- Economic aspects (buying and maintenance costs) appear to significantly impact the classification, especially distinguishing 'unacc' and 'good' cars.\n",
        "- Features like the number of doors might not be significant in determining car classes due to the lack of clear variation across different classes.\n",
        "\n",
        "This analysis could inform the feature selection or weighting in a predictive model, focusing on safety and economic aspects as potentially influential variables."
      ]
    },
    {
      "cell_type": "code",
      "execution_count": 33,
      "metadata": {
        "id": "hRfDJmL5tNsA"
      },
      "outputs": [],
      "source": [
        "%%ag\n",
        "# simple rule based model\n",
        "def simple_rule_based_model(data):\n",
        "    predictions = []\n",
        "    for _, row in data.iterrows():\n",
        "        # Rule 1: High safety is generally 'vgood'\n",
        "        if row['safety'] >= 2:\n",
        "            predictions.append('vgood')\n",
        "        # Rule 2: Low buying and maintenance costs tend to be 'good'\n",
        "        elif row['buying'] == 0 and row['maint'] == 1:\n",
        "            predictions.append('good')\n",
        "        # Rule 3: Low safety tends to be 'unacc'\n",
        "        elif row['safety'] == 0:  # 0: low\n",
        "            predictions.append('unacc')\n",
        "        # Else classify as 'acc'\n",
        "        else:\n",
        "            predictions.append('acc')\n",
        "    return predictions"
      ]
    },
    {
      "cell_type": "code",
      "source": [
        "%%ag\n",
        "# encode test_x\n",
        "for col, value in encoding_scheme_train_x.items():\n",
        "    test_x[col] = test_x[col].map(value)"
      ],
      "metadata": {
        "id": "9HWII5tm494e"
      },
      "execution_count": 34,
      "outputs": []
    },
    {
      "cell_type": "code",
      "execution_count": 35,
      "metadata": {
        "id": "8qqagAb1tNsA"
      },
      "outputs": [],
      "source": [
        "%%ag\n",
        "test_predictions = simple_rule_based_model(test_x)"
      ]
    },
    {
      "cell_type": "code",
      "execution_count": 36,
      "metadata": {
        "colab": {
          "base_uri": "https://localhost:8080/"
        },
        "id": "Gh6v82PftNsA",
        "outputId": "3d803116-2c37-473b-8794-1d1a8682143d"
      },
      "outputs": [
        {
          "output_type": "stream",
          "name": "stdout",
          "text": [
            "['vgood', 'acc', 'acc', 'acc', 'unacc', 'acc', 'vgood', 'acc', 'acc', 'vgood', 'vgood', 'vgood', 'vgood', 'vgood', 'vgood', 'acc', 'acc', 'vgood', 'vgood', 'acc', 'vgood', 'vgood', 'vgood', 'acc', 'vgood', 'acc', 'vgood', 'unacc', 'vgood', 'vgood', 'acc', 'acc', 'vgood', 'acc', 'acc', 'acc', 'good', 'unacc', 'unacc', 'unacc', 'unacc', 'unacc', 'acc', 'acc', 'vgood', 'vgood', 'vgood', 'unacc', 'acc', 'vgood', 'vgood', 'vgood', 'acc', 'acc', 'acc', 'unacc', 'acc', 'unacc', 'unacc', 'acc', 'unacc', 'acc', 'acc', 'unacc', 'acc', 'vgood', 'unacc', 'vgood', 'acc', 'unacc', 'vgood', 'unacc', 'unacc', 'unacc', 'vgood', 'vgood', 'unacc', 'unacc', 'unacc', 'acc', 'vgood', 'unacc', 'unacc', 'acc', 'vgood', 'acc', 'unacc', 'vgood', 'vgood', 'vgood', 'unacc', 'vgood', 'unacc', 'unacc', 'acc', 'acc', 'vgood', 'unacc', 'unacc', 'acc', 'acc', 'vgood', 'good', 'unacc', 'acc', 'vgood', 'acc', 'acc', 'vgood', 'acc', 'vgood', 'unacc', 'vgood', 'vgood', 'acc', 'vgood', 'vgood', 'unacc', 'vgood', 'unacc', 'acc', 'vgood', 'unacc', 'acc', 'acc', 'unacc', 'acc', 'unacc', 'unacc', 'vgood', 'unacc', 'unacc', 'acc', 'acc', 'unacc', 'vgood', 'unacc', 'vgood', 'unacc', 'acc', 'vgood', 'acc', 'vgood', 'acc', 'unacc', 'acc', 'acc', 'vgood', 'unacc', 'vgood', 'vgood', 'vgood', 'unacc', 'unacc', 'vgood', 'unacc', 'unacc', 'vgood', 'unacc', 'vgood', 'acc', 'vgood', 'acc', 'acc', 'vgood', 'acc', 'acc', 'unacc', 'vgood', 'vgood', 'vgood', 'unacc', 'vgood', 'vgood', 'unacc', 'vgood', 'vgood', 'unacc', 'unacc', 'unacc', 'acc', 'acc', 'vgood', 'acc', 'acc', 'vgood', 'unacc', 'unacc', 'vgood', 'unacc', 'acc', 'unacc', 'acc', 'acc', 'unacc', 'acc', 'acc', 'vgood', 'good', 'acc', 'unacc', 'acc', 'unacc', 'good', 'acc', 'acc', 'vgood', 'good', 'unacc', 'acc', 'vgood', 'acc', 'acc', 'vgood', 'unacc', 'vgood', 'acc', 'unacc', 'unacc', 'vgood', 'vgood', 'acc', 'acc', 'acc', 'unacc', 'unacc', 'vgood', 'unacc', 'vgood', 'unacc', 'acc', 'unacc', 'vgood', 'unacc', 'vgood', 'acc', 'unacc', 'vgood', 'acc', 'vgood', 'unacc', 'unacc', 'unacc', 'acc', 'unacc', 'unacc', 'unacc', 'vgood', 'unacc', 'acc', 'acc', 'unacc', 'vgood', 'unacc', 'vgood', 'acc', 'unacc', 'acc', 'vgood', 'unacc', 'acc', 'unacc', 'unacc', 'unacc', 'good', 'unacc', 'acc', 'vgood', 'acc', 'unacc', 'acc', 'acc', 'acc', 'vgood', 'vgood', 'vgood', 'unacc', 'good', 'good', 'acc', 'vgood', 'unacc', 'vgood', 'acc', 'acc', 'unacc', 'acc', 'vgood', 'vgood', 'vgood', 'acc', 'vgood', 'unacc', 'vgood', 'unacc', 'vgood', 'vgood', 'vgood', 'vgood', 'unacc', 'acc', 'acc', 'vgood', 'acc', 'vgood', 'acc', 'vgood', 'acc', 'good', 'vgood', 'vgood', 'vgood', 'vgood', 'unacc', 'unacc', 'acc', 'vgood', 'acc', 'unacc', 'vgood', 'acc', 'unacc', 'acc', 'unacc', 'acc', 'vgood', 'unacc', 'vgood', 'unacc', 'unacc', 'vgood', 'vgood', 'vgood', 'acc', 'acc', 'vgood', 'vgood', 'vgood', 'vgood', 'unacc', 'acc', 'acc', 'acc', 'unacc', 'vgood', 'acc']\n",
            "\n"
          ]
        }
      ],
      "source": [
        "%%ag\n",
        "ag_print(test_predictions)"
      ]
    },
    {
      "cell_type": "code",
      "execution_count": 37,
      "metadata": {
        "id": "qG7rGbFatNsA"
      },
      "outputs": [],
      "source": [
        "%%ag\n",
        "preds = pd.DataFrame(test_predictions, columns=['class'])"
      ]
    },
    {
      "cell_type": "code",
      "execution_count": 38,
      "metadata": {
        "colab": {
          "base_uri": "https://localhost:8080/"
        },
        "id": "DfyG2p_3tNsA",
        "outputId": "fe3e759e-f827-4b95-e673-adff4e1b698c"
      },
      "outputs": [
        {
          "output_type": "stream",
          "name": "stdout",
          "text": [
            "score: {'leaderboard': 0.2833269234869923, 'logs': {'BIN_ACC': 0.2833269234869923}}\n",
            "\n"
          ]
        }
      ],
      "source": [
        "%%ag\n",
        "submit_predictions(preds)"
      ]
    },
    {
      "cell_type": "code",
      "source": [
        "session.privacy_odometer()"
      ],
      "metadata": {
        "colab": {
          "base_uri": "https://localhost:8080/"
        },
        "id": "v5f4VHHEwXPL",
        "outputId": "9432d9c2-a2e2-43e5-826a-398bd556a151"
      },
      "execution_count": 39,
      "outputs": [
        {
          "output_type": "execute_result",
          "data": {
            "text/plain": [
              "{'total_epsilon_used': 69.1,\n",
              " 'total_delta_used': 0.0,\n",
              " 'library_costs': None,\n",
              " 'dataset_costs': None}"
            ]
          },
          "metadata": {},
          "execution_count": 39
        }
      ]
    },
    {
      "cell_type": "code",
      "source": [
        "%%ag\n",
        "# simple rule based\n",
        "def rule_based_model(data):\n",
        "    predictions = []\n",
        "    for _, row in data.iterrows():\n",
        "        if row['safety'] == 0:\n",
        "            predictions.append('unacc')\n",
        "        elif row['buying'] == 0 and row['maint'] == 0:\n",
        "            predictions.append('acc')\n",
        "        else:\n",
        "            predictions.append('unacc')\n",
        "    return predictions\n"
      ],
      "metadata": {
        "id": "_n-IOu0cztHd"
      },
      "execution_count": 40,
      "outputs": []
    },
    {
      "cell_type": "code",
      "source": [
        "%%ag\n",
        "predictions = rule_based_model(test_x)"
      ],
      "metadata": {
        "id": "hXfVG9yVz36j"
      },
      "execution_count": 41,
      "outputs": []
    },
    {
      "cell_type": "code",
      "source": [
        "%%ag\n",
        "submit_predictions(pd.DataFrame(predictions))"
      ],
      "metadata": {
        "colab": {
          "base_uri": "https://localhost:8080/"
        },
        "id": "8pTnJDWl0ePB",
        "outputId": "16617b5e-e41c-45af-d303-1d457a06892b"
      },
      "execution_count": 42,
      "outputs": [
        {
          "output_type": "stream",
          "name": "stdout",
          "text": [
            "score: {'leaderboard': 0.6175957702893319, 'logs': {'BIN_ACC': 0.6175957702893319}}\n",
            "\n"
          ]
        }
      ]
    },
    {
      "cell_type": "code",
      "source": [
        "session.terminate_session()"
      ],
      "metadata": {
        "colab": {
          "base_uri": "https://localhost:8080/"
        },
        "id": "cRSHjzeat0pD",
        "outputId": "f5a6d2c4-03bc-4da3-88f1-21a897c4125b"
      },
      "execution_count": 43,
      "outputs": [
        {
          "output_type": "execute_result",
          "data": {
            "text/plain": [
              "{'status': 'ok'}"
            ]
          },
          "metadata": {},
          "execution_count": 43
        }
      ]
    }
  ],
  "metadata": {
    "colab": {
      "provenance": []
    },
    "kernelspec": {
      "display_name": "Python 3",
      "name": "python3"
    },
    "language_info": {
      "codemirror_mode": {
        "name": "ipython",
        "version": 3
      },
      "file_extension": ".py",
      "mimetype": "text/x-python",
      "name": "python",
      "nbconvert_exporter": "python",
      "pygments_lexer": "ipython3",
      "version": "3.10.11"
    }
  },
  "nbformat": 4,
  "nbformat_minor": 0
}