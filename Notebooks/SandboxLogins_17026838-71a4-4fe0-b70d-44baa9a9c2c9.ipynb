{
 "cells": [
  {
   "cell_type": "code",
   "execution_count": 1,
   "metadata": {},
   "outputs": [
    {
     "data": {
      "text/html": [],
      "text/plain": [
       "<IPython.core.display.HTML object>"
      ]
     },
     "metadata": {},
     "output_type": "display_data"
    },
    {
     "name": "stdout",
     "output_type": "stream",
     "text": [
      "local_host_port: a1b8c694-7b37-4379-9839-8e10d724657d\n",
      "tls_cert_name: ip-100-100-23-125.eu-west-1.compute.internal_a1b8c694-7b37-4379-9839-8e10d724657d\n",
      "server_hostname: ip-100-100-23-125.eu-west-1.compute.internal\n"
     ]
    },
    {
     "name": "stderr",
     "output_type": "stream",
     "text": [
      "IOStream.flush timed out"
     ]
    },
    {
     "name": "stdout",
     "output_type": "stream",
     "text": [
      "Dataset \"Medical Treatment\" loaded to the kernel as \u001b[92mmedical_treatment\u001b[0m\n",
      "Key Name                       Value Type     \n",
      "---------------------------------------------\n",
      "train_x                        PrivateDataFrame\n",
      "train_y                        PrivateDataFrame\n",
      "test_x                         DataFrame      \n",
      "\n",
      "Connected to Antigranular server session id: 17026838-71a4-4fe0-b70d-44baa9a9c2c9, the session will time out if idle for 25 minutes\n",
      "Cell magic '%%ag' registered successfully, use `%%ag` in a notebook cell to execute your python code on Antigranular private python server\n",
      "🚀 Everything's set up and ready to roll!\n"
     ]
    },
    {
     "name": "stderr",
     "output_type": "stream",
     "text": [
      "\n"
     ]
    }
   ],
   "source": [
    "import antigranular as ag\n",
    "\n",
    "session = ag.login(\n",
    "    \"W2801fCG1w5exi46Z7NQdzmydTaQKKPX\",\n",
    "    \"RsxyAZrERXLHswYffG0i_0SNxBbyYIlkoj_dOj_Mm2ruRuKzHy8QATkYhXQ6rAx-\",\n",
    "    competition=\"Sandbox Competition\",\n",
    ")"
   ]
  },
  {
   "cell_type": "code",
   "execution_count": null,
   "metadata": {},
   "outputs": [],
   "source": []
  }
 ],
 "metadata": {
  "kernelspec": {
   "display_name": "venv",
   "language": "python",
   "name": "python3"
  },
  "language_info": {
   "codemirror_mode": {
    "name": "ipython",
    "version": 3
   },
   "file_extension": ".py",
   "mimetype": "text/x-python",
   "name": "python",
   "nbconvert_exporter": "python",
   "pygments_lexer": "ipython3",
   "version": "3.10.12"
  }
 },
 "nbformat": 4,
 "nbformat_minor": 2
}
