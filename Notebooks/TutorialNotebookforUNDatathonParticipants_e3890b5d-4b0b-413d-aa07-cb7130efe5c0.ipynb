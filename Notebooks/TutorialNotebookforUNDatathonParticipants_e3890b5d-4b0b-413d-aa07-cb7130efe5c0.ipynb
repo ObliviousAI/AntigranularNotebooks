{
  "nbformat": 4,
  "nbformat_minor": 0,
  "metadata": {
    "colab": {
      "provenance": []
    },
    "kernelspec": {
      "name": "python3",
      "display_name": "Python 3"
    },
    "language_info": {
      "name": "python"
    }
  },
  "cells": [
    {
      "cell_type": "markdown",
      "source": [
        "# Tutorial Notebook for UN Datathon Participants 🌐 🔐\n"
      ],
      "metadata": {
        "id": "GMqttQJfhEKp"
      }
    },
    {
      "cell_type": "markdown",
      "source": [
        "This notebook is designed to acquaint participants of the UN datathon with antigranular, which is your private data exploration toolkit, and showcase its main functions!\n",
        "\n",
        "## What is Antigranular?\n",
        "\n",
        "With Antigranular, you can use Python to securely explore and gain insights from your data without ever seeing sensitive information. 🕵️‍♂️🔐\n",
        "\n",
        "Antigranular leverages AWS enclaves, which are isolated and protected environments that run on the cloud. AWS enclaves ensure that your data and code are safe from unauthorised access, even from AWS itself. 🛡️☁️\n",
        "\n",
        "Antigranular also integrates with powerful differential privacy libraries, such as OpenDP, SmartNoise, and DiffPrivLib. Differential privacy is a technique that adds controlled noise to your data analysis, preserving the privacy of individual records while still allowing you to draw meaningful conclusions. 📊🔇\n",
        "\n",
        "With Antigranular, you can work with private sensitive datasets conveniently, knowing that your data analysis remains confidential and insightful! 😊👍"
      ],
      "metadata": {
        "id": "-DupuT9khO2U"
      }
    },
    {
      "cell_type": "markdown",
      "source": [
        "## How to Use antigranular?\n"
      ],
      "metadata": {
        "id": "b71hIT3bklaF"
      }
    },
    {
      "cell_type": "markdown",
      "source": [
        "### Install the Package 📦\n",
        "\n",
        "First, we need to add antigranular to our local jupyter kernel. You can do this by installing it directly from PyPI, which is like an app store but for python packages!\n"
      ],
      "metadata": {
        "id": "hW6Y2fM9krFT"
      }
    },
    {
      "cell_type": "code",
      "source": [
        "!pip install antigranular"
      ],
      "metadata": {
        "colab": {
          "base_uri": "https://localhost:8080/"
        },
        "id": "QGGSakHuSUVi",
        "outputId": "b1eb3fac-70f2-4ad9-f589-136e7ab0f33f"
      },
      "execution_count": 1,
      "outputs": [
        {
          "output_type": "stream",
          "name": "stdout",
          "text": [
            "Requirement already satisfied: antigranular in /usr/local/lib/python3.10/dist-packages (0.2.12)\n",
            "Requirement already satisfied: diffprivlib<0.7.0,>=0.6.2 in /usr/local/lib/python3.10/dist-packages (from antigranular) (0.6.3)\n",
            "Requirement already satisfied: ipython<8.0.0,>=7.34.0 in /usr/local/lib/python3.10/dist-packages (from antigranular) (7.34.0)\n",
            "Requirement already satisfied: oblv-client<0.2.0,>=0.1.15 in /usr/local/lib/python3.10/dist-packages (from antigranular) (0.1.15)\n",
            "Requirement already satisfied: onnx<2.0.0,>=1.14.0 in /usr/local/lib/python3.10/dist-packages (from antigranular) (1.15.0)\n",
            "Requirement already satisfied: pandas<2.0.0,>=1.5.3 in /usr/local/lib/python3.10/dist-packages (from antigranular) (1.5.3)\n",
            "Requirement already satisfied: pydantic<2.0.0,>=1.10.7 in /usr/local/lib/python3.10/dist-packages (from antigranular) (1.10.13)\n",
            "Requirement already satisfied: requests<3.0.0,>=2.31.0 in /usr/local/lib/python3.10/dist-packages (from antigranular) (2.31.0)\n",
            "Requirement already satisfied: numpy>=1.21.6 in /usr/local/lib/python3.10/dist-packages (from diffprivlib<0.7.0,>=0.6.2->antigranular) (1.23.5)\n",
            "Requirement already satisfied: scikit-learn>=0.24.2 in /usr/local/lib/python3.10/dist-packages (from diffprivlib<0.7.0,>=0.6.2->antigranular) (1.2.2)\n",
            "Requirement already satisfied: scipy>=1.7.3 in /usr/local/lib/python3.10/dist-packages (from diffprivlib<0.7.0,>=0.6.2->antigranular) (1.11.3)\n",
            "Requirement already satisfied: joblib>=0.16.0 in /usr/local/lib/python3.10/dist-packages (from diffprivlib<0.7.0,>=0.6.2->antigranular) (1.3.2)\n",
            "Requirement already satisfied: setuptools>=49.0.0 in /usr/local/lib/python3.10/dist-packages (from diffprivlib<0.7.0,>=0.6.2->antigranular) (67.7.2)\n",
            "Requirement already satisfied: jedi>=0.16 in /usr/local/lib/python3.10/dist-packages (from ipython<8.0.0,>=7.34.0->antigranular) (0.19.1)\n",
            "Requirement already satisfied: decorator in /usr/local/lib/python3.10/dist-packages (from ipython<8.0.0,>=7.34.0->antigranular) (4.4.2)\n",
            "Requirement already satisfied: pickleshare in /usr/local/lib/python3.10/dist-packages (from ipython<8.0.0,>=7.34.0->antigranular) (0.7.5)\n",
            "Requirement already satisfied: traitlets>=4.2 in /usr/local/lib/python3.10/dist-packages (from ipython<8.0.0,>=7.34.0->antigranular) (5.7.1)\n",
            "Requirement already satisfied: prompt-toolkit!=3.0.0,!=3.0.1,<3.1.0,>=2.0.0 in /usr/local/lib/python3.10/dist-packages (from ipython<8.0.0,>=7.34.0->antigranular) (3.0.39)\n",
            "Requirement already satisfied: pygments in /usr/local/lib/python3.10/dist-packages (from ipython<8.0.0,>=7.34.0->antigranular) (2.16.1)\n",
            "Requirement already satisfied: backcall in /usr/local/lib/python3.10/dist-packages (from ipython<8.0.0,>=7.34.0->antigranular) (0.2.0)\n",
            "Requirement already satisfied: matplotlib-inline in /usr/local/lib/python3.10/dist-packages (from ipython<8.0.0,>=7.34.0->antigranular) (0.1.6)\n",
            "Requirement already satisfied: pexpect>4.3 in /usr/local/lib/python3.10/dist-packages (from ipython<8.0.0,>=7.34.0->antigranular) (4.8.0)\n",
            "Requirement already satisfied: urllib3 in /usr/local/lib/python3.10/dist-packages (from oblv-client<0.2.0,>=0.1.15->antigranular) (2.0.7)\n",
            "Requirement already satisfied: protobuf>=3.20.2 in /usr/local/lib/python3.10/dist-packages (from onnx<2.0.0,>=1.14.0->antigranular) (3.20.3)\n",
            "Requirement already satisfied: python-dateutil>=2.8.1 in /usr/local/lib/python3.10/dist-packages (from pandas<2.0.0,>=1.5.3->antigranular) (2.8.2)\n",
            "Requirement already satisfied: pytz>=2020.1 in /usr/local/lib/python3.10/dist-packages (from pandas<2.0.0,>=1.5.3->antigranular) (2023.3.post1)\n",
            "Requirement already satisfied: typing-extensions>=4.2.0 in /usr/local/lib/python3.10/dist-packages (from pydantic<2.0.0,>=1.10.7->antigranular) (4.5.0)\n",
            "Requirement already satisfied: charset-normalizer<4,>=2 in /usr/local/lib/python3.10/dist-packages (from requests<3.0.0,>=2.31.0->antigranular) (3.3.1)\n",
            "Requirement already satisfied: idna<4,>=2.5 in /usr/local/lib/python3.10/dist-packages (from requests<3.0.0,>=2.31.0->antigranular) (3.4)\n",
            "Requirement already satisfied: certifi>=2017.4.17 in /usr/local/lib/python3.10/dist-packages (from requests<3.0.0,>=2.31.0->antigranular) (2023.7.22)\n",
            "Requirement already satisfied: parso<0.9.0,>=0.8.3 in /usr/local/lib/python3.10/dist-packages (from jedi>=0.16->ipython<8.0.0,>=7.34.0->antigranular) (0.8.3)\n",
            "Requirement already satisfied: ptyprocess>=0.5 in /usr/local/lib/python3.10/dist-packages (from pexpect>4.3->ipython<8.0.0,>=7.34.0->antigranular) (0.7.0)\n",
            "Requirement already satisfied: wcwidth in /usr/local/lib/python3.10/dist-packages (from prompt-toolkit!=3.0.0,!=3.0.1,<3.1.0,>=2.0.0->ipython<8.0.0,>=7.34.0->antigranular) (0.2.8)\n",
            "Requirement already satisfied: six>=1.5 in /usr/local/lib/python3.10/dist-packages (from python-dateutil>=2.8.1->pandas<2.0.0,>=1.5.3->antigranular) (1.16.0)\n",
            "Requirement already satisfied: threadpoolctl>=2.0.0 in /usr/local/lib/python3.10/dist-packages (from scikit-learn>=0.24.2->diffprivlib<0.7.0,>=0.6.2->antigranular) (3.2.0)\n"
          ]
        }
      ]
    },
    {
      "cell_type": "markdown",
      "source": [
        "### Using Antigranular for Secure Computations 🔐\n",
        "\n",
        "Now that you're connected, your ag.login initiates a secure session with Antigranular where we can work with our data confidentially.\n",
        "\n",
        "See the the %%ag at the beginning of a cell? It indicates that the code within this cell will be executed securely on the Antigranular platform, ensuring the confidentiality of our computations. Like magic! 😍"
      ],
      "metadata": {
        "id": "mbrRvP3CkwgB"
      }
    },
    {
      "cell_type": "code",
      "execution_count": 2,
      "metadata": {
        "colab": {
          "base_uri": "https://localhost:8080/",
          "height": 71
        },
        "id": "KC-Nkg3YR96J",
        "outputId": "4a6af097-852e-48f6-c203-b8b2358c57de"
      },
      "outputs": [
        {
          "output_type": "display_data",
          "data": {
            "text/plain": [
              "<IPython.core.display.HTML object>"
            ],
            "text/html": []
          },
          "metadata": {}
        },
        {
          "output_type": "stream",
          "name": "stdout",
          "text": [
            "Connected to Antigranular server session id: e3890b5d-4b0b-413d-aa07-cb7130efe5c0, the session will time out if idle for 60 minutes\n",
            "Cell magic '%%ag' registered successfully, use `%%ag` in a notebook cell to execute your python code on Antigranular private python server\n",
            "🚀 Everything's set up and ready to roll!\n"
          ]
        }
      ],
      "source": [
        "import antigranular as ag\n",
        "session = ag.login(<client_id>,<client_secret>, competition = \"UN Datathon PETs Track\")"
      ]
    },
    {
      "cell_type": "markdown",
      "source": [
        "🔑 Note: Replace `<client_id>`, `<client_secret>`, with actual values that you will get from antigranular.com to get connected.\n",
        "\n",
        "🔐 Ensure to substitute `<client_id>` and `<client_secret>` with your respective Antigranular credentials."
      ],
      "metadata": {
        "id": "cHD3_C7Ek-3t"
      }
    },
    {
      "cell_type": "markdown",
      "source": [
        "## Loading the Data 🚀"
      ],
      "metadata": {
        "id": "neszBDs5lJuM"
      }
    },
    {
      "cell_type": "markdown",
      "source": [
        "For this datathon, we possess an extensive private dataset, which we have divided into 19 separate smaller datasets. This division allows for each dataset to be loaded individually, promoting swifter execution times, so there's nothing holding you back. 💥\n",
        "\n",
        "The [op_pandas](https://docs.antigranular.com/private-python/packages/pandas) library includes functionality for merging and joining two datasets, enabling the combination of multiple datasets.\n",
        "\n",
        "You can load two datasets by using `load_dataset` functionality, which returns an `op_pandas.PrivateDataFrame` object."
      ],
      "metadata": {
        "id": "z3rTabRZlMzo"
      }
    },
    {
      "cell_type": "code",
      "source": [
        "%%ag\n",
        "undata_ls = load_dataset(\"undata_ls\")\n",
        "undata_ls_dif = load_dataset(\"undata_ls_dif\")"
      ],
      "metadata": {
        "id": "2RX9xg8lSWaO"
      },
      "execution_count": 3,
      "outputs": []
    },
    {
      "cell_type": "markdown",
      "source": [
        "## Checking the Privacy Budget 🤑\n",
        "\n",
        "Privacy-preserving algorithms used by libraries often consume a \"privacy budget\" to ensure that data privacy is maintained. Here's how you can check your spending:"
      ],
      "metadata": {
        "id": "zhPdhNxDmQqQ"
      }
    },
    {
      "cell_type": "code",
      "source": [
        "session.privacy_odometer()"
      ],
      "metadata": {
        "colab": {
          "base_uri": "https://localhost:8080/"
        },
        "id": "6jg76sb4dxcA",
        "outputId": "ea15bedb-814e-44c2-f834-2f0b8e070b84"
      },
      "execution_count": 4,
      "outputs": [
        {
          "output_type": "execute_result",
          "data": {
            "text/plain": [
              "{'total_epsilon_used': 8.999999999999988,\n",
              " 'total_delta_used': 0.0,\n",
              " 'library_costs': {'op_pandas': {'total_delta': 0,\n",
              "   'total_epsilon': 8.999999999999988,\n",
              "   'total_requests': 13}},\n",
              " 'dataset_costs': {'undata_ls': {'delta': 0, 'eps': 4.999999999999993},\n",
              "  'undata_ls_dif': {'delta': 0, 'eps': 3.999999999999995}}}"
            ]
          },
          "metadata": {},
          "execution_count": 4
        }
      ]
    },
    {
      "cell_type": "markdown",
      "source": [
        "## Viewing Data 🔍\n",
        "\n",
        "To protect privacy, records in PrivateDataFrame and PrivateSeries cannot be viewed directly. But that doesn't mean you can't see anything! 👀 You can still analyse and obtain statistical information about the data using methods that offer differential privacy guarantees."
      ],
      "metadata": {
        "id": "Z3TNW3XsmQlX"
      }
    },
    {
      "cell_type": "markdown",
      "source": [
        "\n",
        "### Viewing Details About the Data\n",
        "\n",
        "`ag_print` is a function packaged within Antigranular which can be used to print objects from the ag environment.\n",
        "\n",
        "Here's how you can print the details about the data, like `columns` and `metadata`:"
      ],
      "metadata": {
        "id": "asv3mcU0nIuT"
      }
    },
    {
      "cell_type": "code",
      "source": [
        "%%ag\n",
        "\n",
        "ag_print(\"undata_ls Details: \\n\")\n",
        "ag_print(\"Columns: \\n\", undata_ls.columns)\n",
        "ag_print(\"Metadata: \\n\", undata_ls.metadata)\n",
        "ag_print(\"Dtypes: \\n\", undata_ls.dtypes)"
      ],
      "metadata": {
        "colab": {
          "base_uri": "https://localhost:8080/"
        },
        "id": "BcbiE3DjmUXo",
        "outputId": "493a3a89-0c43-4946-9f18-8f4947812417"
      },
      "execution_count": 5,
      "outputs": [
        {
          "output_type": "stream",
          "name": "stdout",
          "text": [
            "undata_ls Details: \n",
            "\n",
            "Columns: \n",
            " Index(['objectid', 'ls_main', 'ls_num_lastyr', 'ls_num_now', 'ls_num_diff',\n",
            "       'ls_num_increased', 'ls_num_decreased', 'ls_num_no_change',\n",
            "       'ls_num_inc_less_sales', 'ls_num_inc_more_birth',\n",
            "       'ls_num_inc_more_acquired', 'ls_num_inc_received_free',\n",
            "       'ls_num_dec_poor_health', 'ls_num_dec_death',\n",
            "       'ls_num_dec_sales_good_price', 'ls_num_dec_sales_distress',\n",
            "       'ls_num_dec_escape_stolen', 'ls_num_dec_consumed',\n",
            "       'ls_num_inc_dec_other', 'ls_num_inc_dec_dk', 'ls_num_inc_dec_ref',\n",
            "       'ls_feed_open_pasture', 'ls_feed_common_pasture',\n",
            "       'ls_feed_self_produced', 'ls_feed_purchased', 'ls_feed_free_dist',\n",
            "       'ls_feed_other', 'ls_feed_dk', 'ls_feed_ref'],\n",
            "      dtype='object')\n",
            "Metadata: \n",
            " {'objectid': (3496, 239871), 'ls_main': (1.0, 999.0), 'ls_num_lastyr': (0.0, 200000.0), 'ls_num_now': (0.0, 200000.0), 'ls_num_diff': (-99955.0, 18000.0), 'ls_num_increased': (0.0, 1.0), 'ls_num_decreased': (0.0, 1.0), 'ls_num_no_change': (0.0, 1.0), 'ls_num_inc_less_sales': (0.0, 1.0), 'ls_num_inc_more_birth': (0.0, 1.0), 'ls_num_inc_more_acquired': (0.0, 1.0), 'ls_num_inc_received_free': (0.0, 1.0), 'ls_num_dec_poor_health': (0.0, 1.0), 'ls_num_dec_death': (0.0, 1.0), 'ls_num_dec_sales_good_price': (0.0, 1.0), 'ls_num_dec_sales_distress': (0.0, 1.0), 'ls_num_dec_escape_stolen': (0.0, 1.0), 'ls_num_dec_consumed': (0.0, 1.0), 'ls_num_inc_dec_other': (0.0, 1.0), 'ls_num_inc_dec_dk': (0.0, 1.0), 'ls_num_inc_dec_ref': (0.0, 1.0), 'ls_feed_open_pasture': (0.0, 1.0), 'ls_feed_common_pasture': (0.0, 1.0), 'ls_feed_self_produced': (0.0, 1.0), 'ls_feed_purchased': (0.0, 1.0), 'ls_feed_free_dist': (0.0, 1.0), 'ls_feed_other': (0.0, 1.0), 'ls_feed_dk': (0.0, 1.0), 'ls_feed_ref': (0.0, 1.0)}\n",
            "Dtypes: \n",
            " objectid                         int64\n",
            "ls_main                        float64\n",
            "ls_num_lastyr                  float64\n",
            "ls_num_now                     float64\n",
            "ls_num_diff                    float64\n",
            "ls_num_increased               float64\n",
            "ls_num_decreased               float64\n",
            "ls_num_no_change               float64\n",
            "ls_num_inc_less_sales          float64\n",
            "ls_num_inc_more_birth          float64\n",
            "ls_num_inc_more_acquired       float64\n",
            "ls_num_inc_received_free       float64\n",
            "ls_num_dec_poor_health         float64\n",
            "ls_num_dec_death               float64\n",
            "ls_num_dec_sales_good_price    float64\n",
            "ls_num_dec_sales_distress      float64\n",
            "ls_num_dec_escape_stolen       float64\n",
            "ls_num_dec_consumed            float64\n",
            "ls_num_inc_dec_other           float64\n",
            "ls_num_inc_dec_dk              float64\n",
            "ls_num_inc_dec_ref             float64\n",
            "ls_feed_open_pasture           float64\n",
            "ls_feed_common_pasture         float64\n",
            "ls_feed_self_produced          float64\n",
            "ls_feed_purchased              float64\n",
            "ls_feed_free_dist              float64\n",
            "ls_feed_other                  float64\n",
            "ls_feed_dk                     float64\n",
            "ls_feed_ref                    float64\n",
            "dtype: object\n",
            "\n"
          ]
        }
      ]
    },
    {
      "cell_type": "code",
      "source": [
        "%%ag\n",
        "\n",
        "ag_print(\"undata_ls_dif Details: \\n\")\n",
        "ag_print(\"Columns: \\n\", undata_ls_dif.columns)\n",
        "ag_print(\"Metadata: \\n\", undata_ls_dif.metadata)\n",
        "ag_print(\"Dtypes: \\n\", undata_ls_dif.dtypes)"
      ],
      "metadata": {
        "colab": {
          "base_uri": "https://localhost:8080/"
        },
        "id": "KMC6QWfDnVYN",
        "outputId": "18425458-7d92-4e1e-c436-fb002a20369d"
      },
      "execution_count": 6,
      "outputs": [
        {
          "output_type": "stream",
          "name": "stdout",
          "text": [
            "undata_ls_dif Details: \n",
            "\n",
            "Columns: \n",
            " Index(['objectid', 'ls_proddif', 'ls_proddif_feed_purchase',\n",
            "       'ls_proddif_access_pasture', 'ls_proddif_access_water',\n",
            "       'ls_proddif_vet_serv', 'ls_proddif_vet_input', 'ls_proddif_diseases',\n",
            "       'ls_proddif_theft', 'ls_proddif_access_market',\n",
            "       'ls_proddif_access_credit', 'ls_proddif_access_labour',\n",
            "       'ls_proddif_other', 'ls_proddif_dk', 'ls_proddif_ref', 'ls_salesmain',\n",
            "       'ls_salesdif', 'ls_salesdif_marketing_cost',\n",
            "       'ls_salesdif_damage_losses', 'ls_salesdif_low_demand',\n",
            "       'ls_salesdif_pay_delay', 'ls_salesdif_low_price',\n",
            "       'ls_salesdif_slaughterhouse', 'ls_salesdif_processing',\n",
            "       'ls_salesdif_competition', 'ls_salesdif_other', 'ls_salesdif_dk',\n",
            "       'ls_salesdif_ref', 'ls_salesprice'],\n",
            "      dtype='object')\n",
            "Metadata: \n",
            " {'objectid': (3496, 239871), 'ls_proddif': (0.0, 999.0), 'ls_proddif_feed_purchase': (0.0, 1.0), 'ls_proddif_access_pasture': (0.0, 1.0), 'ls_proddif_access_water': (0.0, 1.0), 'ls_proddif_vet_serv': (0.0, 1.0), 'ls_proddif_vet_input': (0.0, 1.0), 'ls_proddif_diseases': (0.0, 1.0), 'ls_proddif_theft': (0.0, 1.0), 'ls_proddif_access_market': (0.0, 1.0), 'ls_proddif_access_credit': (0.0, 1.0), 'ls_proddif_access_labour': (0.0, 1.0), 'ls_proddif_other': (0.0, 1.0), 'ls_proddif_dk': (0.0, 1.0), 'ls_proddif_ref': (0.0, 1.0), 'ls_salesmain': (1.0, 999.0), 'ls_salesdif': (0.0, 999.0), 'ls_salesdif_marketing_cost': (0.0, 1.0), 'ls_salesdif_damage_losses': (0.0, 1.0), 'ls_salesdif_low_demand': (0.0, 1.0), 'ls_salesdif_pay_delay': (0.0, 1.0), 'ls_salesdif_low_price': (0.0, 1.0), 'ls_salesdif_slaughterhouse': (0.0, 1.0), 'ls_salesdif_processing': (0.0, 1.0), 'ls_salesdif_competition': (0.0, 1.0), 'ls_salesdif_other': (0.0, 1.0), 'ls_salesdif_dk': (0.0, 1.0), 'ls_salesdif_ref': (0.0, 1.0), 'ls_salesprice': (1.0, 999.0)}\n",
            "Dtypes: \n",
            " objectid                        int64\n",
            "ls_proddif                    float64\n",
            "ls_proddif_feed_purchase      float64\n",
            "ls_proddif_access_pasture     float64\n",
            "ls_proddif_access_water       float64\n",
            "ls_proddif_vet_serv           float64\n",
            "ls_proddif_vet_input          float64\n",
            "ls_proddif_diseases           float64\n",
            "ls_proddif_theft              float64\n",
            "ls_proddif_access_market      float64\n",
            "ls_proddif_access_credit      float64\n",
            "ls_proddif_access_labour      float64\n",
            "ls_proddif_other              float64\n",
            "ls_proddif_dk                 float64\n",
            "ls_proddif_ref                float64\n",
            "ls_salesmain                  float64\n",
            "ls_salesdif                   float64\n",
            "ls_salesdif_marketing_cost    float64\n",
            "ls_salesdif_damage_losses     float64\n",
            "ls_salesdif_low_demand        float64\n",
            "ls_salesdif_pay_delay         float64\n",
            "ls_salesdif_low_price         float64\n",
            "ls_salesdif_slaughterhouse    float64\n",
            "ls_salesdif_processing        float64\n",
            "ls_salesdif_competition       float64\n",
            "ls_salesdif_other             float64\n",
            "ls_salesdif_dk                float64\n",
            "ls_salesdif_ref               float64\n",
            "ls_salesprice                 float64\n",
            "dtype: object\n",
            "\n"
          ]
        }
      ]
    },
    {
      "cell_type": "markdown",
      "source": [
        "`metadata` denotes the bounds of numerical data."
      ],
      "metadata": {
        "id": "IvvMos37pELE"
      }
    },
    {
      "cell_type": "markdown",
      "source": [
        "### Quick Statistics 📊\n",
        "\n",
        "One way to obtain the quick-statistic is by using the `describe()` method. You can spend some epsilon and obtain a rough meta-data about the dataset to give you a quick overview.\n",
        "\n"
      ],
      "metadata": {
        "id": "cFOSbDfUpM1z"
      }
    },
    {
      "cell_type": "code",
      "source": [
        "%%ag\n",
        "\n",
        "undata_ls_describe = undata_ls.describe(eps=1)\n",
        "ag_print(\"undata_ls Describe:\\n\", undata_ls_describe)\n",
        "\n",
        "undata_ls_dif_describe = undata_ls_dif.describe(eps=1)\n",
        "ag_print(\"undata_ls Describe:\\n\", undata_ls_describe)"
      ],
      "metadata": {
        "colab": {
          "base_uri": "https://localhost:8080/"
        },
        "id": "zmOjEmoGosIU",
        "outputId": "1dae6abf-5bd0-4ed9-8628-69840cf69b18"
      },
      "execution_count": 7,
      "outputs": [
        {
          "output_type": "stream",
          "name": "stdout",
          "text": [
            "undata_ls Describe:\n",
            "             objectid        ls_main  ...     ls_feed_dk    ls_feed_ref\n",
            "count  105778.000000  105778.000000  ...  105778.000000  105778.000000\n",
            "mean    92193.209019      14.449454  ...       0.000008       0.000000\n",
            "std     74658.754923     101.949025  ...       0.116855       0.025243\n",
            "min      4243.259322       1.401837  ...       0.000000       0.000000\n",
            "25%     30224.180885       1.778025  ...       0.000960       0.001302\n",
            "50%     63203.558291       2.695636  ...       0.000832       0.002792\n",
            "75%    149652.218706       4.534196  ...       0.009727       0.061247\n",
            "max    238770.933065     397.705265  ...       0.241089       0.887168\n",
            "\n",
            "[8 rows x 29 columns]\n",
            "\n",
            "undata_ls Describe:\n",
            "             objectid        ls_main  ...     ls_feed_dk    ls_feed_ref\n",
            "count  105778.000000  105778.000000  ...  105778.000000  105778.000000\n",
            "mean    92193.209019      14.449454  ...       0.000008       0.000000\n",
            "std     74658.754923     101.949025  ...       0.116855       0.025243\n",
            "min      4243.259322       1.401837  ...       0.000000       0.000000\n",
            "25%     30224.180885       1.778025  ...       0.000960       0.001302\n",
            "50%     63203.558291       2.695636  ...       0.000832       0.002792\n",
            "75%    149652.218706       4.534196  ...       0.009727       0.061247\n",
            "max    238770.933065     397.705265  ...       0.241089       0.887168\n",
            "\n",
            "[8 rows x 29 columns]\n",
            "\n"
          ]
        }
      ]
    },
    {
      "cell_type": "markdown",
      "source": [
        "You can view the statistics by exporting the non-private result to the local Jupyter server using the `export` method:"
      ],
      "metadata": {
        "id": "kOO0C2-LqXF0"
      }
    },
    {
      "cell_type": "code",
      "source": [
        "%%ag\n",
        "\n",
        "export(undata_ls_describe, name='undata_ls_describe')"
      ],
      "metadata": {
        "colab": {
          "base_uri": "https://localhost:8080/"
        },
        "id": "TXKengzTpYu-",
        "outputId": "6d0b1eda-8d62-40af-ab79-11eb5515985f"
      },
      "execution_count": 8,
      "outputs": [
        {
          "output_type": "stream",
          "name": "stdout",
          "text": [
            "Setting up exported variable in local environment: undata_ls_describe\n"
          ]
        }
      ]
    },
    {
      "cell_type": "markdown",
      "source": [
        "Now, we can access undata_ls_describe in our local jupyter environment."
      ],
      "metadata": {
        "id": "CU6MJ1TQqi4M"
      }
    },
    {
      "cell_type": "code",
      "source": [
        "print(undata_ls_describe)"
      ],
      "metadata": {
        "colab": {
          "base_uri": "https://localhost:8080/"
        },
        "id": "k8EJcq-uqfpJ",
        "outputId": "47311ce5-5781-42c3-cbf7-2eff18994189"
      },
      "execution_count": 9,
      "outputs": [
        {
          "output_type": "stream",
          "name": "stdout",
          "text": [
            "            objectid        ls_main  ls_num_lastyr     ls_num_now  \\\n",
            "count  105778.000000  105778.000000  105778.000000  105778.000000   \n",
            "mean    92193.209019      14.449454     203.417707     934.263151   \n",
            "std     74658.754923     101.949025    7906.386832   16830.384503   \n",
            "min      4243.259322       1.401837       0.826618       0.180138   \n",
            "25%     30224.180885       1.778025       3.857679       2.180077   \n",
            "50%     63203.558291       2.695636       8.946409       5.118635   \n",
            "75%    149652.218706       4.534196      22.420499      14.948462   \n",
            "max    238770.933065     397.705265   22107.875827  100927.713730   \n",
            "\n",
            "         ls_num_diff  ls_num_increased  ls_num_decreased  ls_num_no_change  \\\n",
            "count  105778.000000     105778.000000     105778.000000     105778.000000   \n",
            "mean     -398.081894          0.253148          0.609232          0.135010   \n",
            "std      6785.798223          0.449069          0.491129          0.359592   \n",
            "min    -36402.714492          0.000000          0.000000          0.000000   \n",
            "25%        -7.907687          0.000002          0.000059          0.000208   \n",
            "50%        -1.889234          0.002574          0.992018          0.017436   \n",
            "75%         0.601535          0.919284          0.979211          0.002275   \n",
            "max     17334.629308          0.998119          0.999122          0.999901   \n",
            "\n",
            "       ls_num_inc_less_sales  ls_num_inc_more_birth  ...  ls_num_inc_dec_dk  \\\n",
            "count          105778.000000          105778.000000  ...      105778.000000   \n",
            "mean                0.055943               0.214360  ...           0.002172   \n",
            "std                 0.249165               0.409647  ...           0.081702   \n",
            "min                 0.000000               0.000000  ...           0.000000   \n",
            "25%                 0.000227               0.007521  ...           0.017130   \n",
            "50%                 0.004777               0.015980  ...           0.000726   \n",
            "75%                 0.012211               0.087846  ...           0.049990   \n",
            "max                 0.947044               0.999032  ...           0.991698   \n",
            "\n",
            "       ls_num_inc_dec_ref  ls_feed_open_pasture  ls_feed_common_pasture  \\\n",
            "count       105778.000000         105778.000000           105778.000000   \n",
            "mean             0.002034              0.573877                0.147504   \n",
            "std              0.078753              0.494732                0.348875   \n",
            "min              0.000000              0.000000                0.000000   \n",
            "25%              0.010405              0.058704                0.011760   \n",
            "50%              0.000124              0.986934                0.000786   \n",
            "75%              0.006522              0.998451                0.057823   \n",
            "max              0.955165              0.998303                0.996217   \n",
            "\n",
            "       ls_feed_self_produced  ls_feed_purchased  ls_feed_free_dist  \\\n",
            "count          105778.000000      105778.000000      105778.000000   \n",
            "mean                0.243836           0.459836           0.019369   \n",
            "std                 0.419952           0.496290           0.150076   \n",
            "min                 0.000000           0.000000           0.000000   \n",
            "25%                 0.000021           0.001534           0.004168   \n",
            "50%                 0.009029           0.077910           0.005747   \n",
            "75%                 0.801310           0.997859           0.000883   \n",
            "max                 0.956257           0.982231           0.999139   \n",
            "\n",
            "       ls_feed_other     ls_feed_dk    ls_feed_ref  \n",
            "count  105778.000000  105778.000000  105778.000000  \n",
            "mean        0.026461       0.000008       0.000000  \n",
            "std         0.171569       0.116855       0.025243  \n",
            "min         0.000000       0.000000       0.000000  \n",
            "25%         0.008116       0.000960       0.001302  \n",
            "50%         0.014722       0.000832       0.002792  \n",
            "75%         0.001538       0.009727       0.061247  \n",
            "max         0.993546       0.241089       0.887168  \n",
            "\n",
            "[8 rows x 29 columns]\n"
          ]
        }
      ]
    },
    {
      "cell_type": "markdown",
      "source": [
        "## Data Preprocessing 🌐"
      ],
      "metadata": {
        "id": "8gLBizoP0mP6"
      }
    },
    {
      "cell_type": "markdown",
      "source": [
        "### Importing External Data\n",
        "\n",
        "Guess what? You can also import any external data, merge it with the data provided to get some inferences.\n",
        "\n",
        "Here is an example on how to do that:"
      ],
      "metadata": {
        "id": "aMHgNXSb0cv4"
      }
    },
    {
      "cell_type": "code",
      "source": [
        "'''\n",
        "Creating mock data\n",
        "\n",
        "Mock data will just be 100 rows of age and salary information\n",
        "'''\n",
        "\n",
        "import pandas as pd\n",
        "import numpy as np\n",
        "\n",
        "n_num = 100\n",
        "df = pd.DataFrame({'age': np.random.randint(0, 80, n_num), 'salary': np.random.randint(100, 100000, n_num)})\n",
        "session.private_import(data = df, name= 'imported_df')"
      ],
      "metadata": {
        "colab": {
          "base_uri": "https://localhost:8080/"
        },
        "id": "gu-dHZ7i00Wn",
        "outputId": "7ebfa7af-1c5b-45df-ae91-23fa118bc192"
      },
      "execution_count": 10,
      "outputs": [
        {
          "output_type": "stream",
          "name": "stdout",
          "text": [
            "dataframe cached to server, loading to kernel...\n",
            "Output: Dataframe loaded successfully to the kernel\n",
            "\n"
          ]
        }
      ]
    },
    {
      "cell_type": "code",
      "source": [
        "%%ag\n",
        "# Creating a PrivateDataFrame out of the DataFrame imported.\n",
        "import op_pandas\n",
        "\n",
        "metadata = {\n",
        "    'age': (0, 80),\n",
        "    'salary': (1, 200000)\n",
        "}\n",
        "\n",
        "priv_df = op_pandas.PrivateDataFrame(imported_df ,metadata = metadata)"
      ],
      "metadata": {
        "id": "7igAIzHR2e6K"
      },
      "execution_count": 11,
      "outputs": []
    },
    {
      "cell_type": "code",
      "source": [
        "%%ag\n",
        "\n",
        "ag_print(\"Private DataFrame Describe:\\n\", priv_df.describe(eps=1))"
      ],
      "metadata": {
        "colab": {
          "base_uri": "https://localhost:8080/"
        },
        "id": "ZIZuXyTb2uNY",
        "outputId": "c8800d30-6b49-4c8b-f7a7-735b5d8c9f00"
      },
      "execution_count": 12,
      "outputs": [
        {
          "output_type": "stream",
          "name": "stdout",
          "text": [
            "Private DataFrame Describe:\n",
            "              age        salary\n",
            "count  81.000000     81.000000\n",
            "mean   27.011964  75850.691165\n",
            "std    39.135588  50522.226239\n",
            "min     0.000000  79757.070666\n",
            "25%    19.951170  40380.330438\n",
            "50%    58.082244  62273.711057\n",
            "75%    60.722265  49439.122435\n",
            "max    71.488985  75859.159417\n",
            "\n"
          ]
        }
      ]
    },
    {
      "cell_type": "markdown",
      "source": [
        "Now that `priv_df` is within the ag environment, you can do any operation with the original data and extract inferences."
      ],
      "metadata": {
        "id": "DMT3VosT3BLx"
      }
    },
    {
      "cell_type": "markdown",
      "source": [
        "### Combining Datasets: `undata_ls` and `undata_ls_dif`\n",
        "\n",
        "To facilitate certain analyses and visualisations, it might be useful to combine our two datasets (`undata_ls` and `undata_ls_dif`) into a single dataset.\n",
        "\n",
        "This can allow us to explore relationships between features more efficiently. 🤝🏼"
      ],
      "metadata": {
        "id": "VD_0DvZRtb6n"
      }
    },
    {
      "cell_type": "code",
      "source": [
        "%%ag\n",
        "\n",
        "import op_pandas\n",
        "\n",
        "joined_data = op_pandas.merge(undata_ls, undata_ls_dif, on=\"objectid\")\n",
        "\n",
        "ag_print(\"Joined Data Columns: \\n\", joined_data.columns)"
      ],
      "metadata": {
        "colab": {
          "base_uri": "https://localhost:8080/"
        },
        "id": "UbghmwQ6sMkb",
        "outputId": "6af2fbdd-b3ad-4000-c9d5-bd7cac226a90"
      },
      "execution_count": 13,
      "outputs": [
        {
          "output_type": "stream",
          "name": "stdout",
          "text": [
            "Joined Data Columns: \n",
            " Index(['objectid', 'ls_main', 'ls_num_lastyr', 'ls_num_now', 'ls_num_diff',\n",
            "       'ls_num_increased', 'ls_num_decreased', 'ls_num_no_change',\n",
            "       'ls_num_inc_less_sales', 'ls_num_inc_more_birth',\n",
            "       'ls_num_inc_more_acquired', 'ls_num_inc_received_free',\n",
            "       'ls_num_dec_poor_health', 'ls_num_dec_death',\n",
            "       'ls_num_dec_sales_good_price', 'ls_num_dec_sales_distress',\n",
            "       'ls_num_dec_escape_stolen', 'ls_num_dec_consumed',\n",
            "       'ls_num_inc_dec_other', 'ls_num_inc_dec_dk', 'ls_num_inc_dec_ref',\n",
            "       'ls_feed_open_pasture', 'ls_feed_common_pasture',\n",
            "       'ls_feed_self_produced', 'ls_feed_purchased', 'ls_feed_free_dist',\n",
            "       'ls_feed_other', 'ls_feed_dk', 'ls_feed_ref', 'ls_proddif',\n",
            "       'ls_proddif_feed_purchase', 'ls_proddif_access_pasture',\n",
            "       'ls_proddif_access_water', 'ls_proddif_vet_serv',\n",
            "       'ls_proddif_vet_input', 'ls_proddif_diseases', 'ls_proddif_theft',\n",
            "       'ls_proddif_access_market', 'ls_proddif_access_credit',\n",
            "       'ls_proddif_access_labour', 'ls_proddif_other', 'ls_proddif_dk',\n",
            "       'ls_proddif_ref', 'ls_salesmain', 'ls_salesdif',\n",
            "       'ls_salesdif_marketing_cost', 'ls_salesdif_damage_losses',\n",
            "       'ls_salesdif_low_demand', 'ls_salesdif_pay_delay',\n",
            "       'ls_salesdif_low_price', 'ls_salesdif_slaughterhouse',\n",
            "       'ls_salesdif_processing', 'ls_salesdif_competition',\n",
            "       'ls_salesdif_other', 'ls_salesdif_dk', 'ls_salesdif_ref',\n",
            "       'ls_salesprice'],\n",
            "      dtype='object')\n",
            "\n"
          ]
        }
      ]
    },
    {
      "cell_type": "markdown",
      "source": [
        "Using `merge` method, we merge the two PrivateDataFrames."
      ],
      "metadata": {
        "id": "q3t3tK8RwUxz"
      }
    },
    {
      "cell_type": "markdown",
      "source": [
        "## Data Visualisation 🤩\n",
        "\n",
        "The next function in your arsenal is data visualisation. This is a pivotal step in exploratory data analysis. By visualising our data, we can observe patterns, anomalies, and relationships between variables that might not be apparent from the raw data alone.\n"
      ],
      "metadata": {
        "id": "sFMkh13ptYkm"
      }
    },
    {
      "cell_type": "markdown",
      "source": [
        "### Exploring the Data Using `histograms`"
      ],
      "metadata": {
        "id": "WH9aOQEfzvgw"
      }
    },
    {
      "cell_type": "markdown",
      "source": [
        "We can visualise different columns using differentially private `histograms`."
      ],
      "metadata": {
        "id": "9uJOxHtFzz0e"
      }
    },
    {
      "cell_type": "code",
      "source": [
        "%%ag\n",
        "\n",
        "hist_data = joined_data.hist(column='ls_salesprice',eps=1)\n",
        "export(hist_data , 'hist_data')"
      ],
      "metadata": {
        "colab": {
          "base_uri": "https://localhost:8080/"
        },
        "id": "CssP7oOvzzUq",
        "outputId": "379e9614-5d58-40cd-bcbe-f82d15746c43"
      },
      "execution_count": 14,
      "outputs": [
        {
          "output_type": "stream",
          "name": "stdout",
          "text": [
            "Setting up exported variable in local environment: hist_data\n"
          ]
        }
      ]
    },
    {
      "cell_type": "markdown",
      "source": [
        "To visualise the histogram locally, you can use matplotlib or any other plotting library of your choice."
      ],
      "metadata": {
        "id": "W7QA6iTT3uk_"
      }
    },
    {
      "cell_type": "code",
      "source": [
        "import matplotlib.pyplot as plt\n",
        "dp_hist, dp_bins = hist_data\n",
        "# Create a bar plot using Matplotlib\n",
        "plt.bar(dp_bins[:-1], dp_hist, width=np.diff(dp_bins)*0.8, align='edge')\n",
        "\n",
        "# Display the plot\n",
        "plt.show()"
      ],
      "metadata": {
        "colab": {
          "base_uri": "https://localhost:8080/",
          "height": 430
        },
        "id": "OcJFiyeC3s0s",
        "outputId": "bef42d9d-c0f0-4b42-8fc0-19e7872fe983"
      },
      "execution_count": 15,
      "outputs": [
        {
          "output_type": "display_data",
          "data": {
            "text/plain": [
              "<Figure size 640x480 with 1 Axes>"
            ],
            "image/png": "[encoded data removed]"
          },
          "metadata": {}
        }
      ]
    },
    {
      "cell_type": "markdown",
      "source": [
        "### Splitting the Data"
      ],
      "metadata": {
        "id": "kWcw1EtU5gxq"
      }
    },
    {
      "cell_type": "markdown",
      "source": [
        "You can use `op_pandas.train_test_split` to split the data into `training` and `testing` parts randomly to train any of the models provided in `op_diffprivlib`.\n",
        "\n",
        "Here is an example on how to remove some columns from the data, and split the rest into `training` and `testing` parts."
      ],
      "metadata": {
        "id": "jS5oSDIM5kPx"
      }
    },
    {
      "cell_type": "code",
      "source": [
        "%%ag\n",
        "# removing 'ls_num_dec_poor_health' and 'ls_num_dec_death' from the joined dataset.\n",
        "\n",
        "joined_data.drop(['ls_num_dec_poor_health', 'ls_num_dec_death'])\n",
        "\n",
        "train_data, test_data = op_pandas.train_test_split(joined_data)\n",
        "\n",
        "ag_print(\"Train Data Description: \\n\", train_data.describe(eps = 1))\n",
        "ag_print(\"Test Data Description: \\n\", test_data.describe(eps = 1))"
      ],
      "metadata": {
        "colab": {
          "base_uri": "https://localhost:8080/"
        },
        "id": "2ISgTHnt5juU",
        "outputId": "f4894262-1ea2-470d-b1f0-95ebae315305"
      },
      "execution_count": 16,
      "outputs": [
        {
          "output_type": "stream",
          "name": "stdout",
          "text": [
            "Train Data Description: \n",
            "             objectid       ls_main  ...  ls_salesdif_ref  ls_salesprice\n",
            "count   71419.000000  71419.000000  ...     71419.000000   71419.000000\n",
            "mean    88869.949408      1.000000  ...         0.000890       6.326971\n",
            "std     72794.745747     94.557145  ...         0.173016      28.723785\n",
            "min      4304.725306      1.315445  ...         0.000000       1.727385\n",
            "25%     26193.696083      1.746106  ...         0.029735       1.202585\n",
            "50%     57818.152632      2.925408  ...         0.017631       2.884223\n",
            "75%    147928.121780    190.445357  ...         0.006801     614.271848\n",
            "max    237536.609733    665.827401  ...         0.046305     835.511705\n",
            "\n",
            "[8 rows x 55 columns]\n",
            "\n",
            "Test Data Description: \n",
            "             objectid       ls_main  ...  ls_salesdif_ref  ls_salesprice\n",
            "count   23368.000000  23368.000000  ...     23368.000000   23368.000000\n",
            "mean    74278.048126      7.665492  ...         0.002581       1.000000\n",
            "std     61174.333564    170.899136  ...         0.097143     205.516556\n",
            "min      6885.908634      1.927710  ...         0.000000       1.405800\n",
            "25%     32582.909270      1.243588  ...         0.001206     772.478878\n",
            "50%     56618.959493     40.876173  ...         0.038857     900.699784\n",
            "75%    211956.500448    678.252814  ...         0.491702     846.147577\n",
            "max    227729.000065    667.959652  ...         0.381596     904.229663\n",
            "\n",
            "[8 rows x 55 columns]\n",
            "\n"
          ]
        }
      ]
    },
    {
      "cell_type": "markdown",
      "source": [
        "Now you can train any model from `op_diffprivlib`."
      ],
      "metadata": {
        "id": "vEfy_8HW6xED"
      }
    },
    {
      "cell_type": "markdown",
      "source": [
        "Now that we are all done, we can terminate the session. Happy coding! 😎"
      ],
      "metadata": {
        "id": "rE3cXOqe62_9"
      }
    },
    {
      "cell_type": "code",
      "source": [
        "session.terminate_session()"
      ],
      "metadata": {
        "colab": {
          "base_uri": "https://localhost:8080/"
        },
        "id": "8XcTIopC62OK",
        "outputId": "8cf71611-5dee-470e-b216-8a6d2a3738d4"
      },
      "execution_count": 17,
      "outputs": [
        {
          "output_type": "execute_result",
          "data": {
            "text/plain": [
              "{'status': 'ok'}"
            ]
          },
          "metadata": {},
          "execution_count": 17
        }
      ]
    }
  ]
}