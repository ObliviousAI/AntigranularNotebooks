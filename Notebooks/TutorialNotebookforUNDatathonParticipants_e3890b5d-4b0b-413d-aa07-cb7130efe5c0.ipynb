{
  "cells": [
    {
      "cell_type": "markdown",
      "metadata": {
        "id": "GMqttQJfhEKp"
      },
      "source": [
        "# Tutorial Notebook for UN Datathon Participants 🌐 🔐\n"
      ]
    },
    {
      "cell_type": "markdown",
      "metadata": {
        "id": "-DupuT9khO2U"
      },
      "source": [
        "This notebook is designed to acquaint participants of the UN datathon with antigranular, which is your private data exploration toolkit, and showcase its main functions!\n",
        "\n",
        "## What is Antigranular?\n",
        "\n",
        "With Antigranular, you can use Python to securely explore and gain insights from your data without ever seeing sensitive information. 🕵️‍♂️🔐\n",
        "\n",
        "Antigranular leverages AWS enclaves, which are isolated and protected environments that run on the cloud. AWS enclaves ensure that your data and code are safe from unauthorised access, even from AWS itself. 🛡️☁️\n",
        "\n",
        "Antigranular also integrates with powerful differential privacy libraries, such as OpenDP, SmartNoise, and DiffPrivLib. Differential privacy is a technique that adds controlled noise to your data analysis, preserving the privacy of individual records while still allowing you to draw meaningful conclusions. 📊🔇\n",
        "\n",
        "With Antigranular, you can work with private sensitive datasets conveniently, knowing that your data analysis remains confidential and insightful! 😊👍"
      ]
    },
    {
      "cell_type": "markdown",
      "metadata": {
        "id": "b71hIT3bklaF"
      },
      "source": [
        "## How to Use antigranular?\n"
      ]
    },
    {
      "cell_type": "markdown",
      "metadata": {
        "id": "hW6Y2fM9krFT"
      },
      "source": [
        "### Install the Package 📦\n",
        "\n",
        "First, we need to add antigranular to our local jupyter kernel. You can do this by installing it directly from PyPI, which is like an app store but for python packages!\n"
      ]
    },
    {
      "cell_type": "code",
      "execution_count": null,
      "metadata": {
        "colab": {
          "base_uri": "https://localhost:8080/"
        },
        "id": "QGGSakHuSUVi",
        "outputId": "ee757517-e2b4-4de8-d49a-15db627c379e"
      },
      "outputs": [],
      "source": [
        "!pip install antigranular"
      ]
    },
    {
      "cell_type": "markdown",
      "metadata": {
        "id": "mbrRvP3CkwgB"
      },
      "source": [
        "### Using Antigranular for Secure Computations 🔐\n",
        "\n",
        "Now that you're connected, your ag.login initiates a secure session with Antigranular where we can work with our data confidentially.\n",
        "\n",
        "See the the %%ag at the beginning of a cell? It indicates that the code within this cell will be executed securely on the Antigranular platform, ensuring the confidentiality of our computations. Like magic! 😍"
      ]
    },
    {
      "cell_type": "code",
      "execution_count": 4,
      "metadata": {
        "colab": {
          "base_uri": "https://localhost:8080/"
        },
        "id": "KC-Nkg3YR96J",
        "outputId": "fe648a68-7e1f-45fb-9077-f202f229c21c"
      },
      "outputs": [
        {
          "name": "stdout",
          "output_type": "stream",
          "text": [
            "Connected to Antigranular server session id: e3890b5d-4b0b-413d-aa07-cb7130efe5c0, the session will time out if idle for 60 minutes\n",
            "Cell magic '%%ag' registered successfully, use `%%ag` in a notebook cell to execute your python code on Antigranular private python server\n",
            "🚀 Everything's set up and ready to roll!\n"
          ]
        }
      ],
      "source": [
        "import antigranular as ag\n",
        "session = ag.login(<client_id>,<client_secret>, competition = \"UN Datathon PETs Track\")"
      ]
    },
    {
      "cell_type": "markdown",
      "metadata": {
        "id": "cHD3_C7Ek-3t"
      },
      "source": [
        "🔑 Note: Replace `<client_id>`, `<client_secret>`, with actual values that you will get from antigranular.com to get connected.\n",
        "\n",
        "🔐 Ensure to substitute `<client_id>` and `<client_secret>` with your respective Antigranular credentials."
      ]
    },
    {
      "cell_type": "markdown",
      "metadata": {
        "id": "neszBDs5lJuM"
      },
      "source": [
        "## Loading the Data 🚀"
      ]
    },
    {
      "cell_type": "markdown",
      "metadata": {
        "id": "z3rTabRZlMzo"
      },
      "source": [
        "For this datathon, we possess an extensive private dataset, which we have divided into 19 separate smaller datasets. This division allows for each dataset to be loaded individually, promoting swifter execution times, so there's nothing holding you back. 💥\n",
        "\n",
        "The [op_pandas](https://docs.antigranular.com/private-python/packages/pandas) library includes functionality for merging and joining two datasets, enabling the combination of multiple datasets.\n",
        "\n",
        "You can load two datasets by using `load_dataset` functionality, which returns an `op_pandas.PrivateDataFrame` object."
      ]
    },
    {
      "cell_type": "code",
      "execution_count": 5,
      "metadata": {
        "colab": {
          "base_uri": "https://localhost:8080/"
        },
        "id": "2RX9xg8lSWaO",
        "outputId": "4b8fdb69-d482-4a3e-8a38-5846253c2056"
      },
      "outputs": [
        {
          "name": "stdout",
          "output_type": "stream",
          "text": [
            "Dataset \"undata_ls\" loaded to the kernel as \u001b[92mundata_ls\u001b[0m\n",
            "\n",
            "Dataset \"undata_ls_dif\" loaded to the kernel as \u001b[92mundata_ls_dif\u001b[0m\n",
            "\n"
          ]
        }
      ],
      "source": [
        "%%ag\n",
        "undata_ls = load_dataset(\"undata_ls\")\n",
        "undata_ls_dif = load_dataset(\"undata_ls_dif\")"
      ]
    },
    {
      "cell_type": "markdown",
      "metadata": {
        "id": "zhPdhNxDmQqQ"
      },
      "source": [
        "## Checking the Privacy Budget 🤑\n",
        "\n",
        "Privacy-preserving algorithms used by libraries often consume a \"privacy budget\" to ensure that data privacy is maintained. Here's how you can check your spending:"
      ]
    },
    {
      "cell_type": "code",
      "execution_count": 6,
      "metadata": {
        "colab": {
          "base_uri": "https://localhost:8080/"
        },
        "id": "6jg76sb4dxcA",
        "outputId": "78fa8642-d9a8-4df3-dea5-8c78bf56625d"
      },
      "outputs": [
        {
          "data": {
            "text/plain": [
              "{'total_epsilon_used': 13.000099999999984,\n",
              " 'total_delta_used': 0.0,\n",
              " 'library_costs': {'op_pandas': {'total_delta': 0,\n",
              "   'total_epsilon': 13.000099999999984,\n",
              "   'total_requests': 20}},\n",
              " 'dataset_costs': {'undata_ls': {'delta': 0, 'eps': 7.00009999999999},\n",
              "  'undata_ls_dif': {'delta': 0, 'eps': 5.999999999999993}}}"
            ]
          },
          "execution_count": 6,
          "metadata": {},
          "output_type": "execute_result"
        }
      ],
      "source": [
        "session.privacy_odometer()"
      ]
    },
    {
      "cell_type": "markdown",
      "metadata": {
        "id": "Z3TNW3XsmQlX"
      },
      "source": [
        "## Viewing Data 🔍\n",
        "\n",
        "To protect privacy, records in PrivateDataFrame and PrivateSeries cannot be viewed directly. But that doesn't mean you can't see anything! 👀 You can still analyse and obtain statistical information about the data using methods that offer differential privacy guarantees."
      ]
    },
    {
      "cell_type": "markdown",
      "metadata": {
        "id": "asv3mcU0nIuT"
      },
      "source": [
        "\n",
        "### Viewing Details About the Data\n",
        "\n",
        "`ag_print` is a function packaged within Antigranular which can be used to print objects from the ag environment.\n",
        "\n",
        "Here's how you can print the details about the data, like `columns` and `metadata`:"
      ]
    },
    {
      "cell_type": "code",
      "execution_count": 7,
      "metadata": {
        "colab": {
          "base_uri": "https://localhost:8080/"
        },
        "id": "BcbiE3DjmUXo",
        "outputId": "851a66c2-7ff1-403c-d42d-fcd34bb73567"
      },
      "outputs": [
        {
          "name": "stdout",
          "output_type": "stream",
          "text": [
            "undata_ls Details: \n",
            "\n",
            "Columns: \n",
            " ['objectid', 'ls_main', 'ls_num_lastyr', 'ls_num_now', 'ls_num_diff', 'ls_num_increased', 'ls_num_decreased', 'ls_num_no_change', 'ls_num_inc_less_sales', 'ls_num_inc_more_birth', 'ls_num_inc_more_acquired', 'ls_num_inc_received_free', 'ls_num_dec_poor_health', 'ls_num_dec_death', 'ls_num_dec_sales_good_price', 'ls_num_dec_sales_distress', 'ls_num_dec_escape_stolen', 'ls_num_dec_consumed', 'ls_num_inc_dec_other', 'ls_num_inc_dec_dk', 'ls_num_inc_dec_ref', 'ls_feed_open_pasture', 'ls_feed_common_pasture', 'ls_feed_self_produced', 'ls_feed_purchased', 'ls_feed_free_dist', 'ls_feed_other', 'ls_feed_dk', 'ls_feed_ref']\n",
            "Metadata: \n",
            " {'objectid': (3496, 239871), 'ls_main': (1.0, 999.0), 'ls_num_lastyr': (0.0, 200000.0), 'ls_num_now': (0.0, 200000.0), 'ls_num_diff': (-99955.0, 18000.0), 'ls_num_increased': (0.0, 1.0), 'ls_num_decreased': (0.0, 1.0), 'ls_num_no_change': (0.0, 1.0), 'ls_num_inc_less_sales': (0.0, 1.0), 'ls_num_inc_more_birth': (0.0, 1.0), 'ls_num_inc_more_acquired': (0.0, 1.0), 'ls_num_inc_received_free': (0.0, 1.0), 'ls_num_dec_poor_health': (0.0, 1.0), 'ls_num_dec_death': (0.0, 1.0), 'ls_num_dec_sales_good_price': (0.0, 1.0), 'ls_num_dec_sales_distress': (0.0, 1.0), 'ls_num_dec_escape_stolen': (0.0, 1.0), 'ls_num_dec_consumed': (0.0, 1.0), 'ls_num_inc_dec_other': (0.0, 1.0), 'ls_num_inc_dec_dk': (0.0, 1.0), 'ls_num_inc_dec_ref': (0.0, 1.0), 'ls_feed_open_pasture': (0.0, 1.0), 'ls_feed_common_pasture': (0.0, 1.0), 'ls_feed_self_produced': (0.0, 1.0), 'ls_feed_purchased': (0.0, 1.0), 'ls_feed_free_dist': (0.0, 1.0), 'ls_feed_other': (0.0, 1.0), 'ls_feed_dk': (0.0, 1.0), 'ls_feed_ref': (0.0, 1.0)}\n",
            "Dtypes: \n",
            " objectid                         int64\n",
            "ls_main                        float64\n",
            "ls_num_lastyr                  float64\n",
            "ls_num_now                     float64\n",
            "ls_num_diff                    float64\n",
            "ls_num_increased               float64\n",
            "ls_num_decreased               float64\n",
            "ls_num_no_change               float64\n",
            "ls_num_inc_less_sales          float64\n",
            "ls_num_inc_more_birth          float64\n",
            "ls_num_inc_more_acquired       float64\n",
            "ls_num_inc_received_free       float64\n",
            "ls_num_dec_poor_health         float64\n",
            "ls_num_dec_death               float64\n",
            "ls_num_dec_sales_good_price    float64\n",
            "ls_num_dec_sales_distress      float64\n",
            "ls_num_dec_escape_stolen       float64\n",
            "ls_num_dec_consumed            float64\n",
            "ls_num_inc_dec_other           float64\n",
            "ls_num_inc_dec_dk              float64\n",
            "ls_num_inc_dec_ref             float64\n",
            "ls_feed_open_pasture           float64\n",
            "ls_feed_common_pasture         float64\n",
            "ls_feed_self_produced          float64\n",
            "ls_feed_purchased              float64\n",
            "ls_feed_free_dist              float64\n",
            "ls_feed_other                  float64\n",
            "ls_feed_dk                     float64\n",
            "ls_feed_ref                    float64\n",
            "dtype: object\n",
            "\n"
          ]
        }
      ],
      "source": [
        "%%ag\n",
        "\n",
        "ag_print(\"undata_ls Details: \\n\")\n",
        "ag_print(\"Columns: \\n\", undata_ls.columns)\n",
        "ag_print(\"Metadata: \\n\", undata_ls.metadata)\n",
        "ag_print(\"Dtypes: \\n\", undata_ls.dtypes)"
      ]
    },
    {
      "cell_type": "code",
      "execution_count": 8,
      "metadata": {
        "colab": {
          "base_uri": "https://localhost:8080/"
        },
        "id": "KMC6QWfDnVYN",
        "outputId": "b5b354ae-e3f0-444b-a759-a3505ab0d206"
      },
      "outputs": [
        {
          "name": "stdout",
          "output_type": "stream",
          "text": [
            "undata_ls_dif Details: \n",
            "\n",
            "Columns: \n",
            " ['objectid', 'ls_proddif', 'ls_proddif_feed_purchase', 'ls_proddif_access_pasture', 'ls_proddif_access_water', 'ls_proddif_vet_serv', 'ls_proddif_vet_input', 'ls_proddif_diseases', 'ls_proddif_theft', 'ls_proddif_access_market', 'ls_proddif_access_credit', 'ls_proddif_access_labour', 'ls_proddif_other', 'ls_proddif_dk', 'ls_proddif_ref', 'ls_salesmain', 'ls_salesdif', 'ls_salesdif_marketing_cost', 'ls_salesdif_damage_losses', 'ls_salesdif_low_demand', 'ls_salesdif_pay_delay', 'ls_salesdif_low_price', 'ls_salesdif_slaughterhouse', 'ls_salesdif_processing', 'ls_salesdif_competition', 'ls_salesdif_other', 'ls_salesdif_dk', 'ls_salesdif_ref', 'ls_salesprice']\n",
            "Metadata: \n",
            " {'objectid': (3496, 239871), 'ls_proddif': (0.0, 999.0), 'ls_proddif_feed_purchase': (0.0, 1.0), 'ls_proddif_access_pasture': (0.0, 1.0), 'ls_proddif_access_water': (0.0, 1.0), 'ls_proddif_vet_serv': (0.0, 1.0), 'ls_proddif_vet_input': (0.0, 1.0), 'ls_proddif_diseases': (0.0, 1.0), 'ls_proddif_theft': (0.0, 1.0), 'ls_proddif_access_market': (0.0, 1.0), 'ls_proddif_access_credit': (0.0, 1.0), 'ls_proddif_access_labour': (0.0, 1.0), 'ls_proddif_other': (0.0, 1.0), 'ls_proddif_dk': (0.0, 1.0), 'ls_proddif_ref': (0.0, 1.0), 'ls_salesmain': (1.0, 999.0), 'ls_salesdif': (0.0, 999.0), 'ls_salesdif_marketing_cost': (0.0, 1.0), 'ls_salesdif_damage_losses': (0.0, 1.0), 'ls_salesdif_low_demand': (0.0, 1.0), 'ls_salesdif_pay_delay': (0.0, 1.0), 'ls_salesdif_low_price': (0.0, 1.0), 'ls_salesdif_slaughterhouse': (0.0, 1.0), 'ls_salesdif_processing': (0.0, 1.0), 'ls_salesdif_competition': (0.0, 1.0), 'ls_salesdif_other': (0.0, 1.0), 'ls_salesdif_dk': (0.0, 1.0), 'ls_salesdif_ref': (0.0, 1.0), 'ls_salesprice': (1.0, 999.0)}\n",
            "Dtypes: \n",
            " objectid                        int64\n",
            "ls_proddif                    float64\n",
            "ls_proddif_feed_purchase      float64\n",
            "ls_proddif_access_pasture     float64\n",
            "ls_proddif_access_water       float64\n",
            "ls_proddif_vet_serv           float64\n",
            "ls_proddif_vet_input          float64\n",
            "ls_proddif_diseases           float64\n",
            "ls_proddif_theft              float64\n",
            "ls_proddif_access_market      float64\n",
            "ls_proddif_access_credit      float64\n",
            "ls_proddif_access_labour      float64\n",
            "ls_proddif_other              float64\n",
            "ls_proddif_dk                 float64\n",
            "ls_proddif_ref                float64\n",
            "ls_salesmain                  float64\n",
            "ls_salesdif                   float64\n",
            "ls_salesdif_marketing_cost    float64\n",
            "ls_salesdif_damage_losses     float64\n",
            "ls_salesdif_low_demand        float64\n",
            "ls_salesdif_pay_delay         float64\n",
            "ls_salesdif_low_price         float64\n",
            "ls_salesdif_slaughterhouse    float64\n",
            "ls_salesdif_processing        float64\n",
            "ls_salesdif_competition       float64\n",
            "ls_salesdif_other             float64\n",
            "ls_salesdif_dk                float64\n",
            "ls_salesdif_ref               float64\n",
            "ls_salesprice                 float64\n",
            "dtype: object\n",
            "\n"
          ]
        }
      ],
      "source": [
        "%%ag\n",
        "\n",
        "ag_print(\"undata_ls_dif Details: \\n\")\n",
        "ag_print(\"Columns: \\n\", undata_ls_dif.columns)\n",
        "ag_print(\"Metadata: \\n\", undata_ls_dif.metadata)\n",
        "ag_print(\"Dtypes: \\n\", undata_ls_dif.dtypes)"
      ]
    },
    {
      "cell_type": "markdown",
      "metadata": {
        "id": "IvvMos37pELE"
      },
      "source": [
        "`metadata` denotes the bounds of numerical data."
      ]
    },
    {
      "cell_type": "markdown",
      "metadata": {
        "id": "cFOSbDfUpM1z"
      },
      "source": [
        "### Quick Statistics 📊\n",
        "\n",
        "One way to obtain the quick-statistic is by using the `describe()` method. You can spend some epsilon and obtain a rough meta-data about the dataset to give you a quick overview.\n",
        "\n"
      ]
    },
    {
      "cell_type": "code",
      "execution_count": 9,
      "metadata": {
        "colab": {
          "base_uri": "https://localhost:8080/"
        },
        "id": "zmOjEmoGosIU",
        "outputId": "29f57a3f-e601-44a9-e111-b41d589da99f"
      },
      "outputs": [
        {
          "name": "stdout",
          "output_type": "stream",
          "text": [
            "undata_ls Describe:\n",
            "             objectid        ls_main  ...     ls_feed_dk    ls_feed_ref\n",
            "count  105851.000000  105851.000000  ...  105851.000000  105851.000000\n",
            "mean    92563.143386      12.217848  ...       0.000741       0.004680\n",
            "std     74418.552416      41.761065  ...       0.033732       0.061635\n",
            "min      3755.273505       1.245000  ...       0.000000       0.000000\n",
            "25%     30889.229585       1.981209  ...       0.001340       0.000064\n",
            "50%     61496.226676       2.432038  ...       0.000274       0.000420\n",
            "75%    146252.951592       3.802322  ...       0.005518       0.000007\n",
            "max    239673.092181     300.410041  ...       0.570977       0.897902\n",
            "\n",
            "[8 rows x 29 columns]\n",
            "\n",
            "undata_ls Describe:\n",
            "             objectid        ls_main  ...     ls_feed_dk    ls_feed_ref\n",
            "count  105851.000000  105851.000000  ...  105851.000000  105851.000000\n",
            "mean    92563.143386      12.217848  ...       0.000741       0.004680\n",
            "std     74418.552416      41.761065  ...       0.033732       0.061635\n",
            "min      3755.273505       1.245000  ...       0.000000       0.000000\n",
            "25%     30889.229585       1.981209  ...       0.001340       0.000064\n",
            "50%     61496.226676       2.432038  ...       0.000274       0.000420\n",
            "75%    146252.951592       3.802322  ...       0.005518       0.000007\n",
            "max    239673.092181     300.410041  ...       0.570977       0.897902\n",
            "\n",
            "[8 rows x 29 columns]\n",
            "\n"
          ]
        }
      ],
      "source": [
        "%%ag\n",
        "\n",
        "undata_ls_describe = undata_ls.describe(eps=1)\n",
        "ag_print(\"undata_ls Describe:\\n\", undata_ls_describe)\n",
        "\n",
        "undata_ls_dif_describe = undata_ls_dif.describe(eps=1)\n",
        "ag_print(\"undata_ls Describe:\\n\", undata_ls_describe)"
      ]
    },
    {
      "cell_type": "markdown",
      "metadata": {
        "id": "kOO0C2-LqXF0"
      },
      "source": [
        "You can view the statistics by exporting the non-private result to the local Jupyter server using the `export` method:"
      ]
    },
    {
      "cell_type": "code",
      "execution_count": 10,
      "metadata": {
        "colab": {
          "base_uri": "https://localhost:8080/"
        },
        "id": "TXKengzTpYu-",
        "outputId": "ecf4eef9-6ae8-4dbe-f22c-3b27452d5722"
      },
      "outputs": [
        {
          "name": "stdout",
          "output_type": "stream",
          "text": [
            "Setting up exported variable in local environment: undata_ls_describe\n"
          ]
        }
      ],
      "source": [
        "%%ag\n",
        "\n",
        "export(undata_ls_describe, name='undata_ls_describe')"
      ]
    },
    {
      "cell_type": "markdown",
      "metadata": {
        "id": "CU6MJ1TQqi4M"
      },
      "source": [
        "Now, we can access undata_ls_describe in our local jupyter environment."
      ]
    },
    {
      "cell_type": "code",
      "execution_count": 11,
      "metadata": {
        "colab": {
          "base_uri": "https://localhost:8080/"
        },
        "id": "k8EJcq-uqfpJ",
        "outputId": "8fec0f8e-bb8b-4069-818d-1b8b7d48f968"
      },
      "outputs": [
        {
          "name": "stdout",
          "output_type": "stream",
          "text": [
            "            objectid        ls_main  ls_num_lastyr     ls_num_now  \\\n",
            "count  105851.000000  105851.000000  105851.000000  105851.000000   \n",
            "mean    92563.143386      12.217848      70.262404       0.000000   \n",
            "std     74418.552416      41.761065   14479.746286    6719.282786   \n",
            "min      3755.273505       1.245000       0.751785       0.807357   \n",
            "25%     30889.229585       1.981209       3.472082       2.501324   \n",
            "50%     61496.226676       2.432038       8.034055       5.786683   \n",
            "75%    146252.951592       3.802322      22.621941      13.675972   \n",
            "max    239673.092181     300.410041  129833.923845   33217.916370   \n",
            "\n",
            "         ls_num_diff  ls_num_increased  ls_num_decreased  ls_num_no_change  \\\n",
            "count  105851.000000     105851.000000     105851.000000     105851.000000   \n",
            "mean      410.417330          0.255759          0.606697          0.143253   \n",
            "std     10485.700024          0.444531          0.494017          0.361893   \n",
            "min      -412.660360          0.000000          0.000000          0.000000   \n",
            "25%        -7.898013          0.006330          0.001787          0.028953   \n",
            "50%        -1.156992          0.029507          0.999809          0.021292   \n",
            "75%         0.342403          0.681395          0.999077          0.001985   \n",
            "max      4276.207765          0.969855          0.999002          0.994661   \n",
            "\n",
            "       ls_num_inc_less_sales  ls_num_inc_more_birth  ...  ls_num_inc_dec_dk  \\\n",
            "count          105851.000000          105851.000000  ...      105851.000000   \n",
            "mean                0.061008               0.209944  ...           0.005195   \n",
            "std                 0.241354               0.411306  ...           0.039952   \n",
            "min                 0.000000               0.000000  ...           0.000000   \n",
            "25%                 0.000916               0.004194  ...           0.001785   \n",
            "50%                 0.011584               0.002397  ...           0.011420   \n",
            "75%                 0.007628               0.047362  ...           0.006202   \n",
            "max                 0.994026               0.999035  ...           0.633499   \n",
            "\n",
            "       ls_num_inc_dec_ref  ls_feed_open_pasture  ls_feed_common_pasture  \\\n",
            "count       105851.000000         105851.000000           105851.000000   \n",
            "mean             0.000000              0.574961                0.149841   \n",
            "std              0.015775              0.495336                0.331911   \n",
            "min              0.000000              0.000000                0.000000   \n",
            "25%              0.003815              0.014519                0.003376   \n",
            "50%              0.000294              0.999188                0.020286   \n",
            "75%              0.000302              0.941289                0.045253   \n",
            "max              0.524393              0.997321                0.974020   \n",
            "\n",
            "       ls_feed_self_produced  ls_feed_purchased  ls_feed_free_dist  \\\n",
            "count          105851.000000      105851.000000      105851.000000   \n",
            "mean                0.244236           0.458878           0.020485   \n",
            "std                 0.424521           0.492789           0.150039   \n",
            "min                 0.000000           0.000000           0.000000   \n",
            "25%                 0.000428           0.005007           0.001303   \n",
            "50%                 0.053771           0.069215           0.008437   \n",
            "75%                 0.388528           0.946117           0.000003   \n",
            "max                 0.996496           0.994030           0.968331   \n",
            "\n",
            "       ls_feed_other     ls_feed_dk    ls_feed_ref  \n",
            "count  105851.000000  105851.000000  105851.000000  \n",
            "mean        0.026026       0.000741       0.004680  \n",
            "std         0.156936       0.033732       0.061635  \n",
            "min         0.000000       0.000000       0.000000  \n",
            "25%         0.001261       0.001340       0.000064  \n",
            "50%         0.000102       0.000274       0.000420  \n",
            "75%         0.004546       0.005518       0.000007  \n",
            "max         0.857733       0.570977       0.897902  \n",
            "\n",
            "[8 rows x 29 columns]\n"
          ]
        }
      ],
      "source": [
        "print(undata_ls_describe)"
      ]
    },
    {
      "cell_type": "markdown",
      "metadata": {
        "id": "8gLBizoP0mP6"
      },
      "source": [
        "## Data Preprocessing 🌐"
      ]
    },
    {
      "cell_type": "markdown",
      "metadata": {
        "id": "aMHgNXSb0cv4"
      },
      "source": [
        "### Importing External Data\n",
        "\n",
        "Guess what? You can also import any external data, merge it with the data provided to get some inferences.\n",
        "\n",
        "Here is an example on how to do that:"
      ]
    },
    {
      "cell_type": "code",
      "execution_count": 12,
      "metadata": {
        "colab": {
          "base_uri": "https://localhost:8080/"
        },
        "id": "gu-dHZ7i00Wn",
        "outputId": "ff4a1020-661d-43ac-d42c-884c54d4c64d"
      },
      "outputs": [
        {
          "name": "stdout",
          "output_type": "stream",
          "text": [
            "dataframe cached to server, loading to kernel...\n",
            "Dataframe loaded successfully to the kernel\n",
            "\n"
          ]
        }
      ],
      "source": [
        "'''\n",
        "Creating mock data\n",
        "\n",
        "Mock data will just be 100 rows of age and salary information\n",
        "'''\n",
        "\n",
        "import pandas as pd\n",
        "import numpy as np\n",
        "\n",
        "n_num = 100\n",
        "df = pd.DataFrame({'age': np.random.randint(0, 80, n_num), 'salary': np.random.randint(100, 100000, n_num)})\n",
        "session.private_import(data = df, name= 'imported_df')"
      ]
    },
    {
      "cell_type": "code",
      "execution_count": 13,
      "metadata": {
        "id": "7igAIzHR2e6K"
      },
      "outputs": [],
      "source": [
        "%%ag\n",
        "# Creating a PrivateDataFrame out of the DataFrame imported.\n",
        "import op_pandas\n",
        "\n",
        "metadata = {\n",
        "    'age': (0, 80),\n",
        "    'salary': (1, 200000)\n",
        "}\n",
        "\n",
        "priv_df = op_pandas.PrivateDataFrame(imported_df ,metadata = metadata)"
      ]
    },
    {
      "cell_type": "code",
      "execution_count": 14,
      "metadata": {
        "colab": {
          "base_uri": "https://localhost:8080/"
        },
        "id": "ZIZuXyTb2uNY",
        "outputId": "ef35c93a-475a-4f2d-f722-b939e2df5fad"
      },
      "outputs": [
        {
          "name": "stdout",
          "output_type": "stream",
          "text": [
            "Private DataFrame Describe:\n",
            "               age         salary\n",
            "count  111.000000     111.000000\n",
            "mean    56.551771   31638.577272\n",
            "std     19.796483   48840.041708\n",
            "min      0.000000   20486.014842\n",
            "25%     43.758095   20077.071125\n",
            "50%     69.462639   53808.131381\n",
            "75%     71.429344   85748.972988\n",
            "max     72.660528  119740.808988\n",
            "\n"
          ]
        }
      ],
      "source": [
        "%%ag\n",
        "\n",
        "ag_print(\"Private DataFrame Describe:\\n\", priv_df.describe(eps=1))"
      ]
    },
    {
      "cell_type": "markdown",
      "metadata": {
        "id": "DMT3VosT3BLx"
      },
      "source": [
        "Now that `priv_df` is within the ag environment, you can do any operation with the original data and extract inferences."
      ]
    },
    {
      "cell_type": "markdown",
      "metadata": {
        "id": "VD_0DvZRtb6n"
      },
      "source": [
        "### Combining Datasets: `undata_ls` and `undata_ls_dif`\n",
        "\n",
        "To facilitate certain analyses and visualisations, it might be useful to combine our two datasets (`undata_ls` and `undata_ls_dif`) into a single dataset.\n",
        "\n",
        "This can allow us to explore relationships between features more efficiently. 🤝🏼"
      ]
    },
    {
      "cell_type": "code",
      "execution_count": 15,
      "metadata": {
        "colab": {
          "base_uri": "https://localhost:8080/"
        },
        "id": "UbghmwQ6sMkb",
        "outputId": "ab276770-82a9-4a5e-e639-6e0bef46688a"
      },
      "outputs": [
        {
          "name": "stdout",
          "output_type": "stream",
          "text": [
            "Joined Data Columns: \n",
            " ['objectid', 'ls_main', 'ls_num_lastyr', 'ls_num_now', 'ls_num_diff', 'ls_num_increased', 'ls_num_decreased', 'ls_num_no_change', 'ls_num_inc_less_sales', 'ls_num_inc_more_birth', 'ls_num_inc_more_acquired', 'ls_num_inc_received_free', 'ls_num_dec_poor_health', 'ls_num_dec_death', 'ls_num_dec_sales_good_price', 'ls_num_dec_sales_distress', 'ls_num_dec_escape_stolen', 'ls_num_dec_consumed', 'ls_num_inc_dec_other', 'ls_num_inc_dec_dk', 'ls_num_inc_dec_ref', 'ls_feed_open_pasture', 'ls_feed_common_pasture', 'ls_feed_self_produced', 'ls_feed_purchased', 'ls_feed_free_dist', 'ls_feed_other', 'ls_feed_dk', 'ls_feed_ref', 'ls_proddif', 'ls_proddif_feed_purchase', 'ls_proddif_access_pasture', 'ls_proddif_access_water', 'ls_proddif_vet_serv', 'ls_proddif_vet_input', 'ls_proddif_diseases', 'ls_proddif_theft', 'ls_proddif_access_market', 'ls_proddif_access_credit', 'ls_proddif_access_labour', 'ls_proddif_other', 'ls_proddif_dk', 'ls_proddif_ref', 'ls_salesmain', 'ls_salesdif', 'ls_salesdif_marketing_cost', 'ls_salesdif_damage_losses', 'ls_salesdif_low_demand', 'ls_salesdif_pay_delay', 'ls_salesdif_low_price', 'ls_salesdif_slaughterhouse', 'ls_salesdif_processing', 'ls_salesdif_competition', 'ls_salesdif_other', 'ls_salesdif_dk', 'ls_salesdif_ref', 'ls_salesprice']\n",
            "\n"
          ]
        }
      ],
      "source": [
        "%%ag\n",
        "\n",
        "import op_pandas\n",
        "\n",
        "joined_data = op_pandas.merge(undata_ls, undata_ls_dif, on=\"objectid\")\n",
        "\n",
        "ag_print(\"Joined Data Columns: \\n\", joined_data.columns)"
      ]
    },
    {
      "cell_type": "markdown",
      "metadata": {
        "id": "q3t3tK8RwUxz"
      },
      "source": [
        "Using `merge` method, we merge the two PrivateDataFrames."
      ]
    },
    {
      "cell_type": "markdown",
      "metadata": {
        "id": "sFMkh13ptYkm"
      },
      "source": [
        "## Data Visualisation 🤩\n",
        "\n",
        "The next function in your arsenal is data visualisation. This is a pivotal step in exploratory data analysis. By visualising our data, we can observe patterns, anomalies, and relationships between variables that might not be apparent from the raw data alone.\n"
      ]
    },
    {
      "cell_type": "markdown",
      "metadata": {
        "id": "WH9aOQEfzvgw"
      },
      "source": [
        "### Exploring the Data Using `histograms`"
      ]
    },
    {
      "cell_type": "markdown",
      "metadata": {
        "id": "9uJOxHtFzz0e"
      },
      "source": [
        "We can visualise different columns using differentially private `histograms`."
      ]
    },
    {
      "cell_type": "code",
      "execution_count": 16,
      "metadata": {
        "colab": {
          "base_uri": "https://localhost:8080/"
        },
        "id": "CssP7oOvzzUq",
        "outputId": "6d25a5fe-dbd0-405b-833d-ca28a52cada0"
      },
      "outputs": [
        {
          "name": "stdout",
          "output_type": "stream",
          "text": [
            "Setting up exported variable in local environment: hist_data\n"
          ]
        }
      ],
      "source": [
        "%%ag\n",
        "\n",
        "hist_data = joined_data.hist(column='ls_salesprice',eps=1)\n",
        "export(hist_data , 'hist_data')"
      ]
    },
    {
      "cell_type": "markdown",
      "metadata": {
        "id": "W7QA6iTT3uk_"
      },
      "source": [
        "To visualise the histogram locally, you can use matplotlib or any other plotting library of your choice."
      ]
    },
    {
      "cell_type": "code",
      "execution_count": 17,
      "metadata": {
        "colab": {
          "base_uri": "https://localhost:8080/",
          "height": 430
        },
        "id": "OcJFiyeC3s0s",
        "outputId": "e1318f0c-5d9d-4d84-e620-2b4512020215"
      },
      "outputs": [
        {
          "data": {
            "image/png": "[encoded data removed]",
            "text/plain": [
              "<Figure size 640x480 with 1 Axes>"
            ]
          },
          "metadata": {},
          "output_type": "display_data"
        }
      ],
      "source": [
        "import matplotlib.pyplot as plt\n",
        "dp_hist, dp_bins = hist_data\n",
        "# Create a bar plot using Matplotlib\n",
        "plt.bar(dp_bins[:-1], dp_hist, width=np.diff(dp_bins)*0.8, align='edge')\n",
        "\n",
        "# Display the plot\n",
        "plt.show()"
      ]
    },
    {
      "cell_type": "markdown",
      "metadata": {
        "id": "kWcw1EtU5gxq"
      },
      "source": [
        "### Splitting the Data"
      ]
    },
    {
      "cell_type": "markdown",
      "metadata": {
        "id": "jS5oSDIM5kPx"
      },
      "source": [
        "You can use `op_pandas.train_test_split` to split the data into `training` and `testing` parts randomly to train any of the models provided in `op_diffprivlib`.\n",
        "\n",
        "Here is an example on how to remove some columns from the data, and split the rest into `training` and `testing` parts."
      ]
    },
    {
      "cell_type": "code",
      "execution_count": 18,
      "metadata": {
        "colab": {
          "base_uri": "https://localhost:8080/"
        },
        "id": "2ISgTHnt5juU",
        "outputId": "7959a117-2288-48cf-857d-a3a413289059"
      },
      "outputs": [
        {
          "name": "stdout",
          "output_type": "stream",
          "text": [
            "Train Data Description: \n",
            "             objectid       ls_main  ...  ls_salesdif_ref  ls_salesprice\n",
            "count   72352.000000  72352.000000  ...     72352.000000   72352.000000\n",
            "mean    87988.876779      4.655657  ...         0.003786       9.027744\n",
            "std     79531.722756     93.544084  ...         0.075379      58.820844\n",
            "min      3618.278977      1.855115  ...         0.000000       1.660363\n",
            "25%     26907.830870      1.129515  ...         0.026976       1.866601\n",
            "50%     57571.192170      2.692742  ...         0.043226     864.055666\n",
            "75%    148222.883276      4.351777  ...         0.365840     846.517427\n",
            "max    237128.233742    432.368765  ...         0.905166     902.662656\n",
            "\n",
            "[8 rows x 55 columns]\n",
            "\n",
            "Test Data Description: \n",
            "             objectid       ls_main  ...  ls_salesdif_ref  ls_salesprice\n",
            "count   23657.000000  23657.000000  ...     23657.000000   23657.000000\n",
            "mean    81684.521851      1.000000  ...         0.001300       1.000000\n",
            "std     88998.616803     26.170856  ...         0.198714     137.371475\n",
            "min      3925.990094      2.213064  ...         0.000000       2.634524\n",
            "25%     26352.793175      1.139979  ...         0.883060     903.571233\n",
            "50%     45684.357592    781.864088  ...         0.056807     248.822705\n",
            "75%    134186.346326    163.296871  ...         0.088480     333.219711\n",
            "max    222765.930888    458.876963  ...         0.958523     409.722189\n",
            "\n",
            "[8 rows x 55 columns]\n",
            "\n"
          ]
        }
      ],
      "source": [
        "%%ag\n",
        "# removing 'ls_num_dec_poor_health' and 'ls_num_dec_death' from the joined dataset.\n",
        "\n",
        "joined_data.drop(['ls_num_dec_poor_health', 'ls_num_dec_death'])\n",
        "\n",
        "train_data, test_data = op_pandas.train_test_split(joined_data)\n",
        "\n",
        "ag_print(\"Train Data Description: \\n\", train_data.describe(eps = 1))\n",
        "ag_print(\"Test Data Description: \\n\", test_data.describe(eps = 1))"
      ]
    },
    {
      "cell_type": "markdown",
      "metadata": {
        "id": "vEfy_8HW6xED"
      },
      "source": [
        "Now you can train any model from `op_diffprivlib`."
      ]
    },
    {
      "cell_type": "markdown",
      "metadata": {
        "id": "rE3cXOqe62_9"
      },
      "source": [
        "Now that we are all done, we can terminate the session. Happy coding! 😎"
      ]
    },
    {
      "cell_type": "code",
      "execution_count": 19,
      "metadata": {
        "colab": {
          "base_uri": "https://localhost:8080/"
        },
        "id": "8XcTIopC62OK",
        "outputId": "85dd387b-31ce-4947-a775-a95dd6bd86b6"
      },
      "outputs": [
        {
          "data": {
            "text/plain": [
              "{'status': 'ok'}"
            ]
          },
          "execution_count": 19,
          "metadata": {},
          "output_type": "execute_result"
        }
      ],
      "source": [
        "session.terminate_session()"
      ]
    }
  ],
  "metadata": {
    "colab": {
      "provenance": []
    },
    "kernelspec": {
      "display_name": "Python 3",
      "name": "python3"
    },
    "language_info": {
      "name": "python"
    }
  },
  "nbformat": 4,
  "nbformat_minor": 0
}
