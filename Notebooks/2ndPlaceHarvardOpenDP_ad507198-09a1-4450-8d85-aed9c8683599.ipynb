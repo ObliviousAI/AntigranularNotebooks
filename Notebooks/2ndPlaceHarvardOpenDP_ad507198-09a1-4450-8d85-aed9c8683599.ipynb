{
  "nbformat": 4,
  "nbformat_minor": 0,
  "metadata": {
    "colab": {
      "provenance": [],
      "toc_visible": true,
      "machine_shape": "hm"
    },
    "kernelspec": {
      "name": "python3",
      "display_name": "Python 3"
    },
    "language_info": {
      "name": "python"
    }
  },
  "cells": [
    {
      "cell_type": "code",
      "source": [
        "import antigranular as ag\n",
        "session = ag.login(\"\", \"\", competition = \"Harvard OpenDP Hackathon\")"
      ],
      "metadata": {
        "colab": {
          "base_uri": "https://localhost:8080/",
          "height": 139
        },
        "id": "N7n3tK_pc7Cc",
        "outputId": "947fd683-0193-400a-915f-48bc28370a40"
      },
      "execution_count": null,
      "outputs": [
        {
          "output_type": "display_data",
          "data": {
            "text/plain": [
              "<IPython.core.display.HTML object>"
            ],
            "text/html": []
          },
          "metadata": {}
        },
        {
          "output_type": "stream",
          "name": "stdout",
          "text": [
            "Dataset \"Flight Company Dataset\" loaded to the kernel as \u001b[92mflight_company_dataset\u001b[0m\n",
            "\n",
            "Dataset \"Health Organisation Dataset\" loaded to the kernel as \u001b[92mhealth_organisation_dataset\u001b[0m\n",
            "\n",
            "Connected to Antigranular server session id: ad507198-09a1-4450-8d85-aed9c8683599, the session will time out if idle for 25 minutes\n",
            "Cell magic '%%ag' registered successfully, use `%%ag` in a notebook cell to execute your python code on Antigranular private python server\n",
            "🚀 Everything's set up and ready to roll!\n"
          ]
        }
      ]
    },
    {
      "cell_type": "code",
      "source": [
        "%%ag\n",
        "health = health_organisation_dataset.copy()\n",
        "flight = flight_company_dataset.copy()\n",
        "# Lets remove those passenger records who tested negative.\n",
        "health['covidtest_result'] = health['covidtest_result'].where(health['covidtest_result'] == 'positive')\n",
        "health = health.dropna()"
      ],
      "metadata": {
        "id": "Hw3EwcGtc8BR"
      },
      "execution_count": null,
      "outputs": []
    },
    {
      "cell_type": "code",
      "source": [
        "%%ag\n",
        "ag_print(health.dtypes)"
      ],
      "metadata": {
        "colab": {
          "base_uri": "https://localhost:8080/"
        },
        "id": "4PK7COQniYM6",
        "outputId": "79e630b1-5433-4720-cdd9-043a82e8549c"
      },
      "execution_count": null,
      "outputs": [
        {
          "output_type": "stream",
          "name": "stdout",
          "text": [
            "patient_firstname        object\n",
            "patient_lastname         object\n",
            "patient_date_of_birth    object\n",
            "patient_phone_number     object\n",
            "patient_email_address    object\n",
            "covidtest_date           object\n",
            "covidtest_result         object\n",
            "patient_address          object\n",
            "dtype: object\n",
            "\n"
          ]
        }
      ]
    },
    {
      "cell_type": "code",
      "source": [
        "%%ag\n",
        "ag_print(flight.dtypes)"
      ],
      "metadata": {
        "colab": {
          "base_uri": "https://localhost:8080/"
        },
        "id": "-kJHE8dyW7Hi",
        "outputId": "0382e08f-2064-4c4c-8deb-af873e2e4b2f"
      },
      "execution_count": null,
      "outputs": [
        {
          "output_type": "stream",
          "name": "stdout",
          "text": [
            "index                       int64\n",
            "flight_number              object\n",
            "flight_date                object\n",
            "flight_from                object\n",
            "flight_to                  object\n",
            "passenger_firstname        object\n",
            "passenger_lastname         object\n",
            "passenger_date_of_birth    object\n",
            "passenger_phone_number     object\n",
            "passenger_email_address    object\n",
            "dtype: object\n",
            "\n"
          ]
        }
      ]
    },
    {
      "cell_type": "code",
      "source": [
        "%%ag\n",
        "import re\n",
        "#import pandas as pd\n",
        "from op_pandas import PrivateDataFrame\n",
        "\n",
        "\n",
        "def extract_month(date_str:str)->str:\n",
        "    month_conversion = {\n",
        "        \"jan\": \"01\", \"january\": \"01\",\n",
        "        \"feb\": \"02\", \"february\": \"02\",\n",
        "        \"mar\": \"03\", \"march\": \"03\",\n",
        "        \"apr\": \"04\", \"april\": \"04\",\n",
        "        \"may\": \"05\",\n",
        "        \"jun\": \"06\", \"june\": \"06\",\n",
        "        \"jul\": \"07\", \"july\": \"07\",\n",
        "        \"aug\": \"08\", \"august\": \"08\",\n",
        "        \"sep\": \"09\", \"september\": \"09\",\n",
        "        \"oct\": \"10\", \"october\": \"10\",\n",
        "        \"nov\": \"11\", \"november\": \"11\",\n",
        "        \"dec\": \"12\", \"december\": \"12\"\n",
        "    }\n",
        "    month_conversion.update({k.capitalize(): v for k, v in month_conversion.items()})\n",
        "    # First, try to find a month name or abbreviation\n",
        "    for month_name, month_number in month_conversion.items():\n",
        "        if month_name in date_str:\n",
        "            return month_number\n",
        "\n",
        "    # If no month name is found, try to extract numeric month format\n",
        "    numeric_month_match = re.search(r'\\b(0[1-9]|1[0-2])\\b', date_str)\n",
        "    if numeric_month_match:\n",
        "        return numeric_month_match.group()\n",
        "\n",
        "    return date_str\n",
        "# Function to extract the day from various date formats\n",
        "def extract_day(date_str:str)->str:\n",
        "    # Regular expression to match a day format (1 or 2 digits, possibly leading with 0)\n",
        "    day_match = re.search(r'\\b(0?[1-9]|[12][0-9]|3[01])\\b', date_str)\n",
        "    if day_match:\n",
        "        return day_match.group()\n",
        "\n",
        "    return date_str\n",
        "def add_leading_zero(day:str)->str:\n",
        "    if (len(day)>1):\n",
        "      return day\n",
        "    else:\n",
        "      return f\"0{day}\"\n",
        "\n",
        "\n",
        "\n",
        "\n",
        "# Function to extract the year\n",
        "def extract_year_19(date_str):\n",
        "    # Regular expression to match a 2 or 4 digit year\n",
        "    matched = re.search(r'(\\d{2}|\\d{4})$', date_str)\n",
        "    if matched:\n",
        "        # Extract the year\n",
        "        year = matched.group(0)\n",
        "        # Handling 2-digit years (assuming 20th century)\n",
        "        if len(year) == 2:\n",
        "          if int(year)>23:\n",
        "            year = '19' + year\n",
        "          else:\n",
        "            year = '20' + year\n",
        "        return year\n",
        "    else:\n",
        "        return date_str\n",
        "\n",
        "\n",
        "\n",
        "def full_df(df: PrivateDataFrame, col: str) -> None:\n",
        "  df[col+'month'] = df[col].map(extract_month)\n",
        "  df[col+'day'] = df[col].map(extract_day).map(add_leading_zero)\n",
        "  df[col+'year19'] = df[col].map(extract_year_19)\n",
        "\n",
        "\n",
        "  df[col+'fulldate'] = df[col+'month']+df[col+'day']+df[col+'year19']\n",
        "\n",
        "\n",
        "\n",
        "full_df(flight,'passenger_date_of_birth')\n",
        "full_df(health,'patient_date_of_birth')\n"
      ],
      "metadata": {
        "id": "TmZ7aVE2dIhy"
      },
      "execution_count": null,
      "outputs": []
    },
    {
      "cell_type": "code",
      "source": [
        "%%ag\n",
        "ag_print(health.columns)"
      ],
      "metadata": {
        "colab": {
          "base_uri": "https://localhost:8080/"
        },
        "id": "l7nFCAYzOaWL",
        "outputId": "efa5e55d-5d65-4462-e88b-b96afe0acbb8"
      },
      "execution_count": null,
      "outputs": [
        {
          "output_type": "stream",
          "name": "stdout",
          "text": [
            "['patient_firstname', 'patient_lastname', 'patient_date_of_birth', 'patient_phone_number', 'patient_email_address', 'covidtest_date', 'covidtest_result', 'patient_address', 'patient_date_of_birthmonth', 'patient_date_of_birthday', 'patient_date_of_birthyear19', 'patient_date_of_birthfulldate', 'covidtest_datemonth', 'covidtest_dateday', 'covidtest_dateyear19', 'covidtest_datefulldate']\n",
            "\n"
          ]
        }
      ]
    },
    {
      "cell_type": "code",
      "source": [
        "%%ag\n",
        "ag_print(flight.columns)"
      ],
      "metadata": {
        "colab": {
          "base_uri": "https://localhost:8080/"
        },
        "id": "qTVo1U_iOau6",
        "outputId": "b5485674-c2d6-4981-9017-f3487a675391"
      },
      "execution_count": null,
      "outputs": [
        {
          "output_type": "stream",
          "name": "stdout",
          "text": [
            "['index', 'flight_number', 'flight_date', 'flight_from', 'flight_to', 'passenger_firstname', 'passenger_lastname', 'passenger_date_of_birth', 'passenger_phone_number', 'passenger_email_address', 'passenger_date_of_birthmonth', 'passenger_date_of_birthday', 'passenger_date_of_birthyear19', 'passenger_date_of_birthfulldate', 'flight_datemonth', 'flight_dateday', 'flight_dateyear19', 'flight_datefulldate']\n",
            "\n"
          ]
        }
      ]
    },
    {
      "cell_type": "markdown",
      "source": [],
      "metadata": {
        "id": "Ra2SXa9Mf8jh"
      }
    },
    {
      "cell_type": "code",
      "source": [
        "%%ag\n",
        "\n",
        "import numpy as np\n",
        "import op_pandas as opd\n",
        "import pandas as pd\n",
        "flight['passenger_date_of_birth'] = op_pandas.to_datetime(flight['passenger_date_of_birth'],errors='coerce')\n",
        "flight['flight_date'] = op_pandas.to_datetime(flight['flight_date'],errors='coerce')\n",
        "health['patient_date_of_birth'] = op_pandas.to_datetime(health['patient_date_of_birth'], errors='coerce')\n",
        "health['covidtest_date'] = op_pandas.to_datetime(health['covidtest_date'], errors='coerce')"
      ],
      "metadata": {
        "id": "1ZUSU4VTdWaO"
      },
      "execution_count": null,
      "outputs": []
    },
    {
      "cell_type": "code",
      "source": [
        "%%ag\n",
        "\n",
        "import numpy as np\n",
        "import op_pandas as opd\n",
        "import pandas as pd\n",
        "flight['passenger_date_of_birthfulldate'] = op_pandas.to_datetime(flight['passenger_date_of_birthfulldate'],format='%m%d%Y',errors='coerce')\n",
        "\n",
        "health['patient_date_of_birthfulldate'] = op_pandas.to_datetime(health['patient_date_of_birthfulldate'],format='%m%d%Y', errors='coerce')\n"
      ],
      "metadata": {
        "id": "c-jJkR0adanm"
      },
      "execution_count": null,
      "outputs": []
    },
    {
      "cell_type": "code",
      "source": [
        "%%ag\n",
        "ag_print(health.dtypes)"
      ],
      "metadata": {
        "colab": {
          "base_uri": "https://localhost:8080/"
        },
        "id": "cP_URsJk15JY",
        "outputId": "84f1b108-9fb4-402c-f5a6-95883359a530"
      },
      "execution_count": null,
      "outputs": [
        {
          "output_type": "stream",
          "name": "stdout",
          "text": [
            "patient_firstname                        object\n",
            "patient_lastname                         object\n",
            "patient_date_of_birth            datetime64[ns]\n",
            "patient_phone_number                     object\n",
            "patient_email_address                    object\n",
            "covidtest_date                   datetime64[ns]\n",
            "covidtest_result                         object\n",
            "patient_address                          object\n",
            "patient_date_of_birthmonth               object\n",
            "patient_date_of_birthday                 object\n",
            "patient_date_of_birthyear19              object\n",
            "patient_date_of_birthfulldate    datetime64[ns]\n",
            "dtype: object\n",
            "\n"
          ]
        }
      ]
    },
    {
      "cell_type": "code",
      "source": [
        "%%ag\n",
        "ag_print(flight.dtypes)"
      ],
      "metadata": {
        "colab": {
          "base_uri": "https://localhost:8080/"
        },
        "id": "6i7GUo_H17rB",
        "outputId": "a48d8558-0087-4fa3-c8f3-ae649985b94d"
      },
      "execution_count": null,
      "outputs": [
        {
          "output_type": "stream",
          "name": "stdout",
          "text": [
            "index                                       int64\n",
            "flight_number                              object\n",
            "flight_date                        datetime64[ns]\n",
            "flight_from                                object\n",
            "flight_to                                  object\n",
            "passenger_firstname                        object\n",
            "passenger_lastname                         object\n",
            "passenger_date_of_birth            datetime64[ns]\n",
            "passenger_phone_number                     object\n",
            "passenger_email_address                    object\n",
            "passenger_date_of_birthmonth               object\n",
            "passenger_date_of_birthday                 object\n",
            "passenger_date_of_birthyear19              object\n",
            "passenger_date_of_birthfulldate    datetime64[ns]\n",
            "dtype: object\n",
            "\n"
          ]
        }
      ]
    },
    {
      "cell_type": "code",
      "source": [
        "%%ag\n",
        "import op_recordlinkage as rl\n",
        "indexer = rl.Index()\n",
        "\n",
        "indexer.block(['passenger_date_of_birthfulldate'],['patient_date_of_birthfulldate'])\n",
        "\n",
        "\n",
        "candidate_links = indexer.index(flight,health)"
      ],
      "metadata": {
        "id": "o8l_HMArdezN"
      },
      "execution_count": null,
      "outputs": []
    },
    {
      "cell_type": "code",
      "source": [],
      "metadata": {
        "id": "nDwjzcHtIrIi"
      },
      "execution_count": null,
      "outputs": []
    },
    {
      "cell_type": "code",
      "source": [
        "%%ag\n",
        "compare = rl.Compare()\n",
        "\n",
        "compare.exact('passenger_date_of_birthday', 'patient_date_of_birthday',label=\"day\")\n",
        "compare.string('passenger_date_of_birthmonth', 'patient_date_of_birthmonth',method='jarowinkler', threshold=0.4,label=\"month\")\n",
        "\n",
        "compare.string(\"passenger_lastname\",\"patient_lastname\" ,method='jarowinkler', threshold=1, label=\"last\")\n",
        "compare.string(\"passenger_firstname\",\"patient_firstname\" ,method='jarowinkler', threshold=0.75, label=\"first\")\n",
        "compare.string(\"passenger_phone_number\",\"patient_phone_number\" ,method='levenshtein', threshold=0.1, label=\"phone\")\n",
        "\n",
        "import datetime\n",
        "def cmp(date_str1:datetime.datetime , date_str2:datetime.datetime)->int: # datetime and regex are pre-imported in isolated environment.\n",
        "\n",
        "    days_apart = abs((date_str2 - date_str1).days)\n",
        "    return 1 if (days_apart <= 13)  else 0\n",
        "\n",
        "\n",
        "\n",
        "\n",
        "compare.custom(cmp,\"flight_date\",\"covidtest_date\",label=\"date_cmp\")\n",
        "\n"
      ],
      "metadata": {
        "id": "Ck8Kg427dkvX"
      },
      "execution_count": null,
      "outputs": []
    },
    {
      "cell_type": "code",
      "source": [
        "\n",
        "\n",
        "%%ag\n",
        "features = compare.compute(candidate_links,flight,health)\n",
        "\n",
        "linked_df = compare.get_match(5.5)\n",
        "\n",
        "\n",
        "# Submitting the column containing the filtered set of airlines we should report regarding a covid passenger.\n",
        "res = linked_df[[\"l_flight_number\"]]\n",
        "x = submit_predictions(res)"
      ],
      "metadata": {
        "colab": {
          "base_uri": "https://localhost:8080/"
        },
        "id": "CHLGWcoUdt7P",
        "outputId": "0a16bb9c-4a3e-4ffe-c2df-93dd53f55eec"
      },
      "execution_count": null,
      "outputs": [
        {
          "output_type": "stream",
          "name": "stdout",
          "text": [
            "score: {'leaderboard': 0.9503180237161766, 'logs': {'LIN_EPS': -0.006, 'MCC': 0.9563180237161766}}\n",
            "\n"
          ]
        }
      ]
    },
    {
      "cell_type": "code",
      "source": [
        "session.terminate_session()"
      ],
      "metadata": {
        "colab": {
          "base_uri": "https://localhost:8080/"
        },
        "id": "MS-25bfCd0m5",
        "outputId": "5d4e6a6a-0fe5-4863-8f4b-c2fbf7e389e2"
      },
      "execution_count": null,
      "outputs": [
        {
          "output_type": "execute_result",
          "data": {
            "text/plain": [
              "{'status': 'ok'}"
            ]
          },
          "metadata": {},
          "execution_count": 140
        }
      ]
    },
    {
      "cell_type": "code",
      "source": [],
      "metadata": {
        "id": "N6fgXJw-vWIt"
      },
      "execution_count": null,
      "outputs": []
    }
  ]
}