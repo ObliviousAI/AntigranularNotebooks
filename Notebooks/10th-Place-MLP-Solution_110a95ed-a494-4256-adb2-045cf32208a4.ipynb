{
  "nbformat": 4,
  "nbformat_minor": 0,
  "metadata": {
    "colab": {
      "provenance": [],
      "gpuType": "T4"
    },
    "kernelspec": {
      "name": "python3",
      "display_name": "Python 3"
    },
    "language_info": {
      "name": "python"
    },
    "accelerator": "GPU"
  },
  "cells": [
    {
      "cell_type": "markdown",
      "source": [
        "# 📊 **Antigranular** Heart Disease Prediction Contest (ft. **Harvard/OpenDP** and **TPDP**)\n",
        "\n",
        "🎉 Welcome to a new [Antigranular](https://antigranular.com) contest in collaboration with the [TPDP Workshop](https://tpdp.journalprivacyconfidentiality.org/2024/) and [Harvard's OpenDP Community Meeting](https://opendp.org/)!\n",
        "\n",
        "🩺 This time, we are focusing on [heart condition detection](https://en.wikipedia.org/wiki/Cardiovascular_disease) using our new [TensorFlow Privacy](https://github.com/tensorflow/privacy) and [Opacus (PyTorch)](https://opacus.ai/) models!\n",
        "\n",
        "🦜 Any questions? Head over to our [Discord](https://discord.com/invite/KJwApgXs4s)!\n",
        "\n"
      ],
      "metadata": {
        "id": "5az73vDZvCWg"
      }
    },
    {
      "cell_type": "markdown",
      "source": [
        "## 🏃‍♂️ Getting Started\n",
        "\n",
        "In this section we will download the antigranular package and login\n",
        "\n",
        "\n"
      ],
      "metadata": {
        "id": "BZ1S_Qc0v5hL"
      }
    },
    {
      "cell_type": "markdown",
      "source": [
        "### 📦 Install Antigranular\n",
        "\n",
        "This command installs the [Antigranular PyPI Package](https://pypi.org/project/antigranular/) on the local enviroment.\n"
      ],
      "metadata": {
        "id": "6_ISjJv_eppS"
      }
    },
    {
      "cell_type": "code",
      "execution_count": null,
      "metadata": {
        "id": "5uFCyt-Puq4K"
      },
      "outputs": [],
      "source": [
        "# Install the Antigranular package\n",
        "!pip install antigranular &> /dev/null"
      ]
    },
    {
      "cell_type": "markdown",
      "source": [
        "### ✍ Login to the Enclave\n",
        "\n",
        "Head over to [Competitions](https://www.antigranular.com/competitions) to find your `<user_id>`, `<user_secret>` and the competition's name and copy that command here.\n",
        "\n",
        "![img](https://docs.antigranular.com/shots/comp_cell.png)"
      ],
      "metadata": {
        "id": "v7jLQa6Uehks"
      }
    },
    {
      "cell_type": "code",
      "source": [
        "import antigranular as ag\n"
      ],
      "metadata": {
        "colab": {
          "base_uri": "https://localhost:8080/",
          "height": 190
        },
        "id": "w_JcMMSMv_Ze",
        "outputId": "10041ac3-3f83-4891-cdee-2b0836bde521"
      },
      "execution_count": null,
      "outputs": [
        {
          "output_type": "display_data",
          "data": {
            "text/plain": [
              "<IPython.core.display.HTML object>"
            ],
            "text/html": []
          },
          "metadata": {}
        },
        {
          "output_type": "stream",
          "name": "stdout",
          "text": [
            "Dataset \"Heart Disease Prediction Hackathon Dataset\" loaded to the kernel as \u001b[92mheart_disease_prediction_hackathon_dataset\u001b[0m\n",
            "Key Name                       Value Type     \n",
            "---------------------------------------------\n",
            "train_y                        PrivateDataFrame\n",
            "train_x                        PrivateDataFrame\n",
            "test_x                         DataFrame      \n",
            "\n",
            "Connected to Antigranular server session id: 110a95ed-a494-4256-adb2-045cf32208a4, the session will time out if idle for 25 minutes\n",
            "Cell magic '%%ag' registered successfully, use `%%ag` in a notebook cell to execute your python code on Antigranular private python server\n",
            "🚀 Everything's set up and ready to roll!\n"
          ]
        }
      ]
    },
    {
      "cell_type": "markdown",
      "source": [
        "### 🤖 Using AG\n",
        "\n",
        "You can now simply use ``%%ag`` to run code on an enclave! You can always head over to our [Docs](https://docs.antigranular.com/) to learn more about AG, but for now, we can define train and test variables as follows."
      ],
      "metadata": {
        "id": "Jeg6W7fPNHhS"
      }
    },
    {
      "cell_type": "code",
      "source": [
        "%%ag\n",
        "x_train = heart_disease_prediction_hackathon_dataset[\"train_x\"]\n",
        "y_train = heart_disease_prediction_hackathon_dataset[\"train_y\"]\n",
        "x_test = heart_disease_prediction_hackathon_dataset[\"test_x\"]"
      ],
      "metadata": {
        "id": "8IHVwjFKk2Ys"
      },
      "execution_count": null,
      "outputs": []
    },
    {
      "cell_type": "markdown",
      "source": [
        "### 🕵️‍♂️ Exploring data\n",
        "\n",
        "Exploring data in Antigranular involves spending your epsilon budget, be mindful of your usage but remember that the less epsilon you use, the less accurate your results will get!"
      ],
      "metadata": {
        "id": "4oMW3Eh8RDl4"
      }
    },
    {
      "cell_type": "code",
      "source": [
        "# %%ag\n",
        "# x_train.info()"
      ],
      "metadata": {
        "id": "PMiVe3n_t4um"
      },
      "execution_count": null,
      "outputs": []
    },
    {
      "cell_type": "code",
      "source": [
        "# %%ag\n",
        "# y_train.info()"
      ],
      "metadata": {
        "id": "iG3HnW1Ut8X2"
      },
      "execution_count": null,
      "outputs": []
    },
    {
      "cell_type": "code",
      "source": [
        "# %%ag\n",
        "# # We can start by exploring the data, carefully using our epsilon\n",
        "# describe = x_train.describe(eps=0.1)\n",
        "# ag_print(describe)"
      ],
      "metadata": {
        "id": "4QNyLhdXmYs5"
      },
      "execution_count": null,
      "outputs": []
    },
    {
      "cell_type": "code",
      "source": [
        "# %%ag\n",
        "# # We can start by exploring the data, carefully using our epsilon\n",
        "# describe = y_train.describe(eps=0.1)\n",
        "# ag_print(describe)"
      ],
      "metadata": {
        "id": "GJ4MX9Ghs2z6"
      },
      "execution_count": null,
      "outputs": []
    },
    {
      "cell_type": "code",
      "source": [
        "%%ag\n",
        "# x_test is a public test set, so we can print it without using epsilon\n",
        "# ag_print(x_test)"
      ],
      "metadata": {
        "id": "OymOmMhqmzpK"
      },
      "execution_count": null,
      "outputs": []
    },
    {
      "cell_type": "markdown",
      "source": [
        "### 🎈 A quick solution\n",
        "\n",
        "In this section we evaluate an editorial solution in AG using TensorFlow!"
      ],
      "metadata": {
        "id": "KARrFlm5pOB6"
      }
    },
    {
      "cell_type": "code",
      "source": [
        "%%ag\n",
        "import tensorflow as tf\n",
        "from op_pandas import standard_scaler, PrivateDataFrame\n",
        "from tensorflow.keras.models import Sequential\n",
        "from tensorflow.keras.layers import Dense, Dropout\n",
        "from op_tensorflow import PrivateKerasModel, PrivateDataLoader\n",
        "\n",
        "\n",
        "# Normal keras model\n",
        "seqM = Sequential([\n",
        "    Dense(128, activation='relu', input_shape=(6,)),\n",
        "    Dropout(0.05),\n",
        "    Dense(256, activation='relu'),\n",
        "    Dropout(0.05),\n",
        "    Dense(128, activation='relu'),\n",
        "    Dropout(0.05),\n",
        "    Dense(1, activation='sigmoid')  # Binary classification\n",
        "])\n",
        "\n",
        "# Create DP keras model\n",
        "dp_model = PrivateKerasModel(model=seqM, l2_norm_clip=1, noise_multiplier=1)\n",
        "\n",
        "# Use a standard (non-DP) optimizer directly from keras.\n",
        "optimizer = tf.keras.optimizers.AdamW(learning_rate=0.001)\n",
        "\n",
        "# PrivateKerasModel uses similar API as standard Keras\n",
        "dp_model.compile(\n",
        "\toptimizer = optimizer,\n",
        "\tloss = 'binary_crossentropy',\n",
        "\tmetrics = [\"accuracy\"]\n",
        ")"
      ],
      "metadata": {
        "id": "QVMog5sFunqk"
      },
      "execution_count": null,
      "outputs": []
    },
    {
      "cell_type": "code",
      "source": [
        "%%ag\n",
        "x_train_scaled = standard_scaler(x_train, eps=1)\n",
        "x_train_scaled.info()"
      ],
      "metadata": {
        "colab": {
          "base_uri": "https://localhost:8080/"
        },
        "id": "CtZnkEIGu4Oy",
        "outputId": "40fe7e1b-61fb-4f36-e62e-7e356d40545f"
      },
      "execution_count": null,
      "outputs": [
        {
          "output_type": "stream",
          "name": "stdout",
          "text": [
            "+----+----------+-------------+---------------+---------+------------------------------------------+\n",
            "|    | Column   | numerical   | categorical   | dtype   | bounds                                   |\n",
            "|----+----------+-------------+---------------+---------+------------------------------------------|\n",
            "|  0 | age      | True        | False         | float64 | (-3.2251650958889058,                    |\n",
            "|    |          |             |               |         | 3.0125396666840714)                      |\n",
            "|  1 | sex      | True        | False         | float64 | (-1.435872236274705, 0.7004278340922758) |\n",
            "|  2 | bp       | True        | False         | float64 | (-2.8170087590658563, 4.539453513068863) |\n",
            "|  3 | ch       | True        | False         | float64 | (-2.507452232531863, 6.0456372000583976) |\n",
            "|  4 | bs       | True        | False         | float64 | (-2.6891593723446596, 4.046803542053309) |\n",
            "|  5 | phr      | True        | False         | float64 | (-4.007087401809214, 3.4166096792398)    |\n",
            "+----+----------+-------------+---------------+---------+------------------------------------------+\n",
            "\n"
          ]
        }
      ]
    },
    {
      "cell_type": "code",
      "source": [
        "%%ag\n",
        "data_loader = PrivateDataLoader(feature_df=x_train_scaled , label_df=y_train, batch_size=2)"
      ],
      "metadata": {
        "id": "-IRE6nbYvcw7"
      },
      "execution_count": null,
      "outputs": []
    },
    {
      "cell_type": "code",
      "source": [
        "%%ag\n",
        "dp_model.fit(x=data_loader, epochs=15, target_delta=1e-5)"
      ],
      "metadata": {
        "colab": {
          "base_uri": "https://localhost:8080/"
        },
        "id": "BkYeXE1nv0EL",
        "outputId": "8a024563-1648-475a-e6ee-3ce0a9401674"
      },
      "execution_count": null,
      "outputs": [
        {
          "output_type": "stream",
          "name": "stdout",
          "text": [
            "Epoch 1/15\n",
            "\n",
            "4000/4000 - 81s - loss: 0.4642 - accuracy: 0.7698 - 81s/epoch - 20ms/step\n",
            "\n",
            "Epoch 2/15\n",
            "\n",
            "4000/4000 - 76s - loss: 0.3170 - accuracy: 0.8539 - 76s/epoch - 19ms/step\n",
            "\n",
            "Epoch 3/15\n",
            "\n",
            "4000/4000 - 79s - loss: 0.2436 - accuracy: 0.8939 - 79s/epoch - 20ms/step\n",
            "\n",
            "Epoch 4/15\n",
            "\n",
            "4000/4000 - 79s - loss: 0.1980 - accuracy: 0.9180 - 79s/epoch - 20ms/step\n",
            "\n",
            "Epoch 5/15\n",
            "\n",
            "4000/4000 - 74s - loss: 0.1690 - accuracy: 0.9313 - 74s/epoch - 19ms/step\n",
            "\n",
            "Epoch 6/15\n",
            "\n",
            "4000/4000 - 75s - loss: 0.1435 - accuracy: 0.9441 - 75s/epoch - 19ms/step\n",
            "\n",
            "Epoch 7/15\n",
            "\n",
            "4000/4000 - 80s - loss: 0.1358 - accuracy: 0.9482 - 80s/epoch - 20ms/step\n",
            "\n",
            "Epoch 8/15\n",
            "\n",
            "4000/4000 - 75s - loss: 0.1211 - accuracy: 0.9552 - 75s/epoch - 19ms/step\n",
            "\n",
            "Epoch 9/15\n",
            "\n"
          ]
        }
      ]
    },
    {
      "cell_type": "code",
      "source": [
        "%%ag\n",
        "x_test_scaler = standard_scaler(PrivateDataFrame(x_test), eps=1)\n",
        "y_pred = dp_model.predict(x_test_scaler, label_columns=[\"output\"])"
      ],
      "metadata": {
        "colab": {
          "base_uri": "https://localhost:8080/"
        },
        "id": "dt_0vemmvq17",
        "outputId": "f8633f32-dc91-4dd0-b181-47c8dcab242b"
      },
      "execution_count": null,
      "outputs": [
        {
          "output_type": "stream",
          "name": "stdout",
          "text": [
            "\r 1/63 [..............................] - ETA: 19s\n",
            "\b\b\b\b\b\b\b\b\b\b\b\b\b\b\b\b\b\b\b\b\b\b\b\b\b\b\b\b\b\b\b\b\b\b\b\b\b\b\b\b\b\b\b\b\b\b\b\b\b\r 4/63 [>.............................] - ETA: 1s \n",
            "\b\b\b\b\b\b\b\b\b\b\b\b\b\b\b\b\b\b\b\b\b\b\b\b\b\b\b\b\b\b\b\b\b\b\b\b\b\b\b\b\b\b\b\b\b\b\b\b\r18/63 [=======>......................] - ETA: 0s\n",
            "\b\b\b\b\b\b\b\b\b\b\b\b\b\b\b\b\b\b\b\b\b\b\b\b\b\b\b\b\b\b\b\b\b\b\b\b\b\b\b\b\b\b\b\b\b\b\b\b\r35/63 [===============>..............] - ETA: 0s\n",
            "\b\b\b\b\b\b\b\b\b\b\b\b\b\b\b\b\b\b\b\b\b\b\b\b\b\b\b\b\b\b\b\b\b\b\b\b\b\b\b\b\b\b\b\b\b\b\b\b\r49/63 [======================>.......] - ETA: 0s\n",
            "\b\b\b\b\b\b\b\b\b\b\b\b\b\b\b\b\b\b\b\b\b\b\b\b\b\b\b\b\b\b\b\b\b\b\b\b\b\b\b\b\b\b\b\b\b\b\b\b\r63/63 [==============================] - 1s 6ms/step\n",
            "\n"
          ]
        }
      ]
    },
    {
      "cell_type": "code",
      "source": [
        "%%ag\n",
        "# Note that the predictions are a float scalar\n",
        "# so we scale it\n",
        "def f(x: float) -> float:\n",
        "  if x > 0.5:\n",
        "    return 1\n",
        "  else:\n",
        "    return 0\n",
        "\n",
        "y_pred[\"output\"] = y_pred[\"output\"].map(f, output_bounds=(0, 1))"
      ],
      "metadata": {
        "id": "mJMoynKBAwMB"
      },
      "execution_count": null,
      "outputs": []
    },
    {
      "cell_type": "markdown",
      "source": [
        "### 📝 Make your submission (Through AG)\n",
        "\n",
        "Submit a prediction by simply typing `submit_predictions(your_prediction)` to find out how you rank on the leaderboard.\n",
        "\n",
        "![img](https://www.antigranular.com/static/media/Step%209.8091828f3cff4324fe6d.png)\n"
      ],
      "metadata": {
        "id": "8K19wo42GvcM"
      }
    },
    {
      "cell_type": "markdown",
      "source": [
        "### 🎈 Another quick solution\n",
        "\n",
        "In this section we evaluate an editorial solution in AG using Diffprivlib!"
      ],
      "metadata": {
        "id": "hzIEcXX6unAN"
      }
    },
    {
      "cell_type": "markdown",
      "source": [
        "### 🎉 That's it!\n",
        "\n",
        "Congrats! You made your first submission to the competition! Now it's time to keep exploring the data and to try to achieve a better score! Here are the next steps:\n",
        "\n",
        "\n",
        "1.  🏫 Head over to our [Docs](https://docs.antigranular.com/) and discover Opacus (PyTorch), TensorFlow Privacy and other libraries available in Antigranular!\n",
        "2. 🦜 Any questions? Head over to our [Discord](https://discord.com/invite/KJwApgXs4s)!\n",
        "\n",
        "We hope you have fun and enjoy the competition!\n",
        "\n",
        "Best of luck,\n",
        "\n",
        "Antigranular Team"
      ],
      "metadata": {
        "id": "-fzPowmzpTf_"
      }
    }
  ]
}