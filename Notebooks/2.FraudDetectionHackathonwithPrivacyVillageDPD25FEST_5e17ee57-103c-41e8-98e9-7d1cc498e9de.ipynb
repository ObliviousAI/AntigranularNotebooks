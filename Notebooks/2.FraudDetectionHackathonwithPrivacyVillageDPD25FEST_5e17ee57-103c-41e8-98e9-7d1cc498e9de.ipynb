{
 "cells": [
  {
   "cell_type": "code",
   "execution_count": 25,
   "metadata": {},
   "outputs": [
    {
     "data": {
      "text/html": [],
      "text/plain": [
       "<IPython.core.display.HTML object>"
      ]
     },
     "metadata": {},
     "output_type": "display_data"
    },
    {
     "name": "stdout",
     "output_type": "stream",
     "text": [
      "tls_cert_name: ip-100-100-15-185.eu-west-1.compute.internal_11589e76-6316-4116-a289-97064b78daf5\n",
      "cert_thumbprint: d90875bf23925e6fcad143593f877711241236f409afc7d935fb60ce8afd65154f67bca43e0d829fb70948dfdb74a4aee265362e9f5a436ef478c6ae8fc29348\n",
      "server_hostname: ip-100-100-15-185.eu-west-1.compute.internal\n",
      "local_host_port: 11589e76-6316-4116-a289-97064b78daf5\n"
     ]
    },
    {
     "name": "stderr",
     "output_type": "stream",
     "text": [
      "IOStream.flush timed out\n"
     ]
    },
    {
     "name": "stdout",
     "output_type": "stream",
     "text": [
      "Dataset \"Transaction Fraud Hackathon Dataset\" loaded to the kernel as \u001b[92mtransaction_fraud_hackathon_dataset\u001b[0m\n",
      "Key Name                       Value Type     \n",
      "---------------------------------------------\n",
      "test_x                         DataFrame      \n",
      "train_x                        PrivateDataFrame\n",
      "train_y                        PrivateDataFrame\n",
      "\n",
      "Connected to Antigranular server session id: 5e17ee57-103c-41e8-98e9-7d1cc498e9de, the session will time out if idle for 25 minutes\n",
      "Cell magic '%%ag' registered successfully, use `%%ag` in a notebook cell to execute your python code on Antigranular private python server\n",
      "🚀 Everything's set up and ready to roll!\n"
     ]
    }
   ],
   "source": [
    "!pip install antigranular &> /dev/null\n",
    "\n",
    "\n",
    "import antigranular as ag\n",
    "session = ag.login(<client_id>,<client_secret>, competition = \"Fraud Detection Hackathon with Privacy Village #DPD25FEST\")"
   ]
  },
  {
   "cell_type": "code",
   "execution_count": 26,
   "metadata": {},
   "outputs": [],
   "source": [
    "%%ag\n",
    "x_train = transaction_fraud_hackathon_dataset[\"train_x\"]\n",
    "y_train = transaction_fraud_hackathon_dataset[\"train_y\"]\n",
    "x_test = transaction_fraud_hackathon_dataset[\"test_x\"]"
   ]
  },
  {
   "cell_type": "code",
   "execution_count": 27,
   "metadata": {},
   "outputs": [
    {
     "name": "stderr",
     "output_type": "stream",
     "text": [
      "/usr/local/lib/python3.10/site-packages/tensorflow/__init__.py:30: DeprecationWarning: The distutils package is deprecated and slated for removal in Python 3.12. Use setuptools or check PEP 632 for potential alternatives\n",
      "  import distutils as _distutils\n",
      "2025-02-27 12:41:12.972773: I tensorflow/core/util/port.cc:113] oneDNN custom operations are on. You may see slightly different numerical results due to floating-point round-off errors from different computation orders. To turn them off, set the environment variable `TF_ENABLE_ONEDNN_OPTS=0`.\n",
      "\n",
      "2025-02-27 12:41:12.975863: I external/local_tsl/tsl/cuda/cudart_stub.cc:31] Could not find cuda drivers on your machine, GPU will not be used.\n",
      "2025-02-27 12:41:13.161973: E external/local_xla/xla/stream_executor/cuda/cuda_dnn.cc:9261] Unable to register cuDNN factory: Attempting to register factory for plugin cuDNN when one has already been registered\n",
      "2025-02-27 12:41:13.162014: E external/local_xla/xla/stream_executor/cuda/cuda_fft.cc:607] Unable to register cuFFT factory: Attempting to register factory for plugin cuFFT when one has already been registered\n",
      "2025-02-27 12:41:13.162941: E external/local_xla/xla/stream_executor/cuda/cuda_blas.cc:1515] Unable to register cuBLAS factory: Attempting to register factory for plugin cuBLAS when one has already been registered\n",
      "2025-02-27 12:41:13.168358: I external/local_tsl/tsl/cuda/cudart_stub.cc:31] Could not find cuda drivers on your machine, GPU will not be used.\n",
      "2025-02-27 12:41:13.170633: I tensorflow/core/platform/cpu_feature_guard.cc:182] This TensorFlow binary is optimized to use available CPU instructions in performance-critical operations.\n",
      "To enable the following instructions: AVX2 AVX512F AVX512_VNNI FMA, in other operations, rebuild TensorFlow with the appropriate compiler flags.\n",
      "\n",
      "2025-02-27 12:41:16.770745: W tensorflow/compiler/tf2tensorrt/utils/py_utils.cc:38] TF-TRT Warning: Could not find TensorRT\n",
      "\n"
     ]
    }
   ],
   "source": [
    "%%ag\n",
    "import tensorflow as tf\n",
    "from tensorflow.keras.models import Sequential\n",
    "from tensorflow.keras.layers import Conv1D, Flatten\n",
    "from tensorflow.keras.layers import Dense, Dropout\n",
    "from op_tensorflow import PrivateKerasModel, PrivateDataLoader\n",
    "from tensorflow.keras.models import Sequential\n",
    "from tensorflow.keras.layers import Dense, Dropout, BatchNormalization\n",
    "from op_pandas import standard_scaler, PrivateDataFrame, train_test_split\n",
    "\n",
    "model = Sequential([\n",
    "    # Giriş katmanı: 9 özellik\n",
    "    Dense(512, activation='relu', input_shape=(9,)),\n",
    "    BatchNormalization(),\n",
    "    Dropout(0.1),\n",
    "    Dense(128, activation='relu'),\n",
    "    BatchNormalization(),\n",
    "    Dropout(0.1),\n",
    "    Dense(128, activation='relu'),\n",
    "    BatchNormalization(),\n",
    "    Dropout(0.1),\n",
    "    Dense(128, activation='relu'),\n",
    "    BatchNormalization(),\n",
    "    Dropout(0.1),\n",
    "    Dense(128, activation='relu'),\n",
    "    BatchNormalization(),\n",
    "    Dropout(0.1),\n",
    "    Dense(128, activation='relu'),\n",
    "    BatchNormalization(),\n",
    "    Dropout(0.1),\n",
    "    Dense(1, activation='sigmoid')\n",
    "])\n",
    "\n",
    "# Create DP keras model\n",
    "dp_model = PrivateKerasModel(model=model, l2_norm_clip=1, noise_multiplier=1)\n",
    "\n",
    "# Use a standard (non-DP) optimizer directly from keras\n",
    "optimizer = tf.keras.optimizers.Adam(learning_rate=0.001) #0.0003 #0.0003) 0.01 1\n",
    "\n",
    "# PrivateKerasModel uses similar API as standard Keras, we compile\n",
    "dp_model.compile(\n",
    "\toptimizer = optimizer,\n",
    "\tloss = 'binary_crossentropy',\n",
    "\tmetrics = [\"accuracy\"]\n",
    ")"
   ]
  },
  {
   "cell_type": "code",
   "execution_count": 28,
   "metadata": {},
   "outputs": [],
   "source": [
    "%%ag\n",
    "data_loader = PrivateDataLoader(feature_df=x_train , label_df=y_train, batch_size=512)#128 256"
   ]
  },
  {
   "cell_type": "code",
   "execution_count": null,
   "metadata": {},
   "outputs": [],
   "source": [
    "%%ag\n",
    "dp_model.fit(x=data_loader, epochs=50, target_delta=0.0001) #0.03 0.001"
   ]
  },
  {
   "cell_type": "code",
   "execution_count": 30,
   "metadata": {},
   "outputs": [],
   "source": [
    "%%ag\n",
    "x_test=PrivateDataFrame(x_test)"
   ]
  },
  {
   "cell_type": "code",
   "execution_count": null,
   "metadata": {},
   "outputs": [],
   "source": [
    "%%ag\n",
    "y_pred = dp_model.predict(x_test, label_columns=[\"output\"])\n",
    "def f(x: float) -> float:\n",
    "    return 1 if x > 0.5 else 0\n",
    "\n",
    "y_pred[\"output\"] = y_pred[\"output\"].map(f, output_bounds=(0, 1))\n",
    "result = submit_predictions(y_pred)"
   ]
  }
 ],
 "metadata": {
  "kernelspec": {
   "display_name": ".venv",
   "language": "python",
   "name": "python3"
  },
  "language_info": {
   "codemirror_mode": {
    "name": "ipython",
    "version": 3
   },
   "file_extension": ".py",
   "mimetype": "text/x-python",
   "name": "python",
   "nbconvert_exporter": "python",
   "pygments_lexer": "ipython3",
   "version": "3.12.6"
  }
 },
 "nbformat": 4,
 "nbformat_minor": 2
}
