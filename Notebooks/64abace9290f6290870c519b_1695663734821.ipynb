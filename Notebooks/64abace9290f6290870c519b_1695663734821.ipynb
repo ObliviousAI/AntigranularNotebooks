{
 "cells": [
  {
   "cell_type": "code",
   "execution_count": 1,
   "metadata": {},
   "outputs": [
    {
     "name": "stdout",
     "output_type": "stream",
     "text": [
      "{\"_id\":\"64ab15363b5c314f9ad444c3\",\"AG_PCRs\":{\"PCR0\":\"e5116932259b3fbeff8a244173962c4ab681304ddb5f5098e25691995543ca00df9d5cd2d80957db6e51f8648b792978\",\"PCR1\":\"bcdf05fefccaa8e55bf2c8d6dee9e79bbff31e34bf28a99aa19e6b29c37ee80b214a414b7607236edf26fcb78654e63f\",\"PCR2\":\"07070ca187b75ccee5ed5d9930481a1a3fdc47851d1987dd719801d8c8979550470702f890c2096e9996c1e9b3e5cccf\"},\"supported_clients\":[\"0.1.0\",\"0.1.1\",\"0.1.2\",\"0.1.3\",\"0.1.4\",\"0.2.0\",\"0.2.1\",\"0.2.3\",\"0.2.4\",\"0.2.5\",\"0.2.6\",\"0.2.7\",\"0.2.8\"]}\n",
      "AG_PCRs=PCRs(PCR0='e5116932259b3fbeff8a244173962c4ab681304ddb5f5098e25691995543ca00df9d5cd2d80957db6e51f8648b792978', PCR1='bcdf05fefccaa8e55bf2c8d6dee9e79bbff31e34bf28a99aa19e6b29c37ee80b214a414b7607236edf26fcb78654e63f', PCR2='07070ca187b75ccee5ed5d9930481a1a3fdc47851d1987dd719801d8c8979550470702f890c2096e9996c1e9b3e5cccf') supported_clients=['0.1.0', '0.1.1', '0.1.2', '0.1.3', '0.1.4', '0.2.0', '0.2.1', '0.2.3', '0.2.4', '0.2.5', '0.2.6', '0.2.7', '0.2.8']\n",
      "Current:0.2.7\n",
      "['0.1.0', '0.1.1', '0.1.2', '0.1.3', '0.1.4', '0.2.0', '0.2.1', '0.2.3', '0.2.4', '0.2.5', '0.2.6', '0.2.7', '0.2.8']\n",
      "Connected to Antigranular server session id: e2fda2a1-94a8-4524-8773-d9f84e56f9e6, the session will time out if idle for 60 minutes\n",
      "Cell magic '%%ag' registered successfully, use `%%ag` in a notebook cell to execute your python code on Antigranular private python server\n"
     ]
    }
   ],
   "source": [
    "import antigranular as ag\n",
    "session = ag.login(<client_id>,<client_secret>, dataset = \"Iris Dataset\")"
   ]
  },
  {
   "cell_type": "code",
   "execution_count": 2,
   "metadata": {},
   "outputs": [
    {
     "ename": "NameError",
     "evalue": "name 'session' is not defined",
     "output_type": "error",
     "traceback": [
      "\u001b[1;31m---------------------------------------------------------------------------\u001b[0m",
      "\u001b[1;31mNameError\u001b[0m                                 Traceback (most recent call last)",
      "\u001b[1;32m~\\AppData\\Local\\Temp\\ipykernel_30540\\411768465.py\u001b[0m in \u001b[0;36m<cell line: 1>\u001b[1;34m()\u001b[0m\n\u001b[1;32m----> 1\u001b[1;33m \u001b[0msession\u001b[0m\u001b[1;33m.\u001b[0m\u001b[0mterminate_session\u001b[0m\u001b[1;33m(\u001b[0m\u001b[1;33m)\u001b[0m\u001b[1;33m\u001b[0m\u001b[1;33m\u001b[0m\u001b[0m\n\u001b[0m",
      "\u001b[1;31mNameError\u001b[0m: name 'session' is not defined"
     ]
    }
   ],
   "source": [
    "session.terminate_session()"
   ]
  },
  {
   "cell_type": "code",
   "execution_count": 1,
   "metadata": {},
   "outputs": [
    {
     "ename": "NameError",
     "evalue": "name 'ag' is not defined",
     "output_type": "error",
     "traceback": [
      "\u001b[1;31m---------------------------------------------------------------------------\u001b[0m",
      "\u001b[1;31mNameError\u001b[0m                                 Traceback (most recent call last)",
      "\u001b[1;32m~\\AppData\\Local\\Temp\\ipykernel_30540\\1352830956.py\u001b[0m in \u001b[0;36m<cell line: 1>\u001b[1;34m()\u001b[0m\n\u001b[1;32m----> 1\u001b[1;33m \u001b[0mag\u001b[0m\u001b[1;33m.\u001b[0m\u001b[0m__version__\u001b[0m\u001b[1;33m\u001b[0m\u001b[1;33m\u001b[0m\u001b[0m\n\u001b[0m",
      "\u001b[1;31mNameError\u001b[0m: name 'ag' is not defined"
     ]
    }
   ],
   "source": [
    "ag.__version__"
   ]
  },
  {
   "cell_type": "code",
   "execution_count": 3,
   "metadata": {},
   "outputs": [],
   "source": [
    "%%ag \n",
    "from ag_utils import load_dataset \n",
    "\n",
    "# Obtaining the dictionary containing private objects\n",
    "response = load_dataset(\"StatCan CBS merged\")\n",
    "\n",
    "# Unpacking the response dictionary\n",
    "train_x = response[\"train_x\"]\n",
    "train_y = response[\"train_y\"]\n",
    "test_x = response[\"test_x\"]"
   ]
  },
  {
   "cell_type": "code",
   "execution_count": 18,
   "metadata": {},
   "outputs": [
    {
     "name": "stdout",
     "output_type": "stream",
     "text": [
      "imp_id                int64\n",
      "hs6                   int64\n",
      "date         datetime64[ns]\n",
      "value                 int64\n",
      "imp_size             object\n",
      "exp_id                int64\n",
      "pref_kode             int64\n",
      "exp_size             object\n",
      "dtype: object\n",
      "\n"
     ]
    }
   ],
   "source": [
    "%%ag\n",
    "from ag_utils import ag_print\n",
    "ag_print(train_x.describe(e).dtypes)"
   ]
  },
  {
   "cell_type": "code",
   "execution_count": 20,
   "metadata": {},
   "outputs": [],
   "source": [
    "%%ag\n",
    "test_x['date'] = test_x['date'].astype(str)\n"
   ]
  },
  {
   "cell_type": "code",
   "execution_count": 24,
   "metadata": {},
   "outputs": [],
   "source": [
    "%%ag\n",
    "\n",
    "from op_pandas import PrivateDataFrame\n",
    "\n",
    "can_csb_merged = PrivateDataFrame(test_x)"
   ]
  },
  {
   "cell_type": "code",
   "execution_count": 26,
   "metadata": {},
   "outputs": [
    {
     "name": "stdout",
     "output_type": "stream",
     "text": [
      "\u001b[0;31m---------------------------------------------------------------------------\u001b[0m\u001b[0;31mRuntimeError\u001b[0m                              Traceback (most recent call last)Cell \u001b[0;32mIn[25], line 1\u001b[0m\n",
      "\u001b[0;32m----> 1\u001b[0m can_csb_merged_processed \u001b[38;5;241m=\u001b[39m can_csb_merged[[\u001b[38;5;124m'\u001b[39m\u001b[38;5;124mpref_kode\u001b[39m\u001b[38;5;124m'\u001b[39m, \u001b[38;5;124m'\u001b[39m\u001b[38;5;124mvalue\u001b[39m\u001b[38;5;124m'\u001b[39m, \u001b[38;5;124m'\u001b[39m\u001b[38;5;124mimp_size\u001b[39m\u001b[38;5;124m'\u001b[39m, \u001b[38;5;124m'\u001b[39m\u001b[38;5;124mexp_size\u001b[39m\u001b[38;5;124m'\u001b[39m, \u001b[38;5;124m'\u001b[39m\u001b[38;5;124mhs6\u001b[39m\u001b[38;5;124m'\u001b[39m]]\u001b[38;5;241m.\u001b[39mcopy()\n",
      "\u001b[1;32m      2\u001b[0m can_csb_merged_processed[\u001b[38;5;124m'\u001b[39m\u001b[38;5;124mpref_kode\u001b[39m\u001b[38;5;124m'\u001b[39m] \u001b[38;5;241m=\u001b[39m can_csb_merged_processed[\u001b[38;5;124m'\u001b[39m\u001b[38;5;124mpref_kode\u001b[39m\u001b[38;5;124m'\u001b[39m]\u001b[38;5;241m.\u001b[39mapply(\u001b[38;5;28;01mlambda\u001b[39;00m x: \u001b[38;5;241m1\u001b[39m \u001b[38;5;28;01mif\u001b[39;00m x \u001b[38;5;241m==\u001b[39m \u001b[38;5;241m300\u001b[39m \u001b[38;5;28;01melse\u001b[39;00m \u001b[38;5;241m0\u001b[39m)\n",
      "File \u001b[0;32m/code/dependencies/ag_engine/ag_engine/restricted_python/custom_hooks.py:19\u001b[0m, in \u001b[0;36mCustomHooks.get_attribute\u001b[0;34m(self, obj, attr)\u001b[0m\n",
      "\u001b[1;32m     16\u001b[0m         \u001b[38;5;28;01mif\u001b[39;00m attr \u001b[38;5;129;01min\u001b[39;00m default_config\u001b[38;5;241m.\u001b[39mtype_methods[obj\u001b[38;5;241m.\u001b[39m\u001b[38;5;18m__class__\u001b[39m\u001b[38;5;241m.\u001b[39m\u001b[38;5;18m__name__\u001b[39m]:\n",
      "\u001b[1;32m     17\u001b[0m             \u001b[38;5;28;01mreturn\u001b[39;00m \u001b[38;5;28mgetattr\u001b[39m(obj, attr)\n",
      "\u001b[0;32m---> 19\u001b[0m \u001b[38;5;28;01mraise\u001b[39;00m \u001b[38;5;167;01mRuntimeError\u001b[39;00m(\u001b[38;5;124mf\u001b[39m\u001b[38;5;124m\"\u001b[39m\u001b[38;5;124mRestricted, \u001b[39m\u001b[38;5;132;01m{\u001b[39;00mattr\u001b[38;5;132;01m}\u001b[39;00m\u001b[38;5;124m is blocked on the applied object\u001b[39m\u001b[38;5;124m\"\u001b[39m)\n",
      "\u001b[0;31mRuntimeError\u001b[0m: Restricted, apply is blocked on the applied object\n"
     ]
    }
   ],
   "source": [
    "%%ag\n",
    "can_csb_merged_processed = can_csb_merged[['pref_kode', 'value', 'imp_size', 'exp_size', 'hs6']].copy()\n",
    "can_csb_merged_processed['pref_kode'] = can_csb_merged_processed['pref_kode'].apply(lambda x: 1 if x == 300 else 0)\n",
    "\n"
   ]
  },
  {
   "cell_type": "code",
   "execution_count": null,
   "metadata": {},
   "outputs": [],
   "source": []
  }
 ],
 "metadata": {
  "kernelspec": {
   "display_name": "venv",
   "language": "python",
   "name": "python3"
  },
  "language_info": {
   "codemirror_mode": {
    "name": "ipython",
    "version": 3
   },
   "file_extension": ".py",
   "mimetype": "text/x-python",
   "name": "python",
   "nbconvert_exporter": "python",
   "pygments_lexer": "ipython3",
   "version": "3.9.7"
  },
  "orig_nbformat": 4
 },
 "nbformat": 4,
 "nbformat_minor": 2
}
