{
 "cells": [
  {
   "cell_type": "code",
   "execution_count": 1,
   "metadata": {},
   "outputs": [
    {
     "data": {
      "text/html": [],
      "text/plain": [
       "<IPython.core.display.HTML object>"
      ]
     },
     "metadata": {},
     "output_type": "display_data"
    },
    {
     "name": "stdout",
     "output_type": "stream",
     "text": [
      "Dataset \"Iris Dataset\" loaded to the kernel as \u001b[92miris_dataset\u001b[0m\n",
      "Key Name                       Value Type     \n",
      "---------------------------------------------\n",
      "train_x                        PrivateDataFrame\n",
      "train_y                        PrivateDataFrame\n",
      "test_x                         DataFrame      \n",
      "\n",
      "Connected to Antigranular server session id: de38292e-7936-4889-8628-2d6d43606584, the session will time out if idle for 25 minutes\n",
      "Cell magic '%%ag' registered successfully, use `%%ag` in a notebook cell to execute your python code on Antigranular private python server\n",
      "🚀 Everything's set up and ready to roll!\n"
     ]
    }
   ],
   "source": [
    "import antigranular as ag\n",
    "session = ag.login(<client_id>,<client_secret>, dataset = \"Iris Dataset\")"
   ]
  },
  {
   "cell_type": "code",
   "execution_count": 2,
   "metadata": {},
   "outputs": [],
   "source": [
    "import pandas as pd\n",
    "import numpy as np\n",
    "\n",
    "'''\n",
    "Creating a randomised df for analysis\n",
    "containing the following columns:\n",
    "  gender: {'M', 'F'}\n",
    "  education: {'10th', '12th', 'graduate', 'post-graduate'}\n",
    "  age: (16, 60)\n",
    "  salary: (20000, 700000)\n",
    "'''\n",
    "import functools\n",
    "name = []\n",
    "\n",
    "for i in range(0, 10000):\n",
    "  val = np.random.randint(97, 97+26, 10)\n",
    "  val = [chr(x) for x in val]\n",
    "\n",
    "  name.append(functools.reduce(lambda x,y : x+y, val))\n",
    "\n",
    "gender = []\n",
    "for i in range(0, 10000):\n",
    "  gender.append('M' if np.random.randint(0, 2) == 0 else 'F')\n",
    "\n",
    "education = []\n",
    "\n",
    "for i in range(0, 10000):\n",
    "  var = np.random.randint(0, 4)\n",
    "  if var == 0:\n",
    "    education.append(\"10th\")\n",
    "  elif var == 1:\n",
    "    education.append(\"12th\")\n",
    "  elif var == 2:\n",
    "    education.append(\"graduate\")\n",
    "  else:\n",
    "    education.append(\"post-graduate\")\n",
    "\n",
    "df = pd.DataFrame({'name': name, 'gender': gender, 'education': education,\n",
    "                   'age': np.random.randint(16, 61, 10000), 'salary': np.random.randint(20000, 700000, 10000)})"
   ]
  },
  {
   "cell_type": "code",
   "execution_count": 3,
   "metadata": {},
   "outputs": [
    {
     "data": {
      "text/html": [
       "<div>\n",
       "<style scoped>\n",
       "    .dataframe tbody tr th:only-of-type {\n",
       "        vertical-align: middle;\n",
       "    }\n",
       "\n",
       "    .dataframe tbody tr th {\n",
       "        vertical-align: top;\n",
       "    }\n",
       "\n",
       "    .dataframe thead th {\n",
       "        text-align: right;\n",
       "    }\n",
       "</style>\n",
       "<table border=\"1\" class=\"dataframe\">\n",
       "  <thead>\n",
       "    <tr style=\"text-align: right;\">\n",
       "      <th></th>\n",
       "      <th>name</th>\n",
       "      <th>gender</th>\n",
       "      <th>education</th>\n",
       "      <th>age</th>\n",
       "      <th>salary</th>\n",
       "    </tr>\n",
       "  </thead>\n",
       "  <tbody>\n",
       "    <tr>\n",
       "      <th>0</th>\n",
       "      <td>jhqlkaxifw</td>\n",
       "      <td>M</td>\n",
       "      <td>graduate</td>\n",
       "      <td>37</td>\n",
       "      <td>672256</td>\n",
       "    </tr>\n",
       "    <tr>\n",
       "      <th>1</th>\n",
       "      <td>vkeutrutvt</td>\n",
       "      <td>M</td>\n",
       "      <td>post-graduate</td>\n",
       "      <td>38</td>\n",
       "      <td>447811</td>\n",
       "    </tr>\n",
       "    <tr>\n",
       "      <th>2</th>\n",
       "      <td>ysgwvmmxwj</td>\n",
       "      <td>F</td>\n",
       "      <td>12th</td>\n",
       "      <td>43</td>\n",
       "      <td>122024</td>\n",
       "    </tr>\n",
       "    <tr>\n",
       "      <th>3</th>\n",
       "      <td>ytnewltoer</td>\n",
       "      <td>M</td>\n",
       "      <td>graduate</td>\n",
       "      <td>28</td>\n",
       "      <td>251129</td>\n",
       "    </tr>\n",
       "    <tr>\n",
       "      <th>4</th>\n",
       "      <td>yrgoipjwcm</td>\n",
       "      <td>M</td>\n",
       "      <td>post-graduate</td>\n",
       "      <td>25</td>\n",
       "      <td>349643</td>\n",
       "    </tr>\n",
       "  </tbody>\n",
       "</table>\n",
       "</div>"
      ],
      "text/plain": [
       "         name gender      education  age  salary\n",
       "0  jhqlkaxifw      M       graduate   37  672256\n",
       "1  vkeutrutvt      M  post-graduate   38  447811\n",
       "2  ysgwvmmxwj      F           12th   43  122024\n",
       "3  ytnewltoer      M       graduate   28  251129\n",
       "4  yrgoipjwcm      M  post-graduate   25  349643"
      ]
     },
     "execution_count": 3,
     "metadata": {},
     "output_type": "execute_result"
    }
   ],
   "source": [
    "\n",
    "df.head()"
   ]
  },
  {
   "cell_type": "code",
   "execution_count": null,
   "metadata": {},
   "outputs": [],
   "source": [
    "session.private_import(data = df, name = \"df\")"
   ]
  },
  {
   "cell_type": "code",
   "execution_count": null,
   "metadata": {},
   "outputs": [],
   "source": [
    "%%ag\n",
    "ag_print(\"columns: \", pdf.columns)\n",
    "ag_print(\"metadata: \", pdf.metadata)\n",
    "ag_print(\"categorical_metadata: \",pdf.categorical_metadata)\n",
    "ag_print(\"dtypes:\\n \", pdf.dtypes)"
   ]
  },
  {
   "cell_type": "code",
   "execution_count": null,
   "metadata": {},
   "outputs": [],
   "source": [
    "%%ag\n",
    "ag_print(pdf.describe(eps = 0.1))"
   ]
  },
  {
   "cell_type": "code",
   "execution_count": null,
   "metadata": {},
   "outputs": [],
   "source": [
    "%%ag\n",
    "grouped_pdf = pdf.groupby(\"education\")\n",
    "\n",
    "ag_print(grouped_pdf[\"salary\"].mean(eps = 1))"
   ]
  },
  {
   "cell_type": "code",
   "execution_count": null,
   "metadata": {},
   "outputs": [],
   "source": [
    "%%ag\n",
    "import op_pandas\n",
    "pdf = op_pandas.PrivateDataFrame(df, metadata = {\"age\": (16, 60), \"salary\": (20000, 700000)}, categorical_metadata = {\"gender\": ['M', 'F'], \"education\": [\"10th\", \"12th\", \"graduate\", \"post-graduate\"]})"
   ]
  },
  {
   "cell_type": "code",
   "execution_count": null,
   "metadata": {},
   "outputs": [],
   "source": []
  },
  {
   "cell_type": "code",
   "execution_count": 4,
   "metadata": {},
   "outputs": [
    {
     "data": {
      "text/plain": [
       "{'status': 'ok'}"
      ]
     },
     "execution_count": 4,
     "metadata": {},
     "output_type": "execute_result"
    }
   ],
   "source": [
    "session.terminate_session()"
   ]
  },
  {
   "cell_type": "code",
   "execution_count": 7,
   "metadata": {},
   "outputs": [],
   "source": [
    "%%ag \n",
    "ir = iris_dataset['train_x']"
   ]
  },
  {
   "cell_type": "code",
   "execution_count": 8,
   "metadata": {},
   "outputs": [
    {
     "name": "stdout",
     "output_type": "stream",
     "text": [
      "{'sepal_length': (4.3, 7.9), 'sepal_width': (2, 4.4), 'petal_length': (1, 6.9), 'petal_width': (0.1, 2.5)}\n",
      "\n"
     ]
    }
   ],
   "source": [
    "%%ag\n",
    "ag_print(ir.metadata)"
   ]
  },
  {
   "cell_type": "code",
   "execution_count": 3,
   "metadata": {},
   "outputs": [
    {
     "name": "stdout",
     "output_type": "stream",
     "text": [
      "['patient_firstname', 'patient_lastname', 'patient_date_of_birth', 'patient_phone_number', 'patient_email_address', 'covidtest_date', 'covidtest_result', 'patient_address']\n",
      "\n"
     ]
    }
   ],
   "source": [
    "%%ag\n",
    "ag_print(health_organisation_dataset.columns)"
   ]
  },
  {
   "cell_type": "code",
   "execution_count": 9,
   "metadata": {},
   "outputs": [
    {
     "name": "stdout",
     "output_type": "stream",
     "text": [
      "       sepal_length  sepal_width  petal_length  petal_width\n",
      "count    131.000000   155.000000     59.000000   143.000000\n",
      "mean       7.900000     3.230465      5.030826     1.142772\n",
      "std        1.082105     0.902807      1.348858     0.738640\n",
      "min        4.300000     2.000000      1.000000     0.100000\n",
      "25%        5.151472     2.030761      4.773173     0.186862\n",
      "50%        6.103999     2.300626      5.824647     0.839610\n",
      "75%        7.412908     3.460677      6.540181     2.460837\n",
      "max        7.675273     4.310725      4.887440     2.446718\n",
      "\n"
     ]
    }
   ],
   "source": [
    "%%ag\n",
    "ag_print(ir.describe(eps=1))"
   ]
  },
  {
   "cell_type": "code",
   "execution_count": 3,
   "metadata": {},
   "outputs": [],
   "source": [
    "%%ag \n",
    "from ag_utils import load_dataset \n",
    "\n",
    "# Obtaining the dictionary containing private objects\n",
    "response = load_dataset(\"StatCan CBS merged\")\n",
    "\n",
    "# Unpacking the response dictionary\n",
    "train_x = response[\"train_x\"]\n",
    "train_y = response[\"train_y\"]\n",
    "test_x = response[\"test_x\"]"
   ]
  },
  {
   "cell_type": "code",
   "execution_count": 18,
   "metadata": {},
   "outputs": [
    {
     "name": "stdout",
     "output_type": "stream",
     "text": [
      "imp_id                int64\n",
      "hs6                   int64\n",
      "date         datetime64[ns]\n",
      "value                 int64\n",
      "imp_size             object\n",
      "exp_id                int64\n",
      "pref_kode             int64\n",
      "exp_size             object\n",
      "dtype: object\n",
      "\n"
     ]
    }
   ],
   "source": [
    "%%ag\n",
    "from ag_utils import ag_print\n",
    "ag_print(train_x.describe(e).dtypes)"
   ]
  },
  {
   "cell_type": "code",
   "execution_count": 49,
   "metadata": {},
   "outputs": [
    {
     "ename": "ValueError",
     "evalue": "setting an array element with a sequence. The requested array has an inhomogeneous shape after 1 dimensions. The detected shape was (2,) + inhomogeneous part.",
     "output_type": "error",
     "traceback": [
      "\u001b[1;31m---------------------------------------------------------------------------\u001b[0m",
      "\u001b[1;31mValueError\u001b[0m                                Traceback (most recent call last)",
      "\u001b[1;32m~\\AppData\\Local\\Temp\\ipykernel_14284\\1414014083.py\u001b[0m in \u001b[0;36m<cell line: 13>\u001b[1;34m()\u001b[0m\n\u001b[0;32m     11\u001b[0m \u001b[1;33m\u001b[0m\u001b[0m\n\u001b[0;32m     12\u001b[0m \u001b[1;31m# Scenario 3: Broadcasting in Comparisons\u001b[0m\u001b[1;33m\u001b[0m\u001b[1;33m\u001b[0m\u001b[0m\n\u001b[1;32m---> 13\u001b[1;33m \u001b[0marray3\u001b[0m \u001b[1;33m=\u001b[0m \u001b[0mnp\u001b[0m\u001b[1;33m.\u001b[0m\u001b[0marray\u001b[0m\u001b[1;33m(\u001b[0m\u001b[1;33m[\u001b[0m\u001b[1;33m[\u001b[0m\u001b[1;36m1\u001b[0m\u001b[1;33m,\u001b[0m \u001b[1;36m2\u001b[0m\u001b[1;33m,\u001b[0m \u001b[1;36m3\u001b[0m\u001b[1;33m]\u001b[0m\u001b[1;33m,\u001b[0m \u001b[1;33m[\u001b[0m\u001b[1;36m1\u001b[0m\u001b[1;33m,\u001b[0m \u001b[1;36m2\u001b[0m\u001b[1;33m]\u001b[0m\u001b[1;33m]\u001b[0m\u001b[1;33m)\u001b[0m\u001b[1;33m\u001b[0m\u001b[1;33m\u001b[0m\u001b[0m\n\u001b[0m\u001b[0;32m     14\u001b[0m \u001b[0mcomparison_broadcast\u001b[0m \u001b[1;33m=\u001b[0m \u001b[0marray3\u001b[0m \u001b[1;33m==\u001b[0m \u001b[0marray1\u001b[0m\u001b[1;33m\u001b[0m\u001b[1;33m\u001b[0m\u001b[0m\n\u001b[0;32m     15\u001b[0m \u001b[1;33m\u001b[0m\u001b[0m\n",
      "\u001b[1;31mValueError\u001b[0m: setting an array element with a sequence. The requested array has an inhomogeneous shape after 1 dimensions. The detected shape was (2,) + inhomogeneous part."
     ]
    }
   ],
   "source": [
    "import numpy as np\n",
    "\n",
    "# Scenario 1: Comparing Arrays of the Same Shape\n",
    "array1 = np.array([1, 2, 3])\n",
    "array2 = np.array([1, 4, 3])\n",
    "comparison_same_shape = array1 == array2\n",
    "\n",
    "# Scenario 2: Comparing an Array with a Scalar\n",
    "scalar = 2\n",
    "comparison_with_scalar = array1 == scalar\n",
    "\n",
    "# Scenario 3: Broadcasting in Comparisons\n",
    "array3 = np.array([[1, 2, 3], [1, 2, 3]])\n",
    "comparison_broadcast = array3 == array1\n",
    "\n",
    "# Scenario 4: Using np.all() and np.any() with Comparison\n",
    "all_equal = np.all(array1 == array2)\n",
    "any_equal = np.any(array1 == array2)\n",
    "\n",
    "# Scenario 5: Handling Floating Point Arrays\n",
    "array_float1 = np.array([1.0, 2.0, 3.0])\n",
    "array_float2 = np.array([1.0, 2.0001, 3.0])\n",
    "comparison_floating_point = np.isclose(array_float1, array_float2, atol=1e-3)\n",
    "\n",
    "comparison_same_shape, comparison_with_scalar, comparison_broadcast, all_equal, any_equal, comparison_floating_point\n",
    "\n"
   ]
  },
  {
   "cell_type": "code",
   "execution_count": 20,
   "metadata": {},
   "outputs": [],
   "source": [
    "%%ag\n",
    "test_x['date'] = test_x['date'].astype(str)\n"
   ]
  },
  {
   "cell_type": "code",
   "execution_count": 24,
   "metadata": {},
   "outputs": [],
   "source": [
    "%%ag\n",
    "\n",
    "from op_pandas import PrivateDataFrame\n",
    "\n",
    "can_csb_merged = PrivateDataFrame(test_x)"
   ]
  },
  {
   "cell_type": "code",
   "execution_count": 26,
   "metadata": {},
   "outputs": [
    {
     "name": "stdout",
     "output_type": "stream",
     "text": [
      "\u001b[0;31m---------------------------------------------------------------------------\u001b[0m\u001b[0;31mRuntimeError\u001b[0m                              Traceback (most recent call last)Cell \u001b[0;32mIn[25], line 1\u001b[0m\n",
      "\u001b[0;32m----> 1\u001b[0m can_csb_merged_processed \u001b[38;5;241m=\u001b[39m can_csb_merged[[\u001b[38;5;124m'\u001b[39m\u001b[38;5;124mpref_kode\u001b[39m\u001b[38;5;124m'\u001b[39m, \u001b[38;5;124m'\u001b[39m\u001b[38;5;124mvalue\u001b[39m\u001b[38;5;124m'\u001b[39m, \u001b[38;5;124m'\u001b[39m\u001b[38;5;124mimp_size\u001b[39m\u001b[38;5;124m'\u001b[39m, \u001b[38;5;124m'\u001b[39m\u001b[38;5;124mexp_size\u001b[39m\u001b[38;5;124m'\u001b[39m, \u001b[38;5;124m'\u001b[39m\u001b[38;5;124mhs6\u001b[39m\u001b[38;5;124m'\u001b[39m]]\u001b[38;5;241m.\u001b[39mcopy()\n",
      "\u001b[1;32m      2\u001b[0m can_csb_merged_processed[\u001b[38;5;124m'\u001b[39m\u001b[38;5;124mpref_kode\u001b[39m\u001b[38;5;124m'\u001b[39m] \u001b[38;5;241m=\u001b[39m can_csb_merged_processed[\u001b[38;5;124m'\u001b[39m\u001b[38;5;124mpref_kode\u001b[39m\u001b[38;5;124m'\u001b[39m]\u001b[38;5;241m.\u001b[39mapply(\u001b[38;5;28;01mlambda\u001b[39;00m x: \u001b[38;5;241m1\u001b[39m \u001b[38;5;28;01mif\u001b[39;00m x \u001b[38;5;241m==\u001b[39m \u001b[38;5;241m300\u001b[39m \u001b[38;5;28;01melse\u001b[39;00m \u001b[38;5;241m0\u001b[39m)\n",
      "File \u001b[0;32m/code/dependencies/ag_engine/ag_engine/restricted_python/custom_hooks.py:19\u001b[0m, in \u001b[0;36mCustomHooks.get_attribute\u001b[0;34m(self, obj, attr)\u001b[0m\n",
      "\u001b[1;32m     16\u001b[0m         \u001b[38;5;28;01mif\u001b[39;00m attr \u001b[38;5;129;01min\u001b[39;00m default_config\u001b[38;5;241m.\u001b[39mtype_methods[obj\u001b[38;5;241m.\u001b[39m\u001b[38;5;18m__class__\u001b[39m\u001b[38;5;241m.\u001b[39m\u001b[38;5;18m__name__\u001b[39m]:\n",
      "\u001b[1;32m     17\u001b[0m             \u001b[38;5;28;01mreturn\u001b[39;00m \u001b[38;5;28mgetattr\u001b[39m(obj, attr)\n",
      "\u001b[0;32m---> 19\u001b[0m \u001b[38;5;28;01mraise\u001b[39;00m \u001b[38;5;167;01mRuntimeError\u001b[39;00m(\u001b[38;5;124mf\u001b[39m\u001b[38;5;124m\"\u001b[39m\u001b[38;5;124mRestricted, \u001b[39m\u001b[38;5;132;01m{\u001b[39;00mattr\u001b[38;5;132;01m}\u001b[39;00m\u001b[38;5;124m is blocked on the applied object\u001b[39m\u001b[38;5;124m\"\u001b[39m)\n",
      "\u001b[0;31mRuntimeError\u001b[0m: Restricted, apply is blocked on the applied object\n"
     ]
    }
   ],
   "source": [
    "%%ag\n",
    "can_csb_merged_processed = can_csb_merged[['pref_kode', 'value', 'imp_size', 'exp_size', 'hs6']].copy()\n",
    "can_csb_merged_processed['pref_kode'] = can_csb_merged_processed['pref_kode'].apply(lambda x: 1 if x == 300 else 0)\n",
    "\n"
   ]
  },
  {
   "cell_type": "code",
   "execution_count": 2,
   "metadata": {},
   "outputs": [],
   "source": [
    "import pandas as pd\n"
   ]
  },
  {
   "cell_type": "code",
   "execution_count": 3,
   "metadata": {},
   "outputs": [],
   "source": [
    "x = pd.read_csv(\"C:\\\\Users\\\\bhasw\\\\Downloads\\\\Harvard\\\\flight\\\\test_y.csv\")"
   ]
  },
  {
   "cell_type": "code",
   "execution_count": 14,
   "metadata": {},
   "outputs": [
    {
     "data": {
      "text/html": [
       "<div>\n",
       "<style scoped>\n",
       "    .dataframe tbody tr th:only-of-type {\n",
       "        vertical-align: middle;\n",
       "    }\n",
       "\n",
       "    .dataframe tbody tr th {\n",
       "        vertical-align: top;\n",
       "    }\n",
       "\n",
       "    .dataframe thead th {\n",
       "        text-align: right;\n",
       "    }\n",
       "</style>\n",
       "<table border=\"1\" class=\"dataframe\">\n",
       "  <thead>\n",
       "    <tr style=\"text-align: right;\">\n",
       "      <th></th>\n",
       "      <th>Unnamed: 0</th>\n",
       "      <th>flight_number</th>\n",
       "      <th>need_to_inform</th>\n",
       "    </tr>\n",
       "  </thead>\n",
       "  <tbody>\n",
       "    <tr>\n",
       "      <th>1</th>\n",
       "      <td>1</td>\n",
       "      <td>BRA-CHI-0003</td>\n",
       "      <td>0</td>\n",
       "    </tr>\n",
       "    <tr>\n",
       "      <th>2</th>\n",
       "      <td>2</td>\n",
       "      <td>BRA-CHI-0004</td>\n",
       "      <td>0</td>\n",
       "    </tr>\n",
       "    <tr>\n",
       "      <th>3</th>\n",
       "      <td>3</td>\n",
       "      <td>BRA-CHI-0005</td>\n",
       "      <td>1</td>\n",
       "    </tr>\n",
       "    <tr>\n",
       "      <th>4</th>\n",
       "      <td>4</td>\n",
       "      <td>BRA-CHI-0006</td>\n",
       "      <td>1</td>\n",
       "    </tr>\n",
       "    <tr>\n",
       "      <th>5</th>\n",
       "      <td>5</td>\n",
       "      <td>BRA-CHI-0007</td>\n",
       "      <td>0</td>\n",
       "    </tr>\n",
       "    <tr>\n",
       "      <th>...</th>\n",
       "      <td>...</td>\n",
       "      <td>...</td>\n",
       "      <td>...</td>\n",
       "    </tr>\n",
       "    <tr>\n",
       "      <th>2701</th>\n",
       "      <td>2701</td>\n",
       "      <td>TOK-SYD-0022</td>\n",
       "      <td>0</td>\n",
       "    </tr>\n",
       "    <tr>\n",
       "      <th>2702</th>\n",
       "      <td>2702</td>\n",
       "      <td>TOK-SYD-0023</td>\n",
       "      <td>0</td>\n",
       "    </tr>\n",
       "    <tr>\n",
       "      <th>2703</th>\n",
       "      <td>2703</td>\n",
       "      <td>TOK-SYD-0027</td>\n",
       "      <td>0</td>\n",
       "    </tr>\n",
       "    <tr>\n",
       "      <th>2704</th>\n",
       "      <td>2704</td>\n",
       "      <td>TOK-SYD-0028</td>\n",
       "      <td>0</td>\n",
       "    </tr>\n",
       "    <tr>\n",
       "      <th>2705</th>\n",
       "      <td>2705</td>\n",
       "      <td>TOK-SYD-0029</td>\n",
       "      <td>0</td>\n",
       "    </tr>\n",
       "  </tbody>\n",
       "</table>\n",
       "<p>2705 rows × 3 columns</p>\n",
       "</div>"
      ],
      "text/plain": [
       "      Unnamed: 0 flight_number  need_to_inform\n",
       "1              1  BRA-CHI-0003               0\n",
       "2              2  BRA-CHI-0004               0\n",
       "3              3  BRA-CHI-0005               1\n",
       "4              4  BRA-CHI-0006               1\n",
       "5              5  BRA-CHI-0007               0\n",
       "...          ...           ...             ...\n",
       "2701        2701  TOK-SYD-0022               0\n",
       "2702        2702  TOK-SYD-0023               0\n",
       "2703        2703  TOK-SYD-0027               0\n",
       "2704        2704  TOK-SYD-0028               0\n",
       "2705        2705  TOK-SYD-0029               0\n",
       "\n",
       "[2705 rows x 3 columns]"
      ]
     },
     "execution_count": 14,
     "metadata": {},
     "output_type": "execute_result"
    }
   ],
   "source": [
    "x.drop(0)"
   ]
  },
  {
   "cell_type": "code",
   "execution_count": 4,
   "metadata": {},
   "outputs": [
    {
     "data": {
      "text/html": [
       "<div>\n",
       "<style scoped>\n",
       "    .dataframe tbody tr th:only-of-type {\n",
       "        vertical-align: middle;\n",
       "    }\n",
       "\n",
       "    .dataframe tbody tr th {\n",
       "        vertical-align: top;\n",
       "    }\n",
       "\n",
       "    .dataframe thead th {\n",
       "        text-align: right;\n",
       "    }\n",
       "</style>\n",
       "<table border=\"1\" class=\"dataframe\">\n",
       "  <thead>\n",
       "    <tr style=\"text-align: right;\">\n",
       "      <th></th>\n",
       "      <th>flight_number</th>\n",
       "      <th>need_to_inform</th>\n",
       "    </tr>\n",
       "  </thead>\n",
       "  <tbody>\n",
       "    <tr>\n",
       "      <th>0</th>\n",
       "      <td>BRA-CHI-0002</td>\n",
       "      <td>0</td>\n",
       "    </tr>\n",
       "    <tr>\n",
       "      <th>1</th>\n",
       "      <td>BRA-CHI-0003</td>\n",
       "      <td>0</td>\n",
       "    </tr>\n",
       "    <tr>\n",
       "      <th>2</th>\n",
       "      <td>BRA-CHI-0004</td>\n",
       "      <td>0</td>\n",
       "    </tr>\n",
       "    <tr>\n",
       "      <th>3</th>\n",
       "      <td>BRA-CHI-0005</td>\n",
       "      <td>1</td>\n",
       "    </tr>\n",
       "    <tr>\n",
       "      <th>4</th>\n",
       "      <td>BRA-CHI-0006</td>\n",
       "      <td>1</td>\n",
       "    </tr>\n",
       "    <tr>\n",
       "      <th>...</th>\n",
       "      <td>...</td>\n",
       "      <td>...</td>\n",
       "    </tr>\n",
       "    <tr>\n",
       "      <th>2701</th>\n",
       "      <td>TOK-SYD-0022</td>\n",
       "      <td>0</td>\n",
       "    </tr>\n",
       "    <tr>\n",
       "      <th>2702</th>\n",
       "      <td>TOK-SYD-0023</td>\n",
       "      <td>0</td>\n",
       "    </tr>\n",
       "    <tr>\n",
       "      <th>2703</th>\n",
       "      <td>TOK-SYD-0027</td>\n",
       "      <td>0</td>\n",
       "    </tr>\n",
       "    <tr>\n",
       "      <th>2704</th>\n",
       "      <td>TOK-SYD-0028</td>\n",
       "      <td>0</td>\n",
       "    </tr>\n",
       "    <tr>\n",
       "      <th>2705</th>\n",
       "      <td>TOK-SYD-0029</td>\n",
       "      <td>0</td>\n",
       "    </tr>\n",
       "  </tbody>\n",
       "</table>\n",
       "<p>2706 rows × 2 columns</p>\n",
       "</div>"
      ],
      "text/plain": [
       "     flight_number  need_to_inform\n",
       "0     BRA-CHI-0002               0\n",
       "1     BRA-CHI-0003               0\n",
       "2     BRA-CHI-0004               0\n",
       "3     BRA-CHI-0005               1\n",
       "4     BRA-CHI-0006               1\n",
       "...            ...             ...\n",
       "2701  TOK-SYD-0022               0\n",
       "2702  TOK-SYD-0023               0\n",
       "2703  TOK-SYD-0027               0\n",
       "2704  TOK-SYD-0028               0\n",
       "2705  TOK-SYD-0029               0\n",
       "\n",
       "[2706 rows x 2 columns]"
      ]
     },
     "execution_count": 4,
     "metadata": {},
     "output_type": "execute_result"
    }
   ],
   "source": [
    "x"
   ]
  },
  {
   "cell_type": "code",
   "execution_count": null,
   "metadata": {},
   "outputs": [],
   "source": []
  }
 ],
 "metadata": {
  "kernelspec": {
   "display_name": "venv",
   "language": "python",
   "name": "python3"
  },
  "language_info": {
   "codemirror_mode": {
    "name": "ipython",
    "version": 3
   },
   "file_extension": ".py",
   "mimetype": "text/x-python",
   "name": "python",
   "nbconvert_exporter": "python",
   "pygments_lexer": "ipython3",
   "version": "3.9.7"
  },
  "orig_nbformat": 4
 },
 "nbformat": 4,
 "nbformat_minor": 2
}
