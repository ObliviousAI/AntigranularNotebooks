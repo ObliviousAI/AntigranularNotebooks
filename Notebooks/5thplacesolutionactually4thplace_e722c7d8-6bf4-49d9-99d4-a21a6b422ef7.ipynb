{
  "cells": [
    {
      "cell_type": "markdown",
      "metadata": {
        "id": "5az73vDZvCWg"
      },
      "source": [
        "# 📊 **Antigranular** Heart Disease Prediction Contest (ft. **Harvard/OpenDP** and **TPDP**)\n",
        "\n",
        "🎉 Welcome to a new [Antigranular](https://antigranular.com) contest in collaboration with the [TPDP Workshop](https://tpdp.journalprivacyconfidentiality.org/2024/) and [Harvard's OpenDP Community Meeting](https://opendp.org/)!\n",
        "\n",
        "🩺 This time, we are focusing on [heart condition detection](https://en.wikipedia.org/wiki/Cardiovascular_disease) using our new [TensorFlow Privacy](https://github.com/tensorflow/privacy) and [Opacus (PyTorch)](https://opacus.ai/) models!\n",
        "\n",
        "🦜 Any questions? Head over to our [Discord](https://discord.com/invite/KJwApgXs4s)!\n",
        "\n"
      ]
    },
    {
      "cell_type": "markdown",
      "metadata": {
        "id": "BZ1S_Qc0v5hL"
      },
      "source": [
        "## 🏃‍♂️ Getting Started\n",
        "\n",
        "In this section we will download the antigranular package and login\n",
        "\n",
        "\n"
      ]
    },
    {
      "cell_type": "markdown",
      "metadata": {
        "id": "6_ISjJv_eppS"
      },
      "source": [
        "### 📦 Install Antigranular\n",
        "\n",
        "This command installs the [Antigranular PyPI Package](https://pypi.org/project/antigranular/) on the local enviroment.\n"
      ]
    },
    {
      "cell_type": "code",
      "execution_count": 63,
      "metadata": {
        "id": "5uFCyt-Puq4K"
      },
      "outputs": [],
      "source": [
        "# Install the Antigranular package\n",
        "!pip install antigranular &> /dev/null"
      ]
    },
    {
      "cell_type": "markdown",
      "metadata": {
        "id": "v7jLQa6Uehks"
      },
      "source": [
        "### ✍ Login to the Enclave\n",
        "\n",
        "Head over to [Competitions](https://www.antigranular.com/competitions) to find your `<user_id>`, `<user_secret>` and the competition's name and copy that command here.\n",
        "\n",
        "![img](https://docs.antigranular.com/shots/comp_cell.png)"
      ]
    },
    {
      "cell_type": "code",
      "execution_count": 64,
      "metadata": {
        "colab": {
          "base_uri": "https://localhost:8080/",
          "height": 191
        },
        "id": "w_JcMMSMv_Ze",
        "outputId": "f150fa15-e33b-402e-f774-533e0a9fe191"
      },
      "outputs": [
        {
          "data": {
            "text/html": [],
            "text/plain": [
              "<IPython.core.display.HTML object>"
            ]
          },
          "metadata": {},
          "output_type": "display_data"
        },
        {
          "name": "stdout",
          "output_type": "stream",
          "text": [
            "Dataset \"Heart Disease Prediction Hackathon Dataset\" loaded to the kernel as \u001b[92mheart_disease_prediction_hackathon_dataset\u001b[0m\n",
            "Key Name                       Value Type     \n",
            "---------------------------------------------\n",
            "train_y                        PrivateDataFrame\n",
            "train_x                        PrivateDataFrame\n",
            "test_x                         DataFrame      \n",
            "\n",
            "Connected to Antigranular server session id: e722c7d8-6bf4-49d9-99d4-a21a6b422ef7, the session will time out if idle for 25 minutes\n",
            "Cell magic '%%ag' registered successfully, use `%%ag` in a notebook cell to execute your python code on Antigranular private python server\n",
            "🚀 Everything's set up and ready to roll!\n"
          ]
        }
      ],
      "source": [
        "import antigranular as ag\n",
        "session = ag.login(<client_id>,<client_secret>, competition = \"Heart Disease Prediction Hackathon\")"
      ]
    },
    {
      "cell_type": "markdown",
      "metadata": {
        "id": "Jeg6W7fPNHhS"
      },
      "source": [
        "### 🤖 Using AG\n",
        "\n",
        "You can now simply use ``%%ag`` to run code on an enclave! You can always head over to our [Docs](https://docs.antigranular.com/) to learn more about AG, but for now, we can define train and test variables as follows."
      ]
    },
    {
      "cell_type": "code",
      "execution_count": 65,
      "metadata": {
        "id": "8IHVwjFKk2Ys"
      },
      "outputs": [],
      "source": [
        "%%ag\n",
        "x_train = heart_disease_prediction_hackathon_dataset[\"train_x\"]\n",
        "y_train = heart_disease_prediction_hackathon_dataset[\"train_y\"]\n",
        "x_test = heart_disease_prediction_hackathon_dataset[\"test_x\"]"
      ]
    },
    {
      "cell_type": "markdown",
      "metadata": {
        "id": "4oMW3Eh8RDl4"
      },
      "source": [
        "### 🕵️‍♂️ Exploring data\n",
        "\n",
        "Exploring data in Antigranular involves spending your epsilon budget, be mindful of your usage but remember that the less epsilon you use, the less accurate your results will get!"
      ]
    },
    {
      "cell_type": "code",
      "execution_count": 66,
      "metadata": {
        "colab": {
          "base_uri": "https://localhost:8080/"
        },
        "id": "PMiVe3n_t4um",
        "outputId": "c3a688a2-9292-4309-a509-114439eb5212"
      },
      "outputs": [
        {
          "name": "stdout",
          "output_type": "stream",
          "text": [
            "+----+----------+-------------+---------------+---------+------------+\n",
            "|    | Column   | numerical   | categorical   | dtype   | bounds     |\n",
            "|----+----------+-------------+---------------+---------+------------|\n",
            "|  0 | age      | True        | False         | int64   | (21, 86)   |\n",
            "|  1 | sex      | True        | False         | int64   | (0, 1)     |\n",
            "|  2 | bp       | True        | False         | int64   | (80, 215)  |\n",
            "|  3 | ch       | True        | False         | int64   | (102, 597) |\n",
            "|  4 | bs       | True        | False         | int64   | (67, 157)  |\n",
            "|  5 | phr      | True        | False         | int64   | (62, 222)  |\n",
            "+----+----------+-------------+---------------+---------+------------+\n",
            "\n"
          ]
        }
      ],
      "source": [
        "%%ag\n",
        "x_train.info()"
      ]
    },
    {
      "cell_type": "code",
      "execution_count": 67,
      "metadata": {
        "colab": {
          "base_uri": "https://localhost:8080/"
        },
        "id": "iG3HnW1Ut8X2",
        "outputId": "c60c8807-8e64-405b-84b8-80e4a8696078"
      },
      "outputs": [
        {
          "name": "stdout",
          "output_type": "stream",
          "text": [
            "+----+-----------+-------------+---------------+---------+----------+\n",
            "|    | Column    | numerical   | categorical   | dtype   | bounds   |\n",
            "|----+-----------+-------------+---------------+---------+----------|\n",
            "|  0 | condition | True        | False         | int64   | (0, 1)   |\n",
            "+----+-----------+-------------+---------------+---------+----------+\n",
            "\n"
          ]
        }
      ],
      "source": [
        "%%ag\n",
        "y_train.info()"
      ]
    },
    {
      "cell_type": "code",
      "execution_count": 68,
      "metadata": {
        "colab": {
          "base_uri": "https://localhost:8080/"
        },
        "id": "4QNyLhdXmYs5",
        "outputId": "4feaa1a4-3a23-4a5c-cb39-14874d340531"
      },
      "outputs": [
        {
          "name": "stdout",
          "output_type": "stream",
          "text": [
            "               age          sex  ...           bs          phr\n",
            "count  7884.000000  7996.000000  ...  8827.000000  8487.000000\n",
            "mean     52.870034     0.692559  ...   101.046748   136.386258\n",
            "std      17.204366     0.318314  ...    13.329600    23.495245\n",
            "min      21.000000     0.000000  ...    67.000000    62.000000\n",
            "25%      50.039966     0.000758  ...    99.475241    80.854830\n",
            "50%      57.084218     0.996751  ...    86.512725   142.780217\n",
            "75%      63.323252     0.998985  ...   127.916433   175.422090\n",
            "max      79.148852     0.996507  ...   149.999901   207.072679\n",
            "\n",
            "[8 rows x 6 columns]\n",
            "\n"
          ]
        }
      ],
      "source": [
        "%%ag\n",
        "# We can start by exploring the data, carefully using our epsilon\n",
        "describe = x_train.describe(eps=0.1)\n",
        "ag_print(describe)"
      ]
    },
    {
      "cell_type": "code",
      "execution_count": 69,
      "metadata": {
        "colab": {
          "base_uri": "https://localhost:8080/"
        },
        "id": "GJ4MX9Ghs2z6",
        "outputId": "885bf5e4-061f-427b-eb69-deac9490f15c"
      },
      "outputs": [
        {
          "name": "stdout",
          "output_type": "stream",
          "text": [
            "         condition\n",
            "count  8093.000000\n",
            "mean      0.523698\n",
            "std       0.401498\n",
            "min       0.000000\n",
            "25%       0.010079\n",
            "50%       0.988495\n",
            "75%       0.972839\n",
            "max       0.982828\n",
            "\n"
          ]
        }
      ],
      "source": [
        "%%ag\n",
        "# We can start by exploring the data, carefully using our epsilon\n",
        "describe = y_train.describe(eps=0.1)\n",
        "ag_print(describe)"
      ]
    },
    {
      "cell_type": "code",
      "execution_count": 70,
      "metadata": {
        "colab": {
          "base_uri": "https://localhost:8080/"
        },
        "id": "OymOmMhqmzpK",
        "outputId": "55c2411d-2ea7-4b4c-e145-c9910dcc52c0"
      },
      "outputs": [
        {
          "name": "stdout",
          "output_type": "stream",
          "text": [
            "      age  sex   bp   ch   bs  phr\n",
            "0      71    1  128  326   95  117\n",
            "1      61    1  153  270   98  123\n",
            "2      59    1  113  236  106  181\n",
            "3      69    0  109  151  109  108\n",
            "4      55    0  137  235  101  150\n",
            "...   ...  ...  ...  ...  ...  ...\n",
            "1995   60    1  128  261  112  143\n",
            "1996   50    1  143  216   94  100\n",
            "1997   64    1  120  172   87  142\n",
            "1998   56    1  158  294   82  144\n",
            "1999   69    0  117  559  112  157\n",
            "\n",
            "[2000 rows x 6 columns]\n",
            "\n"
          ]
        }
      ],
      "source": [
        "%%ag\n",
        "# x_test is a public test set, so we can print it without using epsilon\n",
        "ag_print(x_test)"
      ]
    },
    {
      "cell_type": "markdown",
      "metadata": {
        "id": "KARrFlm5pOB6"
      },
      "source": [
        "### 🎈 A quick solution\n",
        "\n",
        "In this section we evaluate an editorial solution in AG using TensorFlow!"
      ]
    },
    {
      "cell_type": "code",
      "execution_count": 71,
      "metadata": {
        "colab": {
          "base_uri": "https://localhost:8080/"
        },
        "id": "QVMog5sFunqk",
        "outputId": "8dd399e9-5741-402f-8f5f-f27c663c2201"
      },
      "outputs": [
        {
          "name": "stderr",
          "output_type": "stream",
          "text": [
            "/usr/local/lib/python3.10/site-packages/tensorflow_probability/python/__init__.py:57: DeprecationWarning: distutils Version classes are deprecated. Use packaging.version instead.\n",
            "  if (distutils.version.LooseVersion(tf.__version__) <\n",
            "/usr/local/lib/python3.10/site-packages/tensorflow_probability/python/__init__.py:58: DeprecationWarning: distutils Version classes are deprecated. Use packaging.version instead.\n",
            "  distutils.version.LooseVersion(required_tensorflow_version)):\n",
            "\n"
          ]
        }
      ],
      "source": [
        "%%ag\n",
        "import tensorflow as tf\n",
        "from op_pandas import standard_scaler, PrivateDataFrame\n",
        "from tensorflow.keras.models import Sequential\n",
        "from tensorflow.keras.layers import Dense, Dropout\n",
        "from op_tensorflow import PrivateKerasModel, PrivateDataLoader\n",
        "\n",
        "\n",
        "# Normal keras model\n",
        "seqM = Sequential([\n",
        "    Dense(128, activation='relu', input_shape=(6,)),\n",
        "    Dropout(0.3),\n",
        "    Dense(128, activation='relu'),\n",
        "    Dropout(0.3),\n",
        "    Dense(128, activation='relu'),\n",
        "    Dropout(0.3),\n",
        "    Dense(128, activation='relu'),\n",
        "    Dropout(0.3),\n",
        "    Dense(128, activation='relu'),\n",
        "    Dropout(0.3),\n",
        "    Dense(128, activation='relu'),\n",
        "    Dropout(0.3),\n",
        "    Dense(64, activation='relu'),\n",
        "    Dropout(0.3),\n",
        "    Dense(32, activation='relu'),\n",
        "    Dropout(0.3),\n",
        "    Dense(16, activation='relu'),\n",
        "    Dropout(0.3),\n",
        "    Dense(1, activation='sigmoid')\n",
        "])\n",
        "\n",
        "# Create DP keras model\n",
        "dp_model = PrivateKerasModel(model=seqM, l2_norm_clip=1, noise_multiplier=0.2)\n",
        "\n",
        "# Use a standard (non-DP) optimizer directly from keras.\n",
        "optimizer = tf.keras.optimizers.Adam(learning_rate=0.001)\n",
        "\n",
        "# PrivateKerasModel uses similar API as standard Keras\n",
        "dp_model.compile(\n",
        "\toptimizer = optimizer,\n",
        "\tloss = 'binary_crossentropy',\n",
        "\tmetrics = [\"accuracy\"]\n",
        ")"
      ]
    },
    {
      "cell_type": "code",
      "execution_count": 72,
      "metadata": {
        "colab": {
          "base_uri": "https://localhost:8080/"
        },
        "id": "CtZnkEIGu4Oy",
        "outputId": "dcbdb228-21b6-4da2-d3c7-4b9f80c62f6f"
      },
      "outputs": [
        {
          "name": "stdout",
          "output_type": "stream",
          "text": [
            "+----+----------+-------------+---------------+---------+------------------------------------------+\n",
            "|    | Column   | numerical   | categorical   | dtype   | bounds                                   |\n",
            "|----+----------+-------------+---------------+---------+------------------------------------------|\n",
            "|  0 | age      | True        | False         | float64 | (-3.545866308097974, 3.2749010585300433) |\n",
            "|  1 | sex      | True        | False         | float64 | (-1.4218549858295675,                    |\n",
            "|    |          |             |               |         | 0.7003866601290992)                      |\n",
            "|  2 | bp       | True        | False         | float64 | (-2.9457633272833066, 4.694860585906799) |\n",
            "|  3 | ch       | True        | False         | float64 | (-2.21494939824283, 5.375164119718769)   |\n",
            "|  4 | bs       | True        | False         | float64 | (-2.2067474065806176,                    |\n",
            "|    |          |             |               |         | 3.3586316669552514)                      |\n",
            "|  5 | phr      | True        | False         | float64 | (-4.019639006990344, 3.400258377845265)  |\n",
            "+----+----------+-------------+---------------+---------+------------------------------------------+\n",
            "\n"
          ]
        }
      ],
      "source": [
        "%%ag\n",
        "x_train_scaled = standard_scaler(x_train, eps=.9)\n",
        "x_train_scaled.info()"
      ]
    },
    {
      "cell_type": "code",
      "execution_count": 73,
      "metadata": {
        "id": "-IRE6nbYvcw7"
      },
      "outputs": [],
      "source": [
        "%%ag\n",
        "data_loader = PrivateDataLoader(feature_df=x_train_scaled , label_df=y_train, batch_size=256)"
      ]
    },
    {
      "cell_type": "code",
      "execution_count": 74,
      "metadata": {
        "colab": {
          "base_uri": "https://localhost:8080/"
        },
        "id": "BkYeXE1nv0EL",
        "outputId": "6413679c-2e12-458b-9272-e4dbb169e0de"
      },
      "outputs": [
        {
          "name": "stdout",
          "output_type": "stream",
          "text": [
            "Epoch 1/100\n",
            "\n",
            "32/32 - 10s - loss: 0.6919 - accuracy: 0.5350 - 10s/epoch - 322ms/step\n",
            "\n",
            "Epoch 2/100\n",
            "\n",
            "32/32 - 2s - loss: 0.6497 - accuracy: 0.6420 - 2s/epoch - 72ms/step\n",
            "\n",
            "Epoch 3/100\n",
            "\n",
            "32/32 - 2s - loss: 0.5757 - accuracy: 0.7094 - 2s/epoch - 72ms/step\n",
            "\n",
            "Epoch 4/100\n",
            "\n",
            "32/32 - 2s - loss: 0.5489 - accuracy: 0.7223 - 2s/epoch - 66ms/step\n",
            "\n",
            "Epoch 5/100\n",
            "\n",
            "32/32 - 2s - loss: 0.5250 - accuracy: 0.7495 - 2s/epoch - 69ms/step\n",
            "\n",
            "Epoch 6/100\n",
            "\n",
            "32/32 - 2s - loss: 0.4987 - accuracy: 0.7536 - 2s/epoch - 66ms/step\n",
            "\n",
            "Epoch 7/100\n",
            "\n",
            "32/32 - 2s - loss: 0.4854 - accuracy: 0.7626 - 2s/epoch - 69ms/step\n",
            "\n",
            "Epoch 8/100\n",
            "\n",
            "32/32 - 2s - loss: 0.4758 - accuracy: 0.7710 - 2s/epoch - 69ms/step\n",
            "\n",
            "Epoch 9/100\n",
            "\n",
            "32/32 - 2s - loss: 0.4763 - accuracy: 0.7731 - 2s/epoch - 68ms/step\n",
            "\n",
            "Epoch 10/100\n",
            "\n",
            "32/32 - 2s - loss: 0.4482 - accuracy: 0.7830 - 2s/epoch - 62ms/step\n",
            "\n",
            "Epoch 11/100\n",
            "\n",
            "32/32 - 2s - loss: 0.4306 - accuracy: 0.7962 - 2s/epoch - 66ms/step\n",
            "\n",
            "Epoch 12/100\n",
            "\n",
            "32/32 - 2s - loss: 0.4240 - accuracy: 0.8019 - 2s/epoch - 63ms/step\n",
            "\n",
            "Epoch 13/100\n",
            "\n",
            "32/32 - 2s - loss: 0.4181 - accuracy: 0.8047 - 2s/epoch - 66ms/step\n",
            "\n",
            "Epoch 14/100\n",
            "\n",
            "32/32 - 2s - loss: 0.4054 - accuracy: 0.8149 - 2s/epoch - 63ms/step\n",
            "\n",
            "Epoch 15/100\n",
            "\n",
            "32/32 - 2s - loss: 0.4038 - accuracy: 0.8142 - 2s/epoch - 66ms/step\n",
            "\n",
            "Epoch 16/100\n",
            "\n",
            "32/32 - 2s - loss: 0.3845 - accuracy: 0.8261 - 2s/epoch - 68ms/step\n",
            "\n",
            "Epoch 17/100\n",
            "\n",
            "32/32 - 2s - loss: 0.3730 - accuracy: 0.8293 - 2s/epoch - 66ms/step\n",
            "\n",
            "Epoch 18/100\n",
            "\n",
            "32/32 - 2s - loss: 0.3719 - accuracy: 0.8335 - 2s/epoch - 66ms/step\n",
            "\n",
            "Epoch 19/100\n",
            "\n",
            "32/32 - 2s - loss: 0.3474 - accuracy: 0.8460 - 2s/epoch - 66ms/step\n",
            "\n",
            "Epoch 20/100\n",
            "\n",
            "32/32 - 2s - loss: 0.3415 - accuracy: 0.8446 - 2s/epoch - 66ms/step\n",
            "\n",
            "Epoch 21/100\n",
            "\n",
            "32/32 - 2s - loss: 0.3327 - accuracy: 0.8535 - 2s/epoch - 68ms/step\n",
            "\n",
            "Epoch 22/100\n",
            "\n",
            "32/32 - 2s - loss: 0.3177 - accuracy: 0.8627 - 2s/epoch - 68ms/step\n",
            "\n",
            "Epoch 23/100\n",
            "\n",
            "32/32 - 2s - loss: 0.3198 - accuracy: 0.8604 - 2s/epoch - 66ms/step\n",
            "\n",
            "Epoch 24/100\n",
            "\n",
            "32/32 - 2s - loss: 0.3253 - accuracy: 0.8594 - 2s/epoch - 65ms/step\n",
            "\n",
            "Epoch 25/100\n",
            "\n",
            "32/32 - 2s - loss: 0.3025 - accuracy: 0.8712 - 2s/epoch - 69ms/step\n",
            "\n",
            "Epoch 26/100\n",
            "\n",
            "32/32 - 2s - loss: 0.2985 - accuracy: 0.8711 - 2s/epoch - 65ms/step\n",
            "\n",
            "Epoch 27/100\n",
            "\n",
            "32/32 - 2s - loss: 0.2900 - accuracy: 0.8754 - 2s/epoch - 66ms/step\n",
            "\n",
            "Epoch 28/100\n",
            "\n",
            "32/32 - 2s - loss: 0.2786 - accuracy: 0.8837 - 2s/epoch - 66ms/step\n",
            "\n",
            "Epoch 29/100\n",
            "\n",
            "32/32 - 2s - loss: 0.2812 - accuracy: 0.8804 - 2s/epoch - 66ms/step\n",
            "\n",
            "Epoch 30/100\n",
            "\n",
            "32/32 - 2s - loss: 0.2756 - accuracy: 0.8848 - 2s/epoch - 66ms/step\n",
            "\n",
            "Epoch 31/100\n",
            "\n",
            "32/32 - 2s - loss: 0.2570 - accuracy: 0.8964 - 2s/epoch - 66ms/step\n",
            "\n",
            "Epoch 32/100\n",
            "\n",
            "32/32 - 2s - loss: 0.2624 - accuracy: 0.8928 - 2s/epoch - 68ms/step\n",
            "\n",
            "Epoch 33/100\n",
            "\n",
            "32/32 - 2s - loss: 0.2593 - accuracy: 0.8914 - 2s/epoch - 66ms/step\n",
            "\n",
            "Epoch 34/100\n",
            "\n",
            "32/32 - 2s - loss: 0.2495 - accuracy: 0.8978 - 2s/epoch - 63ms/step\n",
            "\n",
            "Epoch 35/100\n",
            "\n",
            "32/32 - 2s - loss: 0.2391 - accuracy: 0.9032 - 2s/epoch - 66ms/step\n",
            "\n",
            "Epoch 36/100\n",
            "\n",
            "32/32 - 2s - loss: 0.2462 - accuracy: 0.9019 - 2s/epoch - 65ms/step\n",
            "\n",
            "Epoch 37/100\n",
            "\n",
            "32/32 - 2s - loss: 0.2269 - accuracy: 0.9100 - 2s/epoch - 59ms/step\n",
            "\n",
            "Epoch 38/100\n",
            "\n",
            "32/32 - 2s - loss: 0.2298 - accuracy: 0.9051 - 2s/epoch - 59ms/step\n",
            "\n",
            "Epoch 39/100\n",
            "\n",
            "32/32 - 2s - loss: 0.2224 - accuracy: 0.9085 - 2s/epoch - 59ms/step\n",
            "\n",
            "Epoch 40/100\n",
            "\n",
            "32/32 - 2s - loss: 0.2267 - accuracy: 0.9095 - 2s/epoch - 59ms/step\n",
            "\n",
            "Epoch 41/100\n",
            "\n",
            "32/32 - 2s - loss: 0.2228 - accuracy: 0.9104 - 2s/epoch - 59ms/step\n",
            "\n",
            "Epoch 42/100\n",
            "\n",
            "32/32 - 2s - loss: 0.2179 - accuracy: 0.9102 - 2s/epoch - 59ms/step\n",
            "\n",
            "Epoch 43/100\n",
            "\n",
            "32/32 - 2s - loss: 0.2119 - accuracy: 0.9144 - 2s/epoch - 59ms/step\n",
            "\n",
            "Epoch 44/100\n",
            "\n",
            "32/32 - 2s - loss: 0.2310 - accuracy: 0.9050 - 2s/epoch - 62ms/step\n",
            "\n",
            "Epoch 45/100\n",
            "\n",
            "32/32 - 2s - loss: 0.2161 - accuracy: 0.9178 - 2s/epoch - 59ms/step\n",
            "\n",
            "Epoch 46/100\n",
            "\n",
            "32/32 - 2s - loss: 0.2056 - accuracy: 0.9175 - 2s/epoch - 62ms/step\n",
            "\n",
            "Epoch 47/100\n",
            "\n",
            "32/32 - 2s - loss: 0.1998 - accuracy: 0.9217 - 2s/epoch - 59ms/step\n",
            "\n",
            "Epoch 48/100\n",
            "\n",
            "32/32 - 2s - loss: 0.2058 - accuracy: 0.9192 - 2s/epoch - 59ms/step\n",
            "\n",
            "Epoch 49/100\n",
            "\n",
            "32/32 - 2s - loss: 0.1984 - accuracy: 0.9215 - 2s/epoch - 62ms/step\n",
            "\n",
            "Epoch 50/100\n",
            "\n",
            "32/32 - 2s - loss: 0.2040 - accuracy: 0.9176 - 2s/epoch - 62ms/step\n",
            "\n",
            "Epoch 51/100\n",
            "\n",
            "32/32 - 2s - loss: 0.1993 - accuracy: 0.9223 - 2s/epoch - 62ms/step\n",
            "\n",
            "Epoch 52/100\n",
            "\n",
            "32/32 - 2s - loss: 0.1904 - accuracy: 0.9258 - 2s/epoch - 59ms/step\n",
            "\n",
            "Epoch 53/100\n",
            "\n",
            "32/32 - 2s - loss: 0.1870 - accuracy: 0.9275 - 2s/epoch - 59ms/step\n",
            "\n",
            "Epoch 54/100\n",
            "\n",
            "32/32 - 2s - loss: 0.1860 - accuracy: 0.9271 - 2s/epoch - 60ms/step\n",
            "\n",
            "Epoch 55/100\n",
            "\n",
            "32/32 - 2s - loss: 0.1884 - accuracy: 0.9282 - 2s/epoch - 59ms/step\n",
            "\n",
            "Epoch 56/100\n",
            "\n",
            "32/32 - 2s - loss: 0.1885 - accuracy: 0.9273 - 2s/epoch - 59ms/step\n",
            "\n",
            "Epoch 57/100\n",
            "\n",
            "32/32 - 2s - loss: 0.1765 - accuracy: 0.9333 - 2s/epoch - 63ms/step\n",
            "\n",
            "Epoch 58/100\n",
            "\n",
            "32/32 - 2s - loss: 0.1776 - accuracy: 0.9318 - 2s/epoch - 60ms/step\n",
            "\n",
            "Epoch 59/100\n",
            "\n",
            "32/32 - 2s - loss: 0.1797 - accuracy: 0.9321 - 2s/epoch - 66ms/step\n",
            "\n",
            "Epoch 60/100\n",
            "\n",
            "32/32 - 2s - loss: 0.1848 - accuracy: 0.9306 - 2s/epoch - 68ms/step\n",
            "\n",
            "Epoch 61/100\n",
            "\n",
            "32/32 - 2s - loss: 0.1763 - accuracy: 0.9312 - 2s/epoch - 62ms/step\n",
            "\n",
            "Epoch 62/100\n",
            "\n",
            "32/32 - 2s - loss: 0.1811 - accuracy: 0.9301 - 2s/epoch - 65ms/step\n",
            "\n",
            "Epoch 63/100\n",
            "\n",
            "32/32 - 2s - loss: 0.1819 - accuracy: 0.9312 - 2s/epoch - 65ms/step\n",
            "\n",
            "Epoch 64/100\n",
            "\n",
            "32/32 - 2s - loss: 0.1721 - accuracy: 0.9316 - 2s/epoch - 65ms/step\n",
            "\n",
            "Epoch 65/100\n",
            "\n",
            "32/32 - 2s - loss: 0.1819 - accuracy: 0.9306 - 2s/epoch - 66ms/step\n",
            "\n",
            "Epoch 66/100\n",
            "\n",
            "32/32 - 2s - loss: 0.1710 - accuracy: 0.9364 - 2s/epoch - 62ms/step\n",
            "\n",
            "Epoch 67/100\n",
            "\n",
            "32/32 - 2s - loss: 0.1700 - accuracy: 0.9342 - 2s/epoch - 62ms/step\n",
            "\n",
            "Epoch 68/100\n",
            "\n",
            "32/32 - 2s - loss: 0.1786 - accuracy: 0.9328 - 2s/epoch - 62ms/step\n",
            "\n",
            "Epoch 69/100\n",
            "\n",
            "32/32 - 2s - loss: 0.1600 - accuracy: 0.9382 - 2s/epoch - 63ms/step\n",
            "\n",
            "Epoch 70/100\n",
            "\n",
            "32/32 - 2s - loss: 0.1574 - accuracy: 0.9404 - 2s/epoch - 63ms/step\n",
            "\n",
            "Epoch 71/100\n",
            "\n",
            "32/32 - 2s - loss: 0.1542 - accuracy: 0.9408 - 2s/epoch - 63ms/step\n",
            "\n",
            "Epoch 72/100\n",
            "\n",
            "32/32 - 2s - loss: 0.1668 - accuracy: 0.9355 - 2s/epoch - 66ms/step\n",
            "\n",
            "Epoch 73/100\n",
            "\n",
            "32/32 - 2s - loss: 0.1595 - accuracy: 0.9389 - 2s/epoch - 65ms/step\n",
            "\n",
            "Epoch 74/100\n",
            "\n",
            "32/32 - 2s - loss: 0.1503 - accuracy: 0.9461 - 2s/epoch - 66ms/step\n",
            "\n",
            "Epoch 75/100\n",
            "\n",
            "32/32 - 2s - loss: 0.1651 - accuracy: 0.9356 - 2s/epoch - 66ms/step\n",
            "\n",
            "Epoch 76/100\n",
            "\n",
            "32/32 - 2s - loss: 0.1613 - accuracy: 0.9378 - 2s/epoch - 65ms/step\n",
            "\n",
            "Epoch 77/100\n",
            "\n",
            "32/32 - 2s - loss: 0.1486 - accuracy: 0.9458 - 2s/epoch - 65ms/step\n",
            "\n",
            "Epoch 78/100\n",
            "\n",
            "32/32 - 2s - loss: 0.1568 - accuracy: 0.9439 - 2s/epoch - 68ms/step\n",
            "\n",
            "Epoch 79/100\n",
            "\n",
            "32/32 - 2s - loss: 0.1512 - accuracy: 0.9442 - 2s/epoch - 68ms/step\n",
            "\n",
            "Epoch 80/100\n",
            "\n",
            "32/32 - 2s - loss: 0.1526 - accuracy: 0.9384 - 2s/epoch - 66ms/step\n",
            "\n",
            "Epoch 81/100\n",
            "\n",
            "32/32 - 2s - loss: 0.1507 - accuracy: 0.9424 - 2s/epoch - 66ms/step\n",
            "\n",
            "Epoch 82/100\n",
            "\n",
            "32/32 - 2s - loss: 0.1545 - accuracy: 0.9412 - 2s/epoch - 65ms/step\n",
            "\n",
            "Epoch 83/100\n",
            "\n",
            "32/32 - 2s - loss: 0.1412 - accuracy: 0.9479 - 2s/epoch - 69ms/step\n",
            "\n",
            "Epoch 84/100\n",
            "\n",
            "32/32 - 2s - loss: 0.1478 - accuracy: 0.9452 - 2s/epoch - 69ms/step\n",
            "\n",
            "Epoch 85/100\n",
            "\n",
            "32/32 - 2s - loss: 0.1557 - accuracy: 0.9397 - 2s/epoch - 69ms/step\n",
            "\n",
            "Epoch 86/100\n",
            "\n",
            "32/32 - 2s - loss: 0.1409 - accuracy: 0.9490 - 2s/epoch - 71ms/step\n",
            "\n",
            "Epoch 87/100\n",
            "\n",
            "32/32 - 2s - loss: 0.1433 - accuracy: 0.9480 - 2s/epoch - 65ms/step\n",
            "\n",
            "Epoch 88/100\n",
            "\n",
            "32/32 - 2s - loss: 0.1377 - accuracy: 0.9450 - 2s/epoch - 63ms/step\n",
            "\n",
            "Epoch 89/100\n",
            "\n",
            "32/32 - 2s - loss: 0.1395 - accuracy: 0.9458 - 2s/epoch - 66ms/step\n",
            "\n",
            "Epoch 90/100\n",
            "\n",
            "32/32 - 2s - loss: 0.1413 - accuracy: 0.9480 - 2s/epoch - 65ms/step\n",
            "\n",
            "Epoch 91/100\n",
            "\n",
            "32/32 - 2s - loss: 0.1411 - accuracy: 0.9472 - 2s/epoch - 63ms/step\n",
            "\n",
            "Epoch 92/100\n",
            "\n",
            "32/32 - 2s - loss: 0.1359 - accuracy: 0.9451 - 2s/epoch - 66ms/step\n",
            "\n",
            "Epoch 93/100\n",
            "\n",
            "32/32 - 2s - loss: 0.1470 - accuracy: 0.9486 - 2s/epoch - 66ms/step\n",
            "\n",
            "Epoch 94/100\n",
            "\n",
            "32/32 - 2s - loss: 0.1374 - accuracy: 0.9490 - 2s/epoch - 64ms/step\n",
            "\n",
            "Epoch 95/100\n",
            "\n",
            "32/32 - 2s - loss: 0.1353 - accuracy: 0.9494 - 2s/epoch - 65ms/step\n",
            "\n",
            "Epoch 96/100\n",
            "\n",
            "32/32 - 2s - loss: 0.1374 - accuracy: 0.9489 - 2s/epoch - 66ms/step\n",
            "\n",
            "Epoch 97/100\n",
            "\n",
            "32/32 - 2s - loss: 0.1340 - accuracy: 0.9481 - 2s/epoch - 65ms/step\n",
            "\n",
            "Epoch 98/100\n",
            "\n",
            "32/32 - 2s - loss: 0.1360 - accuracy: 0.9498 - 2s/epoch - 63ms/step\n",
            "\n",
            "Epoch 99/100\n",
            "\n",
            "32/32 - 2s - loss: 0.1381 - accuracy: 0.9495 - 2s/epoch - 69ms/step\n",
            "\n",
            "Epoch 100/100\n",
            "\n",
            "32/32 - 2s - loss: 0.1314 - accuracy: 0.9516 - 2s/epoch - 65ms/step\n",
            "\n",
            "message: Error ID is - 7ad623da-34ed-4c2e-89a8-31461a244de4 - Error from upstream service: Client error '400 Bad Request' for url 'http://supervisor-prod-private.antigranular.com/privacyRequest'\n",
            "For more information check: https://httpstatuses.com/400. Response text: {\"detail\":\"Maximum delta or epsilon exceeded per query. Per query limits are eps : 1 and delta : 1\"}\n",
            "\n",
            "message: Error ID is - 9eb206f7-fc9d-489c-9f68-0335209de686 - Error from upstream service: Client error '400 Bad Request' for url 'http://supervisor-prod-private.antigranular.com/privacyRequest'\n",
            "For more information check: https://httpstatuses.com/400. Response text: {\"detail\":\"Maximum delta or epsilon exceeded per query. Per query limits are eps : 1 and delta : 1\"}\n",
            "\n",
            "\u001b[0;31mValueError\u001b[0m: Request Limit Exceeded!\n"
          ]
        }
      ],
      "source": [
        "%%ag\n",
        "dp_model.fit(x=data_loader, epochs=100, target_delta=1e-1)"
      ]
    },
    {
      "cell_type": "code",
      "execution_count": 75,
      "metadata": {
        "colab": {
          "base_uri": "https://localhost:8080/"
        },
        "id": "dt_0vemmvq17",
        "outputId": "8cc5d44c-a72f-492c-e3f6-74e4fcfd09c3"
      },
      "outputs": [
        {
          "name": "stdout",
          "output_type": "stream",
          "text": [
            "\r 1/63 [..............................] - ETA: 31s\n",
            "\b\b\b\b\b\b\b\b\b\b\b\b\b\b\b\b\b\b\b\b\b\b\b\b\b\b\b\b\b\b\b\b\b\b\b\b\b\b\b\b\b\b\b\b\b\b\b\b\b\r 2/63 [..............................] - ETA: 4s \n",
            "\b\b\b\b\b\b\b\b\b\b\b\b\b\b\b\b\b\b\b\b\b\b\b\b\b\b\b\b\b\b\b\b\b\b\b\b\b\b\b\b\b\b\b\b\b\b\b\b\r13/63 [=====>........................] - ETA: 0s\n",
            "\b\b\b\b\b\b\b\b\b\b\b\b\b\b\b\b\b\b\b\b\b\b\b\b\b\b\b\b\b\b\b\b\b\b\b\b\b\b\b\b\b\b\b\b\b\b\b\b\r25/63 [==========>...................] - ETA: 0s\n",
            "33/63 [==============>...............] - ETA: 0s\n",
            "40/63 [==================>...........] - ETA: 0s\n",
            "53/63 [========================>.....] - ETA: 0s\n",
            "63/63 [==============================] - 1s 10ms/step\n",
            "\n"
          ]
        }
      ],
      "source": [
        "%%ag\n",
        "x_test_scaler = standard_scaler(PrivateDataFrame(x_test), eps=.9)\n",
        "y_pred = dp_model.predict(x_test_scaler, label_columns=[\"output\"])"
      ]
    },
    {
      "cell_type": "code",
      "execution_count": 76,
      "metadata": {
        "id": "mJMoynKBAwMB"
      },
      "outputs": [],
      "source": [
        "%%ag\n",
        "# Note that the predictions are a float scalar\n",
        "# so we scale it\n",
        "def f(x: float) -> float:\n",
        "  if x > 0.5:\n",
        "    return 1\n",
        "  else:\n",
        "    return 0\n",
        "\n",
        "y_pred[\"output\"] = y_pred[\"output\"].map(f, output_bounds=(0, 1))"
      ]
    },
    {
      "cell_type": "markdown",
      "metadata": {
        "id": "8K19wo42GvcM"
      },
      "source": [
        "### 📝 Make your submission (Through AG)\n",
        "\n",
        "Submit a prediction by simply typing `submit_predictions(your_prediction)` to find out how you rank on the leaderboard.\n",
        "\n",
        "![img](https://www.antigranular.com/static/media/Step%209.8091828f3cff4324fe6d.png)\n"
      ]
    },
    {
      "cell_type": "code",
      "execution_count": 77,
      "metadata": {
        "colab": {
          "base_uri": "https://localhost:8080/"
        },
        "id": "ikoa-r-Ky79A",
        "outputId": "d555c9f3-537a-42c6-d37d-a11079748429"
      },
      "outputs": [
        {
          "name": "stdout",
          "output_type": "stream",
          "text": [
            "score: {'leaderboard': 0.8884343364580213, 'logs': {'BIN_ACC': 0.9164343364580213, 'LIN_EPS': -0.02800000000000003}}\n",
            "\n"
          ]
        }
      ],
      "source": [
        "%%ag\n",
        "result = submit_predictions(y_pred)"
      ]
    },
    {
      "cell_type": "markdown",
      "metadata": {
        "id": "-fzPowmzpTf_"
      },
      "source": [
        "### 🎉 That's it!\n",
        "\n",
        "Congrats! You made your first submission to the competition! Now it's time to keep exploring the data and to try to achieve a better score! Here are the next steps:\n",
        "\n",
        "\n",
        "1.  🏫 Head over to our [Docs](https://docs.antigranular.com/) and discover Opacus (PyTorch), TensorFlow Privacy and other libraries available in Antigranular!\n",
        "2. 🦜 Any questions? Head over to our [Discord](https://discord.com/invite/KJwApgXs4s)!\n",
        "\n",
        "We hope you have fun and enjoy the competition!\n",
        "\n",
        "Best of luck,\n",
        "\n",
        "Antigranular Team"
      ]
    }
  ],
  "metadata": {
    "colab": {
      "provenance": []
    },
    "kernelspec": {
      "display_name": "Python 3",
      "name": "python3"
    },
    "language_info": {
      "name": "python"
    }
  },
  "nbformat": 4,
  "nbformat_minor": 0
}
