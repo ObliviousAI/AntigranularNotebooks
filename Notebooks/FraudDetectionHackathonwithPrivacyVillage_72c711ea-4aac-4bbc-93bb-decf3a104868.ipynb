{
  "nbformat": 4,
  "nbformat_minor": 0,
  "metadata": {
    "colab": {
      "provenance": []
    },
    "kernelspec": {
      "name": "python3",
      "display_name": "Python 3"
    },
    "language_info": {
      "name": "python"
    }
  },
  "cells": [
    {
      "cell_type": "code",
      "execution_count": 1,
      "metadata": {
        "id": "Pj_1cRHAnXI4"
      },
      "outputs": [],
      "source": [
        "# Install the Antigranular package\n",
        "!pip install antigranular &> /dev/null"
      ]
    },
    {
      "cell_type": "code",
      "source": [
        "import antigranular as ag\n",
        "session = ag.login(<client_id>,<client_secret>, competition = \"Fraud Detection Hackathon with Privacy Village #DPD25FEST\")"
      ],
      "metadata": {
        "colab": {
          "base_uri": "https://localhost:8080/",
          "height": 199
        },
        "id": "HpRIhlQrn22n",
        "outputId": "349fc2a5-332c-44cb-e90f-82643399d715"
      },
      "execution_count": 2,
      "outputs": [
        {
          "output_type": "display_data",
          "data": {
            "text/plain": [
              "<IPython.core.display.HTML object>"
            ],
            "text/html": []
          },
          "metadata": {}
        },
        {
          "output_type": "stream",
          "name": "stdout",
          "text": [
            "Dataset \"Transaction Fraud Hackathon Dataset\" loaded to the kernel as \u001b[92mtransaction_fraud_hackathon_dataset\u001b[0m\n",
            "Key Name                       Value Type     \n",
            "---------------------------------------------\n",
            "test_x                         DataFrame      \n",
            "train_x                        PrivateDataFrame\n",
            "train_y                        PrivateDataFrame\n",
            "\n",
            "Connected to Antigranular server session id: 72c711ea-4aac-4bbc-93bb-decf3a104868, the session will time out if idle for 25 minutes\n",
            "Cell magic '%%ag' registered successfully, use `%%ag` in a notebook cell to execute your python code on Antigranular private python server\n",
            "🚀 Everything's set up and ready to roll!\n"
          ]
        }
      ]
    },
    {
      "cell_type": "code",
      "source": [
        "%%ag\n",
        "import tensorflow as tf\n",
        "from op_pandas import standard_scaler, PrivateDataFrame\n",
        "from tensorflow.keras.models import Sequential\n",
        "from tensorflow.keras.layers import Dense, Dropout\n",
        "from op_tensorflow import PrivateKerasModel, PrivateDataLoader\n",
        "from op_diffprivlib.models import GaussianNB\n",
        "import pandas as pd\n"
      ],
      "metadata": {
        "colab": {
          "base_uri": "https://localhost:8080/"
        },
        "id": "3DZnE3p3n4jm",
        "outputId": "90850ca0-9576-4c03-ab0a-baa32802b53c"
      },
      "execution_count": 3,
      "outputs": [
        {
          "output_type": "stream",
          "name": "stderr",
          "text": [
            "/usr/local/lib/python3.10/site-packages/tensorflow/__init__.py:30: DeprecationWarning: The distutils package is deprecated and slated for removal in Python 3.12. Use setuptools or check PEP 632 for potential alternatives\n",
            "  import distutils as _distutils\n",
            "2025-03-02 20:54:45.734319: I tensorflow/core/util/port.cc:113] oneDNN custom operations are on. You may see slightly different numerical results due to floating-point round-off errors from different computation orders. To turn them off, set the environment variable `TF_ENABLE_ONEDNN_OPTS=0`.\n",
            "\n",
            "2025-03-02 20:54:45.737470: I external/local_tsl/tsl/cuda/cudart_stub.cc:31] Could not find cuda drivers on your machine, GPU will not be used.\n",
            "2025-03-02 20:54:45.933929: E external/local_xla/xla/stream_executor/cuda/cuda_dnn.cc:9261] Unable to register cuDNN factory: Attempting to register factory for plugin cuDNN when one has already been registered\n",
            "2025-03-02 20:54:45.933955: E external/local_xla/xla/stream_executor/cuda/cuda_fft.cc:607] Unable to register cuFFT factory: Attempting to register factory for plugin cuFFT when one has already been registered\n",
            "2025-03-02 20:54:45.934898: E external/local_xla/xla/stream_executor/cuda/cuda_blas.cc:1515] Unable to register cuBLAS factory: Attempting to register factory for plugin cuBLAS when one has already been registered\n",
            "2025-03-02 20:54:46.018772: I external/local_tsl/tsl/cuda/cudart_stub.cc:31] Could not find cuda drivers on your machine, GPU will not be used.\n",
            "2025-03-02 20:54:46.019458: I tensorflow/core/platform/cpu_feature_guard.cc:182] This TensorFlow binary is optimized to use available CPU instructions in performance-critical operations.\n",
            "To enable the following instructions: AVX2 AVX512F AVX512_VNNI FMA, in other operations, rebuild TensorFlow with the appropriate compiler flags.\n",
            "\n",
            "2025-03-02 20:54:50.027502: W tensorflow/compiler/tf2tensorrt/utils/py_utils.cc:38] TF-TRT Warning: Could not find TensorRT\n",
            "\n"
          ]
        }
      ]
    },
    {
      "cell_type": "code",
      "source": [
        "%%ag\n",
        "x_train = transaction_fraud_hackathon_dataset[\"train_x\"]\n",
        "y_train = transaction_fraud_hackathon_dataset[\"train_y\"]\n",
        "x_test = transaction_fraud_hackathon_dataset[\"test_x\"]"
      ],
      "metadata": {
        "id": "xsEGBb8JoQIv"
      },
      "execution_count": 4,
      "outputs": []
    },
    {
      "cell_type": "code",
      "source": [
        "%%ag\n",
        "x_train_scaled = standard_scaler(x_train, eps=0.5)  # Lower epsilon for privacy\n",
        "x_test_scaled = standard_scaler(PrivateDataFrame(x_test), eps=0.1)"
      ],
      "metadata": {
        "id": "K2u3CYvIoYbu"
      },
      "execution_count": 5,
      "outputs": []
    },
    {
      "cell_type": "code",
      "source": [
        "%%ag\n",
        "gnb = GaussianNB(epsilon=0.3, bounds=([0]*9, [1]*9))\n",
        "gnb.fit(x_train_scaled, y_train)\n",
        "y_pred_gnb = gnb.predict(x_test_scaled)"
      ],
      "metadata": {
        "colab": {
          "base_uri": "https://localhost:8080/"
        },
        "id": "hPAZl5e0pKOG",
        "outputId": "3dab480e-6625-4153-a1f7-f871d0bb5152"
      },
      "execution_count": 6,
      "outputs": [
        {
          "output_type": "stream",
          "name": "stderr",
          "text": [
            "/usr/local/lib/python3.10/site-packages/ag_wrapper/wrapper.py:129: UserWarning: Bounds estimation epsilon is set to 0.1. It wont be charged until a private dataframe / series ispassed to predict or transform methods.\n",
            "  warnings.warn(f\"Bounds estimation epsilon is set to {bounds_estimation_eps}. It wont be charged until \"\n",
            "/usr/local/lib/python3.10/site-packages/sklearn/utils/validation.py:1339: DataConversionWarning: A column-vector y was passed when a 1d array was expected. Please change the shape of y to (n_samples, ), for example using ravel().\n",
            "  y = column_or_1d(y, warn=True)\n",
            "\n"
          ]
        }
      ]
    },
    {
      "cell_type": "code",
      "source": [
        "%%ag\n",
        "seqM = Sequential([\n",
        "    Dense(64, activation='relu', input_shape=(9,)),\n",
        "    Dropout(0.3),\n",
        "    Dense(32, activation='relu'),\n",
        "    Dropout(0.3),\n",
        "    Dense(1, activation='sigmoid')  # Binary Classification\n",
        "])\n",
        "\n",
        "dp_model = PrivateKerasModel(model=seqM, l2_norm_clip=1, noise_multiplier=0.5)  # Low noise for better performance\n",
        "optimizer = tf.keras.optimizers.Adam(learning_rate=0.01)\n",
        "\n",
        "dp_model.compile(optimizer=optimizer, loss='binary_crossentropy', metrics=[\"accuracy\"])"
      ],
      "metadata": {
        "id": "H5TmqVcRpUQu"
      },
      "execution_count": 8,
      "outputs": []
    },
    {
      "cell_type": "code",
      "source": [
        "%%ag\n",
        "data_loader = PrivateDataLoader(feature_df=x_train_scaled, label_df=y_train, batch_size=8)\n",
        "dp_model.fit(x=data_loader, epochs=3, target_delta=0.0001)  # Balance privacy & accuracy"
      ],
      "metadata": {
        "id": "cb2erGXwpYVu"
      },
      "execution_count": null,
      "outputs": []
    },
    {
      "cell_type": "code",
      "source": [
        "%%ag\n",
        "y_pred_dp = dp_model.predict(x_test_scaled, label_columns=[\"output\"])"
      ],
      "metadata": {
        "colab": {
          "base_uri": "https://localhost:8080/"
        },
        "id": "DXT_jIa-rTme",
        "outputId": "7bfb8640-3c3d-4c18-fa44-8ef33c480201"
      },
      "execution_count": 10,
      "outputs": [
        {
          "output_type": "stream",
          "name": "stdout",
          "text": [
            "\r  1/469 [..............................] - ETA: 3:05\n",
            "\b\b\b\b\b\b\b\b\b\b\b\b\b\b\b\b\b\b\b\b\b\b\b\b\b\b\b\b\b\b\b\b\b\b\b\b\b\b\b\b\b\b\b\b\b\b\b\b\b\b\b\b\r  6/469 [..............................] - ETA: 7s  \n",
            " 21/469 [>.............................] - ETA: 4s\n",
            " 36/469 [=>............................] - ETA: 3s\n",
            " 52/469 [==>...........................] - ETA: 3s\n",
            " 66/469 [===>..........................] - ETA: 3s\n",
            " 80/469 [====>.........................] - ETA: 2s\n",
            " 95/469 [=====>........................] - ETA: 2s\n",
            "111/469 [======>.......................] - ETA: 2s\n",
            "125/469 [======>.......................] - ETA: 2s\n",
            "141/469 [========>.....................] - ETA: 2s\n",
            "155/469 [========>.....................] - ETA: 2s\n",
            "173/469 [==========>...................] - ETA: 2s\n",
            "188/469 [===========>..................] - ETA: 1s\n",
            "206/469 [============>.................] - ETA: 1s\n",
            "219/469 [=============>................] - ETA: 1s\n",
            "238/469 [==============>...............] - ETA: 1s\n",
            "253/469 [===============>..............] - ETA: 1s\n",
            "270/469 [================>.............] - ETA: 1s\n",
            "286/469 [=================>............] - ETA: 1s\n",
            "301/469 [==================>...........] - ETA: 1s\n",
            "318/469 [===================>..........] - ETA: 0s\n",
            "332/469 [====================>.........] - ETA: 0s\n",
            "350/469 [=====================>........] - ETA: 0s\n",
            "366/469 [======================>.......] - ETA: 0s\n",
            "382/469 [=======================>......] - ETA: 0s\n",
            "398/469 [========================>.....] - ETA: 0s\n",
            "415/469 [=========================>....] - ETA: 0s\n",
            "431/469 [==========================>...] - ETA: 0s\n",
            "448/469 [===========================>..] - ETA: 0s\n",
            "466/469 [============================>.] - ETA: 0s\n",
            "469/469 [==============================] - 3s 6ms/step\n",
            "\n"
          ]
        }
      ]
    },
    {
      "cell_type": "code",
      "source": [
        "%%ag\n",
        "def threshold(x: float) -> float:\n",
        "    return 1 if x > 0.5 else 0\n",
        "y_pred_dp[\"output\"] = y_pred_dp[\"output\"].map(threshold, output_bounds=(0, 1))"
      ],
      "metadata": {
        "id": "9idZ5uxxrXBe"
      },
      "execution_count": 11,
      "outputs": []
    },
    {
      "cell_type": "code",
      "source": [
        "%%ag\n",
        "final_pred = (0.6 * y_pred_gnb[\"output\"]) + (0.4 * y_pred_dp[\"output\"])\n",
        "final_pred = final_pred.map(lambda x: 1 if x > 0.5 else 0)"
      ],
      "metadata": {
        "id": "_IcTm6iuraAm"
      },
      "execution_count": null,
      "outputs": []
    },
    {
      "cell_type": "code",
      "source": [
        "%%ag\n",
        "from pandas import DataFrame\n",
        "result = submit_predictions(DataFrame(final_pred))\n",
        "print(result)"
      ],
      "metadata": {
        "id": "7rmpyZg6reUe"
      },
      "execution_count": null,
      "outputs": []
    }
  ]
}