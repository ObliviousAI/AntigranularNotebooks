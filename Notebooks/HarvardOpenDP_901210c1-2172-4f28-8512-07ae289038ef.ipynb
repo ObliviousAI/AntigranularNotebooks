{
  "cells": [
    {
      "cell_type": "code",
      "execution_count": null,
      "metadata": {
        "colab": {
          "background_save": true
        },
        "id": "RO5wfgkq2a1C",
        "outputId": "0c726102-8fca-4093-f74b-5a8ada08a40f"
      },
      "outputs": [
        {
          "name": "stdout",
          "output_type": "stream",
          "text": [
            "Collecting fuzzywuzzy\n",
            "  Downloading fuzzywuzzy-0.18.0-py2.py3-none-any.whl (18 kB)\n",
            "Installing collected packages: fuzzywuzzy\n",
            "Successfully installed fuzzywuzzy-0.18.0\n"
          ]
        }
      ],
      "source": [
        "pip install fuzzywuzzy\n"
      ]
    },
    {
      "cell_type": "code",
      "execution_count": null,
      "metadata": {
        "colab": {
          "background_save": true,
          "base_uri": "https://localhost:8080/"
        },
        "id": "FGZ0Rpaa4vxs",
        "outputId": "9b7bf17a-1bfd-4257-9e9a-b79ac31f462c"
      },
      "outputs": [
        {
          "name": "stdout",
          "output_type": "stream",
          "text": [
            "Collecting antigranular\n",
            "  Downloading antigranular-0.2.16-py3-none-any.whl (18 kB)\n",
            "Collecting diffprivlib<0.7.0,>=0.6.2 (from antigranular)\n",
            "  Downloading diffprivlib-0.6.3-py3-none-any.whl (176 kB)\n",
            "\u001b[2K     \u001b[90m━━━━━━━━━━━━━━━━━━━━━━━━━━━━━━━━━━━━━━━━\u001b[0m \u001b[32m176.0/176.0 kB\u001b[0m \u001b[31m5.1 MB/s\u001b[0m eta \u001b[36m0:00:00\u001b[0m\n",
            "\u001b[?25hRequirement already satisfied: ipython<8.0.0,>=7.34.0 in /usr/local/lib/python3.10/dist-packages (from antigranular) (7.34.0)\n",
            "Collecting oblv-client<0.2.0,>=0.1.15 (from antigranular)\n",
            "  Downloading oblv_client-0.1.15-cp310-cp310-manylinux_2_17_x86_64.manylinux2014_x86_64.whl (6.2 MB)\n",
            "\u001b[2K     \u001b[90m━━━━━━━━━━━━━━━━━━━━━━━━━━━━━━━━━━━━━━━━\u001b[0m \u001b[32m6.2/6.2 MB\u001b[0m \u001b[31m4.9 MB/s\u001b[0m eta \u001b[36m0:00:00\u001b[0m\n",
            "\u001b[?25hCollecting onnx<2.0.0,>=1.14.0 (from antigranular)\n",
            "  Downloading onnx-1.15.0-cp310-cp310-manylinux_2_17_x86_64.manylinux2014_x86_64.whl (15.7 MB)\n",
            "\u001b[2K     \u001b[90m━━━━━━━━━━━━━━━━━━━━━━━━━━━━━━━━━━━━━━━━\u001b[0m \u001b[32m15.7/15.7 MB\u001b[0m \u001b[31m36.6 MB/s\u001b[0m eta \u001b[36m0:00:00\u001b[0m\n",
            "\u001b[?25hRequirement already satisfied: pandas<2.0.0,>=1.5.3 in /usr/local/lib/python3.10/dist-packages (from antigranular) (1.5.3)\n",
            "Requirement already satisfied: pydantic<2.0.0,>=1.10.7 in /usr/local/lib/python3.10/dist-packages (from antigranular) (1.10.13)\n",
            "Requirement already satisfied: requests<3.0.0,>=2.31.0 in /usr/local/lib/python3.10/dist-packages (from antigranular) (2.31.0)\n",
            "Requirement already satisfied: numpy>=1.21.6 in /usr/local/lib/python3.10/dist-packages (from diffprivlib<0.7.0,>=0.6.2->antigranular) (1.23.5)\n",
            "Requirement already satisfied: scikit-learn>=0.24.2 in /usr/local/lib/python3.10/dist-packages (from diffprivlib<0.7.0,>=0.6.2->antigranular) (1.2.2)\n",
            "Requirement already satisfied: scipy>=1.7.3 in /usr/local/lib/python3.10/dist-packages (from diffprivlib<0.7.0,>=0.6.2->antigranular) (1.11.4)\n",
            "Requirement already satisfied: joblib>=0.16.0 in /usr/local/lib/python3.10/dist-packages (from diffprivlib<0.7.0,>=0.6.2->antigranular) (1.3.2)\n",
            "Requirement already satisfied: setuptools>=49.0.0 in /usr/local/lib/python3.10/dist-packages (from diffprivlib<0.7.0,>=0.6.2->antigranular) (67.7.2)\n",
            "Collecting jedi>=0.16 (from ipython<8.0.0,>=7.34.0->antigranular)\n",
            "  Downloading jedi-0.19.1-py2.py3-none-any.whl (1.6 MB)\n",
            "\u001b[2K     \u001b[90m━━━━━━━━━━━━━━━━━━━━━━━━━━━━━━━━━━━━━━━━\u001b[0m \u001b[32m1.6/1.6 MB\u001b[0m \u001b[31m50.8 MB/s\u001b[0m eta \u001b[36m0:00:00\u001b[0m\n",
            "\u001b[?25hRequirement already satisfied: decorator in /usr/local/lib/python3.10/dist-packages (from ipython<8.0.0,>=7.34.0->antigranular) (4.4.2)\n",
            "Requirement already satisfied: pickleshare in /usr/local/lib/python3.10/dist-packages (from ipython<8.0.0,>=7.34.0->antigranular) (0.7.5)\n",
            "Requirement already satisfied: traitlets>=4.2 in /usr/local/lib/python3.10/dist-packages (from ipython<8.0.0,>=7.34.0->antigranular) (5.7.1)\n",
            "Requirement already satisfied: prompt-toolkit!=3.0.0,!=3.0.1,<3.1.0,>=2.0.0 in /usr/local/lib/python3.10/dist-packages (from ipython<8.0.0,>=7.34.0->antigranular) (3.0.41)\n",
            "Requirement already satisfied: pygments in /usr/local/lib/python3.10/dist-packages (from ipython<8.0.0,>=7.34.0->antigranular) (2.16.1)\n",
            "Requirement already satisfied: backcall in /usr/local/lib/python3.10/dist-packages (from ipython<8.0.0,>=7.34.0->antigranular) (0.2.0)\n",
            "Requirement already satisfied: matplotlib-inline in /usr/local/lib/python3.10/dist-packages (from ipython<8.0.0,>=7.34.0->antigranular) (0.1.6)\n",
            "Requirement already satisfied: pexpect>4.3 in /usr/local/lib/python3.10/dist-packages (from ipython<8.0.0,>=7.34.0->antigranular) (4.9.0)\n",
            "Requirement already satisfied: urllib3 in /usr/local/lib/python3.10/dist-packages (from oblv-client<0.2.0,>=0.1.15->antigranular) (2.0.7)\n",
            "Requirement already satisfied: protobuf>=3.20.2 in /usr/local/lib/python3.10/dist-packages (from onnx<2.0.0,>=1.14.0->antigranular) (3.20.3)\n",
            "Requirement already satisfied: python-dateutil>=2.8.1 in /usr/local/lib/python3.10/dist-packages (from pandas<2.0.0,>=1.5.3->antigranular) (2.8.2)\n",
            "Requirement already satisfied: pytz>=2020.1 in /usr/local/lib/python3.10/dist-packages (from pandas<2.0.0,>=1.5.3->antigranular) (2023.3.post1)\n",
            "Requirement already satisfied: typing-extensions>=4.2.0 in /usr/local/lib/python3.10/dist-packages (from pydantic<2.0.0,>=1.10.7->antigranular) (4.5.0)\n",
            "Requirement already satisfied: charset-normalizer<4,>=2 in /usr/local/lib/python3.10/dist-packages (from requests<3.0.0,>=2.31.0->antigranular) (3.3.2)\n",
            "Requirement already satisfied: idna<4,>=2.5 in /usr/local/lib/python3.10/dist-packages (from requests<3.0.0,>=2.31.0->antigranular) (3.6)\n",
            "Requirement already satisfied: certifi>=2017.4.17 in /usr/local/lib/python3.10/dist-packages (from requests<3.0.0,>=2.31.0->antigranular) (2023.11.17)\n",
            "Requirement already satisfied: parso<0.9.0,>=0.8.3 in /usr/local/lib/python3.10/dist-packages (from jedi>=0.16->ipython<8.0.0,>=7.34.0->antigranular) (0.8.3)\n",
            "Requirement already satisfied: ptyprocess>=0.5 in /usr/local/lib/python3.10/dist-packages (from pexpect>4.3->ipython<8.0.0,>=7.34.0->antigranular) (0.7.0)\n",
            "Requirement already satisfied: wcwidth in /usr/local/lib/python3.10/dist-packages (from prompt-toolkit!=3.0.0,!=3.0.1,<3.1.0,>=2.0.0->ipython<8.0.0,>=7.34.0->antigranular) (0.2.12)\n",
            "Requirement already satisfied: six>=1.5 in /usr/local/lib/python3.10/dist-packages (from python-dateutil>=2.8.1->pandas<2.0.0,>=1.5.3->antigranular) (1.16.0)\n",
            "Requirement already satisfied: threadpoolctl>=2.0.0 in /usr/local/lib/python3.10/dist-packages (from scikit-learn>=0.24.2->diffprivlib<0.7.0,>=0.6.2->antigranular) (3.2.0)\n",
            "Installing collected packages: onnx, oblv-client, jedi, diffprivlib, antigranular\n",
            "Successfully installed antigranular-0.2.16 diffprivlib-0.6.3 jedi-0.19.1 oblv-client-0.1.15 onnx-1.15.0\n"
          ]
        }
      ],
      "source": [
        "pip install antigranular"
      ]
    },
    {
      "cell_type": "code",
      "execution_count": null,
      "metadata": {
        "colab": {
          "background_save": true,
          "base_uri": "https://localhost:8080/",
          "height": 138
        },
        "id": "wXV7Znw64qDA",
        "outputId": "12e5882a-d5b3-4d49-ac41-0bb201d7ae9a"
      },
      "outputs": [
        {
          "data": {
            "text/html": [],
            "text/plain": [
              "<IPython.core.display.HTML object>"
            ]
          },
          "metadata": {},
          "output_type": "display_data"
        },
        {
          "name": "stdout",
          "output_type": "stream",
          "text": [
            "Dataset \"Flight Company Dataset\" loaded to the kernel as \u001b[92mflight_company_dataset\u001b[0m\n",
            "\n",
            "Dataset \"Health Organisation Dataset\" loaded to the kernel as \u001b[92mhealth_organisation_dataset\u001b[0m\n",
            "\n",
            "Connected to Antigranular server session id: 901210c1-2172-4f28-8512-07ae289038ef, the session will time out if idle for 25 minutes\n",
            "Cell magic '%%ag' registered successfully, use `%%ag` in a notebook cell to execute your python code on Antigranular private python server\n",
            "🚀 Everything's set up and ready to roll!\n"
          ]
        }
      ],
      "source": [
        "import antigranular as ag\n",
        "session = ag.login(<client_id>,<client_secret>, competition = \"Harvard OpenDP Hackathon\")"
      ]
    },
    {
      "cell_type": "code",
      "execution_count": null,
      "metadata": {
        "colab": {
          "background_save": true
        },
        "id": "3LUPmDQz5Ljw"
      },
      "outputs": [],
      "source": [
        "import numpy as np\n",
        "import pandas as pd\n",
        "import matplotlib.pyplot as plt\n",
        "import seaborn as sns"
      ]
    },
    {
      "cell_type": "code",
      "execution_count": null,
      "metadata": {
        "colab": {
          "background_save": true
        },
        "id": "E6gEfsVD51kz"
      },
      "outputs": [],
      "source": [
        "%%ag\n",
        "import pandas as pd\n",
        "# Display the first few rows of the DataFrame\n",
        "\n",
        "\n"
      ]
    },
    {
      "cell_type": "code",
      "execution_count": null,
      "metadata": {
        "colab": {
          "background_save": true
        },
        "id": "EISZaxXwJ_EE"
      },
      "outputs": [],
      "source": [
        "%%ag\n",
        "\n",
        "\n",
        "flight_company_dataset.dtypes"
      ]
    },
    {
      "cell_type": "code",
      "execution_count": null,
      "metadata": {
        "colab": {
          "background_save": true
        },
        "id": "nP3oUjkTJ-8O"
      },
      "outputs": [],
      "source": [
        "# %%ag\n",
        "\n"
      ]
    },
    {
      "cell_type": "code",
      "execution_count": null,
      "metadata": {
        "colab": {
          "background_save": true
        },
        "id": "OvkqEL58j6l9"
      },
      "outputs": [],
      "source": []
    },
    {
      "cell_type": "code",
      "execution_count": null,
      "metadata": {
        "colab": {
          "background_save": true
        },
        "id": "whh3RaeJLL9U"
      },
      "outputs": [],
      "source": [
        "# %%ag\n",
        "\n",
        "# import op_pandas\n",
        "# op_pandas.to_datetime(\n",
        "#         arg: PrivateSeries,\n",
        "#         errors: str,\n",
        "#         dayfirst: boolean,\n",
        "#         yearfirst: boolean,\n",
        "#         utc: boolean,\n",
        "#         format: str,\n",
        "#         exact: bool,\n",
        "#         unit: str,\n",
        "#         infer_datetime_format: bool,\n",
        "#         origin: scaler,\n",
        "#         cache: boolean,\n",
        "# ):"
      ]
    },
    {
      "cell_type": "code",
      "execution_count": null,
      "metadata": {
        "colab": {
          "background_save": true
        },
        "id": "zEMBngximoIN"
      },
      "outputs": [],
      "source": [
        "# %%ag\n",
        "# import op_pandas\n",
        "# combined=op_pandas.merge(flight_company_dataset, health_organisation_dataset, how=\"inner\",left_on=['passenger_firstname', 'passenger_lastname','passenger_date_of_birth'], right_on=['patient_firstname','patient_lastname', 'patient_date_of_birth'])"
      ]
    },
    {
      "cell_type": "code",
      "execution_count": null,
      "metadata": {
        "colab": {
          "background_save": true
        },
        "id": "b1iywrRB2oc1",
        "outputId": "8033cf3a-e6e6-41dd-927b-d39a0fd89d20"
      },
      "outputs": [
        {
          "name": "stdout",
          "output_type": "stream",
          "text": [
            "\u001b[0;31mImportError\u001b[0m: Restricted import: fuzzywuzzy is not allowed\n"
          ]
        }
      ],
      "source": [
        "%%ag\n",
        "\n",
        "import op_pandas\n",
        "from fuzzywuzzy import fuzz\n",
        "\n",
        "# Assuming flight_company_dataset and health_organisation_dataset are your DataFrames\n",
        "\n",
        "# Function to calculate fuzzy match ratio for names\n",
        "def fuzzy_match_ratio(name1, name2):\n",
        "    return fuzz.ratio(name1, name2)\n",
        "\n",
        "# Merge datasets based on fuzzy matching of names and exact matching of date of birth\n",
        "combined = op_pandas.merge(flight_company_dataset, health_organisation_dataset, how=\"inner\",\n",
        "                           left_on='passenger_date_of_birth', right_on='patient_date_of_birth')\n",
        "\n",
        "# Apply fuzzy matching on first and last names\n",
        "combined['Name_Match_Score'] = combined.apply(lambda row: fuzzy_match_ratio(row['passenger_firstname'], row['patient_firstname']) +\n",
        "                                                       fuzzy_match_ratio(row['passenger_lastname'], row['patient_lastname']), axis=1)\n",
        "\n",
        "# Set a threshold for the fuzzy match score\n",
        "threshold = 150  # You can adjust this threshold based on your requirements\n",
        "\n",
        "# Filter the results based on the fuzzy match score and exact date of birth match\n",
        "matched_records = combined[(combined['Name_Match_Score'] >= threshold) &\n",
        "                            (combined['passenger_date_of_birth'] == combined['patient_date_of_birth'])]\n",
        "\n",
        "# Drop the intermediate columns used for fuzzy matching\n",
        "matched_records = matched_records.drop(['Name_Match_Score'], axis=1)\n",
        "\n",
        "# Display the matched records\n",
        "print(matched_records)\n"
      ]
    },
    {
      "cell_type": "code",
      "execution_count": null,
      "metadata": {
        "colab": {
          "background_save": true
        },
        "id": "kLDpWfsIsfob"
      },
      "outputs": [],
      "source": [
        "%%ag\n",
        "\n",
        "combined=combined.where(combined['covidtest_result']==\"positive\")\n",
        "combined=combined.where(combined['passenger_firstname']==combined['patient_firstname'])\n",
        "combined=combined.where(combined['passenger_lastname']==combined['patient_lastname'])\n",
        "combined=combined.where(combined['passenger_date_of_birth']==combined['patient_date_of_birth'])\n",
        "\n"
      ]
    },
    {
      "cell_type": "code",
      "execution_count": null,
      "metadata": {
        "colab": {
          "background_save": true
        },
        "id": "ax4CdnBU2cvZ"
      },
      "outputs": [],
      "source": []
    },
    {
      "cell_type": "code",
      "execution_count": null,
      "metadata": {
        "colab": {
          "background_save": true
        },
        "id": "pzJ0FsXmoieS"
      },
      "outputs": [],
      "source": [
        "%%ag\n",
        "\n",
        "ag_print(\"Columns: \\n\",combined.columns)\n",
        "ag_print(\"Metadata: \\n\", combined.metadata)\n",
        "ag_print(\"Dtypes: \\n\", combined.dtypes)\n",
        "ag_print(\"Describe:\\n\", combined.describe(eps=1))"
      ]
    },
    {
      "cell_type": "code",
      "execution_count": null,
      "metadata": {
        "colab": {
          "background_save": true
        },
        "id": "FDB-aFDDqCHk"
      },
      "outputs": [],
      "source": [
        "# %%ag\n",
        "# import syft as sy\n",
        "\n",
        "# hook = sy.TorchHook(torch)\n",
        "# # Assuming combined is a PrivateDataset in PySyft\n",
        "\n",
        "# # Define a function to convert date strings to datetime objects\n",
        "# def convert_to_datetime(date_str):\n",
        "#     return pd.to_datetime(date_str, errors='coerce')\n",
        "\n",
        "# # Use the map method to apply the function to the PrivateDataset\n",
        "# combined['covidtest_date'] = combined['covidtest_date'].map(convert_to_datetime)"
      ]
    },
    {
      "cell_type": "code",
      "execution_count": null,
      "metadata": {
        "colab": {
          "background_save": true
        },
        "id": "K5tc52W3dcBb"
      },
      "outputs": [],
      "source": [
        "import syft as sy\n",
        "\n",
        "hook = sy.TorchHook(torch)\n",
        "# Assuming combined is a PrivateDataset in PySyft\n",
        "\n",
        "# Define a function to convert date strings to datetime objects\n",
        "def convert_to_datetime(date_str):\n",
        "    return pd.to_datetime(date_str, errors='coerce')\n",
        "\n",
        "# Use the map method to apply the function to the PrivateDataset\n",
        "combined['date_column'] = combined['date_column'].map(convert_to_datetime)"
      ]
    },
    {
      "cell_type": "code",
      "execution_count": null,
      "metadata": {
        "colab": {
          "background_save": true
        },
        "id": "TopxCQH_wkTR"
      },
      "outputs": [],
      "source": [
        "%%ag\n",
        "\n",
        "# def compare.custom(cmp: func(x,y) -> int , left_col , right_col , label)\n",
        "\n",
        "# Using a custom compare rule.\n",
        "\n",
        "from datetime import datetime\n",
        "\n",
        "def cmp(combined):\n",
        "    # combined['covidtest_date']=datetime.strftime(combined['covidtest_date'], \"%Y-%m-%d\")\n",
        "    # combined['flight_date']=datetime.strftime(combined['flight_date'], \"%Y-%m-%d\")\n",
        "\n",
        "\n",
        "    combined['covidtest_date'] = combined['covidtest_date'].apply(lambda x: pd.to_datetime(x, errors='coerce'))\n",
        "    combined['flight_date'] = combined['flight_date'].apply(lambda x: pd.to_datetime(x, errors='coerce'))\n",
        "\n",
        "\n",
        "    combined['temp']=(combined['covidtest_date']-combined['flight_date']).days\n",
        "    combined['var']=0;\n",
        "    if(combined['temp']>15):\n",
        "      combined['var']=0;\n",
        "    # Check if the dates are within two weeks (14 days) apart\n",
        "    else :\n",
        "      combined['var']=1;\n",
        "\n",
        "    return combined;\n",
        "\n",
        "temp_check=cmp(combined);\n",
        "# compare.custom(cmp,\"flight_date\",\"covidtest_date\",label=\"date_cmp\")\n",
        "\n",
        "# def op_recordlinkage.Compare.compute(\n",
        "#     pairs:op_recordlinkage.Index.compute() ,\n",
        "#     x : PrivateDataFrame ,\n",
        "#     x_link: PrivateDataFrame\n",
        "# ) -> PrivateDataFrame\n",
        "\n",
        "\n"
      ]
    },
    {
      "cell_type": "code",
      "execution_count": null,
      "metadata": {
        "colab": {
          "background_save": true
        },
        "id": "RBzh8qqsKhNY"
      },
      "outputs": [],
      "source": [
        "# %%ag\n",
        "\n",
        "# import op_splink.duckdb.comparison_template_library as ctl\n",
        "# from op_splink.duckdb.blocking_rule_library import block_on\n",
        "\n",
        "# date_difference = ctl.date_comparison(\"date\", cast_strings_to_date = True, include_exact_match_level = False, damerau_levenshtein_thresholds = [], datediff_thresholds = [14], datediff_metrics = [\"day\"])\n",
        "\n",
        "# ag_print(date_difference.human_readable_description)"
      ]
    },
    {
      "cell_type": "code",
      "execution_count": null,
      "metadata": {
        "colab": {
          "background_save": true
        },
        "id": "UcZSuExY0t-W"
      },
      "outputs": [],
      "source": [
        "# %%ag\n",
        "\n",
        "# import recordlinkage as rl\n",
        "# from recordlinkage.compare import Exact, String, Numeric, Date\n",
        "\n",
        "\n",
        "# from datetime import datetime\n",
        "\n",
        "\n",
        "# class CompareDates(BaseCompareFeature):\n",
        "#     def cmp(date_str1 , date_str2):\n",
        "#       # Convert date strings to datetime objects\n",
        "#       date1 = datetime.strptime(date_str1, \"%Y-%m-%d\")\n",
        "#       date2 = datetime.strptime(date_str2, \"%Y-%m-%d\")\n",
        "\n",
        "#       # Calculate the absolute difference in days\n",
        "#       days_apart = (date2 - date1).days\n",
        "#       # Check if the dates are within two weeks (14 days) apart\n",
        "#       if days_apart > 15:\n",
        "#           return 0;\n",
        "#       else:\n",
        "#           return 1\n",
        "\n",
        "# comparer = rl.Compare()\n",
        "\n",
        "# comparer.add(CompareZipCodes('flight_date', 'covidtest_date', label='y_dates'))\n",
        "# comparer.compute(pairs,flight_company_dataset , health_organisation_dataset)\n",
        "\n",
        "\n",
        "\n",
        "\n"
      ]
    },
    {
      "cell_type": "code",
      "execution_count": null,
      "metadata": {
        "colab": {
          "background_save": true
        },
        "id": "uVEQenhZ067L"
      },
      "outputs": [],
      "source": [
        "# session.submit_predictions(sub)\n",
        "\n",
        "\n",
        "# result = ag_client.submit_predictions(sub)\n",
        "# print(result)\n",
        "\n"
      ]
    },
    {
      "cell_type": "code",
      "execution_count": null,
      "metadata": {
        "colab": {
          "background_save": true
        },
        "id": "pABRTUYhKkT_"
      },
      "outputs": [],
      "source": []
    },
    {
      "cell_type": "code",
      "execution_count": null,
      "metadata": {
        "colab": {
          "background_save": true
        },
        "id": "B01e3d2Ls0tF"
      },
      "outputs": [],
      "source": [
        "# %%ag\n",
        "\n",
        "# compare = op_recordlinkage.Compare()\n",
        "\n",
        "# def compare.custom(cmp: func(x,y) -> int , left_col , right_col , label)\n",
        "\n",
        "# # Using a custom compare rule.\n",
        "# from datetime import datetime\n",
        "# def cmp(date_str1 , date_str2):\n",
        "#     # Convert date strings to datetime objects\n",
        "#     date1 = datetime.strptime(date_str1, \"%Y-%m-%d\")\n",
        "#     date2 = datetime.strptime(date_str2, \"%Y-%m-%d\")\n",
        "\n",
        "#     # Calculate the absolute difference in days\n",
        "#     days_apart = (date2 - date1).days\n",
        "#     # Check if the dates are within two weeks (14 days) apart\n",
        "#     if days_apart <= 14:\n",
        "#         return 1\n",
        "#     else:\n",
        "#         return 0\n",
        "\n",
        "\n",
        "# compare.custom(cmp,\"flight_date\",\"covidtest_date\",label=\"date_cmp\")"
      ]
    },
    {
      "cell_type": "markdown",
      "metadata": {
        "id": "ttsYtOb-oiMa"
      },
      "source": []
    },
    {
      "cell_type": "code",
      "execution_count": null,
      "metadata": {
        "colab": {
          "background_save": true
        },
        "id": "yTnKDF6Kkgjo"
      },
      "outputs": [],
      "source": [
        "cons=health_organisation_dataset['covidtest_result']==\n",
        "selected_rows=health_organisation_dataset[cons]"
      ]
    },
    {
      "cell_type": "code",
      "execution_count": null,
      "metadata": {
        "colab": {
          "background_save": true
        },
        "id": "ngGz4pLYIBAN"
      },
      "outputs": [],
      "source": [
        "%%ag\n",
        "from dateutil import parser\n",
        "\n",
        "# Function to standardize date formats\n",
        "def standardize_date(date_str):\n",
        "    try:\n",
        "        # Try parsing the date using dateutil.parser\n",
        "        return parser.parse(date_str).strftime('%Y-%m-%d')\n",
        "    except ValueError:\n",
        "        # If parsing fails, return a default value or handle accordingly\n",
        "        return None\n",
        "\n",
        "# Apply the standardize_date function to the 'dates' column\n",
        "flight_company_dataset['fight_date'] = flight_company_dataset['flight_date'].apply(standardize_date)\n"
      ]
    }
  ],
  "metadata": {
    "colab": {
      "provenance": [],
      "toc_visible": true
    },
    "kernelspec": {
      "display_name": "Python 3",
      "name": "python3"
    },
    "language_info": {
      "name": "python"
    }
  },
  "nbformat": 4,
  "nbformat_minor": 0
}