{
  "cells": [
    {
      "cell_type": "markdown",
      "metadata": {
        "id": "zDQ8Ox9Aqw5h"
      },
      "source": [
        "# **Exploration and Classification of wine dataset using GaussianNB, LogisticRegression and RandomForest**"
      ]
    },
    {
      "cell_type": "markdown",
      "metadata": {},
      "source": [
        "**installing antigranular**"
      ]
    },
    {
      "cell_type": "code",
      "execution_count": null,
      "metadata": {
        "colab": {
          "base_uri": "https://localhost:8080/"
        },
        "id": "gIfIuQjShceM",
        "outputId": "04ebe03d-a0ea-4ae9-a55f-285af3f8233d"
      },
      "outputs": [
        {
          "name": "stdout",
          "output_type": "stream",
          "text": [
            "Collecting antigranular\n",
            "  Downloading antigranular-0.2.4-py3-none-any.whl (15 kB)\n",
            "Collecting diffprivlib<0.7.0,>=0.6.2 (from antigranular)\n",
            "  Downloading diffprivlib-0.6.3-py3-none-any.whl (176 kB)\n",
            "\u001b[2K     \u001b[90m━━━━━━━━━━━━━━━━━━━━━━━━━━━━━━━━━━━━━━━\u001b[0m \u001b[32m176.0/176.0 kB\u001b[0m \u001b[31m4.3 MB/s\u001b[0m eta \u001b[36m0:00:00\u001b[0m\n",
            "\u001b[?25hRequirement already satisfied: ipython<8.0.0,>=7.34.0 in /usr/local/lib/python3.10/dist-packages (from antigranular) (7.34.0)\n",
            "Collecting oblv-client<0.2.0,>=0.1.15 (from antigranular)\n",
            "  Downloading oblv_client-0.1.15-cp310-cp310-manylinux_2_17_x86_64.manylinux2014_x86_64.whl (6.2 MB)\n",
            "\u001b[2K     \u001b[90m━━━━━━━━━━━━━━━━━━━━━━━━━━━━━━━━━━━━━━━━\u001b[0m \u001b[32m6.2/6.2 MB\u001b[0m \u001b[31m21.5 MB/s\u001b[0m eta \u001b[36m0:00:00\u001b[0m\n",
            "\u001b[?25hRequirement already satisfied: pandas<2.0.0,>=1.5.3 in /usr/local/lib/python3.10/dist-packages (from antigranular) (1.5.3)\n",
            "Requirement already satisfied: pydantic<2.0.0,>=1.10.7 in /usr/local/lib/python3.10/dist-packages (from antigranular) (1.10.11)\n",
            "Requirement already satisfied: requests==2.27.1 in /usr/local/lib/python3.10/dist-packages (from antigranular) (2.27.1)\n",
            "Requirement already satisfied: urllib3<1.27,>=1.21.1 in /usr/local/lib/python3.10/dist-packages (from requests==2.27.1->antigranular) (1.26.16)\n",
            "Requirement already satisfied: certifi>=2017.4.17 in /usr/local/lib/python3.10/dist-packages (from requests==2.27.1->antigranular) (2023.5.7)\n",
            "Requirement already satisfied: charset-normalizer~=2.0.0 in /usr/local/lib/python3.10/dist-packages (from requests==2.27.1->antigranular) (2.0.12)\n",
            "Requirement already satisfied: idna<4,>=2.5 in /usr/local/lib/python3.10/dist-packages (from requests==2.27.1->antigranular) (3.4)\n",
            "Requirement already satisfied: numpy>=1.21.6 in /usr/local/lib/python3.10/dist-packages (from diffprivlib<0.7.0,>=0.6.2->antigranular) (1.22.4)\n",
            "Requirement already satisfied: scikit-learn>=0.24.2 in /usr/local/lib/python3.10/dist-packages (from diffprivlib<0.7.0,>=0.6.2->antigranular) (1.2.2)\n",
            "Requirement already satisfied: scipy>=1.7.3 in /usr/local/lib/python3.10/dist-packages (from diffprivlib<0.7.0,>=0.6.2->antigranular) (1.10.1)\n",
            "Requirement already satisfied: joblib>=0.16.0 in /usr/local/lib/python3.10/dist-packages (from diffprivlib<0.7.0,>=0.6.2->antigranular) (1.3.1)\n",
            "Requirement already satisfied: setuptools>=49.0.0 in /usr/local/lib/python3.10/dist-packages (from diffprivlib<0.7.0,>=0.6.2->antigranular) (67.7.2)\n",
            "Collecting jedi>=0.16 (from ipython<8.0.0,>=7.34.0->antigranular)\n",
            "  Downloading jedi-0.18.2-py2.py3-none-any.whl (1.6 MB)\n",
            "\u001b[2K     \u001b[90m━━━━━━━━━━━━━━━━━━━━━━━━━━━━━━━━━━━━━━━━\u001b[0m \u001b[32m1.6/1.6 MB\u001b[0m \u001b[31m41.8 MB/s\u001b[0m eta \u001b[36m0:00:00\u001b[0m\n",
            "\u001b[?25hRequirement already satisfied: decorator in /usr/local/lib/python3.10/dist-packages (from ipython<8.0.0,>=7.34.0->antigranular) (4.4.2)\n",
            "Requirement already satisfied: pickleshare in /usr/local/lib/python3.10/dist-packages (from ipython<8.0.0,>=7.34.0->antigranular) (0.7.5)\n",
            "Requirement already satisfied: traitlets>=4.2 in /usr/local/lib/python3.10/dist-packages (from ipython<8.0.0,>=7.34.0->antigranular) (5.7.1)\n",
            "Requirement already satisfied: prompt-toolkit!=3.0.0,!=3.0.1,<3.1.0,>=2.0.0 in /usr/local/lib/python3.10/dist-packages (from ipython<8.0.0,>=7.34.0->antigranular) (3.0.39)\n",
            "Requirement already satisfied: pygments in /usr/local/lib/python3.10/dist-packages (from ipython<8.0.0,>=7.34.0->antigranular) (2.14.0)\n",
            "Requirement already satisfied: backcall in /usr/local/lib/python3.10/dist-packages (from ipython<8.0.0,>=7.34.0->antigranular) (0.2.0)\n",
            "Requirement already satisfied: matplotlib-inline in /usr/local/lib/python3.10/dist-packages (from ipython<8.0.0,>=7.34.0->antigranular) (0.1.6)\n",
            "Requirement already satisfied: pexpect>4.3 in /usr/local/lib/python3.10/dist-packages (from ipython<8.0.0,>=7.34.0->antigranular) (4.8.0)\n",
            "Requirement already satisfied: python-dateutil>=2.8.1 in /usr/local/lib/python3.10/dist-packages (from pandas<2.0.0,>=1.5.3->antigranular) (2.8.2)\n",
            "Requirement already satisfied: pytz>=2020.1 in /usr/local/lib/python3.10/dist-packages (from pandas<2.0.0,>=1.5.3->antigranular) (2022.7.1)\n",
            "Requirement already satisfied: typing-extensions>=4.2.0 in /usr/local/lib/python3.10/dist-packages (from pydantic<2.0.0,>=1.10.7->antigranular) (4.7.1)\n",
            "Requirement already satisfied: parso<0.9.0,>=0.8.0 in /usr/local/lib/python3.10/dist-packages (from jedi>=0.16->ipython<8.0.0,>=7.34.0->antigranular) (0.8.3)\n",
            "Requirement already satisfied: ptyprocess>=0.5 in /usr/local/lib/python3.10/dist-packages (from pexpect>4.3->ipython<8.0.0,>=7.34.0->antigranular) (0.7.0)\n",
            "Requirement already satisfied: wcwidth in /usr/local/lib/python3.10/dist-packages (from prompt-toolkit!=3.0.0,!=3.0.1,<3.1.0,>=2.0.0->ipython<8.0.0,>=7.34.0->antigranular) (0.2.6)\n",
            "Requirement already satisfied: six>=1.5 in /usr/local/lib/python3.10/dist-packages (from python-dateutil>=2.8.1->pandas<2.0.0,>=1.5.3->antigranular) (1.16.0)\n",
            "Requirement already satisfied: threadpoolctl>=2.0.0 in /usr/local/lib/python3.10/dist-packages (from scikit-learn>=0.24.2->diffprivlib<0.7.0,>=0.6.2->antigranular) (3.1.0)\n",
            "Installing collected packages: oblv-client, jedi, diffprivlib, antigranular\n",
            "Successfully installed antigranular-0.2.4 diffprivlib-0.6.3 jedi-0.18.2 oblv-client-0.1.15\n"
          ]
        }
      ],
      "source": [
        "!pip install antigranular"
      ]
    },
    {
      "cell_type": "markdown",
      "metadata": {},
      "source": [
        "**Connecting to the ag server**"
      ]
    },
    {
      "cell_type": "code",
      "execution_count": null,
      "metadata": {
        "colab": {
          "base_uri": "https://localhost:8080/"
        },
        "id": "MAUyhR_Vicy2",
        "outputId": "75592118-694b-43e5-cf15-c8a16c56119e"
      },
      "outputs": [
        {
          "name": "stdout",
          "output_type": "stream",
          "text": [
            "Connected to Antigranular server session id: cac0c665-75f8-4a5c-8265-fefa77229e27\n",
            "Cell magic '%%ag' registered successfully, use `%%ag` in a notebook cell to execute your python code on Antigranular private python server\n"
          ]
        }
      ],
      "source": [
        "import antigranular as ag\n",
        "ag_client  = ag.login(<client_id>,<client_secret>, \"comp_dataset_id\", \"temp_username\", \"temp_password\")"
      ]
    },
    {
      "cell_type": "markdown",
      "metadata": {},
      "source": [
        "**Importing necessary modules and dataset**"
      ]
    },
    {
      "cell_type": "code",
      "execution_count": 78,
      "metadata": {
        "id": "M23nvTcii-Jn"
      },
      "outputs": [
        {
          "name": "stdout",
          "output_type": "stream",
          "text": [
            "Dataset \"The Wine Dataset\" loaded to the kernel as \u001b[92mthe_wine_dataset\u001b[0m\n",
            "Key Name                       Value Type     \n",
            "---------------------------------------------\n",
            "train_x                        PrivateDataFrame\n",
            "train_y                        PrivateDataFrame\n",
            "test_x                         DataFrame      \n",
            "\n"
          ]
        }
      ],
      "source": [
        "%%ag\n",
        "from op_pandas import PrivateDataFrame , PrivateSeries\n",
        "from ag_utils import load_dataset, export\n",
        "\n",
        "response=load_dataset('The Wine Dataset')\n",
        "train_x= response ['train_x']\n",
        "train_y= response['train_y']\n",
        "test_x=response ['test_x']"
      ]
    },
    {
      "cell_type": "code",
      "execution_count": 79,
      "metadata": {
        "colab": {
          "base_uri": "https://localhost:8080/"
        },
        "id": "hYYEFBK-sy3o",
        "outputId": "b5619576-7f23-4e1d-daad-d4eb34df9f53"
      },
      "outputs": [
        {
          "name": "stdout",
          "output_type": "stream",
          "text": [
            "Setting up exported variable in local environment: avg\n"
          ]
        }
      ],
      "source": [
        "%%ag\n",
        "#calculating the mean values various column\n",
        "avg=train_x.mean(eps=0.1)\n",
        "export(avg,'avg')"
      ]
    },
    {
      "cell_type": "code",
      "execution_count": 80,
      "metadata": {
        "colab": {
          "base_uri": "https://localhost:8080/"
        },
        "id": "rNdLDTQltNEc",
        "outputId": "10b01762-dd10-4bbf-ae28-29e8de0748c0"
      },
      "outputs": [
        {
          "name": "stdout",
          "output_type": "stream",
          "text": [
            "alcohol                          13.319733\n",
            "malic_acid                        2.559137\n",
            "ash                               2.343858\n",
            "alcalinity_of_ash                23.655117\n",
            "magnesium                       103.405023\n",
            "total_phenols                     1.955299\n",
            "flavanoids                        1.990876\n",
            "nonflavanoid_phenols              0.390196\n",
            "proanthocyanins                   1.063226\n",
            "color_intensity                   6.117091\n",
            "hue                               1.026457\n",
            "0D280_0D315_of_diluted_wines      2.566055\n",
            "proline                         958.636962\n",
            "dtype: float64\n"
          ]
        }
      ],
      "source": [
        "print(avg)"
      ]
    },
    {
      "cell_type": "code",
      "execution_count": 81,
      "metadata": {
        "colab": {
          "base_uri": "https://localhost:8080/"
        },
        "id": "K0Kka6oTurBg",
        "outputId": "951e536e-24f8-4537-9f91-2e31a5915c36"
      },
      "outputs": [
        {
          "name": "stdout",
          "output_type": "stream",
          "text": [
            "Setting up exported variable in local environment: df_info\n"
          ]
        }
      ],
      "source": [
        "%%ag\n",
        "#calling describe method over training data\n",
        "priv_describe = train_x.describe(eps=1)\n",
        "export(priv_describe , 'df_info')"
      ]
    },
    {
      "cell_type": "code",
      "execution_count": 82,
      "metadata": {
        "colab": {
          "base_uri": "https://localhost:8080/"
        },
        "id": "gK7PJWfct_OK",
        "outputId": "3999cbac-03cc-44d7-f635-d8bcc4c94304"
      },
      "outputs": [
        {
          "name": "stdout",
          "output_type": "stream",
          "text": [
            "          alcohol  malic_acid         ash  alcalinity_of_ash   magnesium  \\\n",
            "count  293.000000  528.000000  197.000000           0.000000  150.000000   \n",
            "mean    14.056164    3.552091    1.360000          22.603909   93.494771   \n",
            "std      0.731761    1.810123    0.811390           8.169229   35.195469   \n",
            "min     11.030000    0.740000    1.360000          10.600000   70.000000   \n",
            "25%     11.047172    1.490195    2.453191          20.324509   87.972844   \n",
            "50%     12.850403    3.471884    1.634172          28.553004   91.567352   \n",
            "75%     14.752717    5.153115    1.362994          29.583054  105.948141   \n",
            "max     13.560162    2.470111    3.094009          15.480425   79.423196   \n",
            "\n",
            "       total_phenols  flavanoids  nonflavanoid_phenols  proanthocyanins  \\\n",
            "count       0.000000    0.000000            194.000000       142.000000   \n",
            "mean        3.546410    5.013798              0.660000         0.410000   \n",
            "std         0.724618    1.260347              0.216016         1.401058   \n",
            "min         0.980000    0.340000              0.130000         0.410000   \n",
            "25%         0.981474    1.561646              0.226062         3.144187   \n",
            "50%         1.808360    4.987192              0.267433         0.442116   \n",
            "75%         2.822315    5.037243              0.621678         1.137082   \n",
            "max         3.780429    0.469186              0.468248         1.587420   \n",
            "\n",
            "       color_intensity         hue  0D280_0D315_of_diluted_wines      proline  \n",
            "count       368.000000  252.000000                     92.000000   335.000000  \n",
            "mean         13.000000    1.457564                      2.035345   278.000000  \n",
            "std           4.609699    0.240384                      1.177305   442.798093  \n",
            "min           1.280000    0.480000                      1.270000   413.885944  \n",
            "25%           3.006417    0.945477                      1.748710  1546.025101  \n",
            "50%          11.102319    0.678188                      3.528589  1458.691636  \n",
            "75%           8.636410    1.548602                      1.402982   663.452113  \n",
            "max           1.746320    0.834771                      2.817217   702.315118  \n"
          ]
        }
      ],
      "source": [
        "print(df_info)"
      ]
    },
    {
      "cell_type": "code",
      "execution_count": 83,
      "metadata": {
        "colab": {
          "base_uri": "https://localhost:8080/"
        },
        "id": "iHeSMOYLAsFv",
        "outputId": "1228f947-a2c0-47eb-a603-de876ee08a8e"
      },
      "outputs": [
        {
          "name": "stdout",
          "output_type": "stream",
          "text": [
            "Setting up exported variable in local environment: result\n"
          ]
        }
      ],
      "source": [
        "%%ag\n",
        "#joining the training data and training label\n",
        "train_data = train_x.join(train_y , how=\"left\")\n",
        "export(train_data.describe(eps=0.5) , 'result')"
      ]
    },
    {
      "cell_type": "code",
      "execution_count": 84,
      "metadata": {
        "colab": {
          "base_uri": "https://localhost:8080/"
        },
        "id": "8dccN_DaA2Eh",
        "outputId": "86a0501b-3b2f-4807-a915-2854e7932124"
      },
      "outputs": [
        {
          "name": "stdout",
          "output_type": "stream",
          "text": [
            "         alcohol  malic_acid       ash  alcalinity_of_ash   magnesium  \\\n",
            "count   3.000000   84.000000  0.000000         211.000000  284.000000   \n",
            "mean   14.830000    0.740000  1.618493          30.000000  133.408293   \n",
            "std     1.458533    1.067196  0.929954           5.770877   31.631120   \n",
            "min    11.030000    0.740000  1.360000          10.600000   70.000000   \n",
            "25%    14.821030    3.958995  1.980867          28.539685  124.828244   \n",
            "50%    12.893098    0.929417  3.158004          27.451866   92.236205   \n",
            "75%    12.583266    5.093367  1.781700          26.016748   95.414450   \n",
            "max    11.558248    3.834061  3.183141          28.761080  153.137711   \n",
            "\n",
            "       total_phenols  flavanoids  nonflavanoid_phenols  proanthocyanins  \\\n",
            "count     124.000000    0.000000            135.000000       147.000000   \n",
            "mean        2.940776    0.340000              0.660000         0.410000   \n",
            "std         1.044133    1.730655              0.243139         1.468013   \n",
            "min         0.980000    0.340000              0.130000         0.410000   \n",
            "25%         3.559047    0.906105              0.232098         2.020006   \n",
            "50%         3.721231    0.961339              0.292634         2.200456   \n",
            "75%         2.821971    0.685836              0.135639         1.889207   \n",
            "max         2.035728    3.337405              0.526668         3.380754   \n",
            "\n",
            "       color_intensity         hue  0D280_0D315_of_diluted_wines      proline  \\\n",
            "count       315.000000  253.000000                    145.000000     0.000000   \n",
            "mean          1.280000    1.516907                      4.000000   278.000000   \n",
            "std           5.196907    0.573032                      0.965896   478.856650   \n",
            "min           1.280000    0.480000                      1.270000   649.047348   \n",
            "25%           5.969845    0.583996                      2.168327  1580.727215   \n",
            "50%           5.281768    1.021875                      3.342892   677.512150   \n",
            "75%           8.417904    1.610445                      3.957972   598.241063   \n",
            "max          12.994284    1.533855                      2.670077  1494.280549   \n",
            "\n",
            "       cultivars  \n",
            "count   0.000000  \n",
            "mean    1.360861  \n",
            "std     0.615428  \n",
            "min     1.000000  \n",
            "25%     2.980037  \n",
            "50%     1.122769  \n",
            "75%     1.111002  \n",
            "max     1.830691  \n"
          ]
        }
      ],
      "source": [
        "print(result)"
      ]
    },
    {
      "cell_type": "code",
      "execution_count": 85,
      "metadata": {
        "colab": {
          "base_uri": "https://localhost:8080/"
        },
        "id": "gWdzS6TIvbp5",
        "outputId": "2795b889-5803-4bc0-9172-dae81c0efccb"
      },
      "outputs": [
        {
          "name": "stdout",
          "output_type": "stream",
          "text": [
            "Setting up exported variable in local environment: result\n"
          ]
        }
      ],
      "source": [
        "%%ag\n",
        "#removing null values from the training data\n",
        "export(train_data.dropna(axis=0).describe(eps=1), 'result')"
      ]
    },
    {
      "cell_type": "code",
      "execution_count": 86,
      "metadata": {
        "colab": {
          "base_uri": "https://localhost:8080/"
        },
        "id": "uU_imd37wMqk",
        "outputId": "7a3191ed-bc09-4bb5-82a1-3e27d2d78543"
      },
      "outputs": [
        {
          "name": "stdout",
          "output_type": "stream",
          "text": [
            "          alcohol  malic_acid         ash  alcalinity_of_ash   magnesium  \\\n",
            "count  132.000000  144.000000  144.000000         133.000000  246.000000   \n",
            "mean    13.285976    0.740000    1.441959          19.086401  130.165484   \n",
            "std      0.717015    1.944922    0.514611           9.572690   21.607285   \n",
            "min     11.030000    0.740000    1.360000          10.600000   70.000000   \n",
            "25%     13.552974    1.164231    2.550511          28.518903   90.819155   \n",
            "50%     13.491007    3.539095    3.215861          24.581322   89.345306   \n",
            "75%     12.714850    2.949008    2.267493          24.643258   87.600220   \n",
            "max     14.391054    3.233784    1.481965          24.583492   91.599736   \n",
            "\n",
            "       total_phenols  flavanoids  nonflavanoid_phenols  proanthocyanins  \\\n",
            "count     292.000000  142.000000            284.000000       169.000000   \n",
            "mean        0.980000    0.340000              0.130000         0.410000   \n",
            "std         1.299375    1.818157              0.133008         1.031302   \n",
            "min         0.980000    0.340000              0.130000         0.410000   \n",
            "25%         3.575147    3.168415              0.275959         3.485551   \n",
            "50%         2.870153    1.599840              0.468977         0.777492   \n",
            "75%         1.093095    2.106480              0.250589         1.922594   \n",
            "max         3.662732    3.124775              0.424755         2.835766   \n",
            "\n",
            "       color_intensity         hue  0D280_0D315_of_diluted_wines      proline  \\\n",
            "count        47.000000  147.000000                    144.000000    12.000000   \n",
            "mean          5.684877    1.710000                      2.752371   278.000000   \n",
            "std           5.257692    0.111094                      0.905928   506.478335   \n",
            "min           1.280000    0.480000                      1.270000   763.810498   \n",
            "25%           7.417696    1.164048                      1.356947   897.694279   \n",
            "50%          11.256604    1.460894                      2.979845   817.363877   \n",
            "75%           4.665283    0.747207                      3.922855   793.970764   \n",
            "max          12.770930    0.841398                      3.837158  1185.243893   \n",
            "\n",
            "        cultivars  \n",
            "count  138.000000  \n",
            "mean     3.000000  \n",
            "std      0.950807  \n",
            "min      1.000000  \n",
            "25%      1.007215  \n",
            "50%      2.873157  \n",
            "75%      1.008235  \n",
            "max      2.014618  \n"
          ]
        }
      ],
      "source": [
        "print(result)"
      ]
    },
    {
      "cell_type": "code",
      "execution_count": 87,
      "metadata": {
        "colab": {
          "base_uri": "https://localhost:8080/"
        },
        "id": "28olg6P6FfmA",
        "outputId": "60f1e377-81b9-40e0-900e-4078246dd9d4"
      },
      "outputs": [
        {
          "name": "stdout",
          "output_type": "stream",
          "text": [
            "Setting up exported variable in local environment: columns\n"
          ]
        }
      ],
      "source": [
        "%%ag\n",
        "export(train_data.columns, \"columns\")"
      ]
    },
    {
      "cell_type": "code",
      "execution_count": 88,
      "metadata": {
        "colab": {
          "base_uri": "https://localhost:8080/"
        },
        "id": "-QX1h_LbKGzE",
        "outputId": "b3c12c35-36c1-43c0-9304-962857a9bf5c"
      },
      "outputs": [
        {
          "name": "stdout",
          "output_type": "stream",
          "text": [
            "['alcohol', 'malic_acid', 'ash', 'alcalinity_of_ash', 'magnesium', 'total_phenols', 'flavanoids', 'nonflavanoid_phenols', 'proanthocyanins', 'color_intensity', 'hue', '0D280_0D315_of_diluted_wines', 'proline', 'cultivars']\n"
          ]
        }
      ],
      "source": [
        "#printing the column names\n",
        "print(columns)"
      ]
    },
    {
      "cell_type": "code",
      "execution_count": 89,
      "metadata": {
        "colab": {
          "base_uri": "https://localhost:8080/"
        },
        "id": "rLQdyNGPSyxu",
        "outputId": "13aed250-5ed4-45d9-e9b9-9ce52ef28b68"
      },
      "outputs": [
        {
          "name": "stderr",
          "output_type": "stream",
          "text": [
            "/code/dependencies/op_pandas/op_pandas/utils/stat_utils.py:240: RuntimeWarning: invalid value encountered in sqrt\n",
            "  ) / np.sqrt(\n",
            "\n"
          ]
        },
        {
          "name": "stdout",
          "output_type": "stream",
          "text": [
            "Setting up exported variable in local environment: priv_corr\n"
          ]
        }
      ],
      "source": [
        "%%ag\n",
        "#calculating the correlation between the columns\n",
        "priv_corr = train_x.corr(eps=1)\n",
        "export(priv_corr , 'priv_corr')"
      ]
    },
    {
      "cell_type": "code",
      "execution_count": 90,
      "metadata": {
        "colab": {
          "base_uri": "https://localhost:8080/",
          "height": 654
        },
        "id": "E0HsWx0nS3OM",
        "outputId": "c0245efc-d768-4da9-8c5e-2a76c2361d04"
      },
      "outputs": [
        {
          "data": {
            "text/plain": [
              "<Axes: >"
            ]
          },
          "execution_count": 90,
          "metadata": {},
          "output_type": "execute_result"
        },
        {
          "data": {
            "image/png": "[encoded data removed]",
            "text/plain": [
              "<Figure size 640x480 with 2 Axes>"
            ]
          },
          "metadata": {},
          "output_type": "display_data"
        }
      ],
      "source": [
        "import pandas as pd\n",
        "import seaborn as sns\n",
        "result = priv_corr.apply(pd.to_numeric, errors='coerce').astype(float)\n",
        "sns.heatmap(result , annot = True)"
      ]
    },
    {
      "cell_type": "markdown",
      "metadata": {
        "id": "UyGBnhzTQJft"
      },
      "source": [
        "# GaussianNB"
      ]
    },
    {
      "cell_type": "code",
      "execution_count": 91,
      "metadata": {
        "colab": {
          "base_uri": "https://localhost:8080/"
        },
        "id": "o5IeAgwlwSm3",
        "outputId": "622f7a17-9b31-4a42-dcef-a1bf53f312a5"
      },
      "outputs": [
        {
          "name": "stderr",
          "output_type": "stream",
          "text": [
            "/usr/local/lib/python3.10/site-packages/sklearn/utils/validation.py:1183: DataConversionWarning: A column-vector y was passed when a 1d array was expected. Please change the shape of y to (n_samples, ), for example using ravel().\n",
            "  y = column_or_1d(y, warn=True)\n",
            "\n"
          ]
        }
      ],
      "source": [
        "%%ag\n",
        "#using the GaussianNB model to fit the training data\n",
        "import op_diffprivlib\n",
        "from op_diffprivlib.models import  LogisticRegression, GaussianNB\n",
        "bounds = ([11.03,0.74, 1.36, 10.6, 70,0.98,0.34,0.13,0.41,1.28,0.48,1.27,278], [14.83, 5.8, 3.23, 30, 162,3.88,5.08,0.66,3.58,13,1.71,4,1680])\n",
        "dp_clf2 = GaussianNB(epsilon=5, bounds=bounds, random_state=0)\n",
        "dp_clf2.fit(train_x, train_y)"
      ]
    },
    {
      "cell_type": "code",
      "execution_count": 92,
      "metadata": {
        "colab": {
          "base_uri": "https://localhost:8080/"
        },
        "id": "k4weaiarPqh9",
        "outputId": "f7470967-b7ed-4412-b5fc-3881f25f80c9"
      },
      "outputs": [
        {
          "name": "stdout",
          "output_type": "stream",
          "text": [
            "Setting up exported variable in local environment: out\n"
          ]
        }
      ],
      "source": [
        "%%ag\n",
        "#predicting the output for the test data\n",
        "out=dp_clf2.predict(test_x)\n",
        "export(out,'out')"
      ]
    },
    {
      "cell_type": "code",
      "execution_count": 93,
      "metadata": {
        "colab": {
          "base_uri": "https://localhost:8080/"
        },
        "id": "dYbRSdDHQAIU",
        "outputId": "15348fc9-4854-484c-9003-3557edb14190"
      },
      "outputs": [
        {
          "name": "stdout",
          "output_type": "stream",
          "text": [
            "[1 2 2 2 2 2 2 3 2 2 2 3 2 2 1 2 2 2 1 2 1 2 1 3 3 3 2 2 2 1 1 2 2 1 2 1]\n"
          ]
        }
      ],
      "source": [
        "#predicted output\n",
        "print(out)"
      ]
    },
    {
      "cell_type": "code",
      "execution_count": 94,
      "metadata": {},
      "outputs": [
        {
          "name": "stdout",
          "output_type": "stream",
          "text": [
            "score: {'leaderboard': 0.9212095566807165, 'logs': {'BIN_ACC': 0.9212095566807165}}\n",
            "\n"
          ]
        }
      ],
      "source": [
        "%%ag\n",
        "#calculating the accuracy of the model\n",
        "import pandas as pd\n",
        "out=pd.DataFrame(out)\n",
        "submit_predictions(out, \"The Wine Dataset\")"
      ]
    },
    {
      "cell_type": "markdown",
      "metadata": {
        "id": "iHhBUKLfQOYU"
      },
      "source": [
        "# LogisticRegression"
      ]
    },
    {
      "cell_type": "code",
      "execution_count": 95,
      "metadata": {
        "colab": {
          "base_uri": "https://localhost:8080/"
        },
        "id": "pwEb3Sul0Z7U",
        "outputId": "f7f0ef5a-e145-4bd1-b583-1e61af16a28a"
      },
      "outputs": [
        {
          "name": "stderr",
          "output_type": "stream",
          "text": [
            "/usr/local/lib/python3.10/site-packages/sklearn/utils/validation.py:1183: DataConversionWarning: A column-vector y was passed when a 1d array was expected. Please change the shape of y to (n_samples, ), for example using ravel().\n",
            "  y = column_or_1d(y, warn=True)\n",
            "\n"
          ]
        }
      ],
      "source": [
        "%%ag\n",
        "#using the LogisticRegression model to fit the training data\n",
        "from op_diffprivlib.models import  LogisticRegression\n",
        "clf = LogisticRegression(data_norm=12, epsilon=5).fit(train_x, train_y)\n"
      ]
    },
    {
      "cell_type": "code",
      "execution_count": 96,
      "metadata": {},
      "outputs": [
        {
          "name": "stdout",
          "output_type": "stream",
          "text": [
            "Setting up exported variable in local environment: predicted_value\n",
            "score: {'leaderboard': 1.0, 'logs': {'BIN_ACC': 1.0}}\n",
            "\n"
          ]
        }
      ],
      "source": [
        "%%ag\n",
        "#predicting the output for the test data\n",
        "prediction=clf.predict(test_x)\n",
        "prediction=pd.DataFrame(prediction)\n",
        "submit_predictions(prediction)\n",
        "export(prediction,'predicted_value')"
      ]
    },
    {
      "cell_type": "code",
      "execution_count": 97,
      "metadata": {
        "colab": {
          "base_uri": "https://localhost:8080/"
        },
        "id": "6P6hUgBd2qvQ",
        "outputId": "8d81d64f-20e4-4557-bf21-e76fc8741c47"
      },
      "outputs": [
        {
          "name": "stdout",
          "output_type": "stream",
          "text": [
            "    0\n",
            "0   2\n",
            "1   1\n",
            "2   2\n",
            "3   1\n",
            "4   2\n",
            "5   1\n",
            "6   2\n",
            "7   2\n",
            "8   2\n",
            "9   1\n",
            "10  1\n",
            "11  3\n",
            "12  1\n",
            "13  3\n",
            "14  1\n",
            "15  3\n",
            "16  3\n",
            "17  2\n",
            "18  1\n",
            "19  3\n",
            "20  1\n",
            "21  2\n",
            "22  2\n",
            "23  2\n",
            "24  3\n",
            "25  2\n",
            "26  3\n",
            "27  2\n",
            "28  2\n",
            "29  1\n",
            "30  1\n",
            "31  3\n",
            "32  2\n",
            "33  1\n",
            "34  1\n",
            "35  1\n"
          ]
        }
      ],
      "source": [
        "#predicted output\n",
        "print(predicted_value)"
      ]
    },
    {
      "cell_type": "markdown",
      "metadata": {
        "id": "VJFrNhj7Qdyh"
      },
      "source": [
        "# RandomForest"
      ]
    },
    {
      "cell_type": "code",
      "execution_count": 103,
      "metadata": {
        "id": "LBuIwhUV2tHt"
      },
      "outputs": [
        {
          "name": "stderr",
          "output_type": "stream",
          "text": [
            "/usr/local/lib/python3.10/site-packages/sklearn/utils/validation.py:1183: DataConversionWarning: A column-vector y was passed when a 1d array was expected. Please change the shape of y to (n_samples, ), for example using ravel().\n",
            "  y = column_or_1d(y, warn=True)\n",
            "\n"
          ]
        }
      ],
      "source": [
        "%%ag\n",
        "#fitting the training data using RandomForestClassifier\n",
        "from op_diffprivlib.models import RandomForestClassifier\n",
        "model = RandomForestClassifier(n_estimators=100, epsilon = 20 , random_state=0 , bounds=bounds , classes=list(train_x.columns))\n",
        "model.fit(train_x,train_y)"
      ]
    },
    {
      "cell_type": "code",
      "execution_count": 104,
      "metadata": {
        "colab": {
          "base_uri": "https://localhost:8080/"
        },
        "id": "8_JqtG-7Qwkk",
        "outputId": "b1f11de5-8b7f-4363-df06-68e411cc5e87"
      },
      "outputs": [
        {
          "name": "stdout",
          "output_type": "stream",
          "text": [
            "score: {'leaderboard': 0.0, 'logs': {'BIN_ACC': 0.0}}\n",
            "\n"
          ]
        }
      ],
      "source": [
        "%%ag\n",
        "#predicting the output for the test data\n",
        "out = model.predict(test_x)\n",
        "out=pd.DataFrame(out)\n",
        "submit_predictions(out)"
      ]
    },
    {
      "cell_type": "code",
      "execution_count": null,
      "metadata": {
        "id": "R_568e9GRgTI"
      },
      "outputs": [],
      "source": [
        "session.privacy_odometer()"
      ]
    },
    {
      "cell_type": "code",
      "execution_count": null,
      "metadata": {},
      "outputs": [],
      "source": []
    },
    {
      "cell_type": "code",
      "execution_count": null,
      "metadata": {},
      "outputs": [],
      "source": []
    }
  ],
  "metadata": {
    "colab": {
      "provenance": []
    },
    "kernelspec": {
      "display_name": "Python 3",
      "name": "python3"
    },
    "language_info": {
      "codemirror_mode": {
        "name": "ipython",
        "version": 3
      },
      "file_extension": ".py",
      "mimetype": "text/x-python",
      "name": "python",
      "nbconvert_exporter": "python",
      "pygments_lexer": "ipython3",
      "version": "3.9.13"
    }
  },
  "nbformat": 4,
  "nbformat_minor": 0
}
