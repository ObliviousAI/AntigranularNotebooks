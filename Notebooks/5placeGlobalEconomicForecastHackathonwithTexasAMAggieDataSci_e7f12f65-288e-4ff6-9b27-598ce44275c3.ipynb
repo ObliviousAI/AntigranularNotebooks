{
 "cells": [
  {
   "cell_type": "code",
   "execution_count": 115,
   "metadata": {
    "id": "5uFCyt-Puq4K"
   },
   "outputs": [],
   "source": [
    "# Install the Antigranular package\n",
    "!pip install antigranular &> /dev/null"
   ]
  },
  {
   "cell_type": "code",
   "execution_count": null,
   "metadata": {
    "colab": {
     "base_uri": "https://localhost:8080/",
     "height": 191
    },
    "id": "w_JcMMSMv_Ze",
    "outputId": "889895a1-0553-4f41-eac4-3560390c3a09"
   },
   "outputs": [
    {
     "data": {
      "text/html": [],
      "text/plain": [
       "<IPython.core.display.HTML object>"
      ]
     },
     "metadata": {},
     "output_type": "display_data"
    },
    {
     "name": "stdout",
     "output_type": "stream",
     "text": [
      "Dataset \"Statistical Performance Indicators\" loaded to the kernel as \u001b[92mstatistical_performance_indicators\u001b[0m\n",
      "Key Name                       Value Type     \n",
      "---------------------------------------------\n",
      "train_x                        PrivateDataFrame\n",
      "train_y                        PrivateDataFrame\n",
      "test_x                         DataFrame      \n",
      "\n",
      "Connected to Antigranular server session id: e7f12f65-288e-4ff6-9b27-598ce44275c3, the session will time out if idle for 25 minutes\n",
      "Cell magic '%%ag' registered successfully, use `%%ag` in a notebook cell to execute your python code on Antigranular private python server\n",
      "🚀 Everything's set up and ready to roll!\n"
     ]
    }
   ],
   "source": [
    "import antigranular as ag\n",
    "session = ag.login(<client_id>,<client_secret>, competition = \"Global Economic Forecast Hackathon with Texas A&M Aggie Data Science\")"
   ]
  },
  {
   "cell_type": "code",
   "execution_count": 117,
   "metadata": {
    "id": "8IHVwjFKk2Ys"
   },
   "outputs": [],
   "source": [
    "%%ag\n",
    "x_train = statistical_performance_indicators[\"train_x\"]\n",
    "y_train = statistical_performance_indicators[\"train_y\"]\n",
    "x_test = statistical_performance_indicators[\"test_x\"]"
   ]
  },
  {
   "cell_type": "code",
   "execution_count": 118,
   "metadata": {
    "colab": {
     "base_uri": "https://localhost:8080/"
    },
    "id": "QVMog5sFunqk",
    "outputId": "bc3a2c73-c7fc-4b0d-ce6a-136f4bc32555"
   },
   "outputs": [
    {
     "name": "stderr",
     "output_type": "stream",
     "text": [
      "/usr/local/lib/python3.10/site-packages/tensorflow/__init__.py:30: DeprecationWarning: The distutils package is deprecated and slated for removal in Python 3.12. Use setuptools or check PEP 632 for potential alternatives\n",
      "  import distutils as _distutils\n",
      "\n",
      "2024-11-17 13:31:24.219661: I tensorflow/core/util/port.cc:113] oneDNN custom operations are on. You may see slightly different numerical results due to floating-point round-off errors from different computation orders. To turn them off, set the environment variable `TF_ENABLE_ONEDNN_OPTS=0`.\n",
      "2024-11-17 13:31:24.222872: I external/local_tsl/tsl/cuda/cudart_stub.cc:31] Could not find cuda drivers on your machine, GPU will not be used.\n",
      "2024-11-17 13:31:24.335447: E external/local_xla/xla/stream_executor/cuda/cuda_dnn.cc:9261] Unable to register cuDNN factory: Attempting to register factory for plugin cuDNN when one has already been registered\n",
      "2024-11-17 13:31:24.335484: E external/local_xla/xla/stream_executor/cuda/cuda_fft.cc:607] Unable to register cuFFT factory: Attempting to register factory for plugin cuFFT when one has already been registered\n",
      "2024-11-17 13:31:24.412724: E external/local_xla/xla/stream_executor/cuda/cuda_blas.cc:1515] Unable to register cuBLAS factory: Attempting to register factory for plugin cuBLAS when one has already been registered\n",
      "2024-11-17 13:31:24.419272: I external/local_tsl/tsl/cuda/cudart_stub.cc:31] Could not find cuda drivers on your machine, GPU will not be used.\n",
      "2024-11-17 13:31:24.420791: I tensorflow/core/platform/cpu_feature_guard.cc:182] This TensorFlow binary is optimized to use available CPU instructions in performance-critical operations.\n",
      "To enable the following instructions: AVX2 AVX512F AVX512_VNNI FMA, in other operations, rebuild TensorFlow with the appropriate compiler flags.\n",
      "\n",
      "2024-11-17 13:31:28.118181: W tensorflow/compiler/tf2tensorrt/utils/py_utils.cc:38] TF-TRT Warning: Could not find TensorRT\n",
      "\n"
     ]
    }
   ],
   "source": [
    "%%ag\n",
    "import tensorflow as tf\n",
    "from op_pandas import standard_scaler, PrivateDataFrame\n",
    "from tensorflow.keras.models import Sequential\n",
    "from tensorflow.keras.layers import Dense, Dropout, BatchNormalization\n",
    "from tensorflow.keras.callbacks import EarlyStopping, ReduceLROnPlateau\n",
    "from op_tensorflow import PrivateKerasModel, PrivateDataLoader\n",
    "\n",
    "# Efficient Sequential model with privacy constraints in mind\n",
    "seqM = Sequential([\n",
    "    # Input block\n",
    "    Dense(256, input_shape=(24,)),\n",
    "    BatchNormalization(),\n",
    "    tf.keras.layers.ReLU(),\n",
    "    Dropout(0.1),\n",
    "\n",
    "    # First dense block\n",
    "    Dense(256),\n",
    "    BatchNormalization(),\n",
    "    tf.keras.layers.ReLU(),\n",
    "    Dropout(0.1),\n",
    "\n",
    "    # Second dense block\n",
    "    Dense(128),\n",
    "    BatchNormalization(),\n",
    "    tf.keras.layers.ReLU(),\n",
    "    Dropout(0.1),\n",
    "\n",
    "    # Final refinement layer\n",
    "    Dense(64),\n",
    "    BatchNormalization(),\n",
    "    tf.keras.layers.ReLU(),\n",
    "    Dropout(0.1),\n",
    "\n",
    "    # Output layer\n",
    "    Dense(1, activation='sigmoid')\n",
    "])\n",
    "\n",
    "# Create DP keras model with strict privacy parameters\n",
    "dp_model = PrivateKerasModel(\n",
    "    model=seqM,\n",
    "    l2_norm_clip=0.8,  # Reduced for privacy budget\n",
    "    noise_multiplier=0.7  # Increased for stronger privacy guarantees\n",
    ")\n",
    "\n",
    "# Optimizer with conservative learning rate\n",
    "optimizer = tf.keras.optimizers.Adam(\n",
    "    learning_rate=0.0005,  # Reduced learning rate\n",
    "    beta_1=0.9,\n",
    "    beta_2=0.999,\n",
    "    epsilon=1e-07\n",
    ")\n",
    "\n",
    "# Compile model\n",
    "dp_model.compile(\n",
    "    optimizer=optimizer,\n",
    "    loss='binary_crossentropy',\n",
    "    metrics=['accuracy']\n",
    ")"
   ]
  },
  {
   "cell_type": "code",
   "execution_count": 119,
   "metadata": {
    "id": "-IRE6nbYvcw7"
   },
   "outputs": [],
   "source": [
    "%%ag\n",
    "data_loader = PrivateDataLoader(feature_df=x_train , label_df=y_train, batch_size=64)"
   ]
  },
  {
   "cell_type": "code",
   "execution_count": 120,
   "metadata": {
    "colab": {
     "base_uri": "https://localhost:8080/"
    },
    "id": "BkYeXE1nv0EL",
    "outputId": "66aa3570-6fec-4f7a-dfd6-3b0a5cc57761"
   },
   "outputs": [
    {
     "name": "stdout",
     "output_type": "stream",
     "text": [
      "Epoch 1/30\n",
      "\n",
      "58/58 - 11s - loss: 0.4897 - accuracy: 0.7578 - 11s/epoch - 183ms/step\n",
      "\n",
      "Epoch 2/30\n",
      "\n",
      "58/58 - 3s - loss: 0.4217 - accuracy: 0.7923 - 3s/epoch - 48ms/step\n",
      "\n",
      "Epoch 3/30\n",
      "\n",
      "58/58 - 2s - loss: 0.3928 - accuracy: 0.8107 - 2s/epoch - 43ms/step\n",
      "\n",
      "Epoch 4/30\n",
      "\n",
      "58/58 - 2s - loss: 0.3571 - accuracy: 0.8399 - 2s/epoch - 41ms/step\n",
      "\n",
      "Epoch 5/30\n",
      "\n",
      "58/58 - 2s - loss: 0.3494 - accuracy: 0.8392 - 2s/epoch - 43ms/step\n",
      "\n",
      "Epoch 6/30\n",
      "\n",
      "58/58 - 2s - loss: 0.3321 - accuracy: 0.8475 - 2s/epoch - 41ms/step\n",
      "\n",
      "Epoch 7/30\n",
      "\n",
      "58/58 - 2s - loss: 0.3143 - accuracy: 0.8515 - 2s/epoch - 41ms/step\n",
      "\n",
      "Epoch 8/30\n",
      "\n",
      "58/58 - 2s - loss: 0.3045 - accuracy: 0.8612 - 2s/epoch - 41ms/step\n",
      "\n",
      "Epoch 9/30\n",
      "\n",
      "58/58 - 3s - loss: 0.2959 - accuracy: 0.8677 - 3s/epoch - 43ms/step\n",
      "\n",
      "Epoch 10/30\n",
      "\n",
      "58/58 - 3s - loss: 0.2969 - accuracy: 0.8687 - 3s/epoch - 45ms/step\n",
      "\n",
      "Epoch 11/30\n",
      "\n",
      "58/58 - 2s - loss: 0.2658 - accuracy: 0.8821 - 2s/epoch - 43ms/step\n",
      "\n",
      "Epoch 12/30\n",
      "\n",
      "58/58 - 2s - loss: 0.2687 - accuracy: 0.8778 - 2s/epoch - 41ms/step\n",
      "\n",
      "Epoch 13/30\n",
      "\n",
      "58/58 - 2s - loss: 0.2636 - accuracy: 0.8838 - 2s/epoch - 41ms/step\n",
      "\n",
      "Epoch 14/30\n",
      "\n",
      "58/58 - 2s - loss: 0.2377 - accuracy: 0.8992 - 2s/epoch - 41ms/step\n",
      "\n",
      "Epoch 15/30\n",
      "\n",
      "58/58 - 2s - loss: 0.2467 - accuracy: 0.8954 - 2s/epoch - 41ms/step\n",
      "\n",
      "Epoch 16/30\n",
      "\n",
      "58/58 - 2s - loss: 0.2344 - accuracy: 0.9011 - 2s/epoch - 43ms/step\n",
      "\n",
      "Epoch 17/30\n",
      "\n",
      "58/58 - 2s - loss: 0.2311 - accuracy: 0.8983 - 2s/epoch - 40ms/step\n",
      "\n",
      "Epoch 18/30\n",
      "\n",
      "58/58 - 2s - loss: 0.2206 - accuracy: 0.9067 - 2s/epoch - 40ms/step\n",
      "\n",
      "Epoch 19/30\n",
      "\n",
      "58/58 - 2s - loss: 0.2308 - accuracy: 0.8996 - 2s/epoch - 40ms/step\n",
      "\n",
      "Epoch 20/30\n",
      "\n",
      "58/58 - 3s - loss: 0.2148 - accuracy: 0.9073 - 3s/epoch - 45ms/step\n",
      "\n",
      "Epoch 21/30\n",
      "\n",
      "58/58 - 3s - loss: 0.2012 - accuracy: 0.9154 - 3s/epoch - 45ms/step\n",
      "\n",
      "Epoch 22/30\n",
      "\n",
      "58/58 - 2s - loss: 0.2113 - accuracy: 0.9062 - 2s/epoch - 43ms/step\n",
      "\n",
      "Epoch 23/30\n",
      "\n",
      "58/58 - 3s - loss: 0.1926 - accuracy: 0.9258 - 3s/epoch - 43ms/step\n",
      "\n",
      "Epoch 24/30\n",
      "\n",
      "58/58 - 3s - loss: 0.1881 - accuracy: 0.9218 - 3s/epoch - 48ms/step\n",
      "\n",
      "Epoch 25/30\n",
      "\n",
      "58/58 - 3s - loss: 0.1924 - accuracy: 0.9196 - 3s/epoch - 45ms/step\n",
      "\n",
      "Epoch 26/30\n",
      "\n",
      "58/58 - 3s - loss: 0.1869 - accuracy: 0.9218 - 3s/epoch - 45ms/step\n",
      "\n",
      "Epoch 27/30\n",
      "\n",
      "58/58 - 3s - loss: 0.1736 - accuracy: 0.9303 - 3s/epoch - 43ms/step\n",
      "\n",
      "Epoch 28/30\n",
      "\n",
      "58/58 - 2s - loss: 0.1740 - accuracy: 0.9298 - 2s/epoch - 43ms/step\n",
      "\n",
      "Epoch 29/30\n",
      "\n",
      "58/58 - 2s - loss: 0.1675 - accuracy: 0.9312 - 2s/epoch - 43ms/step\n",
      "\n",
      "Epoch 30/30\n",
      "\n",
      "58/58 - 2s - loss: 0.1578 - accuracy: 0.9400 - 2s/epoch - 41ms/step\n",
      "\n",
      "message: Error ID is - 2fcdc5e4-bccb-4087-b0d3-eebdd724116b - Error from upstream service: Client error '400 Bad Request' for url 'http://supervisor-prod-private.antigranular.com/privacyRequest'\n",
      "For more information check: https://httpstatuses.com/400. Response text: {\"detail\":\"Maximum delta or epsilon exceeded per query. Per query limits are eps : 1 and delta : 0.001\"}\n",
      "\n",
      "message: Error ID is - a4578164-4a8d-4f7d-bcc1-7de0ec03be61 - Error from upstream service: Client error '400 Bad Request' for url 'http://supervisor-prod-private.antigranular.com/privacyRequest'\n",
      "For more information check: https://httpstatuses.com/400. Response text: {\"detail\":\"Maximum delta or epsilon exceeded per query. Per query limits are eps : 1 and delta : 0.001\"}\n",
      "\n",
      "\u001b[0;31mValueError\u001b[0m: Request Limit Exceeded!\n"
     ]
    }
   ],
   "source": [
    "%%ag\n",
    "dp_model.fit(x=data_loader, epochs=30, target_delta=0.5)"
   ]
  },
  {
   "cell_type": "code",
   "execution_count": 121,
   "metadata": {
    "colab": {
     "base_uri": "https://localhost:8080/"
    },
    "id": "dt_0vemmvq17",
    "outputId": "433df295-5274-4f17-d034-c91ffa26e16c"
   },
   "outputs": [
    {
     "name": "stdout",
     "output_type": "stream",
     "text": [
      "\r 1/13 [=>............................] - ETA: 6s\n",
      "\b\b\b\b\b\b\b\b\b\b\b\b\b\b\b\b\b\b\b\b\b\b\b\b\b\b\b\b\b\b\b\b\b\b\b\b\b\b\b\b\b\b\b\b\b\b\b\b\r 2/13 [===>..........................] - ETA: 0s\n",
      "\b\b\b\b\b\b\b\b\b\b\b\b\b\b\b\b\b\b\b\b\b\b\b\b\b\b\b\b\b\b\b\b\b\b\b\b\b\b\b\b\b\b\b\b\b\b\b\b\r12/13 [==========================>...] - ETA: 0s\n",
      "\b\b\b\b\b\b\b\b\b\b\b\b\b\b\b\b\b\b\b\b\b\b\b\b\b\b\b\b\b\b\b\b\b\b\b\b\b\b\b\b\b\b\b\b\b\b\b\b\r13/13 [==============================] - 1s 15ms/step\n",
      "\n"
     ]
    }
   ],
   "source": [
    "%%ag\n",
    "test=PrivateDataFrame(x_test).copy()\n",
    "y_pred = dp_model.predict(test, label_columns=[\"output\"])"
   ]
  },
  {
   "cell_type": "code",
   "execution_count": 122,
   "metadata": {
    "collapsed": true,
    "id": "mJMoynKBAwMB"
   },
   "outputs": [],
   "source": [
    "%%ag\n",
    "# Note that the predictions are a float scalar, so we scale it!\n",
    "def f(x: float) -> float:\n",
    "    return 1 if x > 0.5 else 0\n",
    "\n",
    "y_pred[\"output\"] = y_pred[\"output\"].map(f, output_bounds=(0, 1))"
   ]
  },
  {
   "cell_type": "code",
   "execution_count": 124,
   "metadata": {
    "colab": {
     "base_uri": "https://localhost:8080/"
    },
    "id": "ikoa-r-Ky79A",
    "outputId": "cbca8692-c94c-4e2f-8153-8c4a964bf6e9"
   },
   "outputs": [
    {
     "name": "stdout",
     "output_type": "stream",
     "text": [
      "score: {'leaderboard': 0.968402874717081, 'logs': {'BIN_ACC': 0.968402874717081, 'LIN_EPS': -0.0}}\n",
      "\n"
     ]
    }
   ],
   "source": [
    "%%ag\n",
    "result = submit_predictions(y_pred)"
   ]
  }
 ],
 "metadata": {
  "colab": {
   "provenance": []
  },
  "kernelspec": {
   "display_name": "Python 3",
   "name": "python3"
  },
  "language_info": {
   "name": "python"
  }
 },
 "nbformat": 4,
 "nbformat_minor": 0
}
