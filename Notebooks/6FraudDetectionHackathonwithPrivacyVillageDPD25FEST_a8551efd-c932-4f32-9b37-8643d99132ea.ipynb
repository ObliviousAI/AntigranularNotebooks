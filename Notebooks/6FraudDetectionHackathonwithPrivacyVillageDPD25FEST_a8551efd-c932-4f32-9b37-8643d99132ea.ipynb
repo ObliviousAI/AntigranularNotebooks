{
  "cells": [
    {
      "cell_type": "code",
      "execution_count": 19,
      "metadata": {
        "id": "IuIGLYkl_jCM"
      },
      "outputs": [],
      "source": [
        "!pip install antigranular &> /dev/null"
      ]
    },
    {
      "cell_type": "code",
      "execution_count": 20,
      "metadata": {
        "colab": {
          "base_uri": "https://localhost:8080/",
          "height": 191
        },
        "id": "BD3ti7Cp_jCO",
        "outputId": "bb739907-66ed-4695-e8cd-597bee7cc4eb"
      },
      "outputs": [
        {
          "data": {
            "text/html": [],
            "text/plain": [
              "<IPython.core.display.HTML object>"
            ]
          },
          "metadata": {},
          "output_type": "display_data"
        },
        {
          "name": "stdout",
          "output_type": "stream",
          "text": [
            "Dataset \"Transaction Fraud Hackathon Dataset\" loaded to the kernel as \u001b[92mtransaction_fraud_hackathon_dataset\u001b[0m\n",
            "Key Name                       Value Type     \n",
            "---------------------------------------------\n",
            "test_x                         DataFrame      \n",
            "train_x                        PrivateDataFrame\n",
            "train_y                        PrivateDataFrame\n",
            "\n",
            "Connected to Antigranular server session id: a8551efd-c932-4f32-9b37-8643d99132ea, the session will time out if idle for 25 minutes\n",
            "Cell magic '%%ag' registered successfully, use `%%ag` in a notebook cell to execute your python code on Antigranular private python server\n",
            "🚀 Everything's set up and ready to roll!\n"
          ]
        }
      ],
      "source": [
        "import antigranular as ag\n",
        "session = ag.login(<client_id>,<client_secret>, competition = \"Fraud Detection Hackathon with Privacy Village #DPD25FEST\")"
      ]
    },
    {
      "cell_type": "code",
      "execution_count": 22,
      "metadata": {
        "id": "o93Ge1AXqkaN"
      },
      "outputs": [],
      "source": [
        "%%ag\n",
        "x_train = transaction_fraud_hackathon_dataset[\"train_x\"]\n",
        "y_train = transaction_fraud_hackathon_dataset[\"train_y\"]\n",
        "x_test = transaction_fraud_hackathon_dataset[\"test_x\"]"
      ]
    },
    {
      "cell_type": "code",
      "execution_count": 21,
      "metadata": {
        "colab": {
          "base_uri": "https://localhost:8080/"
        },
        "id": "9jaSEgc1qSCp",
        "outputId": "880980d9-0f1b-49cd-d0dc-933ce4db9aed"
      },
      "outputs": [
        {
          "data": {
            "text/plain": [
              "{'total_epsilon_used': 4.595457271043286,\n",
              " 'total_delta_used': 4.4000000000000006e-05,\n",
              " 'library_costs': {'op_tensorflow': {'total_delta': 4.4000000000000006e-05,\n",
              "   'total_epsilon': 2.595457271043286,\n",
              "   'total_requests': 8},\n",
              "  'op_pandas': {'total_delta': 0.0,\n",
              "   'total_epsilon': 2.0,\n",
              "   'total_requests': 2}},\n",
              " 'dataset_costs': {'Transaction Fraud Hackathon Dataset': {'delta': 4.4000000000000006e-05,\n",
              "   'eps': 4.595457271043286}}}"
            ]
          },
          "execution_count": 21,
          "metadata": {},
          "output_type": "execute_result"
        }
      ],
      "source": [
        "session.privacy_odometer()"
      ]
    },
    {
      "cell_type": "code",
      "execution_count": 26,
      "metadata": {
        "id": "heNuJZmD_jCQ"
      },
      "outputs": [],
      "source": [
        "%%ag\n",
        "import tensorflow as tf\n",
        "from op_pandas import standard_scaler, PrivateDataFrame\n",
        "from tensorflow.keras.models import Sequential\n",
        "from tensorflow.keras.layers import Dense, Dropout, BatchNormalization\n",
        "from tensorflow.keras.callbacks import EarlyStopping, ReduceLROnPlateau\n",
        "from op_tensorflow import PrivateKerasModel, PrivateDataLoader\n",
        "\n",
        "# Modified Sequential model with better calibration\n",
        "seqM = Sequential([\n",
        "    # Input block with gradual feature processing\n",
        "    Dense(32, input_shape=(9,)),\n",
        "    BatchNormalization(momentum=0.9),  # Higher momentum for stability\n",
        "    tf.keras.layers.ReLU(),\n",
        "    Dropout(0.1),  # Reduced dropout for more stable predictions\n",
        "\n",
        "    # Intermediate processing with careful regularization\n",
        "    Dense(32),\n",
        "    BatchNormalization(momentum=0.9),\n",
        "    tf.keras.layers.ReLU(),\n",
        "    Dropout(0.1),\n",
        "\n",
        "    # Gradual reduction in dimensionality\n",
        "    Dense(16),\n",
        "    BatchNormalization(momentum=0.9),\n",
        "    tf.keras.layers.ReLU(),\n",
        "\n",
        "    # Output block with additional stability layers\n",
        "    Dense(8),\n",
        "    BatchNormalization(momentum=0.9),\n",
        "    tf.keras.layers.ReLU(),\n",
        "\n",
        "    # Final layer with adjusted activation\n",
        "    Dense(1, activation='sigmoid')\n",
        "])\n",
        "\n",
        "# Adjusted DP model with more conservative privacy settings\n",
        "dp_model = PrivateKerasModel(\n",
        "    model=seqM,\n",
        "    l2_norm_clip=0.7,  # Reduced for better stability\n",
        "    noise_multiplier=0.7  # Reduced to help with calibration\n",
        ")\n",
        "\n",
        "# Modified optimizer with more conservative settings\n",
        "optimizer = tf.keras.optimizers.Adam(\n",
        "    learning_rate=0.0008,  # Reduced for more stable convergence\n",
        "    beta_1=0.9,\n",
        "    beta_2=0.999,\n",
        "    epsilon=1e-7,  # Smaller epsilon for better numerical stability\n",
        ")\n",
        "\n",
        "\n",
        "# Compile model\n",
        "dp_model.compile(\n",
        "    optimizer=optimizer,\n",
        "    loss='binary_crossentropy',\n",
        "    metrics=['accuracy']\n",
        ")"
      ]
    },
    {
      "cell_type": "code",
      "execution_count": 28,
      "metadata": {
        "id": "-TGm56oV_jCT"
      },
      "outputs": [],
      "source": [
        "%%ag\n",
        "data_loader = PrivateDataLoader(feature_df=x_train , label_df=y_train, batch_size=32)"
      ]
    },
    {
      "cell_type": "code",
      "execution_count": 30,
      "metadata": {
        "colab": {
          "base_uri": "https://localhost:8080/"
        },
        "id": "UWCbDJaJiMNl",
        "outputId": "f2822326-cf14-4741-d719-efcb51294075"
      },
      "outputs": [
        {
          "name": "stdout",
          "output_type": "stream",
          "text": [
            "Epoch 1/35\n",
            "\n",
            "1094/1094 - 38s - loss: 0.6505 - accuracy: 0.6247 - 38s/epoch - 34ms/step\n",
            "\n",
            "Epoch 2/35\n",
            "\n",
            "1094/1094 - 29s - loss: 0.6231 - accuracy: 0.6533 - 29s/epoch - 27ms/step\n",
            "\n",
            "Epoch 3/35\n",
            "\n",
            "1094/1094 - 29s - loss: 0.6176 - accuracy: 0.6605 - 29s/epoch - 27ms/step\n",
            "\n",
            "Epoch 4/35\n",
            "\n",
            "1094/1094 - 29s - loss: 0.6123 - accuracy: 0.6647 - 29s/epoch - 27ms/step\n",
            "\n",
            "Epoch 5/35\n",
            "\n",
            "1094/1094 - 30s - loss: 0.6075 - accuracy: 0.6711 - 30s/epoch - 27ms/step\n",
            "\n",
            "Epoch 6/35\n",
            "\n",
            "1094/1094 - 29s - loss: 0.6066 - accuracy: 0.6681 - 29s/epoch - 27ms/step\n",
            "\n",
            "Epoch 7/35\n",
            "\n",
            "1094/1094 - 29s - loss: 0.6078 - accuracy: 0.6694 - 29s/epoch - 27ms/step\n",
            "\n",
            "Epoch 8/35\n",
            "\n",
            "1094/1094 - 29s - loss: 0.6077 - accuracy: 0.6680 - 29s/epoch - 26ms/step\n",
            "\n",
            "Epoch 9/35\n",
            "\n",
            "1094/1094 - 29s - loss: 0.6006 - accuracy: 0.6772 - 29s/epoch - 26ms/step\n",
            "\n",
            "Epoch 10/35\n",
            "\n",
            "1094/1094 - 29s - loss: 0.5988 - accuracy: 0.6809 - 29s/epoch - 27ms/step\n",
            "\n",
            "Epoch 11/35\n",
            "\n",
            "1094/1094 - 30s - loss: 0.6021 - accuracy: 0.6736 - 30s/epoch - 27ms/step\n",
            "\n",
            "Epoch 12/35\n",
            "\n",
            "1094/1094 - 30s - loss: 0.6030 - accuracy: 0.6719 - 30s/epoch - 27ms/step\n",
            "\n",
            "Epoch 13/35\n",
            "\n",
            "1094/1094 - 30s - loss: 0.5980 - accuracy: 0.6813 - 30s/epoch - 27ms/step\n",
            "\n",
            "Epoch 14/35\n",
            "\n",
            "1094/1094 - 29s - loss: 0.5969 - accuracy: 0.6802 - 29s/epoch - 26ms/step\n",
            "\n",
            "Epoch 15/35\n",
            "\n",
            "1094/1094 - 29s - loss: 0.6005 - accuracy: 0.6756 - 29s/epoch - 26ms/step\n",
            "\n",
            "Epoch 16/35\n",
            "\n",
            "1094/1094 - 29s - loss: 0.5945 - accuracy: 0.6805 - 29s/epoch - 26ms/step\n",
            "\n",
            "Epoch 17/35\n",
            "\n",
            "1094/1094 - 30s - loss: 0.5953 - accuracy: 0.6808 - 30s/epoch - 27ms/step\n",
            "\n",
            "Epoch 18/35\n",
            "\n",
            "1094/1094 - 29s - loss: 0.5940 - accuracy: 0.6824 - 29s/epoch - 27ms/step\n",
            "\n",
            "Epoch 19/35\n",
            "\n",
            "message: Error ID is - 16169c63-1507-461e-98e7-13940885e844 - Error from upstream service: Client error '400 Bad Request' for url 'http://supervisor-prod-private.antigranular.com/privacyRequest'\n",
            "For more information check: https://httpstatuses.com/400. Response text: {\"detail\":\"Per Query epsilon / delta exceeded. Per query epsilon spend is capped at: 1 and delta is capped at: 0.0001\"}\n",
            "\n",
            "\u001b[0;31mValueError\u001b[0m: Request Limit Exceeded!\n"
          ]
        }
      ],
      "source": [
        "%%ag\n",
        "dp_model.fit(x=data_loader, epochs=35,shuffle=True )"
      ]
    },
    {
      "cell_type": "code",
      "execution_count": 31,
      "metadata": {
        "colab": {
          "base_uri": "https://localhost:8080/"
        },
        "id": "ZjZbehXE_jCU",
        "outputId": "244efee4-476d-4dc7-9665-00a2ef7a8d8c"
      },
      "outputs": [
        {
          "name": "stdout",
          "output_type": "stream",
          "text": [
            "\r  1/469 [..............................] - ETA: 4:35\n",
            "\b\b\b\b\b\b\b\b\b\b\b\b\b\b\b\b\b\b\b\b\b\b\b\b\b\b\b\b\b\b\b\b\b\b\b\b\b\b\b\b\b\b\b\b\b\b\b\b\b\b\b\b\r  6/469 [..............................] - ETA: 8s  \n",
            "\b\b\b\b\b\b\b\b\b\b\b\b\b\b\b\b\b\b\b\b\b\b\b\b\b\b\b\b\b\b\b\b\b\b\b\b\b\b\b\b\b\b\b\b\b\b\b\b\b\b\r 19/469 [>.............................] - ETA: 4s\n",
            "\b\b\b\b\b\b\b\b\b\b\b\b\b\b\b\b\b\b\b\b\b\b\b\b\b\b\b\b\b\b\b\b\b\b\b\b\b\b\b\b\b\b\b\b\b\b\b\b\b\b\r 31/469 [>.............................] - ETA: 4s\n",
            "\b\b\b\b\b\b\b\b\b\b\b\b\b\b\b\b\b\b\b\b\b\b\b\b\b\b\b\b\b\b\b\b\b\b\b\b\b\b\b\b\b\b\b\b\b\b\b\b\b\b\r 43/469 [=>............................] - ETA: 3s\n",
            "\b\b\b\b\b\b\b\b\b\b\b\b\b\b\b\b\b\b\b\b\b\b\b\b\b\b\b\b\b\b\b\b\b\b\b\b\b\b\b\b\b\b\b\b\b\b\b\b\b\b\r 56/469 [==>...........................] - ETA: 3s\n",
            "\b\b\b\b\b\b\b\b\b\b\b\b\b\b\b\b\b\b\b\b\b\b\b\b\b\b\b\b\b\b\b\b\b\b\b\b\b\b\b\b\b\b\b\b\b\b\b\b\b\b\r 69/469 [===>..........................] - ETA: 3s\n",
            "\b\b\b\b\b\b\b\b\b\b\b\b\b\b\b\b\b\b\b\b\b\b\b\b\b\b\b\b\b\b\b\b\b\b\b\b\b\b\b\b\b\b\b\b\b\b\b\b\b\b\r 81/469 [====>.........................] - ETA: 3s\n",
            "\b\b\b\b\b\b\b\b\b\b\b\b\b\b\b\b\b\b\b\b\b\b\b\b\b\b\b\b\b\b\b\b\b\b\b\b\b\b\b\b\b\b\b\b\b\b\b\b\b\b\r 93/469 [====>.........................] - ETA: 3s\n",
            "108/469 [=====>........................] - ETA: 3s\n",
            "124/469 [======>.......................] - ETA: 2s\n",
            "141/469 [========>.....................] - ETA: 2s\n",
            "157/469 [=========>....................] - ETA: 2s\n",
            "173/469 [==========>...................] - ETA: 2s\n",
            "188/469 [===========>..................] - ETA: 2s\n",
            "203/469 [===========>..................] - ETA: 1s\n",
            "218/469 [============>.................] - ETA: 1s\n",
            "232/469 [=============>................] - ETA: 1s\n",
            "249/469 [==============>...............] - ETA: 1s\n",
            "264/469 [===============>..............] - ETA: 1s\n",
            "280/469 [================>.............] - ETA: 1s\n",
            "295/469 [=================>............] - ETA: 1s\n",
            "312/469 [==================>...........] - ETA: 1s\n",
            "326/469 [===================>..........] - ETA: 1s\n",
            "341/469 [====================>.........] - ETA: 0s\n",
            "357/469 [=====================>........] - ETA: 0s\n",
            "373/469 [======================>.......] - ETA: 0s\n",
            "388/469 [=======================>......] - ETA: 0s\n",
            "403/469 [========================>.....] - ETA: 0s\n",
            "421/469 [=========================>....] - ETA: 0s\n",
            "436/469 [==========================>...] - ETA: 0s\n",
            "454/469 [============================>.] - ETA: 0s\n",
            "469/469 [==============================] - 4s 7ms/step\n",
            "\n"
          ]
        }
      ],
      "source": [
        "%%ag\n",
        "test=PrivateDataFrame(x_test).copy()\n",
        "y_pred = dp_model.predict(test, label_columns=[\"output\"])"
      ]
    },
    {
      "cell_type": "code",
      "execution_count": 32,
      "metadata": {
        "id": "cAqHlwnKrJGT"
      },
      "outputs": [],
      "source": [
        "%%ag\n",
        "# Note that the predictions are a float scalar, so we scale it!\n",
        "def f(x: float) -> float:\n",
        "    return 1 if x > 0.5 else 0\n",
        "\n",
        "y_pred[\"output\"] = y_pred[\"output\"].map(f, output_bounds=(0, 1))"
      ]
    },
    {
      "cell_type": "code",
      "execution_count": 33,
      "metadata": {
        "colab": {
          "base_uri": "https://localhost:8080/"
        },
        "id": "Z1oLyAaKrMb_",
        "outputId": "7f43da16-fd88-4824-bbf3-7ba9c1a5f894"
      },
      "outputs": [
        {
          "name": "stdout",
          "output_type": "stream",
          "text": [
            "score: {'leaderboard': 0.67163529482383, 'logs': {'BIN_ACC': 0.6946125811790465, 'LIN_EPS': -0.022977286355216432}}\n",
            "\n"
          ]
        }
      ],
      "source": [
        "%%ag\n",
        "result = submit_predictions(y_pred)"
      ]
    }
  ],
  "metadata": {
    "colab": {
      "provenance": []
    },
    "kernelspec": {
      "display_name": ".venv",
      "language": "python",
      "name": "python3"
    },
    "language_info": {
      "codemirror_mode": {
        "name": "ipython",
        "version": 3
      },
      "file_extension": ".py",
      "mimetype": "text/x-python",
      "name": "python",
      "nbconvert_exporter": "python",
      "pygments_lexer": "ipython3",
      "version": "3.11.6"
    }
  },
  "nbformat": 4,
  "nbformat_minor": 0
}
