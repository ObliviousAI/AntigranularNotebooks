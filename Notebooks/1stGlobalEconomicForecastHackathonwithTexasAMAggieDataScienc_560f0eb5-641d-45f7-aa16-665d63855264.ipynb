{
 "cells": [
  {
   "cell_type": "code",
   "execution_count": 44,
   "metadata": {},
   "outputs": [
    {
     "data": {
      "text/html": [],
      "text/plain": [
       "<IPython.core.display.HTML object>"
      ]
     },
     "metadata": {},
     "output_type": "display_data"
    },
    {
     "name": "stdout",
     "output_type": "stream",
     "text": [
      "Dataset \"Statistical Performance Indicators\" loaded to the kernel as \u001b[92mstatistical_performance_indicators\u001b[0m\n",
      "Key Name                       Value Type     \n",
      "---------------------------------------------\n",
      "train_x                        PrivateDataFrame\n",
      "train_y                        PrivateDataFrame\n",
      "test_x                         DataFrame      \n",
      "\n",
      "Connected to Antigranular server session id: 560f0eb5-641d-45f7-aa16-665d63855264, the session will time out if idle for 25 minutes\n",
      "Cell magic '%%ag' registered successfully, use `%%ag` in a notebook cell to execute your python code on Antigranular private python server\n",
      "🚀 Everything's set up and ready to roll!\n"
     ]
    }
   ],
   "source": [
    "import antigranular as ag\n",
    "session = ag.login(<client_id>,<client_secret>, competition = \"Global Economic Forecast Hackathon with Texas A&M Aggie Data Science\")"
   ]
  },
  {
   "cell_type": "code",
   "execution_count": 45,
   "metadata": {},
   "outputs": [],
   "source": [
    "%%ag\n",
    "x_train = statistical_performance_indicators[\"train_x\"]\n",
    "y_train = statistical_performance_indicators[\"train_y\"]\n",
    "x_test = statistical_performance_indicators[\"test_x\"]"
   ]
  },
  {
   "cell_type": "code",
   "execution_count": 145,
   "metadata": {},
   "outputs": [],
   "source": [
    "%%ag\n",
    "import tensorflow as tf\n",
    "from op_pandas import standard_scaler, PrivateDataFrame\n",
    "from tensorflow.keras.models import Sequential\n",
    "from tensorflow.keras.layers import Dense, Dropout\n",
    "from op_tensorflow import PrivateKerasModel, PrivateDataLoader\n",
    "from tensorflow.keras.models import Sequential\n",
    "from tensorflow.keras.layers import Dense, Conv1D, MaxPooling1D, Flatten,BatchNormalization\n",
    "model = Sequential([\n",
    "    Conv1D(256, 3, activation='relu', input_shape=(24, 1)),\n",
    "    BatchNormalization(),\n",
    "    Dropout(0.2),\n",
    "    Conv1D(128, 3, activation='relu'),\n",
    "    BatchNormalization(),\n",
    "    Dropout(0.2),\n",
    "    Conv1D(128, 3, activation='relu'),\n",
    "    Dropout(0.2),\n",
    "    Flatten(),\n",
    "    Dense(256, activation='relu'),\n",
    "    Dropout(0.2),\n",
    "    Dense(128, activation='relu'),\n",
    "    Dropout(0.2),\n",
    "    Dense(128, activation='relu'),\n",
    "    Dropout(0.2),\n",
    "    Dense(128, activation='relu'),\n",
    "    Dropout(0.2),\n",
    "    Dense(128, activation='relu'),\n",
    "    Dropout(0.2),\n",
    "    Dense(64, activation='relu'),\n",
    "    Dropout(0.2),\n",
    "    Dense(64, activation='relu'),\n",
    "    Dense(1, activation='sigmoid')\n",
    "])\n",
    "dp_model = PrivateKerasModel(model=model, l2_norm_clip=1, noise_multiplier=0.25)"
   ]
  },
  {
   "cell_type": "code",
   "execution_count": 147,
   "metadata": {},
   "outputs": [],
   "source": [
    "%%ag\n",
    "data_loader = PrivateDataLoader(feature_df=x_train , label_df=y_train, batch_size=8)"
   ]
  },
  {
   "cell_type": "code",
   "execution_count": 148,
   "metadata": {},
   "outputs": [],
   "source": [
    "%%ag\n",
    "optimizer = tf.keras.optimizers.Adam(learning_rate=0.001)\n",
    "\n",
    "dp_model.compile(\n",
    "\toptimizer = optimizer,\n",
    "\tloss = 'binary_crossentropy',\n",
    "\tmetrics = [\"accuracy\"]\n",
    ")"
   ]
  },
  {
   "cell_type": "code",
   "execution_count": 50,
   "metadata": {},
   "outputs": [],
   "source": [
    "%%ag\n",
    "def f(x: float) -> float:\n",
    "    return 1 if x > 0.5 else 0\n",
    "x_test=PrivateDataFrame(x_test)\n"
   ]
  },
  {
   "cell_type": "code",
   "execution_count": 154,
   "metadata": {},
   "outputs": [
    {
     "name": "stdout",
     "output_type": "stream",
     "text": [
      "Epoch 1/5\n",
      "\n",
      "115/115 - 16s - loss: 0.1825 - accuracy: 0.9189 - 16s/epoch - 142ms/step\n",
      "\n",
      "Epoch 2/5\n",
      "\n",
      "115/115 - 17s - loss: 0.1796 - accuracy: 0.9183 - 17s/epoch - 149ms/step\n",
      "\n",
      "Epoch 3/5\n",
      "\n",
      "115/115 - 17s - loss: 0.1674 - accuracy: 0.9311 - 17s/epoch - 144ms/step\n",
      "\n",
      "Epoch 4/5\n",
      "\n",
      "115/115 - 17s - loss: 0.1526 - accuracy: 0.9417 - 17s/epoch - 148ms/step\n",
      "\n",
      "Epoch 5/5\n",
      "\n",
      "115/115 - 16s - loss: 0.1638 - accuracy: 0.9315 - 16s/epoch - 143ms/step\n",
      "\n",
      "message: Error ID is - 651a3c8f-da31-418c-a84a-74905d8e3f60 - Error from upstream service: Client error '400 Bad Request' for url 'http://supervisor-prod-private.antigranular.com/privacyRequest'\n",
      "For more information check: https://httpstatuses.com/400. Response text: {\"detail\":\"Maximum delta or epsilon exceeded per query. Per query limits are eps : 1 and delta : 0.001\"}\n",
      "\n",
      "message: Error ID is - 381aeff9-f82a-4ff9-8120-ae63e2ea6705 - Error from upstream service: Client error '400 Bad Request' for url 'http://supervisor-prod-private.antigranular.com/privacyRequest'\n",
      "For more information check: https://httpstatuses.com/400. Response text: {\"detail\":\"Maximum delta or epsilon exceeded per query. Per query limits are eps : 1 and delta : 0.001\"}\n",
      "\n",
      "\u001b[0;31mValueError\u001b[0m: Request Limit Exceeded!\n"
     ]
    }
   ],
   "source": [
    "%%ag\n",
    "dp_model.fit(x=data_loader, epochs=5, target_delta=1)"
   ]
  },
  {
   "cell_type": "code",
   "execution_count": null,
   "metadata": {},
   "outputs": [],
   "source": [
    "%%ag\n",
    "optimizer = tf.keras.optimizers.Adam(learning_rate=0.0001)\n",
    "\n",
    "dp_model.compile(\n",
    "\toptimizer = optimizer,\n",
    "\tloss = 'binary_crossentropy',\n",
    "\tmetrics = [\"accuracy\"]\n",
    ")"
   ]
  },
  {
   "cell_type": "code",
   "execution_count": 155,
   "metadata": {},
   "outputs": [
    {
     "name": "stdout",
     "output_type": "stream",
     "text": [
      "Epoch 1/5\n",
      "\n",
      "115/115 - 16s - loss: 0.1443 - accuracy: 0.9420 - 16s/epoch - 143ms/step\n",
      "\n",
      "Epoch 2/5\n",
      "\n",
      "115/115 - 17s - loss: 0.1411 - accuracy: 0.9400 - 17s/epoch - 144ms/step\n",
      "\n",
      "Epoch 3/5\n",
      "\n",
      "115/115 - 16s - loss: 0.1580 - accuracy: 0.9339 - 16s/epoch - 143ms/step\n",
      "\n",
      "Epoch 4/5\n",
      "\n",
      "115/115 - 17s - loss: 0.1487 - accuracy: 0.9383 - 17s/epoch - 146ms/step\n",
      "\n",
      "Epoch 5/5\n",
      "\n",
      "115/115 - 16s - loss: 0.1462 - accuracy: 0.9417 - 16s/epoch - 143ms/step\n",
      "\n",
      "message: Error ID is - dc4a5ff0-f645-4343-a2b0-4e6c7d488af6 - Error from upstream service: Client error '400 Bad Request' for url 'http://supervisor-prod-private.antigranular.com/privacyRequest'\n",
      "For more information check: https://httpstatuses.com/400. Response text: {\"detail\":\"Maximum delta or epsilon exceeded per query. Per query limits are eps : 1 and delta : 0.001\"}\n",
      "\n",
      "message: Error ID is - d6e958ae-f370-4a27-8989-0a6b505be15c - Error from upstream service: Client error '400 Bad Request' for url 'http://supervisor-prod-private.antigranular.com/privacyRequest'\n",
      "For more information check: https://httpstatuses.com/400. Response text: {\"detail\":\"Maximum delta or epsilon exceeded per query. Per query limits are eps : 1 and delta : 0.001\"}\n",
      "\n",
      "\u001b[0;31mValueError\u001b[0m: Request Limit Exceeded!\n"
     ]
    }
   ],
   "source": [
    "%%ag\n",
    "dp_model.fit(x=data_loader, epochs=5, target_delta=1)"
   ]
  },
  {
   "cell_type": "code",
   "execution_count": null,
   "metadata": {},
   "outputs": [],
   "source": [
    "%%ag\n",
    "optimizer = tf.keras.optimizers.Adam(learning_rate=0.00001)\n",
    "\n",
    "dp_model.compile(\n",
    "\toptimizer = optimizer,\n",
    "\tloss = 'binary_crossentropy',\n",
    "\tmetrics = [\"accuracy\"]\n",
    ")"
   ]
  },
  {
   "cell_type": "code",
   "execution_count": 157,
   "metadata": {},
   "outputs": [
    {
     "name": "stdout",
     "output_type": "stream",
     "text": [
      "Epoch 1/5\n",
      "\n",
      "115/115 - 16s - loss: 0.1184 - accuracy: 0.9516 - 16s/epoch - 139ms/step\n",
      "\n",
      "Epoch 2/5\n",
      "\n",
      "115/115 - 17s - loss: 0.1098 - accuracy: 0.9568 - 17s/epoch - 145ms/step\n",
      "\n",
      "Epoch 3/5\n",
      "\n",
      "115/115 - 17s - loss: 0.1133 - accuracy: 0.9561 - 17s/epoch - 144ms/step\n",
      "\n",
      "Epoch 4/5\n",
      "\n",
      "115/115 - 17s - loss: 0.1105 - accuracy: 0.9547 - 17s/epoch - 149ms/step\n",
      "\n",
      "Epoch 5/5\n",
      "\n",
      "115/115 - 16s - loss: 0.1168 - accuracy: 0.9539 - 16s/epoch - 143ms/step\n",
      "\n",
      "message: Error ID is - a4fc8990-30df-4ac5-a8ca-0ad486e0114d - Error from upstream service: Client error '400 Bad Request' for url 'http://supervisor-prod-private.antigranular.com/privacyRequest'\n",
      "For more information check: https://httpstatuses.com/400. Response text: {\"detail\":\"Maximum delta or epsilon exceeded per query. Per query limits are eps : 1 and delta : 0.001\"}\n",
      "\n",
      "message: Error ID is - f5901047-7fb2-4a6e-9ee6-490a8b8050e0 - Error from upstream service: Client error '400 Bad Request' for url 'http://supervisor-prod-private.antigranular.com/privacyRequest'\n",
      "For more information check: https://httpstatuses.com/400. Response text: {\"detail\":\"Maximum delta or epsilon exceeded per query. Per query limits are eps : 1 and delta : 0.001\"}\n",
      "\n",
      "\u001b[0;31mValueError\u001b[0m: Request Limit Exceeded!\n"
     ]
    }
   ],
   "source": [
    "%%ag\n",
    "dp_model.fit(x=data_loader, epochs=5, target_delta=1)"
   ]
  },
  {
   "cell_type": "code",
   "execution_count": 159,
   "metadata": {},
   "outputs": [
    {
     "name": "stdout",
     "output_type": "stream",
     "text": [
      "Epoch 1/5\n",
      "\n",
      "115/115 - 16s - loss: 0.1061 - accuracy: 0.9585 - 16s/epoch - 143ms/step\n",
      "\n",
      "Epoch 2/5\n",
      "\n",
      "115/115 - 17s - loss: 0.0971 - accuracy: 0.9643 - 17s/epoch - 146ms/step\n",
      "\n",
      "Epoch 3/5\n",
      "\n",
      "115/115 - 16s - loss: 0.0889 - accuracy: 0.9620 - 16s/epoch - 136ms/step\n",
      "\n",
      "Epoch 4/5\n",
      "\n",
      "115/115 - 16s - loss: 0.0900 - accuracy: 0.9655 - 16s/epoch - 141ms/step\n",
      "\n",
      "Epoch 5/5\n",
      "\n",
      "115/115 - 16s - loss: 0.0956 - accuracy: 0.9597 - 16s/epoch - 142ms/step\n",
      "\n",
      "message: Error ID is - eb4de8c1-e8e0-4a1e-a0da-c53aee27dba8 - Error from upstream service: Client error '400 Bad Request' for url 'http://supervisor-prod-private.antigranular.com/privacyRequest'\n",
      "For more information check: https://httpstatuses.com/400. Response text: {\"detail\":\"Maximum delta or epsilon exceeded per query. Per query limits are eps : 1 and delta : 0.001\"}\n",
      "\n",
      "message: Error ID is - 7d96ad08-cb62-4824-b1de-481bb9255826 - Error from upstream service: Client error '400 Bad Request' for url 'http://supervisor-prod-private.antigranular.com/privacyRequest'\n",
      "For more information check: https://httpstatuses.com/400. Response text: {\"detail\":\"Maximum delta or epsilon exceeded per query. Per query limits are eps : 1 and delta : 0.001\"}\n",
      "\n",
      "\u001b[0;31mValueError\u001b[0m: Request Limit Exceeded!\n"
     ]
    }
   ],
   "source": [
    "%%ag\n",
    "dp_model.fit(x=data_loader, epochs=5, target_delta=1)"
   ]
  },
  {
   "cell_type": "code",
   "execution_count": 144,
   "metadata": {},
   "outputs": [
    {
     "name": "stdout",
     "output_type": "stream",
     "text": [
      " 1/13 [=>............................] - ETA: 13s\n",
      " 2/13 [===>..........................] - ETA: 0s \n",
      " 5/13 [==========>...................] - ETA: 0s\n",
      " 9/13 [===================>..........] - ETA: 0s\n",
      "13/13 [==============================] - ETA: 0s\n",
      "13/13 [==============================] - 1s 33ms/step\n",
      "\n",
      "score: {'leaderboard': 0.8759512265599559, 'logs': {'BIN_ACC': 0.8760604767226773, 'LIN_EPS': -0.0001092501627213056}}\n",
      "\n"
     ]
    }
   ],
   "source": [
    "%%ag\n",
    "y_pred = dp_model.predict(x_test, label_columns=[\"output\"])\n",
    "y_pred[\"output\"] = y_pred[\"output\"].map(f, output_bounds=(0, 1))\n",
    "result = submit_predictions(y_pred)"
   ]
  }
 ],
 "metadata": {
  "kernelspec": {
   "display_name": ".venv",
   "language": "python",
   "name": "python3"
  },
  "language_info": {
   "codemirror_mode": {
    "name": "ipython",
    "version": 3
   },
   "file_extension": ".py",
   "mimetype": "text/x-python",
   "name": "python",
   "nbconvert_exporter": "python",
   "pygments_lexer": "ipython3",
   "version": "3.11.6"
  }
 },
 "nbformat": 4,
 "nbformat_minor": 2
}
