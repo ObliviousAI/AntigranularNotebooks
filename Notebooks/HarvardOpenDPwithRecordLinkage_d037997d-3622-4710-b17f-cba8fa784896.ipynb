{
  "cells": [
    {
      "cell_type": "code",
      "execution_count": null,
      "metadata": {
        "id": "CxcryoKtsUjK",
        "outputId": "c7ee91b8-c0d3-4da1-8738-1857f6ed020f"
      },
      "outputs": [
        {
          "data": {
            "text/html": [],
            "text/plain": [
              "<IPython.core.display.HTML object>"
            ]
          },
          "metadata": {},
          "output_type": "display_data"
        },
        {
          "name": "stdout",
          "output_type": "stream",
          "text": [
            "local_host_port: 0440b9cb-a832-4024-a61c-ae068edd15c1\n",
            "server_hostname: ip-100-100-18-69.eu-west-1.compute.internal\n",
            "tls_cert_name: ip-100-100-18-69.eu-west-1.compute.internal_0440b9cb-a832-4024-a61c-ae068edd15c1\n",
            "cert_thumbprint: 84da402963f19d61e7bf9852264428a47d371be9bd2714c99dc30f25f8915a09b8b72232facd6bfe26de52ed83d9cd3e7fb27a8b6da89af59cdd0c3a1361ae75\n",
            "Dataset \"Flight Company Dataset\" loaded to the kernel as \u001b[92mflight_company_dataset\u001b[0m\n",
            "\n",
            "Dataset \"Health Organisation Dataset\" loaded to the kernel as \u001b[92mhealth_organisation_dataset\u001b[0m\n",
            "\n",
            "Connected to Antigranular server session id: d037997d-3622-4710-b17f-cba8fa784896, the session will time out if idle for 25 minutes\n",
            "Cell magic '%%ag' registered successfully, use `%%ag` in a notebook cell to execute your python code on Antigranular private python server\n",
            "🚀 Everything's set up and ready to roll!\n"
          ]
        }
      ],
      "source": [
        "import antigranular as ag\n",
        "\n",
        "session = ag.login(\n",
        "    \"*****\",\n",
        "    \"*****\",\n",
        "    competition=\"Harvard OpenDP Hackathon\",\n",
        ")"
      ]
    },
    {
      "cell_type": "code",
      "execution_count": null,
      "metadata": {
        "id": "12CgK9o6sUjO"
      },
      "outputs": [],
      "source": [
        "%%ag\n",
        "\n",
        "flight = flight_company_dataset\n",
        "health = health_organisation_dataset\n",
        "\n",
        "# Lets remove those passenger records who tested negative.\n",
        "health['covidtest_result'] = health['covidtest_result'].where(\n",
        "    health['covidtest_result'] == 'positive'\n",
        ")\n",
        "health = health.dropna()"
      ]
    },
    {
      "cell_type": "markdown",
      "metadata": {
        "id": "KlHYWqCosUjR"
      },
      "source": [
        "**Flight Company Dataset**\n",
        "\n",
        "* The first dataset contains raw data from airline operators about all the flights operated between 1 Jan 2020 to 31 Jan 2020, including the passenger details for each flight.\n",
        "* Dataset size = 85242 rows × 9 columns\n",
        "* This dataset seems to have inconsistent text entry conventions for the dates, emails, phone numbers etc. and might need a bit of cleanup.\n",
        "\n",
        "| Attribute              | Description                                                                                                             | Example(s)                              |\n",
        "|------------------------|-------------------------------------------------------------------------------------------------------------------------|-----------------------------------------|\n",
        "| flight_number          | A unique identifier for each flight from the airline company.                                                           | ROM-LON-459, BRA-IND-223, TOK-ROM-950   |\n",
        "| flight_date            | The date of departure of the flight.                                                                                     | yyyy-mm-dd                              |\n",
        "| flight_from            | The departure city for the flight, also reflected in the first group of 3 letters of the flight number.                  | -                                       |\n",
        "| flight_to              | The destination city for the flight, also reflected in the second group of 3 letters of the flight number.               | -                                       |\n",
        "| passenger_firstname    | First name and sometimes the middle name of the passenger are jointly recorded, sometimes without any space between them.| NokVanu, Nok Vanu, Nok                 |\n",
        "| passenger_lastname     | The last name of the passenger.                                                                                          | -                                       |\n",
        "| passenger_date_of_birth| The date of birth of the passenger, in various formats.                                                                  | 01.Sep.1990, 1 September 90, 1-Sept-1990|\n",
        "| passenger_phone_number | The phone number of the passenger, in multiple formats.                                                                  | +1-343-343-9900, 0091 992 992 9900      |\n",
        "| passenger_email_address| The email address of the passenger, including some with spelling mistakes.                                               | blue_daisy_345@htmail.co.uk, nok_jam_nok@gamil.com |\n"
      ]
    },
    {
      "cell_type": "markdown",
      "metadata": {
        "id": "MzIhDYdmsUjh"
      },
      "source": [
        "**Health Organisation Dataset**\n",
        "\n",
        "* This dataset contains raw data from a National Health Organization, which includes patient details and test results for all people who did a COVID test\n",
        "* Dataset size = 71707 rows × 8 columns\n",
        "* This dataset seems to have inconsistent text entry conventions for the dates, emails, phone numbers etc. and might need a bit of cleanup.\n",
        "\n",
        "\n",
        "\n",
        "| Attribute             | Description                                                                                                           | Example(s)                                      |\n",
        "|-----------------------|-----------------------------------------------------------------------------------------------------------------------|-------------------------------------------------|\n",
        "| patient_firstname     | First name and sometimes the middle name of the patient are jointly recorded, sometimes without any space between them. | TamNok, Tam Nok, Tam                            |\n",
        "| patient_lastname      | The last name of the patient.                                                                                         | -                                               |\n",
        "| patient_date_of_birth | The date of birth of the patient, in various formats.                                                                  | 01.Sep.1990, 1 September 90, 1-Sept-1990        |\n",
        "| patient_phone_number  | The phone number of the patient, in multiple formats.                                                                  | +44-343-343-9900, 001 992 992 8900              |\n",
        "| patient_email_address | The email address of the patient, including some with spelling mistakes.                                               | blue.daisy.345@htmail.com, nok_jam_nok@googlemail.com |\n",
        "| covidtest_date        | The date that the patient took the COVID test.                                                                         | yyyy-mm-dd                                      |\n",
        "| covidtest_result      | The result of the COVID test; indicates if the patient had COVID at the time of the test.                              | positive, negative                              |\n",
        "| patient_address       | The address of the patient when they took the COVID test; could be an office or hotel address.                         | -                                               |\n"
      ]
    },
    {
      "cell_type": "code",
      "execution_count": null,
      "metadata": {
        "id": "QIqhod1dsUjh"
      },
      "outputs": [],
      "source": [
        "%%ag\n",
        "\n",
        "import re\n",
        "import datetime\n",
        "import op_pandas as opd\n",
        "import op_recordlinkage as rl\n",
        "\n",
        "\n",
        "# The dates in the dataset are not uniformly formatted, format=\"mixed\" allows for individual analysis of each date entry.\n",
        "flight[\"passenger_date_of_birth_1\"] = opd.to_datetime(flight[\"passenger_date_of_birth\"], errors=\"coerce\", format=\"mixed\")\n",
        "health[\"patient_date_of_birth_1\"] = opd.to_datetime(health[\"patient_date_of_birth\"], errors=\"coerce\", format=\"mixed\")\n",
        "\n",
        "\n",
        "def get_month_1(dob: str) -> str:\n",
        "    \"\"\"\n",
        "    Extracts the month from a date string in various formats.\n",
        "\n",
        "    This function processes a date of birth (DOB) string and attempts to extract the month.\n",
        "    It first checks for the month in a three-letter abbreviation format (e.g., 'jan', 'feb', etc.).\n",
        "    If not found, it uses regex to identify numeric representations of the month.\n",
        "    It ensures that single-digit months are zero-padded (e.g., '1' becomes '01').\n",
        "    In cases where two potential months are identified, the latter is assumed to be the correct one.\n",
        "    \"\"\"\n",
        "\n",
        "    # Mapping of three-letter month abbreviations to their numeric two-digit format\n",
        "    month_dict = {'jan': '01', 'feb': '02', 'mar': '03', 'apr': '04', 'may': '05', 'jun': '06',\n",
        "                  'jul': '07', 'aug': '08', 'sep': '09', 'oct': '10', 'nov': '11', 'dec': '12'}\n",
        "\n",
        "    dob_lower = dob.lower() # Convert DOB to lowercase for case-insensitive matching\n",
        "\n",
        "    # Check for the presence of three-letter month abbreviations in DOB\n",
        "    for month in month_dict:\n",
        "        if month in dob_lower:\n",
        "            return month_dict[month]\n",
        "\n",
        "    # Pad single-digit months and days with a leading zero\n",
        "    dob2 = re.sub(r\"\\b([1-9])\\b\", r\"0\\1\", dob_lower)\n",
        "\n",
        "    # Extract two-digit numbers that could represent a month\n",
        "    matches = re.findall(r\"\\b(0[1-9]|1[0-2])\\b\", dob2)\n",
        "    if matches:\n",
        "        # Handle cases with multiple potential month values\n",
        "        if len(matches) == 2 and matches[0] != matches[1]:\n",
        "            return matches[1] # Return the latter value if both are valid months\n",
        "        else:\n",
        "            return matches[0] # Return the single valid month value\n",
        "    return \"13\" # Return '13' if no valid month is found\n",
        "\n",
        "def get_month_2(dob: str) -> str:\n",
        "    # same as get_month_1 but assumes month to be before the day\n",
        "\n",
        "    month_dict = {'jan': '01', 'feb': '02', 'mar': '03', 'apr': '04', 'may': '05', 'jun': '06', 'jul': '07', 'aug': '08', 'sep': '09', 'oct': '10', 'nov': '11', 'dec': '12'}\n",
        "\n",
        "    dob_lower = dob.lower()\n",
        "    for month in month_dict:\n",
        "        if month in dob_lower:\n",
        "            return month_dict[month]\n",
        "\n",
        "    dob2 = re.sub(r\"\\b([1-9])\\b\", r\"0\\1\", dob)\n",
        "    matches = re.findall(r\"\\b(0[1-9]|1[0-2])\\b\", dob2)\n",
        "    if matches:\n",
        "        if len(matches) == 2 and matches[0] != matches[1]:\n",
        "            return str(matches[0]) # month before day\n",
        "        else:\n",
        "            return str(matches[0])\n",
        "    return \"13\"\n",
        "\n",
        "def add_month(df: opd.PrivateDataFrame, person: str)-> None:\n",
        "    df[f\"{person}_month_1\"]  = df[f\"{person}_date_of_birth\"].map(get_month_1)\n",
        "    df[f\"{person}_month_2\"]  = df[f\"{person}_date_of_birth\"].map(get_month_2)\n",
        "\n",
        "add_month(flight, \"passenger\")\n",
        "add_month(health, \"patient\")\n",
        "\n",
        "def standardize_email(email: str) -> str:\n",
        "\t# blue_daisy_345@htmail.co.uk\t-> blue daisy 345\n",
        "\t# nok_jam_nok@gamil.com\t        -> nok jam nok\n",
        "\t# blue.daisy.345@htmail.com\t    -> blue daisy 345\n",
        "\t# nok_jam_nok@googlemail.com\t-> nok jam nok\n",
        "\n",
        "    # Removing the domain part of the email\n",
        "    email = re.sub(r\"@.*\", \"\", email)\n",
        "\n",
        "    # Replacing special characters with space\n",
        "    email = re.sub(r\"[\\W_]+\", \" \", email)\n",
        "\n",
        "    return email.strip()\n",
        "\n",
        "flight[\"passenger_email_address_1\"] = flight[[\"passenger_email_address\"]].applymap(standardize_email)\n",
        "health[\"patient_email_address_1\"] = health[[\"patient_email_address\"]].applymap(standardize_email)\n",
        "\n",
        "def standardize_phone_number(phone_number: str) -> str:\n",
        "    # Remove all non-digit characters from the phone number\n",
        "\n",
        "    # +1-343-343-9900\t-> 13433439900\n",
        "    # 0091 992 992 9900\t-> 00919929929900\n",
        "    # +44-343-343-9900\t-> 443433439900\n",
        "    # 001 992 992 8900\t-> 0019929928900\n",
        "    cleaned_number = re.sub(r\"\\D\", \"\", phone_number)\n",
        "    return cleaned_number\n",
        "\n",
        "flight[\"passenger_phone_number_1\"] = flight[[\"passenger_phone_number\"]].applymap(standardize_phone_number)\n",
        "health[\"patient_phone_number_1\"] = health[[\"patient_phone_number\"]].applymap(standardize_phone_number)\n",
        "\n",
        "def clean_first_name(name: str) -> str:\n",
        "    \"\"\"\n",
        "    Extracts the first name from a given string.\n",
        "    Assumes that the first word is the first name, and if there are multiple capital letters in the first word,\n",
        "    the first name ends before the second capital letter.\n",
        "    e.g. \"John Smith\" -> \"John\"\n",
        "    e.g. \"JohnSmith\" -> \"John\"\n",
        "    e.g. \"JohnSmithJunior\" -> \"John\"\n",
        "\n",
        "    :param name: A string representing a full name.\n",
        "    :return: The extracted first name.\n",
        "    \"\"\"\n",
        "    # Split the name into words based on spaces\n",
        "    words = name.split()\n",
        "\n",
        "    # Check the first word for capital letters\n",
        "    first_word = words[0]\n",
        "    capital_letters = [char for char in first_word if char.isupper()]\n",
        "\n",
        "    # If more than one capital letter is present, assume first name ends before the second capital letter\n",
        "    if len(capital_letters) > 1:\n",
        "        second_capital_index = first_word.find(capital_letters[1])\n",
        "        return first_word[:second_capital_index]\n",
        "\n",
        "    # If only one capital letter, assume the entire word is the first name\n",
        "    else:\n",
        "        return first_word\n",
        "\n",
        "\n",
        "flight[\"passenger_firstname_1\"] = flight[[\"passenger_firstname\"]].applymap(clean_first_name, eps=0)\n",
        "health[\"patient_firstname_1\"] = health[[\"patient_firstname\"]].applymap(clean_first_name, eps=0)\n",
        "\n",
        "\n",
        "def standardize_lastname(lastname: str) -> str:\n",
        "    # Convert to lowercase and strip spaces at the beginning and end\n",
        "    cleaned_lastname = lastname.lower().strip()\n",
        "    return cleaned_lastname\n",
        "\n",
        "flight[\"passenger_lastname_1\"] = flight[[\"passenger_lastname\"]].applymap(standardize_lastname)\n",
        "health[\"patient_lastname_1\"] = health[[\"patient_lastname\"]].applymap(standardize_lastname)"
      ]
    },
    {
      "cell_type": "code",
      "execution_count": null,
      "metadata": {
        "id": "MWRkfcVgsUji",
        "outputId": "670ff3a5-12ee-47ce-a2ba-8b6c195a112d"
      },
      "outputs": [
        {
          "name": "stdout",
          "output_type": "stream",
          "text": [
            "patient_firstname                  object\n",
            "patient_lastname                   object\n",
            "patient_date_of_birth              object\n",
            "patient_phone_number               object\n",
            "patient_email_address              object\n",
            "covidtest_date                     object\n",
            "covidtest_result                   object\n",
            "patient_address                    object\n",
            "patient_firstname_1                object\n",
            "patient_lastname_1                 object\n",
            "patient_date_of_birth_1    datetime64[ns]\n",
            "patient_month_1                    object\n",
            "patient_month_2                    object\n",
            "patient_email_address_1            object\n",
            "patient_phone_number_1             object\n",
            "dtype: object\n",
            "\n"
          ]
        }
      ],
      "source": [
        "%%ag\n",
        "ag_print(health.dtypes)"
      ]
    },
    {
      "cell_type": "code",
      "execution_count": null,
      "metadata": {
        "id": "yGR7O8kDsUjj"
      },
      "outputs": [],
      "source": [
        "%%ag\n",
        "\n",
        "import op_recordlinkage as rl\n",
        "\n",
        "indexer = rl.Index()\n",
        "\n",
        "# block on derived last_name_1 and month_1\n",
        "# chose these as these columns wouldn't eliminate strong matches in the indexing stage itself\n",
        "indexer.block(\n",
        "    [\"passenger_lastname_1\", \"passenger_month_1\"],\n",
        "    [\"patient_lastname_1\", \"patient_month_1\"]\n",
        ")\n",
        "candidate_links = indexer.index(flight, health)"
      ]
    },
    {
      "cell_type": "code",
      "execution_count": null,
      "metadata": {
        "id": "43oyUWOxsUjj"
      },
      "outputs": [],
      "source": [
        "%%ag\n",
        "import datetime\n",
        "\n",
        "comparer = rl.Compare()\n",
        "\n",
        "comparer.string(\n",
        "    \"passenger_firstname\",\n",
        "    \"patient_firstname\",\n",
        "    method=\"jarowinkler\",\n",
        "    threshold=0.7, # sometimes middlename is (not)included\n",
        "    label=\"firstname\",\n",
        ")\n",
        "\n",
        "# comparer.string(\n",
        "#     \"passenger_firstname_1\",\n",
        "#     \"patient_firstname_1\",\n",
        "#     method=\"jarowinkler\",\n",
        "#     label=\"firstname_1\",\n",
        "# )\n",
        "\n",
        "comparer.string(\n",
        "    \"passenger_phone_number_1\",\n",
        "    \"patient_phone_number_1\",\n",
        "    method=\"jaro_winkler\",\n",
        "    label=\"phone\"\n",
        ")\n",
        "\n",
        "\n",
        "comparer.string(\n",
        "    \"passenger_email_address_1\",\n",
        "    \"patient_email_address_1\",\n",
        "    method=\"jaro_winkler\",\n",
        "    label=\"email\"\n",
        ")\n",
        "\n",
        "\n",
        "comparer.exact(\n",
        "    \"passenger_date_of_birth_1\",\n",
        "    \"patient_date_of_birth_1\",\n",
        "    label=\"dob\"\n",
        ")\n",
        "\n",
        "\n",
        "def cmp(date_str1: str , date_str2: str ) -> int:\n",
        "    # Convert date strings to datetime objects\n",
        "    date1 = datetime.datetime.strptime(date_str1, \"%Y-%m-%d\")\n",
        "    date2 = datetime.datetime.strptime(date_str2, \"%Y-%m-%d\")\n",
        "\n",
        "    # Calculate the absolute difference in days\n",
        "    days_apart = (date2 - date1).days\n",
        "    # Check if the dates are within two weeks (14 days) apart\n",
        "    if -14 < days_apart < 14:\n",
        "        return 2\n",
        "    else:\n",
        "        return 0\n",
        "\n",
        "comparer.custom(cmp, \"flight_date\", \"covidtest_date\", label=\"date_cmp\")"
      ]
    },
    {
      "cell_type": "code",
      "execution_count": null,
      "metadata": {
        "id": "yafyeSNQsUjj"
      },
      "outputs": [],
      "source": [
        "%%ag\n",
        "features = comparer.compute(candidate_links,flight,health)"
      ]
    },
    {
      "cell_type": "code",
      "execution_count": null,
      "metadata": {
        "id": "azEKLBhZsUjk",
        "outputId": "301ed0c5-dbb8-489b-a025-d66b0b758b5a"
      },
      "outputs": [
        {
          "name": "stdout",
          "output_type": "stream",
          "text": [
            "score: {'leaderboard': 0.9350645603725568, 'logs': {'LIN_EPS': -0.008, 'MCC': 0.9430645603725568}}\n",
            "\n"
          ]
        }
      ],
      "source": [
        "%%ag\n",
        "# get an average value using features.sum(axis=1).mean(eps=0.1)\n",
        "# and then further finetune the threshold value by submitting with nearby values\n",
        "\n",
        "linked_df = comparer.get_match(4.6)\n",
        "res = linked_df[[\"l_flight_number\"]]\n",
        "x = submit_predictions(res)"
      ]
    },
    {
      "cell_type": "code",
      "execution_count": null,
      "metadata": {
        "id": "DTYpk8lusUjk"
      },
      "outputs": [],
      "source": [
        "# index:last_1, month_1, compare: first(thr:0.7), dob1(exact), email1, phone1, thr: 4.6, score: 0.9350\n",
        "# index:last_1, month_1, compare: first(thr:0.7), dob1(exact), email1, phone1, thr: 4.65, score: 0.9337\n",
        "# index:last_1, month_1, compare: first(thr:0.7), dob1(exact), email1, phone1, thr: 4.7, score: 0.9298"
      ]
    }
  ],
  "metadata": {
    "kernelspec": {
      "display_name": "myenv",
      "language": "python",
      "name": "python3"
    },
    "language_info": {
      "codemirror_mode": {
        "name": "ipython",
        "version": 3
      },
      "file_extension": ".py",
      "mimetype": "text/x-python",
      "name": "python",
      "nbconvert_exporter": "python",
      "pygments_lexer": "ipython3",
      "version": "3.10.13"
    },
    "colab": {
      "provenance": []
    }
  },
  "nbformat": 4,
  "nbformat_minor": 0
}