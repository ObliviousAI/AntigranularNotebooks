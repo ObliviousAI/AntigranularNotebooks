{
  "nbformat": 4,
  "nbformat_minor": 0,
  "metadata": {
    "colab": {
      "provenance": []
    },
    "kernelspec": {
      "name": "python3",
      "display_name": "Python 3"
    },
    "language_info": {
      "name": "python"
    }
  },
  "cells": [
    {
      "cell_type": "markdown",
      "source": [
        "## Confidential Healthcare Modeling with ONNX on Antigranular\n",
        "\n",
        "### Introduction\n",
        "\n",
        "In healthcare data analysis, it's crucial to keep personal information private. We face the challenge of learning from this data while ensuring that personal details are kept confidential. This notebook demonstrates a clever way to achieve this. We'll show how ONNX (Open Neural Network Exchange) models can be used within the Antigranular environment, a tool that allows us to handle and analyse healthcare data without revealing any private information. By using ONNX models in Antigranular, we provide a secure method for conducting healthcare analyses, maintaining strict confidentiality of personal details while still gaining valuable insights from the data."
      ],
      "metadata": {
        "id": "QVVfnW8lHCxA"
      }
    },
    {
      "cell_type": "markdown",
      "source": [
        "### Setting Up the Environment\n",
        "\n",
        "Before we start, we need to set up our working environment. This includes installing the Antigranular package. Antigranular helps us perform complex data operations without compromising the confidentiality of the data."
      ],
      "metadata": {
        "id": "zs2qqL9HIGnb"
      }
    },
    {
      "cell_type": "code",
      "source": [
        "!pip install antigranular"
      ],
      "metadata": {
        "id": "W_pQK8kHtXUa"
      },
      "execution_count": null,
      "outputs": []
    },
    {
      "cell_type": "markdown",
      "source": [
        "🔐 **Getting Started with Antigranular**: To dive into our analysis, you'll first need to connect to Antigranular. Simply replace `<client_id>` and `<client_secret>` in the code with your unique credentials, which you can obtain from [antigranular.com](https://antigranular.com)."
      ],
      "metadata": {
        "id": "G0XE0o4ZQ7KQ"
      }
    },
    {
      "cell_type": "code",
      "source": [
        "import antigranular as ag\n",
        "session = ag.login(<client_id>,<client_secret>, dataset = \"The Health and Census Data\")"
      ],
      "metadata": {
        "colab": {
          "base_uri": "https://localhost:8080/",
          "height": 180
        },
        "id": "nqSh2d_dtZn8",
        "outputId": "2dc449fc-3a6e-4e9a-94f9-aeaeef0137b3"
      },
      "execution_count": 3,
      "outputs": [
        {
          "output_type": "display_data",
          "data": {
            "text/plain": [
              "<IPython.core.display.HTML object>"
            ],
            "text/html": []
          },
          "metadata": {}
        },
        {
          "output_type": "stream",
          "name": "stdout",
          "text": [
            "Dataset \"The Health and Census Data\" loaded to the kernel as \u001b[92mthe_health_and_census_data\u001b[0m\n",
            "Key Name                       Value Type     \n",
            "---------------------------------------------\n",
            "census                         PrivateDataFrame\n",
            "health                         PrivateDataFrame\n",
            "\n",
            "Connected to Antigranular server session id: f1f42264-a33f-4d01-b16a-e8b870bbb070, the session will time out if idle for 25 minutes\n",
            "Cell magic '%%ag' registered successfully, use `%%ag` in a notebook cell to execute your python code on Antigranular private python server\n",
            "🚀 Everything's set up and ready to roll!\n"
          ]
        }
      ]
    },
    {
      "cell_type": "markdown",
      "source": [
        "### Setup and Preparation\n",
        "\n",
        "1. **Installing Required Libraries**\n",
        "   - We start by installing necessary libraries `onnx`, `onnxruntime`, and `skl2onnx`. These installations is for model demonstration."
      ],
      "metadata": {
        "id": "AmnnhblILI9D"
      }
    },
    {
      "cell_type": "code",
      "source": [
        "!pip install onnx onnxruntime skl2onnx"
      ],
      "metadata": {
        "id": "qM_H78xTtcBq"
      },
      "execution_count": null,
      "outputs": []
    },
    {
      "cell_type": "markdown",
      "source": [
        "\n",
        "2. **Importing Libraries**\n",
        "   - Next, we import essential Python libraries such as `pandas` for data manipulation, `numpy` for numerical operations, and several modules from `sklearn` for model building and evaluation. For working with ONNX models, we include `onnx`, `onnxruntime`, and components from `skl2onnx`."
      ],
      "metadata": {
        "id": "DtUtTojnV0Vw"
      }
    },
    {
      "cell_type": "code",
      "source": [
        "import pandas as pd\n",
        "import numpy as np\n",
        "from sklearn.model_selection import train_test_split\n",
        "from sklearn.ensemble import RandomForestClassifier\n",
        "import onnx\n",
        "import onnxruntime as ort\n",
        "from skl2onnx import convert_sklearn\n",
        "from skl2onnx.common.data_types import FloatTensorType\n"
      ],
      "metadata": {
        "id": "TKEiSMXUtkNl"
      },
      "execution_count": 5,
      "outputs": []
    },
    {
      "cell_type": "markdown",
      "source": [
        "### Crafting Synthetic Data\n",
        "In this part, we create synthetic data, tailored to our analysis needs. This is crucial for two reasons: firstly, it allows us to test our methods without using real patient data, hence protecting privacy. Secondly, it provides a scalable way to simulate various scenarios. The `generate_synthetic_data` function is designed to create data that mirrors the characteristics of our actual dataset, ensuring the reliability of our analyses."
      ],
      "metadata": {
        "id": "oWgXU6esISBo"
      }
    },
    {
      "cell_type": "code",
      "execution_count": 6,
      "metadata": {
        "id": "xdC8Tmj1tRjf"
      },
      "outputs": [],
      "source": [
        "# Function to generate synthetic healthcare data\n",
        "def generate_synthetic_data(num_samples=1000):\n",
        "    np.random.seed(0)\n",
        "    ages = np.random.randint(20, 80, num_samples)\n",
        "    blood_pressures = np.random.normal(120, 20, num_samples).astype(int)\n",
        "    cholesterols = np.random.normal(200, 50, num_samples).astype(int)\n",
        "\n",
        "    diagnosis = []\n",
        "    for i in range(num_samples):\n",
        "        age_factor = (ages[i] - 20) / 60\n",
        "        bp_factor = (blood_pressures[i] - 60) / 120\n",
        "        chol_factor = (cholesterols[i] - 100) / 200\n",
        "        score = 0.3 * age_factor + 0.4 * bp_factor + 0.3 * chol_factor + np.random.rand() * 0.1\n",
        "        diagnosis.append(1 if score > 0.5 else 0)\n",
        "\n",
        "    return pd.DataFrame({\n",
        "        \"PatientID\": range(1, num_samples + 1),\n",
        "        \"Age\": ages,\n",
        "        \"BloodPressure\": blood_pressures,\n",
        "        \"Cholesterol\": cholesterols,\n",
        "        \"Diagnosis\": diagnosis\n",
        "    })"
      ]
    },
    {
      "cell_type": "markdown",
      "source": [
        "### Dividing Data for Analysis\n",
        "This section focuses on dividing our dataset into features (X) and the target (y). The features include 'Age', 'Blood Pressure', and 'Cholesterol' – these are crucial factors in healthcare analysis. The target, 'Diagnosis', is what we're trying to predict. Separating the dataset into features and target is a standard practice in machine learning. It prepares us to train models that can identify patterns in the features to predict the diagnosis accurately."
      ],
      "metadata": {
        "id": "trUzvsLNSfOR"
      }
    },
    {
      "cell_type": "code",
      "source": [
        "# Generate the synthetic dataset\n",
        "df = generate_synthetic_data()\n",
        "\n",
        "# Splitting the data into features and target\n",
        "X = df[[\"Age\", \"BloodPressure\", \"Cholesterol\"]]\n",
        "y = df[\"Diagnosis\"]\n"
      ],
      "metadata": {
        "id": "jAw0FOjptqxA"
      },
      "execution_count": 7,
      "outputs": []
    },
    {
      "cell_type": "markdown",
      "source": [
        "### Preparing Training and Testing Sets\n",
        "Now, we split our data into training and testing sets. This is done using the `train_test_split` function. We allocate 80% of the data for training (`X_train`, `y_train`) and the remaining 20% for testing (`X_test`, `y_test`). The training set is used to teach our model, while the testing set is reserved for evaluating its performance.\n"
      ],
      "metadata": {
        "id": "x8gCQOKeS8QS"
      }
    },
    {
      "cell_type": "code",
      "source": [
        "# Splitting the dataset into training and testing sets\n",
        "X_train, X_test, y_train, y_test = train_test_split(X, y, test_size=0.2, random_state=42)"
      ],
      "metadata": {
        "id": "uVkhzULyS71Z"
      },
      "execution_count": 8,
      "outputs": []
    },
    {
      "cell_type": "markdown",
      "source": [
        "### Importing Data to Antigranular\n",
        "In this part, we use the private_import method to securely transfer our synthetic dataset into Antigranular. The dataset is imported under the name 'df'. This step ensures that our data is safely integrated into the Antigranular environment."
      ],
      "metadata": {
        "id": "E1kfO0PaT8sQ"
      }
    },
    {
      "cell_type": "code",
      "source": [
        "# import synthetic dataset to ag as private dataset\n",
        "session.private_import(data=df, name='df')"
      ],
      "metadata": {
        "colab": {
          "base_uri": "https://localhost:8080/"
        },
        "id": "GrMlz3bC6snX",
        "outputId": "ed2b054a-f25e-4d23-bd46-7294136291a3"
      },
      "execution_count": 9,
      "outputs": [
        {
          "output_type": "stream",
          "name": "stdout",
          "text": [
            "dataframe cached to server, loading to kernel...\n",
            "Dataframe loaded successfully to the kernel\n",
            "\n"
          ]
        }
      ]
    },
    {
      "cell_type": "markdown",
      "source": [
        "### Analyzing Data with Differential Privacy\n",
        "In this segment, we utilize the capabilities of Antigranular to analyze the data using differential privacy methods. This approach ensures that we can derive meaningful insights from the data without compromising individual privacy."
      ],
      "metadata": {
        "id": "aETdIk2nW0BG"
      }
    },
    {
      "cell_type": "code",
      "source": [
        "%%ag\n",
        "from op_pandas import PrivateDataFrame\n",
        "pdf = PrivateDataFrame(df, categorical_metadata={'Diagnosis':[0, 1]})"
      ],
      "metadata": {
        "id": "u2fpUT11-IaV"
      },
      "execution_count": 10,
      "outputs": []
    },
    {
      "cell_type": "markdown",
      "source": [
        "### Analyzing Data Privately\n",
        "Next, we perform a private analysis of our data. We calculate the mean values of different variables grouped by the 'Diagnosis' column. This is done using differential privacy techniques to ensure that the results don't compromise individual data privacy."
      ],
      "metadata": {
        "id": "e4usdshpW7OF"
      }
    },
    {
      "cell_type": "code",
      "source": [
        "%%ag\n",
        "mean_values_by_diagnosis = pdf.groupby('Diagnosis').mean(eps=.1)"
      ],
      "metadata": {
        "id": "v9ftK2HT-USo"
      },
      "execution_count": 11,
      "outputs": []
    },
    {
      "cell_type": "markdown",
      "source": [
        "### Exporting Analysis Results\n",
        "After performing the analysis within the Antigranular environment, we export the results back to our local environment. This allows us to view and further analyze the results while ensuring that the data remains private and secure."
      ],
      "metadata": {
        "id": "GYJ0nd7gXLDB"
      }
    },
    {
      "cell_type": "code",
      "source": [
        "%%ag\n",
        "export(mean_values_by_diagnosis, 'mean_values_by_diagnosis')"
      ],
      "metadata": {
        "colab": {
          "base_uri": "https://localhost:8080/"
        },
        "id": "YMxoFq4o-t6O",
        "outputId": "7a5cd1f3-8cff-445d-d839-cd123aeb03b1"
      },
      "execution_count": 12,
      "outputs": [
        {
          "output_type": "stream",
          "name": "stdout",
          "text": [
            "Setting up exported variable in local environment: mean_values_by_diagnosis\n"
          ]
        }
      ]
    },
    {
      "cell_type": "code",
      "source": [
        "mean_values_by_diagnosis"
      ],
      "metadata": {
        "colab": {
          "base_uri": "https://localhost:8080/",
          "height": 112
        },
        "id": "Y79UoQVa_n3A",
        "outputId": "fca67c3a-1c31-487d-d491-f4400454f677"
      },
      "execution_count": 13,
      "outputs": [
        {
          "output_type": "execute_result",
          "data": {
            "text/plain": [
              "    PatientID        Age  BloodPressure  Cholesterol\n",
              "0  455.439458  35.083369      109.46373   123.960143\n",
              "1  522.707288  57.568955      115.42898   211.857467"
            ],
            "text/html": [
              "\n",
              "  <div id=\"df-c84f2a61-7d2d-439a-b3be-63dc7d3b5bea\" class=\"colab-df-container\">\n",
              "    <div>\n",
              "<style scoped>\n",
              "    .dataframe tbody tr th:only-of-type {\n",
              "        vertical-align: middle;\n",
              "    }\n",
              "\n",
              "    .dataframe tbody tr th {\n",
              "        vertical-align: top;\n",
              "    }\n",
              "\n",
              "    .dataframe thead th {\n",
              "        text-align: right;\n",
              "    }\n",
              "</style>\n",
              "<table border=\"1\" class=\"dataframe\">\n",
              "  <thead>\n",
              "    <tr style=\"text-align: right;\">\n",
              "      <th></th>\n",
              "      <th>PatientID</th>\n",
              "      <th>Age</th>\n",
              "      <th>BloodPressure</th>\n",
              "      <th>Cholesterol</th>\n",
              "    </tr>\n",
              "  </thead>\n",
              "  <tbody>\n",
              "    <tr>\n",
              "      <th>0</th>\n",
              "      <td>455.439458</td>\n",
              "      <td>35.083369</td>\n",
              "      <td>109.46373</td>\n",
              "      <td>123.960143</td>\n",
              "    </tr>\n",
              "    <tr>\n",
              "      <th>1</th>\n",
              "      <td>522.707288</td>\n",
              "      <td>57.568955</td>\n",
              "      <td>115.42898</td>\n",
              "      <td>211.857467</td>\n",
              "    </tr>\n",
              "  </tbody>\n",
              "</table>\n",
              "</div>\n",
              "    <div class=\"colab-df-buttons\">\n",
              "\n",
              "  <div class=\"colab-df-container\">\n",
              "    <button class=\"colab-df-convert\" onclick=\"convertToInteractive('df-c84f2a61-7d2d-439a-b3be-63dc7d3b5bea')\"\n",
              "            title=\"Convert this dataframe to an interactive table.\"\n",
              "            style=\"display:none;\">\n",
              "\n",
              "  <svg xmlns=\"http://www.w3.org/2000/svg\" height=\"24px\" viewBox=\"0 -960 960 960\">\n",
              "    <path d=\"M120-120v-720h720v720H120Zm60-500h600v-160H180v160Zm220 220h160v-160H400v160Zm0 220h160v-160H400v160ZM180-400h160v-160H180v160Zm440 0h160v-160H620v160ZM180-180h160v-160H180v160Zm440 0h160v-160H620v160Z\"/>\n",
              "  </svg>\n",
              "    </button>\n",
              "\n",
              "  <style>\n",
              "    .colab-df-container {\n",
              "      display:flex;\n",
              "      gap: 12px;\n",
              "    }\n",
              "\n",
              "    .colab-df-convert {\n",
              "      background-color: #E8F0FE;\n",
              "      border: none;\n",
              "      border-radius: 50%;\n",
              "      cursor: pointer;\n",
              "      display: none;\n",
              "      fill: #1967D2;\n",
              "      height: 32px;\n",
              "      padding: 0 0 0 0;\n",
              "      width: 32px;\n",
              "    }\n",
              "\n",
              "    .colab-df-convert:hover {\n",
              "      background-color: #E2EBFA;\n",
              "      box-shadow: 0px 1px 2px rgba(60, 64, 67, 0.3), 0px 1px 3px 1px rgba(60, 64, 67, 0.15);\n",
              "      fill: #174EA6;\n",
              "    }\n",
              "\n",
              "    .colab-df-buttons div {\n",
              "      margin-bottom: 4px;\n",
              "    }\n",
              "\n",
              "    [theme=dark] .colab-df-convert {\n",
              "      background-color: #3B4455;\n",
              "      fill: #D2E3FC;\n",
              "    }\n",
              "\n",
              "    [theme=dark] .colab-df-convert:hover {\n",
              "      background-color: #434B5C;\n",
              "      box-shadow: 0px 1px 3px 1px rgba(0, 0, 0, 0.15);\n",
              "      filter: drop-shadow(0px 1px 2px rgba(0, 0, 0, 0.3));\n",
              "      fill: #FFFFFF;\n",
              "    }\n",
              "  </style>\n",
              "\n",
              "    <script>\n",
              "      const buttonEl =\n",
              "        document.querySelector('#df-c84f2a61-7d2d-439a-b3be-63dc7d3b5bea button.colab-df-convert');\n",
              "      buttonEl.style.display =\n",
              "        google.colab.kernel.accessAllowed ? 'block' : 'none';\n",
              "\n",
              "      async function convertToInteractive(key) {\n",
              "        const element = document.querySelector('#df-c84f2a61-7d2d-439a-b3be-63dc7d3b5bea');\n",
              "        const dataTable =\n",
              "          await google.colab.kernel.invokeFunction('convertToInteractive',\n",
              "                                                    [key], {});\n",
              "        if (!dataTable) return;\n",
              "\n",
              "        const docLinkHtml = 'Like what you see? Visit the ' +\n",
              "          '<a target=\"_blank\" href=https://colab.research.google.com/notebooks/data_table.ipynb>data table notebook</a>'\n",
              "          + ' to learn more about interactive tables.';\n",
              "        element.innerHTML = '';\n",
              "        dataTable['output_type'] = 'display_data';\n",
              "        await google.colab.output.renderOutput(dataTable, element);\n",
              "        const docLink = document.createElement('div');\n",
              "        docLink.innerHTML = docLinkHtml;\n",
              "        element.appendChild(docLink);\n",
              "      }\n",
              "    </script>\n",
              "  </div>\n",
              "\n",
              "\n",
              "<div id=\"df-7a629ad7-682d-4018-b0a1-ca693839018a\">\n",
              "  <button class=\"colab-df-quickchart\" onclick=\"quickchart('df-7a629ad7-682d-4018-b0a1-ca693839018a')\"\n",
              "            title=\"Suggest charts\"\n",
              "            style=\"display:none;\">\n",
              "\n",
              "<svg xmlns=\"http://www.w3.org/2000/svg\" height=\"24px\"viewBox=\"0 0 24 24\"\n",
              "     width=\"24px\">\n",
              "    <g>\n",
              "        <path d=\"M19 3H5c-1.1 0-2 .9-2 2v14c0 1.1.9 2 2 2h14c1.1 0 2-.9 2-2V5c0-1.1-.9-2-2-2zM9 17H7v-7h2v7zm4 0h-2V7h2v10zm4 0h-2v-4h2v4z\"/>\n",
              "    </g>\n",
              "</svg>\n",
              "  </button>\n",
              "\n",
              "<style>\n",
              "  .colab-df-quickchart {\n",
              "      --bg-color: #E8F0FE;\n",
              "      --fill-color: #1967D2;\n",
              "      --hover-bg-color: #E2EBFA;\n",
              "      --hover-fill-color: #174EA6;\n",
              "      --disabled-fill-color: #AAA;\n",
              "      --disabled-bg-color: #DDD;\n",
              "  }\n",
              "\n",
              "  [theme=dark] .colab-df-quickchart {\n",
              "      --bg-color: #3B4455;\n",
              "      --fill-color: #D2E3FC;\n",
              "      --hover-bg-color: #434B5C;\n",
              "      --hover-fill-color: #FFFFFF;\n",
              "      --disabled-bg-color: #3B4455;\n",
              "      --disabled-fill-color: #666;\n",
              "  }\n",
              "\n",
              "  .colab-df-quickchart {\n",
              "    background-color: var(--bg-color);\n",
              "    border: none;\n",
              "    border-radius: 50%;\n",
              "    cursor: pointer;\n",
              "    display: none;\n",
              "    fill: var(--fill-color);\n",
              "    height: 32px;\n",
              "    padding: 0;\n",
              "    width: 32px;\n",
              "  }\n",
              "\n",
              "  .colab-df-quickchart:hover {\n",
              "    background-color: var(--hover-bg-color);\n",
              "    box-shadow: 0 1px 2px rgba(60, 64, 67, 0.3), 0 1px 3px 1px rgba(60, 64, 67, 0.15);\n",
              "    fill: var(--button-hover-fill-color);\n",
              "  }\n",
              "\n",
              "  .colab-df-quickchart-complete:disabled,\n",
              "  .colab-df-quickchart-complete:disabled:hover {\n",
              "    background-color: var(--disabled-bg-color);\n",
              "    fill: var(--disabled-fill-color);\n",
              "    box-shadow: none;\n",
              "  }\n",
              "\n",
              "  .colab-df-spinner {\n",
              "    border: 2px solid var(--fill-color);\n",
              "    border-color: transparent;\n",
              "    border-bottom-color: var(--fill-color);\n",
              "    animation:\n",
              "      spin 1s steps(1) infinite;\n",
              "  }\n",
              "\n",
              "  @keyframes spin {\n",
              "    0% {\n",
              "      border-color: transparent;\n",
              "      border-bottom-color: var(--fill-color);\n",
              "      border-left-color: var(--fill-color);\n",
              "    }\n",
              "    20% {\n",
              "      border-color: transparent;\n",
              "      border-left-color: var(--fill-color);\n",
              "      border-top-color: var(--fill-color);\n",
              "    }\n",
              "    30% {\n",
              "      border-color: transparent;\n",
              "      border-left-color: var(--fill-color);\n",
              "      border-top-color: var(--fill-color);\n",
              "      border-right-color: var(--fill-color);\n",
              "    }\n",
              "    40% {\n",
              "      border-color: transparent;\n",
              "      border-right-color: var(--fill-color);\n",
              "      border-top-color: var(--fill-color);\n",
              "    }\n",
              "    60% {\n",
              "      border-color: transparent;\n",
              "      border-right-color: var(--fill-color);\n",
              "    }\n",
              "    80% {\n",
              "      border-color: transparent;\n",
              "      border-right-color: var(--fill-color);\n",
              "      border-bottom-color: var(--fill-color);\n",
              "    }\n",
              "    90% {\n",
              "      border-color: transparent;\n",
              "      border-bottom-color: var(--fill-color);\n",
              "    }\n",
              "  }\n",
              "</style>\n",
              "\n",
              "  <script>\n",
              "    async function quickchart(key) {\n",
              "      const quickchartButtonEl =\n",
              "        document.querySelector('#' + key + ' button');\n",
              "      quickchartButtonEl.disabled = true;  // To prevent multiple clicks.\n",
              "      quickchartButtonEl.classList.add('colab-df-spinner');\n",
              "      try {\n",
              "        const charts = await google.colab.kernel.invokeFunction(\n",
              "            'suggestCharts', [key], {});\n",
              "      } catch (error) {\n",
              "        console.error('Error during call to suggestCharts:', error);\n",
              "      }\n",
              "      quickchartButtonEl.classList.remove('colab-df-spinner');\n",
              "      quickchartButtonEl.classList.add('colab-df-quickchart-complete');\n",
              "    }\n",
              "    (() => {\n",
              "      let quickchartButtonEl =\n",
              "        document.querySelector('#df-7a629ad7-682d-4018-b0a1-ca693839018a button');\n",
              "      quickchartButtonEl.style.display =\n",
              "        google.colab.kernel.accessAllowed ? 'block' : 'none';\n",
              "    })();\n",
              "  </script>\n",
              "</div>\n",
              "    </div>\n",
              "  </div>\n"
            ]
          },
          "metadata": {},
          "execution_count": 13
        }
      ]
    },
    {
      "cell_type": "markdown",
      "source": [
        "### Visualizing Data Insights\n",
        "After importing the necessary libraries for visualization (matplotlib and seaborn), the notebook presents a bar chart that displays the mean blood pressure and cholesterol values, categorized by diagnosis status (0 for Negative, 1 for Positive). This visualization provides the following insights:"
      ],
      "metadata": {
        "id": "S0bvBn1aYa3Y"
      }
    },
    {
      "cell_type": "code",
      "source": [
        "import matplotlib.pyplot as plt\n",
        "import seaborn as sns"
      ],
      "metadata": {
        "id": "Tf24Ce_9_-mt"
      },
      "execution_count": 14,
      "outputs": []
    },
    {
      "cell_type": "code",
      "source": [
        "# Plotting the mean values by Diagnosis\n",
        "mean_values_by_diagnosis[['Age', 'BloodPressure', 'Cholesterol']].plot(kind='bar', figsize=(10, 6))\n",
        "plt.title('Mean Age, Blood Pressure, and Cholesterol by Diagnosis')\n",
        "plt.ylabel('Mean Values')\n",
        "plt.xticks(ticks=[0, 1], labels=['Diagnosis: 0', 'Diagnosis: 1'], rotation=0)\n",
        "plt.show()"
      ],
      "metadata": {
        "colab": {
          "base_uri": "https://localhost:8080/",
          "height": 545
        },
        "id": "Aws-neb4_rfk",
        "outputId": "9b464127-2a50-448e-8b6c-e63a2fc3243a"
      },
      "execution_count": 15,
      "outputs": [
        {
          "output_type": "display_data",
          "data": {
            "text/plain": [
              "<Figure size 1000x600 with 1 Axes>"
            ],
            "image/png": "[encoded data removed]"
          },
          "metadata": {}
        }
      ]
    },
    {
      "cell_type": "markdown",
      "source": [
        "### Observations\n",
        "- **Age**: Patients with a diagnosis of 1 (positive) have a significantly higher average age (about 57 years) compared to those with a diagnosis of 0 (about 37 years).\n",
        "- **Blood Pressure**: Similarly, the average blood pressure is higher in patients with a positive diagnosis (approximately 115) compared to those without (approximately 109).\n",
        "- **Cholesterol**: The trend continues with cholesterol, where patients with a positive diagnosis have a higher average cholesterol level (about 211) than those without (about 123).\n",
        "\n",
        "These visualizations clearly illustrate the distinctions in these health metrics between the two groups."
      ],
      "metadata": {
        "id": "G_Ae-CKgA0qm"
      }
    },
    {
      "cell_type": "code",
      "source": [
        "%%ag\n",
        "mean_bp_cholesterol_by_diagnosis = pdf.groupby('Diagnosis').mean(eps=.1)[['BloodPressure', 'Cholesterol']]"
      ],
      "metadata": {
        "id": "Ps48bIoRB_jS"
      },
      "execution_count": 16,
      "outputs": []
    },
    {
      "cell_type": "code",
      "source": [
        "%%ag\n",
        "export(mean_bp_cholesterol_by_diagnosis, 'mean_bp_cholesterol_by_diagnosis')"
      ],
      "metadata": {
        "colab": {
          "base_uri": "https://localhost:8080/"
        },
        "id": "68mXXE78uq9b",
        "outputId": "f63bd3a8-2d65-4821-da7a-9eb7b468f984"
      },
      "execution_count": 19,
      "outputs": [
        {
          "output_type": "stream",
          "name": "stdout",
          "text": [
            "Setting up exported variable in local environment: mean_bp_cholesterol_by_diagnosis\n"
          ]
        }
      ]
    },
    {
      "cell_type": "code",
      "source": [
        "mean_bp_cholesterol_by_diagnosis.plot(kind='bar', figsize=(8, 5))\n",
        "plt.title('Mean Blood Pressure and Cholesterol by Diagnosis')\n",
        "plt.ylabel('Mean Values')\n",
        "plt.xticks(ticks=[0, 1], labels=['Diagnosis: 0', 'Diagnosis: 1'], rotation=0)\n",
        "plt.show()"
      ],
      "metadata": {
        "colab": {
          "base_uri": "https://localhost:8080/",
          "height": 468
        },
        "id": "UlQpCtKbCDN8",
        "outputId": "0931dd73-153c-4e47-96be-6d0b31aae12b"
      },
      "execution_count": 20,
      "outputs": [
        {
          "output_type": "display_data",
          "data": {
            "text/plain": [
              "<Figure size 800x500 with 1 Axes>"
            ],
            "image/png": "[encoded data removed]"
          },
          "metadata": {}
        }
      ]
    },
    {
      "cell_type": "markdown",
      "source": [
        "### Insights\n",
        "The bar chart above displays the mean blood pressure and cholesterol values, separated by diagnosis status (0 or 1):\n",
        "\n",
        "- **Diagnosis 0 (Negative)**: Shows lower average blood pressure and cholesterol levels.\n",
        "- **Diagnosis 1 (Positive)**: Associated with higher average blood pressure and cholesterol levels.\n",
        "\n",
        "This visualization effectively highlights the differences in blood pressure and cholesterol based on the diagnosis status."
      ],
      "metadata": {
        "id": "39BWigtECMzz"
      }
    },
    {
      "cell_type": "markdown",
      "source": [
        "### Training the Machine Learning Model\n",
        "In this phase, we initiate the training of our machine learning model. We've chosen a `RandomForestClassifier` for its effectiveness in handling diverse datasets. By invoking the `fit` method, we're essentially 'teaching' the model using our training data (`X_train` and `y_train`). The model learns to correlate the features (age, blood pressure, cholesterol) with the target (diagnosis). Think of it as a student in a classroom, absorbing knowledge (training data) and learning to make informed predictions.\n"
      ],
      "metadata": {
        "id": "crwqDwPuTO3K"
      }
    },
    {
      "cell_type": "code",
      "source": [
        "# Training the RandomForestClassifier\n",
        "model = RandomForestClassifier(random_state=42)\n",
        "model.fit(X_train, y_train)\n"
      ],
      "metadata": {
        "colab": {
          "base_uri": "https://localhost:8080/",
          "height": 74
        },
        "id": "P_2YVhjjtvq4",
        "outputId": "5b45f7b8-215a-4a59-ea4e-86246ba19e01"
      },
      "execution_count": 21,
      "outputs": [
        {
          "output_type": "execute_result",
          "data": {
            "text/plain": [
              "RandomForestClassifier(random_state=42)"
            ],
            "text/html": [
              "<style>#sk-container-id-1 {color: black;background-color: white;}#sk-container-id-1 pre{padding: 0;}#sk-container-id-1 div.sk-toggleable {background-color: white;}#sk-container-id-1 label.sk-toggleable__label {cursor: pointer;display: block;width: 100%;margin-bottom: 0;padding: 0.3em;box-sizing: border-box;text-align: center;}#sk-container-id-1 label.sk-toggleable__label-arrow:before {content: \"▸\";float: left;margin-right: 0.25em;color: #696969;}#sk-container-id-1 label.sk-toggleable__label-arrow:hover:before {color: black;}#sk-container-id-1 div.sk-estimator:hover label.sk-toggleable__label-arrow:before {color: black;}#sk-container-id-1 div.sk-toggleable__content {max-height: 0;max-width: 0;overflow: hidden;text-align: left;background-color: #f0f8ff;}#sk-container-id-1 div.sk-toggleable__content pre {margin: 0.2em;color: black;border-radius: 0.25em;background-color: #f0f8ff;}#sk-container-id-1 input.sk-toggleable__control:checked~div.sk-toggleable__content {max-height: 200px;max-width: 100%;overflow: auto;}#sk-container-id-1 input.sk-toggleable__control:checked~label.sk-toggleable__label-arrow:before {content: \"▾\";}#sk-container-id-1 div.sk-estimator input.sk-toggleable__control:checked~label.sk-toggleable__label {background-color: #d4ebff;}#sk-container-id-1 div.sk-label input.sk-toggleable__control:checked~label.sk-toggleable__label {background-color: #d4ebff;}#sk-container-id-1 input.sk-hidden--visually {border: 0;clip: rect(1px 1px 1px 1px);clip: rect(1px, 1px, 1px, 1px);height: 1px;margin: -1px;overflow: hidden;padding: 0;position: absolute;width: 1px;}#sk-container-id-1 div.sk-estimator {font-family: monospace;background-color: #f0f8ff;border: 1px dotted black;border-radius: 0.25em;box-sizing: border-box;margin-bottom: 0.5em;}#sk-container-id-1 div.sk-estimator:hover {background-color: #d4ebff;}#sk-container-id-1 div.sk-parallel-item::after {content: \"\";width: 100%;border-bottom: 1px solid gray;flex-grow: 1;}#sk-container-id-1 div.sk-label:hover label.sk-toggleable__label {background-color: #d4ebff;}#sk-container-id-1 div.sk-serial::before {content: \"\";position: absolute;border-left: 1px solid gray;box-sizing: border-box;top: 0;bottom: 0;left: 50%;z-index: 0;}#sk-container-id-1 div.sk-serial {display: flex;flex-direction: column;align-items: center;background-color: white;padding-right: 0.2em;padding-left: 0.2em;position: relative;}#sk-container-id-1 div.sk-item {position: relative;z-index: 1;}#sk-container-id-1 div.sk-parallel {display: flex;align-items: stretch;justify-content: center;background-color: white;position: relative;}#sk-container-id-1 div.sk-item::before, #sk-container-id-1 div.sk-parallel-item::before {content: \"\";position: absolute;border-left: 1px solid gray;box-sizing: border-box;top: 0;bottom: 0;left: 50%;z-index: -1;}#sk-container-id-1 div.sk-parallel-item {display: flex;flex-direction: column;z-index: 1;position: relative;background-color: white;}#sk-container-id-1 div.sk-parallel-item:first-child::after {align-self: flex-end;width: 50%;}#sk-container-id-1 div.sk-parallel-item:last-child::after {align-self: flex-start;width: 50%;}#sk-container-id-1 div.sk-parallel-item:only-child::after {width: 0;}#sk-container-id-1 div.sk-dashed-wrapped {border: 1px dashed gray;margin: 0 0.4em 0.5em 0.4em;box-sizing: border-box;padding-bottom: 0.4em;background-color: white;}#sk-container-id-1 div.sk-label label {font-family: monospace;font-weight: bold;display: inline-block;line-height: 1.2em;}#sk-container-id-1 div.sk-label-container {text-align: center;}#sk-container-id-1 div.sk-container {/* jupyter's `normalize.less` sets `[hidden] { display: none; }` but bootstrap.min.css set `[hidden] { display: none !important; }` so we also need the `!important` here to be able to override the default hidden behavior on the sphinx rendered scikit-learn.org. See: https://github.com/scikit-learn/scikit-learn/issues/21755 */display: inline-block !important;position: relative;}#sk-container-id-1 div.sk-text-repr-fallback {display: none;}</style><div id=\"sk-container-id-1\" class=\"sk-top-container\"><div class=\"sk-text-repr-fallback\"><pre>RandomForestClassifier(random_state=42)</pre><b>In a Jupyter environment, please rerun this cell to show the HTML representation or trust the notebook. <br />On GitHub, the HTML representation is unable to render, please try loading this page with nbviewer.org.</b></div><div class=\"sk-container\" hidden><div class=\"sk-item\"><div class=\"sk-estimator sk-toggleable\"><input class=\"sk-toggleable__control sk-hidden--visually\" id=\"sk-estimator-id-1\" type=\"checkbox\" checked><label for=\"sk-estimator-id-1\" class=\"sk-toggleable__label sk-toggleable__label-arrow\">RandomForestClassifier</label><div class=\"sk-toggleable__content\"><pre>RandomForestClassifier(random_state=42)</pre></div></div></div></div></div>"
            ]
          },
          "metadata": {},
          "execution_count": 21
        }
      ]
    },
    {
      "cell_type": "markdown",
      "source": [
        "### Converting the Model to ONNX Format\n",
        "After training the RandomForestClassifier, we convert it into ONNX (Open Neural Network Exchange) format. This step is crucial for deploying the model in different environments while maintaining consistency in predictions."
      ],
      "metadata": {
        "id": "yue1uL9pYP0g"
      }
    },
    {
      "cell_type": "code",
      "source": [
        "# Converting the sklearn model to ONNX format\n",
        "initial_type = [('float_input', FloatTensorType([None, X_train.shape[1]]))]\n",
        "onnx_model = convert_sklearn(model, initial_types=initial_type)\n",
        "\n",
        "# Save the ONNX model to a file\n",
        "onnx_model_path = \"healthcare_model.onnx\"\n",
        "with open(onnx_model_path, \"wb\") as f:\n",
        "    f.write(onnx_model.SerializeToString())"
      ],
      "metadata": {
        "id": "K9irIopdtyik"
      },
      "execution_count": 22,
      "outputs": []
    },
    {
      "cell_type": "markdown",
      "source": [
        "#### Importing the ONNX Model to Antigranular\n",
        "Next, we import the ONNX model into the Antigranular environment. This allows us to leverage the secure and private computation capabilities of Antigranular while utilizing our newly trained model."
      ],
      "metadata": {
        "id": "i8ReSFDVYiJF"
      }
    },
    {
      "cell_type": "code",
      "source": [
        "session.private_import(path=onnx_model_path, name=\"onnx_model\")"
      ],
      "metadata": {
        "colab": {
          "base_uri": "https://localhost:8080/"
        },
        "id": "gq8-yQIHuCA9",
        "outputId": "c0d74656-a625-4984-c3e3-f8ff668a6a3b"
      },
      "execution_count": 23,
      "outputs": [
        {
          "output_type": "stream",
          "name": "stdout",
          "text": [
            "model cached to server, loading to kernel...\n",
            "Model loaded successfully to the kernel\n",
            "\n"
          ]
        }
      ]
    },
    {
      "cell_type": "markdown",
      "source": [
        "### Importing Test Data to Antigranular\n",
        "The notebook progresses by importing the test data (X_test and y_test) into Antigranular. This step is vital for subsequent predictions with the ONNX model."
      ],
      "metadata": {
        "id": "pSLkMdAdZ_7L"
      }
    },
    {
      "cell_type": "code",
      "source": [
        "session.private_import(data=X_test, name=\"X_test\")"
      ],
      "metadata": {
        "colab": {
          "base_uri": "https://localhost:8080/"
        },
        "id": "TZlWAIOluPMw",
        "outputId": "2b5444f1-6c1a-41a8-8945-82d78709c75a"
      },
      "execution_count": 24,
      "outputs": [
        {
          "output_type": "stream",
          "name": "stdout",
          "text": [
            "dataframe cached to server, loading to kernel...\n",
            "Dataframe loaded successfully to the kernel\n",
            "\n"
          ]
        }
      ]
    },
    {
      "cell_type": "markdown",
      "source": [
        "### Converting Test Labels to DataFrame\n",
        "Before importing the test labels (y_test) into Antigranular, we need to convert them from a Pandas Series to a DataFrame."
      ],
      "metadata": {
        "id": "Y8tkOWdSZ2Xm"
      }
    },
    {
      "cell_type": "code",
      "source": [
        "session.private_import(data=pd.DataFrame(y_test.values), name=\"y_test_df\")"
      ],
      "metadata": {
        "colab": {
          "base_uri": "https://localhost:8080/"
        },
        "id": "FsUJGfSVu9kc",
        "outputId": "a2c40186-cb93-4a5f-bae7-5b2f02c2655b"
      },
      "execution_count": 25,
      "outputs": [
        {
          "output_type": "stream",
          "name": "stdout",
          "text": [
            "dataframe cached to server, loading to kernel...\n",
            "Dataframe loaded successfully to the kernel\n",
            "\n"
          ]
        }
      ]
    },
    {
      "cell_type": "markdown",
      "source": [
        "### Making Predictions with the ONNX Model\n",
        "A custom function, make_predictions, is used within Antigranular to employ the ONNX model for prediction. This function processes the test data and utilizes the model for inference.\n",
        "\n",
        "The model's accuracy is calculated by comparing the predictions against the actual test values. This provides an objective assessment of the model's performance."
      ],
      "metadata": {
        "id": "hOtyimKXY_VE"
      }
    },
    {
      "cell_type": "code",
      "source": [
        "%%ag\n",
        "import onnxruntime as ort\n",
        "import numpy as np\n",
        "import pandas as pd\n",
        "# Function to make predictions using ONNX model\n",
        "def make_predictions(data, model):\n",
        "    sess = ort.InferenceSession(model.SerializeToString())\n",
        "\n",
        "    if isinstance(data, pd.DataFrame):\n",
        "        data = data.values\n",
        "    elif isinstance(data, list):\n",
        "        data = np.array(data)\n",
        "\n",
        "    if data.ndim == 1:\n",
        "        data = data.reshape(1, -1)\n",
        "\n",
        "    data = data.astype(np.float32)\n",
        "    onnx_inputs = {sess.get_inputs()[0].name: data}\n",
        "    onnx_output = sess.run(None, onnx_inputs)\n",
        "    return onnx_output[0]\n",
        "\n",
        "# Making predictions on the test data\n",
        "onnx_predictions = make_predictions(X_test, onnx_model)\n",
        "\n",
        "def accuracy_score(y_true, y_pred):\n",
        "    correct_predictions = np.sum(y_true == y_pred)\n",
        "    total_predictions = len(y_true)\n",
        "    accuracy = correct_predictions / total_predictions\n",
        "    return accuracy\n",
        "\n",
        "# Evaluating the model\n",
        "accuracy = accuracy_score(y_test_df.sort_index()[0], onnx_predictions.round())\n",
        "\n",
        "# Output the model accuracy\n",
        "ag_print(f\"Model Accuracy: {accuracy}\")"
      ],
      "metadata": {
        "colab": {
          "base_uri": "https://localhost:8080/"
        },
        "id": "Iwssj3VGt5D_",
        "outputId": "2f839eb3-8ad1-40d5-c039-611228019682"
      },
      "execution_count": 26,
      "outputs": [
        {
          "output_type": "stream",
          "name": "stdout",
          "text": [
            "Model Accuracy: 0.895\n",
            "\n"
          ]
        }
      ]
    },
    {
      "cell_type": "markdown",
      "source": [
        "### Terminating the Antigranular Session\n",
        "The session in Antigranular is then properly terminated, concluding the notebook and freeing up resources."
      ],
      "metadata": {
        "id": "a5hVjz8tY34f"
      }
    },
    {
      "cell_type": "code",
      "source": [
        "session.terminate_session()"
      ],
      "metadata": {
        "colab": {
          "base_uri": "https://localhost:8080/"
        },
        "id": "wvqE2dshulPf",
        "outputId": "b68da12c-b8e4-4dce-877e-d4987ce93f1e"
      },
      "execution_count": 27,
      "outputs": [
        {
          "output_type": "execute_result",
          "data": {
            "text/plain": [
              "{'status': 'ok'}"
            ]
          },
          "metadata": {},
          "execution_count": 27
        }
      ]
    }
  ]
}