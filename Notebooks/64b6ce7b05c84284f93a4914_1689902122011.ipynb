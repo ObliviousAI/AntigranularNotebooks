{
  "nbformat": 4,
  "nbformat_minor": 0,
  "metadata": {
    "colab": {
      "provenance": []
    },
    "kernelspec": {
      "name": "python3",
      "display_name": "Python 3"
    },
    "language_info": {
      "name": "python"
    }
  },
  "cells": [
    {
      "cell_type": "code",
      "execution_count": null,
      "metadata": {
        "id": "egGHdNuxa4Ke"
      },
      "outputs": [],
      "source": [
        "!pip install antigranular"
      ]
    },
    {
      "cell_type": "code",
      "source": [
        "import antigranular as ag\n",
        "session = ag.login(<client_id>,<client_secret>, dataset = \"Iris Dataset\")"
      ],
      "metadata": {
        "colab": {
          "base_uri": "https://localhost:8080/"
        },
        "id": "HnudLIVKa5v_",
        "outputId": "059b3f95-f5ec-4925-ebda-b0c93995ffac"
      },
      "execution_count": 2,
      "outputs": [
        {
          "output_type": "stream",
          "name": "stdout",
          "text": [
            "Connected to Antigranular server session id: 749755b0-3467-428e-aeb6-b68f291faf7b\n",
            "Cell magic '%%ag' registered successfully, use `%%ag` in a notebook cell to execute your python code on Antigranular private python server\n"
          ]
        }
      ]
    },
    {
      "cell_type": "code",
      "source": [
        "%%ag\n",
        "from op_pandas import PrivateDataFrame , PrivateSeries\n",
        "from ag_utils import load_dataset, export\n",
        "\n",
        "response = load_dataset(\"Iris Dataset\")   # loading the Iris Dataset\n",
        "\n",
        "train_x = response[\"train_x\"]\n",
        "train_y = response[\"train_y\"]\n",
        "test_x = response[\"test_x\"]"
      ],
      "metadata": {
        "id": "xTYjAR48a-Hj"
      },
      "execution_count": 3,
      "outputs": []
    },
    {
      "cell_type": "markdown",
      "source": [
        "### How the columns look like"
      ],
      "metadata": {
        "id": "b69nOJckbCPe"
      }
    },
    {
      "cell_type": "code",
      "source": [
        "%%ag\n",
        "export(train_x.columns, \"columns\")  # Exporting the columns to get the name of the columns"
      ],
      "metadata": {
        "colab": {
          "base_uri": "https://localhost:8080/"
        },
        "id": "bhDP1VAba_gE",
        "outputId": "ec1565b5-c62b-43f2-ca94-a4f9ee3691d5"
      },
      "execution_count": 4,
      "outputs": [
        {
          "output_type": "stream",
          "name": "stdout",
          "text": [
            "Setting up exported variable in local environment: columns\n"
          ]
        }
      ]
    },
    {
      "cell_type": "code",
      "source": [
        "columns     # Exported variables can be accessed locally"
      ],
      "metadata": {
        "colab": {
          "base_uri": "https://localhost:8080/"
        },
        "id": "zLjV1PK5bG1s",
        "outputId": "4fadabe9-56db-4f0a-c010-99548a6f93f0"
      },
      "execution_count": 5,
      "outputs": [
        {
          "output_type": "execute_result",
          "data": {
            "text/plain": [
              "Index(['sepal_length', 'sepal_width', 'petal_length', 'petal_width'], dtype='object')"
            ]
          },
          "metadata": {},
          "execution_count": 5
        }
      ]
    },
    {
      "cell_type": "code",
      "source": [
        "session.privacy_odometer()"
      ],
      "metadata": {
        "colab": {
          "base_uri": "https://localhost:8080/"
        },
        "id": "xcaIBTdZhf33",
        "outputId": "f56ecd5e-ff18-4a22-c84b-33e2ff3d6ed2"
      },
      "execution_count": 6,
      "outputs": [
        {
          "output_type": "execute_result",
          "data": {
            "text/plain": [
              "{'total_epsilon_used': 0.0, 'total_delta_used': 0.0}"
            ]
          },
          "metadata": {},
          "execution_count": 6
        }
      ]
    },
    {
      "cell_type": "code",
      "source": [
        "%%ag\n",
        "hist2d = train_x.hist2d(1, 'sepal_length', 'sepal_width')       # creating a differentially private 2-d histogram of sepal_length and sepal_width\n",
        "export(hist2d, 'hist2d')"
      ],
      "metadata": {
        "colab": {
          "base_uri": "https://localhost:8080/"
        },
        "id": "_UTmlPGMbIK0",
        "outputId": "b0b7f953-e25e-47fe-e60b-654f85efe190"
      },
      "execution_count": 7,
      "outputs": [
        {
          "output_type": "stream",
          "name": "stdout",
          "text": [
            "Setting up exported variable in local environment: hist2d\n"
          ]
        }
      ]
    },
    {
      "cell_type": "code",
      "source": [
        "import matplotlib.pyplot as plt       # plotting the 2-d histogram as a heatmap\n",
        "hist, x_edges, y_edges = hist2d\n",
        "plt.imshow(hist.T, origin='lower', extent=[x_edges[0], x_edges[-1], y_edges[0], y_edges[-1]], cmap='hot')\n",
        "plt.colorbar()\n",
        "plt.xlabel('X')\n",
        "plt.ylabel('Y')\n",
        "plt.title('Histogram')\n",
        "plt.show()"
      ],
      "metadata": {
        "colab": {
          "base_uri": "https://localhost:8080/",
          "height": 415
        },
        "id": "d4RO9p2ibJZi",
        "outputId": "54b4b1a3-d8fa-4c66-e7e0-7289f7b5afc0"
      },
      "execution_count": 8,
      "outputs": [
        {
          "output_type": "display_data",
          "data": {
            "text/plain": [
              "<Figure size 640x480 with 2 Axes>"
            ],
            "image/png": "[encoded data removed]"
          },
          "metadata": {}
        }
      ]
    },
    {
      "cell_type": "code",
      "source": [
        "%%ag\n",
        "hist2d = train_x.hist2d(1, 'petal_length', 'petal_width')     # Similar histogram for petal_length and petal_width\n",
        "export(hist2d, 'hist2d_petal')"
      ],
      "metadata": {
        "colab": {
          "base_uri": "https://localhost:8080/"
        },
        "id": "Kf7DVl0TbPQm",
        "outputId": "5d04cc94-d0a5-4642-ff6d-c87ae917c62f"
      },
      "execution_count": 9,
      "outputs": [
        {
          "output_type": "stream",
          "name": "stdout",
          "text": [
            "Setting up exported variable in local environment: hist2d_petal\n"
          ]
        }
      ]
    },
    {
      "cell_type": "code",
      "source": [
        "import matplotlib.pyplot as plt         # plotting the 2-d histogram as a heatmap\n",
        "hist, x_edges, y_edges = hist2d_petal\n",
        "plt.imshow(hist.T, origin='lower', extent=[x_edges[0], x_edges[-1], y_edges[0], y_edges[-1]], cmap='hot')\n",
        "plt.colorbar()\n",
        "plt.xlabel('X')\n",
        "plt.ylabel('Y')\n",
        "plt.title('Histogram')\n",
        "plt.show()"
      ],
      "metadata": {
        "colab": {
          "base_uri": "https://localhost:8080/",
          "height": 415
        },
        "id": "XsYh5Id2bXOY",
        "outputId": "4f89867b-c1c8-43f0-90e3-5ab637b19ab2"
      },
      "execution_count": 10,
      "outputs": [
        {
          "output_type": "display_data",
          "data": {
            "text/plain": [
              "<Figure size 640x480 with 2 Axes>"
            ],
            "image/png": "[encoded data removed]"
          },
          "metadata": {}
        }
      ]
    },
    {
      "cell_type": "code",
      "source": [
        "%%ag\n",
        "export(train_x.describe(eps = 1), \"describe\")     #  Exporting the describe of the dataset"
      ],
      "metadata": {
        "colab": {
          "base_uri": "https://localhost:8080/"
        },
        "id": "egi1JKJUbZlb",
        "outputId": "b5b7678b-b7d4-42b2-a263-c0e590e40bf9"
      },
      "execution_count": 11,
      "outputs": [
        {
          "output_type": "stream",
          "name": "stdout",
          "text": [
            "Total epsilon spent = 1.0000\n",
            "\n",
            "Setting up exported variable in local environment: describe\n"
          ]
        }
      ]
    },
    {
      "cell_type": "code",
      "source": [
        "describe"
      ],
      "metadata": {
        "colab": {
          "base_uri": "https://localhost:8080/",
          "height": 300
        },
        "id": "VuugyT-AbdL8",
        "outputId": "4d98779a-d119-4012-bb25-4651912fa165"
      },
      "execution_count": 12,
      "outputs": [
        {
          "output_type": "execute_result",
          "data": {
            "text/plain": [
              "       sepal_length  sepal_width  petal_length  petal_width\n",
              "count    120.000000   120.000000    120.000000   120.000000\n",
              "mean       5.283277     2.938288      4.010107     0.854904\n",
              "std        0.795423     0.440329      2.395306     0.536508\n",
              "min        5.516382     3.764903      3.041854     1.514812\n",
              "25%        5.675764     2.882420      3.618203     0.867658\n",
              "50%        4.858628     2.729515      5.904762     1.200536\n",
              "75%        5.185809     3.215557      2.793259     1.437630\n",
              "max        5.924548     2.162027      3.354497     2.493157"
            ],
            "text/html": [
              "\n",
              "\n",
              "  <div id=\"df-7535c3a7-6034-423e-b47e-d729d538c349\">\n",
              "    <div class=\"colab-df-container\">\n",
              "      <div>\n",
              "<style scoped>\n",
              "    .dataframe tbody tr th:only-of-type {\n",
              "        vertical-align: middle;\n",
              "    }\n",
              "\n",
              "    .dataframe tbody tr th {\n",
              "        vertical-align: top;\n",
              "    }\n",
              "\n",
              "    .dataframe thead th {\n",
              "        text-align: right;\n",
              "    }\n",
              "</style>\n",
              "<table border=\"1\" class=\"dataframe\">\n",
              "  <thead>\n",
              "    <tr style=\"text-align: right;\">\n",
              "      <th></th>\n",
              "      <th>sepal_length</th>\n",
              "      <th>sepal_width</th>\n",
              "      <th>petal_length</th>\n",
              "      <th>petal_width</th>\n",
              "    </tr>\n",
              "  </thead>\n",
              "  <tbody>\n",
              "    <tr>\n",
              "      <th>count</th>\n",
              "      <td>120.000000</td>\n",
              "      <td>120.000000</td>\n",
              "      <td>120.000000</td>\n",
              "      <td>120.000000</td>\n",
              "    </tr>\n",
              "    <tr>\n",
              "      <th>mean</th>\n",
              "      <td>5.283277</td>\n",
              "      <td>2.938288</td>\n",
              "      <td>4.010107</td>\n",
              "      <td>0.854904</td>\n",
              "    </tr>\n",
              "    <tr>\n",
              "      <th>std</th>\n",
              "      <td>0.795423</td>\n",
              "      <td>0.440329</td>\n",
              "      <td>2.395306</td>\n",
              "      <td>0.536508</td>\n",
              "    </tr>\n",
              "    <tr>\n",
              "      <th>min</th>\n",
              "      <td>5.516382</td>\n",
              "      <td>3.764903</td>\n",
              "      <td>3.041854</td>\n",
              "      <td>1.514812</td>\n",
              "    </tr>\n",
              "    <tr>\n",
              "      <th>25%</th>\n",
              "      <td>5.675764</td>\n",
              "      <td>2.882420</td>\n",
              "      <td>3.618203</td>\n",
              "      <td>0.867658</td>\n",
              "    </tr>\n",
              "    <tr>\n",
              "      <th>50%</th>\n",
              "      <td>4.858628</td>\n",
              "      <td>2.729515</td>\n",
              "      <td>5.904762</td>\n",
              "      <td>1.200536</td>\n",
              "    </tr>\n",
              "    <tr>\n",
              "      <th>75%</th>\n",
              "      <td>5.185809</td>\n",
              "      <td>3.215557</td>\n",
              "      <td>2.793259</td>\n",
              "      <td>1.437630</td>\n",
              "    </tr>\n",
              "    <tr>\n",
              "      <th>max</th>\n",
              "      <td>5.924548</td>\n",
              "      <td>2.162027</td>\n",
              "      <td>3.354497</td>\n",
              "      <td>2.493157</td>\n",
              "    </tr>\n",
              "  </tbody>\n",
              "</table>\n",
              "</div>\n",
              "      <button class=\"colab-df-convert\" onclick=\"convertToInteractive('df-7535c3a7-6034-423e-b47e-d729d538c349')\"\n",
              "              title=\"Convert this dataframe to an interactive table.\"\n",
              "              style=\"display:none;\">\n",
              "\n",
              "  <svg xmlns=\"http://www.w3.org/2000/svg\" height=\"24px\"viewBox=\"0 0 24 24\"\n",
              "       width=\"24px\">\n",
              "    <path d=\"M0 0h24v24H0V0z\" fill=\"none\"/>\n",
              "    <path d=\"M18.56 5.44l.94 2.06.94-2.06 2.06-.94-2.06-.94-.94-2.06-.94 2.06-2.06.94zm-11 1L8.5 8.5l.94-2.06 2.06-.94-2.06-.94L8.5 2.5l-.94 2.06-2.06.94zm10 10l.94 2.06.94-2.06 2.06-.94-2.06-.94-.94-2.06-.94 2.06-2.06.94z\"/><path d=\"M17.41 7.96l-1.37-1.37c-.4-.4-.92-.59-1.43-.59-.52 0-1.04.2-1.43.59L10.3 9.45l-7.72 7.72c-.78.78-.78 2.05 0 2.83L4 21.41c.39.39.9.59 1.41.59.51 0 1.02-.2 1.41-.59l7.78-7.78 2.81-2.81c.8-.78.8-2.07 0-2.86zM5.41 20L4 18.59l7.72-7.72 1.47 1.35L5.41 20z\"/>\n",
              "  </svg>\n",
              "      </button>\n",
              "\n",
              "\n",
              "\n",
              "    <div id=\"df-ae47bcc6-2afe-4743-a1c9-a8f8e0435d1c\">\n",
              "      <button class=\"colab-df-quickchart\" onclick=\"quickchart('df-ae47bcc6-2afe-4743-a1c9-a8f8e0435d1c')\"\n",
              "              title=\"Suggest charts.\"\n",
              "              style=\"display:none;\">\n",
              "\n",
              "<svg xmlns=\"http://www.w3.org/2000/svg\" height=\"24px\"viewBox=\"0 0 24 24\"\n",
              "     width=\"24px\">\n",
              "    <g>\n",
              "        <path d=\"M19 3H5c-1.1 0-2 .9-2 2v14c0 1.1.9 2 2 2h14c1.1 0 2-.9 2-2V5c0-1.1-.9-2-2-2zM9 17H7v-7h2v7zm4 0h-2V7h2v10zm4 0h-2v-4h2v4z\"/>\n",
              "    </g>\n",
              "</svg>\n",
              "      </button>\n",
              "    </div>\n",
              "\n",
              "<style>\n",
              "  .colab-df-quickchart {\n",
              "    background-color: #E8F0FE;\n",
              "    border: none;\n",
              "    border-radius: 50%;\n",
              "    cursor: pointer;\n",
              "    display: none;\n",
              "    fill: #1967D2;\n",
              "    height: 32px;\n",
              "    padding: 0 0 0 0;\n",
              "    width: 32px;\n",
              "  }\n",
              "\n",
              "  .colab-df-quickchart:hover {\n",
              "    background-color: #E2EBFA;\n",
              "    box-shadow: 0px 1px 2px rgba(60, 64, 67, 0.3), 0px 1px 3px 1px rgba(60, 64, 67, 0.15);\n",
              "    fill: #174EA6;\n",
              "  }\n",
              "\n",
              "  [theme=dark] .colab-df-quickchart {\n",
              "    background-color: #3B4455;\n",
              "    fill: #D2E3FC;\n",
              "  }\n",
              "\n",
              "  [theme=dark] .colab-df-quickchart:hover {\n",
              "    background-color: #434B5C;\n",
              "    box-shadow: 0px 1px 3px 1px rgba(0, 0, 0, 0.15);\n",
              "    filter: drop-shadow(0px 1px 2px rgba(0, 0, 0, 0.3));\n",
              "    fill: #FFFFFF;\n",
              "  }\n",
              "</style>\n",
              "\n",
              "    <script>\n",
              "      async function quickchart(key) {\n",
              "        const containerElement = document.querySelector('#' + key);\n",
              "        const charts = await google.colab.kernel.invokeFunction(\n",
              "            'suggestCharts', [key], {});\n",
              "      }\n",
              "    </script>\n",
              "\n",
              "      <script>\n",
              "\n",
              "function displayQuickchartButton(domScope) {\n",
              "  let quickchartButtonEl =\n",
              "    domScope.querySelector('#df-ae47bcc6-2afe-4743-a1c9-a8f8e0435d1c button.colab-df-quickchart');\n",
              "  quickchartButtonEl.style.display =\n",
              "    google.colab.kernel.accessAllowed ? 'block' : 'none';\n",
              "}\n",
              "\n",
              "        displayQuickchartButton(document);\n",
              "      </script>\n",
              "      <style>\n",
              "    .colab-df-container {\n",
              "      display:flex;\n",
              "      flex-wrap:wrap;\n",
              "      gap: 12px;\n",
              "    }\n",
              "\n",
              "    .colab-df-convert {\n",
              "      background-color: #E8F0FE;\n",
              "      border: none;\n",
              "      border-radius: 50%;\n",
              "      cursor: pointer;\n",
              "      display: none;\n",
              "      fill: #1967D2;\n",
              "      height: 32px;\n",
              "      padding: 0 0 0 0;\n",
              "      width: 32px;\n",
              "    }\n",
              "\n",
              "    .colab-df-convert:hover {\n",
              "      background-color: #E2EBFA;\n",
              "      box-shadow: 0px 1px 2px rgba(60, 64, 67, 0.3), 0px 1px 3px 1px rgba(60, 64, 67, 0.15);\n",
              "      fill: #174EA6;\n",
              "    }\n",
              "\n",
              "    [theme=dark] .colab-df-convert {\n",
              "      background-color: #3B4455;\n",
              "      fill: #D2E3FC;\n",
              "    }\n",
              "\n",
              "    [theme=dark] .colab-df-convert:hover {\n",
              "      background-color: #434B5C;\n",
              "      box-shadow: 0px 1px 3px 1px rgba(0, 0, 0, 0.15);\n",
              "      filter: drop-shadow(0px 1px 2px rgba(0, 0, 0, 0.3));\n",
              "      fill: #FFFFFF;\n",
              "    }\n",
              "  </style>\n",
              "\n",
              "      <script>\n",
              "        const buttonEl =\n",
              "          document.querySelector('#df-7535c3a7-6034-423e-b47e-d729d538c349 button.colab-df-convert');\n",
              "        buttonEl.style.display =\n",
              "          google.colab.kernel.accessAllowed ? 'block' : 'none';\n",
              "\n",
              "        async function convertToInteractive(key) {\n",
              "          const element = document.querySelector('#df-7535c3a7-6034-423e-b47e-d729d538c349');\n",
              "          const dataTable =\n",
              "            await google.colab.kernel.invokeFunction('convertToInteractive',\n",
              "                                                     [key], {});\n",
              "          if (!dataTable) return;\n",
              "\n",
              "          const docLinkHtml = 'Like what you see? Visit the ' +\n",
              "            '<a target=\"_blank\" href=https://colab.research.google.com/notebooks/data_table.ipynb>data table notebook</a>'\n",
              "            + ' to learn more about interactive tables.';\n",
              "          element.innerHTML = '';\n",
              "          dataTable['output_type'] = 'display_data';\n",
              "          await google.colab.output.renderOutput(dataTable, element);\n",
              "          const docLink = document.createElement('div');\n",
              "          docLink.innerHTML = docLinkHtml;\n",
              "          element.appendChild(docLink);\n",
              "        }\n",
              "      </script>\n",
              "    </div>\n",
              "  </div>\n"
            ]
          },
          "metadata": {},
          "execution_count": 12
        }
      ]
    },
    {
      "cell_type": "markdown",
      "source": [
        "## Encoding train_y"
      ],
      "metadata": {
        "id": "djOqBvflbfYl"
      }
    },
    {
      "cell_type": "code",
      "source": [
        "%%ag\n",
        "from typing import Any\n",
        "# encoding categoricals\n",
        "def func_(x:str)-> int:\n",
        "  if x == 'Iris-setosa':\n",
        "    return 0\n",
        "  elif x == 'Iris-versicolor':\n",
        "    return 1\n",
        "  else: # Iris-virginica\n",
        "    return 2\n",
        "\n",
        "train_y_encoded = train_y.applymap(func_ , output_bounds={'species':(0,2)})     # applymap with output_bounds doesnt require epsilon"
      ],
      "metadata": {
        "id": "fXO0hWzybegN"
      },
      "execution_count": 13,
      "outputs": []
    },
    {
      "cell_type": "markdown",
      "source": [
        "## Logistic Regression\n"
      ],
      "metadata": {
        "id": "LmAkCMvvbq3I"
      }
    },
    {
      "cell_type": "code",
      "source": [
        "%%ag\n",
        "from op_diffprivlib.models import LogisticRegression      # using logistic regression to predict"
      ],
      "metadata": {
        "id": "MPSEInYMboHT"
      },
      "execution_count": 14,
      "outputs": []
    },
    {
      "cell_type": "code",
      "source": [
        "%%ag\n",
        "# Finding the l2 norm, which is necessary for Logistic Regression\n",
        "train_x_2 = train_x ** 2\n",
        "l_2_norm = train_x_2.sum(axis = 1) ** 0.5\n",
        "l_2_norm = l_2_norm.quantile(1, eps=1)    # dp_max(sum(x**2, 1)**0.5)"
      ],
      "metadata": {
        "id": "R3kldwiTbuqj"
      },
      "execution_count": 15,
      "outputs": []
    },
    {
      "cell_type": "code",
      "source": [
        "%%ag\n",
        "# Fitting the model\n",
        "logr = LogisticRegression(epsilon = 10, data_norm = l_2_norm)\n",
        "logr.fit(train_x, train_y_encoded)\n",
        "test_y = logr.predict(test_x)"
      ],
      "metadata": {
        "colab": {
          "base_uri": "https://localhost:8080/"
        },
        "id": "9ukEECapbv6s",
        "outputId": "7941263b-5a5c-456b-c4f6-10db55a9b86b"
      },
      "execution_count": 16,
      "outputs": [
        {
          "output_type": "stream",
          "name": "stderr",
          "text": [
            "/usr/local/lib/python3.10/site-packages/sklearn/utils/validation.py:1184: DataConversionWarning: A column-vector y was passed when a 1d array was expected. Please change the shape of y to (n_samples, ), for example using ravel().\n",
            "  y = column_or_1d(y, warn=True)\n",
            "\n"
          ]
        }
      ]
    },
    {
      "cell_type": "code",
      "source": [
        "%%ag\n",
        "# export the prediction\n",
        "export(test_y, \"test_y\")"
      ],
      "metadata": {
        "colab": {
          "base_uri": "https://localhost:8080/"
        },
        "id": "lAkwG6DSbxPT",
        "outputId": "2825a170-c6fe-4f17-cf4c-b0bd7ce3ba5f"
      },
      "execution_count": 17,
      "outputs": [
        {
          "output_type": "stream",
          "name": "stdout",
          "text": [
            "Setting up exported variable in local environment: test_y\n"
          ]
        }
      ]
    },
    {
      "cell_type": "code",
      "source": [
        "test_y"
      ],
      "metadata": {
        "colab": {
          "base_uri": "https://localhost:8080/"
        },
        "id": "4BI-0hI9byaJ",
        "outputId": "a0b63e06-1a39-44a5-8daf-6d37ec4c92eb"
      },
      "execution_count": 18,
      "outputs": [
        {
          "output_type": "execute_result",
          "data": {
            "text/plain": [
              "array([1, 2, 0, 0, 1, 2, 0, 2, 1, 1, 2, 1, 2, 1, 2, 0, 0, 1, 1, 0, 1, 0,\n",
              "       2, 0, 2, 2, 1, 0, 1, 1])"
            ]
          },
          "metadata": {},
          "execution_count": 18
        }
      ]
    },
    {
      "cell_type": "code",
      "source": [
        "# Mapping them back to strings\n",
        "def func_(x: int)-> str:\n",
        "  if x == 0:\n",
        "    return 'Iris-setosa'\n",
        "  elif x == 1:\n",
        "    return 'Iris-versicolor'\n",
        "  else:\n",
        "    return 'Iris-virginica'\n",
        "\n",
        "test_y = [func_(x) for x in test_y]"
      ],
      "metadata": {
        "id": "FBnIDgzvb0LN"
      },
      "execution_count": 19,
      "outputs": []
    },
    {
      "cell_type": "code",
      "source": [
        "test_y"
      ],
      "metadata": {
        "colab": {
          "base_uri": "https://localhost:8080/"
        },
        "id": "2xDJ0cC1b1k6",
        "outputId": "a8350b6c-ab0a-4dfe-d276-2b5fa8107bf3"
      },
      "execution_count": 20,
      "outputs": [
        {
          "output_type": "execute_result",
          "data": {
            "text/plain": [
              "['Iris-versicolor',\n",
              " 'Iris-virginica',\n",
              " 'Iris-setosa',\n",
              " 'Iris-setosa',\n",
              " 'Iris-versicolor',\n",
              " 'Iris-virginica',\n",
              " 'Iris-setosa',\n",
              " 'Iris-virginica',\n",
              " 'Iris-versicolor',\n",
              " 'Iris-versicolor',\n",
              " 'Iris-virginica',\n",
              " 'Iris-versicolor',\n",
              " 'Iris-virginica',\n",
              " 'Iris-versicolor',\n",
              " 'Iris-virginica',\n",
              " 'Iris-setosa',\n",
              " 'Iris-setosa',\n",
              " 'Iris-versicolor',\n",
              " 'Iris-versicolor',\n",
              " 'Iris-setosa',\n",
              " 'Iris-versicolor',\n",
              " 'Iris-setosa',\n",
              " 'Iris-virginica',\n",
              " 'Iris-setosa',\n",
              " 'Iris-virginica',\n",
              " 'Iris-virginica',\n",
              " 'Iris-versicolor',\n",
              " 'Iris-setosa',\n",
              " 'Iris-versicolor',\n",
              " 'Iris-versicolor']"
            ]
          },
          "metadata": {},
          "execution_count": 20
        }
      ]
    },
    {
      "cell_type": "code",
      "source": [
        "import pandas as pd\n",
        "# checking the metrics\n",
        "y_df = pd.DataFrame(test_y)\n",
        "result = session.submit_predictions(y_df)\n",
        "print(result)"
      ],
      "metadata": {
        "colab": {
          "base_uri": "https://localhost:8080/"
        },
        "id": "8efJBRFwcD-T",
        "outputId": "ec21c067-7a18-4e63-c89e-8228a73ee681"
      },
      "execution_count": 21,
      "outputs": [
        {
          "output_type": "stream",
          "name": "stdout",
          "text": [
            "{'score': {'leaderboard': 0.12269722617369933, 'logs': {'BIN_ACC': 0.12269722617369933}}}\n"
          ]
        }
      ]
    },
    {
      "cell_type": "code",
      "source": [
        "session.privacy_odometer()"
      ],
      "metadata": {
        "colab": {
          "base_uri": "https://localhost:8080/"
        },
        "id": "UenfsHQj3U21",
        "outputId": "5828de04-97ea-4446-94fd-a2a1a0cd6f82"
      },
      "execution_count": 22,
      "outputs": [
        {
          "output_type": "execute_result",
          "data": {
            "text/plain": [
              "{'total_epsilon_used': 14.0, 'total_delta_used': 0.0}"
            ]
          },
          "metadata": {},
          "execution_count": 22
        }
      ]
    },
    {
      "cell_type": "code",
      "source": [],
      "metadata": {
        "id": "3VWqxlRp3XYJ"
      },
      "execution_count": 22,
      "outputs": []
    }
  ]
}