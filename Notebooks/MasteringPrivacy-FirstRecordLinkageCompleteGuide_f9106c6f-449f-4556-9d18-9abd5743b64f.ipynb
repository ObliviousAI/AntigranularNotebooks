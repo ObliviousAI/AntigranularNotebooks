{
  "cells": [
    {
      "cell_type": "markdown",
      "metadata": {
        "id": "vPBm7LkOa-Tn"
      },
      "source": [
        "# **Discovering the Magic of Data Fusion: Privacy-First Record Linkage and More!** 🔗\n",
        "\n",
        "Often, critical insights lie at the intersection of multiple datasets, possibly managed by different stewards or even external entities. Yet, often, we're faced with the daunting challenge of doing so while maintaining data privacy. So, when a direct peek into data is a no-go, how do we bridge the gaps?\n",
        "\n",
        "This is where **Record Linkage** comes in. It allows you to connect multiple datasets without compromising privacy. This notebool unravels the importance of Record Linkage, especially when working with private datasets. 🤝🏼\n",
        "\n",
        "1. **Indexing Methods Demystified:** 🔍 Dive deep into an array of indexing techniques. Discover not just the 'how' but also the 'when' of applying these methods, ensuring optimal data linkage.\n",
        "\n",
        "2. **The Art of Comparison:** 🎨 Delve into different compare rules and grasp the nitty-gritty of how various comparison algorithms perform in real-life scenarios.\n",
        "\n",
        "3. **Crafting Perfectly Linked Datasets:** 📊 Master the craft by deep diving on various indexing methods, compare rules and how to use them in real-world scenarios to create that perfectly linked dataset.\n",
        "\n",
        "If you are eager to navigate through real-world challenges using the recordlinkage library and gain practical knowledge through hands-on examples, explore this notebook. 🤓"
      ]
    },
    {
      "cell_type": "markdown",
      "metadata": {
        "id": "4cAXA6O7VWdK"
      },
      "source": [
        "## **Getting Started: Install, Import & Connect to Antigranular**"
      ]
    },
    {
      "cell_type": "code",
      "execution_count": null,
      "metadata": {
        "colab": {
          "base_uri": "https://localhost:8080/"
        },
        "id": "01C3Idjrdo4I",
        "outputId": "201776a2-f9a8-4d45-95f8-7183d4573ec0"
      },
      "outputs": [],
      "source": [
        "\n",
        "# Install antigranular client to your local machine.\n",
        "!pip3 install antigranular\n",
        "!pip3 install recordlinkage"
      ]
    },
    {
      "cell_type": "code",
      "execution_count": 5,
      "metadata": {
        "ExecuteTime": {
          "end_time": "2023-10-19T00:18:30.269385Z",
          "start_time": "2023-10-19T00:18:01.259334Z"
        },
        "colab": {
          "base_uri": "https://localhost:8080/"
        },
        "id": "vnw9fLLUbJ70",
        "outputId": "82ce358b-f2be-4b80-c05a-0b735ada01c0"
      },
      "outputs": [
        {
          "name": "stdout",
          "output_type": "stream",
          "text": [
            "\n",
            "Dataset \"Flight Company Dataset for Sandbox\" loaded to the kernel as \u001b[92mflight_company_dataset_for_sandbox\u001b[0m\n",
            "\n",
            "Dataset \"Health Organisation Dataset for Sandbox\" loaded to the kernel as \u001b[92mhealth_organisation_dataset_for_sandbox\u001b[0m\n",
            "\n",
            "Connected to Antigranular server session id: f9106c6f-449f-4556-9d18-9abd5743b64f, the session will time out if idle for 25 minutes\n",
            "Cell magic '%%ag' registered successfully, use `%%ag` in a notebook cell to execute your python code on Antigranular private python server\n",
            "🚀 Everything's set up and ready to roll!\n"
          ]
        }
      ],
      "source": [
        "import antigranular as ag\n",
        "session = ag.login(<client_id>,<client_secret>, competition = \"Sandbox for Harvard OpenDP Hackathon\")"
      ]
    },
    {
      "cell_type": "markdown",
      "metadata": {
        "id": "JS2KLBJHVq0a"
      },
      "source": [
        "# **Initialisation**\n",
        "\n",
        "Setting up some utility functions and a local recordlinkage database which we will be importing into Antigranular environment."
      ]
    },
    {
      "cell_type": "code",
      "execution_count": 6,
      "metadata": {
        "ExecuteTime": {
          "end_time": "2023-10-19T00:52:11.029664Z",
          "start_time": "2023-10-19T00:52:10.973629Z"
        },
        "id": "dKF1VS8vdo4L"
      },
      "outputs": [],
      "source": [
        "import recordlinkage as rl\n",
        "from recordlinkage.datasets import load_febrl4\n",
        "import pandas as pd\n",
        "import networkx as nx\n",
        "import seaborn as sns\n",
        "import matplotlib.pyplot as plt\n",
        "\n",
        "\n",
        "dfA = {\n",
        "  'ID':[i for i in range(5)],\n",
        "  'names':['john','james','arthur','raj','kenny'],\n",
        "  'country':['england','usa','england','india','usa'],\n",
        "\n",
        "}\n",
        "\n",
        "dfB = {\n",
        "  'ID':[i for i in range(6,11)],\n",
        "  'names':['jon','arthur','mathew','raj','keny'],\n",
        "  'country':['england','ireland','england','india','usa']\n",
        "}\n",
        "\n",
        "\n",
        "\n",
        "dfA = pd.DataFrame(dfA).set_index('ID')\n",
        "dfB = pd.DataFrame(dfB).set_index('ID')\n",
        "large_dfA , large_dfB = load_febrl4()\n",
        "\n",
        "\n",
        "def plot_graph(edges):\n",
        "  G = nx.Graph()\n",
        "  G.add_edges_from(edges)\n",
        "  blue_nodes = list(set([x for x, y in edges]))\n",
        "  red_nodes = list(set([y for x, y in edges]))\n",
        "  pos = {}\n",
        "  for i, node in enumerate(blue_nodes):\n",
        "    pos[node] = (-1, i)\n",
        "  for i, node in enumerate(red_nodes):\n",
        "    pos[node] = (1, i)\n",
        "\n",
        "  nx.draw_networkx_nodes(G, pos, nodelist=blue_nodes, node_color='blue', label='dfA')\n",
        "  nx.draw_networkx_nodes(G, pos, nodelist=red_nodes, node_color='red', label='dfB')\n",
        "  nx.draw_networkx_edges(G, pos)\n",
        "  nx.draw_networkx_labels(G, pos)\n",
        "  plt.legend()\n",
        "\n",
        "  plt.show()\n",
        "\n"
      ]
    },
    {
      "cell_type": "code",
      "execution_count": 7,
      "metadata": {
        "ExecuteTime": {
          "end_time": "2023-10-19T00:52:11.628649Z",
          "start_time": "2023-10-19T00:52:11.614729Z"
        },
        "colab": {
          "base_uri": "https://localhost:8080/",
          "height": 237
        },
        "id": "8qTCDTN9do4M",
        "outputId": "89735d2c-8a57-48b0-98a2-4e2dd1756b94"
      },
      "outputs": [
        {
          "data": {
            "text/html": [
              "\n",
              "  <div id=\"df-fb4e0a7a-3462-4914-a951-05d20983a394\" class=\"colab-df-container\">\n",
              "    <div>\n",
              "<style scoped>\n",
              "    .dataframe tbody tr th:only-of-type {\n",
              "        vertical-align: middle;\n",
              "    }\n",
              "\n",
              "    .dataframe tbody tr th {\n",
              "        vertical-align: top;\n",
              "    }\n",
              "\n",
              "    .dataframe thead th {\n",
              "        text-align: right;\n",
              "    }\n",
              "</style>\n",
              "<table border=\"1\" class=\"dataframe\">\n",
              "  <thead>\n",
              "    <tr style=\"text-align: right;\">\n",
              "      <th></th>\n",
              "      <th>names</th>\n",
              "      <th>country</th>\n",
              "    </tr>\n",
              "    <tr>\n",
              "      <th>ID</th>\n",
              "      <th></th>\n",
              "      <th></th>\n",
              "    </tr>\n",
              "  </thead>\n",
              "  <tbody>\n",
              "    <tr>\n",
              "      <th>0</th>\n",
              "      <td>john</td>\n",
              "      <td>england</td>\n",
              "    </tr>\n",
              "    <tr>\n",
              "      <th>1</th>\n",
              "      <td>james</td>\n",
              "      <td>usa</td>\n",
              "    </tr>\n",
              "    <tr>\n",
              "      <th>2</th>\n",
              "      <td>arthur</td>\n",
              "      <td>england</td>\n",
              "    </tr>\n",
              "    <tr>\n",
              "      <th>3</th>\n",
              "      <td>raj</td>\n",
              "      <td>india</td>\n",
              "    </tr>\n",
              "    <tr>\n",
              "      <th>4</th>\n",
              "      <td>kenny</td>\n",
              "      <td>usa</td>\n",
              "    </tr>\n",
              "  </tbody>\n",
              "</table>\n",
              "</div>\n",
              "    <div class=\"colab-df-buttons\">\n",
              "\n",
              "  <div class=\"colab-df-container\">\n",
              "    <button class=\"colab-df-convert\" onclick=\"convertToInteractive('df-fb4e0a7a-3462-4914-a951-05d20983a394')\"\n",
              "            title=\"Convert this dataframe to an interactive table.\"\n",
              "            style=\"display:none;\">\n",
              "\n",
              "  <svg xmlns=\"http://www.w3.org/2000/svg\" height=\"24px\" viewBox=\"0 -960 960 960\">\n",
              "    <path d=\"M120-120v-720h720v720H120Zm60-500h600v-160H180v160Zm220 220h160v-160H400v160Zm0 220h160v-160H400v160ZM180-400h160v-160H180v160Zm440 0h160v-160H620v160ZM180-180h160v-160H180v160Zm440 0h160v-160H620v160Z\"/>\n",
              "  </svg>\n",
              "    </button>\n",
              "\n",
              "  <style>\n",
              "    .colab-df-container {\n",
              "      display:flex;\n",
              "      gap: 12px;\n",
              "    }\n",
              "\n",
              "    .colab-df-convert {\n",
              "      background-color: #E8F0FE;\n",
              "      border: none;\n",
              "      border-radius: 50%;\n",
              "      cursor: pointer;\n",
              "      display: none;\n",
              "      fill: #1967D2;\n",
              "      height: 32px;\n",
              "      padding: 0 0 0 0;\n",
              "      width: 32px;\n",
              "    }\n",
              "\n",
              "    .colab-df-convert:hover {\n",
              "      background-color: #E2EBFA;\n",
              "      box-shadow: 0px 1px 2px rgba(60, 64, 67, 0.3), 0px 1px 3px 1px rgba(60, 64, 67, 0.15);\n",
              "      fill: #174EA6;\n",
              "    }\n",
              "\n",
              "    .colab-df-buttons div {\n",
              "      margin-bottom: 4px;\n",
              "    }\n",
              "\n",
              "    [theme=dark] .colab-df-convert {\n",
              "      background-color: #3B4455;\n",
              "      fill: #D2E3FC;\n",
              "    }\n",
              "\n",
              "    [theme=dark] .colab-df-convert:hover {\n",
              "      background-color: #434B5C;\n",
              "      box-shadow: 0px 1px 3px 1px rgba(0, 0, 0, 0.15);\n",
              "      filter: drop-shadow(0px 1px 2px rgba(0, 0, 0, 0.3));\n",
              "      fill: #FFFFFF;\n",
              "    }\n",
              "  </style>\n",
              "\n",
              "    <script>\n",
              "      const buttonEl =\n",
              "        document.querySelector('#df-fb4e0a7a-3462-4914-a951-05d20983a394 button.colab-df-convert');\n",
              "      buttonEl.style.display =\n",
              "        google.colab.kernel.accessAllowed ? 'block' : 'none';\n",
              "\n",
              "      async function convertToInteractive(key) {\n",
              "        const element = document.querySelector('#df-fb4e0a7a-3462-4914-a951-05d20983a394');\n",
              "        const dataTable =\n",
              "          await google.colab.kernel.invokeFunction('convertToInteractive',\n",
              "                                                    [key], {});\n",
              "        if (!dataTable) return;\n",
              "\n",
              "        const docLinkHtml = 'Like what you see? Visit the ' +\n",
              "          '<a target=\"_blank\" href=https://colab.research.google.com/notebooks/data_table.ipynb>data table notebook</a>'\n",
              "          + ' to learn more about interactive tables.';\n",
              "        element.innerHTML = '';\n",
              "        dataTable['output_type'] = 'display_data';\n",
              "        await google.colab.output.renderOutput(dataTable, element);\n",
              "        const docLink = document.createElement('div');\n",
              "        docLink.innerHTML = docLinkHtml;\n",
              "        element.appendChild(docLink);\n",
              "      }\n",
              "    </script>\n",
              "  </div>\n",
              "\n",
              "\n",
              "<div id=\"df-3afc2754-fe76-4670-b75c-5705349493cd\">\n",
              "  <button class=\"colab-df-quickchart\" onclick=\"quickchart('df-3afc2754-fe76-4670-b75c-5705349493cd')\"\n",
              "            title=\"Suggest charts\"\n",
              "            style=\"display:none;\">\n",
              "\n",
              "<svg xmlns=\"http://www.w3.org/2000/svg\" height=\"24px\"viewBox=\"0 0 24 24\"\n",
              "     width=\"24px\">\n",
              "    <g>\n",
              "        <path d=\"M19 3H5c-1.1 0-2 .9-2 2v14c0 1.1.9 2 2 2h14c1.1 0 2-.9 2-2V5c0-1.1-.9-2-2-2zM9 17H7v-7h2v7zm4 0h-2V7h2v10zm4 0h-2v-4h2v4z\"/>\n",
              "    </g>\n",
              "</svg>\n",
              "  </button>\n",
              "\n",
              "<style>\n",
              "  .colab-df-quickchart {\n",
              "      --bg-color: #E8F0FE;\n",
              "      --fill-color: #1967D2;\n",
              "      --hover-bg-color: #E2EBFA;\n",
              "      --hover-fill-color: #174EA6;\n",
              "      --disabled-fill-color: #AAA;\n",
              "      --disabled-bg-color: #DDD;\n",
              "  }\n",
              "\n",
              "  [theme=dark] .colab-df-quickchart {\n",
              "      --bg-color: #3B4455;\n",
              "      --fill-color: #D2E3FC;\n",
              "      --hover-bg-color: #434B5C;\n",
              "      --hover-fill-color: #FFFFFF;\n",
              "      --disabled-bg-color: #3B4455;\n",
              "      --disabled-fill-color: #666;\n",
              "  }\n",
              "\n",
              "  .colab-df-quickchart {\n",
              "    background-color: var(--bg-color);\n",
              "    border: none;\n",
              "    border-radius: 50%;\n",
              "    cursor: pointer;\n",
              "    display: none;\n",
              "    fill: var(--fill-color);\n",
              "    height: 32px;\n",
              "    padding: 0;\n",
              "    width: 32px;\n",
              "  }\n",
              "\n",
              "  .colab-df-quickchart:hover {\n",
              "    background-color: var(--hover-bg-color);\n",
              "    box-shadow: 0 1px 2px rgba(60, 64, 67, 0.3), 0 1px 3px 1px rgba(60, 64, 67, 0.15);\n",
              "    fill: var(--button-hover-fill-color);\n",
              "  }\n",
              "\n",
              "  .colab-df-quickchart-complete:disabled,\n",
              "  .colab-df-quickchart-complete:disabled:hover {\n",
              "    background-color: var(--disabled-bg-color);\n",
              "    fill: var(--disabled-fill-color);\n",
              "    box-shadow: none;\n",
              "  }\n",
              "\n",
              "  .colab-df-spinner {\n",
              "    border: 2px solid var(--fill-color);\n",
              "    border-color: transparent;\n",
              "    border-bottom-color: var(--fill-color);\n",
              "    animation:\n",
              "      spin 1s steps(1) infinite;\n",
              "  }\n",
              "\n",
              "  @keyframes spin {\n",
              "    0% {\n",
              "      border-color: transparent;\n",
              "      border-bottom-color: var(--fill-color);\n",
              "      border-left-color: var(--fill-color);\n",
              "    }\n",
              "    20% {\n",
              "      border-color: transparent;\n",
              "      border-left-color: var(--fill-color);\n",
              "      border-top-color: var(--fill-color);\n",
              "    }\n",
              "    30% {\n",
              "      border-color: transparent;\n",
              "      border-left-color: var(--fill-color);\n",
              "      border-top-color: var(--fill-color);\n",
              "      border-right-color: var(--fill-color);\n",
              "    }\n",
              "    40% {\n",
              "      border-color: transparent;\n",
              "      border-right-color: var(--fill-color);\n",
              "      border-top-color: var(--fill-color);\n",
              "    }\n",
              "    60% {\n",
              "      border-color: transparent;\n",
              "      border-right-color: var(--fill-color);\n",
              "    }\n",
              "    80% {\n",
              "      border-color: transparent;\n",
              "      border-right-color: var(--fill-color);\n",
              "      border-bottom-color: var(--fill-color);\n",
              "    }\n",
              "    90% {\n",
              "      border-color: transparent;\n",
              "      border-bottom-color: var(--fill-color);\n",
              "    }\n",
              "  }\n",
              "</style>\n",
              "\n",
              "  <script>\n",
              "    async function quickchart(key) {\n",
              "      const quickchartButtonEl =\n",
              "        document.querySelector('#' + key + ' button');\n",
              "      quickchartButtonEl.disabled = true;  // To prevent multiple clicks.\n",
              "      quickchartButtonEl.classList.add('colab-df-spinner');\n",
              "      try {\n",
              "        const charts = await google.colab.kernel.invokeFunction(\n",
              "            'suggestCharts', [key], {});\n",
              "      } catch (error) {\n",
              "        console.error('Error during call to suggestCharts:', error);\n",
              "      }\n",
              "      quickchartButtonEl.classList.remove('colab-df-spinner');\n",
              "      quickchartButtonEl.classList.add('colab-df-quickchart-complete');\n",
              "    }\n",
              "    (() => {\n",
              "      let quickchartButtonEl =\n",
              "        document.querySelector('#df-3afc2754-fe76-4670-b75c-5705349493cd button');\n",
              "      quickchartButtonEl.style.display =\n",
              "        google.colab.kernel.accessAllowed ? 'block' : 'none';\n",
              "    })();\n",
              "  </script>\n",
              "</div>\n",
              "    </div>\n",
              "  </div>\n"
            ],
            "text/plain": [
              "     names  country\n",
              "ID                 \n",
              "0     john  england\n",
              "1    james      usa\n",
              "2   arthur  england\n",
              "3      raj    india\n",
              "4    kenny      usa"
            ]
          },
          "execution_count": 7,
          "metadata": {},
          "output_type": "execute_result"
        }
      ],
      "source": [
        "dfA.head()"
      ]
    },
    {
      "cell_type": "code",
      "execution_count": 8,
      "metadata": {
        "ExecuteTime": {
          "end_time": "2023-10-19T00:52:11.777563Z",
          "start_time": "2023-10-19T00:52:11.771094Z"
        },
        "colab": {
          "base_uri": "https://localhost:8080/",
          "height": 237
        },
        "id": "K2ghVKFldo4M",
        "outputId": "f539b52e-413a-4229-ad20-87d4bc83b46e"
      },
      "outputs": [
        {
          "data": {
            "text/html": [
              "\n",
              "  <div id=\"df-ade15d5a-c53d-4f1e-9c97-eeb4201ee3d4\" class=\"colab-df-container\">\n",
              "    <div>\n",
              "<style scoped>\n",
              "    .dataframe tbody tr th:only-of-type {\n",
              "        vertical-align: middle;\n",
              "    }\n",
              "\n",
              "    .dataframe tbody tr th {\n",
              "        vertical-align: top;\n",
              "    }\n",
              "\n",
              "    .dataframe thead th {\n",
              "        text-align: right;\n",
              "    }\n",
              "</style>\n",
              "<table border=\"1\" class=\"dataframe\">\n",
              "  <thead>\n",
              "    <tr style=\"text-align: right;\">\n",
              "      <th></th>\n",
              "      <th>names</th>\n",
              "      <th>country</th>\n",
              "    </tr>\n",
              "    <tr>\n",
              "      <th>ID</th>\n",
              "      <th></th>\n",
              "      <th></th>\n",
              "    </tr>\n",
              "  </thead>\n",
              "  <tbody>\n",
              "    <tr>\n",
              "      <th>6</th>\n",
              "      <td>jon</td>\n",
              "      <td>england</td>\n",
              "    </tr>\n",
              "    <tr>\n",
              "      <th>7</th>\n",
              "      <td>arthur</td>\n",
              "      <td>ireland</td>\n",
              "    </tr>\n",
              "    <tr>\n",
              "      <th>8</th>\n",
              "      <td>mathew</td>\n",
              "      <td>england</td>\n",
              "    </tr>\n",
              "    <tr>\n",
              "      <th>9</th>\n",
              "      <td>raj</td>\n",
              "      <td>india</td>\n",
              "    </tr>\n",
              "    <tr>\n",
              "      <th>10</th>\n",
              "      <td>keny</td>\n",
              "      <td>usa</td>\n",
              "    </tr>\n",
              "  </tbody>\n",
              "</table>\n",
              "</div>\n",
              "    <div class=\"colab-df-buttons\">\n",
              "\n",
              "  <div class=\"colab-df-container\">\n",
              "    <button class=\"colab-df-convert\" onclick=\"convertToInteractive('df-ade15d5a-c53d-4f1e-9c97-eeb4201ee3d4')\"\n",
              "            title=\"Convert this dataframe to an interactive table.\"\n",
              "            style=\"display:none;\">\n",
              "\n",
              "  <svg xmlns=\"http://www.w3.org/2000/svg\" height=\"24px\" viewBox=\"0 -960 960 960\">\n",
              "    <path d=\"M120-120v-720h720v720H120Zm60-500h600v-160H180v160Zm220 220h160v-160H400v160Zm0 220h160v-160H400v160ZM180-400h160v-160H180v160Zm440 0h160v-160H620v160ZM180-180h160v-160H180v160Zm440 0h160v-160H620v160Z\"/>\n",
              "  </svg>\n",
              "    </button>\n",
              "\n",
              "  <style>\n",
              "    .colab-df-container {\n",
              "      display:flex;\n",
              "      gap: 12px;\n",
              "    }\n",
              "\n",
              "    .colab-df-convert {\n",
              "      background-color: #E8F0FE;\n",
              "      border: none;\n",
              "      border-radius: 50%;\n",
              "      cursor: pointer;\n",
              "      display: none;\n",
              "      fill: #1967D2;\n",
              "      height: 32px;\n",
              "      padding: 0 0 0 0;\n",
              "      width: 32px;\n",
              "    }\n",
              "\n",
              "    .colab-df-convert:hover {\n",
              "      background-color: #E2EBFA;\n",
              "      box-shadow: 0px 1px 2px rgba(60, 64, 67, 0.3), 0px 1px 3px 1px rgba(60, 64, 67, 0.15);\n",
              "      fill: #174EA6;\n",
              "    }\n",
              "\n",
              "    .colab-df-buttons div {\n",
              "      margin-bottom: 4px;\n",
              "    }\n",
              "\n",
              "    [theme=dark] .colab-df-convert {\n",
              "      background-color: #3B4455;\n",
              "      fill: #D2E3FC;\n",
              "    }\n",
              "\n",
              "    [theme=dark] .colab-df-convert:hover {\n",
              "      background-color: #434B5C;\n",
              "      box-shadow: 0px 1px 3px 1px rgba(0, 0, 0, 0.15);\n",
              "      filter: drop-shadow(0px 1px 2px rgba(0, 0, 0, 0.3));\n",
              "      fill: #FFFFFF;\n",
              "    }\n",
              "  </style>\n",
              "\n",
              "    <script>\n",
              "      const buttonEl =\n",
              "        document.querySelector('#df-ade15d5a-c53d-4f1e-9c97-eeb4201ee3d4 button.colab-df-convert');\n",
              "      buttonEl.style.display =\n",
              "        google.colab.kernel.accessAllowed ? 'block' : 'none';\n",
              "\n",
              "      async function convertToInteractive(key) {\n",
              "        const element = document.querySelector('#df-ade15d5a-c53d-4f1e-9c97-eeb4201ee3d4');\n",
              "        const dataTable =\n",
              "          await google.colab.kernel.invokeFunction('convertToInteractive',\n",
              "                                                    [key], {});\n",
              "        if (!dataTable) return;\n",
              "\n",
              "        const docLinkHtml = 'Like what you see? Visit the ' +\n",
              "          '<a target=\"_blank\" href=https://colab.research.google.com/notebooks/data_table.ipynb>data table notebook</a>'\n",
              "          + ' to learn more about interactive tables.';\n",
              "        element.innerHTML = '';\n",
              "        dataTable['output_type'] = 'display_data';\n",
              "        await google.colab.output.renderOutput(dataTable, element);\n",
              "        const docLink = document.createElement('div');\n",
              "        docLink.innerHTML = docLinkHtml;\n",
              "        element.appendChild(docLink);\n",
              "      }\n",
              "    </script>\n",
              "  </div>\n",
              "\n",
              "\n",
              "<div id=\"df-0f6bd4e8-3006-4b85-8941-afb355d1bb1f\">\n",
              "  <button class=\"colab-df-quickchart\" onclick=\"quickchart('df-0f6bd4e8-3006-4b85-8941-afb355d1bb1f')\"\n",
              "            title=\"Suggest charts\"\n",
              "            style=\"display:none;\">\n",
              "\n",
              "<svg xmlns=\"http://www.w3.org/2000/svg\" height=\"24px\"viewBox=\"0 0 24 24\"\n",
              "     width=\"24px\">\n",
              "    <g>\n",
              "        <path d=\"M19 3H5c-1.1 0-2 .9-2 2v14c0 1.1.9 2 2 2h14c1.1 0 2-.9 2-2V5c0-1.1-.9-2-2-2zM9 17H7v-7h2v7zm4 0h-2V7h2v10zm4 0h-2v-4h2v4z\"/>\n",
              "    </g>\n",
              "</svg>\n",
              "  </button>\n",
              "\n",
              "<style>\n",
              "  .colab-df-quickchart {\n",
              "      --bg-color: #E8F0FE;\n",
              "      --fill-color: #1967D2;\n",
              "      --hover-bg-color: #E2EBFA;\n",
              "      --hover-fill-color: #174EA6;\n",
              "      --disabled-fill-color: #AAA;\n",
              "      --disabled-bg-color: #DDD;\n",
              "  }\n",
              "\n",
              "  [theme=dark] .colab-df-quickchart {\n",
              "      --bg-color: #3B4455;\n",
              "      --fill-color: #D2E3FC;\n",
              "      --hover-bg-color: #434B5C;\n",
              "      --hover-fill-color: #FFFFFF;\n",
              "      --disabled-bg-color: #3B4455;\n",
              "      --disabled-fill-color: #666;\n",
              "  }\n",
              "\n",
              "  .colab-df-quickchart {\n",
              "    background-color: var(--bg-color);\n",
              "    border: none;\n",
              "    border-radius: 50%;\n",
              "    cursor: pointer;\n",
              "    display: none;\n",
              "    fill: var(--fill-color);\n",
              "    height: 32px;\n",
              "    padding: 0;\n",
              "    width: 32px;\n",
              "  }\n",
              "\n",
              "  .colab-df-quickchart:hover {\n",
              "    background-color: var(--hover-bg-color);\n",
              "    box-shadow: 0 1px 2px rgba(60, 64, 67, 0.3), 0 1px 3px 1px rgba(60, 64, 67, 0.15);\n",
              "    fill: var(--button-hover-fill-color);\n",
              "  }\n",
              "\n",
              "  .colab-df-quickchart-complete:disabled,\n",
              "  .colab-df-quickchart-complete:disabled:hover {\n",
              "    background-color: var(--disabled-bg-color);\n",
              "    fill: var(--disabled-fill-color);\n",
              "    box-shadow: none;\n",
              "  }\n",
              "\n",
              "  .colab-df-spinner {\n",
              "    border: 2px solid var(--fill-color);\n",
              "    border-color: transparent;\n",
              "    border-bottom-color: var(--fill-color);\n",
              "    animation:\n",
              "      spin 1s steps(1) infinite;\n",
              "  }\n",
              "\n",
              "  @keyframes spin {\n",
              "    0% {\n",
              "      border-color: transparent;\n",
              "      border-bottom-color: var(--fill-color);\n",
              "      border-left-color: var(--fill-color);\n",
              "    }\n",
              "    20% {\n",
              "      border-color: transparent;\n",
              "      border-left-color: var(--fill-color);\n",
              "      border-top-color: var(--fill-color);\n",
              "    }\n",
              "    30% {\n",
              "      border-color: transparent;\n",
              "      border-left-color: var(--fill-color);\n",
              "      border-top-color: var(--fill-color);\n",
              "      border-right-color: var(--fill-color);\n",
              "    }\n",
              "    40% {\n",
              "      border-color: transparent;\n",
              "      border-right-color: var(--fill-color);\n",
              "      border-top-color: var(--fill-color);\n",
              "    }\n",
              "    60% {\n",
              "      border-color: transparent;\n",
              "      border-right-color: var(--fill-color);\n",
              "    }\n",
              "    80% {\n",
              "      border-color: transparent;\n",
              "      border-right-color: var(--fill-color);\n",
              "      border-bottom-color: var(--fill-color);\n",
              "    }\n",
              "    90% {\n",
              "      border-color: transparent;\n",
              "      border-bottom-color: var(--fill-color);\n",
              "    }\n",
              "  }\n",
              "</style>\n",
              "\n",
              "  <script>\n",
              "    async function quickchart(key) {\n",
              "      const quickchartButtonEl =\n",
              "        document.querySelector('#' + key + ' button');\n",
              "      quickchartButtonEl.disabled = true;  // To prevent multiple clicks.\n",
              "      quickchartButtonEl.classList.add('colab-df-spinner');\n",
              "      try {\n",
              "        const charts = await google.colab.kernel.invokeFunction(\n",
              "            'suggestCharts', [key], {});\n",
              "      } catch (error) {\n",
              "        console.error('Error during call to suggestCharts:', error);\n",
              "      }\n",
              "      quickchartButtonEl.classList.remove('colab-df-spinner');\n",
              "      quickchartButtonEl.classList.add('colab-df-quickchart-complete');\n",
              "    }\n",
              "    (() => {\n",
              "      let quickchartButtonEl =\n",
              "        document.querySelector('#df-0f6bd4e8-3006-4b85-8941-afb355d1bb1f button');\n",
              "      quickchartButtonEl.style.display =\n",
              "        google.colab.kernel.accessAllowed ? 'block' : 'none';\n",
              "    })();\n",
              "  </script>\n",
              "</div>\n",
              "    </div>\n",
              "  </div>\n"
            ],
            "text/plain": [
              "     names  country\n",
              "ID                 \n",
              "6      jon  england\n",
              "7   arthur  ireland\n",
              "8   mathew  england\n",
              "9      raj    india\n",
              "10    keny      usa"
            ]
          },
          "execution_count": 8,
          "metadata": {},
          "output_type": "execute_result"
        }
      ],
      "source": [
        "dfB.head()"
      ]
    },
    {
      "cell_type": "markdown",
      "metadata": {
        "collapsed": false,
        "id": "ayZ3pgLfdo4M"
      },
      "source": [
        "Use `private_import` method to send local data into Antigranular session."
      ]
    },
    {
      "cell_type": "code",
      "execution_count": 9,
      "metadata": {
        "ExecuteTime": {
          "end_time": "2023-10-19T00:52:26.608531Z",
          "start_time": "2023-10-19T00:52:13.190787Z"
        },
        "colab": {
          "base_uri": "https://localhost:8080/"
        },
        "id": "FflxFVYedo4M",
        "outputId": "6cd0279e-5b22-40c4-84fc-8391f813c8b5"
      },
      "outputs": [
        {
          "name": "stdout",
          "output_type": "stream",
          "text": [
            "dataframe cached to server, loading to kernel...\n",
            "Dataframe loaded successfully to the kernel\n",
            "\n",
            "dataframe cached to server, loading to kernel...\n",
            "Dataframe loaded successfully to the kernel\n",
            "\n",
            "dataframe cached to server, loading to kernel...\n",
            "Dataframe loaded successfully to the kernel\n",
            "\n",
            "dataframe cached to server, loading to kernel...\n",
            "Dataframe loaded successfully to the kernel\n",
            "\n"
          ]
        }
      ],
      "source": [
        "session.private_import(name='dfA' ,data=dfA)\n",
        "session.private_import(name='dfB',data=dfB)\n",
        "session.private_import(name='large_dfA',data=large_dfA)\n",
        "session.private_import(name='large_dfB',data=large_dfB)"
      ]
    },
    {
      "cell_type": "markdown",
      "metadata": {
        "collapsed": false,
        "id": "ufOtcbqmdo4N"
      },
      "source": [
        "Converting the imported dataframes to `PrivateDataFrame` so that we can use private recordlinkage library."
      ]
    },
    {
      "cell_type": "code",
      "execution_count": 10,
      "metadata": {
        "ExecuteTime": {
          "end_time": "2023-10-19T00:52:30.500652Z",
          "start_time": "2023-10-19T00:52:28.544720Z"
        },
        "id": "ST2gr08Fdo4N"
      },
      "outputs": [],
      "source": [
        "%%ag\n",
        "import op_pandas\n",
        "pdfA = op_pandas.PrivateDataFrame(dfA)\n",
        "pdfB = op_pandas.PrivateDataFrame(dfB)\n",
        "large_pdfA = op_pandas.PrivateDataFrame(large_dfA)\n",
        "large_pdfB = op_pandas.PrivateDataFrame(large_dfB)"
      ]
    },
    {
      "cell_type": "markdown",
      "metadata": {
        "collapsed": false,
        "id": "MQkDvrKSdo4N"
      },
      "source": [
        " ## **Preprocessing in Record Linkage** 🌐\n",
        "### recordlinkage.preprocessing.clean()\n",
        "\n",
        "The `recordlinkage.preprocessing.clean` function is a comprehensive tool in the Python Record Linkage Toolkit designed to preprocess and clean string data. This function facilitates the cleaning of strings by removing undesired tokens, whitespace, brackets, and more, making the data more consistent and suitable for linkage or comparison tasks.\n",
        "\n",
        "Imagine you have a dataset with location names, but the names have various formats, spellings, and unwanted characters. Before comparing or linking this dataset with another, you'd want to standardise these names for accuracy. Using the clean function, you can efficiently preprocess the data to a consistent format.\n"
      ]
    },
    {
      "cell_type": "code",
      "execution_count": 11,
      "metadata": {
        "ExecuteTime": {
          "end_time": "2023-10-19T01:02:38.631967Z",
          "start_time": "2023-10-19T01:02:38.621700Z"
        },
        "colab": {
          "base_uri": "https://localhost:8080/"
        },
        "id": "WEbsnkXAdo4N",
        "outputId": "4213f9c0-5d78-493f-9666-928307468772"
      },
      "outputs": [
        {
          "data": {
            "text/plain": [
              "0        smith\n",
              "1        smyth\n",
              "2       garsia\n",
              "3       garcia\n",
              "4    mc donald\n",
              "5    macdonald\n",
              "dtype: object"
            ]
          },
          "execution_count": 11,
          "metadata": {},
          "output_type": "execute_result"
        }
      ],
      "source": [
        "from recordlinkage.preprocessing import clean\n",
        "names = [\"Mr. Smith\", \"Smyth\", \"Dr. garsia\", \"Mr. Garcia\", \"mC Donald\", \"Dr. MacDonald\"]\n",
        "name_series = pd.Series(names)\n",
        "name_series = clean(name_series, lowercase=True , replace_by_whitespace=r\"(mr|dr)\")\n",
        "\n",
        "name_series"
      ]
    },
    {
      "cell_type": "markdown",
      "metadata": {
        "collapsed": false,
        "id": "Ju8ZCqjado4N"
      },
      "source": [
        "### recordlinkage.preprocessing.phonetic\n",
        "\n",
        "The `recordlinkage.preprocessing.phonetic` function is used for converting strings into their phonetic codes. Phonetic algorithms, like Soundex, index words based on their pronunciation. This can be especially useful when dealing with names that might have multiple spellings but sound similar. Converting strings into phonetic codes can help in identifying similar-sounding words, even if they are spelled differently.\n",
        "\n",
        "Imagine you're working with a dataset containing names from oral interviews. Names like \"Smith\" might be spelled in various ways, such as \"Smyth\" or \"Smithe\". The phonetic function can convert these names into a common code, making it easier to identify and link similar-sounding entries."
      ]
    },
    {
      "cell_type": "code",
      "execution_count": 12,
      "metadata": {
        "ExecuteTime": {
          "end_time": "2023-10-19T01:02:51.424076Z",
          "start_time": "2023-10-19T01:02:51.418989Z"
        },
        "colab": {
          "base_uri": "https://localhost:8080/"
        },
        "id": "T4q2SaINdo4N",
        "outputId": "d1d2e62c-f04f-452d-9cfb-45cc808e479d"
      },
      "outputs": [
        {
          "data": {
            "text/plain": [
              "0    S530\n",
              "1    S530\n",
              "2    G620\n",
              "3    G620\n",
              "4    M235\n",
              "5    M235\n",
              "dtype: object"
            ]
          },
          "execution_count": 12,
          "metadata": {},
          "output_type": "execute_result"
        }
      ],
      "source": [
        "from recordlinkage.preprocessing import phonetic\n",
        "phonetic(name_series,method='soundex')"
      ]
    },
    {
      "cell_type": "markdown",
      "metadata": {
        "collapsed": false,
        "id": "luQKq92Vdo4O"
      },
      "source": [
        "# **Indexing in Record Linkage** 🧐\n",
        "\n",
        "The indexing module is used to create pairs of records. These pairs are known as candidate links or candidate matches. Several indexing algorithms, such as full, random, blocking, and sorted neighbourhood indexing, are used for both linking and deduplication purposes.\n",
        "\n",
        "**Why You Should Use Indexing:**\n",
        "\n",
        "1. **Efficiency:** Without indexing, the process would involve comparing every record in one dataset with every record in another dataset (or with all other records in the same dataset for deduplication). This can be computationally intensive. Indexing reduces the number of comparisons by eliminating obvious non-matches.\n",
        "\n",
        "2. **Accuracy:** Some indexing methods, especially those that take advantage of specific data characteristics, can improve the quality of candidate links by focusing on more probable matches.\n",
        "\n",
        "3. **Scalability:** For large datasets, indexing is almost a necessity. It allows the record linkage process to be feasible even with millions of records.\n",
        "\n",
        "**How Indexing Should Be Done:**\n",
        "\n",
        "1. **Understand Your Data:** Before choosing an indexing method, it's crucial to understand the characteristics of your data. For instance, do you have a unique identifier? Are there common fields that can be used for blocking?\n",
        "\n",
        "2. **Choose the Right Method:** Not all indexing methods are suitable for all types of data. For instance, blocking might be more efficient when there's a common field between datasets, while sorted neighbourhood indexing can be better for datasets with slight variations in values.\n",
        "\n",
        "3. **Quality Over Quantity:** It's better to have fewer high-quality candidate links than numerous low-quality ones. Adjust the parameters of your indexing method to ensure that the candidates are probable matches.\n",
        "\n",
        "4. **Iterate and Refine:** Indexing is often an iterative process. As you test and refine your linkage strategy, you may need to adjust your indexing method or parameters to improve results.\n",
        "\n"
      ]
    },
    {
      "cell_type": "markdown",
      "metadata": {
        "collapsed": false,
        "id": "23gMdIFfdo4O"
      },
      "source": [
        "### **Full Indexing**\n",
        "\n",
        "Full indexing, often termed as \"full cartesian product indexing\", creates candidate links by forming all possible unique combinations between records in one dataset and those in another dataset. Essentially, every record in the first dataset is compared to every record in the second dataset.\n",
        "\n",
        "**When to Use It:**\n",
        "1. **Small Datasets:** Full indexing is most feasible and practical when both datasets are relatively small. Given its exhaustive nature, the number of comparisons grows significantly with the size of the datasets.\n",
        "\n",
        "2. **Absence of Common Attributes:** When datasets lack distinct common attributes that can be used for more efficient indexing methods like blocking or sorted neighbourhood indexing, full indexing might be the most straightforward approach.\n",
        "\n",
        "3. **Maximising Match Opportunities:** Full indexing ensures that no potential matches are overlooked. This makes it ideal when aiming for completeness of potential matches, regardless of computational cost.\n"
      ]
    },
    {
      "cell_type": "code",
      "execution_count": 13,
      "metadata": {
        "ExecuteTime": {
          "end_time": "2023-10-18T21:54:05.458243Z",
          "start_time": "2023-10-18T21:54:05.452380Z"
        },
        "colab": {
          "base_uri": "https://localhost:8080/"
        },
        "id": "TYeANH3Fdo4O",
        "outputId": "9d8aabe4-6b5f-4e6d-ba07-1572069c90c3"
      },
      "outputs": [
        {
          "name": "stdout",
          "output_type": "stream",
          "text": [
            "WARNING:recordlinkage:indexing - performance warning - A full index can result in large number of record pairs.\n",
            "\n",
            "Total number of links in full indexing : 25\n",
            "\n"
          ]
        }
      ],
      "source": [
        "%%ag\n",
        "import op_recordlinkage as rl\n",
        "indexer = rl.Index()\n",
        "indexer.full()\n",
        "links = indexer.index(pdfA,pdfB)\n",
        "ag_print(f\"Total number of links in full indexing : {links.count(eps=1)}\")"
      ]
    },
    {
      "cell_type": "code",
      "execution_count": 14,
      "metadata": {
        "ExecuteTime": {
          "end_time": "2023-10-18T18:15:27.551765Z",
          "start_time": "2023-10-18T18:15:27.337588Z"
        },
        "colab": {
          "base_uri": "https://localhost:8080/",
          "height": 442
        },
        "id": "0VFIq60Gdo4O",
        "outputId": "f9a876ed-85f4-436d-ec9b-8b768276eb74"
      },
      "outputs": [
        {
          "name": "stdout",
          "output_type": "stream",
          "text": [
            "WARNING:recordlinkage:indexing - performance warning - A full index can result in large number of record pairs.\n"
          ]
        },
        {
          "name": "stderr",
          "output_type": "stream",
          "text": [
            "WARNING:recordlinkage:indexing - performance warning - A full index can result in large number of record pairs.\n"
          ]
        },
        {
          "data": {
            "image/png": "[encoded data removed]",
            "text/plain": [
              "<Figure size 640x480 with 1 Axes>"
            ]
          },
          "metadata": {},
          "output_type": "display_data"
        }
      ],
      "source": [
        "# LOCAL environment | Graphical representation of Full Indexing.\n",
        "indexer = rl.Index()\n",
        "indexer.full()\n",
        "links = indexer.index(dfA,dfB)\n",
        "links = list(links)\n",
        "plot_graph(links)"
      ]
    },
    {
      "cell_type": "markdown",
      "metadata": {
        "collapsed": false,
        "id": "7c_GGlDPdo4O"
      },
      "source": [
        "### **Block Indexing**\n",
        "\n",
        "Block indexing, often simply referred to as \"blocking\", is an indexing method used in record linkage. In this method, records are partitioned into distinct groups or \"blocks\", based on one or more key attributes. Only records within the same block are compared, thus significantly reducing the number of comparisons required. The key attribute(s) used for blocking should have a high probability of being the same for true matches.\n",
        "\n",
        "\n",
        "**When to Use It:**\n",
        "1. **Large Datasets:** Blocking is particularly effective when dealing with large datasets. By reducing the number of comparisons, blocking makes the linkage process more scalable and efficient.\n",
        "\n",
        "2. **Common Key Attributes:** Blocking is suitable when there's a common field or attribute across the datasets that is likely to be consistent for true matches, such as postal code, birth year, or initial letters of a name.\n",
        "\n",
        "3. **Balance Between Efficiency and Completeness:** While blocking greatly improves efficiency, it may miss some true matches if they are in different blocks. Thus, it's ideal when seeking a balance between computational efficiency and match completeness.\n"
      ]
    },
    {
      "cell_type": "code",
      "execution_count": 15,
      "metadata": {
        "ExecuteTime": {
          "end_time": "2023-10-18T18:15:31.470408Z",
          "start_time": "2023-10-18T18:15:29.378375Z"
        },
        "colab": {
          "base_uri": "https://localhost:8080/"
        },
        "id": "awAEA6osdo4O",
        "outputId": "d00eeda8-bfee-4f0b-b171-206c3276a546"
      },
      "outputs": [
        {
          "name": "stdout",
          "output_type": "stream",
          "text": [
            "Total number of links in block indexing : 0\n",
            "\n"
          ]
        }
      ],
      "source": [
        "%%ag\n",
        "import op_recordlinkage as rl\n",
        "indexer = rl.Index()\n",
        "indexer.block('names','names')\n",
        "links = indexer.index(pdfA,pdfB)\n",
        "ag_print(f\"Total number of links in block indexing : {links.count(eps=1)}\")\n"
      ]
    },
    {
      "cell_type": "code",
      "execution_count": 16,
      "metadata": {
        "ExecuteTime": {
          "end_time": "2023-10-18T18:15:31.562981Z",
          "start_time": "2023-10-18T18:15:31.491063Z"
        },
        "colab": {
          "base_uri": "https://localhost:8080/",
          "height": 406
        },
        "id": "kjLY1JUUdo4O",
        "outputId": "cf0202af-0cb8-4801-d377-8bf84d155b07"
      },
      "outputs": [
        {
          "data": {
            "image/png": "[encoded data removed]",
            "text/plain": [
              "<Figure size 640x480 with 1 Axes>"
            ]
          },
          "metadata": {},
          "output_type": "display_data"
        }
      ],
      "source": [
        "# LOCAL environment | Graphical representation of Block Indexing\n",
        "indexer = rl.Index()\n",
        "indexer.block('names','names')\n",
        "links = indexer.index(dfA,dfB)\n",
        "links = list(links)\n",
        "plot_graph(links)"
      ]
    },
    {
      "cell_type": "markdown",
      "metadata": {
        "collapsed": false,
        "id": "nBJGm1JOdo4P"
      },
      "source": [
        "Adding more blocking rules allows you to obtain more potential candidate links based on the new rule and increases the number of pairs satisfying either of the block rules."
      ]
    },
    {
      "cell_type": "code",
      "execution_count": 17,
      "metadata": {
        "ExecuteTime": {
          "end_time": "2023-10-18T18:15:33.406255Z",
          "start_time": "2023-10-18T18:15:33.398322Z"
        },
        "colab": {
          "base_uri": "https://localhost:8080/"
        },
        "id": "AsmlW4ZTdo4P",
        "outputId": "74fdb320-5bd3-4bb4-ef74-7c21658817f1"
      },
      "outputs": [
        {
          "name": "stdout",
          "output_type": "stream",
          "text": [
            "Total number of links in block indexing : 8\n",
            "\n"
          ]
        }
      ],
      "source": [
        "%%ag\n",
        "import op_recordlinkage as rl\n",
        "indexer = rl.Index()\n",
        "indexer.block('country','country')\n",
        "indexer.block('names','names')\n",
        "links = indexer.index(pdfA,pdfB)\n",
        "ag_print(f\"Total number of links in block indexing : {links.count(eps=1)}\")"
      ]
    },
    {
      "cell_type": "code",
      "execution_count": 18,
      "metadata": {
        "ExecuteTime": {
          "end_time": "2023-10-18T18:15:33.507958Z",
          "start_time": "2023-10-18T18:15:33.424533Z"
        },
        "colab": {
          "base_uri": "https://localhost:8080/",
          "height": 406
        },
        "id": "3icth5s-do4P",
        "outputId": "0a20ab27-55a8-49ce-c076-3b462fdbceb1"
      },
      "outputs": [
        {
          "data": {
            "image/png": "[encoded data removed]",
            "text/plain": [
              "<Figure size 640x480 with 1 Axes>"
            ]
          },
          "metadata": {},
          "output_type": "display_data"
        }
      ],
      "source": [
        "# LOCAL environment | Graphical representation of block indexing\n",
        "indexer = rl.Index()\n",
        "indexer.block('country','country')\n",
        "indexer.block('names','names')\n",
        "links = indexer.index(dfA,dfB)\n",
        "links = list(links)\n",
        "plot_graph(links)"
      ]
    },
    {
      "cell_type": "markdown",
      "metadata": {
        "collapsed": false,
        "id": "cAX-T0DEdo4P"
      },
      "source": [
        "\n",
        "### **Sorted-Neighbourhood Indexing**\n",
        "\n",
        "Sorted-neighbourhood indexing is a method used in record linkage, especially when dealing with noisy data or slight variations in data entries. In this approach, records are first sorted based on a specific key attribute. Once sorted, a window of a specified size slides through the sorted list. Only records that fall within this window are considered as candidate pairs for comparison. This method assumes that true matches are likely to be near each other in the sorted order, even if they aren't exactly identical due to errors or variations.\n",
        "\n",
        "**When to Use It:**\n",
        "1. **Noisy Data:** Sorted-neighbourhood indexing is particularly effective when data has inconsistencies, such as minor spelling variations, typographical errors, or abbreviations. Traditional blocking might fail to group such near-matches together, but they are likely to be close in a sorted list.\n",
        "\n",
        "2. **Unknown Errors and Variations:** If you're unsure about the types and extents of errors in your dataset, sorted-neighbourhood indexing can be a safer bet than simple blocking, since it accommodates slight variations in the key attribute.\n",
        "\n",
        "3. **Balancing Efficiency and Completeness:** While the sorted-neighborhood method can lead to more comparisons than simple blocking (depending on the window size), it can be less exhaustive than full indexing. It provides a balance between efficiency and the risk of missing potential matches.\n",
        "\n",
        "4. **Adaptable Window Size:** The window size can be adjusted based on the quality of data and desired trade-off between computational cost and likelihood of capturing matches. A larger window will capture more potential matches but will also require more comparisons.\n"
      ]
    },
    {
      "cell_type": "code",
      "execution_count": 19,
      "metadata": {
        "ExecuteTime": {
          "end_time": "2023-10-18T18:15:37.508913Z",
          "start_time": "2023-10-18T18:15:35.455969Z"
        },
        "colab": {
          "base_uri": "https://localhost:8080/"
        },
        "id": "FDNnpH8Jdo4P",
        "outputId": "3cf0ab3d-dab6-43b9-f153-af2801e42d1c"
      },
      "outputs": [
        {
          "name": "stdout",
          "output_type": "stream",
          "text": [
            "Total number of links using sorted neighbourhood: 7\n",
            "\n"
          ]
        }
      ],
      "source": [
        "%%ag\n",
        "import op_recordlinkage as rl\n",
        "indexer = rl.Index()\n",
        "indexer.sortedneighbourhood('names','names')\n",
        "links = indexer.index(pdfA,pdfB)\n",
        "ag_print(f\"Total number of links using sorted neighbourhood: {links.count(eps=1)}\")"
      ]
    },
    {
      "cell_type": "code",
      "execution_count": 20,
      "metadata": {
        "ExecuteTime": {
          "end_time": "2023-10-18T18:15:37.608741Z",
          "start_time": "2023-10-18T18:15:37.518573Z"
        },
        "colab": {
          "base_uri": "https://localhost:8080/",
          "height": 406
        },
        "id": "lZ9xgRIfdo4P",
        "outputId": "9452f3d9-d73c-463e-aa0a-60471a9c615e"
      },
      "outputs": [
        {
          "data": {
            "image/png": "[encoded data removed]",
            "text/plain": [
              "<Figure size 640x480 with 1 Axes>"
            ]
          },
          "metadata": {},
          "output_type": "display_data"
        }
      ],
      "source": [
        "# LOCAL environment | Graphical representation of Sortedneighbourhood indexing\n",
        "indexer = rl.Index()\n",
        "indexer.sortedneighbourhood('names','names')\n",
        "links = indexer.index(dfA,dfB)\n",
        "links = list(links)\n",
        "plot_graph(links)"
      ]
    },
    {
      "cell_type": "markdown",
      "metadata": {
        "collapsed": false,
        "id": "7xXPSOkcdo4P"
      },
      "source": [
        "### **Random Indexing**\n",
        "\n",
        "Random indexing is a method used in record linkage where pairs of records are selected at random to form candidate links. Instead of performing exhaustive comparisons or using structured rules (as in blocking or sorted-neighbourhood methods), this method relies on random sampling to generate a subset of potential matches. It offers a stochastic approach to the problem of identifying candidate record pairs.\n",
        "\n",
        "**When to Use It:**\n",
        "1. **Exploratory Analysis:** If you're initially trying to gauge the quality of matches between two datasets without diving deep into detailed comparisons, random indexing can give you a quick, albeit approximate, view.\n",
        "\n",
        "2. **Large Datasets:** When dealing with exceedingly large datasets, even efficient methods like blocking might be computationally intensive. Random indexing can provide a quick way to generate a subset of candidate links for preliminary analysis.\n",
        "\n",
        "3. **Absence of Clear Blocking Key:** If the datasets do not have clear attributes for blocking or if the quality of data is uncertain, random indexing can serve as a starting point before deciding on more structured approaches.\n",
        "\n",
        "4. **Balancing Computational Cost:** While random indexing might miss many potential matches, it allows for a reduction in computational cost. It's a trade-off between efficiency and completeness.\n",
        "\n",
        "5. **Benchmarking:** Random indexing can be used as a baseline method to benchmark the effectiveness of other more sophisticated record linkage methods.\n"
      ]
    },
    {
      "cell_type": "code",
      "execution_count": 21,
      "metadata": {
        "ExecuteTime": {
          "end_time": "2023-10-18T18:15:39.553166Z",
          "start_time": "2023-10-18T18:15:39.546528Z"
        },
        "colab": {
          "base_uri": "https://localhost:8080/"
        },
        "id": "rqVOx6OGbWMO",
        "outputId": "8d34c6a4-1c6d-4b32-f0cf-ffa335a5c084"
      },
      "outputs": [
        {
          "name": "stdout",
          "output_type": "stream",
          "text": [
            "Total number of links in random indexing : 10\n",
            "\n"
          ]
        }
      ],
      "source": [
        "%%ag\n",
        "import op_recordlinkage as rl\n",
        "indexer = rl.Index()\n",
        "indexer.random(n = 10)\n",
        "links = indexer.index(pdfA,pdfB)\n",
        "ag_print(f\"Total number of links in random indexing : {links.count(eps=1)}\")"
      ]
    },
    {
      "cell_type": "code",
      "execution_count": 22,
      "metadata": {
        "ExecuteTime": {
          "end_time": "2023-10-18T18:15:39.650772Z",
          "start_time": "2023-10-18T18:15:39.568694Z"
        },
        "colab": {
          "base_uri": "https://localhost:8080/",
          "height": 406
        },
        "id": "Kx_SBzK3do4P",
        "outputId": "450a824b-9bcf-48d3-ead0-5516d24a5e7f"
      },
      "outputs": [
        {
          "data": {
            "image/png": "[encoded data removed]",
            "text/plain": [
              "<Figure size 640x480 with 1 Axes>"
            ]
          },
          "metadata": {},
          "output_type": "display_data"
        }
      ],
      "source": [
        "# LOCAL environment | Graphical representation of Random indexing\n",
        "indexer = rl.Index()\n",
        "indexer.random(n = 10)\n",
        "links = indexer.index(dfA,dfB)\n",
        "links = list(links)\n",
        "plot_graph(links)"
      ]
    },
    {
      "cell_type": "markdown",
      "metadata": {
        "collapsed": false,
        "id": "8p639VIydo4P"
      },
      "source": [
        "\n",
        "## **Comparing in Record Linkage** ⚖️\n",
        "\n",
        "Comparing refers to the process of assessing pairs of records to determine how similar they are across various attributes or fields. Once potential candidate pairs are identified (using methods like blocking, sorted-neighbourhood indexing, or full indexing), these pairs undergo a comparison to produce a similarity score. This score is then used to decide if the pair is a true match or not.\n",
        "\n",
        "The comparison can involve:\n",
        "\n",
        "1. **Exact Matching:** Checking if the values in the fields are exactly the same.\n",
        "\n",
        "2. **Fuzzy Matching:** Using algorithms to determine the similarity between values. This is especially useful for textual data where typos or different representations might exist (e.g., \"Jon\" vs. \"John\").\n",
        "\n",
        "3. **Numeric or Date Comparisons:** For numeric or date fields, differences can be computed directly or categorizsd into bands (e.g., age difference of less than 5 years, between 5 and 10 years, etc.).\n",
        "\n",
        "4. **Custom Comparisons:** Depending on domain-specific knowledge, custom comparison functions can be employed. For example, in a medical context, two different codes might represent the same condition, and a custom function can identify them as a match.\n",
        "\n",
        "**Significance:**\n",
        "Comparing is a crucial step in record linkage as it directly influences the quality of the linkage. Accurate comparisons ensure that true matches are identified while minimising false positives (incorrectly identified matches) and false negatives (missed true matches).\n",
        "\n",
        "<br/>\n",
        "<br/>\n",
        "\n",
        "Let's learn more about various comparison rules using a larger dataset.\n",
        "I have loaded them under the name `large_pdfA` and `large_pdfB` into the Antigranular server.\n"
      ]
    },
    {
      "cell_type": "code",
      "execution_count": 23,
      "metadata": {
        "ExecuteTime": {
          "end_time": "2023-10-18T18:15:39.656565Z",
          "start_time": "2023-10-18T18:15:39.653405Z"
        },
        "colab": {
          "base_uri": "https://localhost:8080/",
          "height": 455
        },
        "id": "ISkkl6cSdo4Q",
        "outputId": "95577521-543d-4b92-b5f2-e43dfda40241"
      },
      "outputs": [
        {
          "data": {
            "text/html": [
              "\n",
              "  <div id=\"df-5fbfd42e-9c7d-47b0-a523-270e789c00a4\" class=\"colab-df-container\">\n",
              "    <div>\n",
              "<style scoped>\n",
              "    .dataframe tbody tr th:only-of-type {\n",
              "        vertical-align: middle;\n",
              "    }\n",
              "\n",
              "    .dataframe tbody tr th {\n",
              "        vertical-align: top;\n",
              "    }\n",
              "\n",
              "    .dataframe thead th {\n",
              "        text-align: right;\n",
              "    }\n",
              "</style>\n",
              "<table border=\"1\" class=\"dataframe\">\n",
              "  <thead>\n",
              "    <tr style=\"text-align: right;\">\n",
              "      <th></th>\n",
              "      <th>given_name</th>\n",
              "      <th>surname</th>\n",
              "      <th>street_number</th>\n",
              "      <th>address_1</th>\n",
              "      <th>address_2</th>\n",
              "      <th>suburb</th>\n",
              "      <th>postcode</th>\n",
              "      <th>state</th>\n",
              "      <th>date_of_birth</th>\n",
              "      <th>soc_sec_id</th>\n",
              "    </tr>\n",
              "    <tr>\n",
              "      <th>rec_id</th>\n",
              "      <th></th>\n",
              "      <th></th>\n",
              "      <th></th>\n",
              "      <th></th>\n",
              "      <th></th>\n",
              "      <th></th>\n",
              "      <th></th>\n",
              "      <th></th>\n",
              "      <th></th>\n",
              "      <th></th>\n",
              "    </tr>\n",
              "  </thead>\n",
              "  <tbody>\n",
              "    <tr>\n",
              "      <th>rec-1070-org</th>\n",
              "      <td>michaela</td>\n",
              "      <td>neumann</td>\n",
              "      <td>8</td>\n",
              "      <td>stanley street</td>\n",
              "      <td>miami</td>\n",
              "      <td>winston hills</td>\n",
              "      <td>4223</td>\n",
              "      <td>nsw</td>\n",
              "      <td>19151111</td>\n",
              "      <td>5304218</td>\n",
              "    </tr>\n",
              "    <tr>\n",
              "      <th>rec-1016-org</th>\n",
              "      <td>courtney</td>\n",
              "      <td>painter</td>\n",
              "      <td>12</td>\n",
              "      <td>pinkerton circuit</td>\n",
              "      <td>bega flats</td>\n",
              "      <td>richlands</td>\n",
              "      <td>4560</td>\n",
              "      <td>vic</td>\n",
              "      <td>19161214</td>\n",
              "      <td>4066625</td>\n",
              "    </tr>\n",
              "    <tr>\n",
              "      <th>rec-4405-org</th>\n",
              "      <td>charles</td>\n",
              "      <td>green</td>\n",
              "      <td>38</td>\n",
              "      <td>salkauskas crescent</td>\n",
              "      <td>kela</td>\n",
              "      <td>dapto</td>\n",
              "      <td>4566</td>\n",
              "      <td>nsw</td>\n",
              "      <td>19480930</td>\n",
              "      <td>4365168</td>\n",
              "    </tr>\n",
              "    <tr>\n",
              "      <th>rec-1288-org</th>\n",
              "      <td>vanessa</td>\n",
              "      <td>parr</td>\n",
              "      <td>905</td>\n",
              "      <td>macquoid place</td>\n",
              "      <td>broadbridge manor</td>\n",
              "      <td>south grafton</td>\n",
              "      <td>2135</td>\n",
              "      <td>sa</td>\n",
              "      <td>19951119</td>\n",
              "      <td>9239102</td>\n",
              "    </tr>\n",
              "    <tr>\n",
              "      <th>rec-3585-org</th>\n",
              "      <td>mikayla</td>\n",
              "      <td>malloney</td>\n",
              "      <td>37</td>\n",
              "      <td>randwick road</td>\n",
              "      <td>avalind</td>\n",
              "      <td>hoppers crossing</td>\n",
              "      <td>4552</td>\n",
              "      <td>vic</td>\n",
              "      <td>19860208</td>\n",
              "      <td>7207688</td>\n",
              "    </tr>\n",
              "    <tr>\n",
              "      <th>...</th>\n",
              "      <td>...</td>\n",
              "      <td>...</td>\n",
              "      <td>...</td>\n",
              "      <td>...</td>\n",
              "      <td>...</td>\n",
              "      <td>...</td>\n",
              "      <td>...</td>\n",
              "      <td>...</td>\n",
              "      <td>...</td>\n",
              "      <td>...</td>\n",
              "    </tr>\n",
              "    <tr>\n",
              "      <th>rec-2153-org</th>\n",
              "      <td>annabel</td>\n",
              "      <td>grierson</td>\n",
              "      <td>97</td>\n",
              "      <td>mclachlan crescent</td>\n",
              "      <td>lantana lodge</td>\n",
              "      <td>broome</td>\n",
              "      <td>2480</td>\n",
              "      <td>nsw</td>\n",
              "      <td>19840224</td>\n",
              "      <td>7676186</td>\n",
              "    </tr>\n",
              "    <tr>\n",
              "      <th>rec-1604-org</th>\n",
              "      <td>sienna</td>\n",
              "      <td>musolino</td>\n",
              "      <td>22</td>\n",
              "      <td>smeaton circuit</td>\n",
              "      <td>pangani</td>\n",
              "      <td>mckinnon</td>\n",
              "      <td>2700</td>\n",
              "      <td>nsw</td>\n",
              "      <td>19890525</td>\n",
              "      <td>4971506</td>\n",
              "    </tr>\n",
              "    <tr>\n",
              "      <th>rec-1003-org</th>\n",
              "      <td>bradley</td>\n",
              "      <td>matthews</td>\n",
              "      <td>2</td>\n",
              "      <td>jondol place</td>\n",
              "      <td>horseshoe ck</td>\n",
              "      <td>jacobs well</td>\n",
              "      <td>7018</td>\n",
              "      <td>sa</td>\n",
              "      <td>19481122</td>\n",
              "      <td>8927667</td>\n",
              "    </tr>\n",
              "    <tr>\n",
              "      <th>rec-4883-org</th>\n",
              "      <td>brodee</td>\n",
              "      <td>egan</td>\n",
              "      <td>88</td>\n",
              "      <td>axon street</td>\n",
              "      <td>greenslopes</td>\n",
              "      <td>wamberal</td>\n",
              "      <td>2067</td>\n",
              "      <td>qld</td>\n",
              "      <td>19121113</td>\n",
              "      <td>6039042</td>\n",
              "    </tr>\n",
              "    <tr>\n",
              "      <th>rec-66-org</th>\n",
              "      <td>koula</td>\n",
              "      <td>houweling</td>\n",
              "      <td>3</td>\n",
              "      <td>mileham street</td>\n",
              "      <td>old airdmillan road</td>\n",
              "      <td>williamstown</td>\n",
              "      <td>2350</td>\n",
              "      <td>nsw</td>\n",
              "      <td>19440718</td>\n",
              "      <td>6375537</td>\n",
              "    </tr>\n",
              "  </tbody>\n",
              "</table>\n",
              "<p>5000 rows × 10 columns</p>\n",
              "</div>\n",
              "    <div class=\"colab-df-buttons\">\n",
              "\n",
              "  <div class=\"colab-df-container\">\n",
              "    <button class=\"colab-df-convert\" onclick=\"convertToInteractive('df-5fbfd42e-9c7d-47b0-a523-270e789c00a4')\"\n",
              "            title=\"Convert this dataframe to an interactive table.\"\n",
              "            style=\"display:none;\">\n",
              "\n",
              "  <svg xmlns=\"http://www.w3.org/2000/svg\" height=\"24px\" viewBox=\"0 -960 960 960\">\n",
              "    <path d=\"M120-120v-720h720v720H120Zm60-500h600v-160H180v160Zm220 220h160v-160H400v160Zm0 220h160v-160H400v160ZM180-400h160v-160H180v160Zm440 0h160v-160H620v160ZM180-180h160v-160H180v160Zm440 0h160v-160H620v160Z\"/>\n",
              "  </svg>\n",
              "    </button>\n",
              "\n",
              "  <style>\n",
              "    .colab-df-container {\n",
              "      display:flex;\n",
              "      gap: 12px;\n",
              "    }\n",
              "\n",
              "    .colab-df-convert {\n",
              "      background-color: #E8F0FE;\n",
              "      border: none;\n",
              "      border-radius: 50%;\n",
              "      cursor: pointer;\n",
              "      display: none;\n",
              "      fill: #1967D2;\n",
              "      height: 32px;\n",
              "      padding: 0 0 0 0;\n",
              "      width: 32px;\n",
              "    }\n",
              "\n",
              "    .colab-df-convert:hover {\n",
              "      background-color: #E2EBFA;\n",
              "      box-shadow: 0px 1px 2px rgba(60, 64, 67, 0.3), 0px 1px 3px 1px rgba(60, 64, 67, 0.15);\n",
              "      fill: #174EA6;\n",
              "    }\n",
              "\n",
              "    .colab-df-buttons div {\n",
              "      margin-bottom: 4px;\n",
              "    }\n",
              "\n",
              "    [theme=dark] .colab-df-convert {\n",
              "      background-color: #3B4455;\n",
              "      fill: #D2E3FC;\n",
              "    }\n",
              "\n",
              "    [theme=dark] .colab-df-convert:hover {\n",
              "      background-color: #434B5C;\n",
              "      box-shadow: 0px 1px 3px 1px rgba(0, 0, 0, 0.15);\n",
              "      filter: drop-shadow(0px 1px 2px rgba(0, 0, 0, 0.3));\n",
              "      fill: #FFFFFF;\n",
              "    }\n",
              "  </style>\n",
              "\n",
              "    <script>\n",
              "      const buttonEl =\n",
              "        document.querySelector('#df-5fbfd42e-9c7d-47b0-a523-270e789c00a4 button.colab-df-convert');\n",
              "      buttonEl.style.display =\n",
              "        google.colab.kernel.accessAllowed ? 'block' : 'none';\n",
              "\n",
              "      async function convertToInteractive(key) {\n",
              "        const element = document.querySelector('#df-5fbfd42e-9c7d-47b0-a523-270e789c00a4');\n",
              "        const dataTable =\n",
              "          await google.colab.kernel.invokeFunction('convertToInteractive',\n",
              "                                                    [key], {});\n",
              "        if (!dataTable) return;\n",
              "\n",
              "        const docLinkHtml = 'Like what you see? Visit the ' +\n",
              "          '<a target=\"_blank\" href=https://colab.research.google.com/notebooks/data_table.ipynb>data table notebook</a>'\n",
              "          + ' to learn more about interactive tables.';\n",
              "        element.innerHTML = '';\n",
              "        dataTable['output_type'] = 'display_data';\n",
              "        await google.colab.output.renderOutput(dataTable, element);\n",
              "        const docLink = document.createElement('div');\n",
              "        docLink.innerHTML = docLinkHtml;\n",
              "        element.appendChild(docLink);\n",
              "      }\n",
              "    </script>\n",
              "  </div>\n",
              "\n",
              "\n",
              "<div id=\"df-b742f2de-5d7b-4ba7-8440-f9a733edd9e8\">\n",
              "  <button class=\"colab-df-quickchart\" onclick=\"quickchart('df-b742f2de-5d7b-4ba7-8440-f9a733edd9e8')\"\n",
              "            title=\"Suggest charts\"\n",
              "            style=\"display:none;\">\n",
              "\n",
              "<svg xmlns=\"http://www.w3.org/2000/svg\" height=\"24px\"viewBox=\"0 0 24 24\"\n",
              "     width=\"24px\">\n",
              "    <g>\n",
              "        <path d=\"M19 3H5c-1.1 0-2 .9-2 2v14c0 1.1.9 2 2 2h14c1.1 0 2-.9 2-2V5c0-1.1-.9-2-2-2zM9 17H7v-7h2v7zm4 0h-2V7h2v10zm4 0h-2v-4h2v4z\"/>\n",
              "    </g>\n",
              "</svg>\n",
              "  </button>\n",
              "\n",
              "<style>\n",
              "  .colab-df-quickchart {\n",
              "      --bg-color: #E8F0FE;\n",
              "      --fill-color: #1967D2;\n",
              "      --hover-bg-color: #E2EBFA;\n",
              "      --hover-fill-color: #174EA6;\n",
              "      --disabled-fill-color: #AAA;\n",
              "      --disabled-bg-color: #DDD;\n",
              "  }\n",
              "\n",
              "  [theme=dark] .colab-df-quickchart {\n",
              "      --bg-color: #3B4455;\n",
              "      --fill-color: #D2E3FC;\n",
              "      --hover-bg-color: #434B5C;\n",
              "      --hover-fill-color: #FFFFFF;\n",
              "      --disabled-bg-color: #3B4455;\n",
              "      --disabled-fill-color: #666;\n",
              "  }\n",
              "\n",
              "  .colab-df-quickchart {\n",
              "    background-color: var(--bg-color);\n",
              "    border: none;\n",
              "    border-radius: 50%;\n",
              "    cursor: pointer;\n",
              "    display: none;\n",
              "    fill: var(--fill-color);\n",
              "    height: 32px;\n",
              "    padding: 0;\n",
              "    width: 32px;\n",
              "  }\n",
              "\n",
              "  .colab-df-quickchart:hover {\n",
              "    background-color: var(--hover-bg-color);\n",
              "    box-shadow: 0 1px 2px rgba(60, 64, 67, 0.3), 0 1px 3px 1px rgba(60, 64, 67, 0.15);\n",
              "    fill: var(--button-hover-fill-color);\n",
              "  }\n",
              "\n",
              "  .colab-df-quickchart-complete:disabled,\n",
              "  .colab-df-quickchart-complete:disabled:hover {\n",
              "    background-color: var(--disabled-bg-color);\n",
              "    fill: var(--disabled-fill-color);\n",
              "    box-shadow: none;\n",
              "  }\n",
              "\n",
              "  .colab-df-spinner {\n",
              "    border: 2px solid var(--fill-color);\n",
              "    border-color: transparent;\n",
              "    border-bottom-color: var(--fill-color);\n",
              "    animation:\n",
              "      spin 1s steps(1) infinite;\n",
              "  }\n",
              "\n",
              "  @keyframes spin {\n",
              "    0% {\n",
              "      border-color: transparent;\n",
              "      border-bottom-color: var(--fill-color);\n",
              "      border-left-color: var(--fill-color);\n",
              "    }\n",
              "    20% {\n",
              "      border-color: transparent;\n",
              "      border-left-color: var(--fill-color);\n",
              "      border-top-color: var(--fill-color);\n",
              "    }\n",
              "    30% {\n",
              "      border-color: transparent;\n",
              "      border-left-color: var(--fill-color);\n",
              "      border-top-color: var(--fill-color);\n",
              "      border-right-color: var(--fill-color);\n",
              "    }\n",
              "    40% {\n",
              "      border-color: transparent;\n",
              "      border-right-color: var(--fill-color);\n",
              "      border-top-color: var(--fill-color);\n",
              "    }\n",
              "    60% {\n",
              "      border-color: transparent;\n",
              "      border-right-color: var(--fill-color);\n",
              "    }\n",
              "    80% {\n",
              "      border-color: transparent;\n",
              "      border-right-color: var(--fill-color);\n",
              "      border-bottom-color: var(--fill-color);\n",
              "    }\n",
              "    90% {\n",
              "      border-color: transparent;\n",
              "      border-bottom-color: var(--fill-color);\n",
              "    }\n",
              "  }\n",
              "</style>\n",
              "\n",
              "  <script>\n",
              "    async function quickchart(key) {\n",
              "      const quickchartButtonEl =\n",
              "        document.querySelector('#' + key + ' button');\n",
              "      quickchartButtonEl.disabled = true;  // To prevent multiple clicks.\n",
              "      quickchartButtonEl.classList.add('colab-df-spinner');\n",
              "      try {\n",
              "        const charts = await google.colab.kernel.invokeFunction(\n",
              "            'suggestCharts', [key], {});\n",
              "      } catch (error) {\n",
              "        console.error('Error during call to suggestCharts:', error);\n",
              "      }\n",
              "      quickchartButtonEl.classList.remove('colab-df-spinner');\n",
              "      quickchartButtonEl.classList.add('colab-df-quickchart-complete');\n",
              "    }\n",
              "    (() => {\n",
              "      let quickchartButtonEl =\n",
              "        document.querySelector('#df-b742f2de-5d7b-4ba7-8440-f9a733edd9e8 button');\n",
              "      quickchartButtonEl.style.display =\n",
              "        google.colab.kernel.accessAllowed ? 'block' : 'none';\n",
              "    })();\n",
              "  </script>\n",
              "</div>\n",
              "    </div>\n",
              "  </div>\n"
            ],
            "text/plain": [
              "             given_name    surname street_number            address_1  \\\n",
              "rec_id                                                                  \n",
              "rec-1070-org   michaela    neumann             8       stanley street   \n",
              "rec-1016-org   courtney    painter            12    pinkerton circuit   \n",
              "rec-4405-org    charles      green            38  salkauskas crescent   \n",
              "rec-1288-org    vanessa       parr           905       macquoid place   \n",
              "rec-3585-org    mikayla   malloney            37        randwick road   \n",
              "...                 ...        ...           ...                  ...   \n",
              "rec-2153-org    annabel   grierson            97   mclachlan crescent   \n",
              "rec-1604-org     sienna   musolino            22      smeaton circuit   \n",
              "rec-1003-org    bradley   matthews             2         jondol place   \n",
              "rec-4883-org     brodee       egan            88          axon street   \n",
              "rec-66-org        koula  houweling             3       mileham street   \n",
              "\n",
              "                        address_2            suburb postcode state  \\\n",
              "rec_id                                                               \n",
              "rec-1070-org                miami     winston hills     4223   nsw   \n",
              "rec-1016-org           bega flats         richlands     4560   vic   \n",
              "rec-4405-org                 kela             dapto     4566   nsw   \n",
              "rec-1288-org    broadbridge manor     south grafton     2135    sa   \n",
              "rec-3585-org              avalind  hoppers crossing     4552   vic   \n",
              "...                           ...               ...      ...   ...   \n",
              "rec-2153-org        lantana lodge            broome     2480   nsw   \n",
              "rec-1604-org              pangani          mckinnon     2700   nsw   \n",
              "rec-1003-org         horseshoe ck       jacobs well     7018    sa   \n",
              "rec-4883-org          greenslopes          wamberal     2067   qld   \n",
              "rec-66-org    old airdmillan road      williamstown     2350   nsw   \n",
              "\n",
              "             date_of_birth soc_sec_id  \n",
              "rec_id                                 \n",
              "rec-1070-org      19151111    5304218  \n",
              "rec-1016-org      19161214    4066625  \n",
              "rec-4405-org      19480930    4365168  \n",
              "rec-1288-org      19951119    9239102  \n",
              "rec-3585-org      19860208    7207688  \n",
              "...                    ...        ...  \n",
              "rec-2153-org      19840224    7676186  \n",
              "rec-1604-org      19890525    4971506  \n",
              "rec-1003-org      19481122    8927667  \n",
              "rec-4883-org      19121113    6039042  \n",
              "rec-66-org        19440718    6375537  \n",
              "\n",
              "[5000 rows x 10 columns]"
            ]
          },
          "execution_count": 23,
          "metadata": {},
          "output_type": "execute_result"
        }
      ],
      "source": [
        "# LOCAL environment\n",
        "large_dfA"
      ]
    },
    {
      "cell_type": "code",
      "execution_count": 24,
      "metadata": {
        "ExecuteTime": {
          "end_time": "2023-10-18T18:15:39.663106Z",
          "start_time": "2023-10-18T18:15:39.659637Z"
        },
        "colab": {
          "base_uri": "https://localhost:8080/",
          "height": 455
        },
        "id": "qghceml4do4Q",
        "outputId": "11c66a66-b51f-4425-deb3-8920ea0f69fc"
      },
      "outputs": [
        {
          "data": {
            "text/html": [
              "\n",
              "  <div id=\"df-f3c73f98-d2b8-4032-9369-50aa4f47e10e\" class=\"colab-df-container\">\n",
              "    <div>\n",
              "<style scoped>\n",
              "    .dataframe tbody tr th:only-of-type {\n",
              "        vertical-align: middle;\n",
              "    }\n",
              "\n",
              "    .dataframe tbody tr th {\n",
              "        vertical-align: top;\n",
              "    }\n",
              "\n",
              "    .dataframe thead th {\n",
              "        text-align: right;\n",
              "    }\n",
              "</style>\n",
              "<table border=\"1\" class=\"dataframe\">\n",
              "  <thead>\n",
              "    <tr style=\"text-align: right;\">\n",
              "      <th></th>\n",
              "      <th>given_name</th>\n",
              "      <th>surname</th>\n",
              "      <th>street_number</th>\n",
              "      <th>address_1</th>\n",
              "      <th>address_2</th>\n",
              "      <th>suburb</th>\n",
              "      <th>postcode</th>\n",
              "      <th>state</th>\n",
              "      <th>date_of_birth</th>\n",
              "      <th>soc_sec_id</th>\n",
              "    </tr>\n",
              "    <tr>\n",
              "      <th>rec_id</th>\n",
              "      <th></th>\n",
              "      <th></th>\n",
              "      <th></th>\n",
              "      <th></th>\n",
              "      <th></th>\n",
              "      <th></th>\n",
              "      <th></th>\n",
              "      <th></th>\n",
              "      <th></th>\n",
              "      <th></th>\n",
              "    </tr>\n",
              "  </thead>\n",
              "  <tbody>\n",
              "    <tr>\n",
              "      <th>rec-561-dup-0</th>\n",
              "      <td>elton</td>\n",
              "      <td>NaN</td>\n",
              "      <td>3</td>\n",
              "      <td>light setreet</td>\n",
              "      <td>pinehill</td>\n",
              "      <td>windermere</td>\n",
              "      <td>3212</td>\n",
              "      <td>vic</td>\n",
              "      <td>19651013</td>\n",
              "      <td>1551941</td>\n",
              "    </tr>\n",
              "    <tr>\n",
              "      <th>rec-2642-dup-0</th>\n",
              "      <td>mitchell</td>\n",
              "      <td>maxon</td>\n",
              "      <td>47</td>\n",
              "      <td>edkins street</td>\n",
              "      <td>lochaoair</td>\n",
              "      <td>north ryde</td>\n",
              "      <td>3355</td>\n",
              "      <td>nsw</td>\n",
              "      <td>19390212</td>\n",
              "      <td>8859999</td>\n",
              "    </tr>\n",
              "    <tr>\n",
              "      <th>rec-608-dup-0</th>\n",
              "      <td>NaN</td>\n",
              "      <td>white</td>\n",
              "      <td>72</td>\n",
              "      <td>lambrigg street</td>\n",
              "      <td>kelgoola</td>\n",
              "      <td>broadbeach waters</td>\n",
              "      <td>3159</td>\n",
              "      <td>vic</td>\n",
              "      <td>19620216</td>\n",
              "      <td>9731855</td>\n",
              "    </tr>\n",
              "    <tr>\n",
              "      <th>rec-3239-dup-0</th>\n",
              "      <td>elk i</td>\n",
              "      <td>menzies</td>\n",
              "      <td>1</td>\n",
              "      <td>lyster place</td>\n",
              "      <td>NaN</td>\n",
              "      <td>northwood</td>\n",
              "      <td>2585</td>\n",
              "      <td>vic</td>\n",
              "      <td>19980624</td>\n",
              "      <td>4970481</td>\n",
              "    </tr>\n",
              "    <tr>\n",
              "      <th>rec-2886-dup-0</th>\n",
              "      <td>NaN</td>\n",
              "      <td>garanggar</td>\n",
              "      <td>NaN</td>\n",
              "      <td>may maxwell crescent</td>\n",
              "      <td>springettst arcade</td>\n",
              "      <td>forest hill</td>\n",
              "      <td>2342</td>\n",
              "      <td>vic</td>\n",
              "      <td>19921016</td>\n",
              "      <td>1366884</td>\n",
              "    </tr>\n",
              "    <tr>\n",
              "      <th>...</th>\n",
              "      <td>...</td>\n",
              "      <td>...</td>\n",
              "      <td>...</td>\n",
              "      <td>...</td>\n",
              "      <td>...</td>\n",
              "      <td>...</td>\n",
              "      <td>...</td>\n",
              "      <td>...</td>\n",
              "      <td>...</td>\n",
              "      <td>...</td>\n",
              "    </tr>\n",
              "    <tr>\n",
              "      <th>rec-4495-dup-0</th>\n",
              "      <td>connor</td>\n",
              "      <td>belperio</td>\n",
              "      <td>15</td>\n",
              "      <td>NaN</td>\n",
              "      <td>NaN</td>\n",
              "      <td>ryde</td>\n",
              "      <td>2570</td>\n",
              "      <td>nsw</td>\n",
              "      <td>19170518</td>\n",
              "      <td>5394641</td>\n",
              "    </tr>\n",
              "    <tr>\n",
              "      <th>rec-4211-dup-0</th>\n",
              "      <td>daniel</td>\n",
              "      <td>maspn</td>\n",
              "      <td>9</td>\n",
              "      <td>derrington crescent</td>\n",
              "      <td>el pedro caravan park</td>\n",
              "      <td>sunnybank</td>\n",
              "      <td>4350</td>\n",
              "      <td>vic</td>\n",
              "      <td>19500705</td>\n",
              "      <td>5525378</td>\n",
              "    </tr>\n",
              "    <tr>\n",
              "      <th>rec-3131-dup-0</th>\n",
              "      <td>samuel</td>\n",
              "      <td>crofs</td>\n",
              "      <td>613</td>\n",
              "      <td>banjine street</td>\n",
              "      <td>kurrajong vlge</td>\n",
              "      <td>pengzin</td>\n",
              "      <td>2230</td>\n",
              "      <td>qld</td>\n",
              "      <td>19410531</td>\n",
              "      <td>4467228</td>\n",
              "    </tr>\n",
              "    <tr>\n",
              "      <th>rec-3815-dup-0</th>\n",
              "      <td>saah</td>\n",
              "      <td>beattih</td>\n",
              "      <td>60</td>\n",
              "      <td>kay's place</td>\n",
              "      <td>oldershaw court</td>\n",
              "      <td>ashfield</td>\n",
              "      <td>2047</td>\n",
              "      <td>vic</td>\n",
              "      <td>19500712</td>\n",
              "      <td>9435148</td>\n",
              "    </tr>\n",
              "    <tr>\n",
              "      <th>rec-493-dup-0</th>\n",
              "      <td>NaN</td>\n",
              "      <td>blackwell</td>\n",
              "      <td>127</td>\n",
              "      <td>ferrier place</td>\n",
              "      <td>northwood npark</td>\n",
              "      <td>chelsea heights</td>\n",
              "      <td>4211</td>\n",
              "      <td>qld</td>\n",
              "      <td>19570409</td>\n",
              "      <td>8541055</td>\n",
              "    </tr>\n",
              "  </tbody>\n",
              "</table>\n",
              "<p>5000 rows × 10 columns</p>\n",
              "</div>\n",
              "    <div class=\"colab-df-buttons\">\n",
              "\n",
              "  <div class=\"colab-df-container\">\n",
              "    <button class=\"colab-df-convert\" onclick=\"convertToInteractive('df-f3c73f98-d2b8-4032-9369-50aa4f47e10e')\"\n",
              "            title=\"Convert this dataframe to an interactive table.\"\n",
              "            style=\"display:none;\">\n",
              "\n",
              "  <svg xmlns=\"http://www.w3.org/2000/svg\" height=\"24px\" viewBox=\"0 -960 960 960\">\n",
              "    <path d=\"M120-120v-720h720v720H120Zm60-500h600v-160H180v160Zm220 220h160v-160H400v160Zm0 220h160v-160H400v160ZM180-400h160v-160H180v160Zm440 0h160v-160H620v160ZM180-180h160v-160H180v160Zm440 0h160v-160H620v160Z\"/>\n",
              "  </svg>\n",
              "    </button>\n",
              "\n",
              "  <style>\n",
              "    .colab-df-container {\n",
              "      display:flex;\n",
              "      gap: 12px;\n",
              "    }\n",
              "\n",
              "    .colab-df-convert {\n",
              "      background-color: #E8F0FE;\n",
              "      border: none;\n",
              "      border-radius: 50%;\n",
              "      cursor: pointer;\n",
              "      display: none;\n",
              "      fill: #1967D2;\n",
              "      height: 32px;\n",
              "      padding: 0 0 0 0;\n",
              "      width: 32px;\n",
              "    }\n",
              "\n",
              "    .colab-df-convert:hover {\n",
              "      background-color: #E2EBFA;\n",
              "      box-shadow: 0px 1px 2px rgba(60, 64, 67, 0.3), 0px 1px 3px 1px rgba(60, 64, 67, 0.15);\n",
              "      fill: #174EA6;\n",
              "    }\n",
              "\n",
              "    .colab-df-buttons div {\n",
              "      margin-bottom: 4px;\n",
              "    }\n",
              "\n",
              "    [theme=dark] .colab-df-convert {\n",
              "      background-color: #3B4455;\n",
              "      fill: #D2E3FC;\n",
              "    }\n",
              "\n",
              "    [theme=dark] .colab-df-convert:hover {\n",
              "      background-color: #434B5C;\n",
              "      box-shadow: 0px 1px 3px 1px rgba(0, 0, 0, 0.15);\n",
              "      filter: drop-shadow(0px 1px 2px rgba(0, 0, 0, 0.3));\n",
              "      fill: #FFFFFF;\n",
              "    }\n",
              "  </style>\n",
              "\n",
              "    <script>\n",
              "      const buttonEl =\n",
              "        document.querySelector('#df-f3c73f98-d2b8-4032-9369-50aa4f47e10e button.colab-df-convert');\n",
              "      buttonEl.style.display =\n",
              "        google.colab.kernel.accessAllowed ? 'block' : 'none';\n",
              "\n",
              "      async function convertToInteractive(key) {\n",
              "        const element = document.querySelector('#df-f3c73f98-d2b8-4032-9369-50aa4f47e10e');\n",
              "        const dataTable =\n",
              "          await google.colab.kernel.invokeFunction('convertToInteractive',\n",
              "                                                    [key], {});\n",
              "        if (!dataTable) return;\n",
              "\n",
              "        const docLinkHtml = 'Like what you see? Visit the ' +\n",
              "          '<a target=\"_blank\" href=https://colab.research.google.com/notebooks/data_table.ipynb>data table notebook</a>'\n",
              "          + ' to learn more about interactive tables.';\n",
              "        element.innerHTML = '';\n",
              "        dataTable['output_type'] = 'display_data';\n",
              "        await google.colab.output.renderOutput(dataTable, element);\n",
              "        const docLink = document.createElement('div');\n",
              "        docLink.innerHTML = docLinkHtml;\n",
              "        element.appendChild(docLink);\n",
              "      }\n",
              "    </script>\n",
              "  </div>\n",
              "\n",
              "\n",
              "<div id=\"df-21a00282-b500-448e-ab0a-569ec8fb480c\">\n",
              "  <button class=\"colab-df-quickchart\" onclick=\"quickchart('df-21a00282-b500-448e-ab0a-569ec8fb480c')\"\n",
              "            title=\"Suggest charts\"\n",
              "            style=\"display:none;\">\n",
              "\n",
              "<svg xmlns=\"http://www.w3.org/2000/svg\" height=\"24px\"viewBox=\"0 0 24 24\"\n",
              "     width=\"24px\">\n",
              "    <g>\n",
              "        <path d=\"M19 3H5c-1.1 0-2 .9-2 2v14c0 1.1.9 2 2 2h14c1.1 0 2-.9 2-2V5c0-1.1-.9-2-2-2zM9 17H7v-7h2v7zm4 0h-2V7h2v10zm4 0h-2v-4h2v4z\"/>\n",
              "    </g>\n",
              "</svg>\n",
              "  </button>\n",
              "\n",
              "<style>\n",
              "  .colab-df-quickchart {\n",
              "      --bg-color: #E8F0FE;\n",
              "      --fill-color: #1967D2;\n",
              "      --hover-bg-color: #E2EBFA;\n",
              "      --hover-fill-color: #174EA6;\n",
              "      --disabled-fill-color: #AAA;\n",
              "      --disabled-bg-color: #DDD;\n",
              "  }\n",
              "\n",
              "  [theme=dark] .colab-df-quickchart {\n",
              "      --bg-color: #3B4455;\n",
              "      --fill-color: #D2E3FC;\n",
              "      --hover-bg-color: #434B5C;\n",
              "      --hover-fill-color: #FFFFFF;\n",
              "      --disabled-bg-color: #3B4455;\n",
              "      --disabled-fill-color: #666;\n",
              "  }\n",
              "\n",
              "  .colab-df-quickchart {\n",
              "    background-color: var(--bg-color);\n",
              "    border: none;\n",
              "    border-radius: 50%;\n",
              "    cursor: pointer;\n",
              "    display: none;\n",
              "    fill: var(--fill-color);\n",
              "    height: 32px;\n",
              "    padding: 0;\n",
              "    width: 32px;\n",
              "  }\n",
              "\n",
              "  .colab-df-quickchart:hover {\n",
              "    background-color: var(--hover-bg-color);\n",
              "    box-shadow: 0 1px 2px rgba(60, 64, 67, 0.3), 0 1px 3px 1px rgba(60, 64, 67, 0.15);\n",
              "    fill: var(--button-hover-fill-color);\n",
              "  }\n",
              "\n",
              "  .colab-df-quickchart-complete:disabled,\n",
              "  .colab-df-quickchart-complete:disabled:hover {\n",
              "    background-color: var(--disabled-bg-color);\n",
              "    fill: var(--disabled-fill-color);\n",
              "    box-shadow: none;\n",
              "  }\n",
              "\n",
              "  .colab-df-spinner {\n",
              "    border: 2px solid var(--fill-color);\n",
              "    border-color: transparent;\n",
              "    border-bottom-color: var(--fill-color);\n",
              "    animation:\n",
              "      spin 1s steps(1) infinite;\n",
              "  }\n",
              "\n",
              "  @keyframes spin {\n",
              "    0% {\n",
              "      border-color: transparent;\n",
              "      border-bottom-color: var(--fill-color);\n",
              "      border-left-color: var(--fill-color);\n",
              "    }\n",
              "    20% {\n",
              "      border-color: transparent;\n",
              "      border-left-color: var(--fill-color);\n",
              "      border-top-color: var(--fill-color);\n",
              "    }\n",
              "    30% {\n",
              "      border-color: transparent;\n",
              "      border-left-color: var(--fill-color);\n",
              "      border-top-color: var(--fill-color);\n",
              "      border-right-color: var(--fill-color);\n",
              "    }\n",
              "    40% {\n",
              "      border-color: transparent;\n",
              "      border-right-color: var(--fill-color);\n",
              "      border-top-color: var(--fill-color);\n",
              "    }\n",
              "    60% {\n",
              "      border-color: transparent;\n",
              "      border-right-color: var(--fill-color);\n",
              "    }\n",
              "    80% {\n",
              "      border-color: transparent;\n",
              "      border-right-color: var(--fill-color);\n",
              "      border-bottom-color: var(--fill-color);\n",
              "    }\n",
              "    90% {\n",
              "      border-color: transparent;\n",
              "      border-bottom-color: var(--fill-color);\n",
              "    }\n",
              "  }\n",
              "</style>\n",
              "\n",
              "  <script>\n",
              "    async function quickchart(key) {\n",
              "      const quickchartButtonEl =\n",
              "        document.querySelector('#' + key + ' button');\n",
              "      quickchartButtonEl.disabled = true;  // To prevent multiple clicks.\n",
              "      quickchartButtonEl.classList.add('colab-df-spinner');\n",
              "      try {\n",
              "        const charts = await google.colab.kernel.invokeFunction(\n",
              "            'suggestCharts', [key], {});\n",
              "      } catch (error) {\n",
              "        console.error('Error during call to suggestCharts:', error);\n",
              "      }\n",
              "      quickchartButtonEl.classList.remove('colab-df-spinner');\n",
              "      quickchartButtonEl.classList.add('colab-df-quickchart-complete');\n",
              "    }\n",
              "    (() => {\n",
              "      let quickchartButtonEl =\n",
              "        document.querySelector('#df-21a00282-b500-448e-ab0a-569ec8fb480c button');\n",
              "      quickchartButtonEl.style.display =\n",
              "        google.colab.kernel.accessAllowed ? 'block' : 'none';\n",
              "    })();\n",
              "  </script>\n",
              "</div>\n",
              "    </div>\n",
              "  </div>\n"
            ],
            "text/plain": [
              "               given_name    surname street_number             address_1  \\\n",
              "rec_id                                                                     \n",
              "rec-561-dup-0       elton        NaN             3         light setreet   \n",
              "rec-2642-dup-0   mitchell      maxon            47         edkins street   \n",
              "rec-608-dup-0         NaN      white            72       lambrigg street   \n",
              "rec-3239-dup-0      elk i    menzies             1          lyster place   \n",
              "rec-2886-dup-0        NaN  garanggar           NaN  may maxwell crescent   \n",
              "...                   ...        ...           ...                   ...   \n",
              "rec-4495-dup-0     connor   belperio            15                   NaN   \n",
              "rec-4211-dup-0     daniel      maspn             9   derrington crescent   \n",
              "rec-3131-dup-0     samuel      crofs           613        banjine street   \n",
              "rec-3815-dup-0       saah    beattih            60           kay's place   \n",
              "rec-493-dup-0         NaN  blackwell           127         ferrier place   \n",
              "\n",
              "                            address_2             suburb postcode state  \\\n",
              "rec_id                                                                    \n",
              "rec-561-dup-0                pinehill         windermere     3212   vic   \n",
              "rec-2642-dup-0              lochaoair         north ryde     3355   nsw   \n",
              "rec-608-dup-0                kelgoola  broadbeach waters     3159   vic   \n",
              "rec-3239-dup-0                    NaN          northwood     2585   vic   \n",
              "rec-2886-dup-0     springettst arcade        forest hill     2342   vic   \n",
              "...                               ...                ...      ...   ...   \n",
              "rec-4495-dup-0                    NaN               ryde     2570   nsw   \n",
              "rec-4211-dup-0  el pedro caravan park          sunnybank     4350   vic   \n",
              "rec-3131-dup-0         kurrajong vlge            pengzin     2230   qld   \n",
              "rec-3815-dup-0        oldershaw court           ashfield     2047   vic   \n",
              "rec-493-dup-0         northwood npark    chelsea heights     4211   qld   \n",
              "\n",
              "               date_of_birth soc_sec_id  \n",
              "rec_id                                   \n",
              "rec-561-dup-0       19651013    1551941  \n",
              "rec-2642-dup-0      19390212    8859999  \n",
              "rec-608-dup-0       19620216    9731855  \n",
              "rec-3239-dup-0      19980624    4970481  \n",
              "rec-2886-dup-0      19921016    1366884  \n",
              "...                      ...        ...  \n",
              "rec-4495-dup-0      19170518    5394641  \n",
              "rec-4211-dup-0      19500705    5525378  \n",
              "rec-3131-dup-0      19410531    4467228  \n",
              "rec-3815-dup-0      19500712    9435148  \n",
              "rec-493-dup-0       19570409    8541055  \n",
              "\n",
              "[5000 rows x 10 columns]"
            ]
          },
          "execution_count": 24,
          "metadata": {},
          "output_type": "execute_result"
        }
      ],
      "source": [
        "# LOCAL environment\n",
        "large_dfB"
      ]
    },
    {
      "cell_type": "markdown",
      "metadata": {
        "collapsed": false,
        "id": "61ra6lGcdo4Q"
      },
      "source": [
        "Setting up an indexing rule to generate candidate links on which we can further filter using various comparison rules."
      ]
    },
    {
      "cell_type": "code",
      "execution_count": 25,
      "metadata": {
        "ExecuteTime": {
          "end_time": "2023-10-18T21:54:26.260322Z",
          "start_time": "2023-10-18T21:54:26.252752Z"
        },
        "colab": {
          "base_uri": "https://localhost:8080/"
        },
        "id": "xMjqQED_do4Q",
        "outputId": "32b2787b-7ef0-4644-989d-d8dd32139b8a"
      },
      "outputs": [
        {
          "name": "stdout",
          "output_type": "stream",
          "text": [
            "Total number of candidate links = 29920\n",
            "\n"
          ]
        }
      ],
      "source": [
        "%%ag\n",
        "import op_recordlinkage as rl\n",
        "# Applying block indexing against some of the\n",
        "indexer = rl.Index()\n",
        "indexer.block(left_on='date_of_birth',right_on='date_of_birth')\n",
        "indexer.block(left_on='postcode',right_on='postcode')\n",
        "links = indexer.index(large_pdfA,large_pdfB)\n",
        "ag_print(f\"Total number of candidate links = {links.count(eps=0.1)}\")"
      ]
    },
    {
      "cell_type": "code",
      "execution_count": 26,
      "metadata": {
        "id": "P5-BpNyUdo4Q"
      },
      "outputs": [],
      "source": [
        "# LOCAL environment | Setting up the candidate links locally for testing purpose.\n",
        "indexer = rl.Index()\n",
        "indexer.block(left_on='date_of_birth',right_on='date_of_birth')\n",
        "indexer.block(left_on='postcode',right_on='postcode')\n",
        "links = indexer.index(large_dfA,large_dfB)"
      ]
    },
    {
      "cell_type": "markdown",
      "metadata": {
        "collapsed": false,
        "id": "yHoUwtyCdo4Q"
      },
      "source": [
        "### **Exact Compare Rule**\n",
        "\n",
        "The exact compare rule in record linkage refers to a method where two fields or attributes from different records are compared to determine if they are exactly the same. This means that the values must match character for character, with no deviations. If the two fields are identical, the comparison yields a match; otherwise, it does not.\n",
        "\n",
        "**When to Use It:**\n",
        "1. **High-Quality Data:** When you're confident about the consistency and accuracy of the data, and there's no room for typos, abbreviations, or variations.\n",
        "\n",
        "2. **Unique Identifiers:** For fields that contain unique identifiers such as Social Security Numbers, employee IDs, or product codes. In these cases, even a single character difference indicates distinct entities.\n",
        "\n",
        "3. **Binary or Categorical Data:** Fields with a limited set of values, like gender (Male/Female) or a Yes/No flag.\n",
        "\n",
        "4. **Consistent Formatting:** When you're certain that data formats are consistent across datasets, such as date fields always being in the \"YYYY-MM-DD\" format.\n",
        "\n",
        "5. **Performance Considerations:** Exact matching is typically faster than fuzzy matching, so if computational efficiency is a concern and the data's nature permits, exact matching can be a good choice.\n"
      ]
    },
    {
      "cell_type": "code",
      "execution_count": 27,
      "metadata": {
        "ExecuteTime": {
          "end_time": "2023-10-15T15:50:49.075046Z",
          "start_time": "2023-10-15T15:50:46.948251Z"
        },
        "colab": {
          "base_uri": "https://localhost:8080/"
        },
        "id": "51-FcFugdo4Q",
        "outputId": "64a44410-89a1-48c0-a73f-9585eeff4471"
      },
      "outputs": [
        {
          "name": "stdout",
          "output_type": "stream",
          "text": [
            "social_compare     0.150171\n",
            "name_compare       0.110859\n",
            "address_compare    0.098501\n",
            "dtype: float64\n",
            "\n"
          ]
        }
      ],
      "source": [
        "%%ag\n",
        "compare = rl.Compare()\n",
        "compare.exact(left_on='soc_sec_id',right_on='soc_sec_id',label='social_compare')\n",
        "compare.exact(left_on='given_name',right_on='given_name',label='name_compare')\n",
        "compare.exact(left_on='address_1',right_on='address_1',label='address_compare')\n",
        "features = compare.compute(links,large_pdfA,large_pdfB)\n",
        "ag_print(features.mean(eps=1))"
      ]
    },
    {
      "cell_type": "code",
      "execution_count": 28,
      "metadata": {
        "ExecuteTime": {
          "end_time": "2023-10-15T15:46:37.157056Z",
          "start_time": "2023-10-15T15:46:37.112422Z"
        },
        "colab": {
          "base_uri": "https://localhost:8080/",
          "height": 455
        },
        "id": "HmmGRAomdo4Q",
        "outputId": "da33bb2d-e5fe-408c-8f70-ba6bb3ba5a79"
      },
      "outputs": [
        {
          "data": {
            "text/html": [
              "\n",
              "  <div id=\"df-e8f89e89-1d43-484b-aad7-af839a5a52df\" class=\"colab-df-container\">\n",
              "    <div>\n",
              "<style scoped>\n",
              "    .dataframe tbody tr th:only-of-type {\n",
              "        vertical-align: middle;\n",
              "    }\n",
              "\n",
              "    .dataframe tbody tr th {\n",
              "        vertical-align: top;\n",
              "    }\n",
              "\n",
              "    .dataframe thead th {\n",
              "        text-align: right;\n",
              "    }\n",
              "</style>\n",
              "<table border=\"1\" class=\"dataframe\">\n",
              "  <thead>\n",
              "    <tr style=\"text-align: right;\">\n",
              "      <th></th>\n",
              "      <th></th>\n",
              "      <th>social_id</th>\n",
              "      <th>name</th>\n",
              "      <th>address</th>\n",
              "    </tr>\n",
              "    <tr>\n",
              "      <th>rec_id_1</th>\n",
              "      <th>rec_id_2</th>\n",
              "      <th></th>\n",
              "      <th></th>\n",
              "      <th></th>\n",
              "    </tr>\n",
              "  </thead>\n",
              "  <tbody>\n",
              "    <tr>\n",
              "      <th rowspan=\"2\" valign=\"top\">rec-0-org</th>\n",
              "      <th>rec-0-dup-0</th>\n",
              "      <td>1</td>\n",
              "      <td>1</td>\n",
              "      <td>1</td>\n",
              "    </tr>\n",
              "    <tr>\n",
              "      <th>rec-2526-dup-0</th>\n",
              "      <td>0</td>\n",
              "      <td>0</td>\n",
              "      <td>0</td>\n",
              "    </tr>\n",
              "    <tr>\n",
              "      <th rowspan=\"2\" valign=\"top\">rec-1-org</th>\n",
              "      <th>rec-1-dup-0</th>\n",
              "      <td>1</td>\n",
              "      <td>1</td>\n",
              "      <td>0</td>\n",
              "    </tr>\n",
              "    <tr>\n",
              "      <th>rec-451-dup-0</th>\n",
              "      <td>0</td>\n",
              "      <td>0</td>\n",
              "      <td>0</td>\n",
              "    </tr>\n",
              "    <tr>\n",
              "      <th>rec-10-org</th>\n",
              "      <th>rec-10-dup-0</th>\n",
              "      <td>1</td>\n",
              "      <td>0</td>\n",
              "      <td>1</td>\n",
              "    </tr>\n",
              "    <tr>\n",
              "      <th>...</th>\n",
              "      <th>...</th>\n",
              "      <td>...</td>\n",
              "      <td>...</td>\n",
              "      <td>...</td>\n",
              "    </tr>\n",
              "    <tr>\n",
              "      <th rowspan=\"5\" valign=\"top\">rec-999-org</th>\n",
              "      <th>rec-1916-dup-0</th>\n",
              "      <td>0</td>\n",
              "      <td>0</td>\n",
              "      <td>0</td>\n",
              "    </tr>\n",
              "    <tr>\n",
              "      <th>rec-2424-dup-0</th>\n",
              "      <td>0</td>\n",
              "      <td>0</td>\n",
              "      <td>0</td>\n",
              "    </tr>\n",
              "    <tr>\n",
              "      <th>rec-3472-dup-0</th>\n",
              "      <td>0</td>\n",
              "      <td>0</td>\n",
              "      <td>0</td>\n",
              "    </tr>\n",
              "    <tr>\n",
              "      <th>rec-3537-dup-0</th>\n",
              "      <td>0</td>\n",
              "      <td>0</td>\n",
              "      <td>0</td>\n",
              "    </tr>\n",
              "    <tr>\n",
              "      <th>rec-999-dup-0</th>\n",
              "      <td>1</td>\n",
              "      <td>1</td>\n",
              "      <td>1</td>\n",
              "    </tr>\n",
              "  </tbody>\n",
              "</table>\n",
              "<p>29959 rows × 3 columns</p>\n",
              "</div>\n",
              "    <div class=\"colab-df-buttons\">\n",
              "\n",
              "  <div class=\"colab-df-container\">\n",
              "    <button class=\"colab-df-convert\" onclick=\"convertToInteractive('df-e8f89e89-1d43-484b-aad7-af839a5a52df')\"\n",
              "            title=\"Convert this dataframe to an interactive table.\"\n",
              "            style=\"display:none;\">\n",
              "\n",
              "  <svg xmlns=\"http://www.w3.org/2000/svg\" height=\"24px\" viewBox=\"0 -960 960 960\">\n",
              "    <path d=\"M120-120v-720h720v720H120Zm60-500h600v-160H180v160Zm220 220h160v-160H400v160Zm0 220h160v-160H400v160ZM180-400h160v-160H180v160Zm440 0h160v-160H620v160ZM180-180h160v-160H180v160Zm440 0h160v-160H620v160Z\"/>\n",
              "  </svg>\n",
              "    </button>\n",
              "\n",
              "  <style>\n",
              "    .colab-df-container {\n",
              "      display:flex;\n",
              "      gap: 12px;\n",
              "    }\n",
              "\n",
              "    .colab-df-convert {\n",
              "      background-color: #E8F0FE;\n",
              "      border: none;\n",
              "      border-radius: 50%;\n",
              "      cursor: pointer;\n",
              "      display: none;\n",
              "      fill: #1967D2;\n",
              "      height: 32px;\n",
              "      padding: 0 0 0 0;\n",
              "      width: 32px;\n",
              "    }\n",
              "\n",
              "    .colab-df-convert:hover {\n",
              "      background-color: #E2EBFA;\n",
              "      box-shadow: 0px 1px 2px rgba(60, 64, 67, 0.3), 0px 1px 3px 1px rgba(60, 64, 67, 0.15);\n",
              "      fill: #174EA6;\n",
              "    }\n",
              "\n",
              "    .colab-df-buttons div {\n",
              "      margin-bottom: 4px;\n",
              "    }\n",
              "\n",
              "    [theme=dark] .colab-df-convert {\n",
              "      background-color: #3B4455;\n",
              "      fill: #D2E3FC;\n",
              "    }\n",
              "\n",
              "    [theme=dark] .colab-df-convert:hover {\n",
              "      background-color: #434B5C;\n",
              "      box-shadow: 0px 1px 3px 1px rgba(0, 0, 0, 0.15);\n",
              "      filter: drop-shadow(0px 1px 2px rgba(0, 0, 0, 0.3));\n",
              "      fill: #FFFFFF;\n",
              "    }\n",
              "  </style>\n",
              "\n",
              "    <script>\n",
              "      const buttonEl =\n",
              "        document.querySelector('#df-e8f89e89-1d43-484b-aad7-af839a5a52df button.colab-df-convert');\n",
              "      buttonEl.style.display =\n",
              "        google.colab.kernel.accessAllowed ? 'block' : 'none';\n",
              "\n",
              "      async function convertToInteractive(key) {\n",
              "        const element = document.querySelector('#df-e8f89e89-1d43-484b-aad7-af839a5a52df');\n",
              "        const dataTable =\n",
              "          await google.colab.kernel.invokeFunction('convertToInteractive',\n",
              "                                                    [key], {});\n",
              "        if (!dataTable) return;\n",
              "\n",
              "        const docLinkHtml = 'Like what you see? Visit the ' +\n",
              "          '<a target=\"_blank\" href=https://colab.research.google.com/notebooks/data_table.ipynb>data table notebook</a>'\n",
              "          + ' to learn more about interactive tables.';\n",
              "        element.innerHTML = '';\n",
              "        dataTable['output_type'] = 'display_data';\n",
              "        await google.colab.output.renderOutput(dataTable, element);\n",
              "        const docLink = document.createElement('div');\n",
              "        docLink.innerHTML = docLinkHtml;\n",
              "        element.appendChild(docLink);\n",
              "      }\n",
              "    </script>\n",
              "  </div>\n",
              "\n",
              "\n",
              "<div id=\"df-647e8a99-6339-439f-b9ca-0244f87450cf\">\n",
              "  <button class=\"colab-df-quickchart\" onclick=\"quickchart('df-647e8a99-6339-439f-b9ca-0244f87450cf')\"\n",
              "            title=\"Suggest charts\"\n",
              "            style=\"display:none;\">\n",
              "\n",
              "<svg xmlns=\"http://www.w3.org/2000/svg\" height=\"24px\"viewBox=\"0 0 24 24\"\n",
              "     width=\"24px\">\n",
              "    <g>\n",
              "        <path d=\"M19 3H5c-1.1 0-2 .9-2 2v14c0 1.1.9 2 2 2h14c1.1 0 2-.9 2-2V5c0-1.1-.9-2-2-2zM9 17H7v-7h2v7zm4 0h-2V7h2v10zm4 0h-2v-4h2v4z\"/>\n",
              "    </g>\n",
              "</svg>\n",
              "  </button>\n",
              "\n",
              "<style>\n",
              "  .colab-df-quickchart {\n",
              "      --bg-color: #E8F0FE;\n",
              "      --fill-color: #1967D2;\n",
              "      --hover-bg-color: #E2EBFA;\n",
              "      --hover-fill-color: #174EA6;\n",
              "      --disabled-fill-color: #AAA;\n",
              "      --disabled-bg-color: #DDD;\n",
              "  }\n",
              "\n",
              "  [theme=dark] .colab-df-quickchart {\n",
              "      --bg-color: #3B4455;\n",
              "      --fill-color: #D2E3FC;\n",
              "      --hover-bg-color: #434B5C;\n",
              "      --hover-fill-color: #FFFFFF;\n",
              "      --disabled-bg-color: #3B4455;\n",
              "      --disabled-fill-color: #666;\n",
              "  }\n",
              "\n",
              "  .colab-df-quickchart {\n",
              "    background-color: var(--bg-color);\n",
              "    border: none;\n",
              "    border-radius: 50%;\n",
              "    cursor: pointer;\n",
              "    display: none;\n",
              "    fill: var(--fill-color);\n",
              "    height: 32px;\n",
              "    padding: 0;\n",
              "    width: 32px;\n",
              "  }\n",
              "\n",
              "  .colab-df-quickchart:hover {\n",
              "    background-color: var(--hover-bg-color);\n",
              "    box-shadow: 0 1px 2px rgba(60, 64, 67, 0.3), 0 1px 3px 1px rgba(60, 64, 67, 0.15);\n",
              "    fill: var(--button-hover-fill-color);\n",
              "  }\n",
              "\n",
              "  .colab-df-quickchart-complete:disabled,\n",
              "  .colab-df-quickchart-complete:disabled:hover {\n",
              "    background-color: var(--disabled-bg-color);\n",
              "    fill: var(--disabled-fill-color);\n",
              "    box-shadow: none;\n",
              "  }\n",
              "\n",
              "  .colab-df-spinner {\n",
              "    border: 2px solid var(--fill-color);\n",
              "    border-color: transparent;\n",
              "    border-bottom-color: var(--fill-color);\n",
              "    animation:\n",
              "      spin 1s steps(1) infinite;\n",
              "  }\n",
              "\n",
              "  @keyframes spin {\n",
              "    0% {\n",
              "      border-color: transparent;\n",
              "      border-bottom-color: var(--fill-color);\n",
              "      border-left-color: var(--fill-color);\n",
              "    }\n",
              "    20% {\n",
              "      border-color: transparent;\n",
              "      border-left-color: var(--fill-color);\n",
              "      border-top-color: var(--fill-color);\n",
              "    }\n",
              "    30% {\n",
              "      border-color: transparent;\n",
              "      border-left-color: var(--fill-color);\n",
              "      border-top-color: var(--fill-color);\n",
              "      border-right-color: var(--fill-color);\n",
              "    }\n",
              "    40% {\n",
              "      border-color: transparent;\n",
              "      border-right-color: var(--fill-color);\n",
              "      border-top-color: var(--fill-color);\n",
              "    }\n",
              "    60% {\n",
              "      border-color: transparent;\n",
              "      border-right-color: var(--fill-color);\n",
              "    }\n",
              "    80% {\n",
              "      border-color: transparent;\n",
              "      border-right-color: var(--fill-color);\n",
              "      border-bottom-color: var(--fill-color);\n",
              "    }\n",
              "    90% {\n",
              "      border-color: transparent;\n",
              "      border-bottom-color: var(--fill-color);\n",
              "    }\n",
              "  }\n",
              "</style>\n",
              "\n",
              "  <script>\n",
              "    async function quickchart(key) {\n",
              "      const quickchartButtonEl =\n",
              "        document.querySelector('#' + key + ' button');\n",
              "      quickchartButtonEl.disabled = true;  // To prevent multiple clicks.\n",
              "      quickchartButtonEl.classList.add('colab-df-spinner');\n",
              "      try {\n",
              "        const charts = await google.colab.kernel.invokeFunction(\n",
              "            'suggestCharts', [key], {});\n",
              "      } catch (error) {\n",
              "        console.error('Error during call to suggestCharts:', error);\n",
              "      }\n",
              "      quickchartButtonEl.classList.remove('colab-df-spinner');\n",
              "      quickchartButtonEl.classList.add('colab-df-quickchart-complete');\n",
              "    }\n",
              "    (() => {\n",
              "      let quickchartButtonEl =\n",
              "        document.querySelector('#df-647e8a99-6339-439f-b9ca-0244f87450cf button');\n",
              "      quickchartButtonEl.style.display =\n",
              "        google.colab.kernel.accessAllowed ? 'block' : 'none';\n",
              "    })();\n",
              "  </script>\n",
              "</div>\n",
              "    </div>\n",
              "  </div>\n"
            ],
            "text/plain": [
              "                            social_id  name  address\n",
              "rec_id_1    rec_id_2                                \n",
              "rec-0-org   rec-0-dup-0             1     1        1\n",
              "            rec-2526-dup-0          0     0        0\n",
              "rec-1-org   rec-1-dup-0             1     1        0\n",
              "            rec-451-dup-0           0     0        0\n",
              "rec-10-org  rec-10-dup-0            1     0        1\n",
              "...                               ...   ...      ...\n",
              "rec-999-org rec-1916-dup-0          0     0        0\n",
              "            rec-2424-dup-0          0     0        0\n",
              "            rec-3472-dup-0          0     0        0\n",
              "            rec-3537-dup-0          0     0        0\n",
              "            rec-999-dup-0           1     1        1\n",
              "\n",
              "[29959 rows x 3 columns]"
            ]
          },
          "execution_count": 28,
          "metadata": {},
          "output_type": "execute_result"
        }
      ],
      "source": [
        "# LOCAL environment | Showing how the features matrix looks as a non-private dataframe.\n",
        "compare = rl.Compare()\n",
        "compare.exact(left_on='soc_sec_id',right_on='soc_sec_id',label='social_id')\n",
        "compare.exact(left_on='given_name',right_on='given_name',label='name')\n",
        "compare.exact(left_on='address_1',right_on='address_1',label='address')\n",
        "features = compare.compute(links,large_dfA,large_dfB)\n",
        "features"
      ]
    },
    {
      "cell_type": "markdown",
      "metadata": {
        "collapsed": false,
        "id": "xI6ZjbwQdo4Q"
      },
      "source": [
        "### **String Compare Rule**\n",
        "\n",
        "\n",
        "1. `jaro`:\n",
        "   - Measures the similarity between two strings. It accounts for characters in common and the number of transpositions between the two strings.\n",
        "   - **Use-case**: Effective for shorter strings, such as names.\n",
        "\n",
        "2. `jarowinkler`:\n",
        "   - An extension of the Jaro similarity metric. It's more favourable to strings that match from the beginning. A prefix scale is applied which gives more favourable ratings to strings that match from the start.\n",
        "   - **Use-case**: Especially beneficial for personal names where prefixes can be crucial.\n",
        "\n",
        "3. `levenshtein`:\n",
        "   - Calculates the minimum number of single-character edits (i.e., insertions, deletions, or substitutions) to change one word into the other.\n",
        "   - **Use-case**: Useful for fields that might have minor typos or misspellings.\n",
        "\n",
        "4. `damerau_levenshtein`:\n",
        "   - A variant of the Levenshtein distance. It allows transpositions (switches of two adjacent characters) alongside the usual edits.\n",
        "   - **Use-case**: Efficient for capturing common typing errors where two neighboring characters are accidentally swapped.\n",
        "\n",
        "5. `qgram`:\n",
        "   - The Q-gram method divides strings into overlapping substrings of length `q` (often 2, called bigrams). The similarity score then relies on the count of shared q-grams between the two strings.\n",
        "   - **Use-case**: Suitable for longer text fields, capturing more contextual similarities.\n",
        "\n",
        "6. `cosine`:\n",
        "   - Cosine similarity measures the cosine of the angle between two vectors. In the context of text, these vectors can be formed by term frequency (like bag-of-words).\n",
        "   - **Use-case**: Effective for comparing longer texts or when the order of words isn't critical.\n",
        "\n",
        "7. `smith_waterman`:\n",
        "   - A local sequence alignment method that identifies the optimal local alignments by ignoring the more divergent sections.\n",
        "   - **Use-case**: Suitable when comparing sequences where parts of the sequence are believed to be more relevant than the entirety.\n",
        "\n",
        "8. `lcs`:\n",
        "   - **Description**: Measures the longest sequence of characters that are common between two strings without considering the positions of characters in terms of the entire string.\n",
        "   - **Use-case**: Useful when there are substrings in common, but scattered throughout the string.\n",
        "\n",
        "When choosing a string similarity algorithm, the nature of the data and the specific application play critical roles. To get optimal matching results, it's often beneficial to experiment with various algorithms and even combine them, adjusting their weights."
      ]
    },
    {
      "cell_type": "code",
      "execution_count": 29,
      "metadata": {
        "ExecuteTime": {
          "end_time": "2023-10-18T22:46:12.439549Z",
          "start_time": "2023-10-18T22:46:08.662682Z"
        },
        "colab": {
          "base_uri": "https://localhost:8080/"
        },
        "id": "mFQTW7Kfdo4R",
        "outputId": "4b782b13-469c-4ad3-a31a-3953357ee44d"
      },
      "outputs": [
        {
          "name": "stdout",
          "output_type": "stream",
          "text": [
            "\u001b[0;31mKeyError\u001b[0m: 'label is not found in the dataframe'\n"
          ]
        }
      ],
      "source": [
        "%%ag\n",
        "compare = rl.Compare()\n",
        "compare.string(left_on='address',right_on='address_1',label='address_1',method='cosine')\n",
        "compare.string(left_on='given_name',right_on='given_name',label='name',method='jaro')\n",
        "features = compare.compute(links,large_pdfA,large_pdfB)\n"
      ]
    },
    {
      "cell_type": "code",
      "execution_count": null,
      "metadata": {
        "ExecuteTime": {
          "end_time": "2023-10-16T15:40:58.930911Z",
          "start_time": "2023-10-16T15:40:57.055586Z"
        },
        "id": "TUniX7rYdo4R"
      },
      "outputs": [],
      "source": [
        "# LOCAL environment | Evaluating various string compare algorithms against names.\n",
        "algorithms = ['jaro' , 'jarowinkler','levenshtein','damerau_levenshtein','qgram','cosine','smith_waterman','lcs']\n",
        "\n",
        "compare_names = rl.Compare()\n",
        "for i in algorithms:\n",
        "  compare_names.string(left_on='given_name',right_on='given_name',label='name_'+i,method=i)\n",
        "feature_names = compare_names.compute(links,large_dfA,large_dfB)\n",
        "plt.figure(figsize=(20,5))\n",
        "sns.boxplot(data=feature_names)\n",
        "plt.show()"
      ]
    },
    {
      "cell_type": "markdown",
      "metadata": {
        "id": "ARRU5WJVX10z"
      },
      "source": [
        "Plotting the ranges of weights obtained for each algorithm. We can see that `jaro` and `jarowinkler` has better average matching score compared to other algorithms. Hence , they are good for matching with some margin of error. Other algorithms are more strict with respect to the matching scores obtained and seem to better for strict matching."
      ]
    },
    {
      "cell_type": "code",
      "execution_count": 30,
      "metadata": {
        "ExecuteTime": {
          "end_time": "2023-10-18T22:45:58.555927Z",
          "start_time": "2023-10-18T22:45:52.880749Z"
        },
        "colab": {
          "base_uri": "https://localhost:8080/",
          "height": 364
        },
        "id": "M-oZpaZHdo4R",
        "outputId": "e57bb296-ddce-4439-ef4a-bb33ab3e8bbf"
      },
      "outputs": [
        {
          "data": {
            "image/png": "[encoded data removed]",
            "text/plain": [
              "<Figure size 2000x500 with 1 Axes>"
            ]
          },
          "metadata": {},
          "output_type": "display_data"
        }
      ],
      "source": [
        "# LOCAL environment | Evaluating various string compare algorithms against addresses.\n",
        "algorithms = ['jaro' , 'jarowinkler','levenshtein','damerau_levenshtein','qgram','cosine','smith_waterman','lcs']\n",
        "\n",
        "compare_address = rl.Compare()\n",
        "for i in algorithms:\n",
        "  compare_address.string(left_on='address_1',right_on='address_1',label='add_'+i,method=i)\n",
        "feature_address = compare_address.compute(links,large_dfA,large_dfB)\n",
        "\n",
        "plt.figure(figsize=(20,5))\n",
        "sns.boxplot(data=feature_address)\n",
        "plt.show()"
      ]
    },
    {
      "cell_type": "markdown",
      "metadata": {
        "collapsed": false,
        "id": "vp2ZSceudo4R"
      },
      "source": [
        "## **Other compare rules**\n",
        "\n",
        "### Compare.numeric()\n",
        "This class is used to compare numeric values.\n",
        "1. **Step Function (`'step'`)**:\n",
        "    - This function assigns a similarity of 1 if the absolute difference between two numbers is less than a specified offset. Otherwise, it assigns a similarity of 0. It's a sharp cutoff, meaning that small deviations in the numeric values can yield a similarity of 0.\n",
        "\n",
        "2. **Linear Function (`'linear'`)**:\n",
        "    - The similarity decreases linearly with the absolute difference between two numbers. The function starts at 1 (for identical values) and linearly decreases to 0 as the difference increases. You can control the rate of decline by adjusting the `scale` parameter.\n",
        "\n",
        "3. **Exponential Function (`'exp'`)**:\n",
        "    - This function decreases the similarity exponentially based on the absolute difference between two numbers. The rate of decrease can be controlled by the `scale` parameter.\n",
        "\n",
        "4. **Gaussian Function (`'gauss'`)**:\n",
        "    - The similarity is calculated based on the Gaussian (normal) distribution. The function gives a similarity of 1 for identical values, and the similarity diminishes in a bell curve manner as the difference increases.\n",
        "\n",
        "5. **Squared Function (`'squared'`)**:\n",
        "    - Similar to the exponential function, but the decrease in similarity is based on the square of the difference between two numbers.\n",
        "\n",
        "![](https://recordlinkage.readthedocs.io/en/latest/_images/elas_1705.png)\n",
        "\n",
        "Parameters to be aware of:\n",
        "\n",
        "- **offset**: Defines the absolute difference below which two numbers are considered similar (for the step function).\n",
        "- **scale**: Controls the rate of decline in similarity for the linear, exponential, and Gaussian functions.\n",
        "- **origin**: The center of the similarity function. For the step function, it defines the point at which the similarity drops from 1 to 0.\n",
        "- **missing_value**: The value to assign when a comparison involves a missing value.\n",
        "\n",
        "### Compare.geo()\n",
        "The `recordlinkage.compare.geo()` is designed to evaluate the similarity between two geographic locations specified by their WGS84 coordinates (latitude and longitude). This method takes into account the Earth's curvature and computes the haversine distance, which calculates the shortest distance between two points on the surface of a sphere. This makes it suitable for comparing real-world geographical coordinates.\n",
        "\n",
        "The similarity algorithms are ‘step’, ‘linear’, ‘exp’, ‘gauss’ or ‘squared’. The similarity functions are the same as in `recordlinkage.Compare.numeric()`\n",
        "\n",
        "<br/>\n",
        "\n",
        "### Compare.date()\n",
        "The `recordlinkage.compare.date()`  is devised to compute the similarity between two date values, especially focusing on common errors and discrepancies observed in date records. These discrepancies can be due to human errors, typos, or certain automated data entry systems.\n",
        "\n",
        "Key Features:\n",
        "- **Handling Month-Day Swap**: The class can account for situations where the day and month in a date might have been swapped, which is a common mistake in data entry.\n",
        "- **Handling Month Number Translation Errors**: The class can also handle errors that arise when months are translated into numbers. For instance, mistakenly translating \"October\" as \"9\" instead of \"10\".\n",
        "\n"
      ]
    },
    {
      "cell_type": "markdown",
      "metadata": {
        "collapsed": false,
        "id": "3NOjpp7xdo4R"
      },
      "source": [
        "\n",
        "## **Custom Comparison**\n",
        "\n",
        "`recordlinkage` allows for custom comparison functions tailored to specific needs. It offers a way to define any function that computes a similarity score based on two input values (one from each dataset to be compared).\n",
        "\n",
        "### Why use a custom comparison method:\n",
        "\n",
        "1. **Flexibility**: Built-in algorithms may not capture the nuances of all datasets. Custom comparisons allow you implement specific logic relevant to your data.\n",
        "\n",
        "2. **Domain-Specific Comparisons**: In certain domains, data might have specialised rules or formats that generic algorithms can't address effectively.\n",
        "\n",
        "3. **Complex Attribute Relationships**: Sometimes, you might need to consider multiple attributes in tandem to determine similarity, which a generic method might not capture.\n",
        "\n",
        "### Example Use Cases:\n",
        "\n",
        "1. **Phonetic Similarity in Names**: While there are standard algorithms like Soundex or Metaphone for phonetic comparisons, you might have a custom phonetic algorithm tailored for a specific language or dialect.\n",
        "\n",
        "2. **Special Date Formats**: If you're working with unique date formats or calendar systems, like fiscal calendars, you might need a custom comparison.\n",
        "\n",
        "3. **Custom Weighting Systems**: Suppose you want to compare products based on multiple attributes, like price, brand, and features. A custom function can weigh these attributes differently to produce a composite similarity score.\n",
        "\n",
        "4. **Domain-Specific Jargon**: In certain industries, there might be domain-specific jargon or abbreviations. A custom function can handle these peculiarities better.\n",
        "\n",
        "In essence, the custom comparison method in `recordlinkage` is a flexible tool that comes into play when there's a need for specialised comparison logic or when working with unique data domains."
      ]
    },
    {
      "cell_type": "code",
      "execution_count": 31,
      "metadata": {
        "ExecuteTime": {
          "end_time": "2023-10-18T22:03:05.700943Z",
          "start_time": "2023-10-18T22:02:47.815544Z"
        },
        "id": "ur0x7Y7ddo4R"
      },
      "outputs": [],
      "source": [
        "%%ag\n",
        "compare = rl.Compare()\n",
        "\n",
        "# Here's a basic custom function to compare names\n",
        "def cmp( name1 : str , name2 : str ) -> float:\n",
        "  if not isinstance(name1,str):\n",
        "    return 0.0\n",
        "  if not isinstance(name2,str):\n",
        "    return 0.0\n",
        "  # Convert both names to lowercase for a case-insensitive comparison\n",
        "  name1 = name1.lower()\n",
        "  name2 = name2.lower()\n",
        "\n",
        "  # Exact match\n",
        "  if name1 == name2:\n",
        "    return 1.0\n",
        "\n",
        "  # Initial check: E.g. \"A. Smith\" and \"Adam Smith\"\n",
        "  if name1[0] == name2[0] and (name1[1] == '.' or name2[1] == '.'):\n",
        "    return 0.9\n",
        "\n",
        "  # Substring check: E.g. \"Rob\" and \"Robert\"\n",
        "  if name1 in name2 or name2 in name1:\n",
        "    return 0.8\n",
        "\n",
        "  # Length difference: E.g. \"Ann\" and \"Anne\"\n",
        "  if abs(len(name1) - len(name2)) == 1:\n",
        "    return 0.7\n",
        "\n",
        "  return 0.0\n",
        "\n",
        "\n",
        "compare.custom(cmp,left_on='given_name',right_on='given_name',label='name_compare')\n",
        "features = compare.compute(links,large_pdfA,large_pdfB)\n"
      ]
    },
    {
      "cell_type": "markdown",
      "metadata": {
        "collapsed": false,
        "id": "7jiabaiedo4S"
      },
      "source": [
        "## **Creating Linked DataFrame** 🥳\n",
        "Once the features matrix is computed, we can obtain the linked dataframe using a threshold value. Any link with sum of all features having value greater than the threshold will be used for creating the merged dataframe.\n",
        "\n",
        "The linked dataset will have columns with prefix as l_ and r_ for the first and second dataset using for linking respectively."
      ]
    },
    {
      "cell_type": "code",
      "execution_count": 32,
      "metadata": {
        "ExecuteTime": {
          "end_time": "2023-10-18T22:49:49.438966Z",
          "start_time": "2023-10-18T22:49:45.555489Z"
        },
        "colab": {
          "base_uri": "https://localhost:8080/"
        },
        "id": "ha3CWyHudo4S",
        "outputId": "8dae35ab-d8d2-48e4-9928-1962efd2bb35"
      },
      "outputs": [
        {
          "name": "stdout",
          "output_type": "stream",
          "text": [
            "0.7619901918100336\n",
            "\n"
          ]
        }
      ],
      "source": [
        "%%ag\n",
        "compare = rl.Compare()\n",
        "compare.string(left_on='address_1',right_on='address_1',label='address',method='cosine')\n",
        "compare.string(left_on='given_name',right_on='given_name',label='name',method='jaro')\n",
        "features = compare.compute(links,large_pdfA,large_pdfB)\n",
        "\n",
        "# Lets find the mean value of the sum of all weights assigned on each compare rule.\n",
        "ag_print(features.mean(eps=0.1).sum())\n"
      ]
    },
    {
      "cell_type": "markdown",
      "metadata": {
        "collapsed": false,
        "id": "Ol02Pf-kdo4S"
      },
      "source": [
        "Based on the above value , a threshold roughly = 1.5 should be a very strong link."
      ]
    },
    {
      "cell_type": "code",
      "execution_count": 33,
      "metadata": {
        "ExecuteTime": {
          "end_time": "2023-10-18T22:53:21.166523Z",
          "start_time": "2023-10-18T22:53:15.103847Z"
        },
        "colab": {
          "base_uri": "https://localhost:8080/"
        },
        "id": "ppLY_pR5do4S",
        "outputId": "634fcf83-63b3-424c-f71b-de6d63f1e869"
      },
      "outputs": [
        {
          "name": "stdout",
          "output_type": "stream",
          "text": [
            "       l_street_number   l_postcode  ...  r_date_of_birth  r_soc_sec_id\n",
            "count      3720.000000  3720.000000  ...     3.720000e+03  3.720000e+03\n",
            "mean        168.389656  3585.416444  ...     1.947909e+07  5.420798e+06\n",
            "std         921.165510  1021.435586  ...     3.133144e+05  3.127994e+06\n",
            "min           1.612537   823.534937  ...     1.902536e+07  1.885717e+06\n",
            "25%           9.391624  2784.609377  ...     1.920754e+07  2.758303e+06\n",
            "50%          24.186662  3159.161016  ...     1.947260e+07  5.363708e+06\n",
            "75%          54.681410  4470.980797  ...     1.973571e+07  7.481390e+06\n",
            "max        6344.202762  7247.645856  ...     1.999030e+07  9.388719e+06\n",
            "\n",
            "[8 rows x 8 columns]\n",
            "\n"
          ]
        }
      ],
      "source": [
        "%%ag\n",
        "linked_df = compare.get_match(1.5)\n",
        "ag_print(linked_df.describe(eps=1))"
      ]
    },
    {
      "cell_type": "code",
      "execution_count": 34,
      "metadata": {
        "ExecuteTime": {
          "end_time": "2023-10-18T23:16:39.626404Z",
          "start_time": "2023-10-18T23:15:44.391953Z"
        },
        "colab": {
          "base_uri": "https://localhost:8080/"
        },
        "id": "8ajzLb5Udo4S",
        "outputId": "198178ff-baf8-48f8-b626-3b6bfb18b362"
      },
      "outputs": [
        {
          "name": "stdout",
          "output_type": "stream",
          "text": [
            "Setting up exported variable in local environment: count_data\n"
          ]
        }
      ],
      "source": [
        "%%ag\n",
        "import numpy as np\n",
        "thres = np.linspace(0,2,20)\n",
        "counts = []\n",
        "\n",
        "compare = rl.Compare()\n",
        "compare.string(left_on='address_1',right_on='address_1',label='address',method='jaro')\n",
        "compare.string(left_on='given_name',right_on='given_name',label='name',method='jaro')\n",
        "features = compare.compute(links,large_pdfA,large_pdfB)\n",
        "\n",
        "for t in thres:\n",
        "  merged_df = compare.get_match(t)\n",
        "  counts.append(merged_df['l_soc_sec_id'].count(eps=1))\n",
        "\n",
        "from ag_utils import export\n",
        "export({'T':thres , 'C':counts} , \"count_data\")"
      ]
    },
    {
      "cell_type": "markdown",
      "metadata": {
        "id": "mNC8k2EEhjCX"
      },
      "source": [
        "The max threshold value that can come up for the above set of compare rules equals to 2.\n",
        "\n",
        "Increasing the threshold means that we only allow links that strongly match all compare rules that have been set. Hence , increasing the threshold will produce a linked_dataset with decreasing trend of total linked records.\n",
        "\n",
        "Any threshold greater than max_threshold (2 in this case) will produce a result having no linked records."
      ]
    },
    {
      "cell_type": "code",
      "execution_count": 35,
      "metadata": {
        "ExecuteTime": {
          "end_time": "2023-10-18T23:37:05.198102Z",
          "start_time": "2023-10-18T23:37:05.115946Z"
        },
        "colab": {
          "base_uri": "https://localhost:8080/",
          "height": 449
        },
        "id": "fhYCK_IJdo4S",
        "outputId": "783cc5d7-ca26-45e6-d754-a3cef39c5863"
      },
      "outputs": [
        {
          "data": {
            "image/png": "[encoded data removed]",
            "text/plain": [
              "<Figure size 640x480 with 1 Axes>"
            ]
          },
          "metadata": {},
          "output_type": "display_data"
        }
      ],
      "source": [
        "x = count_data['T']\n",
        "y = count_data['C']\n",
        "plt.plot(x, y, color='blue', marker='o', linestyle='-', linewidth=2, markersize=6)\n",
        "plt.xlabel('Threshold value')\n",
        "plt.ylabel('Number of filtered records')\n",
        "plt.show()"
      ]
    },
    {
      "cell_type": "markdown",
      "metadata": {
        "id": "1SijD6iu5xI_"
      },
      "source": [
        "## **Wrapping Up: Merging Data and Keeping It Private** 🦾\n",
        "\n",
        "In our digital world, the ability to merge and analyze different sets of information (or \"data\") to make smarter decisions is crucial. But, we can't forget about keeping that information safe and private. This notebook showed you how to do both.\n",
        "\n",
        "Here's the simple breakdown:\n",
        "\n",
        "1. We learned about **Record Linkage** - a cool technique for combining and matching data from various sources.\n",
        "2. We examined different tools and strategies that can enhance the effectiveness of data merging.\n",
        "3. Throughout the process, we made sure to protect the data's privacy using tools like **Differential Privacy** and the **Antigranular tool**.\n",
        "\n",
        "Think of this as a recipe book: merging data is our main dish, and privacy is our secret ingredient. Remember, in the realm of data, success is not solely measured by the quantity of information, but also by how intelligently and securely it is utilised. Happy data blending! 🌪️"
      ]
    },
    {
      "cell_type": "code",
      "execution_count": 36,
      "metadata": {
        "colab": {
          "base_uri": "https://localhost:8080/"
        },
        "id": "BqG4-kuZdo4S",
        "outputId": "01b9e1f3-8965-4507-8762-12692af47fd6"
      },
      "outputs": [
        {
          "data": {
            "text/plain": [
              "{'status': 'ok'}"
            ]
          },
          "execution_count": 36,
          "metadata": {},
          "output_type": "execute_result"
        }
      ],
      "source": [
        "session.terminate_session()"
      ]
    },
    {
      "cell_type": "code",
      "execution_count": null,
      "metadata": {
        "id": "cIl4Fm4NfX_A"
      },
      "outputs": [],
      "source": []
    }
  ],
  "metadata": {
    "colab": {
      "provenance": []
    },
    "kernelspec": {
      "display_name": "Python 3 (ipykernel)",
      "language": "python",
      "name": "python3"
    },
    "language_info": {
      "name": "python"
    }
  },
  "nbformat": 4,
  "nbformat_minor": 0
}
