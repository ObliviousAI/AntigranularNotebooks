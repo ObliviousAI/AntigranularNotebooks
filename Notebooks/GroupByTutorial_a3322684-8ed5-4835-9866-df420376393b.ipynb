{
  "nbformat": 4,
  "nbformat_minor": 0,
  "metadata": {
    "colab": {
      "provenance": []
    },
    "kernelspec": {
      "name": "python3",
      "display_name": "Python 3"
    },
    "language_info": {
      "name": "python"
    }
  },
  "cells": [
    {
      "cell_type": "markdown",
      "source": [
        "# Groupby Tutorial Notebook 📀🤓"
      ],
      "metadata": {
        "id": "xGfLTWrsdoV4"
      }
    },
    {
      "cell_type": "markdown",
      "source": [
        "## What Is This Notebook About? 📘"
      ],
      "metadata": {
        "id": "GUjDDp8adrKB"
      }
    },
    {
      "cell_type": "markdown",
      "source": [
        "GroupBy and categorical metadata is the latest addition to the Antigranular environment. 🥳 In this notebook, we'll show you a specialised implementation of the groupby operation, tailored for use within Antigranular.\n",
        "\n",
        "The focus here is on a restricted version of groupby, which is a critical tool in data manipulation and analysis, particularly in the realm of large datasets. 🌐 This restricted version is designed to offer more controlled and secure data handling, aligning with the needs of Antigranular computing. 🔑\n",
        "\n",
        "The groupby operation, as we will explore, allows for the aggregation of data based on specified criteria, enabling complex data analysis tasks to be performed with ease and efficiency. However, in Antigranular environments, where data sensitivity and privacy are paramount, a standard groupby may not suffice due to its broad functionality. Hence, our restricted version offers a more focused approach. Let's see what it's all about. ✅\n",
        "\n",
        "### Getting Started: Setting Up the Environment\n",
        "\n",
        "To get started, install the Antigranular package from pip and login. 🦾"
      ],
      "metadata": {
        "id": "FGy7iZnVd1NO"
      }
    },
    {
      "cell_type": "code",
      "execution_count": null,
      "metadata": {
        "colab": {
          "base_uri": "https://localhost:8080/"
        },
        "id": "-Z7fskmiAODf",
        "outputId": "08192cc5-3718-4963-e058-d0cdb3afc165"
      },
      "outputs": [
        {
          "output_type": "stream",
          "name": "stdout",
          "text": [
            "Requirement already satisfied: antigranular in /usr/local/lib/python3.10/dist-packages (0.2.15)\n",
            "Requirement already satisfied: diffprivlib<0.7.0,>=0.6.2 in /usr/local/lib/python3.10/dist-packages (from antigranular) (0.6.3)\n",
            "Requirement already satisfied: ipython<8.0.0,>=7.34.0 in /usr/local/lib/python3.10/dist-packages (from antigranular) (7.34.0)\n",
            "Requirement already satisfied: oblv-client<0.2.0,>=0.1.15 in /usr/local/lib/python3.10/dist-packages (from antigranular) (0.1.15)\n",
            "Requirement already satisfied: onnx<2.0.0,>=1.14.0 in /usr/local/lib/python3.10/dist-packages (from antigranular) (1.15.0)\n",
            "Requirement already satisfied: pandas<2.0.0,>=1.5.3 in /usr/local/lib/python3.10/dist-packages (from antigranular) (1.5.3)\n",
            "Requirement already satisfied: pydantic<2.0.0,>=1.10.7 in /usr/local/lib/python3.10/dist-packages (from antigranular) (1.10.13)\n",
            "Requirement already satisfied: requests<3.0.0,>=2.31.0 in /usr/local/lib/python3.10/dist-packages (from antigranular) (2.31.0)\n",
            "Requirement already satisfied: numpy>=1.21.6 in /usr/local/lib/python3.10/dist-packages (from diffprivlib<0.7.0,>=0.6.2->antigranular) (1.23.5)\n",
            "Requirement already satisfied: scikit-learn>=0.24.2 in /usr/local/lib/python3.10/dist-packages (from diffprivlib<0.7.0,>=0.6.2->antigranular) (1.2.2)\n",
            "Requirement already satisfied: scipy>=1.7.3 in /usr/local/lib/python3.10/dist-packages (from diffprivlib<0.7.0,>=0.6.2->antigranular) (1.11.4)\n",
            "Requirement already satisfied: joblib>=0.16.0 in /usr/local/lib/python3.10/dist-packages (from diffprivlib<0.7.0,>=0.6.2->antigranular) (1.3.2)\n",
            "Requirement already satisfied: setuptools>=49.0.0 in /usr/local/lib/python3.10/dist-packages (from diffprivlib<0.7.0,>=0.6.2->antigranular) (67.7.2)\n",
            "Requirement already satisfied: jedi>=0.16 in /usr/local/lib/python3.10/dist-packages (from ipython<8.0.0,>=7.34.0->antigranular) (0.19.1)\n",
            "Requirement already satisfied: decorator in /usr/local/lib/python3.10/dist-packages (from ipython<8.0.0,>=7.34.0->antigranular) (4.4.2)\n",
            "Requirement already satisfied: pickleshare in /usr/local/lib/python3.10/dist-packages (from ipython<8.0.0,>=7.34.0->antigranular) (0.7.5)\n",
            "Requirement already satisfied: traitlets>=4.2 in /usr/local/lib/python3.10/dist-packages (from ipython<8.0.0,>=7.34.0->antigranular) (5.7.1)\n",
            "Requirement already satisfied: prompt-toolkit!=3.0.0,!=3.0.1,<3.1.0,>=2.0.0 in /usr/local/lib/python3.10/dist-packages (from ipython<8.0.0,>=7.34.0->antigranular) (3.0.41)\n",
            "Requirement already satisfied: pygments in /usr/local/lib/python3.10/dist-packages (from ipython<8.0.0,>=7.34.0->antigranular) (2.16.1)\n",
            "Requirement already satisfied: backcall in /usr/local/lib/python3.10/dist-packages (from ipython<8.0.0,>=7.34.0->antigranular) (0.2.0)\n",
            "Requirement already satisfied: matplotlib-inline in /usr/local/lib/python3.10/dist-packages (from ipython<8.0.0,>=7.34.0->antigranular) (0.1.6)\n",
            "Requirement already satisfied: pexpect>4.3 in /usr/local/lib/python3.10/dist-packages (from ipython<8.0.0,>=7.34.0->antigranular) (4.9.0)\n",
            "Requirement already satisfied: urllib3 in /usr/local/lib/python3.10/dist-packages (from oblv-client<0.2.0,>=0.1.15->antigranular) (2.0.7)\n",
            "Requirement already satisfied: protobuf>=3.20.2 in /usr/local/lib/python3.10/dist-packages (from onnx<2.0.0,>=1.14.0->antigranular) (3.20.3)\n",
            "Requirement already satisfied: python-dateutil>=2.8.1 in /usr/local/lib/python3.10/dist-packages (from pandas<2.0.0,>=1.5.3->antigranular) (2.8.2)\n",
            "Requirement already satisfied: pytz>=2020.1 in /usr/local/lib/python3.10/dist-packages (from pandas<2.0.0,>=1.5.3->antigranular) (2023.3.post1)\n",
            "Requirement already satisfied: typing-extensions>=4.2.0 in /usr/local/lib/python3.10/dist-packages (from pydantic<2.0.0,>=1.10.7->antigranular) (4.5.0)\n",
            "Requirement already satisfied: charset-normalizer<4,>=2 in /usr/local/lib/python3.10/dist-packages (from requests<3.0.0,>=2.31.0->antigranular) (3.3.2)\n",
            "Requirement already satisfied: idna<4,>=2.5 in /usr/local/lib/python3.10/dist-packages (from requests<3.0.0,>=2.31.0->antigranular) (3.6)\n",
            "Requirement already satisfied: certifi>=2017.4.17 in /usr/local/lib/python3.10/dist-packages (from requests<3.0.0,>=2.31.0->antigranular) (2023.11.17)\n",
            "Requirement already satisfied: parso<0.9.0,>=0.8.3 in /usr/local/lib/python3.10/dist-packages (from jedi>=0.16->ipython<8.0.0,>=7.34.0->antigranular) (0.8.3)\n",
            "Requirement already satisfied: ptyprocess>=0.5 in /usr/local/lib/python3.10/dist-packages (from pexpect>4.3->ipython<8.0.0,>=7.34.0->antigranular) (0.7.0)\n",
            "Requirement already satisfied: wcwidth in /usr/local/lib/python3.10/dist-packages (from prompt-toolkit!=3.0.0,!=3.0.1,<3.1.0,>=2.0.0->ipython<8.0.0,>=7.34.0->antigranular) (0.2.12)\n",
            "Requirement already satisfied: six>=1.5 in /usr/local/lib/python3.10/dist-packages (from python-dateutil>=2.8.1->pandas<2.0.0,>=1.5.3->antigranular) (1.16.0)\n",
            "Requirement already satisfied: threadpoolctl>=2.0.0 in /usr/local/lib/python3.10/dist-packages (from scikit-learn>=0.24.2->diffprivlib<0.7.0,>=0.6.2->antigranular) (3.2.0)\n"
          ]
        }
      ],
      "source": [
        "!pip install antigranular"
      ]
    },
    {
      "cell_type": "code",
      "source": [
        "import antigranular as ag\n",
        "session = ag.login(<client_id>,<client_secret>, competition = \"Sandbox Competition\")"
      ],
      "metadata": {
        "colab": {
          "base_uri": "https://localhost:8080/",
          "height": 196
        },
        "id": "-vtCpdFmAPZv",
        "outputId": "77900b7f-8cbe-4aa6-c3e3-f8e9941ade6b"
      },
      "execution_count": null,
      "outputs": [
        {
          "output_type": "display_data",
          "data": {
            "text/plain": [
              "<IPython.core.display.HTML object>"
            ],
            "text/html": []
          },
          "metadata": {}
        },
        {
          "output_type": "stream",
          "name": "stdout",
          "text": [
            "Output: Dataset \"Medical Treatment\" loaded to the kernel as \u001b[92mmedical_treatment\u001b[0m\n",
            "Key Name                       Value Type     \n",
            "---------------------------------------------\n",
            "train_x                        PrivateDataFrame\n",
            "train_y                        PrivateDataFrame\n",
            "test_x                         DataFrame      \n",
            "\n",
            "Connected to Antigranular server session id: a3322684-8ed5-4835-9866-df420376393b, the session will time out if idle for 25 minutes\n",
            "Cell magic '%%ag' registered successfully, use `%%ag` in a notebook cell to execute your python code on Antigranular private python server\n",
            "🚀 Everything's set up and ready to roll!\n"
          ]
        }
      ]
    },
    {
      "cell_type": "markdown",
      "source": [
        "The output of the above cell tells you everything about the data loaded. The name of the data is highlighted in green.\n",
        "\n",
        "As the Dataset is loaded as a dictionary, we get a table with key value pairs, telling us the key name, along with the value type of the data. 👀"
      ],
      "metadata": {
        "id": "fvduWF0Vezyl"
      }
    },
    {
      "cell_type": "markdown",
      "source": [
        "### Creating a Dataset 📊"
      ],
      "metadata": {
        "id": "OXIm21yWfTJQ"
      }
    },
    {
      "cell_type": "markdown",
      "source": [
        "For this tutorial, we will be using a custom made dataset, which contains salary information of a particular individual.\n",
        "\n",
        "The dataset contains the following columns: 👇🏽\n",
        "\n",
        "* name: Contains randomly generated string of 10 characters.\n",
        "* gender: Gender of the individual. Can be 'M' for male or 'F' for female.\n",
        "* education: Education level of the individual. One out of 4 categories.\n",
        "* age: Age of the individual. Integer between 16 and 60.\n",
        "* salary: Salary of the individual. Integer between 20000 and 700000."
      ],
      "metadata": {
        "id": "uTgBVjNgfWrM"
      }
    },
    {
      "cell_type": "code",
      "source": [
        "import pandas as pd\n",
        "import numpy as np\n",
        "\n",
        "'''\n",
        "Creating a randomised df for analysis\n",
        "containing the following columns:\n",
        "  gender: {'M', 'F'}\n",
        "  education: {'10th', '12th', 'graduate', 'post-graduate'}\n",
        "  age: (16, 60)\n",
        "  salary: (20000, 700000)\n",
        "'''\n",
        "import functools\n",
        "name = []\n",
        "\n",
        "for i in range(0, 10000):\n",
        "  val = np.random.randint(97, 97+26, 10)\n",
        "  val = [chr(x) for x in val]\n",
        "\n",
        "  name.append(functools.reduce(lambda x,y : x+y, val))\n",
        "\n",
        "gender = []\n",
        "for i in range(0, 10000):\n",
        "  gender.append('M' if np.random.randint(0, 2) == 0 else 'F')\n",
        "\n",
        "education = []\n",
        "\n",
        "for i in range(0, 10000):\n",
        "  var = np.random.randint(0, 4)\n",
        "  if var == 0:\n",
        "    education.append(\"10th\")\n",
        "  elif var == 1:\n",
        "    education.append(\"12th\")\n",
        "  elif var == 2:\n",
        "    education.append(\"graduate\")\n",
        "  else:\n",
        "    education.append(\"post-graduate\")\n",
        "\n",
        "df = pd.DataFrame({'name': name, 'gender': gender, 'education': education,\n",
        "                   'age': np.random.randint(16, 61, 10000), 'salary': np.random.randint(20000, 700000, 10000)})"
      ],
      "metadata": {
        "id": "XzRMTRBnGTQ9"
      },
      "execution_count": null,
      "outputs": []
    },
    {
      "cell_type": "code",
      "source": [
        "df.head()"
      ],
      "metadata": {
        "colab": {
          "base_uri": "https://localhost:8080/",
          "height": 206
        },
        "id": "rth8tPkLGTTx",
        "outputId": "02a3ce31-ca18-4823-eddc-467d53022ed5"
      },
      "execution_count": null,
      "outputs": [
        {
          "output_type": "execute_result",
          "data": {
            "text/plain": [
              "         name gender      education  age  salary\n",
              "0  xgdxxiikyf      M           12th   18  171152\n",
              "1  ruokvgduvc      F       graduate   31   71884\n",
              "2  qciklhrsri      F  post-graduate   42  262369\n",
              "3  wtgjefupbk      F           10th   57  643175\n",
              "4  nzunqlhcji      F           12th   28  448692"
            ],
            "text/html": [
              "\n",
              "  <div id=\"df-a0b298bb-d740-4c22-bd11-771b30b8ef3c\" class=\"colab-df-container\">\n",
              "    <div>\n",
              "<style scoped>\n",
              "    .dataframe tbody tr th:only-of-type {\n",
              "        vertical-align: middle;\n",
              "    }\n",
              "\n",
              "    .dataframe tbody tr th {\n",
              "        vertical-align: top;\n",
              "    }\n",
              "\n",
              "    .dataframe thead th {\n",
              "        text-align: right;\n",
              "    }\n",
              "</style>\n",
              "<table border=\"1\" class=\"dataframe\">\n",
              "  <thead>\n",
              "    <tr style=\"text-align: right;\">\n",
              "      <th></th>\n",
              "      <th>name</th>\n",
              "      <th>gender</th>\n",
              "      <th>education</th>\n",
              "      <th>age</th>\n",
              "      <th>salary</th>\n",
              "    </tr>\n",
              "  </thead>\n",
              "  <tbody>\n",
              "    <tr>\n",
              "      <th>0</th>\n",
              "      <td>xgdxxiikyf</td>\n",
              "      <td>M</td>\n",
              "      <td>12th</td>\n",
              "      <td>18</td>\n",
              "      <td>171152</td>\n",
              "    </tr>\n",
              "    <tr>\n",
              "      <th>1</th>\n",
              "      <td>ruokvgduvc</td>\n",
              "      <td>F</td>\n",
              "      <td>graduate</td>\n",
              "      <td>31</td>\n",
              "      <td>71884</td>\n",
              "    </tr>\n",
              "    <tr>\n",
              "      <th>2</th>\n",
              "      <td>qciklhrsri</td>\n",
              "      <td>F</td>\n",
              "      <td>post-graduate</td>\n",
              "      <td>42</td>\n",
              "      <td>262369</td>\n",
              "    </tr>\n",
              "    <tr>\n",
              "      <th>3</th>\n",
              "      <td>wtgjefupbk</td>\n",
              "      <td>F</td>\n",
              "      <td>10th</td>\n",
              "      <td>57</td>\n",
              "      <td>643175</td>\n",
              "    </tr>\n",
              "    <tr>\n",
              "      <th>4</th>\n",
              "      <td>nzunqlhcji</td>\n",
              "      <td>F</td>\n",
              "      <td>12th</td>\n",
              "      <td>28</td>\n",
              "      <td>448692</td>\n",
              "    </tr>\n",
              "  </tbody>\n",
              "</table>\n",
              "</div>\n",
              "    <div class=\"colab-df-buttons\">\n",
              "\n",
              "  <div class=\"colab-df-container\">\n",
              "    <button class=\"colab-df-convert\" onclick=\"convertToInteractive('df-a0b298bb-d740-4c22-bd11-771b30b8ef3c')\"\n",
              "            title=\"Convert this dataframe to an interactive table.\"\n",
              "            style=\"display:none;\">\n",
              "\n",
              "  <svg xmlns=\"http://www.w3.org/2000/svg\" height=\"24px\" viewBox=\"0 -960 960 960\">\n",
              "    <path d=\"M120-120v-720h720v720H120Zm60-500h600v-160H180v160Zm220 220h160v-160H400v160Zm0 220h160v-160H400v160ZM180-400h160v-160H180v160Zm440 0h160v-160H620v160ZM180-180h160v-160H180v160Zm440 0h160v-160H620v160Z\"/>\n",
              "  </svg>\n",
              "    </button>\n",
              "\n",
              "  <style>\n",
              "    .colab-df-container {\n",
              "      display:flex;\n",
              "      gap: 12px;\n",
              "    }\n",
              "\n",
              "    .colab-df-convert {\n",
              "      background-color: #E8F0FE;\n",
              "      border: none;\n",
              "      border-radius: 50%;\n",
              "      cursor: pointer;\n",
              "      display: none;\n",
              "      fill: #1967D2;\n",
              "      height: 32px;\n",
              "      padding: 0 0 0 0;\n",
              "      width: 32px;\n",
              "    }\n",
              "\n",
              "    .colab-df-convert:hover {\n",
              "      background-color: #E2EBFA;\n",
              "      box-shadow: 0px 1px 2px rgba(60, 64, 67, 0.3), 0px 1px 3px 1px rgba(60, 64, 67, 0.15);\n",
              "      fill: #174EA6;\n",
              "    }\n",
              "\n",
              "    .colab-df-buttons div {\n",
              "      margin-bottom: 4px;\n",
              "    }\n",
              "\n",
              "    [theme=dark] .colab-df-convert {\n",
              "      background-color: #3B4455;\n",
              "      fill: #D2E3FC;\n",
              "    }\n",
              "\n",
              "    [theme=dark] .colab-df-convert:hover {\n",
              "      background-color: #434B5C;\n",
              "      box-shadow: 0px 1px 3px 1px rgba(0, 0, 0, 0.15);\n",
              "      filter: drop-shadow(0px 1px 2px rgba(0, 0, 0, 0.3));\n",
              "      fill: #FFFFFF;\n",
              "    }\n",
              "  </style>\n",
              "\n",
              "    <script>\n",
              "      const buttonEl =\n",
              "        document.querySelector('#df-a0b298bb-d740-4c22-bd11-771b30b8ef3c button.colab-df-convert');\n",
              "      buttonEl.style.display =\n",
              "        google.colab.kernel.accessAllowed ? 'block' : 'none';\n",
              "\n",
              "      async function convertToInteractive(key) {\n",
              "        const element = document.querySelector('#df-a0b298bb-d740-4c22-bd11-771b30b8ef3c');\n",
              "        const dataTable =\n",
              "          await google.colab.kernel.invokeFunction('convertToInteractive',\n",
              "                                                    [key], {});\n",
              "        if (!dataTable) return;\n",
              "\n",
              "        const docLinkHtml = 'Like what you see? Visit the ' +\n",
              "          '<a target=\"_blank\" href=https://colab.research.google.com/notebooks/data_table.ipynb>data table notebook</a>'\n",
              "          + ' to learn more about interactive tables.';\n",
              "        element.innerHTML = '';\n",
              "        dataTable['output_type'] = 'display_data';\n",
              "        await google.colab.output.renderOutput(dataTable, element);\n",
              "        const docLink = document.createElement('div');\n",
              "        docLink.innerHTML = docLinkHtml;\n",
              "        element.appendChild(docLink);\n",
              "      }\n",
              "    </script>\n",
              "  </div>\n",
              "\n",
              "\n",
              "<div id=\"df-b5345bae-ef46-40b1-ae21-6c3737a09867\">\n",
              "  <button class=\"colab-df-quickchart\" onclick=\"quickchart('df-b5345bae-ef46-40b1-ae21-6c3737a09867')\"\n",
              "            title=\"Suggest charts\"\n",
              "            style=\"display:none;\">\n",
              "\n",
              "<svg xmlns=\"http://www.w3.org/2000/svg\" height=\"24px\"viewBox=\"0 0 24 24\"\n",
              "     width=\"24px\">\n",
              "    <g>\n",
              "        <path d=\"M19 3H5c-1.1 0-2 .9-2 2v14c0 1.1.9 2 2 2h14c1.1 0 2-.9 2-2V5c0-1.1-.9-2-2-2zM9 17H7v-7h2v7zm4 0h-2V7h2v10zm4 0h-2v-4h2v4z\"/>\n",
              "    </g>\n",
              "</svg>\n",
              "  </button>\n",
              "\n",
              "<style>\n",
              "  .colab-df-quickchart {\n",
              "      --bg-color: #E8F0FE;\n",
              "      --fill-color: #1967D2;\n",
              "      --hover-bg-color: #E2EBFA;\n",
              "      --hover-fill-color: #174EA6;\n",
              "      --disabled-fill-color: #AAA;\n",
              "      --disabled-bg-color: #DDD;\n",
              "  }\n",
              "\n",
              "  [theme=dark] .colab-df-quickchart {\n",
              "      --bg-color: #3B4455;\n",
              "      --fill-color: #D2E3FC;\n",
              "      --hover-bg-color: #434B5C;\n",
              "      --hover-fill-color: #FFFFFF;\n",
              "      --disabled-bg-color: #3B4455;\n",
              "      --disabled-fill-color: #666;\n",
              "  }\n",
              "\n",
              "  .colab-df-quickchart {\n",
              "    background-color: var(--bg-color);\n",
              "    border: none;\n",
              "    border-radius: 50%;\n",
              "    cursor: pointer;\n",
              "    display: none;\n",
              "    fill: var(--fill-color);\n",
              "    height: 32px;\n",
              "    padding: 0;\n",
              "    width: 32px;\n",
              "  }\n",
              "\n",
              "  .colab-df-quickchart:hover {\n",
              "    background-color: var(--hover-bg-color);\n",
              "    box-shadow: 0 1px 2px rgba(60, 64, 67, 0.3), 0 1px 3px 1px rgba(60, 64, 67, 0.15);\n",
              "    fill: var(--button-hover-fill-color);\n",
              "  }\n",
              "\n",
              "  .colab-df-quickchart-complete:disabled,\n",
              "  .colab-df-quickchart-complete:disabled:hover {\n",
              "    background-color: var(--disabled-bg-color);\n",
              "    fill: var(--disabled-fill-color);\n",
              "    box-shadow: none;\n",
              "  }\n",
              "\n",
              "  .colab-df-spinner {\n",
              "    border: 2px solid var(--fill-color);\n",
              "    border-color: transparent;\n",
              "    border-bottom-color: var(--fill-color);\n",
              "    animation:\n",
              "      spin 1s steps(1) infinite;\n",
              "  }\n",
              "\n",
              "  @keyframes spin {\n",
              "    0% {\n",
              "      border-color: transparent;\n",
              "      border-bottom-color: var(--fill-color);\n",
              "      border-left-color: var(--fill-color);\n",
              "    }\n",
              "    20% {\n",
              "      border-color: transparent;\n",
              "      border-left-color: var(--fill-color);\n",
              "      border-top-color: var(--fill-color);\n",
              "    }\n",
              "    30% {\n",
              "      border-color: transparent;\n",
              "      border-left-color: var(--fill-color);\n",
              "      border-top-color: var(--fill-color);\n",
              "      border-right-color: var(--fill-color);\n",
              "    }\n",
              "    40% {\n",
              "      border-color: transparent;\n",
              "      border-right-color: var(--fill-color);\n",
              "      border-top-color: var(--fill-color);\n",
              "    }\n",
              "    60% {\n",
              "      border-color: transparent;\n",
              "      border-right-color: var(--fill-color);\n",
              "    }\n",
              "    80% {\n",
              "      border-color: transparent;\n",
              "      border-right-color: var(--fill-color);\n",
              "      border-bottom-color: var(--fill-color);\n",
              "    }\n",
              "    90% {\n",
              "      border-color: transparent;\n",
              "      border-bottom-color: var(--fill-color);\n",
              "    }\n",
              "  }\n",
              "</style>\n",
              "\n",
              "  <script>\n",
              "    async function quickchart(key) {\n",
              "      const quickchartButtonEl =\n",
              "        document.querySelector('#' + key + ' button');\n",
              "      quickchartButtonEl.disabled = true;  // To prevent multiple clicks.\n",
              "      quickchartButtonEl.classList.add('colab-df-spinner');\n",
              "      try {\n",
              "        const charts = await google.colab.kernel.invokeFunction(\n",
              "            'suggestCharts', [key], {});\n",
              "      } catch (error) {\n",
              "        console.error('Error during call to suggestCharts:', error);\n",
              "      }\n",
              "      quickchartButtonEl.classList.remove('colab-df-spinner');\n",
              "      quickchartButtonEl.classList.add('colab-df-quickchart-complete');\n",
              "    }\n",
              "    (() => {\n",
              "      let quickchartButtonEl =\n",
              "        document.querySelector('#df-b5345bae-ef46-40b1-ae21-6c3737a09867 button');\n",
              "      quickchartButtonEl.style.display =\n",
              "        google.colab.kernel.accessAllowed ? 'block' : 'none';\n",
              "    })();\n",
              "  </script>\n",
              "</div>\n",
              "    </div>\n",
              "  </div>\n"
            ]
          },
          "metadata": {},
          "execution_count": 29
        }
      ]
    },
    {
      "cell_type": "markdown",
      "source": [
        "### Importing the Data ➡️"
      ],
      "metadata": {
        "id": "7hSiKUuxhlZo"
      }
    },
    {
      "cell_type": "markdown",
      "source": [
        "Now, we use `session.private_import` to import this dataset within the Antigranular environment. 💥"
      ],
      "metadata": {
        "id": "QBKIJdpmhnZY"
      }
    },
    {
      "cell_type": "code",
      "source": [
        "session.private_import(data = df, name = \"df\")"
      ],
      "metadata": {
        "colab": {
          "base_uri": "https://localhost:8080/"
        },
        "id": "NlYblmX3GTWv",
        "outputId": "325d82be-9bb7-4ec1-c12a-3afd54823ab3"
      },
      "execution_count": null,
      "outputs": [
        {
          "output_type": "stream",
          "name": "stdout",
          "text": [
            "dataframe cached to server, loading to kernel...\n",
            "Output: Dataframe loaded successfully to the kernel\n",
            "\n"
          ]
        }
      ]
    },
    {
      "cell_type": "markdown",
      "source": [
        "To create a PrivateDataFrame, we follow the following rules: 🤗\n",
        "* 🌐 Metadata will be given for only numerical data. Statistics will only be calculated on the columns for which metadata is given. Non-numerical data does not have metadata, because statistics cannot be done on these columns.\n",
        "* 🔍 Categorical Metadata can be given for any column, but the datatype for the categories must be conformant. This is done to maintain uniformity within a particular column, as one column must contain elements of a single datatype.\n",
        "* ⛔️ The set of columns in metadata should not have any intersection with the set of columns in categorical_metadata.\n",
        "* 🌟 String columns like name, address etc should not be provided in metadata or categorical metadata."
      ],
      "metadata": {
        "id": "YwB9sOyth_A5"
      }
    },
    {
      "cell_type": "code",
      "source": [
        "%%ag\n",
        "import op_pandas\n",
        "pdf = op_pandas.PrivateDataFrame(df, metadata = {\"age\": (16, 60), \"salary\": (20000, 700000)}, categorical_metadata = {\"gender\": ['M', 'F'], \"education\": [\"10th\", \"12th\", \"graduate\", \"post-graduate\"]})"
      ],
      "metadata": {
        "id": "2CCMbMtmGTZg"
      },
      "execution_count": null,
      "outputs": []
    },
    {
      "cell_type": "markdown",
      "source": [
        "### Getting to Know the Dataset 🔬"
      ],
      "metadata": {
        "id": "1ve5FsEfi3MN"
      }
    },
    {
      "cell_type": "markdown",
      "source": [
        "Some important information about the dataset is printed below. 📄 It is important to know what the dataset looks like before proceeding with doing any kind of analysis."
      ],
      "metadata": {
        "id": "qqPH2TDIjKJR"
      }
    },
    {
      "cell_type": "code",
      "source": [
        "%%ag\n",
        "ag_print(\"columns: \", pdf.columns)\n",
        "ag_print(\"metadata: \", pdf.metadata)\n",
        "ag_print(\"categorical_metadata: \",pdf.categorical_metadata)\n",
        "ag_print(\"dtypes:\\n \", pdf.dtypes)"
      ],
      "metadata": {
        "colab": {
          "base_uri": "https://localhost:8080/"
        },
        "id": "orDu8vY9GTcY",
        "outputId": "d6602436-32c1-4d17-e385-c8daa4ad1fa8"
      },
      "execution_count": null,
      "outputs": [
        {
          "output_type": "stream",
          "name": "stdout",
          "text": [
            "columns:  ['name', 'gender', 'education', 'age', 'salary']\n",
            "metadata:  {'age': (16, 60), 'salary': (20000, 700000)}\n",
            "categorical_metadata:  {'gender': ['M', 'F'], 'education': ['10th', '12th', 'graduate', 'post-graduate']}\n",
            "dtypes:\n",
            "  name         object\n",
            "gender       object\n",
            "education    object\n",
            "age           int64\n",
            "salary        int64\n",
            "dtype: object\n",
            "\n"
          ]
        }
      ]
    },
    {
      "cell_type": "markdown",
      "source": [
        "Here, we can see that `age` and `salary` are numerical columns while `gender` and `education` are categorical columns. 🖼️ `name` is not present in any metadata, as it is neither categorical nor numerical.\n",
        "\n",
        "Now, we use `PrivateDataFrame.describe()` function to get the lowdown of the basic information about the numerical columns."
      ],
      "metadata": {
        "id": "CsemERou59Bw"
      }
    },
    {
      "cell_type": "code",
      "source": [
        "%%ag\n",
        "ag_print(pdf.describe(eps = 0.1))"
      ],
      "metadata": {
        "colab": {
          "base_uri": "https://localhost:8080/"
        },
        "id": "0s2oUqdbGTe6",
        "outputId": "50a2512c-f4dd-4735-f1ac-16ffefe1b29d"
      },
      "execution_count": null,
      "outputs": [
        {
          "output_type": "stream",
          "name": "stdout",
          "text": [
            "               age         salary\n",
            "count  9786.000000    9786.000000\n",
            "mean     37.124402  402257.614219\n",
            "std      11.472617  152898.866737\n",
            "min      16.000000   44878.336264\n",
            "25%      29.504922  168327.575987\n",
            "50%      33.312865  369077.605656\n",
            "75%      42.519508  500675.973945\n",
            "max      57.875210  677394.650052\n",
            "\n"
          ]
        }
      ]
    },
    {
      "cell_type": "markdown",
      "source": [
        "### GroupBy Usage 🕺🏾"
      ],
      "metadata": {
        "id": "jL1oXsOPjSqh"
      }
    },
    {
      "cell_type": "markdown",
      "source": [
        "[Groupby](https://pandas.pydata.org/docs/reference/api/pandas.DataFrame.groupby.html) is a common pandas function used to group large amounts of data and compute operations on these groups. 🐼\n",
        "\n",
        "\n",
        "Due to privacy limitations, the [Groupby](https://docs.antigranular.com/private-python/api/op_pandas/private_dataframe#groupby) function in Antigranular is a restricted version of the original groupby from pandas, yet its application remains consistent.📍\n",
        "\n",
        "The primary distinction between the two lies in the `by` argument. This argument is essential for defining the groups in the groupby operation. It accepts several types of inputs:\n",
        "\n",
        "* 📉 **Column**: This allows grouping based on a specific column. The column used for this purpose needs to be categorical and should be listed in the categorical_metadata.\n",
        "* 🔐 **Boolean Series / PrivateSeries**: This involves a series composed exclusively of boolean values. If the series comprises non-boolean values, it will automatically be converted to boolean prior to the groupby operation, without generating any exceptions or warnings.\n",
        "* 🧮 **List**: This can be a combination of the above two options, allowing for more flexible grouping criteria."
      ],
      "metadata": {
        "id": "0dRnMJ-kjYJ7"
      }
    },
    {
      "cell_type": "markdown",
      "source": [
        "Let's say for the first example, we want to group the data on basis of their education and find the mean salary for each of the group. 💰 This is how we can do that:"
      ],
      "metadata": {
        "id": "fx6sodRhmJZb"
      }
    },
    {
      "cell_type": "code",
      "source": [
        "%%ag\n",
        "grouped_pdf = pdf.groupby(\"education\")\n",
        "\n",
        "ag_print(grouped_pdf[\"salary\"].mean(eps = 1))"
      ],
      "metadata": {
        "colab": {
          "base_uri": "https://localhost:8080/"
        },
        "id": "k4Xrq3n8jWSk",
        "outputId": "58eccf85-cbd1-4be3-d470-c24064dd966c"
      },
      "execution_count": null,
      "outputs": [
        {
          "output_type": "stream",
          "name": "stdout",
          "text": [
            "                           0\n",
            "10th           353870.272720\n",
            "12th           356065.234855\n",
            "graduate       355715.180512\n",
            "post-graduate  351349.504497\n",
            "\n"
          ]
        }
      ]
    },
    {
      "cell_type": "markdown",
      "source": [
        "Here, `eps = 1` will be used to get the output. As there are 4 groups, epsilon will be divided equally and hence `eps = 0.25` will be used in each group to get the result. 👍🏽"
      ],
      "metadata": {
        "id": "V24v3d-ftg9w"
      }
    },
    {
      "cell_type": "markdown",
      "source": [
        "However, grouping can't be done on basis of `age` column, as it is not a categorical column."
      ],
      "metadata": {
        "id": "oBKWmy8imkgj"
      }
    },
    {
      "cell_type": "code",
      "source": [
        "%%ag\n",
        "grouped_pdf = pdf.groupby(\"age\")"
      ],
      "metadata": {
        "colab": {
          "base_uri": "https://localhost:8080/"
        },
        "id": "215M7gpgjWVK",
        "outputId": "32463ec1-94df-495e-c3ae-e729b32ed014"
      },
      "execution_count": null,
      "outputs": [
        {
          "output_type": "stream",
          "name": "stdout",
          "text": [
            "\u001b[0;31mValueError\u001b[0m: age is not a categorical column.Group by only categorical columns are allowed.\n"
          ]
        }
      ]
    },
    {
      "cell_type": "markdown",
      "source": [
        "However, we can split the `age` column in two categories using boolean PrivateSeries in `by` argument. If we want to analyse the `mean` of salaries of people with `age > 30` and `<=30`, we can do that as follows: 🤓"
      ],
      "metadata": {
        "id": "uW3GWs1OmsO4"
      }
    },
    {
      "cell_type": "code",
      "source": [
        "%%ag\n",
        "\n",
        "grouped_pdf = pdf.groupby(pdf['age'] > 30)\n",
        "\n",
        "ag_print(grouped_pdf[\"salary\"].mean(eps=1))"
      ],
      "metadata": {
        "colab": {
          "base_uri": "https://localhost:8080/"
        },
        "id": "XCe5__7BjWYJ",
        "outputId": "0a70476e-9cc8-4dfe-ce80-6f0ee2b5980f"
      },
      "execution_count": null,
      "outputs": [
        {
          "output_type": "stream",
          "name": "stdout",
          "text": [
            "               0\n",
            "0  356326.694380\n",
            "1  355419.558985\n",
            "\n"
          ]
        }
      ]
    },
    {
      "cell_type": "markdown",
      "source": [
        "Here, index 0 means all the indices where `pdf['age'] <= 30` (or the boolean PrivateSeries is `False`), and index 1 means all the indices where `pdf['age'] > 30` (or the boolean PrivateSeries is `True`)."
      ],
      "metadata": {
        "id": "sJ39edqYnAWQ"
      }
    },
    {
      "cell_type": "markdown",
      "source": [
        "💡 After grouping, following functions can be applied to the `grouped_pdf`:\n",
        "\n",
        "* [sum](https://docs.antigranular.com/private-python/api/op_pandas/private_dataframe#sum)\n",
        "* [mean](https://docs.antigranular.com/private-python/api/op_pandas/private_dataframe#mean)\n",
        "* [std](https://docs.antigranular.com/private-python/api/op_pandas/private_dataframe#standard-deviation)\n",
        "* [var](https://docs.antigranular.com/private-python/api/op_pandas/private_dataframe#variance)\n",
        "* [count](https://docs.antigranular.com/private-python/api/op_pandas/private_dataframe#count)\n",
        "* [quantile](https://docs.antigranular.com/private-python/api/op_pandas/private_dataframe#quantile)\n",
        "* [median](https://docs.antigranular.com/private-python/api/op_pandas/private_dataframe#median)\n",
        "* [percentile](https://docs.antigranular.com/private-python/api/op_pandas/private_dataframe#percentile)\n",
        "\n",
        "The usage will be similar to the function call for PrivateDataFrame.\n",
        "\n",
        "For example, finding `25th percentile` of the `salary` grouped by `education` can be done as follows:"
      ],
      "metadata": {
        "id": "9N0pafvknO2o"
      }
    },
    {
      "cell_type": "code",
      "source": [
        "%%ag\n",
        "\n",
        "ag_print(pdf.groupby(\"education\")[\"salary\"].quantile(eps=1, q=0.25))"
      ],
      "metadata": {
        "colab": {
          "base_uri": "https://localhost:8080/"
        },
        "id": "fjxUef_JnMdN",
        "outputId": "f663670a-2ba2-4069-ca4b-0a48cc219342"
      },
      "execution_count": null,
      "outputs": [
        {
          "output_type": "stream",
          "name": "stdout",
          "text": [
            "                           0\n",
            "10th           188497.706648\n",
            "12th           193790.777589\n",
            "graduate       193125.740756\n",
            "post-graduate  184543.475519\n",
            "\n"
          ]
        }
      ]
    },
    {
      "cell_type": "markdown",
      "source": [
        "You can also send in a `list` as a grouper and group over multiple columns and conditions. ✔️ All of these conditions will be shown as a multi-index in the output dataframe."
      ],
      "metadata": {
        "id": "sgrZZIVup51B"
      }
    },
    {
      "cell_type": "code",
      "source": [
        "%%ag\n",
        "\n",
        "ag_print(pdf.groupby([\"education\", \"gender\"]).mean(eps=1))"
      ],
      "metadata": {
        "colab": {
          "base_uri": "https://localhost:8080/"
        },
        "id": "P6sHyqVltAXQ",
        "outputId": "1b01d38a-0946-41aa-98a6-c93736920434"
      },
      "execution_count": null,
      "outputs": [
        {
          "output_type": "stream",
          "name": "stdout",
          "text": [
            "                       age         salary\n",
            "10th          M  37.990412  365835.485731\n",
            "              F  38.069294  350376.102060\n",
            "12th          M  39.139811  362511.882352\n",
            "              F  37.098640  353427.048131\n",
            "graduate      M  37.778909  365651.118838\n",
            "              F  37.897245  359373.224765\n",
            "post-graduate M  37.944639  358544.388604\n",
            "              F  39.009578  347755.868706\n",
            "\n"
          ]
        }
      ]
    },
    {
      "cell_type": "code",
      "source": [
        "%%ag\n",
        "\n",
        "ag_print(pdf.groupby([\"education\", pdf['age']>30]).mean(eps=1))"
      ],
      "metadata": {
        "colab": {
          "base_uri": "https://localhost:8080/"
        },
        "id": "dyw3ak9ytH2Z",
        "outputId": "538b6152-31e2-4ba2-e182-53814dcad1bc"
      },
      "execution_count": null,
      "outputs": [
        {
          "output_type": "stream",
          "name": "stdout",
          "text": [
            "                       age         salary\n",
            "10th          0  22.160349  358415.957601\n",
            "              1  45.337913  360898.064176\n",
            "12th          0  23.224790  361659.177613\n",
            "              1  45.656241  357461.129681\n",
            "graduate      0  23.726825  358778.026076\n",
            "              1  45.430969  364589.124464\n",
            "post-graduate 0  22.939682  366483.436018\n",
            "              1  45.819218  353105.066373\n",
            "\n"
          ]
        }
      ]
    },
    {
      "cell_type": "markdown",
      "source": [
        "This query is structured to accomplish the following:\n",
        "\n",
        "- 🚀 ***Grouping Data***: The dataset is divided into groups based on two key attributes:\n",
        "\n",
        "  - `education`: This categorises individuals according to their educational qualifications.\n",
        "  - `age > 30`: It further segments these groups into two age-based categories – those above 30 years of age and those 30 or younger.\n",
        "\n",
        "- 🧮 ***Calculating Averages***: For each of these groups, we compute the differentially private average values of numerical columns like `age` and `salary`.\n",
        "\n",
        "This methodology allows us to extract meaningful insights about average characteristics across different educational backgrounds and age brackets, while ensuring the privacy and integrity of the data. 😎"
      ],
      "metadata": {
        "id": "VBivPxd0simd"
      }
    },
    {
      "cell_type": "markdown",
      "source": [
        "### Conclusion 🌟\n",
        "\n",
        "In this notebook, we've explored a specialised groupby operation tailored for Antigranular environments, emphasising data privacy and precision. Through examples and queries, we demonstrated how to analyse sensitive data effectively, uncovering insights while maintaining data integrity. 🔐\n",
        "\n",
        "This guide should serve as a foundation for your future data analysis projects, particularly in scenarios requiring careful data management. Remember, the techniques discussed here are crucial for responsible and secure data handling. 📊 Happy analysing!💥\n",
        "\n",
        "Now that we're all done, we use this line to close our work session neatly. It's like turning off the lights when you leave a room – it’s a good habit to wrap things up properly!"
      ],
      "metadata": {
        "id": "THV_pkWAtc-I"
      }
    },
    {
      "cell_type": "code",
      "source": [
        "session.terminate_session()"
      ],
      "metadata": {
        "colab": {
          "base_uri": "https://localhost:8080/"
        },
        "id": "o9VEOLxQF8mW",
        "outputId": "5dd1dcf1-d98a-4089-802c-e14f15b05234"
      },
      "execution_count": null,
      "outputs": [
        {
          "output_type": "execute_result",
          "data": {
            "text/plain": [
              "{'status': 'ok'}"
            ]
          },
          "metadata": {},
          "execution_count": 5
        }
      ]
    }
  ]
}