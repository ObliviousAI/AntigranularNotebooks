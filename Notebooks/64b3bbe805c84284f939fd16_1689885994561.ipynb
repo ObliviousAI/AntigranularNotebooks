{
  "nbformat": 4,
  "nbformat_minor": 0,
  "metadata": {
    "colab": {
      "provenance": []
    },
    "kernelspec": {
      "name": "python3",
      "display_name": "Python 3"
    },
    "language_info": {
      "name": "python"
    }
  },
  "cells": [
    {
      "cell_type": "code",
      "execution_count": 160,
      "metadata": {
        "colab": {
          "base_uri": "https://localhost:8080/"
        },
        "id": "34UdKSE2Unjn",
        "outputId": "2915b5b6-4ecb-4bea-a161-20bc3c7b0cc3"
      },
      "outputs": [
        {
          "output_type": "stream",
          "name": "stdout",
          "text": [
            "Requirement already satisfied: antigranular in /usr/local/lib/python3.10/dist-packages (0.2.4)\n",
            "Requirement already satisfied: diffprivlib<0.7.0,>=0.6.2 in /usr/local/lib/python3.10/dist-packages (from antigranular) (0.6.3)\n",
            "Requirement already satisfied: ipython<8.0.0,>=7.34.0 in /usr/local/lib/python3.10/dist-packages (from antigranular) (7.34.0)\n",
            "Requirement already satisfied: oblv-client<0.2.0,>=0.1.15 in /usr/local/lib/python3.10/dist-packages (from antigranular) (0.1.15)\n",
            "Requirement already satisfied: pandas<2.0.0,>=1.5.3 in /usr/local/lib/python3.10/dist-packages (from antigranular) (1.5.3)\n",
            "Requirement already satisfied: pydantic<2.0.0,>=1.10.7 in /usr/local/lib/python3.10/dist-packages (from antigranular) (1.10.11)\n",
            "Requirement already satisfied: requests==2.27.1 in /usr/local/lib/python3.10/dist-packages (from antigranular) (2.27.1)\n",
            "Requirement already satisfied: urllib3<1.27,>=1.21.1 in /usr/local/lib/python3.10/dist-packages (from requests==2.27.1->antigranular) (1.26.16)\n",
            "Requirement already satisfied: certifi>=2017.4.17 in /usr/local/lib/python3.10/dist-packages (from requests==2.27.1->antigranular) (2023.5.7)\n",
            "Requirement already satisfied: charset-normalizer~=2.0.0 in /usr/local/lib/python3.10/dist-packages (from requests==2.27.1->antigranular) (2.0.12)\n",
            "Requirement already satisfied: idna<4,>=2.5 in /usr/local/lib/python3.10/dist-packages (from requests==2.27.1->antigranular) (3.4)\n",
            "Requirement already satisfied: numpy>=1.21.6 in /usr/local/lib/python3.10/dist-packages (from diffprivlib<0.7.0,>=0.6.2->antigranular) (1.22.4)\n",
            "Requirement already satisfied: scikit-learn>=0.24.2 in /usr/local/lib/python3.10/dist-packages (from diffprivlib<0.7.0,>=0.6.2->antigranular) (1.2.2)\n",
            "Requirement already satisfied: scipy>=1.7.3 in /usr/local/lib/python3.10/dist-packages (from diffprivlib<0.7.0,>=0.6.2->antigranular) (1.10.1)\n",
            "Requirement already satisfied: joblib>=0.16.0 in /usr/local/lib/python3.10/dist-packages (from diffprivlib<0.7.0,>=0.6.2->antigranular) (1.3.1)\n",
            "Requirement already satisfied: setuptools>=49.0.0 in /usr/local/lib/python3.10/dist-packages (from diffprivlib<0.7.0,>=0.6.2->antigranular) (67.7.2)\n",
            "Requirement already satisfied: jedi>=0.16 in /usr/local/lib/python3.10/dist-packages (from ipython<8.0.0,>=7.34.0->antigranular) (0.18.2)\n",
            "Requirement already satisfied: decorator in /usr/local/lib/python3.10/dist-packages (from ipython<8.0.0,>=7.34.0->antigranular) (4.4.2)\n",
            "Requirement already satisfied: pickleshare in /usr/local/lib/python3.10/dist-packages (from ipython<8.0.0,>=7.34.0->antigranular) (0.7.5)\n",
            "Requirement already satisfied: traitlets>=4.2 in /usr/local/lib/python3.10/dist-packages (from ipython<8.0.0,>=7.34.0->antigranular) (5.7.1)\n",
            "Requirement already satisfied: prompt-toolkit!=3.0.0,!=3.0.1,<3.1.0,>=2.0.0 in /usr/local/lib/python3.10/dist-packages (from ipython<8.0.0,>=7.34.0->antigranular) (3.0.39)\n",
            "Requirement already satisfied: pygments in /usr/local/lib/python3.10/dist-packages (from ipython<8.0.0,>=7.34.0->antigranular) (2.14.0)\n",
            "Requirement already satisfied: backcall in /usr/local/lib/python3.10/dist-packages (from ipython<8.0.0,>=7.34.0->antigranular) (0.2.0)\n",
            "Requirement already satisfied: matplotlib-inline in /usr/local/lib/python3.10/dist-packages (from ipython<8.0.0,>=7.34.0->antigranular) (0.1.6)\n",
            "Requirement already satisfied: pexpect>4.3 in /usr/local/lib/python3.10/dist-packages (from ipython<8.0.0,>=7.34.0->antigranular) (4.8.0)\n",
            "Requirement already satisfied: python-dateutil>=2.8.1 in /usr/local/lib/python3.10/dist-packages (from pandas<2.0.0,>=1.5.3->antigranular) (2.8.2)\n",
            "Requirement already satisfied: pytz>=2020.1 in /usr/local/lib/python3.10/dist-packages (from pandas<2.0.0,>=1.5.3->antigranular) (2022.7.1)\n",
            "Requirement already satisfied: typing-extensions>=4.2.0 in /usr/local/lib/python3.10/dist-packages (from pydantic<2.0.0,>=1.10.7->antigranular) (4.7.1)\n",
            "Requirement already satisfied: parso<0.9.0,>=0.8.0 in /usr/local/lib/python3.10/dist-packages (from jedi>=0.16->ipython<8.0.0,>=7.34.0->antigranular) (0.8.3)\n",
            "Requirement already satisfied: ptyprocess>=0.5 in /usr/local/lib/python3.10/dist-packages (from pexpect>4.3->ipython<8.0.0,>=7.34.0->antigranular) (0.7.0)\n",
            "Requirement already satisfied: wcwidth in /usr/local/lib/python3.10/dist-packages (from prompt-toolkit!=3.0.0,!=3.0.1,<3.1.0,>=2.0.0->ipython<8.0.0,>=7.34.0->antigranular) (0.2.6)\n",
            "Requirement already satisfied: six>=1.5 in /usr/local/lib/python3.10/dist-packages (from python-dateutil>=2.8.1->pandas<2.0.0,>=1.5.3->antigranular) (1.16.0)\n",
            "Requirement already satisfied: threadpoolctl>=2.0.0 in /usr/local/lib/python3.10/dist-packages (from scikit-learn>=0.24.2->diffprivlib<0.7.0,>=0.6.2->antigranular) (3.1.0)\n"
          ]
        }
      ],
      "source": [
        "!pip install antigranular --upgrade"
      ]
    },
    {
      "cell_type": "code",
      "source": [
        "import antigranular as ag\n",
        "session = ag.login(<client_id>,<client_secret>, dataset = \"Adult Population Dataset\")"
      ],
      "metadata": {
        "colab": {
          "base_uri": "https://localhost:8080/"
        },
        "id": "ksCmDt7sWpyl",
        "outputId": "422ad488-b483-4c6d-ec62-1225d802e4b4"
      },
      "execution_count": 147,
      "outputs": [
        {
          "output_type": "stream",
          "name": "stdout",
          "text": [
            "Connected to Antigranular server session id: aaef2001-1aa5-41b4-a9a0-d0aaa5464e11\n",
            "Cell magic '%%ag' registered successfully, use `%%ag` in a notebook cell to execute your python code on Antigranular private python server\n"
          ]
        }
      ]
    },
    {
      "cell_type": "code",
      "source": [
        "%%ag\n",
        "from op_pandas import PrivateDataFrame, PrivateSeries\n",
        "from ag_utils import load_dataset, export, submit_predictions\n",
        "\n",
        "response = load_dataset(\"Adult Population Dataset\")\n",
        "\n",
        "train_x = response[\"train_x\"]\n",
        "train_y = response[\"train_y\"]\n",
        "test_x = response[\"test_x\"]"
      ],
      "metadata": {
        "id": "nzkIpelddodV"
      },
      "execution_count": 148,
      "outputs": []
    },
    {
      "cell_type": "markdown",
      "source": [
        "The goal of this notebook is to predict whether income exceeds $50K/yr based on census data. However the data is confidential, therefore we have to apply techniques from Differential Privacy in order to get insights from the data and build classification models. We will show how to use Antigranular to achieve this result!"
      ],
      "metadata": {
        "id": "SUs3vXsgdyrC"
      }
    },
    {
      "cell_type": "code",
      "source": [
        "import numpy as np\n",
        "import pandas as pd\n",
        "import seaborn as sb\n",
        "import matplotlib.pyplot as plt\n"
      ],
      "metadata": {
        "id": "UBmgkJoTduOZ"
      },
      "execution_count": 4,
      "outputs": []
    },
    {
      "cell_type": "code",
      "source": [
        "%%ag\n",
        "from typing import Any\n",
        "# encoding categoricals\n",
        "def label_encode(x:str)-> int:\n",
        "  if x == '>50K':\n",
        "    return 0\n",
        "  elif x == '<=50K':\n",
        "    return 1\n",
        "\n",
        "train_y_encoded = train_y.applymap(label_encode , output_bounds={'income':(0,1)})"
      ],
      "metadata": {
        "id": "oV-UhT1HDzzr"
      },
      "execution_count": 5,
      "outputs": []
    },
    {
      "cell_type": "code",
      "source": [
        "%%ag\n",
        "train_xy = train_x.join(train_y_encoded, how=\"inner\")"
      ],
      "metadata": {
        "id": "qLpx_Mqt2GmW"
      },
      "execution_count": 6,
      "outputs": []
    },
    {
      "cell_type": "code",
      "source": [
        "%%ag\n",
        "export(train_xy.describe(eps=1), \"descr_initial_df\")"
      ],
      "metadata": {
        "colab": {
          "base_uri": "https://localhost:8080/"
        },
        "id": "-oWq_QzpCzRx",
        "outputId": "d1e8997d-46ba-4eb6-d07e-40f339b3398b"
      },
      "execution_count": 20,
      "outputs": [
        {
          "output_type": "stream",
          "name": "stdout",
          "text": [
            "Total epsilon spent = 1.0000\n",
            "\n",
            "Setting up exported variable in local environment: descr_initial_df\n"
          ]
        }
      ]
    },
    {
      "cell_type": "code",
      "source": [
        "descr_initial_df"
      ],
      "metadata": {
        "colab": {
          "base_uri": "https://localhost:8080/",
          "height": 300
        },
        "id": "-LmgCngxC-RN",
        "outputId": "9b2fc9e6-94bf-455f-b938-3511cdeb8303"
      },
      "execution_count": 21,
      "outputs": [
        {
          "output_type": "execute_result",
          "data": {
            "text/plain": [
              "                age        fnlwgt  educational-num  capital-gain  \\\n",
              "count  39027.000000  3.902700e+04     39027.000000  39027.000000   \n",
              "mean      38.552124  1.889283e+05        10.074270   1027.264957   \n",
              "std       13.552442  2.360801e+04         2.553931   3609.737627   \n",
              "min       17.950626  1.847939e+04         1.592024    801.390141   \n",
              "25%       27.169852  1.173110e+05         8.469911    360.297001   \n",
              "50%       37.160457  1.778268e+05         9.045377      5.981458   \n",
              "75%       47.505859  2.365982e+05        12.312016    121.334360   \n",
              "max       85.729975  1.346618e+06        15.329910  51522.551204   \n",
              "\n",
              "       capital-loss  hours-per-week        income  \n",
              "count  39027.000000    39027.000000  39027.000000  \n",
              "mean      84.153959       40.565899      0.762417  \n",
              "std      457.983516       12.722783      0.424453  \n",
              "min      160.592626        0.280560      0.652964  \n",
              "25%     1273.347490       39.283841      0.771650  \n",
              "50%      109.726482       40.932206      0.025577  \n",
              "75%      139.843316       46.525077      0.731120  \n",
              "max     4332.950169       81.421181      0.701572  "
            ],
            "text/html": [
              "\n",
              "\n",
              "  <div id=\"df-c28b5295-2374-44c5-a5e2-0e0480af9744\">\n",
              "    <div class=\"colab-df-container\">\n",
              "      <div>\n",
              "<style scoped>\n",
              "    .dataframe tbody tr th:only-of-type {\n",
              "        vertical-align: middle;\n",
              "    }\n",
              "\n",
              "    .dataframe tbody tr th {\n",
              "        vertical-align: top;\n",
              "    }\n",
              "\n",
              "    .dataframe thead th {\n",
              "        text-align: right;\n",
              "    }\n",
              "</style>\n",
              "<table border=\"1\" class=\"dataframe\">\n",
              "  <thead>\n",
              "    <tr style=\"text-align: right;\">\n",
              "      <th></th>\n",
              "      <th>age</th>\n",
              "      <th>fnlwgt</th>\n",
              "      <th>educational-num</th>\n",
              "      <th>capital-gain</th>\n",
              "      <th>capital-loss</th>\n",
              "      <th>hours-per-week</th>\n",
              "      <th>income</th>\n",
              "    </tr>\n",
              "  </thead>\n",
              "  <tbody>\n",
              "    <tr>\n",
              "      <th>count</th>\n",
              "      <td>39027.000000</td>\n",
              "      <td>3.902700e+04</td>\n",
              "      <td>39027.000000</td>\n",
              "      <td>39027.000000</td>\n",
              "      <td>39027.000000</td>\n",
              "      <td>39027.000000</td>\n",
              "      <td>39027.000000</td>\n",
              "    </tr>\n",
              "    <tr>\n",
              "      <th>mean</th>\n",
              "      <td>38.552124</td>\n",
              "      <td>1.889283e+05</td>\n",
              "      <td>10.074270</td>\n",
              "      <td>1027.264957</td>\n",
              "      <td>84.153959</td>\n",
              "      <td>40.565899</td>\n",
              "      <td>0.762417</td>\n",
              "    </tr>\n",
              "    <tr>\n",
              "      <th>std</th>\n",
              "      <td>13.552442</td>\n",
              "      <td>2.360801e+04</td>\n",
              "      <td>2.553931</td>\n",
              "      <td>3609.737627</td>\n",
              "      <td>457.983516</td>\n",
              "      <td>12.722783</td>\n",
              "      <td>0.424453</td>\n",
              "    </tr>\n",
              "    <tr>\n",
              "      <th>min</th>\n",
              "      <td>17.950626</td>\n",
              "      <td>1.847939e+04</td>\n",
              "      <td>1.592024</td>\n",
              "      <td>801.390141</td>\n",
              "      <td>160.592626</td>\n",
              "      <td>0.280560</td>\n",
              "      <td>0.652964</td>\n",
              "    </tr>\n",
              "    <tr>\n",
              "      <th>25%</th>\n",
              "      <td>27.169852</td>\n",
              "      <td>1.173110e+05</td>\n",
              "      <td>8.469911</td>\n",
              "      <td>360.297001</td>\n",
              "      <td>1273.347490</td>\n",
              "      <td>39.283841</td>\n",
              "      <td>0.771650</td>\n",
              "    </tr>\n",
              "    <tr>\n",
              "      <th>50%</th>\n",
              "      <td>37.160457</td>\n",
              "      <td>1.778268e+05</td>\n",
              "      <td>9.045377</td>\n",
              "      <td>5.981458</td>\n",
              "      <td>109.726482</td>\n",
              "      <td>40.932206</td>\n",
              "      <td>0.025577</td>\n",
              "    </tr>\n",
              "    <tr>\n",
              "      <th>75%</th>\n",
              "      <td>47.505859</td>\n",
              "      <td>2.365982e+05</td>\n",
              "      <td>12.312016</td>\n",
              "      <td>121.334360</td>\n",
              "      <td>139.843316</td>\n",
              "      <td>46.525077</td>\n",
              "      <td>0.731120</td>\n",
              "    </tr>\n",
              "    <tr>\n",
              "      <th>max</th>\n",
              "      <td>85.729975</td>\n",
              "      <td>1.346618e+06</td>\n",
              "      <td>15.329910</td>\n",
              "      <td>51522.551204</td>\n",
              "      <td>4332.950169</td>\n",
              "      <td>81.421181</td>\n",
              "      <td>0.701572</td>\n",
              "    </tr>\n",
              "  </tbody>\n",
              "</table>\n",
              "</div>\n",
              "      <button class=\"colab-df-convert\" onclick=\"convertToInteractive('df-c28b5295-2374-44c5-a5e2-0e0480af9744')\"\n",
              "              title=\"Convert this dataframe to an interactive table.\"\n",
              "              style=\"display:none;\">\n",
              "\n",
              "  <svg xmlns=\"http://www.w3.org/2000/svg\" height=\"24px\"viewBox=\"0 0 24 24\"\n",
              "       width=\"24px\">\n",
              "    <path d=\"M0 0h24v24H0V0z\" fill=\"none\"/>\n",
              "    <path d=\"M18.56 5.44l.94 2.06.94-2.06 2.06-.94-2.06-.94-.94-2.06-.94 2.06-2.06.94zm-11 1L8.5 8.5l.94-2.06 2.06-.94-2.06-.94L8.5 2.5l-.94 2.06-2.06.94zm10 10l.94 2.06.94-2.06 2.06-.94-2.06-.94-.94-2.06-.94 2.06-2.06.94z\"/><path d=\"M17.41 7.96l-1.37-1.37c-.4-.4-.92-.59-1.43-.59-.52 0-1.04.2-1.43.59L10.3 9.45l-7.72 7.72c-.78.78-.78 2.05 0 2.83L4 21.41c.39.39.9.59 1.41.59.51 0 1.02-.2 1.41-.59l7.78-7.78 2.81-2.81c.8-.78.8-2.07 0-2.86zM5.41 20L4 18.59l7.72-7.72 1.47 1.35L5.41 20z\"/>\n",
              "  </svg>\n",
              "      </button>\n",
              "\n",
              "\n",
              "\n",
              "    <div id=\"df-af2b8d7d-90c2-4143-aea5-fc88ab8f9c3d\">\n",
              "      <button class=\"colab-df-quickchart\" onclick=\"quickchart('df-af2b8d7d-90c2-4143-aea5-fc88ab8f9c3d')\"\n",
              "              title=\"Suggest charts.\"\n",
              "              style=\"display:none;\">\n",
              "\n",
              "<svg xmlns=\"http://www.w3.org/2000/svg\" height=\"24px\"viewBox=\"0 0 24 24\"\n",
              "     width=\"24px\">\n",
              "    <g>\n",
              "        <path d=\"M19 3H5c-1.1 0-2 .9-2 2v14c0 1.1.9 2 2 2h14c1.1 0 2-.9 2-2V5c0-1.1-.9-2-2-2zM9 17H7v-7h2v7zm4 0h-2V7h2v10zm4 0h-2v-4h2v4z\"/>\n",
              "    </g>\n",
              "</svg>\n",
              "      </button>\n",
              "    </div>\n",
              "\n",
              "<style>\n",
              "  .colab-df-quickchart {\n",
              "    background-color: #E8F0FE;\n",
              "    border: none;\n",
              "    border-radius: 50%;\n",
              "    cursor: pointer;\n",
              "    display: none;\n",
              "    fill: #1967D2;\n",
              "    height: 32px;\n",
              "    padding: 0 0 0 0;\n",
              "    width: 32px;\n",
              "  }\n",
              "\n",
              "  .colab-df-quickchart:hover {\n",
              "    background-color: #E2EBFA;\n",
              "    box-shadow: 0px 1px 2px rgba(60, 64, 67, 0.3), 0px 1px 3px 1px rgba(60, 64, 67, 0.15);\n",
              "    fill: #174EA6;\n",
              "  }\n",
              "\n",
              "  [theme=dark] .colab-df-quickchart {\n",
              "    background-color: #3B4455;\n",
              "    fill: #D2E3FC;\n",
              "  }\n",
              "\n",
              "  [theme=dark] .colab-df-quickchart:hover {\n",
              "    background-color: #434B5C;\n",
              "    box-shadow: 0px 1px 3px 1px rgba(0, 0, 0, 0.15);\n",
              "    filter: drop-shadow(0px 1px 2px rgba(0, 0, 0, 0.3));\n",
              "    fill: #FFFFFF;\n",
              "  }\n",
              "</style>\n",
              "\n",
              "    <script>\n",
              "      async function quickchart(key) {\n",
              "        const containerElement = document.querySelector('#' + key);\n",
              "        const charts = await google.colab.kernel.invokeFunction(\n",
              "            'suggestCharts', [key], {});\n",
              "      }\n",
              "    </script>\n",
              "\n",
              "      <script>\n",
              "\n",
              "function displayQuickchartButton(domScope) {\n",
              "  let quickchartButtonEl =\n",
              "    domScope.querySelector('#df-af2b8d7d-90c2-4143-aea5-fc88ab8f9c3d button.colab-df-quickchart');\n",
              "  quickchartButtonEl.style.display =\n",
              "    google.colab.kernel.accessAllowed ? 'block' : 'none';\n",
              "}\n",
              "\n",
              "        displayQuickchartButton(document);\n",
              "      </script>\n",
              "      <style>\n",
              "    .colab-df-container {\n",
              "      display:flex;\n",
              "      flex-wrap:wrap;\n",
              "      gap: 12px;\n",
              "    }\n",
              "\n",
              "    .colab-df-convert {\n",
              "      background-color: #E8F0FE;\n",
              "      border: none;\n",
              "      border-radius: 50%;\n",
              "      cursor: pointer;\n",
              "      display: none;\n",
              "      fill: #1967D2;\n",
              "      height: 32px;\n",
              "      padding: 0 0 0 0;\n",
              "      width: 32px;\n",
              "    }\n",
              "\n",
              "    .colab-df-convert:hover {\n",
              "      background-color: #E2EBFA;\n",
              "      box-shadow: 0px 1px 2px rgba(60, 64, 67, 0.3), 0px 1px 3px 1px rgba(60, 64, 67, 0.15);\n",
              "      fill: #174EA6;\n",
              "    }\n",
              "\n",
              "    [theme=dark] .colab-df-convert {\n",
              "      background-color: #3B4455;\n",
              "      fill: #D2E3FC;\n",
              "    }\n",
              "\n",
              "    [theme=dark] .colab-df-convert:hover {\n",
              "      background-color: #434B5C;\n",
              "      box-shadow: 0px 1px 3px 1px rgba(0, 0, 0, 0.15);\n",
              "      filter: drop-shadow(0px 1px 2px rgba(0, 0, 0, 0.3));\n",
              "      fill: #FFFFFF;\n",
              "    }\n",
              "  </style>\n",
              "\n",
              "      <script>\n",
              "        const buttonEl =\n",
              "          document.querySelector('#df-c28b5295-2374-44c5-a5e2-0e0480af9744 button.colab-df-convert');\n",
              "        buttonEl.style.display =\n",
              "          google.colab.kernel.accessAllowed ? 'block' : 'none';\n",
              "\n",
              "        async function convertToInteractive(key) {\n",
              "          const element = document.querySelector('#df-c28b5295-2374-44c5-a5e2-0e0480af9744');\n",
              "          const dataTable =\n",
              "            await google.colab.kernel.invokeFunction('convertToInteractive',\n",
              "                                                     [key], {});\n",
              "          if (!dataTable) return;\n",
              "\n",
              "          const docLinkHtml = 'Like what you see? Visit the ' +\n",
              "            '<a target=\"_blank\" href=https://colab.research.google.com/notebooks/data_table.ipynb>data table notebook</a>'\n",
              "            + ' to learn more about interactive tables.';\n",
              "          element.innerHTML = '';\n",
              "          dataTable['output_type'] = 'display_data';\n",
              "          await google.colab.output.renderOutput(dataTable, element);\n",
              "          const docLink = document.createElement('div');\n",
              "          docLink.innerHTML = docLinkHtml;\n",
              "          element.appendChild(docLink);\n",
              "        }\n",
              "      </script>\n",
              "    </div>\n",
              "  </div>\n"
            ]
          },
          "metadata": {},
          "execution_count": 21
        }
      ]
    },
    {
      "cell_type": "code",
      "source": [
        "%%ag\n",
        "data_for_hist = train_y_encoded['income'].sum(eps=1)\n",
        "export(data_for_hist, 'data_for_hist')"
      ],
      "metadata": {
        "colab": {
          "base_uri": "https://localhost:8080/"
        },
        "id": "7sEL6_sGxHmq",
        "outputId": "a74bc68a-a98e-45f5-a4ee-4bc6ccedfc62"
      },
      "execution_count": 7,
      "outputs": [
        {
          "output_type": "stream",
          "name": "stdout",
          "text": [
            "Setting up exported variable in local environment: data_for_hist\n"
          ]
        }
      ]
    },
    {
      "cell_type": "code",
      "source": [
        "income_leq50K = data_for_hist\n",
        "n_obs_income = 39027\n",
        "income_grt50K = n_obs_income - income_leq50K\n",
        "\n",
        "# Create a bar plot\n",
        "plt.bar(['<=50K', '>50K'], [income_leq50K, income_grt50K], color=['blue', 'orange'], alpha = 0.7)\n",
        "\n",
        "# Add labels and title\n",
        "plt.xlabel('income')\n",
        "plt.ylabel('count')\n",
        "plt.title('Bar plot of incomes')\n",
        "\n",
        "# Show the plot\n",
        "plt.show()\n",
        "\n"
      ],
      "metadata": {
        "colab": {
          "base_uri": "https://localhost:8080/",
          "height": 472
        },
        "id": "QP5ttIaexQYA",
        "outputId": "9448ea6a-8f6f-4923-cd0f-4918ed568ae6"
      },
      "execution_count": 22,
      "outputs": [
        {
          "output_type": "display_data",
          "data": {
            "text/plain": [
              "<Figure size 640x480 with 1 Axes>"
            ],
            "image/png": "[encoded data removed]"
          },
          "metadata": {}
        }
      ]
    },
    {
      "cell_type": "markdown",
      "source": [
        "Notice that majority of the observations make less than $50,000 a year\n"
      ],
      "metadata": {
        "id": "18fnPbILxU4A"
      }
    },
    {
      "cell_type": "markdown",
      "source": [
        "Observe that we have the following type of features (this is public information in the page of the dataset: https://www.antigranular.com/dataset/64abecde30b8344f8d168c0d)\n",
        "\n",
        "Numerical features:\n",
        " ['age' 'fnlwgt' 'educational-num' 'capital-gain' 'capital-loss'\n",
        " 'hours-per-week']\n",
        "\n",
        "Categorical features:\n",
        " ['workclass' 'education' 'marital-status' 'occupation' 'relationship'\n",
        " 'race' 'gender' 'native-country' 'income']\n"
      ],
      "metadata": {
        "id": "1mNJyk-AmB4u"
      }
    },
    {
      "cell_type": "markdown",
      "source": [
        "We observe that some of the variables are not self-explanatory. The continuous variable \"fnlwgt\" represents final weight, which is the number of units in the target population that the responding unit represents. Moreover, the variable \"education_num\" stands for the number of years of education in total, therefore it is a continuous representation of the discrete variable \"education\". The variable \"relationship\" represents the responding unit’s role in the family. \"capital_gain\" and \"capital_loss\" are income from investment sources other than wage/salary.\n",
        "\n",
        "For simplicity of this analysis, the weighting factor is discarded. Total number of years of education can represent by the highest education level completed. Role in the family can be assessed from gender and marital status. Thus, the columns corresponding to the following 6 variables are not considered in the analysis: \"education\", \"relationship\", and \"fnlwgt\", \"race, \"native-country\", \"occupation\".\n"
      ],
      "metadata": {
        "id": "8lq7rdWc0ND5"
      }
    },
    {
      "cell_type": "markdown",
      "source": [
        "First, we transform into numeric the categorical variables, in order to be able to use all the functionalities of Antigranular and the libraries supported, like training the classification model. We must spend a bit of privacy budget to convert some categorical variables into a numerical ones, so that we can study them.\n"
      ],
      "metadata": {
        "id": "7OaGl20c1QAn"
      }
    },
    {
      "cell_type": "code",
      "source": [
        "%%ag\n",
        "import pandas as pd\n",
        "df = PrivateDataFrame(pd.DataFrame({}))"
      ],
      "metadata": {
        "id": "cw7zMnrE_6V4"
      },
      "execution_count": 9,
      "outputs": []
    },
    {
      "cell_type": "code",
      "source": [
        "%%ag\n",
        "df[[\"age\", \"educational-num\", \"capital-gain\", \"capital-loss\", \"hours-per-week\", \"income\"]] = train_xy[[\"age\", \"educational-num\", \"capital-gain\", \"capital-loss\", \"hours-per-week\", \"income\"]]\n"
      ],
      "metadata": {
        "id": "d50xQs_6_7qU"
      },
      "execution_count": 10,
      "outputs": []
    },
    {
      "cell_type": "code",
      "source": [
        "%%ag\n",
        "def gender_encode(x:str)-> int:\n",
        "  if x == 'Male':\n",
        "    return 1\n",
        "  elif x == 'Female':\n",
        "    return 0\n",
        "\n",
        "train_x_gender = train_x.applymap(gender_encode , output_bounds={'gender':(0,1)})"
      ],
      "metadata": {
        "id": "J6QMOH2B1WnF"
      },
      "execution_count": 11,
      "outputs": []
    },
    {
      "cell_type": "code",
      "source": [
        "%%ag\n",
        "df[ \"gender\"]=train_x_gender[\"gender\"]"
      ],
      "metadata": {
        "id": "-mxfMzDzAlpJ"
      },
      "execution_count": 12,
      "outputs": []
    },
    {
      "cell_type": "code",
      "source": [
        "%%ag\n",
        "import op_snsql"
      ],
      "metadata": {
        "id": "8W7CJd0JAu9p"
      },
      "execution_count": 13,
      "outputs": []
    },
    {
      "cell_type": "code",
      "source": [
        "%%ag\n",
        "privacy = op_snsql.Privacy(epsilon=3.0 , delta=0.1)\n",
        "reader_gender = op_snsql.from_df(df=df, privacy=privacy)\n"
      ],
      "metadata": {
        "id": "gh76OQ2fAz8m"
      },
      "execution_count": 36,
      "outputs": []
    },
    {
      "cell_type": "code",
      "source": [
        "%%ag\n",
        "count_male = reader_gender.execute(f\"SELECT COUNT(gender) as n_males from df.table WHERE gender = 1\")\n",
        "count_female = reader_gender.execute(f\"SELECT COUNT(gender) as n_females from df.table WHERE gender = 0\")\n",
        "result_male = reader_gender.execute(f\"SELECT COUNT(gender) as male_gtr50 from df.table WHERE gender = 1 AND income = 0\")\n",
        "result_female = reader_gender.execute(f\"SELECT COUNT(gender) as female_gtr50 from df.table WHERE gender = 0 AND income = 0\")\n",
        "\n",
        "export(str(count_male) , 'n_m')\n",
        "export(str(count_female) , 'n_f')\n",
        "export(str(result_female) , 'result_f')\n",
        "export(str(result_male) , 'result_m')\n",
        "export(str(result_female) , 'result_f')"
      ],
      "metadata": {
        "colab": {
          "base_uri": "https://localhost:8080/"
        },
        "id": "3WEBCj-_A9oU",
        "outputId": "d7a6a1a6-5338-458c-d228-74ac69f2a829"
      },
      "execution_count": 37,
      "outputs": [
        {
          "output_type": "stream",
          "name": "stdout",
          "text": [
            "Setting up exported variable in local environment: n_m\n",
            "Setting up exported variable in local environment: n_f\n",
            "Setting up exported variable in local environment: result_f\n",
            "Setting up exported variable in local environment: result_m\n",
            "Setting up exported variable in local environment: result_f\n"
          ]
        }
      ]
    },
    {
      "cell_type": "code",
      "source": [
        "print(n_m, n_f, result_m, result_f)"
      ],
      "metadata": {
        "colab": {
          "base_uri": "https://localhost:8080/"
        },
        "id": "_EpV4DQHDisj",
        "outputId": "3f58bd79-752c-4913-9b5e-21edf89e8abe"
      },
      "execution_count": 38,
      "outputs": [
        {
          "output_type": "stream",
          "name": "stdout",
          "text": [
            "[['n_males'], [26140]] [['n_females'], [12934]] [['male_gtr50'], [7961]] [['female_gtr50'], [1436]]\n"
          ]
        }
      ]
    },
    {
      "cell_type": "code",
      "source": [
        "import matplotlib.pyplot as plt\n",
        "import numpy as np\n",
        "\n",
        "# Replace these with your actual values\n",
        "z_values = [7960, 1436]  # y values for the two bars\n",
        "y_values = [26140-7960, 12934-1436]  # z values for the two bars\n",
        "\n",
        "labels = ['Males', 'Females']  # Labels for the two bars\n",
        "x = np.arange(len(labels))  # the label locations\n",
        "width = 0.35  # the width of the bars\n",
        "\n",
        "fig, ax = plt.subplots()\n",
        "\n",
        "# Create the bars for 'y'\n",
        "bars_y = ax.bar(x - width/2, y_values, width, label='<=50K', color='blue')\n",
        "\n",
        "# Create the bars for 'z' on top of 'y'\n",
        "bars_z = ax.bar(x - width/2, z_values, width, bottom=y_values, label='>50k', color='red')\n",
        "\n",
        "# Add some text for labels, title and custom x-axis tick labels, etc.\n",
        "ax.set_xlabel('Gender')\n",
        "ax.set_ylabel('Count')\n",
        "ax.set_title('Income by Gender')\n",
        "ax.set_xticks(x)\n",
        "ax.set_xticklabels(labels)\n",
        "ax.legend()\n",
        "\n",
        "# Show the plot\n",
        "plt.show()\n"
      ],
      "metadata": {
        "colab": {
          "base_uri": "https://localhost:8080/",
          "height": 472
        },
        "id": "j2KnlWXACKZP",
        "outputId": "78beee89-4036-4e65-f4ac-9584d6432f64"
      },
      "execution_count": 142,
      "outputs": [
        {
          "output_type": "display_data",
          "data": {
            "text/plain": [
              "<Figure size 640x480 with 1 Axes>"
            ],
            "image/png": "[encoded data removed]"
          },
          "metadata": {}
        }
      ]
    },
    {
      "cell_type": "markdown",
      "source": [
        "Interestingly, females are underrepresented. This could be possibly caused by census bias.\n",
        "\n"
      ],
      "metadata": {
        "id": "seLP8MRlFKU6"
      }
    },
    {
      "cell_type": "code",
      "source": [
        "%%ag\n",
        "def workclass_encode(x:str)-> int:\n",
        "\n",
        "  if x == 'Private':\n",
        "    return 4\n",
        "  elif x == 'Self-emp-not-inc':\n",
        "    return 6\n",
        "  elif x == 'Self-emp-inc':\n",
        "    return 5\n",
        "  elif x == 'Federal-gov':\n",
        "    return 1\n",
        "  elif x == 'Local-gov':\n",
        "    return 2\n",
        "  elif x == 'Without-pay':\n",
        "    return 8\n",
        "  elif x == 'State-gov':\n",
        "    return 7\n",
        "  elif x == 'Never-worked':\n",
        "    return 3\n",
        "  else:\n",
        "    return 0\n",
        "train_x_workclass= train_x.applymap(workclass_encode, eps=0.5, output_bounds={'workclass':(0,8)})"
      ],
      "metadata": {
        "id": "cwuV7KsHdsL5",
        "colab": {
          "base_uri": "https://localhost:8080/"
        },
        "outputId": "c8bde987-9dde-4c62-b889-c302af7fb902"
      },
      "execution_count": 44,
      "outputs": [
        {
          "output_type": "stream",
          "name": "stderr",
          "text": [
            "Kernel interrupted successfully\n"
          ]
        }
      ]
    },
    {
      "cell_type": "markdown",
      "source": [
        "Let's see in more details the \"workclass\" variable."
      ],
      "metadata": {
        "id": "7cZ5yXzEnq31"
      }
    },
    {
      "cell_type": "code",
      "source": [
        "%%ag\n",
        "privacy = op_snsql.Privacy(epsilon=8.0 , delta=0.08)\n",
        "reader_workclass = op_snsql.from_df(df=train_x, privacy=privacy)\n"
      ],
      "metadata": {
        "id": "kZxAeofkn6Mb"
      },
      "execution_count": 46,
      "outputs": []
    },
    {
      "cell_type": "code",
      "source": [
        "%%ag\n",
        "c0 = reader_workclass.execute(\"SELECT COUNT(workclass) as Private from df.table WHERE workclass =='Private' \")\n",
        "c1 = reader_workclass.execute(\"SELECT COUNT(workclass) as Selfempnotinc from df.table WHERE workclass == 'Self-emp-not-inc' \")\n",
        "c2 = reader_workclass.execute(\"SELECT COUNT(workclass) as Selfempinc from df.table WHERE workclass == 'Self-emp-inc' \")\n",
        "c3 = reader_workclass.execute(\"SELECT COUNT(workclass) as Federalgov from df.table WHERE workclass == 'Federal-gov' \")\n",
        "c4 = reader_workclass.execute(\"SELECT COUNT(workclass) as Localgov from df.table WHERE workclass == 'Local-gov' \")\n",
        "c5 = reader_workclass.execute(\"SELECT COUNT(workclass) as Withoutpay from df.table WHERE workclass == 'Without-pay' \")\n",
        "c6 = reader_workclass.execute(\"SELECT COUNT(workclass) as Stategov from df.table WHERE workclass == 'State-gov' \")\n",
        "c7 = reader_workclass.execute(\"SELECT COUNT(workclass) as Neverworked from df.table WHERE workclass == 'Never-worked' \")\n",
        "\n",
        "export(str([c0, c1, c2, c3, c4, c5, c6, c7]), \"counts_workclass\")\n"
      ],
      "metadata": {
        "colab": {
          "base_uri": "https://localhost:8080/"
        },
        "id": "_nlkF6v8oEML",
        "outputId": "a5d1628f-98da-4440-9af0-5d3c3df9adce"
      },
      "execution_count": 50,
      "outputs": [
        {
          "output_type": "stream",
          "name": "stdout",
          "text": [
            "Setting up exported variable in local environment: counts_workclass\n"
          ]
        }
      ]
    },
    {
      "cell_type": "code",
      "source": [
        "counts_workclass"
      ],
      "metadata": {
        "colab": {
          "base_uri": "https://localhost:8080/",
          "height": 35
        },
        "id": "5R0wCNUgqASh",
        "outputId": "5cae29f6-e9ae-4f7a-886e-56d36623c48d"
      },
      "execution_count": 51,
      "outputs": [
        {
          "output_type": "execute_result",
          "data": {
            "text/plain": [
              "\"[[['Private'], [27122]], [['Selfempnotinc'], [3061]], [['Selfempinc'], [1377]], [['Federalgov'], [1145]], [['Localgov'], [2499]], [['Withoutpay'], [18]], [['Stategov'], [1578]], [['Neverworked'], [9]]]\""
            ],
            "application/vnd.google.colaboratory.intrinsic+json": {
              "type": "string"
            }
          },
          "metadata": {},
          "execution_count": 51
        }
      ]
    },
    {
      "cell_type": "markdown",
      "source": [
        "Notice that there are two small groups: – Never-worked and Without-pay. We will combine them with Unknowns into a group called Other/Unknown. Those who work in the government are further break down into federal, state, and local levels. To facilitate the analysis, I group them into one group called Government. While those who are self-employed fall into two groups, incorporated and not incorporated, and are grouped into Self-Employed."
      ],
      "metadata": {
        "id": "PSDO2HPJqKeh"
      }
    },
    {
      "cell_type": "code",
      "source": [
        "private_work = 27122\n",
        "n_obs = n_obs_income\n",
        "self_employed = 3061 + 1377\n",
        "government = 1145 + 2499 + 1577\n",
        "other = n_obs - (private_work + self_employed + government)\n",
        "\n",
        "# Create a bar plot\n",
        "plt.bar(['Private', 'Government', 'Other/Unkwown', 'Self-Employed'], [private_work, government, other, government], color=['blue', 'orange', 'red', 'green'], alpha = 0.7)\n",
        "\n",
        "# Add labels and title\n",
        "plt.xlabel('industry')\n",
        "plt.ylabel('n of employees')\n",
        "plt.title('Employment by industry')\n",
        "\n",
        "# Show the plot\n",
        "plt.show()\n",
        "\n"
      ],
      "metadata": {
        "colab": {
          "base_uri": "https://localhost:8080/",
          "height": 472
        },
        "id": "ALJLxt7zyIk7",
        "outputId": "f79c307f-dbfc-44f9-f3b0-56f2b3cf237f"
      },
      "execution_count": 52,
      "outputs": [
        {
          "output_type": "display_data",
          "data": {
            "text/plain": [
              "<Figure size 640x480 with 1 Axes>"
            ],
            "image/png": "[encoded data removed]"
          },
          "metadata": {}
        }
      ]
    },
    {
      "cell_type": "code",
      "source": [
        "%%ag\n",
        "def workclass_final_encode(x:str)-> int:\n",
        "\n",
        "  if x == 'Private':\n",
        "    return 1\n",
        "  elif x == 'Self-emp-not-inc' or 'Self-emp-inc':\n",
        "    return 3\n",
        "  elif x == 'Federal-gov' or 'Local-gov' or 'State-gov':\n",
        "    return 2\n",
        "  else: # includes Never-worked and Without-pay and other Nans, etc\n",
        "    return 0\n",
        "train_x_workclass_def= train_x.applymap(workclass_encode, eps=0.5, output_bounds={'workclass':(0,3)})"
      ],
      "metadata": {
        "colab": {
          "base_uri": "https://localhost:8080/"
        },
        "id": "4ge1530sqQJs",
        "outputId": "8a9e9611-ad9c-4524-8d0f-093f91ad2647"
      },
      "execution_count": 53,
      "outputs": [
        {
          "output_type": "stream",
          "name": "stdout",
          "text": [
            "Setting up exported variable in local environment: counts_workclass\n"
          ]
        }
      ]
    },
    {
      "cell_type": "markdown",
      "source": [
        "Thus, there are now four categories for the variable workclass.\n"
      ],
      "metadata": {
        "id": "np9PXXmyq1JL"
      }
    },
    {
      "cell_type": "code",
      "source": [
        "%%ag\n",
        "df[ \"workclass\"]=train_x_workclass_def[\"workclass\"]"
      ],
      "metadata": {
        "id": "bKYPtMcJ7c9Z"
      },
      "execution_count": 54,
      "outputs": []
    },
    {
      "cell_type": "code",
      "source": [
        "%%ag\n",
        "privacy = op_snsql.Privacy(epsilon=4.0 , delta=0.04)\n",
        "reader_workclass_def = op_snsql.from_df(df=df, privacy=privacy)\n"
      ],
      "metadata": {
        "id": "teO5lt_9JkEM"
      },
      "execution_count": 61,
      "outputs": []
    },
    {
      "cell_type": "code",
      "source": [
        "%%ag\n",
        "c0_priv = reader_workclass_def.execute(\"SELECT COUNT(workclass) as Private from df.table WHERE workclass ==1 AND income == 0 \")\n",
        "c1_self = reader_workclass_def.execute(\"SELECT COUNT(workclass) as Selfemp from df.table WHERE workclass == 3 AND income == 0\")\n",
        "c2_gov = reader_workclass_def.execute(\"SELECT COUNT(workclass) as Gov from df.table WHERE workclass == 2 AND income == 0\")\n",
        "c3_oth= reader_workclass_def.execute(\"SELECT COUNT(workclass) as Other from df.table WHERE workclass == 0 AND income == 0\")\n",
        "\n",
        "export(str([c0_priv, c1_self, c2_gov, c3_oth]), \"counts_gtr50\")\n"
      ],
      "metadata": {
        "colab": {
          "base_uri": "https://localhost:8080/"
        },
        "id": "uyg2oDye74S6",
        "outputId": "ed48c2f3-b1ec-4177-81a3-0ad8ee6a90b2"
      },
      "execution_count": 62,
      "outputs": [
        {
          "output_type": "stream",
          "name": "stdout",
          "text": [
            "Setting up exported variable in local environment: counts_gtr50\n"
          ]
        }
      ]
    },
    {
      "cell_type": "code",
      "source": [
        "counts_gtr50"
      ],
      "metadata": {
        "colab": {
          "base_uri": "https://localhost:8080/",
          "height": 35
        },
        "id": "uYMv6pz8Kya_",
        "outputId": "41cd556f-8ce5-45d5-d9a5-5252e84c8203"
      },
      "execution_count": 63,
      "outputs": [
        {
          "output_type": "execute_result",
          "data": {
            "text/plain": [
              "\"[[['Private'], [473]], [['Selfemp'], [7979]], [['Gov'], [734]], [['Other'], [212]]]\""
            ],
            "application/vnd.google.colaboratory.intrinsic+json": {
              "type": "string"
            }
          },
          "metadata": {},
          "execution_count": 63
        }
      ]
    },
    {
      "cell_type": "code",
      "source": [
        "private_work = 27122\n",
        "n_obs = n_obs_income\n",
        "self_employed = 3061 + 1377\n",
        "government = 1145 + 2499 + 1577\n",
        "other = n_obs - (private_work + self_employed + government)\n"
      ],
      "metadata": {
        "id": "fduaGWs0K927"
      },
      "execution_count": null,
      "outputs": []
    },
    {
      "cell_type": "code",
      "source": [
        "# Replace these with your actual values\n",
        "z_values = [473, 7979, 734, 211]  # y values for the four bars\n",
        "Y_values = [private_work-473, self_employed-7979, government-734, other-211]  # z values for the four bars\n",
        "\n",
        "labels = ['Private', 'Self-Employed', 'Government', 'Other/Unkwown']\n",
        "x = np.arange(len(labels))  # the label locations\n",
        "width = 0.35  # the width of the bars\n",
        "\n",
        "fig, ax = plt.subplots()\n",
        "\n",
        "# Create the bars for 'y'\n",
        "bars_y = ax.bar(x - width/2, y_values, width, label='<=50K', color='blue')\n",
        "\n",
        "# Create the bars for 'z' on top of 'y'\n",
        "bars_z = ax.bar(x - width/2, z_values, width, bottom=y_values, label='>50k', color='red')\n",
        "\n",
        "# Add some text for labels, title and custom x-axis tick labels, etc.\n",
        "ax.set_xlabel('industry')\n",
        "ax.set_ylabel('Count')\n",
        "ax.set_title('Income by Industry')\n",
        "ax.set_xticks(x)\n",
        "ax.set_xticklabels(labels)\n",
        "ax.legend()\n",
        "\n",
        "# Show the plot\n",
        "plt.show()\n"
      ],
      "metadata": {
        "colab": {
          "base_uri": "https://localhost:8080/",
          "height": 472
        },
        "id": "vQlHiHrtKoma",
        "outputId": "4fcd632c-7f98-438c-f91e-932a19fdf65f"
      },
      "execution_count": 65,
      "outputs": [
        {
          "output_type": "display_data",
          "data": {
            "text/plain": [
              "<Figure size 640x480 with 1 Axes>"
            ],
            "image/png": "[encoded data removed]"
          },
          "metadata": {}
        }
      ]
    },
    {
      "cell_type": "markdown",
      "source": [
        "TODO: THERE'S SOMETHING WRING WITH THIS PLOT (LIKE THE COLS ARE SWITCHED...)"
      ],
      "metadata": {
        "id": "xqKxxqwhNE4f"
      }
    },
    {
      "cell_type": "markdown",
      "source": [
        "Observe that those who are self employed seem to have the highest tendency of making greater than $50,000 a year.\n",
        "\n"
      ],
      "metadata": {
        "id": "B8pFhKZBMSPQ"
      }
    },
    {
      "cell_type": "markdown",
      "source": [
        "Now, we finish the construction the definitive dataset with which we will work."
      ],
      "metadata": {
        "id": "UdqDeci0uIoB"
      }
    },
    {
      "cell_type": "markdown",
      "source": [
        "We convert the remaining categorical variables into numerical ones.\n",
        "We start with \"marital-status\". \"marital_status\" is a categorical variable with 7 categories indicating the marital status of observations. However, as in the case of \"workclass\", for simplicity, it can be blocked into a few categories as well.\n",
        "\n"
      ],
      "metadata": {
        "id": "0gtJtmQHuwo2"
      }
    },
    {
      "cell_type": "code",
      "source": [
        "%%ag\n",
        "def marital_status_encode(x:str)-> int:\n",
        "\n",
        "  if x == 'Married-civ-spouse' or 'Married-AF-spouse' or 'Married-spouse-absent':\n",
        "    return 4\n",
        "  elif x == 'Divorced':\n",
        "    return 3\n",
        "  elif x == 'Widowed':\n",
        "    return 2\n",
        "  elif x == 'Separated':\n",
        "    return 1\n",
        "  else: # Single = Never-married + other\n",
        "    return 0\n",
        "\n",
        "train_x_marital = train_x.applymap(marital_status_encode, eps=0.5, output_bounds={'marital-status':(0,4)})"
      ],
      "metadata": {
        "id": "8XkQiuE0uc2T"
      },
      "execution_count": 66,
      "outputs": []
    },
    {
      "cell_type": "markdown",
      "source": [
        "We know define the dataset with which we will finally work"
      ],
      "metadata": {
        "id": "dgJKhYhGwVsK"
      }
    },
    {
      "cell_type": "code",
      "source": [
        "%%ag\n",
        "df[\"marital-status\"] = train_x_marital[\"marital-status\"]"
      ],
      "metadata": {
        "id": "BlP8ksz3V2W8"
      },
      "execution_count": 67,
      "outputs": []
    },
    {
      "cell_type": "markdown",
      "source": [
        "Therefore, the definitive dataframe is called \"df\" and we can see an overview of it by:"
      ],
      "metadata": {
        "id": "_CVON7RkOHBE"
      }
    },
    {
      "cell_type": "code",
      "source": [
        "%%ag\n",
        "export(df.describe(eps=1), \"description_df\")"
      ],
      "metadata": {
        "colab": {
          "base_uri": "https://localhost:8080/"
        },
        "id": "y2l99L74OFZc",
        "outputId": "e71a86a9-a0cd-4e9c-88fd-3ac0d802431e"
      },
      "execution_count": 68,
      "outputs": [
        {
          "output_type": "stream",
          "name": "stdout",
          "text": [
            "Total epsilon spent = 1.0000\n",
            "\n",
            "Setting up exported variable in local environment: description_df\n"
          ]
        }
      ]
    },
    {
      "cell_type": "code",
      "source": [
        "description_df"
      ],
      "metadata": {
        "colab": {
          "base_uri": "https://localhost:8080/",
          "height": 300
        },
        "id": "cMt1_tS4OSGy",
        "outputId": "05038bf2-d005-43d9-f82a-97b9c151d5ba"
      },
      "execution_count": 69,
      "outputs": [
        {
          "output_type": "execute_result",
          "data": {
            "text/plain": [
              "                age  educational-num  capital-gain  capital-loss  \\\n",
              "count  39073.000000     39073.000000  39073.000000  39073.000000   \n",
              "mean      38.819400        10.055820   1365.715946     92.363053   \n",
              "std       15.381747         2.536135   5499.520742    451.572578   \n",
              "min       17.299280         1.272477    209.822959     30.717592   \n",
              "25%       27.490189         8.376753    330.591108    682.162995   \n",
              "50%       36.797130         9.411683   1758.109871    617.901386   \n",
              "75%       47.082926        12.538960    769.604828   1325.117619   \n",
              "max       79.287625        15.854033  49539.578332   3355.117817   \n",
              "\n",
              "       hours-per-week        income        gender     workclass  \\\n",
              "count    39073.000000  39073.000000  39073.000000  39073.000000   \n",
              "mean        40.190647      0.760606      0.669579      2.691025   \n",
              "std         10.156838      0.421943      0.469781      0.786451   \n",
              "min          3.124095      0.979441      0.934728      0.014035   \n",
              "25%         38.173104      0.231820      0.154068      2.718341   \n",
              "50%         41.001884      0.154293      0.275054      2.705757   \n",
              "75%         44.876313      0.559087      0.766345      2.937792   \n",
              "max         80.268867      0.160223      0.926814      2.045151   \n",
              "\n",
              "       marital-status  \n",
              "count    39073.000000  \n",
              "mean         3.999083  \n",
              "std          0.241034  \n",
              "min          1.634489  \n",
              "25%          0.166139  \n",
              "50%          2.767870  \n",
              "75%          1.052169  \n",
              "max          0.907970  "
            ],
            "text/html": [
              "\n",
              "\n",
              "  <div id=\"df-2fb25ece-db63-4511-a19d-384a4d085397\">\n",
              "    <div class=\"colab-df-container\">\n",
              "      <div>\n",
              "<style scoped>\n",
              "    .dataframe tbody tr th:only-of-type {\n",
              "        vertical-align: middle;\n",
              "    }\n",
              "\n",
              "    .dataframe tbody tr th {\n",
              "        vertical-align: top;\n",
              "    }\n",
              "\n",
              "    .dataframe thead th {\n",
              "        text-align: right;\n",
              "    }\n",
              "</style>\n",
              "<table border=\"1\" class=\"dataframe\">\n",
              "  <thead>\n",
              "    <tr style=\"text-align: right;\">\n",
              "      <th></th>\n",
              "      <th>age</th>\n",
              "      <th>educational-num</th>\n",
              "      <th>capital-gain</th>\n",
              "      <th>capital-loss</th>\n",
              "      <th>hours-per-week</th>\n",
              "      <th>income</th>\n",
              "      <th>gender</th>\n",
              "      <th>workclass</th>\n",
              "      <th>marital-status</th>\n",
              "    </tr>\n",
              "  </thead>\n",
              "  <tbody>\n",
              "    <tr>\n",
              "      <th>count</th>\n",
              "      <td>39073.000000</td>\n",
              "      <td>39073.000000</td>\n",
              "      <td>39073.000000</td>\n",
              "      <td>39073.000000</td>\n",
              "      <td>39073.000000</td>\n",
              "      <td>39073.000000</td>\n",
              "      <td>39073.000000</td>\n",
              "      <td>39073.000000</td>\n",
              "      <td>39073.000000</td>\n",
              "    </tr>\n",
              "    <tr>\n",
              "      <th>mean</th>\n",
              "      <td>38.819400</td>\n",
              "      <td>10.055820</td>\n",
              "      <td>1365.715946</td>\n",
              "      <td>92.363053</td>\n",
              "      <td>40.190647</td>\n",
              "      <td>0.760606</td>\n",
              "      <td>0.669579</td>\n",
              "      <td>2.691025</td>\n",
              "      <td>3.999083</td>\n",
              "    </tr>\n",
              "    <tr>\n",
              "      <th>std</th>\n",
              "      <td>15.381747</td>\n",
              "      <td>2.536135</td>\n",
              "      <td>5499.520742</td>\n",
              "      <td>451.572578</td>\n",
              "      <td>10.156838</td>\n",
              "      <td>0.421943</td>\n",
              "      <td>0.469781</td>\n",
              "      <td>0.786451</td>\n",
              "      <td>0.241034</td>\n",
              "    </tr>\n",
              "    <tr>\n",
              "      <th>min</th>\n",
              "      <td>17.299280</td>\n",
              "      <td>1.272477</td>\n",
              "      <td>209.822959</td>\n",
              "      <td>30.717592</td>\n",
              "      <td>3.124095</td>\n",
              "      <td>0.979441</td>\n",
              "      <td>0.934728</td>\n",
              "      <td>0.014035</td>\n",
              "      <td>1.634489</td>\n",
              "    </tr>\n",
              "    <tr>\n",
              "      <th>25%</th>\n",
              "      <td>27.490189</td>\n",
              "      <td>8.376753</td>\n",
              "      <td>330.591108</td>\n",
              "      <td>682.162995</td>\n",
              "      <td>38.173104</td>\n",
              "      <td>0.231820</td>\n",
              "      <td>0.154068</td>\n",
              "      <td>2.718341</td>\n",
              "      <td>0.166139</td>\n",
              "    </tr>\n",
              "    <tr>\n",
              "      <th>50%</th>\n",
              "      <td>36.797130</td>\n",
              "      <td>9.411683</td>\n",
              "      <td>1758.109871</td>\n",
              "      <td>617.901386</td>\n",
              "      <td>41.001884</td>\n",
              "      <td>0.154293</td>\n",
              "      <td>0.275054</td>\n",
              "      <td>2.705757</td>\n",
              "      <td>2.767870</td>\n",
              "    </tr>\n",
              "    <tr>\n",
              "      <th>75%</th>\n",
              "      <td>47.082926</td>\n",
              "      <td>12.538960</td>\n",
              "      <td>769.604828</td>\n",
              "      <td>1325.117619</td>\n",
              "      <td>44.876313</td>\n",
              "      <td>0.559087</td>\n",
              "      <td>0.766345</td>\n",
              "      <td>2.937792</td>\n",
              "      <td>1.052169</td>\n",
              "    </tr>\n",
              "    <tr>\n",
              "      <th>max</th>\n",
              "      <td>79.287625</td>\n",
              "      <td>15.854033</td>\n",
              "      <td>49539.578332</td>\n",
              "      <td>3355.117817</td>\n",
              "      <td>80.268867</td>\n",
              "      <td>0.160223</td>\n",
              "      <td>0.926814</td>\n",
              "      <td>2.045151</td>\n",
              "      <td>0.907970</td>\n",
              "    </tr>\n",
              "  </tbody>\n",
              "</table>\n",
              "</div>\n",
              "      <button class=\"colab-df-convert\" onclick=\"convertToInteractive('df-2fb25ece-db63-4511-a19d-384a4d085397')\"\n",
              "              title=\"Convert this dataframe to an interactive table.\"\n",
              "              style=\"display:none;\">\n",
              "\n",
              "  <svg xmlns=\"http://www.w3.org/2000/svg\" height=\"24px\"viewBox=\"0 0 24 24\"\n",
              "       width=\"24px\">\n",
              "    <path d=\"M0 0h24v24H0V0z\" fill=\"none\"/>\n",
              "    <path d=\"M18.56 5.44l.94 2.06.94-2.06 2.06-.94-2.06-.94-.94-2.06-.94 2.06-2.06.94zm-11 1L8.5 8.5l.94-2.06 2.06-.94-2.06-.94L8.5 2.5l-.94 2.06-2.06.94zm10 10l.94 2.06.94-2.06 2.06-.94-2.06-.94-.94-2.06-.94 2.06-2.06.94z\"/><path d=\"M17.41 7.96l-1.37-1.37c-.4-.4-.92-.59-1.43-.59-.52 0-1.04.2-1.43.59L10.3 9.45l-7.72 7.72c-.78.78-.78 2.05 0 2.83L4 21.41c.39.39.9.59 1.41.59.51 0 1.02-.2 1.41-.59l7.78-7.78 2.81-2.81c.8-.78.8-2.07 0-2.86zM5.41 20L4 18.59l7.72-7.72 1.47 1.35L5.41 20z\"/>\n",
              "  </svg>\n",
              "      </button>\n",
              "\n",
              "\n",
              "\n",
              "    <div id=\"df-4b93ad70-63c6-44d8-905e-6ced5ca67a67\">\n",
              "      <button class=\"colab-df-quickchart\" onclick=\"quickchart('df-4b93ad70-63c6-44d8-905e-6ced5ca67a67')\"\n",
              "              title=\"Suggest charts.\"\n",
              "              style=\"display:none;\">\n",
              "\n",
              "<svg xmlns=\"http://www.w3.org/2000/svg\" height=\"24px\"viewBox=\"0 0 24 24\"\n",
              "     width=\"24px\">\n",
              "    <g>\n",
              "        <path d=\"M19 3H5c-1.1 0-2 .9-2 2v14c0 1.1.9 2 2 2h14c1.1 0 2-.9 2-2V5c0-1.1-.9-2-2-2zM9 17H7v-7h2v7zm4 0h-2V7h2v10zm4 0h-2v-4h2v4z\"/>\n",
              "    </g>\n",
              "</svg>\n",
              "      </button>\n",
              "    </div>\n",
              "\n",
              "<style>\n",
              "  .colab-df-quickchart {\n",
              "    background-color: #E8F0FE;\n",
              "    border: none;\n",
              "    border-radius: 50%;\n",
              "    cursor: pointer;\n",
              "    display: none;\n",
              "    fill: #1967D2;\n",
              "    height: 32px;\n",
              "    padding: 0 0 0 0;\n",
              "    width: 32px;\n",
              "  }\n",
              "\n",
              "  .colab-df-quickchart:hover {\n",
              "    background-color: #E2EBFA;\n",
              "    box-shadow: 0px 1px 2px rgba(60, 64, 67, 0.3), 0px 1px 3px 1px rgba(60, 64, 67, 0.15);\n",
              "    fill: #174EA6;\n",
              "  }\n",
              "\n",
              "  [theme=dark] .colab-df-quickchart {\n",
              "    background-color: #3B4455;\n",
              "    fill: #D2E3FC;\n",
              "  }\n",
              "\n",
              "  [theme=dark] .colab-df-quickchart:hover {\n",
              "    background-color: #434B5C;\n",
              "    box-shadow: 0px 1px 3px 1px rgba(0, 0, 0, 0.15);\n",
              "    filter: drop-shadow(0px 1px 2px rgba(0, 0, 0, 0.3));\n",
              "    fill: #FFFFFF;\n",
              "  }\n",
              "</style>\n",
              "\n",
              "    <script>\n",
              "      async function quickchart(key) {\n",
              "        const containerElement = document.querySelector('#' + key);\n",
              "        const charts = await google.colab.kernel.invokeFunction(\n",
              "            'suggestCharts', [key], {});\n",
              "      }\n",
              "    </script>\n",
              "\n",
              "      <script>\n",
              "\n",
              "function displayQuickchartButton(domScope) {\n",
              "  let quickchartButtonEl =\n",
              "    domScope.querySelector('#df-4b93ad70-63c6-44d8-905e-6ced5ca67a67 button.colab-df-quickchart');\n",
              "  quickchartButtonEl.style.display =\n",
              "    google.colab.kernel.accessAllowed ? 'block' : 'none';\n",
              "}\n",
              "\n",
              "        displayQuickchartButton(document);\n",
              "      </script>\n",
              "      <style>\n",
              "    .colab-df-container {\n",
              "      display:flex;\n",
              "      flex-wrap:wrap;\n",
              "      gap: 12px;\n",
              "    }\n",
              "\n",
              "    .colab-df-convert {\n",
              "      background-color: #E8F0FE;\n",
              "      border: none;\n",
              "      border-radius: 50%;\n",
              "      cursor: pointer;\n",
              "      display: none;\n",
              "      fill: #1967D2;\n",
              "      height: 32px;\n",
              "      padding: 0 0 0 0;\n",
              "      width: 32px;\n",
              "    }\n",
              "\n",
              "    .colab-df-convert:hover {\n",
              "      background-color: #E2EBFA;\n",
              "      box-shadow: 0px 1px 2px rgba(60, 64, 67, 0.3), 0px 1px 3px 1px rgba(60, 64, 67, 0.15);\n",
              "      fill: #174EA6;\n",
              "    }\n",
              "\n",
              "    [theme=dark] .colab-df-convert {\n",
              "      background-color: #3B4455;\n",
              "      fill: #D2E3FC;\n",
              "    }\n",
              "\n",
              "    [theme=dark] .colab-df-convert:hover {\n",
              "      background-color: #434B5C;\n",
              "      box-shadow: 0px 1px 3px 1px rgba(0, 0, 0, 0.15);\n",
              "      filter: drop-shadow(0px 1px 2px rgba(0, 0, 0, 0.3));\n",
              "      fill: #FFFFFF;\n",
              "    }\n",
              "  </style>\n",
              "\n",
              "      <script>\n",
              "        const buttonEl =\n",
              "          document.querySelector('#df-2fb25ece-db63-4511-a19d-384a4d085397 button.colab-df-convert');\n",
              "        buttonEl.style.display =\n",
              "          google.colab.kernel.accessAllowed ? 'block' : 'none';\n",
              "\n",
              "        async function convertToInteractive(key) {\n",
              "          const element = document.querySelector('#df-2fb25ece-db63-4511-a19d-384a4d085397');\n",
              "          const dataTable =\n",
              "            await google.colab.kernel.invokeFunction('convertToInteractive',\n",
              "                                                     [key], {});\n",
              "          if (!dataTable) return;\n",
              "\n",
              "          const docLinkHtml = 'Like what you see? Visit the ' +\n",
              "            '<a target=\"_blank\" href=https://colab.research.google.com/notebooks/data_table.ipynb>data table notebook</a>'\n",
              "            + ' to learn more about interactive tables.';\n",
              "          element.innerHTML = '';\n",
              "          dataTable['output_type'] = 'display_data';\n",
              "          await google.colab.output.renderOutput(dataTable, element);\n",
              "          const docLink = document.createElement('div');\n",
              "          docLink.innerHTML = docLinkHtml;\n",
              "          element.appendChild(docLink);\n",
              "        }\n",
              "      </script>\n",
              "    </div>\n",
              "  </div>\n"
            ]
          },
          "metadata": {},
          "execution_count": 69
        }
      ]
    },
    {
      "cell_type": "markdown",
      "source": [
        "We also look at the correlation (private) between the covariables and the label we want to predict."
      ],
      "metadata": {
        "id": "tz1FIqO5Oghf"
      }
    },
    {
      "cell_type": "code",
      "source": [
        "%%ag\n",
        "priv_corr = df.corr(eps=9)\n",
        "export(priv_corr , 'priv_corr')"
      ],
      "metadata": {
        "colab": {
          "base_uri": "https://localhost:8080/"
        },
        "id": "heAnYLslOWwY",
        "outputId": "27711759-5f0b-4eff-a6c3-b610eed69e4d"
      },
      "execution_count": 70,
      "outputs": [
        {
          "output_type": "stream",
          "name": "stdout",
          "text": [
            "Setting up exported variable in local environment: priv_corr\n"
          ]
        }
      ]
    },
    {
      "cell_type": "code",
      "source": [
        "result = priv_corr.apply(pd.to_numeric, errors='coerce').astype(float)\n",
        "sb.heatmap(result , annot = True)"
      ],
      "metadata": {
        "colab": {
          "base_uri": "https://localhost:8080/",
          "height": 556
        },
        "id": "-b2t59qhOuV8",
        "outputId": "5f7d9105-0586-43e5-a92a-d242fb28daf4"
      },
      "execution_count": 72,
      "outputs": [
        {
          "output_type": "execute_result",
          "data": {
            "text/plain": [
              "<Axes: >"
            ]
          },
          "metadata": {},
          "execution_count": 72
        },
        {
          "output_type": "display_data",
          "data": {
            "text/plain": [
              "<Figure size 640x480 with 2 Axes>"
            ],
            "image/png": "[encoded data removed]"
          },
          "metadata": {}
        }
      ]
    },
    {
      "cell_type": "markdown",
      "source": [
        "It looks like the strongest correlations are between education, age and martial-status (with income)."
      ],
      "metadata": {
        "id": "4XKyZh1LPDXs"
      }
    },
    {
      "cell_type": "markdown",
      "source": [
        "Model Fitting – Logistic Regression\n"
      ],
      "metadata": {
        "id": "F7QY-ffLPbF5"
      }
    },
    {
      "cell_type": "code",
      "source": [
        "%%ag\n",
        "from op_diffprivlib.models import LogisticRegression"
      ],
      "metadata": {
        "id": "dkI9Bh40OyjU"
      },
      "execution_count": 73,
      "outputs": []
    },
    {
      "cell_type": "code",
      "source": [
        "%%ag\n",
        "export(df.columns, \"def_cols\")"
      ],
      "metadata": {
        "colab": {
          "base_uri": "https://localhost:8080/"
        },
        "id": "Bm-00mjOPyL9",
        "outputId": "d2651228-d086-40ac-8126-d14cae24e91f"
      },
      "execution_count": 74,
      "outputs": [
        {
          "output_type": "stream",
          "name": "stdout",
          "text": [
            "Setting up exported variable in local environment: def_cols\n"
          ]
        }
      ]
    },
    {
      "cell_type": "code",
      "source": [
        "def_cols"
      ],
      "metadata": {
        "colab": {
          "base_uri": "https://localhost:8080/"
        },
        "id": "jFULqgEgP1lU",
        "outputId": "247572a3-4fad-4262-8ab6-986d03c20c4b"
      },
      "execution_count": 75,
      "outputs": [
        {
          "output_type": "execute_result",
          "data": {
            "text/plain": [
              "Index(['age', 'educational-num', 'capital-gain', 'capital-loss',\n",
              "       'hours-per-week', 'income', 'gender', 'workclass', 'marital-status'],\n",
              "      dtype='object')"
            ]
          },
          "metadata": {},
          "execution_count": 75
        }
      ]
    },
    {
      "cell_type": "code",
      "source": [
        "%%ag\n",
        "x_training = df[['age', 'workclass', 'educational-num','marital-status', 'gender', 'capital-gain', 'capital-loss',\n",
        "       'hours-per-week']]\n",
        "y_training = df['income']"
      ],
      "metadata": {
        "id": "aUJmn8wIPinR"
      },
      "execution_count": 86,
      "outputs": []
    },
    {
      "cell_type": "code",
      "source": [
        "%%ag\n",
        "train_x_2 = x_training ** 2\n",
        "l_2_norm = train_x_2.sum(axis = 1) ** 0.5\n",
        "l_2_norm = l_2_norm.quantile(1, eps=1)    # dp_max(sum(x**2, 1)**0.5)"
      ],
      "metadata": {
        "id": "GvjVhWuZQC1i"
      },
      "execution_count": 77,
      "outputs": []
    },
    {
      "cell_type": "code",
      "source": [
        "%%ag\n",
        "logr = LogisticRegression(epsilon = 10, data_norm = l_2_norm)\n",
        "logr.fit(x_training, y_training)\n"
      ],
      "metadata": {
        "id": "9ohgTaKlP82l"
      },
      "execution_count": 88,
      "outputs": []
    },
    {
      "cell_type": "markdown",
      "source": [
        "We prepare the test data for the predictions"
      ],
      "metadata": {
        "id": "dF2axePrTV38"
      }
    },
    {
      "cell_type": "code",
      "source": [
        "%%ag\n",
        "testing_x = test_x[['age', 'workclass', 'educational-num','marital-status', 'gender', 'capital-gain', 'capital-loss', 'hours-per-week']]"
      ],
      "metadata": {
        "id": "l6zHvdrlR3Mh"
      },
      "execution_count": 133,
      "outputs": []
    },
    {
      "cell_type": "code",
      "source": [
        "%%ag\n",
        "testing_x[\"workclass\"]= test_x[\"workclass\"].map(workclass_final_encode)"
      ],
      "metadata": {
        "colab": {
          "base_uri": "https://localhost:8080/"
        },
        "id": "wMWbQ7vNTUvk",
        "outputId": "4a918f58-5470-44c0-befa-535c1ba5b314"
      },
      "execution_count": 134,
      "outputs": [
        {
          "output_type": "stream",
          "name": "stderr",
          "text": [
            "/tmp/ipykernel_27181/3202330002.py:1: SettingWithCopyWarning: \n",
            "A value is trying to be set on a copy of a slice from a DataFrame.\n",
            "Try using .loc[row_indexer,col_indexer] = value instead\n",
            "\n",
            "See the caveats in the documentation: https://pandas.pydata.org/pandas-docs/stable/user_guide/indexing.html#returning-a-view-versus-a-copy\n",
            "  testing_x[\"workclass\"]= test_x[\"workclass\"].map(workclass_final_encode)\n",
            "\n"
          ]
        }
      ]
    },
    {
      "cell_type": "code",
      "source": [
        "%%ag\n",
        "testing_x[\"gender\"]= test_x[\"gender\"].map(gender_encode)\n"
      ],
      "metadata": {
        "colab": {
          "base_uri": "https://localhost:8080/"
        },
        "id": "PzGmCBWjVaFG",
        "outputId": "3c7045b0-4f41-4de9-be18-708585f8408e"
      },
      "execution_count": 135,
      "outputs": [
        {
          "output_type": "stream",
          "name": "stderr",
          "text": [
            "/tmp/ipykernel_27181/2690738465.py:1: SettingWithCopyWarning: \n",
            "A value is trying to be set on a copy of a slice from a DataFrame.\n",
            "Try using .loc[row_indexer,col_indexer] = value instead\n",
            "\n",
            "See the caveats in the documentation: https://pandas.pydata.org/pandas-docs/stable/user_guide/indexing.html#returning-a-view-versus-a-copy\n",
            "  testing_x[\"gender\"]= test_x[\"gender\"].map(gender_encode)\n",
            "\n"
          ]
        }
      ]
    },
    {
      "cell_type": "code",
      "source": [
        "%%ag\n",
        "testing_x['marital-status'] = test_x['marital-status'].map(marital_status_encode)"
      ],
      "metadata": {
        "colab": {
          "base_uri": "https://localhost:8080/"
        },
        "id": "O83hqatPVdYS",
        "outputId": "57135814-f015-47d4-9289-120077ae282e"
      },
      "execution_count": 136,
      "outputs": [
        {
          "output_type": "stream",
          "name": "stderr",
          "text": [
            "/tmp/ipykernel_27181/2024555110.py:1: SettingWithCopyWarning: \n",
            "A value is trying to be set on a copy of a slice from a DataFrame.\n",
            "Try using .loc[row_indexer,col_indexer] = value instead\n",
            "\n",
            "See the caveats in the documentation: https://pandas.pydata.org/pandas-docs/stable/user_guide/indexing.html#returning-a-view-versus-a-copy\n",
            "  testing_x['marital-status'] = test_x['marital-status'].map(marital_status_encode)\n",
            "\n"
          ]
        }
      ]
    },
    {
      "cell_type": "code",
      "source": [
        "%%ag\n",
        "from ag_utils import submit_predictions\n",
        "result = submit_predictions(test_y)\n",
        "import numpy as np\n",
        "import pandas as pd\n",
        "df_pred = pd.DataFrame(np.zeros(shape=(9769, 1)))\n",
        "result = submit_predictions(df_pred)\n",
        "\n"
      ],
      "metadata": {
        "colab": {
          "base_uri": "https://localhost:8080/"
        },
        "id": "9NkASMs6QfOS",
        "outputId": "786904d4-0f82-4f82-80a7-26dd500c7a76"
      },
      "execution_count": 141,
      "outputs": [
        {
          "output_type": "stream",
          "name": "stdout",
          "text": [
            "\u001b[0;31m---------------------------------------------------------------------------\u001b[0m\u001b[0;31mAttributeError\u001b[0m                            Traceback (most recent call last)Cell \u001b[0;32mIn[88], line 1\u001b[0m\n",
            "\u001b[0;32m----> 1\u001b[0m \u001b[38;5;28;01mfrom\u001b[39;00m \u001b[38;5;21;01mag_utils\u001b[39;00m \u001b[38;5;28;01mimport\u001b[39;00m submit_predictions\n",
            "\u001b[1;32m      2\u001b[0m result \u001b[38;5;241m=\u001b[39m submit_predictions(test_y)\n",
            "File \u001b[0;32m/code/dependencies/ag-utils/ag_utils/submit_predictions.py:6\u001b[0m, in \u001b[0;36msubmit_predictions\u001b[0;34m(data)\u001b[0m\n",
            "\u001b[1;32m      5\u001b[0m \u001b[38;5;28;01mdef\u001b[39;00m \u001b[38;5;21msubmit_predictions\u001b[39m(data: pd\u001b[38;5;241m.\u001b[39mDataFrame) \u001b[38;5;241m-\u001b[39m\u001b[38;5;241m>\u001b[39m \u001b[38;5;28;01mNone\u001b[39;00m: \n",
            "\u001b[0;32m----> 6\u001b[0m     request_df_json \u001b[38;5;241m=\u001b[39m BaseSubmitPredictionsRequest(data\u001b[38;5;241m=\u001b[39m\u001b[43mdata\u001b[49m\u001b[38;5;241;43m.\u001b[39;49m\u001b[43mto_json\u001b[49m())\n",
            "\u001b[1;32m      7\u001b[0m     req_obj \u001b[38;5;241m=\u001b[39m BaseRequestWrapper(request\u001b[38;5;241m=\u001b[39mrequest_df_json, request_type\u001b[38;5;241m=\u001b[39m\u001b[38;5;124m\"\u001b[39m\u001b[38;5;124msubmit_predictions\u001b[39m\u001b[38;5;124m\"\u001b[39m)\n",
            "\u001b[1;32m      9\u001b[0m     response \u001b[38;5;241m=\u001b[39m \u001b[38;5;28minput\u001b[39m(req_obj\u001b[38;5;241m.\u001b[39mjson())\n",
            "\u001b[0;31mAttributeError\u001b[0m: 'numpy.ndarray' object has no attribute 'to_json'\n"
          ]
        }
      ]
    },
    {
      "cell_type": "code",
      "source": [],
      "metadata": {
        "id": "IxSLTpsiQKeh"
      },
      "execution_count": null,
      "outputs": []
    }
  ]
}