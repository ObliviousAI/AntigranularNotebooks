{
  "cells": [
    {
      "cell_type": "markdown",
      "metadata": {
        "id": "5az73vDZvCWg"
      },
      "source": [
        "# 📊 **Antigranular** Heart Disease Prediction Contest (ft. **Harvard/OpenDP** and **TPDP**)\n",
        "\n",
        "🎉 Welcome to a new [Antigranular](https://antigranular.com) contest in collaboration with the [TPDP Workshop](https://tpdp.journalprivacyconfidentiality.org/2024/) and [Harvard's OpenDP Community Meeting](https://opendp.org/)!\n",
        "\n",
        "🩺 This time, we are focusing on [heart condition detection](https://en.wikipedia.org/wiki/Cardiovascular_disease) using our new [TensorFlow Privacy](https://github.com/tensorflow/privacy) and [Opacus (PyTorch)](https://opacus.ai/) models!\n",
        "\n",
        "🦜 Any questions? Head over to our [Discord](https://discord.com/invite/KJwApgXs4s)!\n",
        "\n"
      ]
    },
    {
      "cell_type": "markdown",
      "metadata": {
        "id": "BZ1S_Qc0v5hL"
      },
      "source": [
        "## 🏃‍♂️ Getting Started\n",
        "\n",
        "In this section we will download the antigranular package and login\n",
        "\n",
        "\n"
      ]
    },
    {
      "cell_type": "markdown",
      "metadata": {
        "id": "6_ISjJv_eppS"
      },
      "source": [
        "### 📦 Install Antigranular\n",
        "\n",
        "This command installs the [Antigranular PyPI Package](https://pypi.org/project/antigranular/) on the local enviroment.\n"
      ]
    },
    {
      "cell_type": "code",
      "execution_count": null,
      "metadata": {
        "id": "5uFCyt-Puq4K"
      },
      "outputs": [],
      "source": [
        "# Install the Antigranular package\n",
        "!pip install antigranular &> /dev/null"
      ]
    },
    {
      "cell_type": "markdown",
      "metadata": {
        "id": "v7jLQa6Uehks"
      },
      "source": [
        "### ✍ Login to the Enclave\n",
        "\n",
        "Head over to [Competitions](https://www.antigranular.com/competitions) to find your `<user_id>`, `<user_secret>` and the competition's name and copy that command here.\n",
        "\n",
        "![img](https://docs.antigranular.com/shots/comp_cell.png)"
      ]
    },
    {
      "cell_type": "code",
      "execution_count": null,
      "metadata": {
        "colab": {
          "base_uri": "https://localhost:8080/",
          "height": 191
        },
        "id": "w_JcMMSMv_Ze",
        "outputId": "fdd17c9c-3e50-429d-fa8f-87b3e0c1d57d"
      },
      "outputs": [
        {
          "data": {
            "text/html": [],
            "text/plain": [
              "<IPython.core.display.HTML object>"
            ]
          },
          "metadata": {},
          "output_type": "display_data"
        },
        {
          "name": "stdout",
          "output_type": "stream",
          "text": [
            "Dataset \"Heart Disease Prediction Hackathon Dataset\" loaded to the kernel as \u001b[92mheart_disease_prediction_hackathon_dataset\u001b[0m\n",
            "Key Name                       Value Type     \n",
            "---------------------------------------------\n",
            "train_y                        PrivateDataFrame\n",
            "train_x                        PrivateDataFrame\n",
            "test_x                         DataFrame      \n",
            "\n",
            "Connected to Antigranular server session id: 061bb219-76f1-46bd-abd9-511c9f33e345, the session will time out if idle for 25 minutes\n",
            "Cell magic '%%ag' registered successfully, use `%%ag` in a notebook cell to execute your python code on Antigranular private python server\n",
            "🚀 Everything's set up and ready to roll!\n"
          ]
        }
      ],
      "source": [
        "import antigranular as ag\n",
        "session = ag.login(<client_id>,<client_secret>, competition = \"Heart Disease Prediction Hackathon\")"
      ]
    },
    {
      "cell_type": "markdown",
      "metadata": {
        "id": "Jeg6W7fPNHhS"
      },
      "source": [
        "### 🤖 Using AG\n",
        "\n",
        "You can now simply use ``%%ag`` to run code on an enclave! You can always head over to our [Docs](https://docs.antigranular.com/) to learn more about AG, but for now, we can define train and test variables as follows."
      ]
    },
    {
      "cell_type": "code",
      "execution_count": null,
      "metadata": {
        "id": "8IHVwjFKk2Ys"
      },
      "outputs": [],
      "source": [
        "%%ag\n",
        "x_train = heart_disease_prediction_hackathon_dataset[\"train_x\"]\n",
        "y_train = heart_disease_prediction_hackathon_dataset[\"train_y\"]\n",
        "x_test = heart_disease_prediction_hackathon_dataset[\"test_x\"]"
      ]
    },
    {
      "cell_type": "markdown",
      "metadata": {
        "id": "4oMW3Eh8RDl4"
      },
      "source": [
        "### 🕵️‍♂️ Exploring data\n",
        "\n",
        "Exploring data in Antigranular involves spending your epsilon budget, be mindful of your usage but remember that the less epsilon you use, the less accurate your results will get!"
      ]
    },
    {
      "cell_type": "code",
      "execution_count": null,
      "metadata": {
        "colab": {
          "base_uri": "https://localhost:8080/"
        },
        "id": "PMiVe3n_t4um",
        "outputId": "d998292a-4f02-4812-9578-8263317f9084"
      },
      "outputs": [
        {
          "name": "stdout",
          "output_type": "stream",
          "text": [
            "+----+----------+-------------+---------------+---------+------------+\n",
            "|    | Column   | numerical   | categorical   | dtype   | bounds     |\n",
            "|----+----------+-------------+---------------+---------+------------|\n",
            "|  0 | age      | True        | False         | int64   | (21, 86)   |\n",
            "|  1 | sex      | True        | False         | int64   | (0, 1)     |\n",
            "|  2 | bp       | True        | False         | int64   | (80, 215)  |\n",
            "|  3 | ch       | True        | False         | int64   | (102, 597) |\n",
            "|  4 | bs       | True        | False         | int64   | (67, 157)  |\n",
            "|  5 | phr      | True        | False         | int64   | (62, 222)  |\n",
            "+----+----------+-------------+---------------+---------+------------+\n",
            "\n"
          ]
        }
      ],
      "source": [
        "%%ag\n",
        "x_train.info()"
      ]
    },
    {
      "cell_type": "code",
      "execution_count": null,
      "metadata": {
        "colab": {
          "base_uri": "https://localhost:8080/"
        },
        "id": "iG3HnW1Ut8X2",
        "outputId": "df1ef9ac-d045-42d3-cefe-af7ac9535b35"
      },
      "outputs": [
        {
          "name": "stdout",
          "output_type": "stream",
          "text": [
            "+----+-----------+-------------+---------------+---------+----------+\n",
            "|    | Column    | numerical   | categorical   | dtype   | bounds   |\n",
            "|----+-----------+-------------+---------------+---------+----------|\n",
            "|  0 | condition | True        | False         | int64   | (0, 1)   |\n",
            "+----+-----------+-------------+---------------+---------+----------+\n",
            "\n"
          ]
        }
      ],
      "source": [
        "%%ag\n",
        "y_train.info()"
      ]
    },
    {
      "cell_type": "code",
      "execution_count": null,
      "metadata": {
        "colab": {
          "base_uri": "https://localhost:8080/"
        },
        "id": "OymOmMhqmzpK",
        "outputId": "6f911146-cd91-4020-9695-f26886de0f55"
      },
      "outputs": [
        {
          "name": "stdout",
          "output_type": "stream",
          "text": [
            "      age  sex   bp   ch   bs  phr\n",
            "0      71    1  128  326   95  117\n",
            "1      61    1  153  270   98  123\n",
            "2      59    1  113  236  106  181\n",
            "3      69    0  109  151  109  108\n",
            "4      55    0  137  235  101  150\n",
            "...   ...  ...  ...  ...  ...  ...\n",
            "1995   60    1  128  261  112  143\n",
            "1996   50    1  143  216   94  100\n",
            "1997   64    1  120  172   87  142\n",
            "1998   56    1  158  294   82  144\n",
            "1999   69    0  117  559  112  157\n",
            "\n",
            "[2000 rows x 6 columns]\n",
            "\n"
          ]
        }
      ],
      "source": [
        "%%ag\n",
        "# x_test is a public test set, so we can print it without using epsilon\n",
        "ag_print(x_test)"
      ]
    },
    {
      "cell_type": "markdown",
      "metadata": {
        "id": "KARrFlm5pOB6"
      },
      "source": [
        "### 🎈 A quick solution\n",
        "\n",
        "In this section we evaluate an editorial solution in AG using TensorFlow!"
      ]
    },
    {
      "cell_type": "code",
      "execution_count": null,
      "metadata": {
        "colab": {
          "base_uri": "https://localhost:8080/"
        },
        "id": "QVMog5sFunqk",
        "outputId": "b0e536ca-2150-4b14-99c4-4fcd4a0792cd"
      },
      "outputs": [
        {
          "name": "stderr",
          "output_type": "stream",
          "text": [
            "/usr/local/lib/python3.10/site-packages/tensorflow_probability/python/__init__.py:57: DeprecationWarning: distutils Version classes are deprecated. Use packaging.version instead.\n",
            "  if (distutils.version.LooseVersion(tf.__version__) <\n",
            "/usr/local/lib/python3.10/site-packages/tensorflow_probability/python/__init__.py:58: DeprecationWarning: distutils Version classes are deprecated. Use packaging.version instead.\n",
            "  distutils.version.LooseVersion(required_tensorflow_version)):\n",
            "\n"
          ]
        }
      ],
      "source": [
        "%%ag\n",
        "import tensorflow as tf\n",
        "from op_pandas import standard_scaler, PrivateDataFrame\n",
        "from tensorflow.keras.models import Sequential\n",
        "from tensorflow.keras.layers import Dense, Dropout\n",
        "from op_tensorflow import PrivateKerasModel, PrivateDataLoader\n",
        "\n",
        "\n",
        "# Normal keras model\n",
        "seqM = Sequential([\n",
        "    Dense(64, activation='relu', input_shape=(6,)),\n",
        "    Dense(32, activation='relu'),\n",
        "    Dense(16, activation='relu'),\n",
        "    Dense(1, activation='sigmoid')  # Binary classification\n",
        "])\n",
        "\n",
        "# Create DP keras model\n",
        "dp_model = PrivateKerasModel(model=seqM, l2_norm_clip=1, noise_multiplier=1)\n",
        "\n",
        "# Use a standard (non-DP) optimizer directly from keras.\n",
        "optimizer = tf.keras.optimizers.Adam(learning_rate=0.001)\n",
        "\n",
        "# PrivateKerasModel uses similar API as standard Keras\n",
        "dp_model.compile(\n",
        "\toptimizer = optimizer,\n",
        "\tloss = 'binary_crossentropy',\n",
        "\tmetrics = [\"accuracy\"]\n",
        ")"
      ]
    },
    {
      "cell_type": "code",
      "execution_count": null,
      "metadata": {
        "id": "n06KTXaOHDs_"
      },
      "outputs": [],
      "source": [
        "%%ag\n",
        "# Use a standard (non-DP) optimizer directly from keras.\n",
        "optimizer = tf.keras.optimizers.Adam(learning_rate=0.0001)\n",
        "\n",
        "# PrivateKerasModel uses similar API as standard Keras\n",
        "dp_model.compile(\n",
        "\toptimizer = optimizer,\n",
        "\tloss = 'binary_crossentropy',\n",
        "\tmetrics = [\"accuracy\"]\n",
        ")"
      ]
    },
    {
      "cell_type": "code",
      "execution_count": null,
      "metadata": {
        "colab": {
          "base_uri": "https://localhost:8080/"
        },
        "id": "CtZnkEIGu4Oy",
        "outputId": "168a11c0-8249-4475-8aee-15881f4c2153"
      },
      "outputs": [
        {
          "name": "stdout",
          "output_type": "stream",
          "text": [
            "+----+----------+-------------+---------------+---------+------------------------------------------+\n",
            "|    | Column   | numerical   | categorical   | dtype   | bounds                                   |\n",
            "|----+----------+-------------+---------------+---------+------------------------------------------|\n",
            "|  0 | age      | True        | False         | float64 | (-3.6896648975857778,                    |\n",
            "|    |          |             |               |         | 3.4404975950814625)                      |\n",
            "|  1 | sex      | True        | False         | float64 | (-1.4326773757478135,                    |\n",
            "|    |          |             |               |         | 0.6941300635406028)                      |\n",
            "|  2 | bp       | True        | False         | float64 | (-2.991646146507617, 4.815826183892343)  |\n",
            "|  3 | ch       | True        | False         | float64 | (-2.703254171243013, 6.54649771295959)   |\n",
            "|  4 | bs       | True        | False         | float64 | (-2.178042393113138, 3.2769398479549885) |\n",
            "|  5 | phr      | True        | False         | float64 | (-4.038836625382354, 3.426087642779347)  |\n",
            "+----+----------+-------------+---------------+---------+------------------------------------------+\n",
            "\n"
          ]
        }
      ],
      "source": [
        "%%ag\n",
        "x_train_scaled = standard_scaler(x_train, eps=2) # araştırılacak 1 2 3 vs vs\n",
        "x_train_scaled.info()"
      ]
    },
    {
      "cell_type": "code",
      "execution_count": null,
      "metadata": {
        "id": "-IRE6nbYvcw7"
      },
      "outputs": [],
      "source": [
        "%%ag\n",
        "data_loader = PrivateDataLoader(feature_df=x_train_scaled , label_df=y_train, batch_size=2) # batch size düşürülebilir 3 - '2"
      ]
    },
    {
      "cell_type": "code",
      "execution_count": null,
      "metadata": {
        "colab": {
          "base_uri": "https://localhost:8080/"
        },
        "id": "BkYeXE1nv0EL",
        "outputId": "75dcace2-f893-45fc-a9cd-fff72e601a6a"
      },
      "outputs": [
        {
          "name": "stdout",
          "output_type": "stream",
          "text": [
            "Epoch 1/5\n",
            "\n",
            "4000/4000 - 59s - loss: 0.0507 - accuracy: 0.9815 - 59s/epoch - 15ms/step\n",
            "\n",
            "Epoch 2/5\n",
            "\n",
            "4000/4000 - 60s - loss: 0.0568 - accuracy: 0.9800 - 60s/epoch - 15ms/step\n",
            "\n",
            "Epoch 3/5\n",
            "\n"
          ]
        },
        {
          "name": "stderr",
          "output_type": "stream",
          "text": [
            "Kernel interrupted successfully\n"
          ]
        }
      ],
      "source": [
        "%%ag\n",
        "dp_model.fit(x=data_loader, epochs=5, target_delta=1) #1-e5 ? earlystop  '1 olabilir  - değiştirilebilir accuracy e göre 10 '20"
      ]
    },
    {
      "cell_type": "code",
      "execution_count": null,
      "metadata": {
        "colab": {
          "base_uri": "https://localhost:8080/"
        },
        "id": "dt_0vemmvq17",
        "outputId": "96feebbe-06c5-4ad2-c79a-e272868f4e5f"
      },
      "outputs": [
        {
          "name": "stdout",
          "output_type": "stream",
          "text": [
            " 1/63 [..............................] - ETA: 5s\n",
            "16/63 [======>.......................] - ETA: 0s\n",
            "32/63 [==============>...............] - ETA: 0s\n",
            "51/63 [=======================>......] - ETA: 0s\n",
            "63/63 [==============================] - 0s 5ms/step\n",
            "\n"
          ]
        }
      ],
      "source": [
        "%%ag\n",
        "x_test_scaler = standard_scaler(PrivateDataFrame(x_test), eps=2) #epsilon\n",
        "y_pred = dp_model.predict(x_test_scaler, label_columns=[\"output\"])"
      ]
    },
    {
      "cell_type": "code",
      "execution_count": null,
      "metadata": {
        "id": "mJMoynKBAwMB"
      },
      "outputs": [],
      "source": [
        "%%ag\n",
        "# Note that the predictions are a float scalar\n",
        "# so we scale it\n",
        "def f(x: float) -> float:\n",
        "  if x > 0.5:\n",
        "    return 1\n",
        "  else:\n",
        "    return 0\n",
        "\n",
        "y_pred[\"output\"] = y_pred[\"output\"].map(f, output_bounds=(0, 1))"
      ]
    },
    {
      "cell_type": "markdown",
      "metadata": {
        "id": "8K19wo42GvcM"
      },
      "source": [
        "### 📝 Make your submission (Through AG)\n",
        "\n",
        "Submit a prediction by simply typing `submit_predictions(your_prediction)` to find out how you rank on the leaderboard.\n",
        "\n",
        "![img](https://www.antigranular.com/static/media/Step%209.8091828f3cff4324fe6d.png)\n"
      ]
    },
    {
      "cell_type": "code",
      "execution_count": null,
      "metadata": {
        "colab": {
          "base_uri": "https://localhost:8080/"
        },
        "id": "ikoa-r-Ky79A",
        "outputId": "4cbb18ef-dd74-43bc-faf2-e7f4d8e73ba4"
      },
      "outputs": [
        {
          "name": "stdout",
          "output_type": "stream",
          "text": [
            "score: {'leaderboard': 0.894437790419707, 'logs': {'BIN_ACC': 0.923093321627316, 'LIN_EPS': -0.028655531207609126}}\n",
            "\n"
          ]
        }
      ],
      "source": [
        "%%ag\n",
        "result = submit_predictions(y_pred)"
      ]
    },
    {
      "cell_type": "code",
      "execution_count": null,
      "metadata": {
        "colab": {
          "base_uri": "https://localhost:8080/"
        },
        "id": "XXrK7ETzgj9Z",
        "outputId": "444e1a03-319a-481f-c2bb-942d89263605"
      },
      "outputs": [
        {
          "data": {
            "text/plain": [
              "{'total_epsilon_used': 5.731106241521825,\n",
              " 'total_delta_used': 0.0200111,\n",
              " 'library_costs': {'op_pandas': {'total_delta': 0.0,\n",
              "   'total_epsilon': 3.399999999999999,\n",
              "   'total_requests': 373},\n",
              "  'op_tensorflow': {'total_delta': 0.0200111,\n",
              "   'total_epsilon': 2.331106241521822,\n",
              "   'total_requests': 5}},\n",
              " 'dataset_costs': {'Heart Disease Prediction Hackathon Dataset': {'delta': 0.0200111,\n",
              "   'eps': 5.731106241521825}}}"
            ]
          },
          "execution_count": 26,
          "metadata": {},
          "output_type": "execute_result"
        }
      ],
      "source": [
        "session.privacy_odometer()"
      ]
    },
    {
      "cell_type": "code",
      "execution_count": null,
      "metadata": {
        "colab": {
          "base_uri": "https://localhost:8080/"
        },
        "id": "naBrP7WLWaL1",
        "outputId": "c4d9c004-5dcc-4a75-f6bd-120f1039fb44"
      },
      "outputs": [
        {
          "name": "stdout",
          "output_type": "stream",
          "text": [
            "Epoch 1/5\n",
            "\n",
            "4000/4000 - 59s - loss: 0.0043 - accuracy: 0.9986 - 59s/epoch - 15ms/step\n",
            "\n",
            "Epoch 2/5\n",
            "\n",
            "4000/4000 - 60s - loss: 0.0046 - accuracy: 0.9988 - 60s/epoch - 15ms/step\n",
            "\n",
            "Epoch 3/5\n",
            "\n",
            "4000/4000 - 59s - loss: 0.0048 - accuracy: 0.9984 - 59s/epoch - 15ms/step\n",
            "\n",
            "Epoch 4/5\n",
            "\n",
            "4000/4000 - 60s - loss: 0.0042 - accuracy: 0.9984 - 60s/epoch - 15ms/step\n",
            "\n",
            "Epoch 5/5\n",
            "\n",
            "4000/4000 - 60s - loss: 0.0045 - accuracy: 0.9985 - 60s/epoch - 15ms/step\n",
            "\n",
            " 1/63 [..............................] - ETA: 5s\n",
            "10/63 [===>..........................] - ETA: 0s\n",
            "27/63 [===========>..................] - ETA: 0s\n",
            "46/63 [====================>.........] - ETA: 0s\n",
            "63/63 [==============================] - 0s 5ms/step\n",
            "\n",
            "score: {'leaderboard': 0.9696552415340732, 'logs': {'BIN_ACC': 0.9983107727416823, 'LIN_EPS': -0.028655531207609126}}\n",
            "\n"
          ]
        }
      ],
      "source": [
        "%%ag\n",
        "dp_model.fit(x=data_loader, epochs=5, target_delta=1) #1-e5 ? earlystop  '1 olabilir  - değiştirilebilir accuracy e göre 10 '20\n",
        "x_test_scaler = standard_scaler(PrivateDataFrame(x_test), eps=2) #epsilon\n",
        "y_pred = dp_model.predict(x_test_scaler, label_columns=[\"output\"])\n",
        "y_pred[\"output\"] = y_pred[\"output\"].map(f, output_bounds=(0, 1))\n",
        "result = submit_predictions(y_pred)"
      ]
    }
  ],
  "metadata": {
    "accelerator": "TPU",
    "colab": {
      "gpuType": "V28",
      "provenance": []
    },
    "kernelspec": {
      "display_name": "Python 3",
      "name": "python3"
    },
    "language_info": {
      "name": "python"
    }
  },
  "nbformat": 4,
  "nbformat_minor": 0
}