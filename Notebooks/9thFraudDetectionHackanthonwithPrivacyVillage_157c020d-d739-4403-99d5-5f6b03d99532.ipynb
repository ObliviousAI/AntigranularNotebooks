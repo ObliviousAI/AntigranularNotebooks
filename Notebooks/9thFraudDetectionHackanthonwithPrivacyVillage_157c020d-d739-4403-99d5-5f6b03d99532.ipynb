{
  "cells": [
    {
      "cell_type": "markdown",
      "metadata": {
        "id": "09JH4hPX-X25"
      },
      "source": [
        "<div align=\"center\">\n",
        "\n",
        "# 📊 **Fraud Detection Hackathon with Privacy Village #DPD25FEST**\n",
        "\n",
        "🎉 Welcome to a new [Antigranular](https://antigranular.com) event in collaboration with the **Privacy Village #DPD25FEST**! This hackathon focuses on exploring and forecasting credit card transaction fraudwith cutting-edge priacy tools and methodologies.\n",
        "\n",
        "🌎 Join us as we dive into economical safety challenges using different fraud indicators as we push the boundaries of privacy preserving data science!\n",
        "\n",
        "🦜 **Any questions?** Head over to our [Discord](https://discord.com/invite/KJwApgXs4s)!\n",
        "\n",
        "<a href=\"https://discord.com/invite/KJwApgXs4s\"><img src=\"https://support.discord.com/hc/user_images/PRywUXcqg0v5DD6s7C3LyQ.jpeg\" alt=\"Discord\" width=\"100px\" /></a>\n",
        "\n",
        "\n",
        "\n",
        "</div>\n"
      ]
    },
    {
      "cell_type": "markdown",
      "metadata": {
        "id": "BZ1S_Qc0v5hL"
      },
      "source": [
        "## 🏃‍♂️ 1. Getting Started\n",
        "\n",
        "In this section we will download the antigranular package and login\n",
        "\n",
        "\n"
      ]
    },
    {
      "cell_type": "markdown",
      "metadata": {
        "id": "6_ISjJv_eppS"
      },
      "source": [
        "### 📦 Install Antigranular\n",
        "\n",
        "This command installs the [Antigranular PyPI Package](https://pypi.org/project/antigranular/) on the local enviroment.\n"
      ]
    },
    {
      "cell_type": "code",
      "execution_count": 23,
      "metadata": {
        "id": "5uFCyt-Puq4K"
      },
      "outputs": [],
      "source": [
        "# Install the Antigranular package\n",
        "!pip install antigranular &> /dev/null"
      ]
    },
    {
      "cell_type": "markdown",
      "metadata": {
        "id": "v7jLQa6Uehks"
      },
      "source": [
        "### ✍ Login to the Enclave\n",
        "\n",
        "Head over to the [Competition](https://www.antigranular.com/competitions/global-economic-forecast-hackathon-with-texas-a-m-aggie-data-science) to find your `<user_id>`, `<user_secret>` and the competition's name and copy that command here.\n",
        "\n",
        "![img](https://docs.antigranular.com/shots/comp_cell.png)"
      ]
    },
    {
      "cell_type": "code",
      "execution_count": 24,
      "metadata": {
        "colab": {
          "base_uri": "https://localhost:8080/",
          "height": 211
        },
        "id": "w_JcMMSMv_Ze",
        "outputId": "f8ab858b-045a-455f-be8c-43ba87155473"
      },
      "outputs": [
        {
          "output_type": "display_data",
          "data": {
            "text/plain": [
              "<IPython.core.display.HTML object>"
            ],
            "text/html": []
          },
          "metadata": {}
        },
        {
          "output_type": "stream",
          "name": "stdout",
          "text": [
            "Dataset \"Transaction Fraud Hackathon Dataset\" loaded to the kernel as \u001b[92mtransaction_fraud_hackathon_dataset\u001b[0m\n",
            "Key Name                       Value Type     \n",
            "---------------------------------------------\n",
            "test_x                         DataFrame      \n",
            "train_x                        PrivateDataFrame\n",
            "train_y                        PrivateDataFrame\n",
            "\n",
            "Connected to Antigranular server session id: 157c020d-d739-4403-99d5-5f6b03d99532, the session will time out if idle for 25 minutes\n",
            "Cell magic '%%ag' registered successfully, use `%%ag` in a notebook cell to execute your python code on Antigranular private python server\n",
            "🚀 Everything's set up and ready to roll!\n"
          ]
        }
      ],
      "source": [
        "import antigranular as ag\n",
        "session = ag.login(<client_id>,<client_secret>, competition = \"Fraud Detection Hackathon with Privacy Village #DPD25FEST\")"
      ]
    },
    {
      "cell_type": "markdown",
      "metadata": {
        "id": "Jeg6W7fPNHhS"
      },
      "source": [
        "## 🤖 2. A simple guide of AG\n",
        "\n",
        "You can now simply use ``%%ag`` to run code on an enclave! You can always head over to our [Docs](https://docs.antigranular.com/) to learn more about AG, but for now, we can define train and test variables as follows."
      ]
    },
    {
      "cell_type": "code",
      "execution_count": 25,
      "metadata": {
        "id": "8IHVwjFKk2Ys"
      },
      "outputs": [],
      "source": [
        "%%ag\n",
        "x_train = transaction_fraud_hackathon_dataset[\"train_x\"]\n",
        "y_train = transaction_fraud_hackathon_dataset[\"train_y\"]\n",
        "x_test = transaction_fraud_hackathon_dataset[\"test_x\"]"
      ]
    },
    {
      "cell_type": "markdown",
      "metadata": {
        "id": "4oMW3Eh8RDl4"
      },
      "source": [
        "### 🕵️‍♂️ Exploring data\n",
        "\n",
        "Exploring data in Antigranular involves spending your epsilon budget, be mindful of your usage but remember that the less epsilon you use, the less accurate your results will get!\n",
        "\n",
        "<img src=\"https://static.vecteezy.com/system/resources/thumbnails/016/589/195/small/light-bulb-8bit-pixel-png.png\" alt=\"Lightbulb\" width=\"50px\" />\n",
        "\n",
        "#### 🌀 Want to learn more about the data?\n",
        "\n",
        "For this competition, we are using multiple fraud prediction indicators. Although we are not able to share the exact indicators, you can think of them as factors such as \"Was this transaction an amount that is usually spent by this user?\" or \"How many transactions were performed this day?\", which are then normalized.\n",
        "\n"
      ]
    },
    {
      "cell_type": "code",
      "execution_count": 26,
      "metadata": {
        "colab": {
          "base_uri": "https://localhost:8080/"
        },
        "id": "PMiVe3n_t4um",
        "outputId": "2ab264f7-b9d5-4545-ab75-39f8e63f105e"
      },
      "outputs": [
        {
          "output_type": "stream",
          "name": "stdout",
          "text": [
            "+----+----------+-------------+---------------+---------+----------+\n",
            "|    | Column   | numerical   | categorical   | dtype   | bounds   |\n",
            "|----+----------+-------------+---------------+---------+----------|\n",
            "|  0 | a0       | True        | False         | float64 | (0, 1)   |\n",
            "|  1 | a1       | True        | False         | float64 | (0, 1)   |\n",
            "|  2 | a2       | True        | False         | float64 | (0, 1)   |\n",
            "|  3 | a3       | True        | False         | float64 | (0, 1)   |\n",
            "|  4 | a4       | True        | False         | float64 | (0, 1)   |\n",
            "|  5 | a5       | True        | False         | float64 | (0, 1)   |\n",
            "|  6 | a6       | True        | False         | float64 | (0, 1)   |\n",
            "|  7 | a7       | True        | False         | float64 | (0, 1)   |\n",
            "|  8 | a8       | True        | False         | float64 | (0, 1)   |\n",
            "+----+----------+-------------+---------------+---------+----------+\n",
            "\n"
          ]
        }
      ],
      "source": [
        "%%ag\n",
        "x_train.info()"
      ]
    },
    {
      "cell_type": "markdown",
      "metadata": {
        "id": "2mfrZ4mQvpBC"
      },
      "source": [
        "For our `Y` target, we are trying to predict if the sample constitutes fraud, being this a binary classification problem.\n",
        "\n",
        "\n",
        "```\n",
        "Fraud:\n",
        "    1. 'Not fraud': 0,\n",
        "    2. 'Fraud': 1,\n",
        "```\n",
        "\n",
        "\n"
      ]
    },
    {
      "cell_type": "code",
      "execution_count": null,
      "metadata": {
        "colab": {
          "base_uri": "https://localhost:8080/"
        },
        "id": "iG3HnW1Ut8X2",
        "outputId": "af809a78-d7c9-46f4-bb2d-baebbded43dc"
      },
      "outputs": [
        {
          "output_type": "stream",
          "name": "stdout",
          "text": [
            "+----+----------+-------------+---------------+---------+----------+\n",
            "|    | Column   | numerical   | categorical   | dtype   | bounds   |\n",
            "|----+----------+-------------+---------------+---------+----------|\n",
            "|  0 | fraud    | True        | False         | float64 | (0, 1)   |\n",
            "+----+----------+-------------+---------------+---------+----------+\n",
            "\n"
          ]
        }
      ],
      "source": [
        "%%ag\n",
        "y_train.info()"
      ]
    },
    {
      "cell_type": "code",
      "execution_count": null,
      "metadata": {
        "colab": {
          "base_uri": "https://localhost:8080/"
        },
        "id": "UWNhrgbX6bj9",
        "outputId": "195dc2b5-5f22-45b3-c211-864118fd8e4d"
      },
      "outputs": [
        {
          "output_type": "execute_result",
          "data": {
            "text/plain": [
              "{'total_epsilon_used': 0.0,\n",
              " 'total_delta_used': 0.0,\n",
              " 'library_costs': {},\n",
              " 'dataset_costs': {}}"
            ]
          },
          "metadata": {},
          "execution_count": 6
        }
      ],
      "source": [
        "session.privacy_odometer()"
      ]
    },
    {
      "cell_type": "markdown",
      "metadata": {
        "id": "dlTogFMpyAm2"
      },
      "source": [
        "\n",
        "\n",
        "---\n",
        "\n"
      ]
    },
    {
      "cell_type": "code",
      "execution_count": 27,
      "metadata": {
        "id": "V0q2JSQzTbbS"
      },
      "outputs": [],
      "source": [
        "%%ag\n",
        "x_train.fillna(\n",
        "    value=None,\n",
        "    method=\"backfill\",\n",
        "    inplace= True\n",
        ")"
      ]
    },
    {
      "cell_type": "markdown",
      "metadata": {
        "id": "KARrFlm5pOB6"
      },
      "source": [
        "## 🧠 4. Another more advanced solution\n",
        "\n",
        "In this section we evaluate an editorial solution in AG using TensorFlow!"
      ]
    },
    {
      "cell_type": "code",
      "execution_count": 28,
      "metadata": {
        "id": "QVMog5sFunqk",
        "colab": {
          "base_uri": "https://localhost:8080/"
        },
        "outputId": "fd243745-b222-46c6-8a02-afe2d39b90d5"
      },
      "outputs": [
        {
          "output_type": "stream",
          "name": "stderr",
          "text": [
            "/usr/local/lib/python3.10/site-packages/tensorflow/__init__.py:30: DeprecationWarning: The distutils package is deprecated and slated for removal in Python 3.12. Use setuptools or check PEP 632 for potential alternatives\n",
            "  import distutils as _distutils\n",
            "\n",
            "2025-02-06 09:07:11.945662: I tensorflow/core/util/port.cc:113] oneDNN custom operations are on. You may see slightly different numerical results due to floating-point round-off errors from different computation orders. To turn them off, set the environment variable `TF_ENABLE_ONEDNN_OPTS=0`.\n",
            "2025-02-06 09:07:11.948860: I external/local_tsl/tsl/cuda/cudart_stub.cc:31] Could not find cuda drivers on your machine, GPU will not be used.\n",
            "2025-02-06 09:07:12.135167: E external/local_xla/xla/stream_executor/cuda/cuda_dnn.cc:9261] Unable to register cuDNN factory: Attempting to register factory for plugin cuDNN when one has already been registered\n",
            "2025-02-06 09:07:12.135218: E external/local_xla/xla/stream_executor/cuda/cuda_fft.cc:607] Unable to register cuFFT factory: Attempting to register factory for plugin cuFFT when one has already been registered\n",
            "2025-02-06 09:07:12.136229: E external/local_xla/xla/stream_executor/cuda/cuda_blas.cc:1515] Unable to register cuBLAS factory: Attempting to register factory for plugin cuBLAS when one has already been registered\n",
            "2025-02-06 09:07:12.141861: I external/local_tsl/tsl/cuda/cudart_stub.cc:31] Could not find cuda drivers on your machine, GPU will not be used.\n",
            "2025-02-06 09:07:12.143085: I tensorflow/core/platform/cpu_feature_guard.cc:182] This TensorFlow binary is optimized to use available CPU instructions in performance-critical operations.\n",
            "To enable the following instructions: AVX2 AVX512F AVX512_VNNI FMA, in other operations, rebuild TensorFlow with the appropriate compiler flags.\n",
            "\n",
            "2025-02-06 09:07:15.747259: W tensorflow/compiler/tf2tensorrt/utils/py_utils.cc:38] TF-TRT Warning: Could not find TensorRT\n",
            "\n"
          ]
        }
      ],
      "source": [
        "%%ag\n",
        "import tensorflow as tf\n",
        "from op_pandas import standard_scaler, PrivateDataFrame\n",
        "from tensorflow.keras.models import Sequential\n",
        "from tensorflow.keras.layers import Dense, Dropout ,LeakyReLU\n",
        "from op_tensorflow import PrivateKerasModel, PrivateDataLoader\n",
        "\n",
        "\n",
        "# Normal keras model\n",
        "seqM = Sequential([\n",
        "    Dense(444, input_shape=(9,)), # 9 = Lenght of fraud attrs\n",
        "    LeakyReLU(alpha=0.001),\n",
        "    Dense(222),\n",
        "    LeakyReLU(alpha=0.001),\n",
        "    Dense(111),\n",
        "    LeakyReLU(alpha=0.001),\n",
        "    Dense(55, activation='relu'),\n",
        "    Dense(32, activation='relu'),\n",
        "    Dense(1, activation='sigmoid')  # 1 = Binary classification\n",
        "])\n",
        "\n",
        "\n",
        "# Create DP keras model\n",
        "dp_model = PrivateKerasModel(model=seqM, l2_norm_clip=1.5, noise_multiplier=1)\n",
        "\n",
        "# Use a standard (non-DP) optimizer directly from keras\n",
        "optimizer = tf.keras.optimizers.Adam(learning_rate=3e-4)\n",
        "\n",
        "# PrivateKerasModel uses similar API as standard Keras, we compile\n",
        "dp_model.compile(\n",
        "\toptimizer = optimizer,\n",
        "\tloss = 'binary_crossentropy',\n",
        "\tmetrics = [\"accuracy\"]\n",
        ")"
      ]
    },
    {
      "cell_type": "code",
      "execution_count": 29,
      "metadata": {
        "id": "-IRE6nbYvcw7"
      },
      "outputs": [],
      "source": [
        "%%ag\n",
        "data_loader = PrivateDataLoader(feature_df=x_train , label_df=y_train, batch_size=16)"
      ]
    },
    {
      "cell_type": "markdown",
      "metadata": {
        "id": "6q28x53N5KNh"
      },
      "source": [
        "🧠 Note: Experiencing timeouts? Maybe try running a model with less epochs. You can build up the same number of epochs in multiple calls, by repeatedly querying `ag` (as in, waiting for a cell to finish running and re-requesting it)."
      ]
    },
    {
      "cell_type": "code",
      "execution_count": 43,
      "metadata": {
        "colab": {
          "base_uri": "https://localhost:8080/"
        },
        "id": "BkYeXE1nv0EL",
        "outputId": "73e07293-fa81-4a53-a1bc-11b8d02bcced"
      },
      "outputs": [
        {
          "output_type": "stream",
          "name": "stdout",
          "text": [
            "Epoch 1/5\n",
            "\n",
            "2188/2188 - 66s - loss: 0.5826 - accuracy: 0.6897 - 66s/epoch - 30ms/step\n",
            "\n",
            "Epoch 2/5\n",
            "\n",
            "2188/2188 - 69s - loss: 0.5770 - accuracy: 0.6899 - 69s/epoch - 32ms/step\n",
            "\n",
            "Epoch 3/5\n",
            "\n",
            "2188/2188 - 70s - loss: 0.5796 - accuracy: 0.6885 - 70s/epoch - 32ms/step\n",
            "\n",
            "Epoch 4/5\n",
            "\n",
            "2188/2188 - 69s - loss: 0.5772 - accuracy: 0.6918 - 69s/epoch - 32ms/step\n",
            "\n",
            "Epoch 5/5\n",
            "\n",
            "2188/2188 - 70s - loss: 0.5800 - accuracy: 0.6913 - 70s/epoch - 32ms/step\n",
            "\n",
            "message: Error ID is - 5c7b3394-336d-4906-bdb3-8e82eb3afdcb - Error from upstream service: Client error '400 Bad Request' for url 'http://supervisor-prod-private.antigranular.com/privacyRequest'\n",
            "For more information check: https://httpstatuses.com/400. Response text: {\"detail\":\"Maximum delta or epsilon exceeded. Your current balance left is eps : 10.0 and delta : 0.001\"}\n",
            "\n",
            "message: Error ID is - 40796679-4ed3-4a1d-81ba-84b3aeae8514 - Error from upstream service: Client error '400 Bad Request' for url 'http://supervisor-prod-private.antigranular.com/privacyRequest'\n",
            "For more information check: https://httpstatuses.com/400. Response text: {\"detail\":\"Maximum delta or epsilon exceeded. Your current balance left is eps : 10.0 and delta : 0.001\"}\n",
            "\n",
            "\u001b[0;31mValueError\u001b[0m: Request Limit Exceeded!\n"
          ]
        }
      ],
      "source": [
        "%%ag\n",
        "dp_model.fit(x=data_loader, epochs=5, target_delta=1)"
      ]
    },
    {
      "cell_type": "code",
      "execution_count": 40,
      "metadata": {
        "colab": {
          "base_uri": "https://localhost:8080/"
        },
        "id": "dt_0vemmvq17",
        "outputId": "60a27dec-e963-4d11-c736-19a2f87af3db"
      },
      "outputs": [
        {
          "output_type": "stream",
          "name": "stdout",
          "text": [
            "\r  1/469 [..............................] - ETA: 45s\n",
            "\b\b\b\b\b\b\b\b\b\b\b\b\b\b\b\b\b\b\b\b\b\b\b\b\b\b\b\b\b\b\b\b\b\b\b\b\b\b\b\b\b\b\b\b\b\b\b\b\b\b\b\r  7/469 [..............................] - ETA: 6s \n",
            "\b\b\b\b\b\b\b\b\b\b\b\b\b\b\b\b\b\b\b\b\b\b\b\b\b\b\b\b\b\b\b\b\b\b\b\b\b\b\b\b\b\b\b\b\b\b\b\b\b\b\r 23/469 [>.............................] - ETA: 3s\n",
            "\b\b\b\b\b\b\b\b\b\b\b\b\b\b\b\b\b\b\b\b\b\b\b\b\b\b\b\b\b\b\b\b\b\b\b\b\b\b\b\b\b\b\b\b\b\b\b\b\b\b\r 38/469 [=>............................] - ETA: 3s\n",
            "\b\b\b\b\b\b\b\b\b\b\b\b\b\b\b\b\b\b\b\b\b\b\b\b\b\b\b\b\b\b\b\b\b\b\b\b\b\b\b\b\b\b\b\b\b\b\b\b\b\b\r 53/469 [==>...........................] - ETA: 3s\n",
            "\b\b\b\b\b\b\b\b\b\b\b\b\b\b\b\b\b\b\b\b\b\b\b\b\b\b\b\b\b\b\b\b\b\b\b\b\b\b\b\b\b\b\b\b\b\b\b\b\b\b\r 71/469 [===>..........................] - ETA: 2s\n",
            "\b\b\b\b\b\b\b\b\b\b\b\b\b\b\b\b\b\b\b\b\b\b\b\b\b\b\b\b\b\b\b\b\b\b\b\b\b\b\b\b\b\b\b\b\b\b\b\b\b\b\r 88/469 [====>.........................] - ETA: 2s\n",
            "\b\b\b\b\b\b\b\b\b\b\b\b\b\b\b\b\b\b\b\b\b\b\b\b\b\b\b\b\b\b\b\b\b\b\b\b\b\b\b\b\b\b\b\b\b\b\b\b\b\b\r106/469 [=====>........................] - ETA: 2s\n",
            "\b\b\b\b\b\b\b\b\b\b\b\b\b\b\b\b\b\b\b\b\b\b\b\b\b\b\b\b\b\b\b\b\b\b\b\b\b\b\b\b\b\b\b\b\b\b\b\b\b\b\r121/469 [======>.......................] - ETA: 2s\n",
            "\b\b\b\b\b\b\b\b\b\b\b\b\b\b\b\b\b\b\b\b\b\b\b\b\b\b\b\b\b\b\b\b\b\b\b\b\b\b\b\b\b\b\b\b\b\b\b\b\b\b\r139/469 [=======>......................] - ETA: 2s\n",
            "\b\b\b\b\b\b\b\b\b\b\b\b\b\b\b\b\b\b\b\b\b\b\b\b\b\b\b\b\b\b\b\b\b\b\b\b\b\b\b\b\b\b\b\b\b\b\b\b\b\b\r156/469 [========>.....................] - ETA: 1s\n",
            "\b\b\b\b\b\b\b\b\b\b\b\b\b\b\b\b\b\b\b\b\b\b\b\b\b\b\b\b\b\b\b\b\b\b\b\b\b\b\b\b\b\b\b\b\b\b\b\b\b\b\r174/469 [==========>...................] - ETA: 1s\n",
            "\b\b\b\b\b\b\b\b\b\b\b\b\b\b\b\b\b\b\b\b\b\b\b\b\b\b\b\b\b\b\b\b\b\b\b\b\b\b\b\b\b\b\b\b\b\b\b\b\b\b\r192/469 [===========>..................] - ETA: 1s\n",
            "\b\b\b\b\b\b\b\b\b\b\b\b\b\b\b\b\b\b\b\b\b\b\b\b\b\b\b\b\b\b\b\b\b\b\b\b\b\b\b\b\b\b\b\b\b\b\b\b\b\b\r209/469 [============>.................] - ETA: 1s\n",
            "\b\b\b\b\b\b\b\b\b\b\b\b\b\b\b\b\b\b\b\b\b\b\b\b\b\b\b\b\b\b\b\b\b\b\b\b\b\b\b\b\b\b\b\b\b\b\b\b\b\b\r225/469 [=============>................] - ETA: 1s\n",
            "\b\b\b\b\b\b\b\b\b\b\b\b\b\b\b\b\b\b\b\b\b\b\b\b\b\b\b\b\b\b\b\b\b\b\b\b\b\b\b\b\b\b\b\b\b\b\b\b\b\b\r242/469 [==============>...............] - ETA: 1s\n",
            "\b\b\b\b\b\b\b\b\b\b\b\b\b\b\b\b\b\b\b\b\b\b\b\b\b\b\b\b\b\b\b\b\b\b\b\b\b\b\b\b\b\b\b\b\b\b\b\b\b\b\r260/469 [===============>..............] - ETA: 1s\n",
            "\b\b\b\b\b\b\b\b\b\b\b\b\b\b\b\b\b\b\b\b\b\b\b\b\b\b\b\b\b\b\b\b\b\b\b\b\b\b\b\b\b\b\b\b\b\b\b\b\b\b\r276/469 [================>.............] - ETA: 1s\n",
            "293/469 [=================>............] - ETA: 1s\n",
            "308/469 [==================>...........] - ETA: 0s\n",
            "325/469 [===================>..........] - ETA: 0s\n",
            "340/469 [====================>.........] - ETA: 0s\n",
            "357/469 [=====================>........] - ETA: 0s\n",
            "372/469 [======================>.......] - ETA: 0s\n",
            "386/469 [=======================>......] - ETA: 0s\n",
            "403/469 [========================>.....] - ETA: 0s\n",
            "420/469 [=========================>....] - ETA: 0s\n",
            "437/469 [==========================>...] - ETA: 0s\n",
            "452/469 [===========================>..] - ETA: 0s\n",
            "469/469 [==============================] - 3s 6ms/step\n",
            "\n"
          ]
        }
      ],
      "source": [
        "%%ag\n",
        "y_pred = dp_model.predict(PrivateDataFrame(x_test), label_columns=[\"output\"])"
      ]
    },
    {
      "cell_type": "code",
      "execution_count": 41,
      "metadata": {
        "collapsed": true,
        "id": "mJMoynKBAwMB"
      },
      "outputs": [],
      "source": [
        "%%ag\n",
        "# Note that the predictions are a float scalar, so we scale it to {0|1}\n",
        "def f(x: float) -> float:\n",
        "    return 1 if x > 0.5 else 0\n",
        "\n",
        "y_pred[\"output\"] = y_pred[\"output\"].map(f, output_bounds=(0, 1))"
      ]
    },
    {
      "cell_type": "code",
      "execution_count": 42,
      "metadata": {
        "colab": {
          "base_uri": "https://localhost:8080/"
        },
        "id": "ikoa-r-Ky79A",
        "outputId": "0f7bc0d5-791f-40db-aeff-5ac53f3b3391"
      },
      "outputs": [
        {
          "output_type": "stream",
          "name": "stdout",
          "text": [
            "score: {'leaderboard': 0.6937662114001785, 'logs': {'BIN_ACC': 0.6937662114001785, 'LIN_EPS': -0.0}}\n",
            "\n"
          ]
        }
      ],
      "source": [
        "%%ag\n",
        "result = submit_predictions(y_pred)"
      ]
    },
    {
      "cell_type": "markdown",
      "metadata": {
        "id": "-fzPowmzpTf_"
      },
      "source": [
        "## 🎉 5. That's it!\n",
        "\n",
        "Congrats! You made your first submission to the competition! Now it's time to keep exploring the data and to try to achieve a better score! Here are the next steps:\n",
        "\n",
        "\n",
        "1.  🏫 Head over to our [Docs](https://docs.antigranular.com/) and discover Opacus (PyTorch), TensorFlow Privacy and other libraries available in Antigranular!\n",
        "2. 🦜 Any questions? Head over to our [Discord](https://discord.com/invite/KJwApgXs4s)!\n",
        "\n",
        "We hope you have fun and enjoy the competition!\n",
        "\n",
        "Best of luck,\n",
        "\n",
        "Antigranular Team"
      ]
    }
  ],
  "metadata": {
    "colab": {
      "provenance": []
    },
    "kernelspec": {
      "display_name": "Python 3 (ipykernel)",
      "language": "python",
      "name": "python3"
    },
    "language_info": {
      "codemirror_mode": {
        "name": "ipython",
        "version": 3
      },
      "file_extension": ".py",
      "mimetype": "text/x-python",
      "name": "python",
      "nbconvert_exporter": "python",
      "pygments_lexer": "ipython3",
      "version": "3.10.12"
    }
  },
  "nbformat": 4,
  "nbformat_minor": 0
}