{
  "cells": [
    {
      "cell_type": "code",
      "source": [
        "!pip install antigranular"
      ],
      "metadata": {
        "colab": {
          "base_uri": "https://localhost:8080/"
        },
        "id": "QqIEc6iftWP8",
        "outputId": "b34c9ebf-0ffa-474d-9506-9926b4e2db69"
      },
      "execution_count": 1,
      "outputs": [
        {
          "output_type": "stream",
          "name": "stdout",
          "text": [
            "Collecting antigranular\n",
            "  Downloading antigranular-0.2.10-py3-none-any.whl (18 kB)\n",
            "Collecting diffprivlib<0.7.0,>=0.6.2 (from antigranular)\n",
            "  Downloading diffprivlib-0.6.3-py3-none-any.whl (176 kB)\n",
            "\u001b[2K     \u001b[90m━━━━━━━━━━━━━━━━━━━━━━━━━━━━━━━━━━━━━━━\u001b[0m \u001b[32m176.0/176.0 kB\u001b[0m \u001b[31m2.0 MB/s\u001b[0m eta \u001b[36m0:00:00\u001b[0m\n",
            "\u001b[?25hRequirement already satisfied: ipython<8.0.0,>=7.34.0 in /usr/local/lib/python3.10/dist-packages (from antigranular) (7.34.0)\n",
            "Collecting oblv-client<0.2.0,>=0.1.15 (from antigranular)\n",
            "  Downloading oblv_client-0.1.15-cp310-cp310-manylinux_2_17_x86_64.manylinux2014_x86_64.whl (6.2 MB)\n",
            "\u001b[2K     \u001b[90m━━━━━━━━━━━━━━━━━━━━━━━━━━━━━━━━━━━━━━━━\u001b[0m \u001b[32m6.2/6.2 MB\u001b[0m \u001b[31m59.4 MB/s\u001b[0m eta \u001b[36m0:00:00\u001b[0m\n",
            "\u001b[?25hCollecting onnx<2.0.0,>=1.14.0 (from antigranular)\n",
            "  Downloading onnx-1.14.1-cp310-cp310-manylinux_2_17_x86_64.manylinux2014_x86_64.whl (14.6 MB)\n",
            "\u001b[2K     \u001b[90m━━━━━━━━━━━━━━━━━━━━━━━━━━━━━━━━━━━━━━━━\u001b[0m \u001b[32m14.6/14.6 MB\u001b[0m \u001b[31m39.5 MB/s\u001b[0m eta \u001b[36m0:00:00\u001b[0m\n",
            "\u001b[?25hRequirement already satisfied: pandas<2.0.0,>=1.5.3 in /usr/local/lib/python3.10/dist-packages (from antigranular) (1.5.3)\n",
            "Requirement already satisfied: pydantic<2.0.0,>=1.10.7 in /usr/local/lib/python3.10/dist-packages (from antigranular) (1.10.12)\n",
            "Requirement already satisfied: requests<3.0.0,>=2.31.0 in /usr/local/lib/python3.10/dist-packages (from antigranular) (2.31.0)\n",
            "Requirement already satisfied: numpy>=1.21.6 in /usr/local/lib/python3.10/dist-packages (from diffprivlib<0.7.0,>=0.6.2->antigranular) (1.23.5)\n",
            "Requirement already satisfied: scikit-learn>=0.24.2 in /usr/local/lib/python3.10/dist-packages (from diffprivlib<0.7.0,>=0.6.2->antigranular) (1.2.2)\n",
            "Requirement already satisfied: scipy>=1.7.3 in /usr/local/lib/python3.10/dist-packages (from diffprivlib<0.7.0,>=0.6.2->antigranular) (1.11.2)\n",
            "Requirement already satisfied: joblib>=0.16.0 in /usr/local/lib/python3.10/dist-packages (from diffprivlib<0.7.0,>=0.6.2->antigranular) (1.3.2)\n",
            "Requirement already satisfied: setuptools>=49.0.0 in /usr/local/lib/python3.10/dist-packages (from diffprivlib<0.7.0,>=0.6.2->antigranular) (67.7.2)\n",
            "Collecting jedi>=0.16 (from ipython<8.0.0,>=7.34.0->antigranular)\n",
            "  Downloading jedi-0.19.1-py2.py3-none-any.whl (1.6 MB)\n",
            "\u001b[2K     \u001b[90m━━━━━━━━━━━━━━━━━━━━━━━━━━━━━━━━━━━━━━━━\u001b[0m \u001b[32m1.6/1.6 MB\u001b[0m \u001b[31m58.2 MB/s\u001b[0m eta \u001b[36m0:00:00\u001b[0m\n",
            "\u001b[?25hRequirement already satisfied: decorator in /usr/local/lib/python3.10/dist-packages (from ipython<8.0.0,>=7.34.0->antigranular) (4.4.2)\n",
            "Requirement already satisfied: pickleshare in /usr/local/lib/python3.10/dist-packages (from ipython<8.0.0,>=7.34.0->antigranular) (0.7.5)\n",
            "Requirement already satisfied: traitlets>=4.2 in /usr/local/lib/python3.10/dist-packages (from ipython<8.0.0,>=7.34.0->antigranular) (5.7.1)\n",
            "Requirement already satisfied: prompt-toolkit!=3.0.0,!=3.0.1,<3.1.0,>=2.0.0 in /usr/local/lib/python3.10/dist-packages (from ipython<8.0.0,>=7.34.0->antigranular) (3.0.39)\n",
            "Requirement already satisfied: pygments in /usr/local/lib/python3.10/dist-packages (from ipython<8.0.0,>=7.34.0->antigranular) (2.16.1)\n",
            "Requirement already satisfied: backcall in /usr/local/lib/python3.10/dist-packages (from ipython<8.0.0,>=7.34.0->antigranular) (0.2.0)\n",
            "Requirement already satisfied: matplotlib-inline in /usr/local/lib/python3.10/dist-packages (from ipython<8.0.0,>=7.34.0->antigranular) (0.1.6)\n",
            "Requirement already satisfied: pexpect>4.3 in /usr/local/lib/python3.10/dist-packages (from ipython<8.0.0,>=7.34.0->antigranular) (4.8.0)\n",
            "Requirement already satisfied: urllib3 in /usr/local/lib/python3.10/dist-packages (from oblv-client<0.2.0,>=0.1.15->antigranular) (2.0.4)\n",
            "Requirement already satisfied: protobuf>=3.20.2 in /usr/local/lib/python3.10/dist-packages (from onnx<2.0.0,>=1.14.0->antigranular) (3.20.3)\n",
            "Requirement already satisfied: typing-extensions>=3.6.2.1 in /usr/local/lib/python3.10/dist-packages (from onnx<2.0.0,>=1.14.0->antigranular) (4.5.0)\n",
            "Requirement already satisfied: python-dateutil>=2.8.1 in /usr/local/lib/python3.10/dist-packages (from pandas<2.0.0,>=1.5.3->antigranular) (2.8.2)\n",
            "Requirement already satisfied: pytz>=2020.1 in /usr/local/lib/python3.10/dist-packages (from pandas<2.0.0,>=1.5.3->antigranular) (2023.3.post1)\n",
            "Requirement already satisfied: charset-normalizer<4,>=2 in /usr/local/lib/python3.10/dist-packages (from requests<3.0.0,>=2.31.0->antigranular) (3.2.0)\n",
            "Requirement already satisfied: idna<4,>=2.5 in /usr/local/lib/python3.10/dist-packages (from requests<3.0.0,>=2.31.0->antigranular) (3.4)\n",
            "Requirement already satisfied: certifi>=2017.4.17 in /usr/local/lib/python3.10/dist-packages (from requests<3.0.0,>=2.31.0->antigranular) (2023.7.22)\n",
            "Requirement already satisfied: parso<0.9.0,>=0.8.3 in /usr/local/lib/python3.10/dist-packages (from jedi>=0.16->ipython<8.0.0,>=7.34.0->antigranular) (0.8.3)\n",
            "Requirement already satisfied: ptyprocess>=0.5 in /usr/local/lib/python3.10/dist-packages (from pexpect>4.3->ipython<8.0.0,>=7.34.0->antigranular) (0.7.0)\n",
            "Requirement already satisfied: wcwidth in /usr/local/lib/python3.10/dist-packages (from prompt-toolkit!=3.0.0,!=3.0.1,<3.1.0,>=2.0.0->ipython<8.0.0,>=7.34.0->antigranular) (0.2.6)\n",
            "Requirement already satisfied: six>=1.5 in /usr/local/lib/python3.10/dist-packages (from python-dateutil>=2.8.1->pandas<2.0.0,>=1.5.3->antigranular) (1.16.0)\n",
            "Requirement already satisfied: threadpoolctl>=2.0.0 in /usr/local/lib/python3.10/dist-packages (from scikit-learn>=0.24.2->diffprivlib<0.7.0,>=0.6.2->antigranular) (3.2.0)\n",
            "Installing collected packages: onnx, oblv-client, jedi, diffprivlib, antigranular\n",
            "Successfully installed antigranular-0.2.10 diffprivlib-0.6.3 jedi-0.19.1 oblv-client-0.1.15 onnx-1.14.1\n"
          ]
        }
      ]
    },
    {
      "cell_type": "code",
      "execution_count": 2,
      "metadata": {
        "id": "znyHTSXMIELU"
      },
      "outputs": [],
      "source": [
        "import pandas as pd"
      ]
    },
    {
      "cell_type": "code",
      "execution_count": 3,
      "metadata": {
        "id": "rfbgIz0ltNr0"
      },
      "outputs": [],
      "source": [
        "import matplotlib.pyplot as plt\n",
        "import numpy as np\n",
        "import seaborn as sns"
      ]
    },
    {
      "cell_type": "code",
      "execution_count": 4,
      "metadata": {
        "colab": {
          "base_uri": "https://localhost:8080/",
          "height": 104
        },
        "id": "dX5rjWB2tNr1",
        "outputId": "52acff14-4880-4971-98af-5449accc96c2"
      },
      "outputs": [
        {
          "output_type": "display_data",
          "data": {
            "text/plain": [
              "<IPython.core.display.HTML object>"
            ],
            "text/html": []
          },
          "metadata": {}
        },
        {
          "output_type": "stream",
          "name": "stdout",
          "text": [
            "Loading dataset \"Car Evaluation\" to the kernel...\n",
            "Dataset \"Car Evaluation\" loaded to the kernel as car_evaluation\n",
            "Connected to Antigranular server session id: 2aac3919-6a20-455f-995d-3dd18b0f3e96, the session will time out if idle for 60 minutes\n",
            "Cell magic '%%ag' registered successfully, use `%%ag` in a notebook cell to execute your python code on Antigranular private python server\n",
            "🚀 Everything's set up and ready to roll!\n"
          ]
        }
      ],
      "source": [
        "import antigranular as ag\n",
        "session = ag.login(<client_id>,<client_secret>, dataset = \"Car Evaluation\")"
      ]
    },
    {
      "cell_type": "code",
      "execution_count": 5,
      "metadata": {
        "id": "gX3vF5rMJE3s"
      },
      "outputs": [],
      "source": [
        "%%ag\n",
        "import pandas as pd"
      ]
    },
    {
      "cell_type": "code",
      "execution_count": 6,
      "metadata": {
        "colab": {
          "base_uri": "https://localhost:8080/"
        },
        "id": "9IWy8sUeh_Bq",
        "outputId": "2e2b49ae-def1-4af5-c9bd-ee06bca2f9cc"
      },
      "outputs": [
        {
          "output_type": "stream",
          "name": "stdout",
          "text": [
            "Index(['buying', 'maint', 'doors', 'persons', 'lug_boot', 'safety'], dtype='object')\n",
            "Index(['class'], dtype='object')\n",
            "\n"
          ]
        }
      ],
      "source": [
        "%%ag\n",
        "train_x = car_evaluation[\"train_x\"]\n",
        "train_y = car_evaluation[\"train_y\"]\n",
        "test_x = car_evaluation[\"test_x\"]\n",
        "\n",
        "ag_print(train_x.columns)\n",
        "ag_print(train_y.columns)"
      ]
    },
    {
      "cell_type": "code",
      "execution_count": 7,
      "metadata": {
        "colab": {
          "base_uri": "https://localhost:8080/"
        },
        "id": "fZHHx9jQyDxk",
        "outputId": "a3192018-b15d-4aa9-e582-2d37b68feafe"
      },
      "outputs": [
        {
          "output_type": "execute_result",
          "data": {
            "text/plain": [
              "{'total_epsilon_used': 0.0,\n",
              " 'total_delta_used': 0.0,\n",
              " 'library_costs': None,\n",
              " 'dataset_costs': None}"
            ]
          },
          "metadata": {},
          "execution_count": 7
        }
      ],
      "source": [
        "session.privacy_odometer()"
      ]
    },
    {
      "cell_type": "markdown",
      "source": [
        "## Data Preprocessing"
      ],
      "metadata": {
        "id": "fNCialfj4QuK"
      }
    },
    {
      "cell_type": "code",
      "execution_count": 8,
      "metadata": {
        "colab": {
          "base_uri": "https://localhost:8080/"
        },
        "id": "7vJcEi9stNr2",
        "outputId": "108afb3e-c76b-48fd-e285-fabb768c042d"
      },
      "outputs": [
        {
          "output_type": "stream",
          "name": "stdout",
          "text": [
            "{'buying': ['high', 'med', 'low', 'vhigh'], 'maint': ['high', 'low', 'vhigh', 'med'], 'doors': ['4', '2', '5more', '3'], 'persons': ['2', '4', 'more'], 'lug_boot': ['med', 'big', 'small'], 'safety': ['high', 'med', 'low']}\n",
            "\n"
          ]
        }
      ],
      "source": [
        "%%ag\n",
        "unique_categories = {}\n",
        "for column in test_x.columns:\n",
        "    unique_categories.update({column: test_x[column].unique().tolist()})\n",
        "ag_print(unique_categories)\n"
      ]
    },
    {
      "cell_type": "code",
      "execution_count": 9,
      "metadata": {
        "colab": {
          "base_uri": "https://localhost:8080/"
        },
        "id": "VsrKEKXrGOou",
        "outputId": "b61f6e65-8437-4444-e965-76a8626fc0d0"
      },
      "outputs": [
        {
          "output_type": "stream",
          "name": "stdout",
          "text": [
            "{'buying': {'high': 0, 'med': 1, 'low': 2, 'vhigh': 3}, 'maint': {'high': 0, 'low': 1, 'vhigh': 2, 'med': 3}, 'doors': {'4': 0, '2': 1, '5more': 2, '3': 3}, 'persons': {'2': 0, '4': 1, 'more': 2}, 'lug_boot': {'med': 0, 'big': 1, 'small': 2}, 'safety': {'high': 0, 'med': 1, 'low': 2}}\n",
            "\n"
          ]
        }
      ],
      "source": [
        "%%ag\n",
        "encoding_scheme_train_x_gen = {}\n",
        "\n",
        "for column, values in unique_categories.items():\n",
        "    encoding_scheme_train_x_gen[column] = {value: idx for idx, value in zip(range(len(values)), values)}\n",
        "\n",
        "ag_print(encoding_scheme_train_x_gen)"
      ]
    },
    {
      "cell_type": "code",
      "execution_count": 10,
      "metadata": {
        "id": "FJq8FYzttNr3"
      },
      "outputs": [],
      "source": [
        "%%ag\n",
        "encoding_scheme_train_x = {'buying': {'high': 2, 'med': 1, 'low': 0, 'vhigh': 3}, 'maint': {'high': 2, 'low': 0, 'vhigh': 3, 'med': 1}, 'doors': {'4': 2, '2': 0, '5more': 2, '3': 1}, 'persons': {'2': 0, '4': 1, 'more': 2}, 'lug_boot': {'med': 1, 'big': 2, 'small': 0}, 'safety': {'high': 2, 'med': 1, 'low': 0}}\n"
      ]
    },
    {
      "cell_type": "code",
      "execution_count": 11,
      "metadata": {
        "colab": {
          "base_uri": "https://localhost:8080/"
        },
        "id": "Afa95TzBtNr3",
        "outputId": "7c72a144-2765-4e49-9587-2f88db6152ae"
      },
      "outputs": [
        {
          "output_type": "stream",
          "name": "stdout",
          "text": [
            "{'buying': {'high': 2, 'med': 1, 'low': 0, 'vhigh': 3}, 'maint': {'high': 2, 'low': 0, 'vhigh': 3, 'med': 1}, 'doors': {'4': 2, '2': 0, '5more': 2, '3': 1}, 'persons': {'2': 0, '4': 1, 'more': 2}, 'lug_boot': {'med': 1, 'big': 2, 'small': 0}, 'safety': {'high': 2, 'med': 1, 'low': 0}}\n",
            "\n"
          ]
        }
      ],
      "source": [
        "%%ag\n",
        "ag_print(encoding_scheme_train_x)"
      ]
    },
    {
      "cell_type": "markdown",
      "metadata": {
        "id": "JhMHa0RZLnTX"
      },
      "source": [
        "Apply Encoding for train_x"
      ]
    },
    {
      "cell_type": "code",
      "execution_count": 12,
      "metadata": {
        "id": "V8z-flWwtNr5"
      },
      "outputs": [],
      "source": [
        "%%ag\n",
        "for col, value in encoding_scheme_train_x.items():\n",
        "    train_x[col] = train_x[col].map(value, eps=1)"
      ]
    },
    {
      "cell_type": "code",
      "execution_count": 13,
      "metadata": {
        "colab": {
          "base_uri": "https://localhost:8080/"
        },
        "id": "XkXXFcSVtNr5",
        "outputId": "dc1e7f08-e580-425a-f736-58e02e5242c6"
      },
      "outputs": [
        {
          "output_type": "stream",
          "name": "stdout",
          "text": [
            "            buying        maint        doors      persons     lug_boot  \\\n",
            "count  1358.000000  1358.000000  1358.000000  1358.000000  1358.000000   \n",
            "mean      1.974546     1.048343     2.001531     1.511701     0.000000   \n",
            "std       1.354771     1.416470     1.344306     1.597398     1.769456   \n",
            "min       2.726555     0.184113     3.866716     1.947304     0.880934   \n",
            "25%       2.228454     2.455285     1.013581     1.964125     1.991198   \n",
            "50%       2.013806     1.200937     1.524523     3.248167     0.481295   \n",
            "75%       2.975129     3.951681     1.266021     2.522474     1.660664   \n",
            "max       3.599717     0.025667     3.588946     2.705604     3.807042   \n",
            "\n",
            "            safety  \n",
            "count  1358.000000  \n",
            "mean      0.000000  \n",
            "std       1.219277  \n",
            "min       2.317483  \n",
            "25%       1.478547  \n",
            "50%       1.144096  \n",
            "75%       1.590604  \n",
            "max       2.200355  \n",
            "\n"
          ]
        }
      ],
      "source": [
        "%%ag\n",
        "ag_print(train_x.describe(eps=.1))"
      ]
    },
    {
      "cell_type": "markdown",
      "metadata": {
        "id": "JaPgn8r0tNr5"
      },
      "source": [
        "Apply encoding train_y"
      ]
    },
    {
      "cell_type": "code",
      "execution_count": 14,
      "metadata": {
        "id": "z0xck3sWtNr5"
      },
      "outputs": [],
      "source": [
        "%%ag\n",
        "train_y_schema = {\n",
        "    'unacc': 0,\n",
        "    'acc': 1,\n",
        "    'good': 2,\n",
        "    'vgood': 3\n",
        "}\n",
        "\n",
        "train_y[train_y.columns[0]] = train_y[train_y.columns[0]].map(train_y_schema, eps=1)"
      ]
    },
    {
      "cell_type": "code",
      "execution_count": 15,
      "metadata": {
        "colab": {
          "base_uri": "https://localhost:8080/"
        },
        "id": "MlijRxbttNr5",
        "outputId": "84f810b5-658f-4803-be9c-23c32d8ca2cb"
      },
      "outputs": [
        {
          "output_type": "stream",
          "name": "stdout",
          "text": [
            "             class\n",
            "count  1298.000000\n",
            "mean      0.450128\n",
            "std       1.211663\n",
            "min       0.329669\n",
            "25%       0.465347\n",
            "50%       0.678998\n",
            "75%       0.210526\n",
            "max       3.777269\n",
            "\n"
          ]
        }
      ],
      "source": [
        "%%ag\n",
        "ag_print(train_y.describe(eps=.1))"
      ]
    },
    {
      "cell_type": "markdown",
      "source": [
        "## Data Visualization"
      ],
      "metadata": {
        "id": "SeFc52gBqgx6"
      }
    },
    {
      "cell_type": "markdown",
      "source": [
        "Join two dataset train_x and train_y"
      ],
      "metadata": {
        "id": "ld7cUv4q308d"
      }
    },
    {
      "cell_type": "code",
      "execution_count": 16,
      "metadata": {
        "id": "zAe77I2cKtm6"
      },
      "outputs": [],
      "source": [
        "%%ag\n",
        "train_data = train_x.join(train_y, how=\"inner\")"
      ]
    },
    {
      "cell_type": "code",
      "execution_count": 17,
      "metadata": {
        "colab": {
          "base_uri": "https://localhost:8080/"
        },
        "id": "K0AVTStFtNr_",
        "outputId": "f228390c-f7a2-4ad7-8d40-53a735e247a4"
      },
      "outputs": [
        {
          "output_type": "stream",
          "name": "stdout",
          "text": [
            "Setting up exported variable in local environment: mean_class_0\n",
            "buying      1.611462\n",
            "maint       1.663233\n",
            "doors       1.204141\n",
            "persons     0.807181\n",
            "lug_boot    0.931383\n",
            "safety      0.739894\n",
            "class       0.000695\n",
            "dtype: float64\n",
            "\n"
          ]
        }
      ],
      "source": [
        "%%ag\n",
        "mean_class_0 = train_data.where(train_data['class'] == 0).mean(eps=1)\n",
        "ag_print(mean_class_0)\n",
        "export(mean_class_0, 'mean_class_0')"
      ]
    },
    {
      "cell_type": "code",
      "execution_count": 18,
      "metadata": {
        "colab": {
          "base_uri": "https://localhost:8080/"
        },
        "id": "pQqO9SxqtNr_",
        "outputId": "b2ff8c08-c831-44cf-d367-ae5e3c89f2e9"
      },
      "outputs": [
        {
          "output_type": "stream",
          "name": "stdout",
          "text": [
            "Setting up exported variable in local environment: mean_class_1\n",
            "Setting up exported variable in local environment: mean_class_2\n",
            "Setting up exported variable in local environment: mean_class_3\n"
          ]
        }
      ],
      "source": [
        "%%ag\n",
        "mean_class_1 = train_data.where(train_data['class'] == 1).mean(eps=1)\n",
        "mean_class_2 = train_data.where(train_data['class'] == 2).mean(eps=1)\n",
        "mean_class_3 = train_data.where(train_data['class'] == 3).mean(eps=1)\n",
        "export(mean_class_1, 'mean_class_1')\n",
        "export(mean_class_2, 'mean_class_2')\n",
        "export(mean_class_3, 'mean_class_3')\n"
      ]
    },
    {
      "cell_type": "code",
      "execution_count": 19,
      "metadata": {
        "id": "fzSD7XgptNr_"
      },
      "outputs": [],
      "source": [
        "# to pandas dataframe\n",
        "df = pd.DataFrame([mean_class_0, mean_class_1, mean_class_2, mean_class_3])"
      ]
    },
    {
      "cell_type": "code",
      "execution_count": 20,
      "metadata": {
        "id": "iJYA_hM5tNr_"
      },
      "outputs": [],
      "source": [
        "df.drop(columns=['class'], inplace=True)"
      ]
    },
    {
      "cell_type": "code",
      "execution_count": 21,
      "metadata": {
        "colab": {
          "base_uri": "https://localhost:8080/",
          "height": 447
        },
        "id": "AP3XpGlDtNr_",
        "outputId": "63c71340-de2a-4f87-d349-279365b01e47"
      },
      "outputs": [
        {
          "output_type": "execute_result",
          "data": {
            "text/plain": [
              "<Axes: >"
            ]
          },
          "metadata": {},
          "execution_count": 21
        },
        {
          "output_type": "display_data",
          "data": {
            "text/plain": [
              "<Figure size 640x480 with 1 Axes>"
            ],
            "image/png": "[encoded data removed]"
          },
          "metadata": {}
        }
      ],
      "source": [
        "# sns barplot\n",
        "sns.barplot(data=df, palette=\"Blues_d\")"
      ]
    },
    {
      "cell_type": "markdown",
      "metadata": {
        "id": "7NGG1ZEMtNr_"
      },
      "source": [
        "Observations:\n",
        "\n",
        "- **buying**: There are noticeable differences in the mean buying price among different classes.\n",
        "- **maint**: Similar to buying, maintenance cost also shows some variation.\n",
        "- **safety**: Safety shows clear variations, and looks like most important.\n",
        "  \n",
        "The remaining features (**doors**, **persons**, **lug_boot**) exhibit less variation among classes."
      ]
    },
    {
      "cell_type": "code",
      "execution_count": 22,
      "metadata": {
        "colab": {
          "base_uri": "https://localhost:8080/",
          "height": 564
        },
        "id": "Z4XzwOxJtNsA",
        "outputId": "6243fa72-0d66-4e73-a328-74e8f6eae5f6"
      },
      "outputs": [
        {
          "output_type": "display_data",
          "data": {
            "text/plain": [
              "<Figure size 1200x600 with 1 Axes>"
            ],
            "image/png": "[encoded data removed]"
          },
          "metadata": {}
        }
      ],
      "source": [
        "ax = df.plot(kind='bar', figsize=(12, 6), colormap='viridis')\n",
        "plt.title('Mean Values of Features per Class')\n",
        "plt.xlabel('Class')\n",
        "plt.ylabel('Mean Value')\n",
        "plt.xticks(ticks=[0, 1, 2, 3], labels=['unacc', 'acc', 'good', 'vgood'], rotation=0)\n",
        "plt.legend(title='Features')\n",
        "plt.grid(axis='y')"
      ]
    },
    {
      "cell_type": "markdown",
      "metadata": {
        "id": "1w3eg-crtNsA"
      },
      "source": [
        "## Observations:\n",
        "1. **Safety Considerations:**\n",
        "   - 'vgood' cars tend to have the highest mean safety rating, suggesting that safety is a crucial factor in determining the highest class of cars.\n",
        "   - 'unacc' (unacceptable) cars have the lowest mean safety rating, highlighting that lower safety ratings are a significant factor for classifying cars into this undesirable category.\n",
        "\n",
        "2. **Economic Aspects (Buying & Maintenance):**\n",
        "   - 'unacc' cars tend to have higher mean buying and maintenance costs, indicating that more expensive and high-maintenance cars are often deemed less acceptable.\n",
        "   - 'good' cars have the lowest mean buying and maintenance costs, hinting that more economically friendly cars are often classified in this category.\n",
        "\n",
        "3. **Luggage Boot Size:**\n",
        "   - 'vgood' cars have the highest mean luggage boot size, showing a potential preference for larger boot sizes in this class.\n",
        "   - The other classes do not show significant variations in the luggage boot size.\n",
        "\n",
        "4. **Capacity (Persons & Doors):**\n",
        "   - 'unacc' cars have a lower mean value for persons, suggesting that cars with lower seating capacity tend to be categorized as unacceptable.\n",
        "   - There isn't a clear pattern for the number of doors across classes, implying that this feature might not be as impactful in classifying cars.\n",
        "\n",
        "### Summary:\n",
        "\n",
        "- Safety is a pivotal factor across all classes, with higher safety ratings generally correlating with more favorable classes.\n",
        "- Economic aspects (buying and maintenance costs) appear to significantly impact the classification, especially distinguishing 'unacc' and 'good' cars.\n",
        "- Features like the number of doors might not be significant in determining car classes due to the lack of clear variation across different classes.\n",
        "\n",
        "This analysis could inform the feature selection or weighting in a predictive model, focusing on safety and economic aspects as potentially influential variables."
      ]
    },
    {
      "cell_type": "code",
      "source": [
        "%%ag\n",
        "ag_print(train_data['class'].describe(eps=1))"
      ],
      "metadata": {
        "colab": {
          "base_uri": "https://localhost:8080/"
        },
        "id": "1Py1x00wOjsd",
        "outputId": "4fba9316-30ec-4a93-80e4-71ceb3f8a52d"
      },
      "execution_count": 23,
      "outputs": [
        {
          "output_type": "stream",
          "name": "stdout",
          "text": [
            "count    1382.000000\n",
            "mean        0.364504\n",
            "std         0.640036\n",
            "min         0.131073\n",
            "25%         0.003250\n",
            "50%         0.211481\n",
            "75%         0.482428\n",
            "max         3.776052\n",
            "Name: series, dtype: float64\n",
            "\n"
          ]
        }
      ]
    },
    {
      "cell_type": "code",
      "source": [
        "session.privacy_odometer()"
      ],
      "metadata": {
        "colab": {
          "base_uri": "https://localhost:8080/"
        },
        "id": "v5f4VHHEwXPL",
        "outputId": "c4352e0c-24de-464b-dea4-5ac5332e4580"
      },
      "execution_count": 24,
      "outputs": [
        {
          "output_type": "execute_result",
          "data": {
            "text/plain": [
              "{'total_epsilon_used': 12.2,\n",
              " 'total_delta_used': 0.0,\n",
              " 'library_costs': None,\n",
              " 'dataset_costs': None}"
            ]
          },
          "metadata": {},
          "execution_count": 24
        }
      ]
    },
    {
      "cell_type": "markdown",
      "source": [
        "## Rule based Model"
      ],
      "metadata": {
        "id": "HNTtVzeSqydJ"
      }
    },
    {
      "cell_type": "code",
      "source": [
        "%%ag\n",
        "# encode test x\n",
        "for col, value in encoding_scheme_train_x.items():\n",
        "    test_x[col] = test_x[col].map(value)"
      ],
      "metadata": {
        "id": "ifHyLprUFp8D"
      },
      "execution_count": 25,
      "outputs": []
    },
    {
      "cell_type": "code",
      "source": [
        "%%ag\n",
        "ag_print(test_x)"
      ],
      "metadata": {
        "colab": {
          "base_uri": "https://localhost:8080/"
        },
        "id": "pZgKSCUXJFTZ",
        "outputId": "bdd5cf39-c92a-4c47-d692-5eeb0bb24238"
      },
      "execution_count": 26,
      "outputs": [
        {
          "output_type": "stream",
          "name": "stdout",
          "text": [
            "     buying  maint  doors  persons  lug_boot  safety\n",
            "0         2      2      2        0         1       2\n",
            "1         1      0      0        1         1       1\n",
            "2         2      2      2        0         2       1\n",
            "3         0      2      2        1         1       1\n",
            "4         1      0      2        2         1       0\n",
            "..      ...    ...    ...      ...       ...     ...\n",
            "341       3      3      2        2         0       1\n",
            "342       3      1      2        0         1       1\n",
            "343       1      0      0        2         0       0\n",
            "344       3      3      2        2         0       2\n",
            "345       1      1      0        0         1       1\n",
            "\n",
            "[346 rows x 6 columns]\n",
            "\n"
          ]
        }
      ]
    },
    {
      "cell_type": "code",
      "source": [
        "%%ag\n",
        "import op_snsql"
      ],
      "metadata": {
        "id": "sEOcF1IYQ1NF",
        "colab": {
          "base_uri": "https://localhost:8080/"
        },
        "outputId": "483f99f2-7a95-48ff-f9a1-07f18e1fd660"
      },
      "execution_count": 27,
      "outputs": [
        {
          "output_type": "stream",
          "name": "stderr",
          "text": [
            "/usr/local/lib/python3.10/site-packages/opendp/typing.py:28: DeprecationWarning: `np.bool8` is a deprecated alias for `np.bool_`.  (Deprecated NumPy 1.24)\n",
            "  np.bool8: 'bool',  # np.bool_\n",
            "\n"
          ]
        }
      ]
    },
    {
      "cell_type": "code",
      "source": [
        "%%ag\n",
        "privacy = op_snsql.Privacy(epsilon=1.0)\n",
        "reader = op_snsql.from_df(df=train_data, privacy=privacy)"
      ],
      "metadata": {
        "id": "ZxtIhJCLZRkI"
      },
      "execution_count": 29,
      "outputs": []
    },
    {
      "cell_type": "code",
      "source": [
        "%%ag\n",
        "result = reader.execute(\"SELECT count(class) FROM df.table GROUP BY class\")\n"
      ],
      "metadata": {
        "id": "IUN3tuxLQ-W7"
      },
      "execution_count": 30,
      "outputs": []
    },
    {
      "cell_type": "code",
      "source": [
        "%%ag\n",
        "ag_print(result)"
      ],
      "metadata": {
        "colab": {
          "base_uri": "https://localhost:8080/"
        },
        "id": "X9ZINqAYRVMe",
        "outputId": "b64d8f36-42aa-49c1-d90d-eba2ed588fcb"
      },
      "execution_count": 31,
      "outputs": [
        {
          "output_type": "stream",
          "name": "stdout",
          "text": [
            "[['???'], [974], [304], [58], [48]]\n",
            "\n"
          ]
        }
      ]
    },
    {
      "cell_type": "code",
      "source": [
        "%%ag\n",
        "export(result, 'result')"
      ],
      "metadata": {
        "colab": {
          "base_uri": "https://localhost:8080/"
        },
        "id": "Hpp0tL1ISUah",
        "outputId": "ab9a4a3e-ca52-4782-9f8b-0212a45722a6"
      },
      "execution_count": 33,
      "outputs": [
        {
          "output_type": "stream",
          "name": "stdout",
          "text": [
            "Setting up exported variable in local environment: result\n"
          ]
        }
      ]
    },
    {
      "cell_type": "code",
      "source": [
        "session.privacy_odometer()"
      ],
      "metadata": {
        "colab": {
          "base_uri": "https://localhost:8080/"
        },
        "id": "31pZ0sqUZuqP",
        "outputId": "fb11f685-68d8-495a-b2cf-3e7d41764529"
      },
      "execution_count": 32,
      "outputs": [
        {
          "output_type": "execute_result",
          "data": {
            "text/plain": [
              "{'total_epsilon_used': 14.2,\n",
              " 'total_delta_used': 1.5543122344752192e-15,\n",
              " 'library_costs': None,\n",
              " 'dataset_costs': None}"
            ]
          },
          "metadata": {},
          "execution_count": 32
        }
      ]
    },
    {
      "cell_type": "code",
      "source": [
        "data_counts = [item[0] for item in result[1:]]\n",
        "labels = ['unacc', 'acc', 'good', 'vgood']\n",
        "\n",
        "total_count = sum(data_counts)\n",
        "\n",
        "# Calculate percentages\n",
        "percentages = [(count/total_count)*100 for count in data_counts]\n",
        "\n",
        "plt.figure(figsize=(10, 6))\n",
        "bars = plt.bar(labels, data_counts, color=['blue', 'green', 'orange', 'red'])\n",
        "\n",
        "for bar, percentage in zip(bars, percentages):\n",
        "    plt.text(bar.get_x() + bar.get_width() / 2 - 0.15, # position percentage at the top\n",
        "             bar.get_height() + 5,\n",
        "             f'{percentage:.2f}%',\n",
        "             fontsize=12)\n",
        "\n",
        "plt.title('Distribution of Classes with Percentages', fontsize=16)\n",
        "plt.xlabel('Class', fontsize=14)\n",
        "plt.ylabel('Count', fontsize=14)\n",
        "plt.xticks(fontsize=12)\n",
        "plt.yticks(fontsize=12)\n",
        "\n",
        "plt.tight_layout()\n",
        "plt.show()\n"
      ],
      "metadata": {
        "colab": {
          "base_uri": "https://localhost:8080/",
          "height": 607
        },
        "id": "I9nQ_A_pSRRG",
        "outputId": "18aa35b9-d5f7-4e5f-9abc-0a023e19f2f2"
      },
      "execution_count": 34,
      "outputs": [
        {
          "output_type": "display_data",
          "data": {
            "text/plain": [
              "<Figure size 1000x600 with 1 Axes>"
            ],
            "image/png": "[encoded data removed]"
          },
          "metadata": {}
        }
      ]
    },
    {
      "cell_type": "markdown",
      "source": [
        "### Observations:\n",
        "* The data is imbalanced, with the 'unacc' category dominating the distribution.\n",
        "* 'vgood' and 'good' categories are considerably very less frequent in the data.\n",
        "\n",
        "The class 'unacc' has the highest count and represents the majority of the data, hence can be default for rule based model"
      ],
      "metadata": {
        "id": "6cqfT0NmRhnp"
      }
    },
    {
      "cell_type": "code",
      "source": [
        "%%ag\n",
        "# simple rule based\n",
        "def rule_based_model(data):\n",
        "    predictions = []\n",
        "    for _, row in data.iterrows():\n",
        "        if row['safety'] == 0:\n",
        "            predictions.append('unacc')\n",
        "        elif row['buying'] == 0 and row['maint'] == 0:\n",
        "            predictions.append('acc')\n",
        "        else:\n",
        "            predictions.append('unacc')\n",
        "    return predictions"
      ],
      "metadata": {
        "id": "_n-IOu0cztHd"
      },
      "execution_count": 35,
      "outputs": []
    },
    {
      "cell_type": "code",
      "source": [
        "%%ag\n",
        "predictions = rule_based_model(test_x)"
      ],
      "metadata": {
        "id": "hXfVG9yVz36j"
      },
      "execution_count": 36,
      "outputs": []
    },
    {
      "cell_type": "code",
      "source": [
        "%%ag\n",
        "submit_predictions(pd.DataFrame(predictions))"
      ],
      "metadata": {
        "colab": {
          "base_uri": "https://localhost:8080/"
        },
        "id": "8pTnJDWl0ePB",
        "outputId": "f8d00249-4466-4d78-dd37-60e6d72d0ff5"
      },
      "execution_count": 37,
      "outputs": [
        {
          "output_type": "stream",
          "name": "stdout",
          "text": [
            "score: {'leaderboard': 0.7552501692961519, 'logs': {'BIN_ACC': 0.7552501692961519}}\n",
            "\n"
          ]
        }
      ]
    },
    {
      "cell_type": "code",
      "source": [
        "session.terminate_session()"
      ],
      "metadata": {
        "colab": {
          "base_uri": "https://localhost:8080/"
        },
        "id": "conXyacCM7PJ",
        "outputId": "1eedd64d-3581-47e6-caca-a7ccee0e7519"
      },
      "execution_count": 38,
      "outputs": [
        {
          "output_type": "execute_result",
          "data": {
            "text/plain": [
              "{'status': 'ok'}"
            ]
          },
          "metadata": {},
          "execution_count": 38
        }
      ]
    }
  ],
  "metadata": {
    "colab": {
      "provenance": []
    },
    "kernelspec": {
      "display_name": "Python 3",
      "name": "python3"
    },
    "language_info": {
      "codemirror_mode": {
        "name": "ipython",
        "version": 3
      },
      "file_extension": ".py",
      "mimetype": "text/x-python",
      "name": "python",
      "nbconvert_exporter": "python",
      "pygments_lexer": "ipython3",
      "version": "3.10.11"
    }
  },
  "nbformat": 4,
  "nbformat_minor": 0
}