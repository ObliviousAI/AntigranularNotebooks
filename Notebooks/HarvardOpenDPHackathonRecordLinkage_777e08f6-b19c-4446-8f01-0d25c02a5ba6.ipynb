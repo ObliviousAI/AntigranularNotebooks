{
 "cells": [
  {
   "cell_type": "code",
   "execution_count": 1,
   "metadata": {},
   "outputs": [
    {
     "data": {
      "text/html": [],
      "text/plain": [
       "<IPython.core.display.HTML object>"
      ]
     },
     "metadata": {},
     "output_type": "display_data"
    },
    {
     "name": "stdout",
     "output_type": "stream",
     "text": [
      "Dataset \"Flight Company Dataset\" loaded to the kernel as \u001b[92mflight_company_dataset\u001b[0m\n",
      "\n",
      "Dataset \"Health Organisation Dataset\" loaded to the kernel as \u001b[92mhealth_organisation_dataset\u001b[0m\n",
      "\n",
      "Connected to Antigranular server session id: 777e08f6-b19c-4446-8f01-0d25c02a5ba6, the session will time out if idle for 25 minutes\n",
      "Cell magic '%%ag' registered successfully, use `%%ag` in a notebook cell to execute your python code on Antigranular private python server\n",
      "🚀 Everything's set up and ready to roll!\n"
     ]
    }
   ],
   "source": [
    "import antigranular as ag\n",
    "session = ag.login(<client_id>,<client_secret>, competition = \"Harvard OpenDP Hackathon\")"
   ]
  },
  {
   "cell_type": "markdown",
   "metadata": {},
   "source": [
    "## Explore\n",
    "\n",
    "As per the dataset documentation\n",
    "- flight_company_dataset: 85242 rows × 9 columns\n",
    "- health_organisation_dataset: 71707 rows × 8 columns"
   ]
  },
  {
   "cell_type": "code",
   "execution_count": 2,
   "metadata": {},
   "outputs": [],
   "source": [
    "%%ag\n",
    "\n",
    "flight = flight_company_dataset.copy()\n",
    "health = health_organisation_dataset.copy()"
   ]
  },
  {
   "cell_type": "code",
   "execution_count": 3,
   "metadata": {},
   "outputs": [
    {
     "name": "stdout",
     "output_type": "stream",
     "text": [
      "Flight columns - ['flight_number', 'flight_date', 'flight_from', 'flight_to', 'passenger_firstname', 'passenger_lastname', 'passenger_date_of_birth', 'passenger_phone_number', 'passenger_email_address']\n",
      "Flight dtypes - \n",
      "flight_number              object\n",
      "flight_date                object\n",
      "flight_from                object\n",
      "flight_to                  object\n",
      "passenger_firstname        object\n",
      "passenger_lastname         object\n",
      "passenger_date_of_birth    object\n",
      "passenger_phone_number     object\n",
      "passenger_email_address    object\n",
      "dtype: object\n",
      "\n",
      "Health columns - ['patient_firstname', 'patient_lastname', 'patient_date_of_birth', 'patient_phone_number', 'patient_email_address', 'covidtest_date', 'covidtest_result', 'patient_address']\n",
      "Health dtypes - \n",
      "patient_firstname        object\n",
      "patient_lastname         object\n",
      "patient_date_of_birth    object\n",
      "patient_phone_number     object\n",
      "patient_email_address    object\n",
      "covidtest_date           object\n",
      "covidtest_result         object\n",
      "patient_address          object\n",
      "dtype: object\n",
      "\n"
     ]
    }
   ],
   "source": [
    "%%ag\n",
    "\n",
    "ag_print(f\"Flight columns - {flight.columns}\")\n",
    "ag_print(f\"Flight dtypes - \\n{flight.dtypes}\")\n",
    "ag_print()\n",
    "ag_print(f\"Health columns - {health.columns}\")\n",
    "ag_print(f\"Health dtypes - \\n{health.dtypes}\")"
   ]
  },
  {
   "cell_type": "markdown",
   "metadata": {},
   "source": [
    "### Strategy\n",
    "\n",
    "- All columns are of object type, keep them as objects to minimize epsilon spend.\n",
    "- 0 epsilon is spent for string manipulations.\n",
    "- Standardize all dates to YY-MM-DD format (YY allows us to not worry about 1900s vs 2000s date in edge cases)"
   ]
  },
  {
   "cell_type": "markdown",
   "metadata": {},
   "source": [
    "### Date Cleaning\n",
    "\n",
    "Convert dates to YY-MM-DD format"
   ]
  },
  {
   "cell_type": "code",
   "execution_count": 4,
   "metadata": {},
   "outputs": [],
   "source": [
    "%%ag\n",
    "\n",
    "import re\n",
    "\n",
    "def is_leap_year(year: int) -> bool:\n",
    "    \"\"\"Determine whether a year is a leap year.\"\"\"\n",
    "    # https://stackoverflow.com/a/30714165\n",
    "\n",
    "    return year % 4 == 0 and (year % 100 != 0 or year % 400 == 0)\n",
    "\n",
    "def clean_months(month_val: str) -> str:\n",
    "    months = [\"jan\", \"feb\", \"mar\", \"apr\", \"may\", \"jun\", \"jul\", \"aug\", \"sep\", \"oct\", \"nov\", \"dec\"]\n",
    "\n",
    "    count = 1\n",
    "    for month in months:\n",
    "        if month in month_val.lower():\n",
    "            return str(count).rjust(2, \"0\")\n",
    "        count = count + 1\n",
    "\n",
    "    return \"00\"\n",
    "\n",
    "\n",
    "def validate_day(year: str, month: str, day: str) -> bool:\n",
    "    days_map = {\n",
    "        1: 31, # Jan\n",
    "        2: 28, # Feb\n",
    "        3: 31, # March\n",
    "        4: 30, # April\n",
    "        5: 31, # May\n",
    "        6: 30, # Jun\n",
    "        7: 31,# July\n",
    "        8: 31, # Aug\n",
    "        9: 30, # Sept\n",
    "        10: 31, # Oct\n",
    "        11: 30, # Nob\n",
    "        12: 31 # Dec\n",
    "    }\n",
    "\n",
    "    # leap year check\n",
    "    # We assume dates are only valid between 1901 to 2020 (birthdates only one or two people alive that has lived till 120)\n",
    "    # very rare that they would be taking a flight\n",
    "    year_int = 0\n",
    "    if int(year) == 0:\n",
    "        year = 2000\n",
    "    else:\n",
    "        year = int(\"20\" + year) # Years across 100 yrs are still leap\n",
    "\n",
    "    if is_leap_year(year):\n",
    "        days_map.update({2: 29})\n",
    "\n",
    "    day_valid = int(day) <= days_map[int(month)]\n",
    "\n",
    "    return day_valid   \n",
    "\n",
    "\n",
    "def clean_dates(value: str, lower: bool) -> str:\n",
    "    \"\"\"\n",
    "    Convert date value to YYYY-MM-DD format\n",
    "\n",
    "    No date should exist after 31-Jan-2020\n",
    "\n",
    "    Months are given alphabetically, so we just need to find years and days\n",
    "\n",
    "    We assume confusing cases like 06 Jan 2001 being represented as 06 Jan 01\n",
    "    won't exist or will at least be represented in a differentiating way like 6 Jan 01\n",
    "\n",
    "    But if they do, we take two combinations based on which number is lower.\n",
    "    We also assume that years would ideally be between 1920 to 2020, so any years like 06 will be treated as 2006.\n",
    "    \"\"\"\n",
    "    delims = [\".\", \" \", \"-\"]\n",
    "\n",
    "    # Handle multiple occurences and replace with only one delim\n",
    "    value = re.sub(r\"[-.\\s]+\", \"-\", value)\n",
    "\n",
    "    # Only keep expected characters\n",
    "    value_final = \"\"\n",
    "    for letter in value:\n",
    "        if letter.isalnum() or letter == \"-\":\n",
    "            value_final = value_final + letter\n",
    "\n",
    "    value_comps = value_final.strip().split(\"-\")\n",
    "\n",
    "    year, month, day = None, None, None\n",
    "\n",
    "    remaining = []\n",
    "\n",
    "    # Find month and year\n",
    "    for val in value_comps:\n",
    "        if val.strip().isalpha():\n",
    "            # Months are always alphabetical\n",
    "            month = clean_months(val)\n",
    "        \n",
    "        elif val.isnumeric():\n",
    "            if len(val) == 4:\n",
    "                year = val[2:]\n",
    "\n",
    "            elif int(val) > 31:\n",
    "                # no day can exist after 31\n",
    "                year = val\n",
    "\n",
    "            elif val == \"00\":\n",
    "                # Assign as 2000\n",
    "                year = val\n",
    "\n",
    "            elif len(val) == 1:\n",
    "                # Years would be 2 digit at the least\n",
    "                day = val.rjust(2, \"0\")\n",
    "        \n",
    "            else:\n",
    "                remaining.append(val)\n",
    "\n",
    "\n",
    "    if month:\n",
    "        if year:\n",
    "            if not day:\n",
    "                # if year and month found\n",
    "                day = remaining[0]\n",
    "\n",
    "        else:\n",
    "            if day:\n",
    "                year = remaining[0]\n",
    "\n",
    "            else:\n",
    "                # Only confusing cases would remain\n",
    "                remaining2 = sorted(remaining, key=lambda x: int(x))\n",
    "\n",
    "                # If nothing matches for example: 06 Jan 10, ideally day should be first and year should be last\n",
    "                if lower:\n",
    "                    year, day = remaining2\n",
    "                else:\n",
    "                    day, year  = remaining2\n",
    "\n",
    "                # really rare edge cases\n",
    "                day_valid = validate_day(year=year, month=month, day=day)\n",
    "\n",
    "                if not day_valid:\n",
    "                    year, day = day, year # swap them if day is not valid\n",
    "\n",
    "                day = day.rjust(2, \"0\")\n",
    "                year = year.rjust(2, \"0\")\n",
    "\n",
    "    elif year:\n",
    "        # We assume this case won't happen\n",
    "        # as per the organizers\n",
    "        remaining2 = sorted(remaining, key=lambda x: int(x))\n",
    "\n",
    "        if lower:\n",
    "            month, day = remaining2\n",
    "        else:\n",
    "            day, month = remaining2\n",
    "\n",
    "\n",
    "        month = month.rjust(2, \"0\")\n",
    "        day = day.rjust(2, \"0\")\n",
    "\n",
    "        if int(month) > 12:\n",
    "            month, day = day, month # swap\n",
    "        else:\n",
    "            # really rare edge cases\n",
    "            day_valid = validate_day(year=year, month=month, day=day)\n",
    "\n",
    "            if not day_valid:\n",
    "                month, day = day, month # swap them if day is not valid\n",
    "            \n",
    "    return f\"{year}-{month}-{day}\"\n",
    "\n",
    "\n",
    "def clean_dates_lower(value: str, ) -> str:\n",
    "    return clean_dates(value, True)\n",
    "\n",
    "def clean_dates_upper(value: str, ) -> str:\n",
    "    return clean_dates(value, False)\n",
    "\n",
    "def get_age(dob:str) -> str:\n",
    "    \"\"\"\n",
    "    Give age for a person based on year and dob. A way to cover more ground using DOB and also maybe some errors in upper lower dates\n",
    "    \"\"\"\n",
    "    # Assume dob is cleaned in the format YY-MM-DD. We assume all dates are of 1900's as it won't cause problems with our format\n",
    "    dob_year_month = dob.split(\"-\")[0] + dob.split(\"-\")[1]\n",
    "\n",
    "    return dob_year_month\n"
   ]
  },
  {
   "cell_type": "markdown",
   "metadata": {},
   "source": [
    "### Name cleaning"
   ]
  },
  {
   "cell_type": "code",
   "execution_count": 5,
   "metadata": {},
   "outputs": [],
   "source": [
    "%%ag\n",
    "\n",
    "def get_firstname(mix_name: str) -> str:\n",
    "    mix_name = re.sub(r\"\\s+\", \" \", mix_name.strip())\n",
    "\n",
    "    splitter = None\n",
    "    if \" \" in mix_name:\n",
    "        splitter = \" \"\n",
    "    else:\n",
    "        # Split on first Upper Case letter\n",
    "        new_str = \"\"\n",
    "        for letter in mix_name:\n",
    "            if letter.isupper() and letter != mix_name[0]:\n",
    "                new_str = new_str + f\" {letter}\"\n",
    "                splitter = \" \"\n",
    "            else:\n",
    "                new_str = new_str + letter\n",
    "        mix_name = new_str\n",
    "\n",
    "    if splitter:\n",
    "        # mix_name = \"\".join(mix_name.split(splitter)[:-1]).lower()\n",
    "        mix_name = mix_name.split(splitter)[0].lower()\n",
    "    else:\n",
    "        mix_name = mix_name.lower()\n",
    "\n",
    "    new_str = \"\"\n",
    "    for ch in mix_name:\n",
    "        if ch.isalpha():\n",
    "            new_str = new_str + ch\n",
    "\n",
    "    return new_str.lower()\n",
    "    \n",
    "def get_middlename(mix_name: str) -> str:\n",
    "    mix_name = re.sub(r\"\\s+\", \" \", mix_name.strip())\n",
    "\n",
    "    splitter = None\n",
    "    if \" \" in mix_name:\n",
    "        splitter = \" \"\n",
    "    else:\n",
    "        # Split on first Upper Case letter\n",
    "        new_str = \"\"\n",
    "        for letter in mix_name:\n",
    "            if letter.isupper() and letter != mix_name[0]:\n",
    "                new_str = new_str + f\" {letter}\"\n",
    "                splitter = \" \"\n",
    "            else:\n",
    "                new_str = new_str + letter\n",
    "        mix_name = new_str\n",
    "\n",
    "    if splitter:\n",
    "        return \"\".join(mix_name.split(splitter)[-1]).lower()\n",
    "    else:\n",
    "        return \"\"\n",
    "\n",
    "\n",
    "def get_lastname(mix_name: str) -> str:\n",
    "    mix_name = re.sub(r\"\\s+\", \" \", mix_name.strip())\n",
    "    return mix_name.lower()\n",
    "\n",
    "\n",
    "def get_firstname2(mix_name: str) -> str:\n",
    "    \"\"\"\n",
    "    Don't worry about middle names convert every valid char to lowercase\n",
    "    \"\"\"\n",
    "    mix_name = re.sub(r\"\\s+\", \" \", mix_name.strip())\n",
    "\n",
    "    new_str = \"\"\n",
    "    for ch in mix_name:\n",
    "        if ch.isalpha():\n",
    "            new_str = new_str + ch\n",
    "\n",
    "    return new_str.lower()"
   ]
  },
  {
   "cell_type": "code",
   "execution_count": 6,
   "metadata": {},
   "outputs": [],
   "source": [
    "%%ag\n",
    "\n",
    "def clean_phonenumbers(val: str) -> str:\n",
    "    \"\"\"\n",
    "    Ideally phone numbers should be clean and all should have country codes\n",
    "\n",
    "    If they don't we can strip all country codes and then compare. This function currently\n",
    "    removes all chars except numbers.\n",
    "\n",
    "    We also remove leading 0s from the value.\n",
    "    \"\"\"\n",
    "    ls = []\n",
    "    for letter in val:\n",
    "        if letter.isnumeric():\n",
    "            ls.append(letter)\n",
    "\n",
    "    value = \"\".join(ls)\n",
    "\n",
    "    value = re.sub(\"^0+\", \"\", value)\n",
    "\n",
    "    return value"
   ]
  },
  {
   "cell_type": "code",
   "execution_count": 7,
   "metadata": {},
   "outputs": [],
   "source": [
    "%%ag\n",
    "\n",
    "def get_username(email_str: str) -> str:\n",
    "    \"\"\"\n",
    "    Match usernames exactly\n",
    "    \"\"\"\n",
    "    email_str = email_str.strip()\n",
    "\n",
    "    username = email_str.split(\"@\")[0]\n",
    "\n",
    "    return username\n",
    "\n",
    "def get_domain(email_str: str) -> str:\n",
    "    \"\"\"\n",
    "    Match domains fuzzily.\n",
    "    \"\"\"\n",
    "    email_str = email_str.replace(\".\", \"\").strip()\n",
    "\n",
    "    domain = email_str.split(\"@\")[1]\n",
    "\n",
    "    return domain"
   ]
  },
  {
   "cell_type": "markdown",
   "metadata": {},
   "source": [
    "### Flight EDA & Cleaning\n",
    "\n",
    "Columns:\n",
    "- flight_number | ROM-LON-459\n",
    "- flight_date | Format YYYY-MM-DD\n",
    "- flight_from | BOM Bombay\n",
    "- flight_to | LON London\n",
    "- passenger_firstname | Can have middle names (Clean them)\n",
    "- passenger_lastname | Fuzzy match\n",
    "- passenger_date_of_birth | Cleanup dates\n",
    "- passenger_phone_number | Cleanup numbers\n",
    "- passenger_email_address | Exact match on usernames and fuzzy match on domains"
   ]
  },
  {
   "cell_type": "code",
   "execution_count": 8,
   "metadata": {},
   "outputs": [],
   "source": [
    "%%ag\n",
    "\n",
    "flight[\"flight_fname\"] = flight[\"passenger_firstname\"].map(get_firstname, eps=0)\n",
    "# flight[\"flight_fname\"] = flight[\"passenger_firstname\"].map(get_firstname2, eps=0)\n",
    "flight[\"flight_mname\"] = flight[\"passenger_firstname\"].map(get_middlename, eps=0)\n",
    "flight[\"flight_lname\"] = flight[\"passenger_lastname\"].map(get_lastname, eps=0)"
   ]
  },
  {
   "cell_type": "code",
   "execution_count": 9,
   "metadata": {},
   "outputs": [],
   "source": [
    "%%ag\n",
    "\n",
    "# flight[\"flight_dob\"] = flight[\"passenger_date_of_birth\"].map(clean_dates, eps=0)\n",
    "flight[\"flight_dob_lower\"] = flight[\"passenger_date_of_birth\"].map(clean_dates_lower, eps=0)\n",
    "flight[\"flight_dob_upper\"] = flight[\"passenger_date_of_birth\"].map(clean_dates_upper, eps=0)"
   ]
  },
  {
   "cell_type": "code",
   "execution_count": 10,
   "metadata": {},
   "outputs": [],
   "source": [
    "%%ag\n",
    "flight[\"flight_phone_num\"] = flight[\"passenger_phone_number\"].map(clean_phonenumbers, eps=0)\n",
    "flight[\"flight_email_user\"] = flight[\"passenger_email_address\"].map(get_username, eps=0)\n",
    "flight[\"flight_email_domain\"] = flight[\"passenger_email_address\"].map(get_domain, eps=0)\n",
    "\n",
    "flight[\"flight_age\"] = flight[\"flight_dob_lower\"].map(get_age, eps=0)"
   ]
  },
  {
   "cell_type": "markdown",
   "metadata": {},
   "source": [
    "### Health EDA & Cleaning\n",
    "\n",
    "Columns:\n",
    "- patient_firstname - Clean and match fuzzily\n",
    "- patient_lastname - Clean and match fuzzily\n",
    "- patient_date_of_birth - Clean dates\n",
    "- patient_phone_number - Clean numbers\n",
    "- patient_email_address - Clean usernames and match exact, match domains fuzzily\n",
    "- covidtest_date - YYYY-MM-DD\n",
    "- covidtest_result - positive | negative\n",
    "- patient_address - Not used"
   ]
  },
  {
   "cell_type": "code",
   "execution_count": 11,
   "metadata": {},
   "outputs": [],
   "source": [
    "%%ag\n",
    "\n",
    "# Lets remove those passenger records who tested negative. (Taken from docs)\n",
    "health['covidtest_result'] = health['covidtest_result'].where(health['covidtest_result'] == 'positive')\n",
    "health = health.dropna().copy()"
   ]
  },
  {
   "cell_type": "code",
   "execution_count": 12,
   "metadata": {},
   "outputs": [],
   "source": [
    "%%ag\n",
    "\n",
    "health[\"health_fname\"] = health[\"patient_firstname\"].map(get_firstname, eps=0)\n",
    "# health[\"health_fname\"] = health[\"patient_firstname\"].map(get_firstname2, eps=0)\n",
    "health[\"health_mname\"] = health[\"patient_firstname\"].map(get_middlename, eps=0)\n",
    "health[\"health_lname\"] = health[\"patient_lastname\"].map(get_lastname, eps=0)"
   ]
  },
  {
   "cell_type": "code",
   "execution_count": 13,
   "metadata": {},
   "outputs": [],
   "source": [
    "%%ag\n",
    "\n",
    "# health[\"health_dob\"] = health[\"patient_date_of_birth\"].map(clean_dates, eps=0)\n",
    "health[\"health_dob_lower\"] = health[\"patient_date_of_birth\"].map(clean_dates_lower, eps=0)\n",
    "health[\"health_dob_upper\"] = health[\"patient_date_of_birth\"].map(clean_dates_upper, eps=0)"
   ]
  },
  {
   "cell_type": "code",
   "execution_count": 14,
   "metadata": {},
   "outputs": [],
   "source": [
    "%%ag\n",
    "health[\"health_phone_num\"] = health[\"patient_phone_number\"].map(clean_phonenumbers, eps=0)\n",
    "health[\"health_email_user\"] = health[\"patient_email_address\"].map(get_username, eps=0)\n",
    "health[\"health_email_domain\"] = health[\"patient_email_address\"].map(get_domain, eps=0)\n",
    "\n",
    "health[\"health_age\"] = health[\"health_dob_lower\"].map(get_age, eps=0)"
   ]
  },
  {
   "cell_type": "markdown",
   "metadata": {},
   "source": [
    "### Record Linking"
   ]
  },
  {
   "cell_type": "code",
   "execution_count": 15,
   "metadata": {},
   "outputs": [],
   "source": [
    "%%ag\n",
    "\n",
    "import op_recordlinkage as rl"
   ]
  },
  {
   "cell_type": "code",
   "execution_count": 16,
   "metadata": {},
   "outputs": [],
   "source": [
    "%%ag\n",
    "from op_recordlinkage.preprocessing import clean , phonetic\n",
    "\n",
    "# Some preprocessing for record linking\n",
    "# For names, the description does not say anything about misspelling in names still\n",
    "# we use fuzzy matching for firstnames as well as lastnames.\n",
    "\n",
    "# flight[\"passenger_firstname2\"] = clean(flight[\"passenger_firstname\"], lowercase=True, remove_brackets=True)\n",
    "flight[\"flight_fname\"] = clean(flight[\"flight_fname\"], lowercase=True, remove_brackets=True, replace_by_none=\"^(mrs|dr|mr|ms)\")\n",
    "flight[\"flight_mname\"] = clean(flight[\"flight_mname\"], lowercase=True, remove_brackets=True)\n",
    "flight[\"flight_lname\"] = clean(flight[\"flight_lname\"], lowercase=True, remove_brackets=True)\n",
    "flight[\"flight_email_domain\"] = clean(flight[\"flight_email_domain\"], lowercase=True, remove_brackets=True)\n",
    "\n",
    "# health[\"patient_firstname2\"] = clean(health[\"patient_firstname\"], lowercase=True, remove_brackets=True)\n",
    "health[\"health_fname\"] = clean(health[\"health_fname\"], lowercase=True, remove_brackets=True, replace_by_none=\"^(mrs|dr|mr|ms)\")\n",
    "health[\"health_mname\"] = clean(health[\"health_mname\"], lowercase=True, remove_brackets=True)\n",
    "health[\"health_lname\"] = clean(health[\"health_lname\"], lowercase=True, remove_brackets=True)\n",
    "health[\"health_email_domain\"] = clean(health[\"health_email_domain\"], lowercase=True, remove_brackets=True)"
   ]
  },
  {
   "cell_type": "markdown",
   "metadata": {},
   "source": [
    "### Indexing\n",
    "\n",
    "- The cleanest column available for indexing is date of birth in both datasets.\n",
    "- Although date of birth itself won't always be consistent, due to time constraint and server loads, the indexing in this notebook was done on `date of birth`.\n",
    "- A way to improve score would be to index on more columns such as `lastname`, `phone_number`, etc. to get more pairs for comparison. But attempts at adding more columns to the index failed due to timeout / server loads."
   ]
  },
  {
   "cell_type": "code",
   "execution_count": 17,
   "metadata": {},
   "outputs": [],
   "source": [
    "%%ag\n",
    "\n",
    "indexer = rl.Index()\n",
    "# indexer.block(left_on=[\"flight_lname\"], right_on=[\"health_lname\"])\n",
    "indexer.block(left_on=[\"flight_dob_lower\"], right_on=[\"health_dob_lower\"])\n",
    "\n",
    "pairs = indexer.index(flight, health)"
   ]
  },
  {
   "cell_type": "markdown",
   "metadata": {},
   "source": [
    "### Comparing"
   ]
  },
  {
   "cell_type": "code",
   "execution_count": 18,
   "metadata": {},
   "outputs": [],
   "source": [
    "%%ag\n",
    "\n",
    "compare_cl = rl.Compare()\n",
    "\n",
    "# compare_cl.string(\"passenger_firstname2\", \"patient_firstname2\", method=\"jarowinkler\", threshold=0.85, label=\"fname\") # don't use exact in case spelling mistakes or middle name was not capitalized\n",
    "compare_cl.string(\"flight_fname\", \"health_fname\", method=\"jarowinkler\", threshold=0.85, label=\"fname\") # don't use exact in case spelling mistakes or middle name was not capitalized\n",
    "compare_cl.string(\"flight_mname\", \"health_mname\", method=\"jaro\", threshold=0.85, label=\"mname\")\n",
    "compare_cl.string(\"flight_lname\", \"health_lname\", method=\"jarowinkler\", threshold=0.85, label=\"lname\")\n",
    "\n",
    "# compare_cl.exact(\"flight_dob_lower\", \"health_dob_lower\", label=\"dob_lower\", agree_value=0.5) # Already handled by block\n",
    "compare_cl.exact(\"flight_dob_upper\", \"health_dob_upper\", label=\"dob_upper\", agree_value=0.5)\n",
    "compare_cl.string(\"flight_phone_num\", \"health_phone_num\", method=\"jarowinkler\", threshold=0.85, label=\"phone_num\") # Fuzzy match to deal with missing country codes maybe?\n",
    "compare_cl.string(\"passenger_email_address\", \"patient_email_address\", method=\"damerau_levenshtein\", label=\"email\", threshold=0.85)\n",
    "# compare_cl.exact(\"flight_email_user\", \"health_email_user\", label=\"email_user\", agree_value=1.5)\n",
    "\n",
    "# Using a custom compare rule.\n",
    "import datetime\n",
    "def cmp(date_str1: str , date_str2: str) -> int:\n",
    "    # Convert date strings to datetime objects\n",
    "    date1 = datetime.datetime.strptime(date_str1, \"%Y-%m-%d\")\n",
    "    date2 = datetime.datetime.strptime(date_str2, \"%Y-%m-%d\")\n",
    "\n",
    "    # Calculate the absolute difference in days\n",
    "    days_apart = (date2 - date1).days\n",
    "    # Check if the dates are within two weeks (14 days) apart\n",
    "    if days_apart <= 14:\n",
    "        return 2\n",
    "    else:\n",
    "        return 0\n",
    "\n",
    "compare_cl.custom(cmp,\"flight_date\",\"covidtest_date\",label=\"date_cmp\")\n",
    "\n",
    "\n",
    "features = compare_cl.compute(pairs, flight, health)"
   ]
  },
  {
   "cell_type": "code",
   "execution_count": 19,
   "metadata": {},
   "outputs": [],
   "source": [
    "%%ag\n",
    "thresh = 5\n",
    "\n",
    "linked_df = compare_cl.get_match(thresh)"
   ]
  },
  {
   "cell_type": "code",
   "execution_count": 20,
   "metadata": {},
   "outputs": [
    {
     "name": "stdout",
     "output_type": "stream",
     "text": [
      "score: {'leaderboard': 0.9264646441803617, 'logs': {'LIN_EPS': -0.0, 'MCC': 0.9264646441803617}}\n",
      "\n"
     ]
    }
   ],
   "source": [
    "%%ag\n",
    "# Submitting the column containing the filtered set of airlines we should report regarding a covid passenger.\n",
    "res = linked_df[[\"l_flight_number\"]]\n",
    "result = submit_predictions(res)"
   ]
  },
  {
   "cell_type": "code",
   "execution_count": 21,
   "metadata": {},
   "outputs": [
    {
     "data": {
      "text/plain": [
       "{'status': 'ok'}"
      ]
     },
     "execution_count": 22,
     "metadata": {},
     "output_type": "execute_result"
    }
   ],
   "source": [
    "session.terminate_session()"
   ]
  }
 ],
 "metadata": {
  "kernelspec": {
   "display_name": "ag-env",
   "language": "python",
   "name": "python3"
  },
  "language_info": {
   "codemirror_mode": {
    "name": "ipython",
    "version": 3
   },
   "file_extension": ".py",
   "mimetype": "text/x-python",
   "name": "python",
   "nbconvert_exporter": "python",
   "pygments_lexer": "ipython3",
   "version": "3.11.6"
  }
 },
 "nbformat": 4,
 "nbformat_minor": 2
}
