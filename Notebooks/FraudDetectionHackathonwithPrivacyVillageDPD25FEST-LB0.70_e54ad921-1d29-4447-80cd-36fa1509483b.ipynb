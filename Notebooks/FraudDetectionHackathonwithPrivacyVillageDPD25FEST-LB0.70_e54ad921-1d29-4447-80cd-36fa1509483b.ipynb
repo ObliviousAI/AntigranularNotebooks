{
 "cells": [
  {
   "cell_type": "code",
   "execution_count": null,
   "metadata": {},
   "outputs": [
    {
     "data": {
      "text/html": [],
      "text/plain": [
       "<IPython.core.display.HTML object>"
      ]
     },
     "metadata": {},
     "output_type": "display_data"
    },
    {
     "name": "stdout",
     "output_type": "stream",
     "text": [
      "Dataset \"Transaction Fraud Hackathon Dataset\" loaded to the kernel as \u001b[92mtransaction_fraud_hackathon_dataset\u001b[0m\n",
      "Key Name                       Value Type     \n",
      "---------------------------------------------\n",
      "test_x                         DataFrame      \n",
      "train_x                        PrivateDataFrame\n",
      "train_y                        PrivateDataFrame\n",
      "\n",
      "Connected to Antigranular server session id: e54ad921-1d29-4447-80cd-36fa1509483b, the session will time out if idle for 25 minutes\n",
      "Cell magic '%%ag' registered successfully, use `%%ag` in a notebook cell to execute your python code on Antigranular private python server\n",
      "🚀 Everything's set up and ready to roll!\n"
     ]
    }
   ],
   "source": [
    "import antigranular as ag\n",
    "session = ag.login(<client_id>,<client_secret>, competition = \"Fraud Detection Hackathon with Privacy Village #DPD25FEST\")\n"
   ]
  },
  {
   "cell_type": "code",
   "execution_count": 2,
   "metadata": {},
   "outputs": [],
   "source": [
    "%%ag\n",
    "x_train = transaction_fraud_hackathon_dataset[\"train_x\"]\n",
    "y_train = transaction_fraud_hackathon_dataset[\"train_y\"]\n",
    "x_test = transaction_fraud_hackathon_dataset[\"test_x\"]"
   ]
  },
  {
   "cell_type": "code",
   "execution_count": 3,
   "metadata": {},
   "outputs": [],
   "source": [
    "%%ag\n",
    "from op_pandas import PrivateDataFrame\n",
    "x_test=PrivateDataFrame(x_test)"
   ]
  },
  {
   "cell_type": "code",
   "execution_count": 4,
   "metadata": {},
   "outputs": [],
   "source": [
    "%%ag\n",
    "x_train_f=x_train.copy()\n",
    "x_test_f=x_test.copy()\n",
    "x_train_f[f\"sum\"]=x_train[\"a0\"]+x_train[\"a1\"]+x_train[\"a2\"]+x_train[\"a3\"]+x_train[\"a4\"]+x_train[\"a5\"]+x_train[\"a6\"]+x_train[\"a7\"]+x_train[\"a8\"]\n",
    "x_test_f[f\"sum\"]=x_test[\"a0\"]+x_test[\"a1\"]+x_test[\"a2\"]+x_test[\"a3\"]+x_test[\"a4\"]+x_test[\"a5\"]+x_test[\"a6\"]+x_test[\"a7\"]+x_test[\"a8\"]"
   ]
  },
  {
   "cell_type": "code",
   "execution_count": null,
   "metadata": {},
   "outputs": [],
   "source": [
    "%%ag\n",
    "import tensorflow as tf\n",
    "from op_pandas import standard_scaler, PrivateDataFrame\n",
    "from tensorflow.keras.models import Sequential\n",
    "from tensorflow.keras.layers import Dense, Dropout\n",
    "from op_tensorflow import PrivateKerasModel, PrivateDataLoader\n",
    "from tensorflow.keras.models import Sequential\n",
    "from tensorflow.keras.layers import Dense, Conv1D, MaxPooling1D, Flatten, BatchNormalization\n",
    "\n",
    "model = Sequential([\n",
    "    # Input layer with 1024 neurons and GELU activation\n",
    "    # Expects input shape of 10 features\n",
    "    Dense(1024, activation='gelu', input_shape=(10,)),\n",
    "    \n",
    "    # Dropout layer to prevent overfitting (15% dropout rate)\n",
    "    Dropout(0.15),\n",
    "    \n",
    "    # Batch normalization to stabilize learning\n",
    "    BatchNormalization(),\n",
    "    \n",
    "    # Hidden layer with 512 neurons and GELU activation\n",
    "    Dense(512, activation='gelu'),\n",
    "    Dropout(0.1),\n",
    "    BatchNormalization(),\n",
    "    \n",
    "    # Hidden layer with 256 neurons and GELU activation\n",
    "    Dense(256, activation='gelu'),\n",
    "    Dropout(0.05),\n",
    "    BatchNormalization(),\n",
    "    \n",
    "    # Another hidden layer with 256 neurons and GELU activation\n",
    "    Dense(256, activation='gelu'),\n",
    "    Dropout(0.05),\n",
    "    BatchNormalization(),\n",
    "    \n",
    "    # Hidden layer with 128 neurons and GELU activation\n",
    "    Dense(128, activation='gelu'),\n",
    "    Dropout(0.05),\n",
    "    BatchNormalization(),\n",
    "    \n",
    "    # Output layer with sigmoid activation for binary classification\n",
    "    Dense(1, activation='sigmoid')\n",
    "])\n",
    "# Create a differentially private model\n",
    "dp_model = PrivateKerasModel(model=model, l2_norm_clip=1, noise_multiplier=0.5)\n",
    "\n",
    "# Compile the model \n",
    "optimizer = tf.keras.optimizers.Adam(learning_rate=0.001)\n",
    "\n",
    "dp_model.compile(\n",
    "    optimizer=optimizer,\n",
    "    loss='binary_crossentropy',\n",
    "    metrics=[\"accuracy\"]\n",
    ")\n"
   ]
  },
  {
   "cell_type": "code",
   "execution_count": 6,
   "metadata": {},
   "outputs": [],
   "source": [
    "%%ag\n",
    "data_loader = PrivateDataLoader(feature_df=x_train_f , label_df=y_train, batch_size=128)"
   ]
  },
  {
   "cell_type": "code",
   "execution_count": null,
   "metadata": {},
   "outputs": [],
   "source": [
    "%%ag\n",
    "dp_model.fit(x=data_loader, epochs=15)"
   ]
  },
  {
   "cell_type": "code",
   "execution_count": null,
   "metadata": {},
   "outputs": [],
   "source": [
    "%%ag\n",
    "def f(x: float) -> float:\n",
    "    return 1 if x > 0.5 else 0"
   ]
  },
  {
   "cell_type": "code",
   "execution_count": null,
   "metadata": {},
   "outputs": [],
   "source": [
    "%%ag\n",
    "y_pred = dp_model.predict(x_test_f, label_columns=[\"output\"])"
   ]
  },
  {
   "cell_type": "code",
   "execution_count": null,
   "metadata": {},
   "outputs": [],
   "source": [
    "%%ag\n",
    "y_pred[\"output\"] = y_pred[\"output\"].map(f, output_bounds=(0, 1))\n",
    "result = submit_predictions(y_pred)"
   ]
  }
 ],
 "metadata": {
  "kernelspec": {
   "display_name": ".venv",
   "language": "python",
   "name": "python3"
  },
  "language_info": {
   "codemirror_mode": {
    "name": "ipython",
    "version": 3
   },
   "file_extension": ".py",
   "mimetype": "text/x-python",
   "name": "python",
   "nbconvert_exporter": "python",
   "pygments_lexer": "ipython3",
   "version": "3.11.6"
  }
 },
 "nbformat": 4,
 "nbformat_minor": 2
}
