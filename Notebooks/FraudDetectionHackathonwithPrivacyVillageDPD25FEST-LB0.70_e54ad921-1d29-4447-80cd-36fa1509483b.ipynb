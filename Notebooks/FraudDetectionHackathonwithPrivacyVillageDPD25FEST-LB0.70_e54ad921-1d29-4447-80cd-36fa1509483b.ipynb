{
 "cells": [
  {
   "cell_type": "code",
   "execution_count": null,
   "metadata": {},
   "outputs": [
    {
     "data": {
      "text/html": [],
      "text/plain": [
       "<IPython.core.display.HTML object>"
      ]
     },
     "metadata": {},
     "output_type": "display_data"
    },
    {
     "name": "stdout",
     "output_type": "stream",
     "text": [
      "Dataset \"Transaction Fraud Hackathon Dataset\" loaded to the kernel as \u001b[92mtransaction_fraud_hackathon_dataset\u001b[0m\n",
      "Key Name                       Value Type     \n",
      "---------------------------------------------\n",
      "test_x                         DataFrame      \n",
      "train_x                        PrivateDataFrame\n",
      "train_y                        PrivateDataFrame\n",
      "\n",
      "Connected to Antigranular server session id: e54ad921-1d29-4447-80cd-36fa1509483b, the session will time out if idle for 25 minutes\n",
      "Cell magic '%%ag' registered successfully, use `%%ag` in a notebook cell to execute your python code on Antigranular private python server\n",
      "🚀 Everything's set up and ready to roll!\n"
     ]
    }
   ],
   "source": [
    "import antigranular as ag\n",
    "session = ag.login(<client_id>,<client_secret>, competition = \"Fraud Detection Hackathon with Privacy Village #DPD25FEST\")\n"
   ]
  },
  {
   "cell_type": "code",
   "execution_count": 2,
   "metadata": {},
   "outputs": [],
   "source": [
    "%%ag\n",
    "x_train = transaction_fraud_hackathon_dataset[\"train_x\"]\n",
    "y_train = transaction_fraud_hackathon_dataset[\"train_y\"]\n",
    "x_test = transaction_fraud_hackathon_dataset[\"test_x\"]"
   ]
  },
  {
   "cell_type": "code",
   "execution_count": 3,
   "metadata": {},
   "outputs": [],
   "source": [
    "%%ag\n",
    "from op_pandas import PrivateDataFrame\n",
    "x_test=PrivateDataFrame(x_test)"
   ]
  },
  {
   "cell_type": "code",
   "execution_count": 4,
   "metadata": {},
   "outputs": [],
   "source": [
    "%%ag\n",
    "x_train_f=x_train.copy()\n",
    "x_test_f=x_test.copy()\n",
    "x_train_f[f\"sum\"]=x_train[\"a0\"]+x_train[\"a1\"]+x_train[\"a2\"]+x_train[\"a3\"]+x_train[\"a4\"]+x_train[\"a5\"]+x_train[\"a6\"]+x_train[\"a7\"]+x_train[\"a8\"]\n",
    "x_test_f[f\"sum\"]=x_test[\"a0\"]+x_test[\"a1\"]+x_test[\"a2\"]+x_test[\"a3\"]+x_test[\"a4\"]+x_test[\"a5\"]+x_test[\"a6\"]+x_test[\"a7\"]+x_test[\"a8\"]"
   ]
  },
  {
   "cell_type": "code",
   "execution_count": null,
   "metadata": {},
   "outputs": [],
   "source": [
    "%%ag\n",
    "import tensorflow as tf\n",
    "from op_pandas import standard_scaler, PrivateDataFrame\n",
    "from tensorflow.keras.models import Sequential\n",
    "from tensorflow.keras.layers import Dense, Dropout\n",
    "from op_tensorflow import PrivateKerasModel, PrivateDataLoader\n",
    "from tensorflow.keras.models import Sequential\n",
    "from tensorflow.keras.layers import Dense, Conv1D, MaxPooling1D, Flatten, BatchNormalization\n",
    "\n",
    "model = Sequential([\n",
    "    # Input layer with 1024 neurons and GELU activation\n",
    "    # Expects input shape of 10 features\n",
    "    Dense(1024, activation='gelu', input_shape=(10,)),\n",
    "    \n",
    "    # Dropout layer to prevent overfitting (10% dropout rate)\n",
    "    Dropout(0.1),\n",
    "    \n",
    "    # Batch normalization to stabilize learning\n",
    "    BatchNormalization(),\n",
    "    \n",
    "    # Hidden layer with 512 neurons and GELU activation\n",
    "    Dense(512, activation='gelu'),\n",
    "    Dropout(0.1),\n",
    "    BatchNormalization(),\n",
    "    \n",
    "    # Hidden layer with 256 neurons and GELU activation\n",
    "    Dense(256, activation='gelu'),\n",
    "    Dropout(0.1),\n",
    "    BatchNormalization(),\n",
    "    \n",
    "    # Another hidden layer with 256 neurons and GELU activation\n",
    "    Dense(256, activation='gelu'),\n",
    "    Dropout(0.1),\n",
    "    BatchNormalization(),\n",
    "    \n",
    "    # Hidden layer with 128 neurons and GELU activation\n",
    "    Dense(128, activation='gelu'),\n",
    "    Dropout(0.1),\n",
    "    BatchNormalization(),\n",
    "    \n",
    "    # Output layer with sigmoid activation for binary classification\n",
    "    Dense(1, activation='sigmoid')\n",
    "])\n",
    "# Create a differentially private model\n",
    "dp_model = PrivateKerasModel(model=model, l2_norm_clip=1, noise_multiplier=1)\n",
    "\n",
    "# Compile the model\n",
    "optimizer = tf.keras.optimizers.Adam(learning_rate=0.001)\n",
    "\n",
    "dp_model.compile(\n",
    "    optimizer=optimizer,\n",
    "    loss='binary_crossentropy',\n",
    "    metrics=[\"accuracy\"]\n",
    ")\n"
   ]
  },
  {
   "cell_type": "code",
   "execution_count": 6,
   "metadata": {},
   "outputs": [],
   "source": [
    "%%ag\n",
    "data_loader = PrivateDataLoader(feature_df=x_train_f , label_df=y_train, batch_size=128)"
   ]
  },
  {
   "cell_type": "code",
   "execution_count": null,
   "metadata": {},
   "outputs": [],
   "source": [
    "%%ag\n",
    "dp_model.fit(x=data_loader, epochs=15)"
   ]
  },
  {
   "cell_type": "code",
   "execution_count": 32,
   "metadata": {},
   "outputs": [
    {
     "name": "stdout",
     "output_type": "stream",
     "text": [
      "  1/469 [..............................] - ETA: 44s\n",
      "  3/469 [..............................] - ETA: 19s\n",
      " 10/469 [..............................] - ETA: 9s \n",
      " 17/469 [>.............................] - ETA: 8s\n",
      " 24/469 [>.............................] - ETA: 7s\n",
      " 32/469 [=>............................] - ETA: 6s\n",
      " 38/469 [=>............................] - ETA: 6s\n",
      " 45/469 [=>............................] - ETA: 6s\n",
      " 51/469 [==>...........................] - ETA: 6s\n",
      " 58/469 [==>...........................] - ETA: 6s\n",
      " 65/469 [===>..........................] - ETA: 6s\n",
      " 71/469 [===>..........................] - ETA: 6s\n",
      " 78/469 [===>..........................] - ETA: 6s\n",
      " 85/469 [====>.........................] - ETA: 5s\n",
      " 90/469 [====>.........................] - ETA: 5s\n",
      " 97/469 [=====>........................] - ETA: 5s\n",
      "103/469 [=====>........................] - ETA: 5s\n",
      "108/469 [=====>........................] - ETA: 5s\n",
      "115/469 [======>.......................] - ETA: 5s\n",
      "121/469 [======>.......................] - ETA: 5s\n",
      "127/469 [=======>......................] - ETA: 5s\n",
      "130/469 [=======>......................] - ETA: 5s\n",
      "134/469 [=======>......................] - ETA: 5s\n",
      "139/469 [=======>......................] - ETA: 5s\n",
      "146/469 [========>.....................] - ETA: 5s\n",
      "151/469 [========>.....................] - ETA: 5s\n",
      "157/469 [=========>....................] - ETA: 5s\n",
      "164/469 [=========>....................] - ETA: 5s\n",
      "169/469 [=========>....................] - ETA: 4s\n",
      "175/469 [==========>...................] - ETA: 4s\n",
      "183/469 [==========>...................] - ETA: 4s\n",
      "189/469 [===========>..................] - ETA: 4s\n",
      "196/469 [===========>..................] - ETA: 4s\n",
      "201/469 [===========>..................] - ETA: 4s\n",
      "209/469 [============>.................] - ETA: 4s\n",
      "215/469 [============>.................] - ETA: 4s\n",
      "222/469 [=============>................] - ETA: 4s\n",
      "229/469 [=============>................] - ETA: 3s\n",
      "236/469 [==============>...............] - ETA: 3s\n",
      "242/469 [==============>...............] - ETA: 3s\n",
      "249/469 [==============>...............] - ETA: 3s\n",
      "256/469 [===============>..............] - ETA: 3s\n",
      "261/469 [===============>..............] - ETA: 3s\n",
      "269/469 [================>.............] - ETA: 3s\n",
      "276/469 [================>.............] - ETA: 3s\n",
      "283/469 [=================>............] - ETA: 2s\n",
      "290/469 [=================>............] - ETA: 2s\n",
      "296/469 [=================>............] - ETA: 2s\n",
      "303/469 [==================>...........] - ETA: 2s\n",
      "310/469 [==================>...........] - ETA: 2s\n",
      "316/469 [===================>..........] - ETA: 2s\n",
      "322/469 [===================>..........] - ETA: 2s\n",
      "328/469 [===================>..........] - ETA: 2s\n",
      "334/469 [====================>.........] - ETA: 2s\n",
      "341/469 [====================>.........] - ETA: 2s\n",
      "347/469 [=====================>........] - ETA: 1s\n",
      "350/469 [=====================>........] - ETA: 1s\n",
      "356/469 [=====================>........] - ETA: 1s\n",
      "363/469 [======================>.......] - ETA: 1s\n",
      "369/469 [======================>.......] - ETA: 1s\n",
      "377/469 [=======================>......] - ETA: 1s\n",
      "384/469 [=======================>......] - ETA: 1s\n",
      "391/469 [========================>.....] - ETA: 1s\n",
      "398/469 [========================>.....] - ETA: 1s\n",
      "406/469 [========================>.....] - ETA: 0s\n",
      "413/469 [=========================>....] - ETA: 0s\n",
      "420/469 [=========================>....] - ETA: 0s\n",
      "426/469 [==========================>...] - ETA: 0s\n",
      "433/469 [==========================>...] - ETA: 0s\n",
      "440/469 [===========================>..] - ETA: 0s\n",
      "449/469 [===========================>..] - ETA: 0s\n",
      "456/469 [============================>.] - ETA: 0s\n",
      "462/469 [============================>.] - ETA: 0s\n",
      "469/469 [==============================] - ETA: 0s\n",
      "469/469 [==============================] - 7s 16ms/step\n",
      "\n",
      "score: {'leaderboard': 0.7075948724470585, 'logs': {'BIN_ACC': 0.7075948724470585, 'LIN_EPS': -0.0}}\n",
      "\n"
     ]
    }
   ],
   "source": [
    "%%ag\n",
    "def f(x: float) -> float:\n",
    "    return 1 if x > 0.5 else 0\n",
    "y_pred = dp_model.predict(x_test_f, label_columns=[\"output\"])\n",
    "y_pred[\"output\"] = y_pred[\"output\"].map(f, output_bounds=(0, 1))\n",
    "result = submit_predictions(y_pred)"
   ]
  }
 ],
 "metadata": {
  "kernelspec": {
   "display_name": ".venv",
   "language": "python",
   "name": "python3"
  },
  "language_info": {
   "codemirror_mode": {
    "name": "ipython",
    "version": 3
   },
   "file_extension": ".py",
   "mimetype": "text/x-python",
   "name": "python",
   "nbconvert_exporter": "python",
   "pygments_lexer": "ipython3",
   "version": "3.11.6"
  }
 },
 "nbformat": 4,
 "nbformat_minor": 2
}
