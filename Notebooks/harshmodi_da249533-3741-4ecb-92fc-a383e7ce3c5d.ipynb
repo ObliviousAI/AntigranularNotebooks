{
  "nbformat": 4,
  "nbformat_minor": 0,
  "metadata": {
    "colab": {
      "provenance": []
    },
    "kernelspec": {
      "name": "python3",
      "display_name": "Python 3"
    },
    "language_info": {
      "name": "python"
    }
  },
  "cells": [
    {
      "cell_type": "code",
      "execution_count": null,
      "metadata": {
        "id": "5uFCyt-Puq4K"
      },
      "outputs": [],
      "source": [
        "# Install the Antigranular package\n",
        "!pip install antigranular &> /dev/null"
      ]
    },
    {
      "cell_type": "code",
      "source": [
        "import antigranular as ag\n",
        "session = ag.login(<client_id>,<client_secret>, competition = \"Heart Disease Prediction Hackathon\")"
      ],
      "metadata": {
        "colab": {
          "base_uri": "https://localhost:8080/",
          "height": 216
        },
        "id": "w_JcMMSMv_Ze",
        "outputId": "5a65f333-294d-4502-c004-635cb44af39d"
      },
      "execution_count": null,
      "outputs": [
        {
          "output_type": "display_data",
          "data": {
            "text/plain": [
              "<IPython.core.display.HTML object>"
            ],
            "text/html": []
          },
          "metadata": {}
        },
        {
          "output_type": "stream",
          "name": "stdout",
          "text": [
            "Dataset \"Heart Disease Prediction Hackathon Dataset\" loaded to the kernel as \u001b[92mheart_disease_prediction_hackathon_dataset\u001b[0m\n",
            "Key Name                       Value Type     \n",
            "---------------------------------------------\n",
            "train_y                        PrivateDataFrame\n",
            "train_x                        PrivateDataFrame\n",
            "test_x                         DataFrame      \n",
            "\n",
            "Connected to Antigranular server session id: da249533-3741-4ecb-92fc-a383e7ce3c5d, the session will time out if idle for 25 minutes\n",
            "Cell magic '%%ag' registered successfully, use `%%ag` in a notebook cell to execute your python code on Antigranular private python server\n",
            "🚀 Everything's set up and ready to roll!\n"
          ]
        }
      ]
    },
    {
      "cell_type": "code",
      "source": [
        "%%ag\n",
        "x_train = heart_disease_prediction_hackathon_dataset[\"train_x\"]\n",
        "y_train = heart_disease_prediction_hackathon_dataset[\"train_y\"]\n",
        "x_test = heart_disease_prediction_hackathon_dataset[\"test_x\"]"
      ],
      "metadata": {
        "id": "8IHVwjFKk2Ys"
      },
      "execution_count": null,
      "outputs": []
    },
    {
      "cell_type": "code",
      "source": [
        "%%ag\n",
        "import tensorflow as tf\n",
        "from op_pandas import standard_scaler, PrivateDataFrame\n",
        "from tensorflow.keras.models import Sequential\n",
        "from tensorflow.keras.layers import Dense, Dropout\n",
        "from op_tensorflow import PrivateKerasModel, PrivateDataLoader\n",
        "\n",
        "\n",
        "# Normal keras model\n",
        "seqM = Sequential([\n",
        "    Dense(12, activation='relu', input_shape=(6,)),\n",
        "\n",
        "    Dense(24, activation='relu'),\n",
        "\n",
        "    Dense(48, activation='relu'),\n",
        "\n",
        "    Dense(64, activation='relu'),\n",
        "\n",
        "    Dense(32, activation='relu'),\n",
        "\n",
        "    Dense(16, activation='relu'),\n",
        "\n",
        "    Dense(8, activation='relu'),\n",
        "\n",
        "\n",
        "    Dense(1, activation='sigmoid')  # Binary classification\n",
        "])\n",
        "\n",
        "# Create DP keras model\n",
        "dp_model = PrivateKerasModel(model=seqM, l2_norm_clip=1, noise_multiplier=1)\n",
        "\n",
        "# Use a standard (non-DP) optimizer directly from keras.\n",
        "optimizer = tf.keras.optimizers.Adam(learning_rate=0.00001)\n",
        "\n",
        "# PrivateKerasModel uses similar API as standard Keras\n",
        "dp_model.compile(\n",
        "\toptimizer = optimizer,\n",
        "\tloss = 'binary_crossentropy',\n",
        "\tmetrics = [\"accuracy\"]\n",
        ")"
      ],
      "metadata": {
        "id": "QVMog5sFunqk"
      },
      "execution_count": null,
      "outputs": []
    },
    {
      "cell_type": "code",
      "source": [
        "%%ag\n",
        "x_train_scaled = standard_scaler(x_train, eps=.1)\n"
      ],
      "metadata": {
        "id": "CtZnkEIGu4Oy"
      },
      "execution_count": null,
      "outputs": []
    },
    {
      "cell_type": "code",
      "source": [
        "%%ag\n",
        "data_loader = PrivateDataLoader(feature_df=x_train_scaled , label_df=y_train, batch_size=4)"
      ],
      "metadata": {
        "id": "-IRE6nbYvcw7"
      },
      "execution_count": null,
      "outputs": []
    },
    {
      "cell_type": "code",
      "source": [
        "%%ag\n",
        "dp_model.fit(x=data_loader, epochs=30, target_delta=1e-5)"
      ],
      "metadata": {
        "colab": {
          "base_uri": "https://localhost:8080/"
        },
        "id": "BkYeXE1nv0EL",
        "outputId": "adcde68b-a1aa-4b7b-f324-844515434fa7"
      },
      "execution_count": null,
      "outputs": [
        {
          "output_type": "stream",
          "name": "stdout",
          "text": [
            "Epoch 1/30\n",
            "\n",
            "2000/2000 - 41s - loss: 0.6912 - accuracy: 0.4635 - 41s/epoch - 20ms/step\n",
            "\n",
            "Epoch 2/30\n",
            "\n",
            "2000/2000 - 37s - loss: 0.6820 - accuracy: 0.5472 - 37s/epoch - 18ms/step\n",
            "\n",
            "Epoch 3/30\n",
            "\n",
            "2000/2000 - 37s - loss: 0.6748 - accuracy: 0.6129 - 37s/epoch - 18ms/step\n",
            "\n",
            "Epoch 4/30\n",
            "\n",
            "2000/2000 - 37s - loss: 0.6671 - accuracy: 0.6477 - 37s/epoch - 18ms/step\n",
            "\n",
            "Epoch 5/30\n",
            "\n",
            "2000/2000 - 36s - loss: 0.6575 - accuracy: 0.6671 - 36s/epoch - 18ms/step\n",
            "\n",
            "Epoch 6/30\n",
            "\n",
            "2000/2000 - 37s - loss: 0.6508 - accuracy: 0.6814 - 37s/epoch - 18ms/step\n",
            "\n",
            "Epoch 7/30\n",
            "\n",
            "2000/2000 - 37s - loss: 0.6398 - accuracy: 0.6987 - 37s/epoch - 18ms/step\n",
            "\n",
            "Epoch 8/30\n",
            "\n",
            "2000/2000 - 36s - loss: 0.6286 - accuracy: 0.7008 - 36s/epoch - 18ms/step\n",
            "\n",
            "Epoch 9/30\n",
            "\n",
            "2000/2000 - 37s - loss: 0.6210 - accuracy: 0.6980 - 37s/epoch - 18ms/step\n",
            "\n",
            "Epoch 10/30\n",
            "\n",
            "2000/2000 - 36s - loss: 0.6092 - accuracy: 0.7064 - 36s/epoch - 18ms/step\n",
            "\n",
            "Epoch 11/30\n",
            "\n",
            "2000/2000 - 36s - loss: 0.5939 - accuracy: 0.7168 - 36s/epoch - 18ms/step\n",
            "\n",
            "Epoch 12/30\n",
            "\n",
            "2000/2000 - 37s - loss: 0.5832 - accuracy: 0.7185 - 37s/epoch - 18ms/step\n",
            "\n",
            "Epoch 13/30\n",
            "\n",
            "2000/2000 - 36s - loss: 0.5716 - accuracy: 0.7261 - 36s/epoch - 18ms/step\n",
            "\n",
            "Epoch 14/30\n",
            "\n",
            "2000/2000 - 36s - loss: 0.5642 - accuracy: 0.7275 - 36s/epoch - 18ms/step\n",
            "\n",
            "Epoch 15/30\n",
            "\n",
            "2000/2000 - 36s - loss: 0.5470 - accuracy: 0.7412 - 36s/epoch - 18ms/step\n",
            "\n",
            "Epoch 16/30\n",
            "\n",
            "2000/2000 - 37s - loss: 0.5452 - accuracy: 0.7386 - 37s/epoch - 18ms/step\n",
            "\n",
            "Epoch 17/30\n",
            "\n",
            "2000/2000 - 37s - loss: 0.5354 - accuracy: 0.7468 - 37s/epoch - 19ms/step\n",
            "\n",
            "Epoch 18/30\n",
            "\n",
            "message: Error ID is - 8434abaa-33d4-4a5e-8306-81cab6755152 - Error from upstream service: Client error '400 Bad Request' for url 'http://supervisor-prod-private.antigranular.com/privacyRequest'\n",
            "For more information check: https://httpstatuses.com/400. Response text: {\"detail\":\"Maximum delta or epsilon exceeded. Your current balance left is eps : 0.3282405632433978 and delta : 0.9999\"}\n",
            "\n",
            "\u001b[0;31mValueError\u001b[0m: Request Limit Exceeded!\n"
          ]
        }
      ]
    },
    {
      "cell_type": "code",
      "source": [
        "%%ag\n",
        "dp_model.fit(x=data_loader, epochs=30, target_delta=1e-5)"
      ],
      "metadata": {
        "id": "igWwBbNZNYBV",
        "outputId": "729928ec-9661-4ddd-88e8-9c88e06759a0",
        "colab": {
          "base_uri": "https://localhost:8080/"
        }
      },
      "execution_count": null,
      "outputs": [
        {
          "output_type": "stream",
          "name": "stdout",
          "text": [
            "Epoch 1/30\n",
            "\n",
            "2000/2000 - 36s - loss: 0.5244 - accuracy: 0.7540 - 36s/epoch - 18ms/step\n",
            "\n",
            "Epoch 2/30\n",
            "\n",
            "2000/2000 - 37s - loss: 0.5261 - accuracy: 0.7495 - 37s/epoch - 18ms/step\n",
            "\n",
            "Epoch 3/30\n",
            "\n",
            "2000/2000 - 36s - loss: 0.5099 - accuracy: 0.7650 - 36s/epoch - 18ms/step\n",
            "\n",
            "Epoch 4/30\n",
            "\n",
            "2000/2000 - 36s - loss: 0.5038 - accuracy: 0.7653 - 36s/epoch - 18ms/step\n",
            "\n",
            "Epoch 5/30\n",
            "\n",
            "2000/2000 - 36s - loss: 0.4969 - accuracy: 0.7750 - 36s/epoch - 18ms/step\n",
            "\n",
            "Epoch 6/30\n",
            "\n",
            "2000/2000 - 36s - loss: 0.4968 - accuracy: 0.7666 - 36s/epoch - 18ms/step\n",
            "\n",
            "Epoch 7/30\n",
            "\n",
            "2000/2000 - 36s - loss: 0.4910 - accuracy: 0.7768 - 36s/epoch - 18ms/step\n",
            "\n",
            "Epoch 8/30\n",
            "\n",
            "2000/2000 - 36s - loss: 0.4881 - accuracy: 0.7743 - 36s/epoch - 18ms/step\n",
            "\n",
            "Epoch 9/30\n",
            "\n",
            "2000/2000 - 36s - loss: 0.4848 - accuracy: 0.7760 - 36s/epoch - 18ms/step\n",
            "\n",
            "Epoch 10/30\n",
            "\n",
            "2000/2000 - 37s - loss: 0.4763 - accuracy: 0.7761 - 37s/epoch - 18ms/step\n",
            "\n",
            "Epoch 11/30\n",
            "\n",
            "2000/2000 - 36s - loss: 0.4747 - accuracy: 0.7774 - 36s/epoch - 18ms/step\n",
            "\n",
            "Epoch 12/30\n",
            "\n",
            "2000/2000 - 37s - loss: 0.4735 - accuracy: 0.7801 - 37s/epoch - 18ms/step\n",
            "\n",
            "Epoch 13/30\n",
            "\n",
            "2000/2000 - 36s - loss: 0.4674 - accuracy: 0.7867 - 36s/epoch - 18ms/step\n",
            "\n",
            "Epoch 14/30\n",
            "\n",
            "2000/2000 - 37s - loss: 0.4734 - accuracy: 0.7725 - 37s/epoch - 18ms/step\n",
            "\n",
            "Epoch 15/30\n",
            "\n",
            "2000/2000 - 36s - loss: 0.4676 - accuracy: 0.7783 - 36s/epoch - 18ms/step\n",
            "\n",
            "Epoch 16/30\n",
            "\n",
            "2000/2000 - 37s - loss: 0.4537 - accuracy: 0.7914 - 37s/epoch - 18ms/step\n",
            "\n",
            "Epoch 17/30\n",
            "\n",
            "2000/2000 - 36s - loss: 0.4577 - accuracy: 0.7843 - 36s/epoch - 18ms/step\n",
            "\n",
            "Epoch 18/30\n",
            "\n",
            "message: Error ID is - 3d5e5f2e-ccaf-4dd9-b492-cb7d60a393bf - Error from upstream service: Client error '400 Bad Request' for url 'http://supervisor-prod-private.antigranular.com/privacyRequest'\n",
            "For more information check: https://httpstatuses.com/400. Response text: {\"detail\":\"Maximum delta or epsilon exceeded. Your current balance left is eps : 0.3282405632433978 and delta : 0.9999\"}\n",
            "\n",
            "\u001b[0;31mValueError\u001b[0m: Request Limit Exceeded!\n"
          ]
        }
      ]
    },
    {
      "cell_type": "code",
      "source": [
        "%%ag\n",
        "dp_model.fit(x=data_loader, epochs=30, target_delta=1e-5)"
      ],
      "metadata": {
        "id": "Ds7pWOBxQEbB",
        "outputId": "b81870e2-f404-4332-dda2-d35648861118",
        "colab": {
          "base_uri": "https://localhost:8080/"
        }
      },
      "execution_count": null,
      "outputs": [
        {
          "output_type": "stream",
          "name": "stdout",
          "text": [
            "Epoch 1/30\n",
            "\n",
            "2000/2000 - 36s - loss: 0.4526 - accuracy: 0.7883 - 36s/epoch - 18ms/step\n",
            "\n",
            "Epoch 2/30\n",
            "\n",
            "2000/2000 - 36s - loss: 0.4471 - accuracy: 0.7881 - 36s/epoch - 18ms/step\n",
            "\n",
            "Epoch 3/30\n",
            "\n",
            "2000/2000 - 37s - loss: 0.4414 - accuracy: 0.7915 - 37s/epoch - 18ms/step\n",
            "\n",
            "Epoch 4/30\n",
            "\n",
            "2000/2000 - 36s - loss: 0.4311 - accuracy: 0.8037 - 36s/epoch - 18ms/step\n",
            "\n",
            "Epoch 5/30\n",
            "\n",
            "2000/2000 - 36s - loss: 0.4350 - accuracy: 0.7974 - 36s/epoch - 18ms/step\n",
            "\n",
            "Epoch 6/30\n",
            "\n",
            "2000/2000 - 36s - loss: 0.4239 - accuracy: 0.8043 - 36s/epoch - 18ms/step\n",
            "\n",
            "Epoch 7/30\n",
            "\n",
            "2000/2000 - 37s - loss: 0.4228 - accuracy: 0.8042 - 37s/epoch - 18ms/step\n",
            "\n",
            "Epoch 8/30\n",
            "\n",
            "2000/2000 - 37s - loss: 0.4268 - accuracy: 0.8009 - 37s/epoch - 18ms/step\n",
            "\n",
            "Epoch 9/30\n",
            "\n",
            "2000/2000 - 37s - loss: 0.4114 - accuracy: 0.8104 - 37s/epoch - 18ms/step\n",
            "\n",
            "Epoch 10/30\n",
            "\n",
            "2000/2000 - 36s - loss: 0.4122 - accuracy: 0.8124 - 36s/epoch - 18ms/step\n",
            "\n",
            "Epoch 11/30\n",
            "\n",
            "2000/2000 - 36s - loss: 0.4073 - accuracy: 0.8187 - 36s/epoch - 18ms/step\n",
            "\n",
            "Epoch 12/30\n",
            "\n",
            "2000/2000 - 37s - loss: 0.4106 - accuracy: 0.8153 - 37s/epoch - 18ms/step\n",
            "\n",
            "Epoch 13/30\n",
            "\n",
            "2000/2000 - 37s - loss: 0.4060 - accuracy: 0.8193 - 37s/epoch - 18ms/step\n",
            "\n",
            "Epoch 14/30\n",
            "\n",
            "2000/2000 - 36s - loss: 0.4101 - accuracy: 0.8143 - 36s/epoch - 18ms/step\n",
            "\n",
            "Epoch 15/30\n",
            "\n",
            "2000/2000 - 37s - loss: 0.4032 - accuracy: 0.8171 - 37s/epoch - 18ms/step\n",
            "\n",
            "Epoch 16/30\n",
            "\n",
            "2000/2000 - 37s - loss: 0.3994 - accuracy: 0.8208 - 37s/epoch - 18ms/step\n",
            "\n",
            "Epoch 17/30\n",
            "\n",
            "message: Error ID is - a773cbf3-ec28-4730-9920-179394fa1d97 - Error from upstream service: Client error '400 Bad Request' for url 'http://supervisor-prod-private.antigranular.com/privacyRequest'\n",
            "For more information check: https://httpstatuses.com/400. Response text: {\"detail\":\"Maximum delta or epsilon exceeded. Your current balance left is eps : 0.3282405632433978 and delta : 0.9999\"}\n",
            "\n",
            "\u001b[0;31mValueError\u001b[0m: Request Limit Exceeded!\n"
          ]
        }
      ]
    },
    {
      "cell_type": "code",
      "source": [
        "%%ag\n",
        "dp_model.fit(x=data_loader, epochs=30, target_delta=1e-5)"
      ],
      "metadata": {
        "id": "VFr3TA61Sk2o",
        "outputId": "34237485-6412-48ab-8278-17a9386e4a69",
        "colab": {
          "base_uri": "https://localhost:8080/"
        }
      },
      "execution_count": null,
      "outputs": [
        {
          "output_type": "stream",
          "name": "stdout",
          "text": [
            "Epoch 1/30\n",
            "\n",
            "2000/2000 - 37s - loss: 0.3995 - accuracy: 0.8190 - 37s/epoch - 18ms/step\n",
            "\n",
            "Epoch 2/30\n",
            "\n",
            "2000/2000 - 36s - loss: 0.3886 - accuracy: 0.8315 - 36s/epoch - 18ms/step\n",
            "\n",
            "Epoch 3/30\n",
            "\n",
            "2000/2000 - 36s - loss: 0.4007 - accuracy: 0.8187 - 36s/epoch - 18ms/step\n",
            "\n",
            "Epoch 4/30\n",
            "\n",
            "2000/2000 - 37s - loss: 0.3929 - accuracy: 0.8259 - 37s/epoch - 18ms/step\n",
            "\n",
            "Epoch 5/30\n",
            "\n",
            "2000/2000 - 37s - loss: 0.3824 - accuracy: 0.8321 - 37s/epoch - 18ms/step\n",
            "\n",
            "Epoch 6/30\n",
            "\n",
            "2000/2000 - 37s - loss: 0.3689 - accuracy: 0.8390 - 37s/epoch - 18ms/step\n",
            "\n",
            "Epoch 7/30\n",
            "\n",
            "2000/2000 - 36s - loss: 0.3767 - accuracy: 0.8321 - 36s/epoch - 18ms/step\n",
            "\n",
            "Epoch 8/30\n",
            "\n",
            "2000/2000 - 37s - loss: 0.3871 - accuracy: 0.8220 - 37s/epoch - 18ms/step\n",
            "\n",
            "Epoch 9/30\n",
            "\n",
            "2000/2000 - 37s - loss: 0.3787 - accuracy: 0.8323 - 37s/epoch - 18ms/step\n",
            "\n",
            "Epoch 10/30\n",
            "\n",
            "2000/2000 - 37s - loss: 0.3762 - accuracy: 0.8314 - 37s/epoch - 18ms/step\n",
            "\n",
            "Epoch 11/30\n",
            "\n",
            "2000/2000 - 36s - loss: 0.3674 - accuracy: 0.8411 - 36s/epoch - 18ms/step\n",
            "\n",
            "Epoch 12/30\n",
            "\n",
            "2000/2000 - 36s - loss: 0.3578 - accuracy: 0.8458 - 36s/epoch - 18ms/step\n",
            "\n",
            "Epoch 13/30\n",
            "\n",
            "2000/2000 - 36s - loss: 0.3623 - accuracy: 0.8380 - 36s/epoch - 18ms/step\n",
            "\n",
            "Epoch 14/30\n",
            "\n",
            "2000/2000 - 37s - loss: 0.3644 - accuracy: 0.8335 - 37s/epoch - 18ms/step\n",
            "\n",
            "Epoch 15/30\n",
            "\n",
            "2000/2000 - 36s - loss: 0.3648 - accuracy: 0.8395 - 36s/epoch - 18ms/step\n",
            "\n",
            "Epoch 16/30\n",
            "\n",
            "message: Error ID is - 8b2d6b9e-24cc-400e-b926-c19324a5044e - Error from upstream service: Client error '400 Bad Request' for url 'http://supervisor-prod-private.antigranular.com/privacyRequest'\n",
            "For more information check: https://httpstatuses.com/400. Response text: {\"detail\":\"Maximum delta or epsilon exceeded per query. Per query limits are eps : 1 and delta : 1\"}\n",
            "\n",
            "\u001b[0;31mValueError\u001b[0m: Request Limit Exceeded!\n"
          ]
        }
      ]
    },
    {
      "cell_type": "code",
      "source": [
        "%%ag\n",
        "x_test_scaler = standard_scaler(PrivateDataFrame(x_test), eps=.1)\n"
      ],
      "metadata": {
        "id": "dt_0vemmvq17"
      },
      "execution_count": null,
      "outputs": []
    },
    {
      "cell_type": "code",
      "source": [
        "%%ag\n",
        "y_pred = dp_model.predict(x_test_scaler, label_columns=[\"output\"])"
      ],
      "metadata": {
        "id": "lxYK7LOk8qbE",
        "outputId": "66265d7a-d964-45b4-e33a-d64df153746a",
        "colab": {
          "base_uri": "https://localhost:8080/"
        }
      },
      "execution_count": null,
      "outputs": [
        {
          "output_type": "stream",
          "name": "stdout",
          "text": [
            "\r 1/63 [..............................] - ETA: 5s\n",
            "\b\b\b\b\b\b\b\b\b\b\b\b\b\b\b\b\b\b\b\b\b\b\b\b\b\b\b\b\b\b\b\b\b\b\b\b\b\b\b\b\b\b\b\b\b\b\b\b\r 6/63 [=>............................] - ETA: 0s\n",
            "\b\b\b\b\b\b\b\b\b\b\b\b\b\b\b\b\b\b\b\b\b\b\b\b\b\b\b\b\b\b\b\b\b\b\b\b\b\b\b\b\b\b\b\b\b\b\b\b\r25/63 [==========>...................] - ETA: 0s\n",
            "41/63 [==================>...........] - ETA: 0s\n",
            "57/63 [==========================>...] - ETA: 0s\n",
            "63/63 [==============================] - 0s 6ms/step\n",
            "\n"
          ]
        }
      ]
    },
    {
      "cell_type": "code",
      "source": [
        "%%ag\n",
        "# Note that the predictions are a float scalar\n",
        "# so we scale it\n",
        "def f(x: float) -> float:\n",
        "  if x > 0.5:\n",
        "    return 1\n",
        "  else:\n",
        "    return 0\n",
        "\n",
        "y_pred[\"output\"] = y_pred[\"output\"].map(f, output_bounds=(0, 1))"
      ],
      "metadata": {
        "id": "mJMoynKBAwMB"
      },
      "execution_count": null,
      "outputs": []
    },
    {
      "cell_type": "code",
      "source": [
        "%%ag\n",
        "result = submit_predictions(y_pred)"
      ],
      "metadata": {
        "colab": {
          "base_uri": "https://localhost:8080/"
        },
        "id": "ikoa-r-Ky79A",
        "outputId": "a922b3ee-fff0-4c8d-d64a-6cebbbcd1b6b"
      },
      "execution_count": null,
      "outputs": [
        {
          "output_type": "stream",
          "name": "stdout",
          "text": [
            "score: {'leaderboard': 0.7322924633493744, 'logs': {'BIN_ACC': 0.7806512605331574, 'LIN_EPS': -0.04835879718378301}}\n",
            "\n"
          ]
        }
      ]
    }
  ]
}