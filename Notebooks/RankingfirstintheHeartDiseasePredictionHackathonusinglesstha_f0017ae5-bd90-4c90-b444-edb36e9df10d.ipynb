{
  "cells": [
    {
      "cell_type": "markdown",
      "metadata": {
        "id": "5az73vDZvCWg"
      },
      "source": [
        "# 📊 **Antigranular** Heart Disease Prediction Contest (ft. **Harvard/OpenDP** and **TPDP**)\n",
        "\n",
        "🎉 Welcome to a new [Antigranular](https://antigranular.com) contest in collaboration with the [TPDP Workshop](https://tpdp.journalprivacyconfidentiality.org/2024/) and [Harvard's OpenDP Community Meeting](https://opendp.org/)!\n",
        "\n",
        "🩺 This time, we are focusing on [heart condition detection](https://en.wikipedia.org/wiki/Cardiovascular_disease) using our new [TensorFlow Privacy](https://github.com/tensorflow/privacy) and [Opacus (PyTorch)](https://opacus.ai/) models!\n",
        "\n",
        "🦜 Any questions? Head over to our [Discord](https://discord.com/invite/KJwApgXs4s)!\n",
        "\n"
      ]
    },
    {
      "cell_type": "markdown",
      "metadata": {
        "id": "BZ1S_Qc0v5hL"
      },
      "source": [
        "## 🏃‍♂️ Getting Started\n",
        "\n",
        "In this section we will download the antigranular package and login\n",
        "\n",
        "\n"
      ]
    },
    {
      "cell_type": "markdown",
      "metadata": {
        "id": "6_ISjJv_eppS"
      },
      "source": [
        "### 📦 Install Antigranular\n",
        "\n",
        "This command installs the [Antigranular PyPI Package](https://pypi.org/project/antigranular/) on the local enviroment.\n"
      ]
    },
    {
      "cell_type": "code",
      "execution_count": 1,
      "metadata": {
        "id": "5uFCyt-Puq4K"
      },
      "outputs": [],
      "source": [
        "# Install the Antigranular package\n",
        "!pip install antigranular &> /dev/null"
      ]
    },
    {
      "cell_type": "markdown",
      "metadata": {
        "id": "v7jLQa6Uehks"
      },
      "source": [
        "### ✍ Login to the Enclave\n",
        "\n",
        "Head over to [Competitions](https://www.antigranular.com/competitions) to find your `<user_id>`, `<user_secret>` and the competition's name and copy that command here.\n",
        "\n",
        "![img](https://docs.antigranular.com/shots/comp_cell.png)"
      ]
    },
    {
      "cell_type": "code",
      "execution_count": 2,
      "metadata": {
        "colab": {
          "base_uri": "https://localhost:8080/",
          "height": 191
        },
        "id": "w_JcMMSMv_Ze",
        "outputId": "f29a6fae-12a6-48a3-b2b4-a49877e79262"
      },
      "outputs": [
        {
          "data": {
            "text/html": [],
            "text/plain": [
              "<IPython.core.display.HTML object>"
            ]
          },
          "metadata": {},
          "output_type": "display_data"
        },
        {
          "name": "stdout",
          "output_type": "stream",
          "text": [
            "Dataset \"Heart Disease Prediction Hackathon Dataset\" loaded to the kernel as \u001b[92mheart_disease_prediction_hackathon_dataset\u001b[0m\n",
            "Key Name                       Value Type     \n",
            "---------------------------------------------\n",
            "train_y                        PrivateDataFrame\n",
            "train_x                        PrivateDataFrame\n",
            "test_x                         DataFrame      \n",
            "\n",
            "Connected to Antigranular server session id: f0017ae5-bd90-4c90-b444-edb36e9df10d, the session will time out if idle for 25 minutes\n",
            "Cell magic '%%ag' registered successfully, use `%%ag` in a notebook cell to execute your python code on Antigranular private python server\n",
            "🚀 Everything's set up and ready to roll!\n"
          ]
        }
      ],
      "source": [
        "import antigranular as ag\n",
        "session = ag.login(<client_id>,<client_secret>, competition = \"Heart Disease Prediction Hackathon\")"
      ]
    },
    {
      "cell_type": "code",
      "execution_count": 3,
      "metadata": {
        "colab": {
          "base_uri": "https://localhost:8080/"
        },
        "id": "qyvGUfKngG3m",
        "outputId": "4a3dcfe3-3cb7-4205-e538-8d3f1174d57d"
      },
      "outputs": [
        {
          "data": {
            "text/plain": [
              "{'total_epsilon_used': 4.187703485580169,\n",
              " 'total_delta_used': 0.01,\n",
              " 'library_costs': {'op_pandas': {'total_delta': 0.0,\n",
              "   'total_epsilon': 4.099999999999999,\n",
              "   'total_requests': 37},\n",
              "  'op_tensorflow': {'total_delta': 0.01,\n",
              "   'total_epsilon': 0.08770348558017022,\n",
              "   'total_requests': 1}},\n",
              " 'dataset_costs': {'Heart Disease Prediction Hackathon Dataset': {'delta': 0.01,\n",
              "   'eps': 4.187703485580169}}}"
            ]
          },
          "execution_count": 3,
          "metadata": {},
          "output_type": "execute_result"
        }
      ],
      "source": [
        "session.privacy_odometer()"
      ]
    },
    {
      "cell_type": "markdown",
      "metadata": {
        "id": "Jeg6W7fPNHhS"
      },
      "source": [
        "### 🤖 Using AG\n",
        "\n",
        "You can now simply use ``%%ag`` to run code on an enclave! You can always head over to our [Docs](https://docs.antigranular.com/) to learn more about AG, but for now, we can define train and test variables as follows."
      ]
    },
    {
      "cell_type": "code",
      "execution_count": 4,
      "metadata": {
        "id": "8IHVwjFKk2Ys"
      },
      "outputs": [],
      "source": [
        "%%ag\n",
        "x_train = heart_disease_prediction_hackathon_dataset[\"train_x\"]\n",
        "y_train = heart_disease_prediction_hackathon_dataset[\"train_y\"]\n",
        "x_test = heart_disease_prediction_hackathon_dataset[\"test_x\"]"
      ]
    },
    {
      "cell_type": "markdown",
      "metadata": {
        "id": "4oMW3Eh8RDl4"
      },
      "source": [
        "### 🕵️‍♂️ Exploring data\n",
        "\n",
        "Exploring data in Antigranular involves spending your epsilon budget, be mindful of your usage but remember that the less epsilon you use, the less accurate your results will get!"
      ]
    },
    {
      "cell_type": "code",
      "execution_count": null,
      "metadata": {
        "colab": {
          "base_uri": "https://localhost:8080/"
        },
        "id": "PMiVe3n_t4um",
        "outputId": "100ed641-8623-442b-c346-ae081d2d7742"
      },
      "outputs": [
        {
          "name": "stdout",
          "output_type": "stream",
          "text": [
            "+----+----------+-------------+---------------+---------+------------+\n",
            "|    | Column   | numerical   | categorical   | dtype   | bounds     |\n",
            "|----+----------+-------------+---------------+---------+------------|\n",
            "|  0 | age      | True        | False         | int64   | (21, 86)   |\n",
            "|  1 | sex      | True        | False         | int64   | (0, 1)     |\n",
            "|  2 | bp       | True        | False         | int64   | (80, 215)  |\n",
            "|  3 | ch       | True        | False         | int64   | (102, 597) |\n",
            "|  4 | bs       | True        | False         | int64   | (67, 157)  |\n",
            "|  5 | phr      | True        | False         | int64   | (62, 222)  |\n",
            "+----+----------+-------------+---------------+---------+------------+\n",
            "\n"
          ]
        }
      ],
      "source": [
        "%%ag\n",
        "x_train.info()"
      ]
    },
    {
      "cell_type": "code",
      "execution_count": null,
      "metadata": {
        "colab": {
          "base_uri": "https://localhost:8080/"
        },
        "id": "iG3HnW1Ut8X2",
        "outputId": "499571aa-cc92-4fa5-8e62-f336af125357"
      },
      "outputs": [
        {
          "name": "stdout",
          "output_type": "stream",
          "text": [
            "+----+-----------+-------------+---------------+---------+----------+\n",
            "|    | Column    | numerical   | categorical   | dtype   | bounds   |\n",
            "|----+-----------+-------------+---------------+---------+----------|\n",
            "|  0 | condition | True        | False         | int64   | (0, 1)   |\n",
            "+----+-----------+-------------+---------------+---------+----------+\n",
            "\n"
          ]
        }
      ],
      "source": [
        "%%ag\n",
        "y_train.info()"
      ]
    },
    {
      "cell_type": "code",
      "execution_count": null,
      "metadata": {
        "colab": {
          "base_uri": "https://localhost:8080/"
        },
        "id": "OymOmMhqmzpK",
        "outputId": "c2407882-5771-454d-d517-c00d3b27e56f"
      },
      "outputs": [
        {
          "name": "stdout",
          "output_type": "stream",
          "text": [
            "      age  sex   bp   ch   bs  phr\n",
            "0      71    1  128  326   95  117\n",
            "1      61    1  153  270   98  123\n",
            "2      59    1  113  236  106  181\n",
            "3      69    0  109  151  109  108\n",
            "4      55    0  137  235  101  150\n",
            "...   ...  ...  ...  ...  ...  ...\n",
            "1995   60    1  128  261  112  143\n",
            "1996   50    1  143  216   94  100\n",
            "1997   64    1  120  172   87  142\n",
            "1998   56    1  158  294   82  144\n",
            "1999   69    0  117  559  112  157\n",
            "\n",
            "[2000 rows x 6 columns]\n",
            "\n"
          ]
        }
      ],
      "source": [
        "%%ag\n",
        "\n",
        "ag_print(x_test)"
      ]
    },
    {
      "cell_type": "code",
      "execution_count": 8,
      "metadata": {
        "id": "-Nyzbfv2gi20"
      },
      "outputs": [],
      "source": [
        "%%ag\n",
        "cols_info={\n",
        "    \"age\":{\n",
        "        \"max\":86,\n",
        "        \"min\":21\n",
        "    },\n",
        "    \"sex\":{\n",
        "        \"max\":1,\n",
        "        \"min\":0\n",
        "    },\n",
        "    \"bp\":{\n",
        "        \"max\":215,\n",
        "        \"min\":80\n",
        "    },\n",
        "    \"ch\":{\n",
        "        \"max\":597,\n",
        "        \"min\":102\n",
        "    },\n",
        "    \"bs\":{\n",
        "        \"max\":157,\n",
        "        \"min\":67\n",
        "    },\n",
        "    \"phr\":{\n",
        "        \"max\":222,\n",
        "        \"min\":62\n",
        "    }\n",
        "}"
      ]
    },
    {
      "cell_type": "code",
      "execution_count": 41,
      "metadata": {
        "id": "V5vY6OgohKyY"
      },
      "outputs": [],
      "source": [
        "%%ag\n",
        "def age_scaler(value: float)-> float:\n",
        "    max_value=86\n",
        "    min_value=21\n",
        "    scale_value = (value - min_value) / (max_value - min_value)\n",
        "    return scale_value"
      ]
    },
    {
      "cell_type": "code",
      "execution_count": 42,
      "metadata": {
        "id": "Z2OCEwWlhTOz"
      },
      "outputs": [],
      "source": [
        "%%ag\n",
        "def sex_scaler(value: float)-> float:\n",
        "    max_value=1\n",
        "    min_value=0\n",
        "    scale_value = (value - min_value) / (max_value - min_value)\n",
        "    return scale_value"
      ]
    },
    {
      "cell_type": "code",
      "execution_count": 43,
      "metadata": {
        "id": "hrnRKe0vhVC7"
      },
      "outputs": [],
      "source": [
        "%%ag\n",
        "def bp_scaler(value: float)-> float:\n",
        "    max_value=215\n",
        "    min_value=80\n",
        "    scale_value = (value - min_value) / (max_value - min_value)\n",
        "    return scale_value"
      ]
    },
    {
      "cell_type": "code",
      "execution_count": 44,
      "metadata": {
        "id": "4EwEENdChZqR"
      },
      "outputs": [],
      "source": [
        "%%ag\n",
        "def ch_scaler(value: float)-> float:\n",
        "    max_value=597\n",
        "    min_value=102\n",
        "    scale_value = (value - min_value) / (max_value - min_value)\n",
        "    return scale_value"
      ]
    },
    {
      "cell_type": "code",
      "execution_count": 45,
      "metadata": {
        "id": "-_22cz1ChbOP"
      },
      "outputs": [],
      "source": [
        "%%ag\n",
        "def bs_scaler(value: float)-> float:\n",
        "    max_value=157\n",
        "    min_value=67\n",
        "    scale_value = (value - min_value) / (max_value - min_value)\n",
        "    return scale_value"
      ]
    },
    {
      "cell_type": "code",
      "execution_count": 46,
      "metadata": {
        "id": "UgeISZWZhcbP"
      },
      "outputs": [],
      "source": [
        "%%ag\n",
        "def phr_scaler(value: float)-> float:\n",
        "    max_value=222\n",
        "    min_value=62\n",
        "    scale_value = (value - min_value) / (max_value - min_value)\n",
        "    return scale_value"
      ]
    },
    {
      "cell_type": "code",
      "execution_count": 47,
      "metadata": {
        "id": "ai6ANCwEiUHn"
      },
      "outputs": [],
      "source": [
        "%%ag\n",
        "train=x_train.copy()"
      ]
    },
    {
      "cell_type": "code",
      "execution_count": 48,
      "metadata": {
        "id": "z1gXUL8Mgpg9"
      },
      "outputs": [],
      "source": [
        "%%ag\n",
        "train['age'] = train['age'].map(age_scaler,output_bounds = (0, 1))\n",
        "train['sex'] = train['sex'].map(sex_scaler,output_bounds = (0, 1))\n",
        "train['bp'] = train['bp'].map(bp_scaler,output_bounds = (0, 1))\n",
        "train['ch'] = train['ch'].map(ch_scaler,output_bounds = (0, 1))\n",
        "train['bs'] = train['bs'].map(bs_scaler,output_bounds = (0, 1))\n",
        "train['phr'] = train['phr'].map(phr_scaler,output_bounds = (0, 1))"
      ]
    },
    {
      "cell_type": "code",
      "execution_count": 50,
      "metadata": {
        "colab": {
          "base_uri": "https://localhost:8080/"
        },
        "id": "hggnWXYlj3R3",
        "outputId": "dd54b639-b40c-4b62-fc4b-0696a217a662"
      },
      "outputs": [
        {
          "name": "stdout",
          "output_type": "stream",
          "text": [
            "+----+----------+-------------+---------------+---------+----------+\n",
            "|    | Column   | numerical   | categorical   | dtype   | bounds   |\n",
            "|----+----------+-------------+---------------+---------+----------|\n",
            "|  0 | age      | True        | False         | float64 | (0, 1)   |\n",
            "|  1 | sex      | True        | False         | float64 | (0, 1)   |\n",
            "|  2 | bp       | True        | False         | float64 | (0, 1)   |\n",
            "|  3 | ch       | True        | False         | float64 | (0, 1)   |\n",
            "|  4 | bs       | True        | False         | float64 | (0, 1)   |\n",
            "|  5 | phr      | True        | False         | float64 | (0, 1)   |\n",
            "+----+----------+-------------+---------------+---------+----------+\n",
            "\n"
          ]
        }
      ],
      "source": [
        "%%ag\n",
        "train.info()"
      ]
    },
    {
      "cell_type": "markdown",
      "metadata": {
        "id": "KARrFlm5pOB6"
      },
      "source": [
        "### 🎈 A quick solution\n",
        "\n",
        "In this section we evaluate an editorial solution in AG using TensorFlow!"
      ]
    },
    {
      "cell_type": "code",
      "execution_count": 71,
      "metadata": {
        "id": "QVMog5sFunqk"
      },
      "outputs": [],
      "source": [
        "%%ag\n",
        "import tensorflow as tf\n",
        "from op_pandas import standard_scaler, PrivateDataFrame\n",
        "from tensorflow.keras.models import Sequential\n",
        "from tensorflow.keras.layers import Dense, Dropout\n",
        "from op_tensorflow import PrivateKerasModel, PrivateDataLoader\n",
        "\n",
        "\n",
        "\n",
        "seqM = Sequential([\n",
        "    Dense(128, activation='relu', input_shape=(6,)),\n",
        "    Dense(64, activation='relu'),\n",
        "    Dense(32, activation='relu'),\n",
        "    Dense(1, activation='sigmoid')\n",
        "])\n",
        "\n",
        "\n",
        "dp_model = PrivateKerasModel(model=seqM, l2_norm_clip=1, noise_multiplier=1)\n",
        "\n",
        "\n"
      ]
    },
    {
      "cell_type": "code",
      "execution_count": null,
      "metadata": {
        "id": "F0N3wa1WJtgp"
      },
      "outputs": [],
      "source": [
        "%%ag\n",
        "optimizer = tf.keras.optimizers.Adam(learning_rate=0.001)\n",
        "\n",
        "\n",
        "dp_model.compile(\n",
        "\toptimizer = optimizer,\n",
        "\tloss = 'binary_crossentropy',\n",
        "\tmetrics = [\"accuracy\"]\n",
        ")"
      ]
    },
    {
      "cell_type": "code",
      "execution_count": null,
      "metadata": {
        "id": "RLVqevyoJvI3"
      },
      "outputs": [],
      "source": [
        "%%ag\n",
        "optimizer = tf.keras.optimizers.Adam(learning_rate=0.00003)\n",
        "\n",
        "\n",
        "dp_model.compile(\n",
        "\toptimizer = optimizer,\n",
        "\tloss = 'binary_crossentropy',\n",
        "\tmetrics = [\"accuracy\"]\n",
        ")"
      ]
    },
    {
      "cell_type": "code",
      "execution_count": 99,
      "metadata": {
        "id": "LNLNWdBLp35B"
      },
      "outputs": [],
      "source": [
        "%%ag\n",
        "optimizer = tf.keras.optimizers.Adam(learning_rate=0.00001)\n",
        "\n",
        "\n",
        "dp_model.compile(\n",
        "\toptimizer = optimizer,\n",
        "\tloss = 'binary_crossentropy',\n",
        "\tmetrics = [\"accuracy\"]\n",
        ")"
      ]
    },
    {
      "cell_type": "code",
      "execution_count": 52,
      "metadata": {
        "id": "-IRE6nbYvcw7"
      },
      "outputs": [],
      "source": [
        "%%ag\n",
        "data_loader = PrivateDataLoader(feature_df=train , label_df=y_train, batch_size=2)"
      ]
    },
    {
      "cell_type": "code",
      "execution_count": 100,
      "metadata": {
        "colab": {
          "base_uri": "https://localhost:8080/"
        },
        "id": "BkYeXE1nv0EL",
        "outputId": "3ae00b7f-8a9d-49ff-ac34-4234d0d776fc"
      },
      "outputs": [
        {
          "name": "stdout",
          "output_type": "stream",
          "text": [
            "Epoch 1/15\n",
            "\n",
            "4000/4000 - 67s - loss: 0.0275 - accuracy: 0.9925 - 67s/epoch - 17ms/step\n",
            "\n",
            "Epoch 2/15\n",
            "\n",
            "4000/4000 - 64s - loss: 0.0242 - accuracy: 0.9931 - 64s/epoch - 16ms/step\n",
            "\n",
            "Epoch 3/15\n",
            "\n",
            "4000/4000 - 64s - loss: 0.0305 - accuracy: 0.9896 - 64s/epoch - 16ms/step\n",
            "\n",
            "Epoch 4/15\n",
            "\n",
            "4000/4000 - 65s - loss: 0.0271 - accuracy: 0.9919 - 65s/epoch - 16ms/step\n",
            "\n",
            "Epoch 5/15\n",
            "\n",
            "4000/4000 - 64s - loss: 0.0261 - accuracy: 0.9926 - 64s/epoch - 16ms/step\n",
            "\n",
            "Epoch 6/15\n",
            "\n"
          ]
        },
        {
          "name": "stderr",
          "output_type": "stream",
          "text": [
            "Kernel interrupted successfully\n"
          ]
        }
      ],
      "source": [
        "%%ag\n",
        "dp_model.fit(x=data_loader, epochs=15, target_delta=1)"
      ]
    },
    {
      "cell_type": "code",
      "execution_count": 84,
      "metadata": {
        "id": "CT4-nWM68t1v"
      },
      "outputs": [],
      "source": [
        "%%ag\n",
        "test=PrivateDataFrame(x_test).copy()"
      ]
    },
    {
      "cell_type": "code",
      "execution_count": 86,
      "metadata": {
        "id": "ixrGSAza8osw"
      },
      "outputs": [],
      "source": [
        "%%ag\n",
        "test['age'] = test['age'].map(age_scaler,output_bounds = (0, 1))\n",
        "test['sex'] = test['sex'].map(sex_scaler,output_bounds = (0, 1))\n",
        "test['bp'] = test['bp'].map(bp_scaler,output_bounds = (0, 1))\n",
        "test['ch'] = test['ch'].map(ch_scaler,output_bounds = (0, 1))\n",
        "test['bs'] = test['bs'].map(bs_scaler,output_bounds = (0, 1))\n",
        "test['phr'] = test['phr'].map(phr_scaler,output_bounds = (0, 1))"
      ]
    },
    {
      "cell_type": "code",
      "execution_count": 101,
      "metadata": {
        "colab": {
          "base_uri": "https://localhost:8080/"
        },
        "id": "vq5JCTKSFYqx",
        "outputId": "28753743-f4ca-4095-9d05-5fd264fd5c0f"
      },
      "outputs": [
        {
          "name": "stdout",
          "output_type": "stream",
          "text": [
            "\r 1/63 [..............................] - ETA: 12s\n",
            "\b\b\b\b\b\b\b\b\b\b\b\b\b\b\b\b\b\b\b\b\b\b\b\b\b\b\b\b\b\b\b\b\b\b\b\b\b\b\b\b\b\b\b\b\b\b\b\b\b\r 8/63 [==>...........................] - ETA: 0s \n",
            "\b\b\b\b\b\b\b\b\b\b\b\b\b\b\b\b\b\b\b\b\b\b\b\b\b\b\b\b\b\b\b\b\b\b\b\b\b\b\b\b\b\b\b\b\b\b\b\b\r23/63 [=========>....................] - ETA: 0s\n",
            "\b\b\b\b\b\b\b\b\b\b\b\b\b\b\b\b\b\b\b\b\b\b\b\b\b\b\b\b\b\b\b\b\b\b\b\b\b\b\b\b\b\b\b\b\b\b\b\b\r38/63 [=================>............] - ETA: 0s\n",
            "\b\b\b\b\b\b\b\b\b\b\b\b\b\b\b\b\b\b\b\b\b\b\b\b\b\b\b\b\b\b\b\b\b\b\b\b\b\b\b\b\b\b\b\b\b\b\b\b\r52/63 [=======================>......] - ETA: 0s\n",
            "\b\b\b\b\b\b\b\b\b\b\b\b\b\b\b\b\b\b\b\b\b\b\b\b\b\b\b\b\b\b\b\b\b\b\b\b\b\b\b\b\b\b\b\b\b\b\b\b\r63/63 [==============================] - 1s 6ms/step\n",
            "\n"
          ]
        }
      ],
      "source": [
        "%%ag\n",
        "y_pred = dp_model.predict(test, label_columns=[\"output\"])"
      ]
    },
    {
      "cell_type": "code",
      "execution_count": 102,
      "metadata": {
        "id": "mJMoynKBAwMB"
      },
      "outputs": [],
      "source": [
        "%%ag\n",
        "# Note that the predictions are a float scalar\n",
        "# so we scale it\n",
        "def f(x: float) -> float:\n",
        "  if x > 0.5:\n",
        "    return 1\n",
        "  else:\n",
        "    return 0\n",
        "\n",
        "y_pred[\"output\"] = y_pred[\"output\"].map(f, output_bounds=(0, 1))"
      ]
    },
    {
      "cell_type": "markdown",
      "metadata": {
        "id": "8K19wo42GvcM"
      },
      "source": [
        "### 📝 Make your submission (Through AG)\n",
        "\n",
        "Submit a prediction by simply typing `submit_predictions(your_prediction)` to find out how you rank on the leaderboard.\n",
        "\n",
        "![img](https://www.antigranular.com/static/media/Step%209.8091828f3cff4324fe6d.png)\n"
      ]
    },
    {
      "cell_type": "code",
      "execution_count": 103,
      "metadata": {
        "colab": {
          "base_uri": "https://localhost:8080/"
        },
        "id": "ikoa-r-Ky79A",
        "outputId": "dd2c08e1-434f-47c9-c341-57c9a2cd076a"
      },
      "outputs": [
        {
          "name": "stdout",
          "output_type": "stream",
          "text": [
            "score: {'leaderboard': 0.9790614825720991, 'logs': {'BIN_ACC': 1.0, 'LIN_EPS': -0.020938517427900843}}\n",
            "\n"
          ]
        }
      ],
      "source": [
        "%%ag\n",
        "result = submit_predictions(y_pred)"
      ]
    }
  ],
  "metadata": {
    "colab": {
      "provenance": []
    },
    "kernelspec": {
      "display_name": "Python 3",
      "name": "python3"
    },
    "language_info": {
      "name": "python"
    }
  },
  "nbformat": 4,
  "nbformat_minor": 0
}
