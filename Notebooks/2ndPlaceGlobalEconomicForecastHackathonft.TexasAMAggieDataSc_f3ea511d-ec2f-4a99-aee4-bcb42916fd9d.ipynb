{
  "cells": [
    {
      "cell_type": "markdown",
      "source": [
        "**Install Antigranular Package**"
      ],
      "metadata": {
        "id": "O93eVCNDgG_z"
      }
    },
    {
      "cell_type": "code",
      "execution_count": 1,
      "metadata": {
        "id": "5uFCyt-Puq4K"
      },
      "outputs": [],
      "source": [
        "!pip install antigranular &> /dev/null"
      ]
    },
    {
      "cell_type": "markdown",
      "source": [
        "**Login to the Antigranular Platform.**\n"
      ],
      "metadata": {
        "id": "_D5juBA5f1LA"
      }
    },
    {
      "cell_type": "code",
      "execution_count": 2,
      "metadata": {
        "id": "w_JcMMSMv_Ze",
        "colab": {
          "base_uri": "https://localhost:8080/",
          "height": 191
        },
        "outputId": "7bf08d15-ec57-4057-b171-0ccad0546fc2"
      },
      "outputs": [
        {
          "output_type": "display_data",
          "data": {
            "text/plain": [
              "<IPython.core.display.HTML object>"
            ],
            "text/html": []
          },
          "metadata": {}
        },
        {
          "output_type": "stream",
          "name": "stdout",
          "text": [
            "Dataset \"Statistical Performance Indicators\" loaded to the kernel as \u001b[92mstatistical_performance_indicators\u001b[0m\n",
            "Key Name                       Value Type     \n",
            "---------------------------------------------\n",
            "train_x                        PrivateDataFrame\n",
            "train_y                        PrivateDataFrame\n",
            "test_x                         DataFrame      \n",
            "\n",
            "Connected to Antigranular server session id: f3ea511d-ec2f-4a99-aee4-bcb42916fd9d, the session will time out if idle for 25 minutes\n",
            "Cell magic '%%ag' registered successfully, use `%%ag` in a notebook cell to execute your python code on Antigranular private python server\n",
            "🚀 Everything's set up and ready to roll!\n"
          ]
        }
      ],
      "source": [
        "import antigranular as ag\n",
        "session = ag.login(<client_id>,<client_secret>, competition = \"Global Economic Forecast Hackathon with Texas A&M Aggie Data Science\")\n"
      ]
    },
    {
      "cell_type": "code",
      "execution_count": 3,
      "metadata": {
        "id": "8IHVwjFKk2Ys"
      },
      "outputs": [],
      "source": [
        "%%ag\n",
        "x_train = statistical_performance_indicators[\"train_x\"]\n",
        "y_train = statistical_performance_indicators[\"train_y\"]\n",
        "x_test = statistical_performance_indicators[\"test_x\"]"
      ]
    },
    {
      "cell_type": "markdown",
      "metadata": {
        "id": "4oMW3Eh8RDl4"
      },
      "source": [
        "**Data Description**\n",
        "\n",
        "\n",
        "| Column Name         | Description                                                |\n",
        "|-------------------|------------------------------------------------------------|\n",
        "| intl_org_use      | Measures international organizations' usage of national data. |\n",
        "| social_stats      | Reflects the quality of social statistics like health and education. |\n",
        "| economic_stats    | Assesses the reliability of economic data for analysis.    |\n",
        "| inst_stats        | Evaluates the quality of governance and institutional data. |\n",
        "| pov_ratio         | Tracks data availability on the poverty headcount ratio.   |\n",
        "| child_mortality   | Monitors under-5 mortality rate data quality and availability. |\n",
        "| debt_service      | Measures the quality of national debt service data.        |\n",
        "| safe_water        | Assesses the availability of safely managed water data.    |\n",
        "| labor_force       | Evaluates labor force participation data by sex and age.   |\n",
        "| no_poverty        | Tracks data quality for achieving SDG 1: No Poverty.       |\n",
        "| zero_hunger       | Monitors data for achieving SDG 2: Zero Hunger.            |\n",
        "| good_health       | Assesses data for achieving SDG 3: Good Health and Well-being. |\n",
        "| quality_edu       | Measures data availability for SDG 4: Quality Education.   |\n",
        "| gender_eq         | Evaluates data for achieving SDG 5: Gender Equality.       |\n",
        "| clean_water       | Tracks data quality for SDG 6: Clean Water and Sanitation. |\n",
        "| clean_energy      | Assesses data for achieving SDG 7: Affordable Clean Energy. |\n",
        "| decent_work       | Monitors data for achieving SDG 8: Decent Work and Growth. |\n",
        "| innovation        | Measures data for achieving SDG 9: Industry and Innovation. |\n",
        "| reduced_ineq      | Tracks data availability for SDG 10: Reduced Inequalities. |\n",
        "| cities            | Evaluates data for SDG 11: Sustainable Cities.             |\n",
        "| consump_prod      | Measures data for SDG 12: Responsible Consumption.         |\n",
        "| life_land         | Assesses data quality for SDG 15: Life on Land.            |\n",
        "| peace_justice     | Tracks data for SDG 16: Peace and Justice.                 |\n",
        "| partnerships      | Monitors data for SDG 17: Global Partnerships.             |\n"
      ]
    },
    {
      "cell_type": "code",
      "execution_count": 4,
      "metadata": {
        "colab": {
          "base_uri": "https://localhost:8080/"
        },
        "id": "PMiVe3n_t4um",
        "outputId": "651140f5-47e8-46c5-9b9d-749749ca0cdb"
      },
      "outputs": [
        {
          "output_type": "stream",
          "name": "stdout",
          "text": [
            "+----+-----------------+-------------+---------------+---------+----------+\n",
            "|    | Column          | numerical   | categorical   | dtype   | bounds   |\n",
            "|----+-----------------+-------------+---------------+---------+----------|\n",
            "|  0 | intl_org_use    | True        | False         | float64 | (0, 1)   |\n",
            "|  1 | social_stats    | True        | False         | float64 | (0, 1)   |\n",
            "|  2 | economic_stats  | True        | False         | float64 | (0, 1)   |\n",
            "|  3 | inst_stats      | True        | False         | float64 | (0, 1)   |\n",
            "|  4 | pov_ratio       | True        | False         | float64 | (0, 1)   |\n",
            "|  5 | child_mortality | True        | False         | float64 | (0, 1)   |\n",
            "|  6 | debt_service    | True        | False         | float64 | (0, 1)   |\n",
            "|  7 | safe_water      | True        | False         | float64 | (0, 1)   |\n",
            "|  8 | labor_force     | True        | False         | float64 | (0, 1)   |\n",
            "|  9 | no_poverty      | True        | False         | float64 | (0, 1)   |\n",
            "| 10 | zero_hunger     | True        | False         | float64 | (0, 1)   |\n",
            "| 11 | good_health     | True        | False         | float64 | (0, 1)   |\n",
            "| 12 | quality_edu     | True        | False         | float64 | (0, 1)   |\n",
            "| 13 | gender_eq       | True        | False         | float64 | (0, 1)   |\n",
            "| 14 | clean_water     | True        | False         | float64 | (0, 1)   |\n",
            "| 15 | clean_energy    | True        | False         | float64 | (0, 1)   |\n",
            "| 16 | decent_work     | True        | False         | float64 | (0, 1)   |\n",
            "| 17 | innovation      | True        | False         | float64 | (0, 1)   |\n",
            "| 18 | reduced_ineq    | True        | False         | float64 | (0, 1)   |\n",
            "| 19 | cities          | True        | False         | float64 | (0, 1)   |\n",
            "| 20 | consump_prod    | True        | False         | float64 | (0, 1)   |\n",
            "| 21 | life_land       | True        | False         | float64 | (0, 1)   |\n",
            "| 22 | peace_justice   | True        | False         | float64 | (0, 1)   |\n",
            "| 23 | partnerships    | True        | False         | float64 | (0, 1)   |\n",
            "+----+-----------------+-------------+---------------+---------+----------+\n",
            "\n"
          ]
        }
      ],
      "source": [
        "%%ag\n",
        "x_train.info()"
      ]
    },
    {
      "cell_type": "markdown",
      "source": [
        "**Data Summary**\n",
        "\n",
        "Based on this data summary, for now I will not be carrying out additional preprocessing -\n",
        "\n",
        "1. All Columns Are Numerical\n",
        "\n",
        "Each column has a numerical flag set to True and categorical set to False, meaning there are no categorical variables that need encoding.\n",
        "2. Data Type Consistency\n",
        "\n",
        "All columns have a data type (dtype) of float64, ensuring uniformity for mathematical and statistical operations.\n",
        "\n",
        "3. Value Bounds\n",
        "\n",
        "All columns have values constrained within the range (0, 1), indicating that the data is normalized or standardized."
      ],
      "metadata": {
        "id": "oO2eaTf-hOkM"
      }
    },
    {
      "cell_type": "code",
      "execution_count": 5,
      "metadata": {
        "colab": {
          "base_uri": "https://localhost:8080/"
        },
        "id": "iG3HnW1Ut8X2",
        "outputId": "65120419-47a5-4540-cc72-a1d39394871a"
      },
      "outputs": [
        {
          "output_type": "stream",
          "name": "stdout",
          "text": [
            "+----+----------+-------------+---------------+---------+----------+\n",
            "|    | Column   | numerical   | categorical   | dtype   | bounds   |\n",
            "|----+----------+-------------+---------------+---------+----------|\n",
            "|  0 | income   | True        | False         | int64   | (0, 1)   |\n",
            "+----+----------+-------------+---------------+---------+----------+\n",
            "\n"
          ]
        }
      ],
      "source": [
        "%%ag\n",
        "y_train.info()"
      ]
    },
    {
      "cell_type": "markdown",
      "metadata": {
        "id": "2mfrZ4mQvpBC"
      },
      "source": [
        "For our `Y` target, data is bound into 2 groups ((low and lower middle income), & (upper middle and high income))which are separated by 0 and 1.\n",
        "\n",
        "```\n",
        "Income levels:\n",
        "    1. 'Low income': 0,\n",
        "    2. 'Lower middle income': 0,\n",
        "    3. 'Upper middle income': 1,\n",
        "    4. 'High income': 1,\n",
        "```\n",
        "\n",
        "\n"
      ]
    },
    {
      "cell_type": "markdown",
      "source": [
        "**Model Architecture**\n",
        "\n",
        "A Sequential model is used for its simplicity and suitability for straightforward feedforward neural networks.\n",
        "\n",
        "*Dense Layers*\n",
        "\n",
        "Four dense layers with decreasing neuron counts (512 → 256 → 128 → 64) are implemented to allow the model to capture complex patterns in the data while progressively reducing dimensionality.\n",
        "\n",
        "All layers use the *ReLU activation function* for non-linearity, ensuring efficient learning.\n",
        "\n",
        "*Output Layer*\n",
        "\n",
        "The final layer is a dense layer with a single neuron and *sigmoid activation function*, suitable for binary classification tasks.\n",
        "\n",
        "**Kernel Initialization and Regularization**\n",
        "\n",
        "*Glorot Uniform Initialization*\n",
        "\n",
        "Selected for all layers to balance the weight distribution.It carefully sets the weights based on the number of input and output units in a layer to ensure that the variance of the activations and gradients is roughly consistent across layers, making it easier for the model to converge.\n",
        "\n",
        "\n",
        "*L2 Regularization*\n",
        "\n",
        "Added to each layer to penalize large weight values, helping prevent overfitting and improving generalization.\n",
        "\n",
        "On privacy :\n",
        "\n",
        "L2 Norm Clipping -  Limits the sensitivity of individual training examples.\n",
        "Noise Multiplier- Adds noise to gradients during training to preserve privacy.\n"
      ],
      "metadata": {
        "id": "Dyl2TSUFmEym"
      }
    },
    {
      "cell_type": "code",
      "source": [
        "%%ag\n",
        "import tensorflow as tf\n",
        "from op_pandas import standard_scaler, PrivateDataFrame\n",
        "from tensorflow.keras.models import Sequential\n",
        "from tensorflow.keras import regularizers\n",
        "\n",
        "from tensorflow.keras.layers import Dense\n",
        "\n",
        "from op_tensorflow import PrivateKerasModel, PrivateDataLoader\n",
        "\n",
        "# Keras model\n",
        "seqM = Sequential([\n",
        "    Dense(512, activation='relu', kernel_initializer=\"glorot_uniform\", kernel_regularizer=regularizers.l2(0.01), input_shape=(24,)),\n",
        "    # Dropout(0.2),\n",
        "    Dense(256, activation='relu', kernel_initializer='glorot_uniform', kernel_regularizer=regularizers.l2(0.01)),\n",
        "    Dense(128, activation='relu', kernel_initializer='glorot_uniform', kernel_regularizer=regularizers.l2(0.01)),\n",
        "    Dense(64, activation='relu', kernel_initializer='glorot_uniform',  kernel_regularizer=regularizers.l2(0.01)),\n",
        "    Dense(1, activation='sigmoid', kernel_initializer='glorot_uniform')\n",
        "])\n",
        "\n",
        "\n",
        "# Create DP keras model\n",
        "dp_model = PrivateKerasModel(model=seqM, l2_norm_clip=1.0, noise_multiplier=1.0)"
      ],
      "metadata": {
        "id": "6Pm0hpeFrxzA"
      },
      "execution_count": 37,
      "outputs": []
    },
    {
      "cell_type": "code",
      "source": [
        "# %%ag\n",
        "# optimizer = tf.keras.optimizers.Adam(learning_rate=0.001)\n",
        "# dp_model.compile(\n",
        "#     optimizer=optimizer,\n",
        "#     loss='binary_crossentropy',\n",
        "#     metrics=[\"accuracy\", \"Precision\", \"Recall\", \"AUC\"]\n",
        "#     )\n"
      ],
      "metadata": {
        "id": "hKNCvW5Go13R"
      },
      "execution_count": 38,
      "outputs": []
    },
    {
      "cell_type": "code",
      "source": [
        "# %%ag\n",
        "# optimizer = tf.keras.optimizers.Adam(learning_rate=0.0001)\n",
        "# dp_model.compile(\n",
        "#     optimizer=optimizer,\n",
        "#     loss='binary_crossentropy',\n",
        "#     metrics=[\"accuracy\", \"Precision\", \"Recall\", \"AUC\"]\n",
        "#     )\n"
      ],
      "metadata": {
        "id": "eUvkuEUZo5HA"
      },
      "execution_count": 39,
      "outputs": []
    },
    {
      "cell_type": "code",
      "source": [
        "%%ag\n",
        "optimizer = tf.keras.optimizers.Adam(learning_rate=0.0004)\n",
        "dp_model.compile(\n",
        "    optimizer=optimizer,\n",
        "    loss='binary_crossentropy',\n",
        "    metrics=[\"accuracy\", \"Precision\", \"Recall\"]\n",
        "    )\n"
      ],
      "metadata": {
        "id": "OJ27G5EiXEKj"
      },
      "execution_count": 40,
      "outputs": []
    },
    {
      "cell_type": "code",
      "source": [
        "%%ag\n",
        "data_loader = PrivateDataLoader(feature_df=x_train , label_df=y_train, batch_size=64)"
      ],
      "metadata": {
        "id": "DLUu5MxR709w"
      },
      "execution_count": 41,
      "outputs": []
    },
    {
      "cell_type": "code",
      "source": [
        "%%ag\n",
        "# Epoch range between 50 to 100\n",
        "dp_model.fit(x=data_loader, epochs=100, target_delta=1e-5)"
      ],
      "metadata": {
        "id": "Y_FbU-Sc8Ain",
        "colab": {
          "base_uri": "https://localhost:8080/"
        },
        "outputId": "15dc8332-783c-4aaa-d6a4-4a30108de267"
      },
      "execution_count": 42,
      "outputs": [
        {
          "output_type": "stream",
          "name": "stdout",
          "text": [
            "Epoch 1/100\n",
            "\n",
            "58/58 - 6s - loss: 0.5811 - accuracy: 0.6752 - precision: 0.6844 - recall: 0.8919 - 6s/epoch - 97ms/step\n",
            "\n",
            "Epoch 2/100\n",
            "\n",
            "58/58 - 2s - loss: 0.4829 - accuracy: 0.7361 - precision: 0.8336 - recall: 0.7415 - 2s/epoch - 34ms/step\n",
            "\n",
            "Epoch 3/100\n",
            "\n",
            "58/58 - 2s - loss: 0.4458 - accuracy: 0.7633 - precision: 0.8413 - recall: 0.7717 - 2s/epoch - 33ms/step\n",
            "\n",
            "Epoch 4/100\n",
            "\n",
            "58/58 - 2s - loss: 0.4212 - accuracy: 0.7852 - precision: 0.8543 - recall: 0.7980 - 2s/epoch - 33ms/step\n",
            "\n",
            "Epoch 5/100\n",
            "\n",
            "58/58 - 2s - loss: 0.4270 - accuracy: 0.7749 - precision: 0.8374 - recall: 0.7922 - 2s/epoch - 33ms/step\n",
            "\n",
            "Epoch 6/100\n",
            "\n",
            "58/58 - 2s - loss: 0.3956 - accuracy: 0.8024 - precision: 0.8576 - recall: 0.8245 - 2s/epoch - 34ms/step\n",
            "\n",
            "Epoch 7/100\n",
            "\n",
            "58/58 - 2s - loss: 0.3969 - accuracy: 0.8015 - precision: 0.8539 - recall: 0.8299 - 2s/epoch - 34ms/step\n",
            "\n",
            "Epoch 8/100\n",
            "\n",
            "58/58 - 2s - loss: 0.3962 - accuracy: 0.7952 - precision: 0.8482 - recall: 0.8251 - 2s/epoch - 33ms/step\n",
            "\n",
            "Epoch 9/100\n",
            "\n",
            "58/58 - 2s - loss: 0.4003 - accuracy: 0.7968 - precision: 0.8504 - recall: 0.8241 - 2s/epoch - 36ms/step\n",
            "\n",
            "Epoch 10/100\n",
            "\n",
            "58/58 - 2s - loss: 0.3843 - accuracy: 0.8171 - precision: 0.8683 - recall: 0.8414 - 2s/epoch - 35ms/step\n",
            "\n",
            "Epoch 11/100\n",
            "\n",
            "58/58 - 2s - loss: 0.3897 - accuracy: 0.8071 - precision: 0.8591 - recall: 0.8403 - 2s/epoch - 34ms/step\n",
            "\n",
            "Epoch 12/100\n",
            "\n",
            "58/58 - 2s - loss: 0.3753 - accuracy: 0.8216 - precision: 0.8674 - recall: 0.8521 - 2s/epoch - 36ms/step\n",
            "\n",
            "Epoch 13/100\n",
            "\n",
            "58/58 - 2s - loss: 0.3853 - accuracy: 0.8080 - precision: 0.8639 - recall: 0.8298 - 2s/epoch - 36ms/step\n",
            "\n",
            "Epoch 14/100\n",
            "\n",
            "58/58 - 2s - loss: 0.3905 - accuracy: 0.8050 - precision: 0.8513 - recall: 0.8391 - 2s/epoch - 34ms/step\n",
            "\n",
            "Epoch 15/100\n",
            "\n",
            "58/58 - 2s - loss: 0.3691 - accuracy: 0.8224 - precision: 0.8710 - recall: 0.8437 - 2s/epoch - 33ms/step\n",
            "\n",
            "Epoch 16/100\n",
            "\n",
            "58/58 - 2s - loss: 0.3716 - accuracy: 0.8180 - precision: 0.8657 - recall: 0.8485 - 2s/epoch - 36ms/step\n",
            "\n",
            "Epoch 17/100\n",
            "\n",
            "58/58 - 2s - loss: 0.3611 - accuracy: 0.8195 - precision: 0.8704 - recall: 0.8526 - 2s/epoch - 33ms/step\n",
            "\n",
            "Epoch 18/100\n",
            "\n",
            "58/58 - 2s - loss: 0.3714 - accuracy: 0.8135 - precision: 0.8649 - recall: 0.8347 - 2s/epoch - 34ms/step\n",
            "\n",
            "Epoch 19/100\n",
            "\n",
            "58/58 - 2s - loss: 0.3769 - accuracy: 0.8228 - precision: 0.8706 - recall: 0.8412 - 2s/epoch - 34ms/step\n",
            "\n",
            "Epoch 20/100\n",
            "\n",
            "58/58 - 2s - loss: 0.3622 - accuracy: 0.8255 - precision: 0.8732 - recall: 0.8506 - 2s/epoch - 34ms/step\n",
            "\n",
            "Epoch 21/100\n",
            "\n",
            "58/58 - 2s - loss: 0.3664 - accuracy: 0.8238 - precision: 0.8653 - recall: 0.8546 - 2s/epoch - 34ms/step\n",
            "\n",
            "Epoch 22/100\n",
            "\n",
            "58/58 - 2s - loss: 0.3441 - accuracy: 0.8299 - precision: 0.8705 - recall: 0.8494 - 2s/epoch - 34ms/step\n",
            "\n",
            "Epoch 23/100\n",
            "\n",
            "58/58 - 2s - loss: 0.3536 - accuracy: 0.8324 - precision: 0.8802 - recall: 0.8477 - 2s/epoch - 34ms/step\n",
            "\n",
            "Epoch 24/100\n",
            "\n",
            "58/58 - 2s - loss: 0.3416 - accuracy: 0.8304 - precision: 0.8747 - recall: 0.8598 - 2s/epoch - 34ms/step\n",
            "\n",
            "Epoch 25/100\n",
            "\n",
            "58/58 - 2s - loss: 0.3429 - accuracy: 0.8353 - precision: 0.8773 - recall: 0.8592 - 2s/epoch - 33ms/step\n",
            "\n",
            "Epoch 26/100\n",
            "\n",
            "58/58 - 2s - loss: 0.3421 - accuracy: 0.8394 - precision: 0.8796 - recall: 0.8672 - 2s/epoch - 34ms/step\n",
            "\n",
            "Epoch 27/100\n",
            "\n",
            "58/58 - 2s - loss: 0.3360 - accuracy: 0.8429 - precision: 0.8800 - recall: 0.8682 - 2s/epoch - 35ms/step\n",
            "\n",
            "Epoch 28/100\n",
            "\n",
            "58/58 - 2s - loss: 0.3265 - accuracy: 0.8452 - precision: 0.8871 - recall: 0.8654 - 2s/epoch - 36ms/step\n",
            "\n",
            "Epoch 29/100\n",
            "\n",
            "58/58 - 2s - loss: 0.3110 - accuracy: 0.8493 - precision: 0.8873 - recall: 0.8722 - 2s/epoch - 33ms/step\n",
            "\n",
            "Epoch 30/100\n",
            "\n",
            "58/58 - 2s - loss: 0.3265 - accuracy: 0.8468 - precision: 0.8845 - recall: 0.8719 - 2s/epoch - 35ms/step\n",
            "\n",
            "Epoch 31/100\n",
            "\n",
            "58/58 - 2s - loss: 0.3222 - accuracy: 0.8485 - precision: 0.8845 - recall: 0.8773 - 2s/epoch - 34ms/step\n",
            "\n",
            "Epoch 32/100\n",
            "\n",
            "58/58 - 2s - loss: 0.3241 - accuracy: 0.8415 - precision: 0.8774 - recall: 0.8703 - 2s/epoch - 33ms/step\n",
            "\n",
            "Epoch 33/100\n",
            "\n",
            "58/58 - 2s - loss: 0.3247 - accuracy: 0.8405 - precision: 0.8800 - recall: 0.8654 - 2s/epoch - 34ms/step\n",
            "\n",
            "Epoch 34/100\n",
            "\n",
            "58/58 - 2s - loss: 0.3084 - accuracy: 0.8592 - precision: 0.8950 - recall: 0.8831 - 2s/epoch - 34ms/step\n",
            "\n",
            "Epoch 35/100\n",
            "\n",
            "58/58 - 2s - loss: 0.3086 - accuracy: 0.8617 - precision: 0.8946 - recall: 0.8811 - 2s/epoch - 33ms/step\n",
            "\n",
            "Epoch 36/100\n",
            "\n",
            "58/58 - 2s - loss: 0.3144 - accuracy: 0.8542 - precision: 0.8866 - recall: 0.8836 - 2s/epoch - 34ms/step\n",
            "\n",
            "Epoch 37/100\n",
            "\n",
            "58/58 - 2s - loss: 0.3002 - accuracy: 0.8607 - precision: 0.8950 - recall: 0.8829 - 2s/epoch - 34ms/step\n",
            "\n",
            "Epoch 38/100\n",
            "\n",
            "58/58 - 2s - loss: 0.2903 - accuracy: 0.8665 - precision: 0.8997 - recall: 0.8872 - 2s/epoch - 36ms/step\n",
            "\n",
            "Epoch 39/100\n",
            "\n",
            "58/58 - 2s - loss: 0.2941 - accuracy: 0.8614 - precision: 0.8915 - recall: 0.8823 - 2s/epoch - 36ms/step\n",
            "\n",
            "Epoch 40/100\n",
            "\n",
            "58/58 - 2s - loss: 0.2694 - accuracy: 0.8756 - precision: 0.9047 - recall: 0.8956 - 2s/epoch - 34ms/step\n",
            "\n",
            "Epoch 41/100\n",
            "\n",
            "58/58 - 2s - loss: 0.2551 - accuracy: 0.8864 - precision: 0.9107 - recall: 0.9107 - 2s/epoch - 33ms/step\n",
            "\n",
            "Epoch 42/100\n",
            "\n",
            "58/58 - 2s - loss: 0.2852 - accuracy: 0.8702 - precision: 0.8980 - recall: 0.8912 - 2s/epoch - 33ms/step\n",
            "\n",
            "Epoch 43/100\n",
            "\n",
            "58/58 - 2s - loss: 0.2467 - accuracy: 0.8913 - precision: 0.9137 - recall: 0.9148 - 2s/epoch - 34ms/step\n",
            "\n",
            "Epoch 44/100\n",
            "\n",
            "58/58 - 2s - loss: 0.2657 - accuracy: 0.8777 - precision: 0.9022 - recall: 0.9060 - 2s/epoch - 34ms/step\n",
            "\n",
            "Epoch 45/100\n",
            "\n",
            "58/58 - 2s - loss: 0.2659 - accuracy: 0.8783 - precision: 0.9012 - recall: 0.9110 - 2s/epoch - 33ms/step\n",
            "\n",
            "Epoch 46/100\n",
            "\n",
            "58/58 - 2s - loss: 0.2643 - accuracy: 0.8853 - precision: 0.9135 - recall: 0.9030 - 2s/epoch - 36ms/step\n",
            "\n",
            "Epoch 47/100\n",
            "\n",
            "58/58 - 2s - loss: 0.2446 - accuracy: 0.8940 - precision: 0.9179 - recall: 0.9159 - 2s/epoch - 34ms/step\n",
            "\n",
            "Epoch 48/100\n",
            "\n",
            "58/58 - 2s - loss: 0.2345 - accuracy: 0.8969 - precision: 0.9221 - recall: 0.9132 - 2s/epoch - 34ms/step\n",
            "\n",
            "Epoch 49/100\n",
            "\n",
            "58/58 - 2s - loss: 0.2461 - accuracy: 0.8910 - precision: 0.9095 - recall: 0.9130 - 2s/epoch - 33ms/step\n",
            "\n",
            "Epoch 50/100\n",
            "\n",
            "58/58 - 2s - loss: 0.2252 - accuracy: 0.9038 - precision: 0.9231 - recall: 0.9223 - 2s/epoch - 33ms/step\n",
            "\n",
            "Epoch 51/100\n",
            "\n",
            "58/58 - 2s - loss: 0.2248 - accuracy: 0.9053 - precision: 0.9219 - recall: 0.9251 - 2s/epoch - 35ms/step\n",
            "\n",
            "Epoch 52/100\n",
            "\n",
            "58/58 - 2s - loss: 0.2180 - accuracy: 0.9049 - precision: 0.9226 - recall: 0.9238 - 2s/epoch - 34ms/step\n",
            "\n",
            "Epoch 53/100\n",
            "\n",
            "58/58 - 2s - loss: 0.2487 - accuracy: 0.8868 - precision: 0.9113 - recall: 0.9135 - 2s/epoch - 34ms/step\n",
            "\n",
            "Epoch 54/100\n",
            "\n",
            "58/58 - 2s - loss: 0.1924 - accuracy: 0.9176 - precision: 0.9368 - recall: 0.9333 - 2s/epoch - 36ms/step\n",
            "\n",
            "Epoch 55/100\n",
            "\n",
            "58/58 - 2s - loss: 0.1952 - accuracy: 0.9180 - precision: 0.9357 - recall: 0.9341 - 2s/epoch - 34ms/step\n",
            "\n",
            "Epoch 56/100\n",
            "\n",
            "58/58 - 2s - loss: 0.2147 - accuracy: 0.9057 - precision: 0.9281 - recall: 0.9227 - 2s/epoch - 36ms/step\n",
            "\n",
            "Epoch 57/100\n",
            "\n",
            "58/58 - 2s - loss: 0.1999 - accuracy: 0.9135 - precision: 0.9278 - recall: 0.9367 - 2s/epoch - 34ms/step\n",
            "\n",
            "Epoch 58/100\n",
            "\n",
            "58/58 - 2s - loss: 0.1905 - accuracy: 0.9178 - precision: 0.9327 - recall: 0.9378 - 2s/epoch - 36ms/step\n",
            "\n",
            "Epoch 59/100\n",
            "\n",
            "58/58 - 2s - loss: 0.1835 - accuracy: 0.9268 - precision: 0.9402 - recall: 0.9454 - 2s/epoch - 38ms/step\n",
            "\n",
            "Epoch 60/100\n",
            "\n",
            "58/58 - 2s - loss: 0.1782 - accuracy: 0.9322 - precision: 0.9484 - recall: 0.9431 - 2s/epoch - 36ms/step\n",
            "\n",
            "Epoch 61/100\n",
            "\n",
            "58/58 - 2s - loss: 0.1742 - accuracy: 0.9289 - precision: 0.9448 - recall: 0.9432 - 2s/epoch - 38ms/step\n",
            "\n",
            "Epoch 62/100\n",
            "\n",
            "58/58 - 2s - loss: 0.1775 - accuracy: 0.9269 - precision: 0.9421 - recall: 0.9433 - 2s/epoch - 36ms/step\n",
            "\n",
            "Epoch 63/100\n",
            "\n",
            "58/58 - 2s - loss: 0.1715 - accuracy: 0.9269 - precision: 0.9409 - recall: 0.9430 - 2s/epoch - 36ms/step\n",
            "\n",
            "Epoch 64/100\n",
            "\n",
            "58/58 - 2s - loss: 0.1578 - accuracy: 0.9387 - precision: 0.9555 - recall: 0.9481 - 2s/epoch - 34ms/step\n",
            "\n",
            "Epoch 65/100\n",
            "\n",
            "58/58 - 2s - loss: 0.1755 - accuracy: 0.9303 - precision: 0.9426 - recall: 0.9450 - 2s/epoch - 34ms/step\n",
            "\n",
            "Epoch 66/100\n",
            "\n",
            "58/58 - 2s - loss: 0.1466 - accuracy: 0.9432 - precision: 0.9565 - recall: 0.9541 - 2s/epoch - 34ms/step\n",
            "\n",
            "Epoch 67/100\n",
            "\n",
            "58/58 - 2s - loss: 0.1584 - accuracy: 0.9368 - precision: 0.9515 - recall: 0.9461 - 2s/epoch - 34ms/step\n",
            "\n",
            "Epoch 68/100\n",
            "\n",
            "58/58 - 2s - loss: 0.1652 - accuracy: 0.9318 - precision: 0.9457 - recall: 0.9461 - 2s/epoch - 36ms/step\n",
            "\n",
            "Epoch 69/100\n",
            "\n",
            "58/58 - 2s - loss: 0.1455 - accuracy: 0.9419 - precision: 0.9560 - recall: 0.9488 - 2s/epoch - 34ms/step\n",
            "\n",
            "Epoch 70/100\n",
            "\n",
            "58/58 - 2s - loss: 0.1671 - accuracy: 0.9307 - precision: 0.9458 - recall: 0.9438 - 2s/epoch - 36ms/step\n",
            "\n",
            "Epoch 71/100\n",
            "\n",
            "58/58 - 2s - loss: 0.1413 - accuracy: 0.9471 - precision: 0.9618 - recall: 0.9552 - 2s/epoch - 34ms/step\n",
            "\n",
            "Epoch 72/100\n",
            "\n",
            "58/58 - 2s - loss: 0.1395 - accuracy: 0.9460 - precision: 0.9566 - recall: 0.9574 - 2s/epoch - 36ms/step\n",
            "\n",
            "Epoch 73/100\n",
            "\n",
            "58/58 - 2s - loss: 0.1190 - accuracy: 0.9577 - precision: 0.9649 - recall: 0.9679 - 2s/epoch - 36ms/step\n",
            "\n",
            "Epoch 74/100\n",
            "\n",
            "58/58 - 2s - loss: 0.1312 - accuracy: 0.9513 - precision: 0.9621 - recall: 0.9621 - 2s/epoch - 35ms/step\n",
            "\n",
            "Epoch 75/100\n",
            "\n",
            "58/58 - 2s - loss: 0.1265 - accuracy: 0.9499 - precision: 0.9604 - recall: 0.9599 - 2s/epoch - 34ms/step\n",
            "\n",
            "Epoch 76/100\n",
            "\n",
            "58/58 - 2s - loss: 0.1057 - accuracy: 0.9617 - precision: 0.9714 - recall: 0.9680 - 2s/epoch - 34ms/step\n",
            "\n",
            "Epoch 77/100\n",
            "\n",
            "58/58 - 2s - loss: 0.1163 - accuracy: 0.9572 - precision: 0.9646 - recall: 0.9679 - 2s/epoch - 36ms/step\n",
            "\n",
            "Epoch 78/100\n",
            "\n",
            "58/58 - 2s - loss: 0.1251 - accuracy: 0.9523 - precision: 0.9629 - recall: 0.9600 - 2s/epoch - 34ms/step\n",
            "\n",
            "Epoch 79/100\n",
            "\n",
            "58/58 - 2s - loss: 0.1037 - accuracy: 0.9596 - precision: 0.9693 - recall: 0.9673 - 2s/epoch - 36ms/step\n",
            "\n",
            "Epoch 80/100\n",
            "\n",
            "58/58 - 2s - loss: 0.1048 - accuracy: 0.9561 - precision: 0.9665 - recall: 0.9645 - 2s/epoch - 34ms/step\n",
            "\n",
            "Epoch 81/100\n",
            "\n",
            "58/58 - 2s - loss: 0.1219 - accuracy: 0.9525 - precision: 0.9611 - recall: 0.9619 - 2s/epoch - 34ms/step\n",
            "\n",
            "Epoch 82/100\n",
            "\n",
            "58/58 - 2s - loss: 0.1171 - accuracy: 0.9544 - precision: 0.9648 - recall: 0.9644 - 2s/epoch - 34ms/step\n",
            "\n",
            "Epoch 83/100\n",
            "\n",
            "58/58 - 2s - loss: 0.1176 - accuracy: 0.9534 - precision: 0.9614 - recall: 0.9639 - 2s/epoch - 34ms/step\n",
            "\n",
            "Epoch 84/100\n",
            "\n",
            "58/58 - 2s - loss: 0.0939 - accuracy: 0.9665 - precision: 0.9744 - recall: 0.9718 - 2s/epoch - 34ms/step\n",
            "\n",
            "Epoch 85/100\n",
            "\n",
            "58/58 - 2s - loss: 0.0933 - accuracy: 0.9656 - precision: 0.9727 - recall: 0.9739 - 2s/epoch - 36ms/step\n",
            "\n",
            "Epoch 86/100\n",
            "\n",
            "58/58 - 2s - loss: 0.1279 - accuracy: 0.9471 - precision: 0.9580 - recall: 0.9588 - 2s/epoch - 34ms/step\n",
            "\n",
            "Epoch 87/100\n",
            "\n",
            "58/58 - 2s - loss: 0.0923 - accuracy: 0.9660 - precision: 0.9716 - recall: 0.9741 - 2s/epoch - 33ms/step\n",
            "\n",
            "Epoch 88/100\n",
            "\n",
            "58/58 - 2s - loss: 0.1168 - accuracy: 0.9509 - precision: 0.9605 - recall: 0.9626 - 2s/epoch - 33ms/step\n",
            "\n",
            "Epoch 89/100\n",
            "\n",
            "58/58 - 2s - loss: 0.1009 - accuracy: 0.9619 - precision: 0.9708 - recall: 0.9692 - 2s/epoch - 35ms/step\n",
            "\n",
            "Epoch 90/100\n",
            "\n",
            "58/58 - 2s - loss: 0.0677 - accuracy: 0.9780 - precision: 0.9810 - recall: 0.9840 - 2s/epoch - 34ms/step\n",
            "\n",
            "Epoch 91/100\n",
            "\n",
            "58/58 - 2s - loss: 0.0730 - accuracy: 0.9789 - precision: 0.9841 - recall: 0.9824 - 2s/epoch - 35ms/step\n",
            "\n",
            "Epoch 92/100\n",
            "\n",
            "58/58 - 2s - loss: 0.0703 - accuracy: 0.9775 - precision: 0.9812 - recall: 0.9837 - 2s/epoch - 34ms/step\n",
            "\n",
            "Epoch 93/100\n",
            "\n",
            "58/58 - 2s - loss: 0.0756 - accuracy: 0.9760 - precision: 0.9795 - recall: 0.9824 - 2s/epoch - 34ms/step\n",
            "\n",
            "Epoch 94/100\n",
            "\n",
            "58/58 - 2s - loss: 0.0631 - accuracy: 0.9809 - precision: 0.9860 - recall: 0.9838 - 2s/epoch - 36ms/step\n",
            "\n",
            "Epoch 95/100\n",
            "\n",
            "58/58 - 2s - loss: 0.0543 - accuracy: 0.9819 - precision: 0.9865 - recall: 0.9853 - 2s/epoch - 34ms/step\n",
            "\n",
            "Epoch 96/100\n",
            "\n",
            "58/58 - 2s - loss: 0.0526 - accuracy: 0.9825 - precision: 0.9866 - recall: 0.9862 - 2s/epoch - 34ms/step\n",
            "\n",
            "Epoch 97/100\n",
            "\n",
            "58/58 - 2s - loss: 0.0841 - accuracy: 0.9697 - precision: 0.9764 - recall: 0.9747 - 2s/epoch - 36ms/step\n",
            "\n",
            "Epoch 98/100\n",
            "\n",
            "58/58 - 2s - loss: 0.0606 - accuracy: 0.9781 - precision: 0.9844 - recall: 0.9807 - 2s/epoch - 36ms/step\n",
            "\n",
            "Epoch 99/100\n",
            "\n",
            "58/58 - 2s - loss: 0.0670 - accuracy: 0.9767 - precision: 0.9820 - recall: 0.9816 - 2s/epoch - 36ms/step\n",
            "\n",
            "Epoch 100/100\n",
            "\n",
            "58/58 - 2s - loss: 0.0694 - accuracy: 0.9745 - precision: 0.9810 - recall: 0.9793 - 2s/epoch - 36ms/step\n",
            "\n",
            "message: Error ID is - 34ecc492-b1ca-4edd-af3d-f61f16b162a1 - Error from upstream service: Client error '400 Bad Request' for url 'http://supervisor-prod-private.antigranular.com/privacyRequest'\n",
            "For more information check: https://httpstatuses.com/400. Response text: {\"detail\":\"Maximum delta or epsilon exceeded per query. Per query limits are eps : 1 and delta : 0.001\"}\n",
            "\n",
            "message: Error ID is - eb712d44-77c0-4533-a572-3aeb12d2ae9a - Error from upstream service: Client error '400 Bad Request' for url 'http://supervisor-prod-private.antigranular.com/privacyRequest'\n",
            "For more information check: https://httpstatuses.com/400. Response text: {\"detail\":\"Maximum delta or epsilon exceeded per query. Per query limits are eps : 1 and delta : 0.001\"}\n",
            "\n",
            "\u001b[0;31mValueError\u001b[0m: Request Limit Exceeded!\n"
          ]
        }
      ]
    },
    {
      "cell_type": "code",
      "source": [
        "%%ag\n",
        "y_pred = dp_model.predict(PrivateDataFrame(x_test), label_columns=[\"output\"])\n"
      ],
      "metadata": {
        "id": "pD55pZjs8LGe",
        "colab": {
          "base_uri": "https://localhost:8080/"
        },
        "outputId": "ba80e88a-7581-49d9-e3ae-21526246de47"
      },
      "execution_count": 43,
      "outputs": [
        {
          "output_type": "stream",
          "name": "stdout",
          "text": [
            "\r 1/13 [=>............................] - ETA: 2s\n",
            "\b\b\b\b\b\b\b\b\b\b\b\b\b\b\b\b\b\b\b\b\b\b\b\b\b\b\b\b\b\b\b\b\b\b\b\b\b\b\b\b\b\b\b\b\b\b\b\b\r 3/13 [=====>........................] - ETA: 0s\n",
            "\b\b\b\b\b\b\b\b\b\b\b\b\b\b\b\b\b\b\b\b\b\b\b\b\b\b\b\b\b\b\b\b\b\b\b\b\b\b\b\b\b\b\b\b\b\b\b\b\r13/13 [==============================] - 0s 8ms/step\n",
            "\n"
          ]
        }
      ]
    },
    {
      "cell_type": "code",
      "source": [
        "%%ag\n",
        "def f(x: float) -> float:\n",
        "  if x > 0.5:\n",
        "    return 1\n",
        "  else:\n",
        "    return 0\n",
        "\n",
        "y_pred[\"output\"] = y_pred[\"output\"].map(f, output_bounds=(0, 1))\n"
      ],
      "metadata": {
        "id": "luzUYbi58REC"
      },
      "execution_count": 44,
      "outputs": []
    },
    {
      "cell_type": "code",
      "source": [
        "# %%ag\n",
        "# result = submit_predictions(y_pred)"
      ],
      "metadata": {
        "id": "SmGHrMUx8Z-N"
      },
      "execution_count": 45,
      "outputs": []
    },
    {
      "cell_type": "code",
      "source": [
        "# session.privacy_odometer()\n"
      ],
      "metadata": {
        "id": "2reot0owscEs"
      },
      "execution_count": 46,
      "outputs": []
    }
  ],
  "metadata": {
    "colab": {
      "provenance": []
    },
    "kernelspec": {
      "display_name": "Python 3",
      "name": "python3"
    },
    "language_info": {
      "name": "python"
    }
  },
  "nbformat": 4,
  "nbformat_minor": 0
}